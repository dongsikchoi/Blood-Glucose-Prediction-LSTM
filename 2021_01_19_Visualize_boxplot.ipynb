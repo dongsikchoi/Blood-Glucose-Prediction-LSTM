{
 "cells": [
  {
   "cell_type": "code",
   "execution_count": 10,
   "metadata": {
    "ExecuteTime": {
     "end_time": "2021-01-19T04:49:35.209839Z",
     "start_time": "2021-01-19T04:49:34.929667Z"
    }
   },
   "outputs": [],
   "source": [
    "import warnings\n",
    "import itertools\n",
    "import numpy as np\n",
    "import matplotlib.pyplot as plt\n",
    "warnings.filterwarnings(\"ignore\")\n",
    "plt.style.use('fivethirtyeight')\n",
    "import pandas as pd\n",
    "#import statsmodels.api as sm\n",
    "import seaborn as sns\n",
    "import matplotlib\n",
    "\n",
    "matplotlib.rcParams['axes.labelsize']=14\n",
    "matplotlib.rcParams['xtick.labelsize']=12\n",
    "matplotlib.rcParams['ytick.labelsize']=12\n",
    "matplotlib.rcParams['text.color']='k'"
   ]
  },
  {
   "cell_type": "code",
   "execution_count": 2,
   "metadata": {
    "ExecuteTime": {
     "end_time": "2021-01-19T04:37:59.691374Z",
     "start_time": "2021-01-19T04:37:59.676372Z"
    }
   },
   "outputs": [],
   "source": [
    "pd.set_option('display.max_columns',500) \n",
    "#출력시 생략 X"
   ]
  },
  {
   "cell_type": "code",
   "execution_count": 127,
   "metadata": {
    "ExecuteTime": {
     "end_time": "2021-01-19T05:13:22.881211Z",
     "start_time": "2021-01-19T05:13:22.816196Z"
    }
   },
   "outputs": [],
   "source": [
    "df1_val = pd.read_excel(\"BG_Univariate.xlsx\",sheet_name=\"Validation\")\n",
    "df1_val=df1_val.set_index('VAL')\n",
    "df1_train = pd.read_excel(\"BG_Univariate.xlsx\",sheet_name=\"Train\")\n",
    "df1_train=df1_train.set_index('TRAIN')\n",
    "df2_val = pd.read_excel(\"BG_Multivariate_Value.xlsx\",sheet_name=\"Validation\")\n",
    "df2_val=df2_val.set_index('VAL')\n",
    "df2_train = pd.read_excel(\"BG_Multivariate_Value.xlsx\",sheet_name=\"Train\")\n",
    "df2_train=df2_train.set_index('TRAIN')\n",
    "df3_val = pd.read_excel(\"BG_Multivariate_0_1.xlsx\",sheet_name=\"Validation\")\n",
    "df3_val=df3_val.set_index('VAL')\n",
    "df3_train = pd.read_excel(\"BG_Multivariate_0_1.xlsx\",sheet_name=\"Train\")\n",
    "df3_train=df3_train.set_index('TRAIN')"
   ]
  },
  {
   "cell_type": "code",
   "execution_count": 128,
   "metadata": {
    "ExecuteTime": {
     "end_time": "2021-01-19T05:13:22.991498Z",
     "start_time": "2021-01-19T05:13:22.987495Z"
    }
   },
   "outputs": [],
   "source": [
    "cols=['Comment']\n",
    "df2_val.drop(cols, axis=1, inplace=True)\n",
    "df2_train.drop(cols, axis=1, inplace=True)\n",
    "df3_val.drop(cols, axis=1, inplace=True)\n",
    "df3_train.drop(cols, axis=1, inplace=True)"
   ]
  },
  {
   "cell_type": "code",
   "execution_count": 129,
   "metadata": {
    "ExecuteTime": {
     "end_time": "2021-01-19T05:13:23.256193Z",
     "start_time": "2021-01-19T05:13:23.228186Z"
    }
   },
   "outputs": [
    {
     "data": {
      "text/html": [
       "<div>\n",
       "<style scoped>\n",
       "    .dataframe tbody tr th:only-of-type {\n",
       "        vertical-align: middle;\n",
       "    }\n",
       "\n",
       "    .dataframe tbody tr th {\n",
       "        vertical-align: top;\n",
       "    }\n",
       "\n",
       "    .dataframe thead th {\n",
       "        text-align: right;\n",
       "    }\n",
       "</style>\n",
       "<table border=\"1\" class=\"dataframe\">\n",
       "  <thead>\n",
       "    <tr style=\"text-align: right;\">\n",
       "      <th></th>\n",
       "      <th>RNN_15</th>\n",
       "      <th>RNN_30</th>\n",
       "      <th>RNN_60</th>\n",
       "      <th>LSTM_15</th>\n",
       "      <th>LSTM_30</th>\n",
       "      <th>LSTM_60</th>\n",
       "      <th>SLSTM_15</th>\n",
       "      <th>SLSTM_30</th>\n",
       "      <th>SLSTM_60</th>\n",
       "      <th>BLSTM_15</th>\n",
       "      <th>BLSTM_30</th>\n",
       "      <th>BLSTM_60</th>\n",
       "      <th>GRU_15</th>\n",
       "      <th>GRU_30</th>\n",
       "      <th>GRU_60</th>\n",
       "    </tr>\n",
       "    <tr>\n",
       "      <th>VAL</th>\n",
       "      <th></th>\n",
       "      <th></th>\n",
       "      <th></th>\n",
       "      <th></th>\n",
       "      <th></th>\n",
       "      <th></th>\n",
       "      <th></th>\n",
       "      <th></th>\n",
       "      <th></th>\n",
       "      <th></th>\n",
       "      <th></th>\n",
       "      <th></th>\n",
       "      <th></th>\n",
       "      <th></th>\n",
       "      <th></th>\n",
       "    </tr>\n",
       "  </thead>\n",
       "  <tbody>\n",
       "    <tr>\n",
       "      <th>Sam_1</th>\n",
       "      <td>NaN</td>\n",
       "      <td>NaN</td>\n",
       "      <td>NaN</td>\n",
       "      <td>NaN</td>\n",
       "      <td>NaN</td>\n",
       "      <td>NaN</td>\n",
       "      <td>NaN</td>\n",
       "      <td>NaN</td>\n",
       "      <td>NaN</td>\n",
       "      <td>NaN</td>\n",
       "      <td>NaN</td>\n",
       "      <td>NaN</td>\n",
       "      <td>NaN</td>\n",
       "      <td>NaN</td>\n",
       "      <td>NaN</td>\n",
       "    </tr>\n",
       "    <tr>\n",
       "      <th>Sam_3</th>\n",
       "      <td>NaN</td>\n",
       "      <td>NaN</td>\n",
       "      <td>NaN</td>\n",
       "      <td>NaN</td>\n",
       "      <td>NaN</td>\n",
       "      <td>NaN</td>\n",
       "      <td>NaN</td>\n",
       "      <td>NaN</td>\n",
       "      <td>NaN</td>\n",
       "      <td>NaN</td>\n",
       "      <td>NaN</td>\n",
       "      <td>NaN</td>\n",
       "      <td>NaN</td>\n",
       "      <td>NaN</td>\n",
       "      <td>NaN</td>\n",
       "    </tr>\n",
       "    <tr>\n",
       "      <th>Sam_4</th>\n",
       "      <td>12.348254</td>\n",
       "      <td>20.032011</td>\n",
       "      <td>35.058868</td>\n",
       "      <td>12.714410</td>\n",
       "      <td>20.201773</td>\n",
       "      <td>35.618450</td>\n",
       "      <td>11.113446</td>\n",
       "      <td>18.124851</td>\n",
       "      <td>31.904629</td>\n",
       "      <td>11.407502</td>\n",
       "      <td>19.842045</td>\n",
       "      <td>35.741947</td>\n",
       "      <td>12.232445</td>\n",
       "      <td>19.157049</td>\n",
       "      <td>34.418507</td>\n",
       "    </tr>\n",
       "    <tr>\n",
       "      <th>Sam_5</th>\n",
       "      <td>11.030983</td>\n",
       "      <td>20.169693</td>\n",
       "      <td>33.031170</td>\n",
       "      <td>11.138407</td>\n",
       "      <td>19.638182</td>\n",
       "      <td>34.081615</td>\n",
       "      <td>10.909716</td>\n",
       "      <td>20.304680</td>\n",
       "      <td>34.685020</td>\n",
       "      <td>11.274434</td>\n",
       "      <td>20.125393</td>\n",
       "      <td>35.691242</td>\n",
       "      <td>10.601842</td>\n",
       "      <td>19.622520</td>\n",
       "      <td>34.607445</td>\n",
       "    </tr>\n",
       "    <tr>\n",
       "      <th>Sam_6</th>\n",
       "      <td>NaN</td>\n",
       "      <td>NaN</td>\n",
       "      <td>NaN</td>\n",
       "      <td>NaN</td>\n",
       "      <td>NaN</td>\n",
       "      <td>NaN</td>\n",
       "      <td>NaN</td>\n",
       "      <td>NaN</td>\n",
       "      <td>NaN</td>\n",
       "      <td>NaN</td>\n",
       "      <td>NaN</td>\n",
       "      <td>NaN</td>\n",
       "      <td>NaN</td>\n",
       "      <td>NaN</td>\n",
       "      <td>NaN</td>\n",
       "    </tr>\n",
       "    <tr>\n",
       "      <th>Sam_7</th>\n",
       "      <td>NaN</td>\n",
       "      <td>NaN</td>\n",
       "      <td>NaN</td>\n",
       "      <td>NaN</td>\n",
       "      <td>NaN</td>\n",
       "      <td>NaN</td>\n",
       "      <td>NaN</td>\n",
       "      <td>NaN</td>\n",
       "      <td>NaN</td>\n",
       "      <td>NaN</td>\n",
       "      <td>NaN</td>\n",
       "      <td>NaN</td>\n",
       "      <td>NaN</td>\n",
       "      <td>NaN</td>\n",
       "      <td>NaN</td>\n",
       "    </tr>\n",
       "    <tr>\n",
       "      <th>Sam_8</th>\n",
       "      <td>NaN</td>\n",
       "      <td>NaN</td>\n",
       "      <td>NaN</td>\n",
       "      <td>NaN</td>\n",
       "      <td>NaN</td>\n",
       "      <td>NaN</td>\n",
       "      <td>NaN</td>\n",
       "      <td>NaN</td>\n",
       "      <td>NaN</td>\n",
       "      <td>NaN</td>\n",
       "      <td>NaN</td>\n",
       "      <td>NaN</td>\n",
       "      <td>NaN</td>\n",
       "      <td>NaN</td>\n",
       "      <td>NaN</td>\n",
       "    </tr>\n",
       "    <tr>\n",
       "      <th>Sam_9</th>\n",
       "      <td>NaN</td>\n",
       "      <td>NaN</td>\n",
       "      <td>NaN</td>\n",
       "      <td>NaN</td>\n",
       "      <td>NaN</td>\n",
       "      <td>NaN</td>\n",
       "      <td>NaN</td>\n",
       "      <td>NaN</td>\n",
       "      <td>NaN</td>\n",
       "      <td>NaN</td>\n",
       "      <td>NaN</td>\n",
       "      <td>NaN</td>\n",
       "      <td>NaN</td>\n",
       "      <td>NaN</td>\n",
       "      <td>NaN</td>\n",
       "    </tr>\n",
       "    <tr>\n",
       "      <th>Sam_10</th>\n",
       "      <td>10.255667</td>\n",
       "      <td>15.723925</td>\n",
       "      <td>29.093735</td>\n",
       "      <td>8.830861</td>\n",
       "      <td>16.365564</td>\n",
       "      <td>28.707188</td>\n",
       "      <td>9.476698</td>\n",
       "      <td>15.699814</td>\n",
       "      <td>27.220388</td>\n",
       "      <td>8.993172</td>\n",
       "      <td>15.732971</td>\n",
       "      <td>31.237423</td>\n",
       "      <td>9.695850</td>\n",
       "      <td>17.592098</td>\n",
       "      <td>29.185032</td>\n",
       "    </tr>\n",
       "    <tr>\n",
       "      <th>Sam_11</th>\n",
       "      <td>NaN</td>\n",
       "      <td>NaN</td>\n",
       "      <td>NaN</td>\n",
       "      <td>NaN</td>\n",
       "      <td>NaN</td>\n",
       "      <td>NaN</td>\n",
       "      <td>NaN</td>\n",
       "      <td>NaN</td>\n",
       "      <td>NaN</td>\n",
       "      <td>NaN</td>\n",
       "      <td>NaN</td>\n",
       "      <td>NaN</td>\n",
       "      <td>NaN</td>\n",
       "      <td>NaN</td>\n",
       "      <td>NaN</td>\n",
       "    </tr>\n",
       "    <tr>\n",
       "      <th>Sam_12</th>\n",
       "      <td>NaN</td>\n",
       "      <td>NaN</td>\n",
       "      <td>NaN</td>\n",
       "      <td>NaN</td>\n",
       "      <td>NaN</td>\n",
       "      <td>NaN</td>\n",
       "      <td>NaN</td>\n",
       "      <td>NaN</td>\n",
       "      <td>NaN</td>\n",
       "      <td>NaN</td>\n",
       "      <td>NaN</td>\n",
       "      <td>NaN</td>\n",
       "      <td>NaN</td>\n",
       "      <td>NaN</td>\n",
       "      <td>NaN</td>\n",
       "    </tr>\n",
       "    <tr>\n",
       "      <th>Sam_13</th>\n",
       "      <td>NaN</td>\n",
       "      <td>NaN</td>\n",
       "      <td>NaN</td>\n",
       "      <td>NaN</td>\n",
       "      <td>NaN</td>\n",
       "      <td>NaN</td>\n",
       "      <td>NaN</td>\n",
       "      <td>NaN</td>\n",
       "      <td>NaN</td>\n",
       "      <td>NaN</td>\n",
       "      <td>NaN</td>\n",
       "      <td>NaN</td>\n",
       "      <td>NaN</td>\n",
       "      <td>NaN</td>\n",
       "      <td>NaN</td>\n",
       "    </tr>\n",
       "    <tr>\n",
       "      <th>Sam_14</th>\n",
       "      <td>NaN</td>\n",
       "      <td>NaN</td>\n",
       "      <td>NaN</td>\n",
       "      <td>NaN</td>\n",
       "      <td>NaN</td>\n",
       "      <td>NaN</td>\n",
       "      <td>NaN</td>\n",
       "      <td>NaN</td>\n",
       "      <td>NaN</td>\n",
       "      <td>NaN</td>\n",
       "      <td>NaN</td>\n",
       "      <td>NaN</td>\n",
       "      <td>NaN</td>\n",
       "      <td>NaN</td>\n",
       "      <td>NaN</td>\n",
       "    </tr>\n",
       "    <tr>\n",
       "      <th>Sam_15</th>\n",
       "      <td>NaN</td>\n",
       "      <td>NaN</td>\n",
       "      <td>NaN</td>\n",
       "      <td>NaN</td>\n",
       "      <td>NaN</td>\n",
       "      <td>NaN</td>\n",
       "      <td>NaN</td>\n",
       "      <td>NaN</td>\n",
       "      <td>NaN</td>\n",
       "      <td>NaN</td>\n",
       "      <td>NaN</td>\n",
       "      <td>NaN</td>\n",
       "      <td>NaN</td>\n",
       "      <td>NaN</td>\n",
       "      <td>NaN</td>\n",
       "    </tr>\n",
       "    <tr>\n",
       "      <th>Sam_16</th>\n",
       "      <td>NaN</td>\n",
       "      <td>NaN</td>\n",
       "      <td>NaN</td>\n",
       "      <td>NaN</td>\n",
       "      <td>NaN</td>\n",
       "      <td>NaN</td>\n",
       "      <td>NaN</td>\n",
       "      <td>NaN</td>\n",
       "      <td>NaN</td>\n",
       "      <td>NaN</td>\n",
       "      <td>NaN</td>\n",
       "      <td>NaN</td>\n",
       "      <td>NaN</td>\n",
       "      <td>NaN</td>\n",
       "      <td>NaN</td>\n",
       "    </tr>\n",
       "    <tr>\n",
       "      <th>Sam_17</th>\n",
       "      <td>NaN</td>\n",
       "      <td>NaN</td>\n",
       "      <td>NaN</td>\n",
       "      <td>NaN</td>\n",
       "      <td>NaN</td>\n",
       "      <td>NaN</td>\n",
       "      <td>NaN</td>\n",
       "      <td>NaN</td>\n",
       "      <td>NaN</td>\n",
       "      <td>NaN</td>\n",
       "      <td>NaN</td>\n",
       "      <td>NaN</td>\n",
       "      <td>NaN</td>\n",
       "      <td>NaN</td>\n",
       "      <td>NaN</td>\n",
       "    </tr>\n",
       "    <tr>\n",
       "      <th>Sam_18</th>\n",
       "      <td>NaN</td>\n",
       "      <td>NaN</td>\n",
       "      <td>NaN</td>\n",
       "      <td>NaN</td>\n",
       "      <td>NaN</td>\n",
       "      <td>NaN</td>\n",
       "      <td>NaN</td>\n",
       "      <td>NaN</td>\n",
       "      <td>NaN</td>\n",
       "      <td>NaN</td>\n",
       "      <td>NaN</td>\n",
       "      <td>NaN</td>\n",
       "      <td>NaN</td>\n",
       "      <td>NaN</td>\n",
       "      <td>NaN</td>\n",
       "    </tr>\n",
       "    <tr>\n",
       "      <th>Sam_19</th>\n",
       "      <td>NaN</td>\n",
       "      <td>NaN</td>\n",
       "      <td>NaN</td>\n",
       "      <td>NaN</td>\n",
       "      <td>NaN</td>\n",
       "      <td>NaN</td>\n",
       "      <td>NaN</td>\n",
       "      <td>NaN</td>\n",
       "      <td>NaN</td>\n",
       "      <td>NaN</td>\n",
       "      <td>NaN</td>\n",
       "      <td>NaN</td>\n",
       "      <td>NaN</td>\n",
       "      <td>NaN</td>\n",
       "      <td>NaN</td>\n",
       "    </tr>\n",
       "    <tr>\n",
       "      <th>Sam_20</th>\n",
       "      <td>NaN</td>\n",
       "      <td>NaN</td>\n",
       "      <td>NaN</td>\n",
       "      <td>NaN</td>\n",
       "      <td>NaN</td>\n",
       "      <td>NaN</td>\n",
       "      <td>NaN</td>\n",
       "      <td>NaN</td>\n",
       "      <td>NaN</td>\n",
       "      <td>NaN</td>\n",
       "      <td>NaN</td>\n",
       "      <td>NaN</td>\n",
       "      <td>NaN</td>\n",
       "      <td>NaN</td>\n",
       "      <td>NaN</td>\n",
       "    </tr>\n",
       "    <tr>\n",
       "      <th>RMSE_MEAN</th>\n",
       "      <td>11.211635</td>\n",
       "      <td>18.641876</td>\n",
       "      <td>32.394591</td>\n",
       "      <td>10.894559</td>\n",
       "      <td>18.735173</td>\n",
       "      <td>32.802418</td>\n",
       "      <td>10.499953</td>\n",
       "      <td>18.043115</td>\n",
       "      <td>31.270012</td>\n",
       "      <td>10.558369</td>\n",
       "      <td>18.566803</td>\n",
       "      <td>34.223537</td>\n",
       "      <td>10.843379</td>\n",
       "      <td>18.790556</td>\n",
       "      <td>32.736995</td>\n",
       "    </tr>\n",
       "  </tbody>\n",
       "</table>\n",
       "</div>"
      ],
      "text/plain": [
       "              RNN_15     RNN_30     RNN_60    LSTM_15    LSTM_30    LSTM_60  \\\n",
       "VAL                                                                           \n",
       "Sam_1            NaN        NaN        NaN        NaN        NaN        NaN   \n",
       "Sam_3            NaN        NaN        NaN        NaN        NaN        NaN   \n",
       "Sam_4      12.348254  20.032011  35.058868  12.714410  20.201773  35.618450   \n",
       "Sam_5      11.030983  20.169693  33.031170  11.138407  19.638182  34.081615   \n",
       "Sam_6            NaN        NaN        NaN        NaN        NaN        NaN   \n",
       "Sam_7            NaN        NaN        NaN        NaN        NaN        NaN   \n",
       "Sam_8            NaN        NaN        NaN        NaN        NaN        NaN   \n",
       "Sam_9            NaN        NaN        NaN        NaN        NaN        NaN   \n",
       "Sam_10     10.255667  15.723925  29.093735   8.830861  16.365564  28.707188   \n",
       "Sam_11           NaN        NaN        NaN        NaN        NaN        NaN   \n",
       "Sam_12           NaN        NaN        NaN        NaN        NaN        NaN   \n",
       "Sam_13           NaN        NaN        NaN        NaN        NaN        NaN   \n",
       "Sam_14           NaN        NaN        NaN        NaN        NaN        NaN   \n",
       "Sam_15           NaN        NaN        NaN        NaN        NaN        NaN   \n",
       "Sam_16           NaN        NaN        NaN        NaN        NaN        NaN   \n",
       "Sam_17           NaN        NaN        NaN        NaN        NaN        NaN   \n",
       "Sam_18           NaN        NaN        NaN        NaN        NaN        NaN   \n",
       "Sam_19           NaN        NaN        NaN        NaN        NaN        NaN   \n",
       "Sam_20           NaN        NaN        NaN        NaN        NaN        NaN   \n",
       "RMSE_MEAN  11.211635  18.641876  32.394591  10.894559  18.735173  32.802418   \n",
       "\n",
       "            SLSTM_15   SLSTM_30   SLSTM_60   BLSTM_15   BLSTM_30   BLSTM_60  \\\n",
       "VAL                                                                           \n",
       "Sam_1            NaN        NaN        NaN        NaN        NaN        NaN   \n",
       "Sam_3            NaN        NaN        NaN        NaN        NaN        NaN   \n",
       "Sam_4      11.113446  18.124851  31.904629  11.407502  19.842045  35.741947   \n",
       "Sam_5      10.909716  20.304680  34.685020  11.274434  20.125393  35.691242   \n",
       "Sam_6            NaN        NaN        NaN        NaN        NaN        NaN   \n",
       "Sam_7            NaN        NaN        NaN        NaN        NaN        NaN   \n",
       "Sam_8            NaN        NaN        NaN        NaN        NaN        NaN   \n",
       "Sam_9            NaN        NaN        NaN        NaN        NaN        NaN   \n",
       "Sam_10      9.476698  15.699814  27.220388   8.993172  15.732971  31.237423   \n",
       "Sam_11           NaN        NaN        NaN        NaN        NaN        NaN   \n",
       "Sam_12           NaN        NaN        NaN        NaN        NaN        NaN   \n",
       "Sam_13           NaN        NaN        NaN        NaN        NaN        NaN   \n",
       "Sam_14           NaN        NaN        NaN        NaN        NaN        NaN   \n",
       "Sam_15           NaN        NaN        NaN        NaN        NaN        NaN   \n",
       "Sam_16           NaN        NaN        NaN        NaN        NaN        NaN   \n",
       "Sam_17           NaN        NaN        NaN        NaN        NaN        NaN   \n",
       "Sam_18           NaN        NaN        NaN        NaN        NaN        NaN   \n",
       "Sam_19           NaN        NaN        NaN        NaN        NaN        NaN   \n",
       "Sam_20           NaN        NaN        NaN        NaN        NaN        NaN   \n",
       "RMSE_MEAN  10.499953  18.043115  31.270012  10.558369  18.566803  34.223537   \n",
       "\n",
       "              GRU_15     GRU_30     GRU_60  \n",
       "VAL                                         \n",
       "Sam_1            NaN        NaN        NaN  \n",
       "Sam_3            NaN        NaN        NaN  \n",
       "Sam_4      12.232445  19.157049  34.418507  \n",
       "Sam_5      10.601842  19.622520  34.607445  \n",
       "Sam_6            NaN        NaN        NaN  \n",
       "Sam_7            NaN        NaN        NaN  \n",
       "Sam_8            NaN        NaN        NaN  \n",
       "Sam_9            NaN        NaN        NaN  \n",
       "Sam_10      9.695850  17.592098  29.185032  \n",
       "Sam_11           NaN        NaN        NaN  \n",
       "Sam_12           NaN        NaN        NaN  \n",
       "Sam_13           NaN        NaN        NaN  \n",
       "Sam_14           NaN        NaN        NaN  \n",
       "Sam_15           NaN        NaN        NaN  \n",
       "Sam_16           NaN        NaN        NaN  \n",
       "Sam_17           NaN        NaN        NaN  \n",
       "Sam_18           NaN        NaN        NaN  \n",
       "Sam_19           NaN        NaN        NaN  \n",
       "Sam_20           NaN        NaN        NaN  \n",
       "RMSE_MEAN  10.843379  18.790556  32.736995  "
      ]
     },
     "execution_count": 129,
     "metadata": {},
     "output_type": "execute_result"
    }
   ],
   "source": [
    "df2_val"
   ]
  },
  {
   "cell_type": "code",
   "execution_count": 130,
   "metadata": {
    "ExecuteTime": {
     "end_time": "2021-01-19T05:13:23.708190Z",
     "start_time": "2021-01-19T05:13:23.694186Z"
    }
   },
   "outputs": [],
   "source": [
    "df1_val=df1_val.dropna()\n",
    "df1_train=df1_train.dropna()\n",
    "df2_val=df2_val.dropna()\n",
    "df2_train=df2_train.dropna()\n",
    "df3_val=df3_val.dropna()\n",
    "df3_train=df3_train.dropna()"
   ]
  },
  {
   "cell_type": "code",
   "execution_count": 131,
   "metadata": {
    "ExecuteTime": {
     "end_time": "2021-01-19T05:13:24.127840Z",
     "start_time": "2021-01-19T05:13:24.105835Z"
    }
   },
   "outputs": [
    {
     "data": {
      "text/html": [
       "<div>\n",
       "<style scoped>\n",
       "    .dataframe tbody tr th:only-of-type {\n",
       "        vertical-align: middle;\n",
       "    }\n",
       "\n",
       "    .dataframe tbody tr th {\n",
       "        vertical-align: top;\n",
       "    }\n",
       "\n",
       "    .dataframe thead th {\n",
       "        text-align: right;\n",
       "    }\n",
       "</style>\n",
       "<table border=\"1\" class=\"dataframe\">\n",
       "  <thead>\n",
       "    <tr style=\"text-align: right;\">\n",
       "      <th></th>\n",
       "      <th>RNN_15</th>\n",
       "      <th>RNN_30</th>\n",
       "      <th>RNN_60</th>\n",
       "      <th>LSTM_15</th>\n",
       "      <th>LSTM_30</th>\n",
       "      <th>LSTM_60</th>\n",
       "      <th>SLSTM_15</th>\n",
       "      <th>SLSTM_30</th>\n",
       "      <th>SLSTM_60</th>\n",
       "      <th>BLSTM_15</th>\n",
       "      <th>BLSTM_30</th>\n",
       "      <th>BLSTM_60</th>\n",
       "      <th>GRU_15</th>\n",
       "      <th>GRU_30</th>\n",
       "      <th>GRU_60</th>\n",
       "    </tr>\n",
       "    <tr>\n",
       "      <th>VAL</th>\n",
       "      <th></th>\n",
       "      <th></th>\n",
       "      <th></th>\n",
       "      <th></th>\n",
       "      <th></th>\n",
       "      <th></th>\n",
       "      <th></th>\n",
       "      <th></th>\n",
       "      <th></th>\n",
       "      <th></th>\n",
       "      <th></th>\n",
       "      <th></th>\n",
       "      <th></th>\n",
       "      <th></th>\n",
       "      <th></th>\n",
       "    </tr>\n",
       "  </thead>\n",
       "  <tbody>\n",
       "    <tr>\n",
       "      <th>Sam_4</th>\n",
       "      <td>12.348254</td>\n",
       "      <td>20.032011</td>\n",
       "      <td>35.058868</td>\n",
       "      <td>12.714410</td>\n",
       "      <td>20.201773</td>\n",
       "      <td>35.618450</td>\n",
       "      <td>11.113446</td>\n",
       "      <td>18.124851</td>\n",
       "      <td>31.904629</td>\n",
       "      <td>11.407502</td>\n",
       "      <td>19.842045</td>\n",
       "      <td>35.741947</td>\n",
       "      <td>12.232445</td>\n",
       "      <td>19.157049</td>\n",
       "      <td>34.418507</td>\n",
       "    </tr>\n",
       "    <tr>\n",
       "      <th>Sam_5</th>\n",
       "      <td>11.030983</td>\n",
       "      <td>20.169693</td>\n",
       "      <td>33.031170</td>\n",
       "      <td>11.138407</td>\n",
       "      <td>19.638182</td>\n",
       "      <td>34.081615</td>\n",
       "      <td>10.909716</td>\n",
       "      <td>20.304680</td>\n",
       "      <td>34.685020</td>\n",
       "      <td>11.274434</td>\n",
       "      <td>20.125393</td>\n",
       "      <td>35.691242</td>\n",
       "      <td>10.601842</td>\n",
       "      <td>19.622520</td>\n",
       "      <td>34.607445</td>\n",
       "    </tr>\n",
       "    <tr>\n",
       "      <th>Sam_10</th>\n",
       "      <td>10.255667</td>\n",
       "      <td>15.723925</td>\n",
       "      <td>29.093735</td>\n",
       "      <td>8.830861</td>\n",
       "      <td>16.365564</td>\n",
       "      <td>28.707188</td>\n",
       "      <td>9.476698</td>\n",
       "      <td>15.699814</td>\n",
       "      <td>27.220388</td>\n",
       "      <td>8.993172</td>\n",
       "      <td>15.732971</td>\n",
       "      <td>31.237423</td>\n",
       "      <td>9.695850</td>\n",
       "      <td>17.592098</td>\n",
       "      <td>29.185032</td>\n",
       "    </tr>\n",
       "    <tr>\n",
       "      <th>RMSE_MEAN</th>\n",
       "      <td>11.211635</td>\n",
       "      <td>18.641876</td>\n",
       "      <td>32.394591</td>\n",
       "      <td>10.894559</td>\n",
       "      <td>18.735173</td>\n",
       "      <td>32.802418</td>\n",
       "      <td>10.499953</td>\n",
       "      <td>18.043115</td>\n",
       "      <td>31.270012</td>\n",
       "      <td>10.558369</td>\n",
       "      <td>18.566803</td>\n",
       "      <td>34.223537</td>\n",
       "      <td>10.843379</td>\n",
       "      <td>18.790556</td>\n",
       "      <td>32.736995</td>\n",
       "    </tr>\n",
       "  </tbody>\n",
       "</table>\n",
       "</div>"
      ],
      "text/plain": [
       "              RNN_15     RNN_30     RNN_60    LSTM_15    LSTM_30    LSTM_60  \\\n",
       "VAL                                                                           \n",
       "Sam_4      12.348254  20.032011  35.058868  12.714410  20.201773  35.618450   \n",
       "Sam_5      11.030983  20.169693  33.031170  11.138407  19.638182  34.081615   \n",
       "Sam_10     10.255667  15.723925  29.093735   8.830861  16.365564  28.707188   \n",
       "RMSE_MEAN  11.211635  18.641876  32.394591  10.894559  18.735173  32.802418   \n",
       "\n",
       "            SLSTM_15   SLSTM_30   SLSTM_60   BLSTM_15   BLSTM_30   BLSTM_60  \\\n",
       "VAL                                                                           \n",
       "Sam_4      11.113446  18.124851  31.904629  11.407502  19.842045  35.741947   \n",
       "Sam_5      10.909716  20.304680  34.685020  11.274434  20.125393  35.691242   \n",
       "Sam_10      9.476698  15.699814  27.220388   8.993172  15.732971  31.237423   \n",
       "RMSE_MEAN  10.499953  18.043115  31.270012  10.558369  18.566803  34.223537   \n",
       "\n",
       "              GRU_15     GRU_30     GRU_60  \n",
       "VAL                                         \n",
       "Sam_4      12.232445  19.157049  34.418507  \n",
       "Sam_5      10.601842  19.622520  34.607445  \n",
       "Sam_10      9.695850  17.592098  29.185032  \n",
       "RMSE_MEAN  10.843379  18.790556  32.736995  "
      ]
     },
     "execution_count": 131,
     "metadata": {},
     "output_type": "execute_result"
    }
   ],
   "source": [
    "df2_val"
   ]
  },
  {
   "cell_type": "code",
   "execution_count": 132,
   "metadata": {
    "ExecuteTime": {
     "end_time": "2021-01-19T05:13:24.638194Z",
     "start_time": "2021-01-19T05:13:24.630194Z"
    }
   },
   "outputs": [],
   "source": [
    "df1_val=df1_val.drop(['RMSE_MEAN'])\n",
    "df1_train=df1_train.drop(['RMSE_MEAN'])\n",
    "df2_val=df2_val.drop(['RMSE_MEAN'])\n",
    "df2_train=df2_train.drop(['RMSE_MEAN'])\n",
    "df3_val=df3_val.drop(['RMSE_MEAN'])\n",
    "df3_train=df3_train.drop(['RMSE_MEAN'])"
   ]
  },
  {
   "cell_type": "code",
   "execution_count": 133,
   "metadata": {
    "ExecuteTime": {
     "end_time": "2021-01-19T05:13:25.198196Z",
     "start_time": "2021-01-19T05:13:25.179192Z"
    }
   },
   "outputs": [],
   "source": [
    "df1_val=df1_val.sort_values(by=['VAL'],axis=0,ascending=True)\n",
    "df1_val=df1_val.reset_index(drop=True)\n",
    "df1_train=df1_train.sort_values(by=['TRAIN'],axis=0,ascending=True)\n",
    "df1_train=df1_train.reset_index(drop=True)\n",
    "df2_val=df2_val.sort_values(by=['VAL'],axis=0,ascending=True)\n",
    "df2_val=df2_val.reset_index(drop=True)\n",
    "df2_train=df2_train.sort_values(by=['TRAIN'],axis=0,ascending=True)\n",
    "df2_train=df2_train.reset_index(drop=True)\n",
    "df3_val=df3_val.sort_values(by=['VAL'],axis=0,ascending=True)\n",
    "df3_val=df3_val.reset_index(drop=True)\n",
    "df3_train=df3_train.sort_values(by=['TRAIN'],axis=0,ascending=True)\n",
    "df3_train=df3_train.reset_index(drop=True)\n"
   ]
  },
  {
   "cell_type": "code",
   "execution_count": 135,
   "metadata": {
    "ExecuteTime": {
     "end_time": "2021-01-19T05:13:33.184806Z",
     "start_time": "2021-01-19T05:13:33.165810Z"
    }
   },
   "outputs": [
    {
     "data": {
      "text/html": [
       "<div>\n",
       "<style scoped>\n",
       "    .dataframe tbody tr th:only-of-type {\n",
       "        vertical-align: middle;\n",
       "    }\n",
       "\n",
       "    .dataframe tbody tr th {\n",
       "        vertical-align: top;\n",
       "    }\n",
       "\n",
       "    .dataframe thead th {\n",
       "        text-align: right;\n",
       "    }\n",
       "</style>\n",
       "<table border=\"1\" class=\"dataframe\">\n",
       "  <thead>\n",
       "    <tr style=\"text-align: right;\">\n",
       "      <th></th>\n",
       "      <th>RNN_15</th>\n",
       "      <th>RNN_30</th>\n",
       "      <th>RNN_60</th>\n",
       "      <th>LSTM_15</th>\n",
       "      <th>LSTM_30</th>\n",
       "      <th>LSTM_60</th>\n",
       "      <th>SLSTM_15</th>\n",
       "      <th>SLSTM_30</th>\n",
       "      <th>SLSTM_60</th>\n",
       "      <th>BLSTM_15</th>\n",
       "      <th>BLSTM_30</th>\n",
       "      <th>BLSTM_60</th>\n",
       "      <th>GRU_15</th>\n",
       "      <th>GRU_30</th>\n",
       "      <th>GRU_60</th>\n",
       "    </tr>\n",
       "  </thead>\n",
       "  <tbody>\n",
       "    <tr>\n",
       "      <th>0</th>\n",
       "      <td>10.255667</td>\n",
       "      <td>15.723925</td>\n",
       "      <td>29.093735</td>\n",
       "      <td>8.830861</td>\n",
       "      <td>16.365564</td>\n",
       "      <td>28.707188</td>\n",
       "      <td>9.476698</td>\n",
       "      <td>15.699814</td>\n",
       "      <td>27.220388</td>\n",
       "      <td>8.993172</td>\n",
       "      <td>15.732971</td>\n",
       "      <td>31.237423</td>\n",
       "      <td>9.695850</td>\n",
       "      <td>17.592098</td>\n",
       "      <td>29.185032</td>\n",
       "    </tr>\n",
       "    <tr>\n",
       "      <th>1</th>\n",
       "      <td>12.348254</td>\n",
       "      <td>20.032011</td>\n",
       "      <td>35.058868</td>\n",
       "      <td>12.714410</td>\n",
       "      <td>20.201773</td>\n",
       "      <td>35.618450</td>\n",
       "      <td>11.113446</td>\n",
       "      <td>18.124851</td>\n",
       "      <td>31.904629</td>\n",
       "      <td>11.407502</td>\n",
       "      <td>19.842045</td>\n",
       "      <td>35.741947</td>\n",
       "      <td>12.232445</td>\n",
       "      <td>19.157049</td>\n",
       "      <td>34.418507</td>\n",
       "    </tr>\n",
       "    <tr>\n",
       "      <th>2</th>\n",
       "      <td>11.030983</td>\n",
       "      <td>20.169693</td>\n",
       "      <td>33.031170</td>\n",
       "      <td>11.138407</td>\n",
       "      <td>19.638182</td>\n",
       "      <td>34.081615</td>\n",
       "      <td>10.909716</td>\n",
       "      <td>20.304680</td>\n",
       "      <td>34.685020</td>\n",
       "      <td>11.274434</td>\n",
       "      <td>20.125393</td>\n",
       "      <td>35.691242</td>\n",
       "      <td>10.601842</td>\n",
       "      <td>19.622520</td>\n",
       "      <td>34.607445</td>\n",
       "    </tr>\n",
       "  </tbody>\n",
       "</table>\n",
       "</div>"
      ],
      "text/plain": [
       "      RNN_15     RNN_30     RNN_60    LSTM_15    LSTM_30    LSTM_60  \\\n",
       "0  10.255667  15.723925  29.093735   8.830861  16.365564  28.707188   \n",
       "1  12.348254  20.032011  35.058868  12.714410  20.201773  35.618450   \n",
       "2  11.030983  20.169693  33.031170  11.138407  19.638182  34.081615   \n",
       "\n",
       "    SLSTM_15   SLSTM_30   SLSTM_60   BLSTM_15   BLSTM_30   BLSTM_60  \\\n",
       "0   9.476698  15.699814  27.220388   8.993172  15.732971  31.237423   \n",
       "1  11.113446  18.124851  31.904629  11.407502  19.842045  35.741947   \n",
       "2  10.909716  20.304680  34.685020  11.274434  20.125393  35.691242   \n",
       "\n",
       "      GRU_15     GRU_30     GRU_60  \n",
       "0   9.695850  17.592098  29.185032  \n",
       "1  12.232445  19.157049  34.418507  \n",
       "2  10.601842  19.622520  34.607445  "
      ]
     },
     "execution_count": 135,
     "metadata": {},
     "output_type": "execute_result"
    }
   ],
   "source": [
    "df2_val"
   ]
  },
  {
   "cell_type": "code",
   "execution_count": 196,
   "metadata": {
    "ExecuteTime": {
     "end_time": "2021-01-19T05:52:21.800604Z",
     "start_time": "2021-01-19T05:52:21.788602Z"
    }
   },
   "outputs": [],
   "source": [
    "#val_RNN15 = pd.concat(df1_val['RNN_15'],df2_val['RNN_15'],df3_val['RNN_15'])\n",
    "val_RNN15 = pd.concat([df1_val['RNN_15'],df2_val['RNN_15'],df3_val['RNN_15']],axis=1)\n",
    "val_RNN15.columns=['Uni','Mul_value','Mul_0_1']\n",
    "train_RNN15 = pd.concat([df1_train['RNN_15'],df2_train['RNN_15'],df3_train['RNN_15']],axis=1)\n",
    "train_RNN15.columns=['Uni','Mul_value','Mul_0_1']\n",
    "val_RNN30 = pd.concat([df1_val['RNN_30'],df2_val['RNN_30'],df3_val['RNN_30']],axis=1)\n",
    "val_RNN30.columns=['Uni','Mul_value','Mul_0_1']\n",
    "train_RNN30 = pd.concat([df1_train['RNN_30'],df2_train['RNN_30'],df3_train['RNN_30']],axis=1)\n",
    "train_RNN30.columns=['Uni','Mul_value','Mul_0_1']\n",
    "val_RNN60 = pd.concat([df1_val['RNN_60'],df2_val['RNN_60'],df3_val['RNN_60']],axis=1)\n",
    "val_RNN60.columns=['Uni','Mul_value','Mul_0_1']\n",
    "train_RNN60 = pd.concat([df1_train['RNN_60'],df2_train['RNN_60'],df3_train['RNN_60']],axis=1)\n",
    "train_RNN60.columns=['Uni','Mul_value','Mul_0_1']\n",
    "#sns.boxplot(y=df2_val['RNN_15'])"
   ]
  },
  {
   "cell_type": "code",
   "execution_count": 186,
   "metadata": {
    "ExecuteTime": {
     "end_time": "2021-01-19T05:47:03.780253Z",
     "start_time": "2021-01-19T05:47:03.768266Z"
    }
   },
   "outputs": [],
   "source": [
    "#val_RNN15=val_RNN15.rename({'RNN_15':'val_1','RNN_15':'val_2','RNN_15':'val_3'},axis='columns')\n",
    "val_RNN15.columns=['Uni','Mul_value','Mul_0_1']\n",
    "val_RNN30.columns=['Uni','Mul_value','Mul_0_1']"
   ]
  },
  {
   "cell_type": "code",
   "execution_count": 187,
   "metadata": {
    "ExecuteTime": {
     "end_time": "2021-01-19T05:47:04.652387Z",
     "start_time": "2021-01-19T05:47:04.632389Z"
    }
   },
   "outputs": [
    {
     "data": {
      "text/html": [
       "<div>\n",
       "<style scoped>\n",
       "    .dataframe tbody tr th:only-of-type {\n",
       "        vertical-align: middle;\n",
       "    }\n",
       "\n",
       "    .dataframe tbody tr th {\n",
       "        vertical-align: top;\n",
       "    }\n",
       "\n",
       "    .dataframe thead th {\n",
       "        text-align: right;\n",
       "    }\n",
       "</style>\n",
       "<table border=\"1\" class=\"dataframe\">\n",
       "  <thead>\n",
       "    <tr style=\"text-align: right;\">\n",
       "      <th></th>\n",
       "      <th>Uni</th>\n",
       "      <th>Mul_value</th>\n",
       "      <th>Mul_0_1</th>\n",
       "    </tr>\n",
       "  </thead>\n",
       "  <tbody>\n",
       "    <tr>\n",
       "      <th>0</th>\n",
       "      <td>26.854633</td>\n",
       "      <td>10.255667</td>\n",
       "      <td>10.089300</td>\n",
       "    </tr>\n",
       "    <tr>\n",
       "      <th>1</th>\n",
       "      <td>10.834386</td>\n",
       "      <td>12.348254</td>\n",
       "      <td>10.239642</td>\n",
       "    </tr>\n",
       "    <tr>\n",
       "      <th>2</th>\n",
       "      <td>15.322060</td>\n",
       "      <td>11.030983</td>\n",
       "      <td>9.397933</td>\n",
       "    </tr>\n",
       "    <tr>\n",
       "      <th>3</th>\n",
       "      <td>10.052484</td>\n",
       "      <td>NaN</td>\n",
       "      <td>16.456289</td>\n",
       "    </tr>\n",
       "    <tr>\n",
       "      <th>4</th>\n",
       "      <td>9.357811</td>\n",
       "      <td>NaN</td>\n",
       "      <td>8.972085</td>\n",
       "    </tr>\n",
       "    <tr>\n",
       "      <th>5</th>\n",
       "      <td>16.549968</td>\n",
       "      <td>NaN</td>\n",
       "      <td>17.571289</td>\n",
       "    </tr>\n",
       "    <tr>\n",
       "      <th>6</th>\n",
       "      <td>9.669038</td>\n",
       "      <td>NaN</td>\n",
       "      <td>19.684538</td>\n",
       "    </tr>\n",
       "    <tr>\n",
       "      <th>7</th>\n",
       "      <td>9.289498</td>\n",
       "      <td>NaN</td>\n",
       "      <td>11.424256</td>\n",
       "    </tr>\n",
       "    <tr>\n",
       "      <th>8</th>\n",
       "      <td>18.685251</td>\n",
       "      <td>NaN</td>\n",
       "      <td>12.879079</td>\n",
       "    </tr>\n",
       "    <tr>\n",
       "      <th>9</th>\n",
       "      <td>19.775816</td>\n",
       "      <td>NaN</td>\n",
       "      <td>11.078821</td>\n",
       "    </tr>\n",
       "    <tr>\n",
       "      <th>10</th>\n",
       "      <td>11.246133</td>\n",
       "      <td>NaN</td>\n",
       "      <td>NaN</td>\n",
       "    </tr>\n",
       "    <tr>\n",
       "      <th>11</th>\n",
       "      <td>8.176680</td>\n",
       "      <td>NaN</td>\n",
       "      <td>NaN</td>\n",
       "    </tr>\n",
       "    <tr>\n",
       "      <th>12</th>\n",
       "      <td>12.340954</td>\n",
       "      <td>NaN</td>\n",
       "      <td>NaN</td>\n",
       "    </tr>\n",
       "    <tr>\n",
       "      <th>13</th>\n",
       "      <td>11.707588</td>\n",
       "      <td>NaN</td>\n",
       "      <td>NaN</td>\n",
       "    </tr>\n",
       "    <tr>\n",
       "      <th>14</th>\n",
       "      <td>14.111294</td>\n",
       "      <td>NaN</td>\n",
       "      <td>NaN</td>\n",
       "    </tr>\n",
       "    <tr>\n",
       "      <th>15</th>\n",
       "      <td>8.384763</td>\n",
       "      <td>NaN</td>\n",
       "      <td>NaN</td>\n",
       "    </tr>\n",
       "    <tr>\n",
       "      <th>16</th>\n",
       "      <td>13.897451</td>\n",
       "      <td>NaN</td>\n",
       "      <td>NaN</td>\n",
       "    </tr>\n",
       "    <tr>\n",
       "      <th>17</th>\n",
       "      <td>5.386403</td>\n",
       "      <td>NaN</td>\n",
       "      <td>NaN</td>\n",
       "    </tr>\n",
       "  </tbody>\n",
       "</table>\n",
       "</div>"
      ],
      "text/plain": [
       "          Uni  Mul_value    Mul_0_1\n",
       "0   26.854633  10.255667  10.089300\n",
       "1   10.834386  12.348254  10.239642\n",
       "2   15.322060  11.030983   9.397933\n",
       "3   10.052484        NaN  16.456289\n",
       "4    9.357811        NaN   8.972085\n",
       "5   16.549968        NaN  17.571289\n",
       "6    9.669038        NaN  19.684538\n",
       "7    9.289498        NaN  11.424256\n",
       "8   18.685251        NaN  12.879079\n",
       "9   19.775816        NaN  11.078821\n",
       "10  11.246133        NaN        NaN\n",
       "11   8.176680        NaN        NaN\n",
       "12  12.340954        NaN        NaN\n",
       "13  11.707588        NaN        NaN\n",
       "14  14.111294        NaN        NaN\n",
       "15   8.384763        NaN        NaN\n",
       "16  13.897451        NaN        NaN\n",
       "17   5.386403        NaN        NaN"
      ]
     },
     "execution_count": 187,
     "metadata": {},
     "output_type": "execute_result"
    }
   ],
   "source": [
    "#val_RNN15"
   ]
  },
  {
   "cell_type": "code",
   "execution_count": 192,
   "metadata": {
    "ExecuteTime": {
     "end_time": "2021-01-19T05:48:25.169974Z",
     "start_time": "2021-01-19T05:48:25.034428Z"
    }
   },
   "outputs": [
    {
     "data": {
      "text/plain": [
       "Text(0.5, 1.0, '< RNN_15_VAL >')"
      ]
     },
     "execution_count": 192,
     "metadata": {},
     "output_type": "execute_result"
    },
    {
     "data": {
      "image/png": "[encoded data removed]",
      "text/plain": [
       "<Figure size 864x648 with 1 Axes>"
      ]
     },
     "metadata": {},
     "output_type": "display_data"
    }
   ],
   "source": [
    "plt.figure(figsize=(12,9))\n",
    "sns.boxplot(data=val_RNN15,palette=\"Set3\")\n",
    "plt.title('< RNN_15_VAL >',family='Times New Roman')"
   ]
  },
  {
   "cell_type": "code",
   "execution_count": 198,
   "metadata": {
    "ExecuteTime": {
     "end_time": "2021-01-19T05:52:38.756450Z",
     "start_time": "2021-01-19T05:52:38.626421Z"
    }
   },
   "outputs": [
    {
     "data": {
      "text/plain": [
       "Text(0.5, 1.0, '< RNN_15_TRAIN >')"
      ]
     },
     "execution_count": 198,
     "metadata": {},
     "output_type": "execute_result"
    },
    {
     "data": {
      "image/png": "[encoded data removed]",
      "text/plain": [
       "<Figure size 864x648 with 1 Axes>"
      ]
     },
     "metadata": {},
     "output_type": "display_data"
    }
   ],
   "source": [
    "plt.figure(figsize=(12,9))\n",
    "sns.boxplot(data=train_RNN15,palette=\"Set3\")\n",
    "plt.title('< RNN_15_TRAIN >',family='Times New Roman')"
   ]
  },
  {
   "cell_type": "code",
   "execution_count": 199,
   "metadata": {
    "ExecuteTime": {
     "end_time": "2021-01-19T05:52:58.061843Z",
     "start_time": "2021-01-19T05:52:57.932496Z"
    }
   },
   "outputs": [
    {
     "data": {
      "text/plain": [
       "Text(0.5, 1.0, '< RNN_30_VAL >')"
      ]
     },
     "execution_count": 199,
     "metadata": {},
     "output_type": "execute_result"
    },
    {
     "data": {
      "image/png": "[encoded data removed]",
      "text/plain": [
       "<Figure size 864x648 with 1 Axes>"
      ]
     },
     "metadata": {},
     "output_type": "display_data"
    }
   ],
   "source": [
    "plt.figure(figsize=(12,9))\n",
    "sns.boxplot(data=val_RNN30,palette=\"Set3\")\n",
    "plt.title('< RNN_30_VAL >',family='Times New Roman')"
   ]
  },
  {
   "cell_type": "code",
   "execution_count": 200,
   "metadata": {
    "ExecuteTime": {
     "end_time": "2021-01-19T05:53:21.984998Z",
     "start_time": "2021-01-19T05:53:21.847427Z"
    }
   },
   "outputs": [
    {
     "data": {
      "text/plain": [
       "Text(0.5, 1.0, '< RNN_30_TRAIN >')"
      ]
     },
     "execution_count": 200,
     "metadata": {},
     "output_type": "execute_result"
    },
    {
     "data": {
      "image/png": "[encoded data removed]",
      "text/plain": [
       "<Figure size 864x648 with 1 Axes>"
      ]
     },
     "metadata": {},
     "output_type": "display_data"
    }
   ],
   "source": [
    "plt.figure(figsize=(12,9))\n",
    "sns.boxplot(data=train_RNN30,palette=\"Set3\")\n",
    "plt.title('< RNN_30_TRAIN >',family='Times New Roman')"
   ]
  },
  {
   "cell_type": "code",
   "execution_count": 201,
   "metadata": {
    "ExecuteTime": {
     "end_time": "2021-01-19T05:53:45.742093Z",
     "start_time": "2021-01-19T05:53:45.611073Z"
    }
   },
   "outputs": [
    {
     "data": {
      "text/plain": [
       "Text(0.5, 1.0, '< RNN_60_VAL >')"
      ]
     },
     "execution_count": 201,
     "metadata": {},
     "output_type": "execute_result"
    },
    {
     "data": {
      "image/png": "[encoded data removed]",
      "text/plain": [
       "<Figure size 864x648 with 1 Axes>"
      ]
     },
     "metadata": {},
     "output_type": "display_data"
    }
   ],
   "source": [
    "plt.figure(figsize=(12,9))\n",
    "sns.boxplot(data=val_RNN60,palette=\"Set3\")\n",
    "plt.title('< RNN_60_VAL >',family='Times New Roman')"
   ]
  },
  {
   "cell_type": "code",
   "execution_count": 202,
   "metadata": {
    "ExecuteTime": {
     "end_time": "2021-01-19T05:53:58.217031Z",
     "start_time": "2021-01-19T05:53:58.084005Z"
    }
   },
   "outputs": [
    {
     "data": {
      "text/plain": [
       "Text(0.5, 1.0, '< RNN_60_TRAIN >')"
      ]
     },
     "execution_count": 202,
     "metadata": {},
     "output_type": "execute_result"
    },
    {
     "data": {
      "image/png": "[encoded data removed]",
      "text/plain": [
       "<Figure size 864x648 with 1 Axes>"
      ]
     },
     "metadata": {},
     "output_type": "display_data"
    }
   ],
   "source": [
    "plt.figure(figsize=(12,9))\n",
    "sns.boxplot(data=train_RNN60,palette=\"Set3\")\n",
    "plt.title('< RNN_60_TRAIN >',family='Times New Roman')"
   ]
  }
 ],
 "metadata": {
  "kernelspec": {
   "display_name": "Python 3",
   "language": "python",
   "name": "python3"
  },
  "language_info": {
   "codemirror_mode": {
    "name": "ipython",
    "version": 3
   },
   "file_extension": ".py",
   "mimetype": "text/x-python",
   "name": "python",
   "nbconvert_exporter": "python",
   "pygments_lexer": "ipython3",
   "version": "3.8.1"
  },
  "toc": {
   "base_numbering": 1,
   "nav_menu": {},
   "number_sections": true,
   "sideBar": true,
   "skip_h1_title": false,
   "title_cell": "Table of Contents",
   "title_sidebar": "Contents",
   "toc_cell": false,
   "toc_position": {},
   "toc_section_display": true,
   "toc_window_display": false
  }
 },
 "nbformat": 4,
 "nbformat_minor": 4
}
