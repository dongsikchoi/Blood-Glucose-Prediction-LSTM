{
 "cells": [
  {
   "cell_type": "code",
   "execution_count": 1,
   "metadata": {},
   "outputs": [],
   "source": [
    "import warnings\n",
    "import itertools\n",
    "import numpy as np\n",
    "import matplotlib.pyplot as plt\n",
    "warnings.filterwarnings(\"ignore\")\n",
    "plt.style.use('fivethirtyeight')\n",
    "import pandas as pd\n",
    "import statsmodels.api as sm\n",
    "import matplotlib\n",
    "\n",
    "matplotlib.rcParams['axes.labelsize']=14\n",
    "matplotlib.rcParams['xtick.labelsize']=12\n",
    "matplotlib.rcParams['ytick.labelsize']=12\n",
    "matplotlib.rcParams['text.color']='k'"
   ]
  },
  {
   "cell_type": "code",
   "execution_count": 75,
   "metadata": {},
   "outputs": [],
   "source": [
    "pd.set_option('display.max_columns',500) \n",
    "#출력시 생략 X"
   ]
  },
  {
   "cell_type": "code",
   "execution_count": 76,
   "metadata": {},
   "outputs": [],
   "source": [
    "#from jupyterthemes import jtplot\n",
    "\n",
    "#jtplot.style(theme='grade3')"
   ]
  },
  {
   "cell_type": "code",
   "execution_count": 77,
   "metadata": {},
   "outputs": [],
   "source": [
    "#df=pd.read_csv(\"BG_sample2.csv\")\n",
    "df=pd.read_excel(\"BG_sample18.xlsx\")"
   ]
  },
  {
   "cell_type": "code",
   "execution_count": 78,
   "metadata": {},
   "outputs": [
    {
     "name": "stdout",
     "output_type": "stream",
     "text": [
      "<class 'pandas.core.frame.DataFrame'>\n",
      "RangeIndex: 1474 entries, 0 to 1473\n",
      "Data columns (total 14 columns):\n",
      " #   Column                      Non-Null Count  Dtype  \n",
      "---  ------                      --------------  -----  \n",
      " 0   색인                          1474 non-null   int64  \n",
      " 1   타임스탬프(YYYY-MM-DDThh:mm:ss)  1464 non-null   object \n",
      " 2   이벤트 유형                      1474 non-null   object \n",
      " 3   이벤트 하위 유형                   175 non-null    object \n",
      " 4   환자 정보                       3 non-null      object \n",
      " 5   장치 정보                       1 non-null      object \n",
      " 6   소스 장치 ID                    1471 non-null   object \n",
      " 7   포도당 값 (mg/dL)               1429 non-null   object \n",
      " 8   인슐린 값(u)                    21 non-null     float64\n",
      " 9   탄수화물 값 (그램)                 17 non-null     float64\n",
      " 10  기간(hh:mm:ss)                1 non-null      object \n",
      " 11  포도당 변화율 (mg/dL/min)         2 non-null      float64\n",
      " 12  트랜스미터 시간 (배장 정수)            1422 non-null   float64\n",
      " 13  트랜스미터 ID                    1426 non-null   object \n",
      "dtypes: float64(4), int64(1), object(9)\n",
      "memory usage: 161.3+ KB\n"
     ]
    }
   ],
   "source": [
    "df.info()"
   ]
  },
  {
   "cell_type": "code",
   "execution_count": 79,
   "metadata": {},
   "outputs": [
    {
     "data": {
      "text/plain": [
       "(1474, 14)"
      ]
     },
     "execution_count": 79,
     "metadata": {},
     "output_type": "execute_result"
    }
   ],
   "source": [
    "df.shape"
   ]
  },
  {
   "cell_type": "code",
   "execution_count": 80,
   "metadata": {},
   "outputs": [
    {
     "data": {
      "text/html": [
       "<div>\n",
       "<style scoped>\n",
       "    .dataframe tbody tr th:only-of-type {\n",
       "        vertical-align: middle;\n",
       "    }\n",
       "\n",
       "    .dataframe tbody tr th {\n",
       "        vertical-align: top;\n",
       "    }\n",
       "\n",
       "    .dataframe thead th {\n",
       "        text-align: right;\n",
       "    }\n",
       "</style>\n",
       "<table border=\"1\" class=\"dataframe\">\n",
       "  <thead>\n",
       "    <tr style=\"text-align: right;\">\n",
       "      <th></th>\n",
       "      <th>색인</th>\n",
       "      <th>타임스탬프(YYYY-MM-DDThh:mm:ss)</th>\n",
       "      <th>이벤트 유형</th>\n",
       "      <th>이벤트 하위 유형</th>\n",
       "      <th>환자 정보</th>\n",
       "      <th>장치 정보</th>\n",
       "      <th>소스 장치 ID</th>\n",
       "      <th>포도당 값 (mg/dL)</th>\n",
       "      <th>인슐린 값(u)</th>\n",
       "      <th>탄수화물 값 (그램)</th>\n",
       "      <th>기간(hh:mm:ss)</th>\n",
       "      <th>포도당 변화율 (mg/dL/min)</th>\n",
       "      <th>트랜스미터 시간 (배장 정수)</th>\n",
       "      <th>트랜스미터 ID</th>\n",
       "    </tr>\n",
       "  </thead>\n",
       "  <tbody>\n",
       "    <tr>\n",
       "      <th>0</th>\n",
       "      <td>1</td>\n",
       "      <td>NaN</td>\n",
       "      <td>이름</td>\n",
       "      <td>NaN</td>\n",
       "      <td>sch</td>\n",
       "      <td>NaN</td>\n",
       "      <td>NaN</td>\n",
       "      <td>NaN</td>\n",
       "      <td>NaN</td>\n",
       "      <td>NaN</td>\n",
       "      <td>NaN</td>\n",
       "      <td>NaN</td>\n",
       "      <td>NaN</td>\n",
       "      <td>NaN</td>\n",
       "    </tr>\n",
       "    <tr>\n",
       "      <th>1</th>\n",
       "      <td>2</td>\n",
       "      <td>NaN</td>\n",
       "      <td>성</td>\n",
       "      <td>NaN</td>\n",
       "      <td>3</td>\n",
       "      <td>NaN</td>\n",
       "      <td>NaN</td>\n",
       "      <td>NaN</td>\n",
       "      <td>NaN</td>\n",
       "      <td>NaN</td>\n",
       "      <td>NaN</td>\n",
       "      <td>NaN</td>\n",
       "      <td>NaN</td>\n",
       "      <td>NaN</td>\n",
       "    </tr>\n",
       "    <tr>\n",
       "      <th>2</th>\n",
       "      <td>3</td>\n",
       "      <td>NaN</td>\n",
       "      <td>생년월일</td>\n",
       "      <td>NaN</td>\n",
       "      <td>1983-01-24 00:00:00</td>\n",
       "      <td>NaN</td>\n",
       "      <td>NaN</td>\n",
       "      <td>NaN</td>\n",
       "      <td>NaN</td>\n",
       "      <td>NaN</td>\n",
       "      <td>NaN</td>\n",
       "      <td>NaN</td>\n",
       "      <td>NaN</td>\n",
       "      <td>NaN</td>\n",
       "    </tr>\n",
       "    <tr>\n",
       "      <th>3</th>\n",
       "      <td>4</td>\n",
       "      <td>NaN</td>\n",
       "      <td>장치</td>\n",
       "      <td>NaN</td>\n",
       "      <td>NaN</td>\n",
       "      <td>Dexcom G5 Mobile App</td>\n",
       "      <td>Android</td>\n",
       "      <td>NaN</td>\n",
       "      <td>NaN</td>\n",
       "      <td>NaN</td>\n",
       "      <td>NaN</td>\n",
       "      <td>NaN</td>\n",
       "      <td>NaN</td>\n",
       "      <td>NaN</td>\n",
       "    </tr>\n",
       "    <tr>\n",
       "      <th>4</th>\n",
       "      <td>5</td>\n",
       "      <td>NaN</td>\n",
       "      <td>경고</td>\n",
       "      <td>하락</td>\n",
       "      <td>NaN</td>\n",
       "      <td>NaN</td>\n",
       "      <td>Android</td>\n",
       "      <td>NaN</td>\n",
       "      <td>NaN</td>\n",
       "      <td>NaN</td>\n",
       "      <td>NaN</td>\n",
       "      <td>3.0</td>\n",
       "      <td>NaN</td>\n",
       "      <td>NaN</td>\n",
       "    </tr>\n",
       "    <tr>\n",
       "      <th>5</th>\n",
       "      <td>6</td>\n",
       "      <td>NaN</td>\n",
       "      <td>경고</td>\n",
       "      <td>높음</td>\n",
       "      <td>NaN</td>\n",
       "      <td>NaN</td>\n",
       "      <td>Android</td>\n",
       "      <td>250</td>\n",
       "      <td>NaN</td>\n",
       "      <td>NaN</td>\n",
       "      <td>NaN</td>\n",
       "      <td>NaN</td>\n",
       "      <td>NaN</td>\n",
       "      <td>NaN</td>\n",
       "    </tr>\n",
       "    <tr>\n",
       "      <th>6</th>\n",
       "      <td>7</td>\n",
       "      <td>NaN</td>\n",
       "      <td>경고</td>\n",
       "      <td>낮음</td>\n",
       "      <td>NaN</td>\n",
       "      <td>NaN</td>\n",
       "      <td>Android</td>\n",
       "      <td>70</td>\n",
       "      <td>NaN</td>\n",
       "      <td>NaN</td>\n",
       "      <td>NaN</td>\n",
       "      <td>NaN</td>\n",
       "      <td>NaN</td>\n",
       "      <td>NaN</td>\n",
       "    </tr>\n",
       "    <tr>\n",
       "      <th>7</th>\n",
       "      <td>8</td>\n",
       "      <td>NaN</td>\n",
       "      <td>경고</td>\n",
       "      <td>신호 손실</td>\n",
       "      <td>NaN</td>\n",
       "      <td>NaN</td>\n",
       "      <td>Android</td>\n",
       "      <td>NaN</td>\n",
       "      <td>NaN</td>\n",
       "      <td>NaN</td>\n",
       "      <td>00:30:00</td>\n",
       "      <td>NaN</td>\n",
       "      <td>NaN</td>\n",
       "      <td>NaN</td>\n",
       "    </tr>\n",
       "    <tr>\n",
       "      <th>8</th>\n",
       "      <td>9</td>\n",
       "      <td>NaN</td>\n",
       "      <td>경고</td>\n",
       "      <td>상승</td>\n",
       "      <td>NaN</td>\n",
       "      <td>NaN</td>\n",
       "      <td>Android</td>\n",
       "      <td>NaN</td>\n",
       "      <td>NaN</td>\n",
       "      <td>NaN</td>\n",
       "      <td>NaN</td>\n",
       "      <td>3.0</td>\n",
       "      <td>NaN</td>\n",
       "      <td>NaN</td>\n",
       "    </tr>\n",
       "    <tr>\n",
       "      <th>9</th>\n",
       "      <td>10</td>\n",
       "      <td>NaN</td>\n",
       "      <td>경고</td>\n",
       "      <td>긴급하게 낮음</td>\n",
       "      <td>NaN</td>\n",
       "      <td>NaN</td>\n",
       "      <td>Android</td>\n",
       "      <td>55</td>\n",
       "      <td>NaN</td>\n",
       "      <td>NaN</td>\n",
       "      <td>NaN</td>\n",
       "      <td>NaN</td>\n",
       "      <td>NaN</td>\n",
       "      <td>NaN</td>\n",
       "    </tr>\n",
       "    <tr>\n",
       "      <th>10</th>\n",
       "      <td>11</td>\n",
       "      <td>2020-03-13T11:05:03</td>\n",
       "      <td>교정</td>\n",
       "      <td>NaN</td>\n",
       "      <td>NaN</td>\n",
       "      <td>NaN</td>\n",
       "      <td>Android</td>\n",
       "      <td>216</td>\n",
       "      <td>NaN</td>\n",
       "      <td>NaN</td>\n",
       "      <td>NaN</td>\n",
       "      <td>NaN</td>\n",
       "      <td>NaN</td>\n",
       "      <td>42E570</td>\n",
       "    </tr>\n",
       "    <tr>\n",
       "      <th>11</th>\n",
       "      <td>12</td>\n",
       "      <td>2020-03-13T11:14:06</td>\n",
       "      <td>교정</td>\n",
       "      <td>NaN</td>\n",
       "      <td>NaN</td>\n",
       "      <td>NaN</td>\n",
       "      <td>Android</td>\n",
       "      <td>244</td>\n",
       "      <td>NaN</td>\n",
       "      <td>NaN</td>\n",
       "      <td>NaN</td>\n",
       "      <td>NaN</td>\n",
       "      <td>NaN</td>\n",
       "      <td>42E570</td>\n",
       "    </tr>\n",
       "    <tr>\n",
       "      <th>12</th>\n",
       "      <td>13</td>\n",
       "      <td>2020-03-13T11:15:55</td>\n",
       "      <td>EGV</td>\n",
       "      <td>NaN</td>\n",
       "      <td>NaN</td>\n",
       "      <td>NaN</td>\n",
       "      <td>Android</td>\n",
       "      <td>227</td>\n",
       "      <td>NaN</td>\n",
       "      <td>NaN</td>\n",
       "      <td>NaN</td>\n",
       "      <td>NaN</td>\n",
       "      <td>6134328.0</td>\n",
       "      <td>42E570</td>\n",
       "    </tr>\n",
       "  </tbody>\n",
       "</table>\n",
       "</div>"
      ],
      "text/plain": [
       "    색인 타임스탬프(YYYY-MM-DDThh:mm:ss) 이벤트 유형 이벤트 하위 유형                환자 정보  \\\n",
       "0    1                        NaN     이름       NaN                  sch   \n",
       "1    2                        NaN      성       NaN                    3   \n",
       "2    3                        NaN   생년월일       NaN  1983-01-24 00:00:00   \n",
       "3    4                        NaN     장치       NaN                  NaN   \n",
       "4    5                        NaN     경고        하락                  NaN   \n",
       "5    6                        NaN     경고        높음                  NaN   \n",
       "6    7                        NaN     경고        낮음                  NaN   \n",
       "7    8                        NaN     경고     신호 손실                  NaN   \n",
       "8    9                        NaN     경고        상승                  NaN   \n",
       "9   10                        NaN     경고   긴급하게 낮음                  NaN   \n",
       "10  11        2020-03-13T11:05:03     교정       NaN                  NaN   \n",
       "11  12        2020-03-13T11:14:06     교정       NaN                  NaN   \n",
       "12  13        2020-03-13T11:15:55    EGV       NaN                  NaN   \n",
       "\n",
       "                   장치 정보 소스 장치 ID 포도당 값 (mg/dL)  인슐린 값(u)  탄수화물 값 (그램)  \\\n",
       "0                    NaN      NaN           NaN       NaN          NaN   \n",
       "1                    NaN      NaN           NaN       NaN          NaN   \n",
       "2                    NaN      NaN           NaN       NaN          NaN   \n",
       "3   Dexcom G5 Mobile App  Android           NaN       NaN          NaN   \n",
       "4                    NaN  Android           NaN       NaN          NaN   \n",
       "5                    NaN  Android           250       NaN          NaN   \n",
       "6                    NaN  Android            70       NaN          NaN   \n",
       "7                    NaN  Android           NaN       NaN          NaN   \n",
       "8                    NaN  Android           NaN       NaN          NaN   \n",
       "9                    NaN  Android            55       NaN          NaN   \n",
       "10                   NaN  Android           216       NaN          NaN   \n",
       "11                   NaN  Android           244       NaN          NaN   \n",
       "12                   NaN  Android           227       NaN          NaN   \n",
       "\n",
       "   기간(hh:mm:ss)  포도당 변화율 (mg/dL/min)  트랜스미터 시간 (배장 정수) 트랜스미터 ID  \n",
       "0           NaN                  NaN               NaN      NaN  \n",
       "1           NaN                  NaN               NaN      NaN  \n",
       "2           NaN                  NaN               NaN      NaN  \n",
       "3           NaN                  NaN               NaN      NaN  \n",
       "4           NaN                  3.0               NaN      NaN  \n",
       "5           NaN                  NaN               NaN      NaN  \n",
       "6           NaN                  NaN               NaN      NaN  \n",
       "7      00:30:00                  NaN               NaN      NaN  \n",
       "8           NaN                  3.0               NaN      NaN  \n",
       "9           NaN                  NaN               NaN      NaN  \n",
       "10          NaN                  NaN               NaN   42E570  \n",
       "11          NaN                  NaN               NaN   42E570  \n",
       "12          NaN                  NaN         6134328.0   42E570  "
      ]
     },
     "execution_count": 80,
     "metadata": {},
     "output_type": "execute_result"
    }
   ],
   "source": [
    "df.head(13)"
   ]
  },
  {
   "cell_type": "code",
   "execution_count": 81,
   "metadata": {},
   "outputs": [],
   "source": [
    "#필요없는 열 제거\n",
    "cols = ['색인', '이벤트 하위 유형', '환자 정보', '장치 정보', '소스 장치 ID', '인슐린 값(u)', '탄수화물 값 (그램)', '기간(hh:mm:ss)', '포도당 변화율 (mg/dL/min)', '트랜스미터 시간 (배장 정수)', '트랜스미터 ID']\n",
    "df.drop(cols, axis=1, inplace=True)\n"
   ]
  },
  {
   "cell_type": "code",
   "execution_count": 82,
   "metadata": {},
   "outputs": [],
   "source": [
    "df=df.rename({'타임스탬프(YYYY-MM-DDThh:mm:ss)':'Timestamp','포도당 값 (mg/dL)':'Glucose','이벤트 유형':'Event'},axis='columns')"
   ]
  },
  {
   "cell_type": "code",
   "execution_count": 83,
   "metadata": {},
   "outputs": [
    {
     "data": {
      "text/html": [
       "<div>\n",
       "<style scoped>\n",
       "    .dataframe tbody tr th:only-of-type {\n",
       "        vertical-align: middle;\n",
       "    }\n",
       "\n",
       "    .dataframe tbody tr th {\n",
       "        vertical-align: top;\n",
       "    }\n",
       "\n",
       "    .dataframe thead th {\n",
       "        text-align: right;\n",
       "    }\n",
       "</style>\n",
       "<table border=\"1\" class=\"dataframe\">\n",
       "  <thead>\n",
       "    <tr style=\"text-align: right;\">\n",
       "      <th></th>\n",
       "      <th>Timestamp</th>\n",
       "      <th>Event</th>\n",
       "      <th>Glucose</th>\n",
       "    </tr>\n",
       "  </thead>\n",
       "  <tbody>\n",
       "    <tr>\n",
       "      <th>0</th>\n",
       "      <td>NaN</td>\n",
       "      <td>이름</td>\n",
       "      <td>NaN</td>\n",
       "    </tr>\n",
       "    <tr>\n",
       "      <th>1</th>\n",
       "      <td>NaN</td>\n",
       "      <td>성</td>\n",
       "      <td>NaN</td>\n",
       "    </tr>\n",
       "    <tr>\n",
       "      <th>2</th>\n",
       "      <td>NaN</td>\n",
       "      <td>생년월일</td>\n",
       "      <td>NaN</td>\n",
       "    </tr>\n",
       "    <tr>\n",
       "      <th>3</th>\n",
       "      <td>NaN</td>\n",
       "      <td>장치</td>\n",
       "      <td>NaN</td>\n",
       "    </tr>\n",
       "    <tr>\n",
       "      <th>4</th>\n",
       "      <td>NaN</td>\n",
       "      <td>경고</td>\n",
       "      <td>NaN</td>\n",
       "    </tr>\n",
       "    <tr>\n",
       "      <th>5</th>\n",
       "      <td>NaN</td>\n",
       "      <td>경고</td>\n",
       "      <td>250</td>\n",
       "    </tr>\n",
       "    <tr>\n",
       "      <th>6</th>\n",
       "      <td>NaN</td>\n",
       "      <td>경고</td>\n",
       "      <td>70</td>\n",
       "    </tr>\n",
       "    <tr>\n",
       "      <th>7</th>\n",
       "      <td>NaN</td>\n",
       "      <td>경고</td>\n",
       "      <td>NaN</td>\n",
       "    </tr>\n",
       "    <tr>\n",
       "      <th>8</th>\n",
       "      <td>NaN</td>\n",
       "      <td>경고</td>\n",
       "      <td>NaN</td>\n",
       "    </tr>\n",
       "    <tr>\n",
       "      <th>9</th>\n",
       "      <td>NaN</td>\n",
       "      <td>경고</td>\n",
       "      <td>55</td>\n",
       "    </tr>\n",
       "    <tr>\n",
       "      <th>10</th>\n",
       "      <td>2020-03-13T11:05:03</td>\n",
       "      <td>교정</td>\n",
       "      <td>216</td>\n",
       "    </tr>\n",
       "    <tr>\n",
       "      <th>11</th>\n",
       "      <td>2020-03-13T11:14:06</td>\n",
       "      <td>교정</td>\n",
       "      <td>244</td>\n",
       "    </tr>\n",
       "    <tr>\n",
       "      <th>12</th>\n",
       "      <td>2020-03-13T11:15:55</td>\n",
       "      <td>EGV</td>\n",
       "      <td>227</td>\n",
       "    </tr>\n",
       "  </tbody>\n",
       "</table>\n",
       "</div>"
      ],
      "text/plain": [
       "              Timestamp Event Glucose\n",
       "0                   NaN    이름     NaN\n",
       "1                   NaN     성     NaN\n",
       "2                   NaN  생년월일     NaN\n",
       "3                   NaN    장치     NaN\n",
       "4                   NaN    경고     NaN\n",
       "5                   NaN    경고     250\n",
       "6                   NaN    경고      70\n",
       "7                   NaN    경고     NaN\n",
       "8                   NaN    경고     NaN\n",
       "9                   NaN    경고      55\n",
       "10  2020-03-13T11:05:03    교정     216\n",
       "11  2020-03-13T11:14:06    교정     244\n",
       "12  2020-03-13T11:15:55   EGV     227"
      ]
     },
     "execution_count": 83,
     "metadata": {},
     "output_type": "execute_result"
    }
   ],
   "source": [
    "df.head(13)"
   ]
  },
  {
   "cell_type": "code",
   "execution_count": 84,
   "metadata": {},
   "outputs": [
    {
     "data": {
      "text/plain": [
       "EGV     1422\n",
       "인슐린       21\n",
       "탄수화물      17\n",
       "경고         6\n",
       "교정         4\n",
       "이름         1\n",
       "생년월일       1\n",
       "성          1\n",
       "장치         1\n",
       "Name: Event, dtype: int64"
      ]
     },
     "execution_count": 84,
     "metadata": {},
     "output_type": "execute_result"
    }
   ],
   "source": [
    "df['Event'].value_counts()"
   ]
  },
  {
   "cell_type": "code",
   "execution_count": 85,
   "metadata": {},
   "outputs": [
    {
     "data": {
      "text/plain": [
       "높음     169\n",
       "199     27\n",
       "187     20\n",
       "185     19\n",
       "203     18\n",
       "      ... \n",
       "285      1\n",
       "284      1\n",
       "279      1\n",
       "272      1\n",
       "55       1\n",
       "Name: Glucose, Length: 242, dtype: int64"
      ]
     },
     "execution_count": 85,
     "metadata": {},
     "output_type": "execute_result"
    }
   ],
   "source": [
    "df['Glucose'].value_counts()"
   ]
  },
  {
   "cell_type": "code",
   "execution_count": 86,
   "metadata": {},
   "outputs": [
    {
     "data": {
      "text/html": [
       "<div>\n",
       "<style scoped>\n",
       "    .dataframe tbody tr th:only-of-type {\n",
       "        vertical-align: middle;\n",
       "    }\n",
       "\n",
       "    .dataframe tbody tr th {\n",
       "        vertical-align: top;\n",
       "    }\n",
       "\n",
       "    .dataframe thead th {\n",
       "        text-align: right;\n",
       "    }\n",
       "</style>\n",
       "<table border=\"1\" class=\"dataframe\">\n",
       "  <thead>\n",
       "    <tr style=\"text-align: right;\">\n",
       "      <th></th>\n",
       "      <th>Timestamp</th>\n",
       "      <th>Event</th>\n",
       "      <th>Glucose</th>\n",
       "    </tr>\n",
       "  </thead>\n",
       "  <tbody>\n",
       "    <tr>\n",
       "      <th>1469</th>\n",
       "      <td>2020-03-18T09:20:43</td>\n",
       "      <td>EGV</td>\n",
       "      <td>높음</td>\n",
       "    </tr>\n",
       "    <tr>\n",
       "      <th>1470</th>\n",
       "      <td>2020-03-18T09:25:44</td>\n",
       "      <td>EGV</td>\n",
       "      <td>높음</td>\n",
       "    </tr>\n",
       "    <tr>\n",
       "      <th>1471</th>\n",
       "      <td>2020-03-18T09:30:43</td>\n",
       "      <td>EGV</td>\n",
       "      <td>높음</td>\n",
       "    </tr>\n",
       "    <tr>\n",
       "      <th>1472</th>\n",
       "      <td>2020-03-18T09:35:44</td>\n",
       "      <td>EGV</td>\n",
       "      <td>높음</td>\n",
       "    </tr>\n",
       "    <tr>\n",
       "      <th>1473</th>\n",
       "      <td>2020-03-18T09:40:44</td>\n",
       "      <td>EGV</td>\n",
       "      <td>높음</td>\n",
       "    </tr>\n",
       "  </tbody>\n",
       "</table>\n",
       "</div>"
      ],
      "text/plain": [
       "                Timestamp Event Glucose\n",
       "1469  2020-03-18T09:20:43   EGV      높음\n",
       "1470  2020-03-18T09:25:44   EGV      높음\n",
       "1471  2020-03-18T09:30:43   EGV      높음\n",
       "1472  2020-03-18T09:35:44   EGV      높음\n",
       "1473  2020-03-18T09:40:44   EGV      높음"
      ]
     },
     "execution_count": 86,
     "metadata": {},
     "output_type": "execute_result"
    }
   ],
   "source": [
    "df.tail()"
   ]
  },
  {
   "cell_type": "code",
   "execution_count": 87,
   "metadata": {},
   "outputs": [],
   "source": [
    "#df_sample = df.loc[[24,25],:]\n",
    "#df_sample.columns=['Timestamp','Event','Glucose']\n",
    "#df_sample."
   ]
  },
  {
   "cell_type": "code",
   "execution_count": 88,
   "metadata": {},
   "outputs": [
    {
     "data": {
      "text/plain": [
       "높음     169\n",
       "199     27\n",
       "187     20\n",
       "185     19\n",
       "203     18\n",
       "      ... \n",
       "285      1\n",
       "284      1\n",
       "279      1\n",
       "272      1\n",
       "55       1\n",
       "Name: Glucose, Length: 242, dtype: int64"
      ]
     },
     "execution_count": 88,
     "metadata": {},
     "output_type": "execute_result"
    }
   ],
   "source": [
    "df['Glucose'].value_counts()"
   ]
  },
  {
   "cell_type": "code",
   "execution_count": null,
   "metadata": {},
   "outputs": [],
   "source": []
  },
  {
   "cell_type": "code",
   "execution_count": null,
   "metadata": {},
   "outputs": [],
   "source": []
  },
  {
   "cell_type": "code",
   "execution_count": 89,
   "metadata": {},
   "outputs": [
    {
     "data": {
      "text/plain": [
       "(1474, 3)"
      ]
     },
     "execution_count": 89,
     "metadata": {},
     "output_type": "execute_result"
    }
   ],
   "source": [
    "df.shape"
   ]
  },
  {
   "cell_type": "code",
   "execution_count": null,
   "metadata": {},
   "outputs": [],
   "source": []
  },
  {
   "cell_type": "code",
   "execution_count": 90,
   "metadata": {},
   "outputs": [],
   "source": [
    "# 혈당 '높음' 빈도 카운트\n",
    "def glucose_count_high(df,col):\n",
    "    count=0\n",
    "    for i, row in df.iterrows():\n",
    "         val = row[col]\n",
    "         if val=='높음':\n",
    "            count=count+1\n",
    "    print('높음 : ',count)"
   ]
  },
  {
   "cell_type": "code",
   "execution_count": 91,
   "metadata": {},
   "outputs": [],
   "source": [
    "# 혈당 '낮음' 빈도 카운트\n",
    "def glucose_count_low(df,col):\n",
    "    count=0\n",
    "    for i, row in df.iterrows():\n",
    "         val = row[col]\n",
    "         if val=='낮음':\n",
    "            count=count+1\n",
    "    print('낮음 : ',count)"
   ]
  },
  {
   "cell_type": "code",
   "execution_count": 92,
   "metadata": {},
   "outputs": [
    {
     "name": "stdout",
     "output_type": "stream",
     "text": [
      "높음 :  169\n"
     ]
    }
   ],
   "source": [
    "glucose_count_high(df,'Glucose')"
   ]
  },
  {
   "cell_type": "code",
   "execution_count": 93,
   "metadata": {},
   "outputs": [
    {
     "name": "stdout",
     "output_type": "stream",
     "text": [
      "낮음 :  0\n"
     ]
    }
   ],
   "source": [
    "glucose_count_low(df,'Glucose')"
   ]
  },
  {
   "cell_type": "code",
   "execution_count": 94,
   "metadata": {},
   "outputs": [],
   "source": [
    "if df['Glucose'][24] is None:\n",
    "    print(\"empty\")"
   ]
  },
  {
   "cell_type": "code",
   "execution_count": 95,
   "metadata": {},
   "outputs": [
    {
     "name": "stdout",
     "output_type": "stream",
     "text": [
      "nan\n"
     ]
    }
   ],
   "source": [
    "print(df['Glucose'][24])"
   ]
  },
  {
   "cell_type": "code",
   "execution_count": 96,
   "metadata": {},
   "outputs": [],
   "source": [
    "#if math.isnan(df['Glucose'][26]):\n",
    "#    print('empty')\n",
    "#else:\n",
    "#    print('no')"
   ]
  },
  {
   "cell_type": "code",
   "execution_count": 97,
   "metadata": {},
   "outputs": [],
   "source": [
    "#interpolate_glucose(df,'Glucose')"
   ]
  },
  {
   "cell_type": "code",
   "execution_count": 100,
   "metadata": {},
   "outputs": [
    {
     "data": {
      "text/plain": [
       "Timestamp    10\n",
       "Event         0\n",
       "Glucose      45\n",
       "dtype: int64"
      ]
     },
     "execution_count": 100,
     "metadata": {},
     "output_type": "execute_result"
    }
   ],
   "source": [
    "df.isnull().sum()"
   ]
  },
  {
   "cell_type": "code",
   "execution_count": 101,
   "metadata": {},
   "outputs": [
    {
     "data": {
      "text/plain": [
       "EGV     1422\n",
       "인슐린       21\n",
       "탄수화물      17\n",
       "경고         6\n",
       "교정         4\n",
       "이름         1\n",
       "생년월일       1\n",
       "성          1\n",
       "장치         1\n",
       "Name: Event, dtype: int64"
      ]
     },
     "execution_count": 101,
     "metadata": {},
     "output_type": "execute_result"
    }
   ],
   "source": [
    "df['Event'].value_counts()"
   ]
  },
  {
   "cell_type": "code",
   "execution_count": 102,
   "metadata": {},
   "outputs": [],
   "source": [
    "def fix_glucose(df,col):\n",
    "    for i, row in df.iterrows():\n",
    "        val = row[col]\n",
    "        if val=='높음':\n",
    "            df.loc[i,col] = 400"
   ]
  },
  {
   "cell_type": "code",
   "execution_count": 103,
   "metadata": {},
   "outputs": [],
   "source": [
    "def fix_glucose_low(df,col):\n",
    "    for i, row in df.iterrows():\n",
    "        val = row[col]\n",
    "        if val=='낮음':\n",
    "            df.loc[i,col] = 60"
   ]
  },
  {
   "cell_type": "code",
   "execution_count": 104,
   "metadata": {},
   "outputs": [
    {
     "data": {
      "text/plain": [
       "높음     169\n",
       "199     27\n",
       "187     20\n",
       "185     19\n",
       "203     18\n",
       "      ... \n",
       "285      1\n",
       "284      1\n",
       "279      1\n",
       "272      1\n",
       "55       1\n",
       "Name: Glucose, Length: 242, dtype: int64"
      ]
     },
     "execution_count": 104,
     "metadata": {},
     "output_type": "execute_result"
    }
   ],
   "source": [
    "df['Glucose'].value_counts()"
   ]
  },
  {
   "cell_type": "code",
   "execution_count": 105,
   "metadata": {},
   "outputs": [
    {
     "data": {
      "text/html": [
       "<div>\n",
       "<style scoped>\n",
       "    .dataframe tbody tr th:only-of-type {\n",
       "        vertical-align: middle;\n",
       "    }\n",
       "\n",
       "    .dataframe tbody tr th {\n",
       "        vertical-align: top;\n",
       "    }\n",
       "\n",
       "    .dataframe thead th {\n",
       "        text-align: right;\n",
       "    }\n",
       "</style>\n",
       "<table border=\"1\" class=\"dataframe\">\n",
       "  <thead>\n",
       "    <tr style=\"text-align: right;\">\n",
       "      <th></th>\n",
       "      <th>Timestamp</th>\n",
       "      <th>Event</th>\n",
       "      <th>Glucose</th>\n",
       "    </tr>\n",
       "  </thead>\n",
       "  <tbody>\n",
       "    <tr>\n",
       "      <th>0</th>\n",
       "      <td>NaN</td>\n",
       "      <td>이름</td>\n",
       "      <td>NaN</td>\n",
       "    </tr>\n",
       "    <tr>\n",
       "      <th>1</th>\n",
       "      <td>NaN</td>\n",
       "      <td>성</td>\n",
       "      <td>NaN</td>\n",
       "    </tr>\n",
       "    <tr>\n",
       "      <th>2</th>\n",
       "      <td>NaN</td>\n",
       "      <td>생년월일</td>\n",
       "      <td>NaN</td>\n",
       "    </tr>\n",
       "    <tr>\n",
       "      <th>3</th>\n",
       "      <td>NaN</td>\n",
       "      <td>장치</td>\n",
       "      <td>NaN</td>\n",
       "    </tr>\n",
       "    <tr>\n",
       "      <th>4</th>\n",
       "      <td>NaN</td>\n",
       "      <td>경고</td>\n",
       "      <td>NaN</td>\n",
       "    </tr>\n",
       "    <tr>\n",
       "      <th>5</th>\n",
       "      <td>NaN</td>\n",
       "      <td>경고</td>\n",
       "      <td>250</td>\n",
       "    </tr>\n",
       "    <tr>\n",
       "      <th>6</th>\n",
       "      <td>NaN</td>\n",
       "      <td>경고</td>\n",
       "      <td>70</td>\n",
       "    </tr>\n",
       "    <tr>\n",
       "      <th>7</th>\n",
       "      <td>NaN</td>\n",
       "      <td>경고</td>\n",
       "      <td>NaN</td>\n",
       "    </tr>\n",
       "    <tr>\n",
       "      <th>8</th>\n",
       "      <td>NaN</td>\n",
       "      <td>경고</td>\n",
       "      <td>NaN</td>\n",
       "    </tr>\n",
       "    <tr>\n",
       "      <th>9</th>\n",
       "      <td>NaN</td>\n",
       "      <td>경고</td>\n",
       "      <td>55</td>\n",
       "    </tr>\n",
       "    <tr>\n",
       "      <th>10</th>\n",
       "      <td>2020-03-13T11:05:03</td>\n",
       "      <td>교정</td>\n",
       "      <td>216</td>\n",
       "    </tr>\n",
       "    <tr>\n",
       "      <th>11</th>\n",
       "      <td>2020-03-13T11:14:06</td>\n",
       "      <td>교정</td>\n",
       "      <td>244</td>\n",
       "    </tr>\n",
       "    <tr>\n",
       "      <th>12</th>\n",
       "      <td>2020-03-13T11:15:55</td>\n",
       "      <td>EGV</td>\n",
       "      <td>227</td>\n",
       "    </tr>\n",
       "    <tr>\n",
       "      <th>13</th>\n",
       "      <td>2020-03-13T11:20:50</td>\n",
       "      <td>EGV</td>\n",
       "      <td>227</td>\n",
       "    </tr>\n",
       "    <tr>\n",
       "      <th>14</th>\n",
       "      <td>2020-03-13T11:25:49</td>\n",
       "      <td>EGV</td>\n",
       "      <td>224</td>\n",
       "    </tr>\n",
       "    <tr>\n",
       "      <th>15</th>\n",
       "      <td>2020-03-13T11:30:49</td>\n",
       "      <td>EGV</td>\n",
       "      <td>223</td>\n",
       "    </tr>\n",
       "    <tr>\n",
       "      <th>16</th>\n",
       "      <td>2020-03-13T11:35:49</td>\n",
       "      <td>EGV</td>\n",
       "      <td>222</td>\n",
       "    </tr>\n",
       "    <tr>\n",
       "      <th>17</th>\n",
       "      <td>2020-03-13T11:40:50</td>\n",
       "      <td>EGV</td>\n",
       "      <td>222</td>\n",
       "    </tr>\n",
       "    <tr>\n",
       "      <th>18</th>\n",
       "      <td>2020-03-13T11:45:51</td>\n",
       "      <td>EGV</td>\n",
       "      <td>218</td>\n",
       "    </tr>\n",
       "    <tr>\n",
       "      <th>19</th>\n",
       "      <td>2020-03-13T11:50:49</td>\n",
       "      <td>EGV</td>\n",
       "      <td>218</td>\n",
       "    </tr>\n",
       "    <tr>\n",
       "      <th>20</th>\n",
       "      <td>2020-03-13T11:55:50</td>\n",
       "      <td>EGV</td>\n",
       "      <td>218</td>\n",
       "    </tr>\n",
       "    <tr>\n",
       "      <th>21</th>\n",
       "      <td>2020-03-13T12:00:51</td>\n",
       "      <td>EGV</td>\n",
       "      <td>223</td>\n",
       "    </tr>\n",
       "    <tr>\n",
       "      <th>22</th>\n",
       "      <td>2020-03-13T12:05:50</td>\n",
       "      <td>EGV</td>\n",
       "      <td>217</td>\n",
       "    </tr>\n",
       "    <tr>\n",
       "      <th>23</th>\n",
       "      <td>2020-03-13T12:10:50</td>\n",
       "      <td>EGV</td>\n",
       "      <td>201</td>\n",
       "    </tr>\n",
       "    <tr>\n",
       "      <th>24</th>\n",
       "      <td>2020-03-13T12:11:14</td>\n",
       "      <td>인슐린</td>\n",
       "      <td>NaN</td>\n",
       "    </tr>\n",
       "    <tr>\n",
       "      <th>25</th>\n",
       "      <td>2020-03-13T12:11:34</td>\n",
       "      <td>탄수화물</td>\n",
       "      <td>NaN</td>\n",
       "    </tr>\n",
       "    <tr>\n",
       "      <th>26</th>\n",
       "      <td>2020-03-13T12:15:50</td>\n",
       "      <td>EGV</td>\n",
       "      <td>197</td>\n",
       "    </tr>\n",
       "    <tr>\n",
       "      <th>27</th>\n",
       "      <td>2020-03-13T12:20:50</td>\n",
       "      <td>EGV</td>\n",
       "      <td>196</td>\n",
       "    </tr>\n",
       "    <tr>\n",
       "      <th>28</th>\n",
       "      <td>2020-03-13T12:25:50</td>\n",
       "      <td>EGV</td>\n",
       "      <td>191</td>\n",
       "    </tr>\n",
       "    <tr>\n",
       "      <th>29</th>\n",
       "      <td>2020-03-13T12:30:49</td>\n",
       "      <td>EGV</td>\n",
       "      <td>195</td>\n",
       "    </tr>\n",
       "    <tr>\n",
       "      <th>30</th>\n",
       "      <td>2020-03-13T12:35:50</td>\n",
       "      <td>EGV</td>\n",
       "      <td>199</td>\n",
       "    </tr>\n",
       "    <tr>\n",
       "      <th>31</th>\n",
       "      <td>2020-03-13T12:40:51</td>\n",
       "      <td>EGV</td>\n",
       "      <td>223</td>\n",
       "    </tr>\n",
       "    <tr>\n",
       "      <th>32</th>\n",
       "      <td>2020-03-13T12:45:50</td>\n",
       "      <td>EGV</td>\n",
       "      <td>237</td>\n",
       "    </tr>\n",
       "    <tr>\n",
       "      <th>33</th>\n",
       "      <td>2020-03-13T12:50:51</td>\n",
       "      <td>EGV</td>\n",
       "      <td>244</td>\n",
       "    </tr>\n",
       "    <tr>\n",
       "      <th>34</th>\n",
       "      <td>2020-03-13T12:55:51</td>\n",
       "      <td>EGV</td>\n",
       "      <td>257</td>\n",
       "    </tr>\n",
       "    <tr>\n",
       "      <th>35</th>\n",
       "      <td>2020-03-13T13:00:50</td>\n",
       "      <td>EGV</td>\n",
       "      <td>269</td>\n",
       "    </tr>\n",
       "    <tr>\n",
       "      <th>36</th>\n",
       "      <td>2020-03-13T13:05:51</td>\n",
       "      <td>EGV</td>\n",
       "      <td>277</td>\n",
       "    </tr>\n",
       "    <tr>\n",
       "      <th>37</th>\n",
       "      <td>2020-03-13T13:10:50</td>\n",
       "      <td>EGV</td>\n",
       "      <td>274</td>\n",
       "    </tr>\n",
       "    <tr>\n",
       "      <th>38</th>\n",
       "      <td>2020-03-13T13:15:50</td>\n",
       "      <td>EGV</td>\n",
       "      <td>269</td>\n",
       "    </tr>\n",
       "    <tr>\n",
       "      <th>39</th>\n",
       "      <td>2020-03-13T13:20:50</td>\n",
       "      <td>EGV</td>\n",
       "      <td>275</td>\n",
       "    </tr>\n",
       "    <tr>\n",
       "      <th>40</th>\n",
       "      <td>2020-03-13T13:25:50</td>\n",
       "      <td>EGV</td>\n",
       "      <td>280</td>\n",
       "    </tr>\n",
       "    <tr>\n",
       "      <th>41</th>\n",
       "      <td>2020-03-13T13:30:50</td>\n",
       "      <td>EGV</td>\n",
       "      <td>286</td>\n",
       "    </tr>\n",
       "    <tr>\n",
       "      <th>42</th>\n",
       "      <td>2020-03-13T13:35:51</td>\n",
       "      <td>EGV</td>\n",
       "      <td>279</td>\n",
       "    </tr>\n",
       "    <tr>\n",
       "      <th>43</th>\n",
       "      <td>2020-03-13T13:40:51</td>\n",
       "      <td>EGV</td>\n",
       "      <td>281</td>\n",
       "    </tr>\n",
       "    <tr>\n",
       "      <th>44</th>\n",
       "      <td>2020-03-13T13:45:51</td>\n",
       "      <td>EGV</td>\n",
       "      <td>276</td>\n",
       "    </tr>\n",
       "    <tr>\n",
       "      <th>45</th>\n",
       "      <td>2020-03-13T13:50:50</td>\n",
       "      <td>EGV</td>\n",
       "      <td>265</td>\n",
       "    </tr>\n",
       "    <tr>\n",
       "      <th>46</th>\n",
       "      <td>2020-03-13T13:55:50</td>\n",
       "      <td>EGV</td>\n",
       "      <td>266</td>\n",
       "    </tr>\n",
       "    <tr>\n",
       "      <th>47</th>\n",
       "      <td>2020-03-13T14:00:51</td>\n",
       "      <td>EGV</td>\n",
       "      <td>260</td>\n",
       "    </tr>\n",
       "    <tr>\n",
       "      <th>48</th>\n",
       "      <td>2020-03-13T14:05:51</td>\n",
       "      <td>EGV</td>\n",
       "      <td>262</td>\n",
       "    </tr>\n",
       "    <tr>\n",
       "      <th>49</th>\n",
       "      <td>2020-03-13T14:10:51</td>\n",
       "      <td>EGV</td>\n",
       "      <td>257</td>\n",
       "    </tr>\n",
       "  </tbody>\n",
       "</table>\n",
       "</div>"
      ],
      "text/plain": [
       "              Timestamp Event Glucose\n",
       "0                   NaN    이름     NaN\n",
       "1                   NaN     성     NaN\n",
       "2                   NaN  생년월일     NaN\n",
       "3                   NaN    장치     NaN\n",
       "4                   NaN    경고     NaN\n",
       "5                   NaN    경고     250\n",
       "6                   NaN    경고      70\n",
       "7                   NaN    경고     NaN\n",
       "8                   NaN    경고     NaN\n",
       "9                   NaN    경고      55\n",
       "10  2020-03-13T11:05:03    교정     216\n",
       "11  2020-03-13T11:14:06    교정     244\n",
       "12  2020-03-13T11:15:55   EGV     227\n",
       "13  2020-03-13T11:20:50   EGV     227\n",
       "14  2020-03-13T11:25:49   EGV     224\n",
       "15  2020-03-13T11:30:49   EGV     223\n",
       "16  2020-03-13T11:35:49   EGV     222\n",
       "17  2020-03-13T11:40:50   EGV     222\n",
       "18  2020-03-13T11:45:51   EGV     218\n",
       "19  2020-03-13T11:50:49   EGV     218\n",
       "20  2020-03-13T11:55:50   EGV     218\n",
       "21  2020-03-13T12:00:51   EGV     223\n",
       "22  2020-03-13T12:05:50   EGV     217\n",
       "23  2020-03-13T12:10:50   EGV     201\n",
       "24  2020-03-13T12:11:14   인슐린     NaN\n",
       "25  2020-03-13T12:11:34  탄수화물     NaN\n",
       "26  2020-03-13T12:15:50   EGV     197\n",
       "27  2020-03-13T12:20:50   EGV     196\n",
       "28  2020-03-13T12:25:50   EGV     191\n",
       "29  2020-03-13T12:30:49   EGV     195\n",
       "30  2020-03-13T12:35:50   EGV     199\n",
       "31  2020-03-13T12:40:51   EGV     223\n",
       "32  2020-03-13T12:45:50   EGV     237\n",
       "33  2020-03-13T12:50:51   EGV     244\n",
       "34  2020-03-13T12:55:51   EGV     257\n",
       "35  2020-03-13T13:00:50   EGV     269\n",
       "36  2020-03-13T13:05:51   EGV     277\n",
       "37  2020-03-13T13:10:50   EGV     274\n",
       "38  2020-03-13T13:15:50   EGV     269\n",
       "39  2020-03-13T13:20:50   EGV     275\n",
       "40  2020-03-13T13:25:50   EGV     280\n",
       "41  2020-03-13T13:30:50   EGV     286\n",
       "42  2020-03-13T13:35:51   EGV     279\n",
       "43  2020-03-13T13:40:51   EGV     281\n",
       "44  2020-03-13T13:45:51   EGV     276\n",
       "45  2020-03-13T13:50:50   EGV     265\n",
       "46  2020-03-13T13:55:50   EGV     266\n",
       "47  2020-03-13T14:00:51   EGV     260\n",
       "48  2020-03-13T14:05:51   EGV     262\n",
       "49  2020-03-13T14:10:51   EGV     257"
      ]
     },
     "execution_count": 105,
     "metadata": {},
     "output_type": "execute_result"
    }
   ],
   "source": [
    "df.head(50)"
   ]
  },
  {
   "cell_type": "code",
   "execution_count": 106,
   "metadata": {},
   "outputs": [],
   "source": [
    "fix_glucose(df,'Glucose')"
   ]
  },
  {
   "cell_type": "code",
   "execution_count": 107,
   "metadata": {},
   "outputs": [],
   "source": [
    "fix_glucose_low(df,'Glucose')"
   ]
  },
  {
   "cell_type": "code",
   "execution_count": 108,
   "metadata": {},
   "outputs": [
    {
     "data": {
      "text/plain": [
       "1474"
      ]
     },
     "execution_count": 108,
     "metadata": {},
     "output_type": "execute_result"
    }
   ],
   "source": [
    "len(df['Timestamp'])"
   ]
  },
  {
   "cell_type": "code",
   "execution_count": 109,
   "metadata": {},
   "outputs": [
    {
     "data": {
      "text/plain": [
       "Timestamp    10\n",
       "Event         0\n",
       "Glucose      45\n",
       "dtype: int64"
      ]
     },
     "execution_count": 109,
     "metadata": {},
     "output_type": "execute_result"
    }
   ],
   "source": [
    "df.isnull().sum()"
   ]
  },
  {
   "cell_type": "code",
   "execution_count": 110,
   "metadata": {},
   "outputs": [
    {
     "data": {
      "image/png": "[encoded data removed]",
      "text/plain": [
       "<Figure size 1080x432 with 1 Axes>"
      ]
     },
     "metadata": {},
     "output_type": "display_data"
    }
   ],
   "source": [
    "df.plot(figsize=(15,6))\n",
    "plt.show()"
   ]
  },
  {
   "cell_type": "code",
   "execution_count": 111,
   "metadata": {},
   "outputs": [
    {
     "data": {
      "text/html": [
       "<div>\n",
       "<style scoped>\n",
       "    .dataframe tbody tr th:only-of-type {\n",
       "        vertical-align: middle;\n",
       "    }\n",
       "\n",
       "    .dataframe tbody tr th {\n",
       "        vertical-align: top;\n",
       "    }\n",
       "\n",
       "    .dataframe thead th {\n",
       "        text-align: right;\n",
       "    }\n",
       "</style>\n",
       "<table border=\"1\" class=\"dataframe\">\n",
       "  <thead>\n",
       "    <tr style=\"text-align: right;\">\n",
       "      <th></th>\n",
       "      <th>Timestamp</th>\n",
       "      <th>Event</th>\n",
       "      <th>Glucose</th>\n",
       "    </tr>\n",
       "  </thead>\n",
       "  <tbody>\n",
       "    <tr>\n",
       "      <th>0</th>\n",
       "      <td>NaN</td>\n",
       "      <td>이름</td>\n",
       "      <td>NaN</td>\n",
       "    </tr>\n",
       "    <tr>\n",
       "      <th>1</th>\n",
       "      <td>NaN</td>\n",
       "      <td>성</td>\n",
       "      <td>NaN</td>\n",
       "    </tr>\n",
       "    <tr>\n",
       "      <th>2</th>\n",
       "      <td>NaN</td>\n",
       "      <td>생년월일</td>\n",
       "      <td>NaN</td>\n",
       "    </tr>\n",
       "    <tr>\n",
       "      <th>3</th>\n",
       "      <td>NaN</td>\n",
       "      <td>장치</td>\n",
       "      <td>NaN</td>\n",
       "    </tr>\n",
       "    <tr>\n",
       "      <th>4</th>\n",
       "      <td>NaN</td>\n",
       "      <td>경고</td>\n",
       "      <td>NaN</td>\n",
       "    </tr>\n",
       "    <tr>\n",
       "      <th>5</th>\n",
       "      <td>NaN</td>\n",
       "      <td>경고</td>\n",
       "      <td>250</td>\n",
       "    </tr>\n",
       "    <tr>\n",
       "      <th>6</th>\n",
       "      <td>NaN</td>\n",
       "      <td>경고</td>\n",
       "      <td>70</td>\n",
       "    </tr>\n",
       "    <tr>\n",
       "      <th>7</th>\n",
       "      <td>NaN</td>\n",
       "      <td>경고</td>\n",
       "      <td>NaN</td>\n",
       "    </tr>\n",
       "    <tr>\n",
       "      <th>8</th>\n",
       "      <td>NaN</td>\n",
       "      <td>경고</td>\n",
       "      <td>NaN</td>\n",
       "    </tr>\n",
       "    <tr>\n",
       "      <th>9</th>\n",
       "      <td>NaN</td>\n",
       "      <td>경고</td>\n",
       "      <td>55</td>\n",
       "    </tr>\n",
       "    <tr>\n",
       "      <th>10</th>\n",
       "      <td>2020-03-13T11:05:03</td>\n",
       "      <td>교정</td>\n",
       "      <td>216</td>\n",
       "    </tr>\n",
       "    <tr>\n",
       "      <th>11</th>\n",
       "      <td>2020-03-13T11:14:06</td>\n",
       "      <td>교정</td>\n",
       "      <td>244</td>\n",
       "    </tr>\n",
       "    <tr>\n",
       "      <th>12</th>\n",
       "      <td>2020-03-13T11:15:55</td>\n",
       "      <td>EGV</td>\n",
       "      <td>227</td>\n",
       "    </tr>\n",
       "    <tr>\n",
       "      <th>13</th>\n",
       "      <td>2020-03-13T11:20:50</td>\n",
       "      <td>EGV</td>\n",
       "      <td>227</td>\n",
       "    </tr>\n",
       "    <tr>\n",
       "      <th>14</th>\n",
       "      <td>2020-03-13T11:25:49</td>\n",
       "      <td>EGV</td>\n",
       "      <td>224</td>\n",
       "    </tr>\n",
       "  </tbody>\n",
       "</table>\n",
       "</div>"
      ],
      "text/plain": [
       "              Timestamp Event Glucose\n",
       "0                   NaN    이름     NaN\n",
       "1                   NaN     성     NaN\n",
       "2                   NaN  생년월일     NaN\n",
       "3                   NaN    장치     NaN\n",
       "4                   NaN    경고     NaN\n",
       "5                   NaN    경고     250\n",
       "6                   NaN    경고      70\n",
       "7                   NaN    경고     NaN\n",
       "8                   NaN    경고     NaN\n",
       "9                   NaN    경고      55\n",
       "10  2020-03-13T11:05:03    교정     216\n",
       "11  2020-03-13T11:14:06    교정     244\n",
       "12  2020-03-13T11:15:55   EGV     227\n",
       "13  2020-03-13T11:20:50   EGV     227\n",
       "14  2020-03-13T11:25:49   EGV     224"
      ]
     },
     "execution_count": 111,
     "metadata": {},
     "output_type": "execute_result"
    }
   ],
   "source": [
    "df.head(15)"
   ]
  },
  {
   "cell_type": "code",
   "execution_count": 112,
   "metadata": {},
   "outputs": [
    {
     "data": {
      "text/html": [
       "<div>\n",
       "<style scoped>\n",
       "    .dataframe tbody tr th:only-of-type {\n",
       "        vertical-align: middle;\n",
       "    }\n",
       "\n",
       "    .dataframe tbody tr th {\n",
       "        vertical-align: top;\n",
       "    }\n",
       "\n",
       "    .dataframe thead th {\n",
       "        text-align: right;\n",
       "    }\n",
       "</style>\n",
       "<table border=\"1\" class=\"dataframe\">\n",
       "  <thead>\n",
       "    <tr style=\"text-align: right;\">\n",
       "      <th></th>\n",
       "      <th>Timestamp</th>\n",
       "      <th>Event</th>\n",
       "      <th>Glucose</th>\n",
       "    </tr>\n",
       "  </thead>\n",
       "  <tbody>\n",
       "    <tr>\n",
       "      <th>0</th>\n",
       "      <td>NaN</td>\n",
       "      <td>이름</td>\n",
       "      <td>NaN</td>\n",
       "    </tr>\n",
       "    <tr>\n",
       "      <th>1</th>\n",
       "      <td>NaN</td>\n",
       "      <td>성</td>\n",
       "      <td>NaN</td>\n",
       "    </tr>\n",
       "    <tr>\n",
       "      <th>2</th>\n",
       "      <td>NaN</td>\n",
       "      <td>생년월일</td>\n",
       "      <td>NaN</td>\n",
       "    </tr>\n",
       "    <tr>\n",
       "      <th>3</th>\n",
       "      <td>NaN</td>\n",
       "      <td>장치</td>\n",
       "      <td>NaN</td>\n",
       "    </tr>\n",
       "    <tr>\n",
       "      <th>4</th>\n",
       "      <td>NaN</td>\n",
       "      <td>경고</td>\n",
       "      <td>NaN</td>\n",
       "    </tr>\n",
       "    <tr>\n",
       "      <th>5</th>\n",
       "      <td>NaN</td>\n",
       "      <td>경고</td>\n",
       "      <td>250</td>\n",
       "    </tr>\n",
       "    <tr>\n",
       "      <th>6</th>\n",
       "      <td>NaN</td>\n",
       "      <td>경고</td>\n",
       "      <td>70</td>\n",
       "    </tr>\n",
       "    <tr>\n",
       "      <th>7</th>\n",
       "      <td>NaN</td>\n",
       "      <td>경고</td>\n",
       "      <td>NaN</td>\n",
       "    </tr>\n",
       "    <tr>\n",
       "      <th>8</th>\n",
       "      <td>NaN</td>\n",
       "      <td>경고</td>\n",
       "      <td>NaN</td>\n",
       "    </tr>\n",
       "    <tr>\n",
       "      <th>9</th>\n",
       "      <td>NaN</td>\n",
       "      <td>경고</td>\n",
       "      <td>55</td>\n",
       "    </tr>\n",
       "    <tr>\n",
       "      <th>10</th>\n",
       "      <td>2020-03-13T11:05:03</td>\n",
       "      <td>교정</td>\n",
       "      <td>216</td>\n",
       "    </tr>\n",
       "    <tr>\n",
       "      <th>11</th>\n",
       "      <td>2020-03-13T11:14:06</td>\n",
       "      <td>교정</td>\n",
       "      <td>244</td>\n",
       "    </tr>\n",
       "    <tr>\n",
       "      <th>12</th>\n",
       "      <td>2020-03-13T11:15:55</td>\n",
       "      <td>EGV</td>\n",
       "      <td>227</td>\n",
       "    </tr>\n",
       "    <tr>\n",
       "      <th>13</th>\n",
       "      <td>2020-03-13T11:20:50</td>\n",
       "      <td>EGV</td>\n",
       "      <td>227</td>\n",
       "    </tr>\n",
       "    <tr>\n",
       "      <th>14</th>\n",
       "      <td>2020-03-13T11:25:49</td>\n",
       "      <td>EGV</td>\n",
       "      <td>224</td>\n",
       "    </tr>\n",
       "    <tr>\n",
       "      <th>15</th>\n",
       "      <td>2020-03-13T11:30:49</td>\n",
       "      <td>EGV</td>\n",
       "      <td>223</td>\n",
       "    </tr>\n",
       "    <tr>\n",
       "      <th>16</th>\n",
       "      <td>2020-03-13T11:35:49</td>\n",
       "      <td>EGV</td>\n",
       "      <td>222</td>\n",
       "    </tr>\n",
       "    <tr>\n",
       "      <th>17</th>\n",
       "      <td>2020-03-13T11:40:50</td>\n",
       "      <td>EGV</td>\n",
       "      <td>222</td>\n",
       "    </tr>\n",
       "    <tr>\n",
       "      <th>18</th>\n",
       "      <td>2020-03-13T11:45:51</td>\n",
       "      <td>EGV</td>\n",
       "      <td>218</td>\n",
       "    </tr>\n",
       "    <tr>\n",
       "      <th>19</th>\n",
       "      <td>2020-03-13T11:50:49</td>\n",
       "      <td>EGV</td>\n",
       "      <td>218</td>\n",
       "    </tr>\n",
       "    <tr>\n",
       "      <th>20</th>\n",
       "      <td>2020-03-13T11:55:50</td>\n",
       "      <td>EGV</td>\n",
       "      <td>218</td>\n",
       "    </tr>\n",
       "    <tr>\n",
       "      <th>21</th>\n",
       "      <td>2020-03-13T12:00:51</td>\n",
       "      <td>EGV</td>\n",
       "      <td>223</td>\n",
       "    </tr>\n",
       "    <tr>\n",
       "      <th>22</th>\n",
       "      <td>2020-03-13T12:05:50</td>\n",
       "      <td>EGV</td>\n",
       "      <td>217</td>\n",
       "    </tr>\n",
       "    <tr>\n",
       "      <th>23</th>\n",
       "      <td>2020-03-13T12:10:50</td>\n",
       "      <td>EGV</td>\n",
       "      <td>201</td>\n",
       "    </tr>\n",
       "    <tr>\n",
       "      <th>24</th>\n",
       "      <td>2020-03-13T12:11:14</td>\n",
       "      <td>인슐린</td>\n",
       "      <td>NaN</td>\n",
       "    </tr>\n",
       "  </tbody>\n",
       "</table>\n",
       "</div>"
      ],
      "text/plain": [
       "              Timestamp Event Glucose\n",
       "0                   NaN    이름     NaN\n",
       "1                   NaN     성     NaN\n",
       "2                   NaN  생년월일     NaN\n",
       "3                   NaN    장치     NaN\n",
       "4                   NaN    경고     NaN\n",
       "5                   NaN    경고     250\n",
       "6                   NaN    경고      70\n",
       "7                   NaN    경고     NaN\n",
       "8                   NaN    경고     NaN\n",
       "9                   NaN    경고      55\n",
       "10  2020-03-13T11:05:03    교정     216\n",
       "11  2020-03-13T11:14:06    교정     244\n",
       "12  2020-03-13T11:15:55   EGV     227\n",
       "13  2020-03-13T11:20:50   EGV     227\n",
       "14  2020-03-13T11:25:49   EGV     224\n",
       "15  2020-03-13T11:30:49   EGV     223\n",
       "16  2020-03-13T11:35:49   EGV     222\n",
       "17  2020-03-13T11:40:50   EGV     222\n",
       "18  2020-03-13T11:45:51   EGV     218\n",
       "19  2020-03-13T11:50:49   EGV     218\n",
       "20  2020-03-13T11:55:50   EGV     218\n",
       "21  2020-03-13T12:00:51   EGV     223\n",
       "22  2020-03-13T12:05:50   EGV     217\n",
       "23  2020-03-13T12:10:50   EGV     201\n",
       "24  2020-03-13T12:11:14   인슐린     NaN"
      ]
     },
     "execution_count": 112,
     "metadata": {},
     "output_type": "execute_result"
    }
   ],
   "source": [
    "df.head(25)"
   ]
  },
  {
   "cell_type": "code",
   "execution_count": 113,
   "metadata": {},
   "outputs": [],
   "source": [
    "df=df.drop(df.index[:10,]) "
   ]
  },
  {
   "cell_type": "code",
   "execution_count": 39,
   "metadata": {},
   "outputs": [
    {
     "data": {
      "text/html": [
       "<div>\n",
       "<style scoped>\n",
       "    .dataframe tbody tr th:only-of-type {\n",
       "        vertical-align: middle;\n",
       "    }\n",
       "\n",
       "    .dataframe tbody tr th {\n",
       "        vertical-align: top;\n",
       "    }\n",
       "\n",
       "    .dataframe thead th {\n",
       "        text-align: right;\n",
       "    }\n",
       "</style>\n",
       "<table border=\"1\" class=\"dataframe\">\n",
       "  <thead>\n",
       "    <tr style=\"text-align: right;\">\n",
       "      <th></th>\n",
       "      <th>Timestamp</th>\n",
       "      <th>Event</th>\n",
       "      <th>Glucose</th>\n",
       "    </tr>\n",
       "  </thead>\n",
       "  <tbody>\n",
       "    <tr>\n",
       "      <th>1469</th>\n",
       "      <td>2020-03-18T09:20:43</td>\n",
       "      <td>EGV</td>\n",
       "      <td>400</td>\n",
       "    </tr>\n",
       "    <tr>\n",
       "      <th>1470</th>\n",
       "      <td>2020-03-18T09:25:44</td>\n",
       "      <td>EGV</td>\n",
       "      <td>400</td>\n",
       "    </tr>\n",
       "    <tr>\n",
       "      <th>1471</th>\n",
       "      <td>2020-03-18T09:30:43</td>\n",
       "      <td>EGV</td>\n",
       "      <td>400</td>\n",
       "    </tr>\n",
       "    <tr>\n",
       "      <th>1472</th>\n",
       "      <td>2020-03-18T09:35:44</td>\n",
       "      <td>EGV</td>\n",
       "      <td>400</td>\n",
       "    </tr>\n",
       "    <tr>\n",
       "      <th>1473</th>\n",
       "      <td>2020-03-18T09:40:44</td>\n",
       "      <td>EGV</td>\n",
       "      <td>400</td>\n",
       "    </tr>\n",
       "  </tbody>\n",
       "</table>\n",
       "</div>"
      ],
      "text/plain": [
       "                Timestamp Event Glucose\n",
       "1469  2020-03-18T09:20:43   EGV     400\n",
       "1470  2020-03-18T09:25:44   EGV     400\n",
       "1471  2020-03-18T09:30:43   EGV     400\n",
       "1472  2020-03-18T09:35:44   EGV     400\n",
       "1473  2020-03-18T09:40:44   EGV     400"
      ]
     },
     "execution_count": 39,
     "metadata": {},
     "output_type": "execute_result"
    }
   ],
   "source": [
    "df.tail()"
   ]
  },
  {
   "cell_type": "code",
   "execution_count": 114,
   "metadata": {},
   "outputs": [
    {
     "data": {
      "text/plain": [
       "Timestamp     0\n",
       "Event         0\n",
       "Glucose      38\n",
       "dtype: int64"
      ]
     },
     "execution_count": 114,
     "metadata": {},
     "output_type": "execute_result"
    }
   ],
   "source": [
    "df.isnull().sum()"
   ]
  },
  {
   "cell_type": "code",
   "execution_count": 40,
   "metadata": {},
   "outputs": [],
   "source": [
    "#df=df.drop(df.index[365]) "
   ]
  },
  {
   "cell_type": "code",
   "execution_count": 41,
   "metadata": {},
   "outputs": [],
   "source": [
    "#df.tail()"
   ]
  },
  {
   "cell_type": "code",
   "execution_count": 42,
   "metadata": {},
   "outputs": [
    {
     "data": {
      "text/html": [
       "<div>\n",
       "<style scoped>\n",
       "    .dataframe tbody tr th:only-of-type {\n",
       "        vertical-align: middle;\n",
       "    }\n",
       "\n",
       "    .dataframe tbody tr th {\n",
       "        vertical-align: top;\n",
       "    }\n",
       "\n",
       "    .dataframe thead th {\n",
       "        text-align: right;\n",
       "    }\n",
       "</style>\n",
       "<table border=\"1\" class=\"dataframe\">\n",
       "  <thead>\n",
       "    <tr style=\"text-align: right;\">\n",
       "      <th></th>\n",
       "      <th>Timestamp</th>\n",
       "      <th>Event</th>\n",
       "      <th>Glucose</th>\n",
       "    </tr>\n",
       "  </thead>\n",
       "  <tbody>\n",
       "    <tr>\n",
       "      <th>10</th>\n",
       "      <td>2020-03-13T11:05:03</td>\n",
       "      <td>교정</td>\n",
       "      <td>216</td>\n",
       "    </tr>\n",
       "    <tr>\n",
       "      <th>11</th>\n",
       "      <td>2020-03-13T11:14:06</td>\n",
       "      <td>교정</td>\n",
       "      <td>244</td>\n",
       "    </tr>\n",
       "    <tr>\n",
       "      <th>12</th>\n",
       "      <td>2020-03-13T11:15:55</td>\n",
       "      <td>EGV</td>\n",
       "      <td>227</td>\n",
       "    </tr>\n",
       "    <tr>\n",
       "      <th>13</th>\n",
       "      <td>2020-03-13T11:20:50</td>\n",
       "      <td>EGV</td>\n",
       "      <td>227</td>\n",
       "    </tr>\n",
       "    <tr>\n",
       "      <th>14</th>\n",
       "      <td>2020-03-13T11:25:49</td>\n",
       "      <td>EGV</td>\n",
       "      <td>224</td>\n",
       "    </tr>\n",
       "  </tbody>\n",
       "</table>\n",
       "</div>"
      ],
      "text/plain": [
       "              Timestamp Event Glucose\n",
       "10  2020-03-13T11:05:03    교정     216\n",
       "11  2020-03-13T11:14:06    교정     244\n",
       "12  2020-03-13T11:15:55   EGV     227\n",
       "13  2020-03-13T11:20:50   EGV     227\n",
       "14  2020-03-13T11:25:49   EGV     224"
      ]
     },
     "execution_count": 42,
     "metadata": {},
     "output_type": "execute_result"
    }
   ],
   "source": [
    "df.head()"
   ]
  },
  {
   "cell_type": "markdown",
   "metadata": {},
   "source": [
    "# 끝나고 결과정리 파트\n"
   ]
  },
  {
   "cell_type": "code",
   "execution_count": 74,
   "metadata": {},
   "outputs": [
    {
     "data": {
      "text/plain": [
       "Timestamp    0\n",
       "Event        0\n",
       "Glucose      0\n",
       "dtype: int64"
      ]
     },
     "execution_count": 74,
     "metadata": {},
     "output_type": "execute_result"
    }
   ],
   "source": [
    "df.isnull().sum()"
   ]
  },
  {
   "cell_type": "code",
   "execution_count": 44,
   "metadata": {},
   "outputs": [
    {
     "data": {
      "text/plain": [
       "EGV     1422\n",
       "인슐린       21\n",
       "탄수화물      17\n",
       "교정         4\n",
       "Name: Event, dtype: int64"
      ]
     },
     "execution_count": 44,
     "metadata": {},
     "output_type": "execute_result"
    }
   ],
   "source": [
    "df['Event'].value_counts()"
   ]
  },
  {
   "cell_type": "code",
   "execution_count": 45,
   "metadata": {},
   "outputs": [
    {
     "data": {
      "text/plain": [
       "400    169\n",
       "199     27\n",
       "187     20\n",
       "185     19\n",
       "197     18\n",
       "      ... \n",
       "171      1\n",
       "169      1\n",
       "389      1\n",
       "366      1\n",
       "145      1\n",
       "Name: Glucose, Length: 240, dtype: int64"
      ]
     },
     "execution_count": 45,
     "metadata": {},
     "output_type": "execute_result"
    }
   ],
   "source": [
    "df['Glucose'].value_counts()"
   ]
  },
  {
   "cell_type": "code",
   "execution_count": 46,
   "metadata": {},
   "outputs": [
    {
     "data": {
      "text/plain": [
       "array([216, 244, 227, 224, 223, 222, 218, 217, 201, nan, 197, 196, 191,\n",
       "       195, 199, 237, 257, 269, 277, 274, 275, 280, 286, 279, 281, 276,\n",
       "       265, 266, 260, 262, 254, 250, 243, 235, 238, 239, 236, 229, 219,\n",
       "       210, 207, 204, 203, 205, 193, 189, 178, 175, 185, 198, 183, 182,\n",
       "       200, 190, 180, 176, 162, 157, 145, 150, 147, 153, 158, 169, 174,\n",
       "       179, 247, 253, 246, 248, 289, 287, 245, 261, 256, 249, 263, 259,\n",
       "       226, 206, 184, 186, 187, 202, 181, 172, 167, 165, 163, 303, 271,\n",
       "       264, 242, 234, 228, 221, 220, 215, 213, 214, 212, 188, 173, 168,\n",
       "       192, 209, 240, 231, 232, 309, 327, 353, 371, 375, 400, 397, 396,\n",
       "       398, 383, 364, 345, 348, 347, 336, 332, 331, 324, 315, 311, 306,\n",
       "       296, 293, 291, 273, 251, 252, 349, 387, 386, 384, 382, 379, 393,\n",
       "       394, 390, 374, 367, 360, 354, 351, 355, 339, 330, 368, 370, 377,\n",
       "       399, 365, 359, 343, 346, 352, 350, 328, 337, 338, 333, 283, 268,\n",
       "       267, 255, 241, 230, 211, 208, 194, 312, 356, 385, 378, 376, 358,\n",
       "       361, 341, 329, 362, 335, 325, 301, 298, 295, 292, 299, 308, 305,\n",
       "       304, 233, 270, 320, 366, 340, 342, 310, 288, 171, 159, 156, 155,\n",
       "       154, 166, 161, 177, 164, 160, 151, 148, 225, 300, 307, 322, 326,\n",
       "       323, 294, 290, 278, 258, 316, 319, 318, 282, 272, 284, 302, 285,\n",
       "       395, 389, 380, 357, 334, 321, 313], dtype=object)"
      ]
     },
     "execution_count": 46,
     "metadata": {},
     "output_type": "execute_result"
    }
   ],
   "source": [
    "df['Glucose'].unique()"
   ]
  },
  {
   "cell_type": "code",
   "execution_count": 47,
   "metadata": {},
   "outputs": [
    {
     "data": {
      "image/png": "[encoded data removed]",
      "text/plain": [
       "<Figure size 1080x432 with 1 Axes>"
      ]
     },
     "metadata": {},
     "output_type": "display_data"
    }
   ],
   "source": [
    "df.plot(figsize=(15,6))\n",
    "plt.axhline(y=70,c='r',linestyle='--',linewidth=1)\n",
    "plt.axhline(y=180,c='r',linestyle='--',linewidth=1)\n",
    "plt.axhline(y=400,c='r',linestyle='--',linewidth=1)\n",
    "#plt.annotate(df['Timestamp'][13],xy=(-50,40),xytext=(-50,0),fontsize=20,bbox=dict(boxstyle='square',\n",
    "#                                                               color='white'),arrowprops=dict(facecolor='black'))\n",
    "#plt.annotate(df['Timestamp'][len(df['Timestamp'])],xytext=(-,0),fontsize=20,bbox=dict(boxstyle='square',\n",
    " #                                                              color='white'))\n",
    "plt.text(len(df['Timestamp']),185,'Hyperglycemic Threshold',family='Times New Roman',size=15)\n",
    "plt.text(len(df['Timestamp']),75,'Hypoglycemic Threshold',family='Times New Roman',size=15)\n",
    "plt.text(len(df['Timestamp']),405,'Too High ( Glucose value 400 + )',family='Times New Roman',size=15)\n",
    "\n",
    "#y=70\n",
    "#plt.plot(y,'b--',linestyles='--'),\n",
    "#plt.hlines(70,linestyles='--')\n",
    "plt.show()"
   ]
  },
  {
   "cell_type": "code",
   "execution_count": null,
   "metadata": {},
   "outputs": [],
   "source": []
  },
  {
   "cell_type": "code",
   "execution_count": 48,
   "metadata": {},
   "outputs": [],
   "source": [
    "insul=list()"
   ]
  },
  {
   "cell_type": "code",
   "execution_count": 49,
   "metadata": {},
   "outputs": [],
   "source": [
    "# 인슐린, 탄수화물 투여시 혈당값 NULL\n",
    "# 그래서 t시점에 t-2 , t-1 크기비교해서 upper면 이렇게 lower면 이렇게 해서 interpolation ( 보간)\n",
    "# 이거 위에 참고사항 drop하고 나서 적용 해줘야됨\n",
    "import math\n",
    "def interpolate_glucose(df,col):\n",
    "    #insul=list()\n",
    "    \n",
    "    for i, row in df.iterrows():\n",
    "        val=row[col]\n",
    "        if math.isnan(val):\n",
    "            if df['Glucose'][i-2] >= df['Glucose'][i-1]:\n",
    "                c = (df['Glucose'][i-2] - df['Glucose'][i-1]) / 2 \n",
    "                df.loc[i,col]= df['Glucose'][i-1] - c\n",
    "                insul.append(i)\n",
    "                print(insul)\n",
    "                \n",
    "            if df['Glucose'][i-2] < df['Glucose'][i-1]:\n",
    "                c = (df['Glucose'][i-2] - df['Glucose'][i-1]) / 2 \n",
    "                df.loc[i,col]= df['Glucose'][i-1] - c\n",
    "                insul.append(i)\n",
    "                print(insul)\n",
    "        \n",
    "           "
   ]
  },
  {
   "cell_type": "code",
   "execution_count": 50,
   "metadata": {
    "scrolled": false
   },
   "outputs": [
    {
     "name": "stdout",
     "output_type": "stream",
     "text": [
      "[24]\n",
      "[24, 25]\n",
      "[24, 25, 73]\n",
      "[24, 25, 73, 88]\n",
      "[24, 25, 73, 88, 253]\n",
      "[24, 25, 73, 88, 253, 259]\n",
      "[24, 25, 73, 88, 253, 259, 318]\n",
      "[24, 25, 73, 88, 253, 259, 318, 323]\n",
      "[24, 25, 73, 88, 253, 259, 318, 323, 382]\n",
      "[24, 25, 73, 88, 253, 259, 318, 323, 382, 383]\n",
      "[24, 25, 73, 88, 253, 259, 318, 323, 382, 383, 438]\n",
      "[24, 25, 73, 88, 253, 259, 318, 323, 382, 383, 438, 550]\n",
      "[24, 25, 73, 88, 253, 259, 318, 323, 382, 383, 438, 550, 551]\n",
      "[24, 25, 73, 88, 253, 259, 318, 323, 382, 383, 438, 550, 551, 552]\n",
      "[24, 25, 73, 88, 253, 259, 318, 323, 382, 383, 438, 550, 551, 552, 553]\n",
      "[24, 25, 73, 88, 253, 259, 318, 323, 382, 383, 438, 550, 551, 552, 553, 614]\n",
      "[24, 25, 73, 88, 253, 259, 318, 323, 382, 383, 438, 550, 551, 552, 553, 614, 615]\n",
      "[24, 25, 73, 88, 253, 259, 318, 323, 382, 383, 438, 550, 551, 552, 553, 614, 615, 679]\n",
      "[24, 25, 73, 88, 253, 259, 318, 323, 382, 383, 438, 550, 551, 552, 553, 614, 615, 679, 680]\n",
      "[24, 25, 73, 88, 253, 259, 318, 323, 382, 383, 438, 550, 551, 552, 553, 614, 615, 679, 680, 730]\n",
      "[24, 25, 73, 88, 253, 259, 318, 323, 382, 383, 438, 550, 551, 552, 553, 614, 615, 679, 680, 730, 847]\n",
      "[24, 25, 73, 88, 253, 259, 318, 323, 382, 383, 438, 550, 551, 552, 553, 614, 615, 679, 680, 730, 847, 848]\n",
      "[24, 25, 73, 88, 253, 259, 318, 323, 382, 383, 438, 550, 551, 552, 553, 614, 615, 679, 680, 730, 847, 848, 911]\n",
      "[24, 25, 73, 88, 253, 259, 318, 323, 382, 383, 438, 550, 551, 552, 553, 614, 615, 679, 680, 730, 847, 848, 911, 913]\n",
      "[24, 25, 73, 88, 253, 259, 318, 323, 382, 383, 438, 550, 551, 552, 553, 614, 615, 679, 680, 730, 847, 848, 911, 913, 976]\n",
      "[24, 25, 73, 88, 253, 259, 318, 323, 382, 383, 438, 550, 551, 552, 553, 614, 615, 679, 680, 730, 847, 848, 911, 913, 976, 977]\n",
      "[24, 25, 73, 88, 253, 259, 318, 323, 382, 383, 438, 550, 551, 552, 553, 614, 615, 679, 680, 730, 847, 848, 911, 913, 976, 977, 978]\n",
      "[24, 25, 73, 88, 253, 259, 318, 323, 382, 383, 438, 550, 551, 552, 553, 614, 615, 679, 680, 730, 847, 848, 911, 913, 976, 977, 978, 979]\n",
      "[24, 25, 73, 88, 253, 259, 318, 323, 382, 383, 438, 550, 551, 552, 553, 614, 615, 679, 680, 730, 847, 848, 911, 913, 976, 977, 978, 979, 1143]\n",
      "[24, 25, 73, 88, 253, 259, 318, 323, 382, 383, 438, 550, 551, 552, 553, 614, 615, 679, 680, 730, 847, 848, 911, 913, 976, 977, 978, 979, 1143, 1144]\n",
      "[24, 25, 73, 88, 253, 259, 318, 323, 382, 383, 438, 550, 551, 552, 553, 614, 615, 679, 680, 730, 847, 848, 911, 913, 976, 977, 978, 979, 1143, 1144, 1208]\n",
      "[24, 25, 73, 88, 253, 259, 318, 323, 382, 383, 438, 550, 551, 552, 553, 614, 615, 679, 680, 730, 847, 848, 911, 913, 976, 977, 978, 979, 1143, 1144, 1208, 1209]\n",
      "[24, 25, 73, 88, 253, 259, 318, 323, 382, 383, 438, 550, 551, 552, 553, 614, 615, 679, 680, 730, 847, 848, 911, 913, 976, 977, 978, 979, 1143, 1144, 1208, 1209, 1226]\n",
      "[24, 25, 73, 88, 253, 259, 318, 323, 382, 383, 438, 550, 551, 552, 553, 614, 615, 679, 680, 730, 847, 848, 911, 913, 976, 977, 978, 979, 1143, 1144, 1208, 1209, 1226, 1270]\n",
      "[24, 25, 73, 88, 253, 259, 318, 323, 382, 383, 438, 550, 551, 552, 553, 614, 615, 679, 680, 730, 847, 848, 911, 913, 976, 977, 978, 979, 1143, 1144, 1208, 1209, 1226, 1270, 1271]\n",
      "[24, 25, 73, 88, 253, 259, 318, 323, 382, 383, 438, 550, 551, 552, 553, 614, 615, 679, 680, 730, 847, 848, 911, 913, 976, 977, 978, 979, 1143, 1144, 1208, 1209, 1226, 1270, 1271, 1327]\n",
      "[24, 25, 73, 88, 253, 259, 318, 323, 382, 383, 438, 550, 551, 552, 553, 614, 615, 679, 680, 730, 847, 848, 911, 913, 976, 977, 978, 979, 1143, 1144, 1208, 1209, 1226, 1270, 1271, 1327, 1439]\n",
      "[24, 25, 73, 88, 253, 259, 318, 323, 382, 383, 438, 550, 551, 552, 553, 614, 615, 679, 680, 730, 847, 848, 911, 913, 976, 977, 978, 979, 1143, 1144, 1208, 1209, 1226, 1270, 1271, 1327, 1439, 1441]\n"
     ]
    }
   ],
   "source": [
    "interpolate_glucose(df,'Glucose')"
   ]
  },
  {
   "cell_type": "code",
   "execution_count": 51,
   "metadata": {},
   "outputs": [
    {
     "name": "stdout",
     "output_type": "stream",
     "text": [
      "[24, 25, 73, 88, 253, 259, 318, 323, 382, 383, 438, 550, 551, 552, 553, 614, 615, 679, 680, 730, 847, 848, 911, 913, 976, 977, 978, 979, 1143, 1144, 1208, 1209, 1226, 1270, 1271, 1327, 1439, 1441]\n"
     ]
    }
   ],
   "source": [
    "print(insul)"
   ]
  },
  {
   "cell_type": "code",
   "execution_count": 52,
   "metadata": {},
   "outputs": [
    {
     "name": "stdout",
     "output_type": "stream",
     "text": [
      "38\n"
     ]
    }
   ],
   "source": [
    "print(len(insul))"
   ]
  },
  {
   "cell_type": "code",
   "execution_count": null,
   "metadata": {},
   "outputs": [],
   "source": []
  },
  {
   "cell_type": "code",
   "execution_count": 53,
   "metadata": {},
   "outputs": [],
   "source": [
    "#df['Glucose'][insul[37]]"
   ]
  },
  {
   "cell_type": "code",
   "execution_count": 54,
   "metadata": {},
   "outputs": [],
   "source": [
    "glucose_value=list()"
   ]
  },
  {
   "cell_type": "code",
   "execution_count": 55,
   "metadata": {},
   "outputs": [],
   "source": [
    "for i in range(0,len(insul)):\n",
    "    glucose_value.append(df['Glucose'][insul[i]])"
   ]
  },
  {
   "cell_type": "code",
   "execution_count": 56,
   "metadata": {},
   "outputs": [
    {
     "data": {
      "text/plain": [
       "[193.0,\n",
       " 189.0,\n",
       " 185.0,\n",
       " 154.5,\n",
       " 218.0,\n",
       " 229.0,\n",
       " 255.0,\n",
       " 277.5,\n",
       " 348.0,\n",
       " 348.5,\n",
       " 255.0,\n",
       " 200.0,\n",
       " 200.0,\n",
       " 200.0,\n",
       " 200.0,\n",
       " 362.5,\n",
       " 363.25,\n",
       " 233.5,\n",
       " 233.75,\n",
       " 245.5,\n",
       " 162.0,\n",
       " 161.5,\n",
       " 225.0,\n",
       " 216.0,\n",
       " 291.5,\n",
       " 291.25,\n",
       " 291.125,\n",
       " 291.0625,\n",
       " 161.5,\n",
       " 158.75,\n",
       " 210.0,\n",
       " 206.5,\n",
       " 400.0,\n",
       " 251.5,\n",
       " 251.75,\n",
       " 277.5,\n",
       " 233.0,\n",
       " 225.5]"
      ]
     },
     "execution_count": 56,
     "metadata": {},
     "output_type": "execute_result"
    }
   ],
   "source": [
    "glucose_value"
   ]
  },
  {
   "cell_type": "code",
   "execution_count": 57,
   "metadata": {},
   "outputs": [
    {
     "name": "stdout",
     "output_type": "stream",
     "text": [
      "38\n"
     ]
    }
   ],
   "source": [
    "print(len(glucose_value))"
   ]
  },
  {
   "cell_type": "code",
   "execution_count": 73,
   "metadata": {},
   "outputs": [
    {
     "data": {
      "image/png": "[encoded data removed]",
      "text/plain": [
       "<Figure size 1080x432 with 1 Axes>"
      ]
     },
     "metadata": {},
     "output_type": "display_data"
    }
   ],
   "source": [
    "df.plot(figsize=(15,6))\n",
    "plt.axhline(y=70,c='r',linestyle='--',linewidth=1)\n",
    "plt.axhline(y=180,c='r',linestyle='--',linewidth=1)\n",
    "plt.axhline(y=400,c='black',linestyle='--',linewidth=1)\n",
    "plt.axhline(y=60,c='black',linestyle='--',linewidth=1)\n",
    "plt.text(len(df['Timestamp']),185,'Hyperglycemic Threshold',family='Times New Roman',size=15)\n",
    "plt.text(len(df['Timestamp']),75,'Hypoglycemic Threshold',family='Times New Roman',size=15)\n",
    "plt.scatter(insul,glucose_value,c='red',edgecolor='black',s=150)\n",
    "plt.text(len(df['Timestamp']),405,'Too High ( Glucose value 400 + )',family='Times New Roman',size=15)\n",
    "plt.text(len(df['Timestamp']),60,'',family='Times New Roman',size=15)\n",
    "plt.text(len(df['Timestamp']),-1,df['Timestamp'][len(df['Timestamp'])],family='Times New Roman',\n",
    "         fontweight='bold',size=20)\n",
    "plt.text(-100,-1,df['Timestamp'][14],family='Times New Roman',\n",
    "         fontweight='bold',size=20)\n",
    "\n",
    "#y=70\n",
    "#plt.plot(y,'b--',linestyles='--'),\n",
    "#plt.hlines(70,linestyles='--')\n",
    "plt.show()"
   ]
  },
  {
   "cell_type": "code",
   "execution_count": 59,
   "metadata": {},
   "outputs": [
    {
     "data": {
      "text/plain": [
       "<matplotlib.collections.PathCollection at 0x19dbb67fe48>"
      ]
     },
     "execution_count": 59,
     "metadata": {},
     "output_type": "execute_result"
    },
    {
     "data": {
      "image/png": "[encoded data removed]",
      "text/plain": [
       "<Figure size 432x288 with 1 Axes>"
      ]
     },
     "metadata": {},
     "output_type": "display_data"
    }
   ],
   "source": [
    "plt.scatter(insul,glucose_value)"
   ]
  },
  {
   "cell_type": "code",
   "execution_count": 60,
   "metadata": {},
   "outputs": [
    {
     "data": {
      "image/png": "[encoded data removed]",
      "text/plain": [
       "<Figure size 1080x432 with 1 Axes>"
      ]
     },
     "metadata": {},
     "output_type": "display_data"
    }
   ],
   "source": [
    "df.plot(figsize=(15,6))\n",
    "plt.show()"
   ]
  },
  {
   "cell_type": "code",
   "execution_count": 61,
   "metadata": {},
   "outputs": [
    {
     "data": {
      "text/plain": [
       "10      216\n",
       "11      244\n",
       "12      227\n",
       "13      227\n",
       "14      224\n",
       "       ... \n",
       "1469    400\n",
       "1470    400\n",
       "1471    400\n",
       "1472    400\n",
       "1473    400\n",
       "Name: Glucose, Length: 1464, dtype: object"
      ]
     },
     "execution_count": 61,
     "metadata": {},
     "output_type": "execute_result"
    }
   ],
   "source": [
    "from scipy import interpolate\n",
    "\n",
    "#iy = spi.splev(df['Timestamp'],df['Glucose'])\n",
    "\n",
    "#df['Glucose']=df['Glucose'].interpolate(method='linear',limit_direction='forward')\n",
    "#df['Glucose'].interpolate(methodhod='polynomial',order=2)\n",
    "#df['Glucose'].interpolate(method='pad',limit=\n",
    "#x_ori=df[:,1]\n",
    "#data = pd.read_csv('BG_sample2.csv',delimiter=',',dtype=np.float32,skiprows=2)\n",
    "#f1 = interpolate.interp1d(df['Timestamp'],df['Glucose'])\n",
    "df['Glucose']"
   ]
  },
  {
   "cell_type": "code",
   "execution_count": 62,
   "metadata": {},
   "outputs": [],
   "source": [
    "#import missingno as msno\n",
    "#msno.matrix(df)"
   ]
  },
  {
   "cell_type": "code",
   "execution_count": 63,
   "metadata": {},
   "outputs": [],
   "source": [
    "#x_new = np.linspace(0,len(df['Timestamp']),num=len(df['Timestamp']),endpoint=True)"
   ]
  },
  {
   "cell_type": "code",
   "execution_count": 64,
   "metadata": {},
   "outputs": [],
   "source": [
    "#plt.plot(x_new,f1(x_new))"
   ]
  },
  {
   "cell_type": "code",
   "execution_count": 65,
   "metadata": {},
   "outputs": [
    {
     "data": {
      "text/plain": [
       "Timestamp    0\n",
       "Event        0\n",
       "Glucose      0\n",
       "dtype: int64"
      ]
     },
     "execution_count": 65,
     "metadata": {},
     "output_type": "execute_result"
    }
   ],
   "source": [
    "df.isnull().sum()"
   ]
  },
  {
   "cell_type": "code",
   "execution_count": 66,
   "metadata": {},
   "outputs": [
    {
     "data": {
      "text/html": [
       "<div>\n",
       "<style scoped>\n",
       "    .dataframe tbody tr th:only-of-type {\n",
       "        vertical-align: middle;\n",
       "    }\n",
       "\n",
       "    .dataframe tbody tr th {\n",
       "        vertical-align: top;\n",
       "    }\n",
       "\n",
       "    .dataframe thead th {\n",
       "        text-align: right;\n",
       "    }\n",
       "</style>\n",
       "<table border=\"1\" class=\"dataframe\">\n",
       "  <thead>\n",
       "    <tr style=\"text-align: right;\">\n",
       "      <th></th>\n",
       "      <th>Timestamp</th>\n",
       "      <th>Event</th>\n",
       "      <th>Glucose</th>\n",
       "    </tr>\n",
       "  </thead>\n",
       "  <tbody>\n",
       "    <tr>\n",
       "      <th>10</th>\n",
       "      <td>2020-03-13T11:05:03</td>\n",
       "      <td>교정</td>\n",
       "      <td>216</td>\n",
       "    </tr>\n",
       "    <tr>\n",
       "      <th>11</th>\n",
       "      <td>2020-03-13T11:14:06</td>\n",
       "      <td>교정</td>\n",
       "      <td>244</td>\n",
       "    </tr>\n",
       "    <tr>\n",
       "      <th>12</th>\n",
       "      <td>2020-03-13T11:15:55</td>\n",
       "      <td>EGV</td>\n",
       "      <td>227</td>\n",
       "    </tr>\n",
       "    <tr>\n",
       "      <th>13</th>\n",
       "      <td>2020-03-13T11:20:50</td>\n",
       "      <td>EGV</td>\n",
       "      <td>227</td>\n",
       "    </tr>\n",
       "    <tr>\n",
       "      <th>14</th>\n",
       "      <td>2020-03-13T11:25:49</td>\n",
       "      <td>EGV</td>\n",
       "      <td>224</td>\n",
       "    </tr>\n",
       "    <tr>\n",
       "      <th>15</th>\n",
       "      <td>2020-03-13T11:30:49</td>\n",
       "      <td>EGV</td>\n",
       "      <td>223</td>\n",
       "    </tr>\n",
       "    <tr>\n",
       "      <th>16</th>\n",
       "      <td>2020-03-13T11:35:49</td>\n",
       "      <td>EGV</td>\n",
       "      <td>222</td>\n",
       "    </tr>\n",
       "    <tr>\n",
       "      <th>17</th>\n",
       "      <td>2020-03-13T11:40:50</td>\n",
       "      <td>EGV</td>\n",
       "      <td>222</td>\n",
       "    </tr>\n",
       "    <tr>\n",
       "      <th>18</th>\n",
       "      <td>2020-03-13T11:45:51</td>\n",
       "      <td>EGV</td>\n",
       "      <td>218</td>\n",
       "    </tr>\n",
       "    <tr>\n",
       "      <th>19</th>\n",
       "      <td>2020-03-13T11:50:49</td>\n",
       "      <td>EGV</td>\n",
       "      <td>218</td>\n",
       "    </tr>\n",
       "    <tr>\n",
       "      <th>20</th>\n",
       "      <td>2020-03-13T11:55:50</td>\n",
       "      <td>EGV</td>\n",
       "      <td>218</td>\n",
       "    </tr>\n",
       "    <tr>\n",
       "      <th>21</th>\n",
       "      <td>2020-03-13T12:00:51</td>\n",
       "      <td>EGV</td>\n",
       "      <td>223</td>\n",
       "    </tr>\n",
       "    <tr>\n",
       "      <th>22</th>\n",
       "      <td>2020-03-13T12:05:50</td>\n",
       "      <td>EGV</td>\n",
       "      <td>217</td>\n",
       "    </tr>\n",
       "    <tr>\n",
       "      <th>23</th>\n",
       "      <td>2020-03-13T12:10:50</td>\n",
       "      <td>EGV</td>\n",
       "      <td>201</td>\n",
       "    </tr>\n",
       "    <tr>\n",
       "      <th>24</th>\n",
       "      <td>2020-03-13T12:11:14</td>\n",
       "      <td>인슐린</td>\n",
       "      <td>193</td>\n",
       "    </tr>\n",
       "    <tr>\n",
       "      <th>25</th>\n",
       "      <td>2020-03-13T12:11:34</td>\n",
       "      <td>탄수화물</td>\n",
       "      <td>189</td>\n",
       "    </tr>\n",
       "    <tr>\n",
       "      <th>26</th>\n",
       "      <td>2020-03-13T12:15:50</td>\n",
       "      <td>EGV</td>\n",
       "      <td>197</td>\n",
       "    </tr>\n",
       "    <tr>\n",
       "      <th>27</th>\n",
       "      <td>2020-03-13T12:20:50</td>\n",
       "      <td>EGV</td>\n",
       "      <td>196</td>\n",
       "    </tr>\n",
       "    <tr>\n",
       "      <th>28</th>\n",
       "      <td>2020-03-13T12:25:50</td>\n",
       "      <td>EGV</td>\n",
       "      <td>191</td>\n",
       "    </tr>\n",
       "    <tr>\n",
       "      <th>29</th>\n",
       "      <td>2020-03-13T12:30:49</td>\n",
       "      <td>EGV</td>\n",
       "      <td>195</td>\n",
       "    </tr>\n",
       "    <tr>\n",
       "      <th>30</th>\n",
       "      <td>2020-03-13T12:35:50</td>\n",
       "      <td>EGV</td>\n",
       "      <td>199</td>\n",
       "    </tr>\n",
       "    <tr>\n",
       "      <th>31</th>\n",
       "      <td>2020-03-13T12:40:51</td>\n",
       "      <td>EGV</td>\n",
       "      <td>223</td>\n",
       "    </tr>\n",
       "    <tr>\n",
       "      <th>32</th>\n",
       "      <td>2020-03-13T12:45:50</td>\n",
       "      <td>EGV</td>\n",
       "      <td>237</td>\n",
       "    </tr>\n",
       "    <tr>\n",
       "      <th>33</th>\n",
       "      <td>2020-03-13T12:50:51</td>\n",
       "      <td>EGV</td>\n",
       "      <td>244</td>\n",
       "    </tr>\n",
       "    <tr>\n",
       "      <th>34</th>\n",
       "      <td>2020-03-13T12:55:51</td>\n",
       "      <td>EGV</td>\n",
       "      <td>257</td>\n",
       "    </tr>\n",
       "    <tr>\n",
       "      <th>35</th>\n",
       "      <td>2020-03-13T13:00:50</td>\n",
       "      <td>EGV</td>\n",
       "      <td>269</td>\n",
       "    </tr>\n",
       "    <tr>\n",
       "      <th>36</th>\n",
       "      <td>2020-03-13T13:05:51</td>\n",
       "      <td>EGV</td>\n",
       "      <td>277</td>\n",
       "    </tr>\n",
       "    <tr>\n",
       "      <th>37</th>\n",
       "      <td>2020-03-13T13:10:50</td>\n",
       "      <td>EGV</td>\n",
       "      <td>274</td>\n",
       "    </tr>\n",
       "    <tr>\n",
       "      <th>38</th>\n",
       "      <td>2020-03-13T13:15:50</td>\n",
       "      <td>EGV</td>\n",
       "      <td>269</td>\n",
       "    </tr>\n",
       "    <tr>\n",
       "      <th>39</th>\n",
       "      <td>2020-03-13T13:20:50</td>\n",
       "      <td>EGV</td>\n",
       "      <td>275</td>\n",
       "    </tr>\n",
       "  </tbody>\n",
       "</table>\n",
       "</div>"
      ],
      "text/plain": [
       "              Timestamp Event Glucose\n",
       "10  2020-03-13T11:05:03    교정     216\n",
       "11  2020-03-13T11:14:06    교정     244\n",
       "12  2020-03-13T11:15:55   EGV     227\n",
       "13  2020-03-13T11:20:50   EGV     227\n",
       "14  2020-03-13T11:25:49   EGV     224\n",
       "15  2020-03-13T11:30:49   EGV     223\n",
       "16  2020-03-13T11:35:49   EGV     222\n",
       "17  2020-03-13T11:40:50   EGV     222\n",
       "18  2020-03-13T11:45:51   EGV     218\n",
       "19  2020-03-13T11:50:49   EGV     218\n",
       "20  2020-03-13T11:55:50   EGV     218\n",
       "21  2020-03-13T12:00:51   EGV     223\n",
       "22  2020-03-13T12:05:50   EGV     217\n",
       "23  2020-03-13T12:10:50   EGV     201\n",
       "24  2020-03-13T12:11:14   인슐린     193\n",
       "25  2020-03-13T12:11:34  탄수화물     189\n",
       "26  2020-03-13T12:15:50   EGV     197\n",
       "27  2020-03-13T12:20:50   EGV     196\n",
       "28  2020-03-13T12:25:50   EGV     191\n",
       "29  2020-03-13T12:30:49   EGV     195\n",
       "30  2020-03-13T12:35:50   EGV     199\n",
       "31  2020-03-13T12:40:51   EGV     223\n",
       "32  2020-03-13T12:45:50   EGV     237\n",
       "33  2020-03-13T12:50:51   EGV     244\n",
       "34  2020-03-13T12:55:51   EGV     257\n",
       "35  2020-03-13T13:00:50   EGV     269\n",
       "36  2020-03-13T13:05:51   EGV     277\n",
       "37  2020-03-13T13:10:50   EGV     274\n",
       "38  2020-03-13T13:15:50   EGV     269\n",
       "39  2020-03-13T13:20:50   EGV     275"
      ]
     },
     "execution_count": 66,
     "metadata": {},
     "output_type": "execute_result"
    }
   ],
   "source": [
    "df.head(30)"
   ]
  },
  {
   "cell_type": "code",
   "execution_count": 67,
   "metadata": {},
   "outputs": [
    {
     "data": {
      "image/png": "[encoded data removed]",
      "text/plain": [
       "<Figure size 1080x432 with 1 Axes>"
      ]
     },
     "metadata": {},
     "output_type": "display_data"
    }
   ],
   "source": [
    "df.plot(figsize=(15,6))\n",
    "plt.axhline(y=70,c='r',linestyle='--',linewidth=1)\n",
    "plt.axhline(y=180,c='r',linestyle='--',linewidth=1)\n",
    "plt.text(len(df['Timestamp']),185,'Hyperglycemic Threshold',family='Times New Roman',size=15)\n",
    "plt.text(len(df['Timestamp']),75,'Hypoglycemic Threshold',family='Times New Roman',size=15)\n",
    "#y=70\n",
    "#plt.plot(y,'b--',linestyles='--'),\n",
    "#plt.hlines(70,linestyles='--')\n",
    "plt.show()"
   ]
  },
  {
   "cell_type": "code",
   "execution_count": null,
   "metadata": {},
   "outputs": [],
   "source": []
  },
  {
   "cell_type": "code",
   "execution_count": null,
   "metadata": {},
   "outputs": [],
   "source": []
  },
  {
   "cell_type": "code",
   "execution_count": null,
   "metadata": {},
   "outputs": [],
   "source": []
  },
  {
   "cell_type": "code",
   "execution_count": null,
   "metadata": {},
   "outputs": [],
   "source": []
  },
  {
   "cell_type": "code",
   "execution_count": null,
   "metadata": {},
   "outputs": [],
   "source": []
  },
  {
   "cell_type": "code",
   "execution_count": null,
   "metadata": {},
   "outputs": [],
   "source": []
  },
  {
   "cell_type": "code",
   "execution_count": null,
   "metadata": {},
   "outputs": [],
   "source": []
  },
  {
   "cell_type": "code",
   "execution_count": null,
   "metadata": {},
   "outputs": [],
   "source": []
  },
  {
   "cell_type": "code",
   "execution_count": null,
   "metadata": {},
   "outputs": [],
   "source": []
  }
 ],
 "metadata": {
  "kernelspec": {
   "display_name": "Python 3",
   "language": "python",
   "name": "python3"
  },
  "language_info": {
   "codemirror_mode": {
    "name": "ipython",
    "version": 3
   },
   "file_extension": ".py",
   "mimetype": "text/x-python",
   "name": "python",
   "nbconvert_exporter": "python",
   "pygments_lexer": "ipython3",
   "version": "3.7.7"
  }
 },
 "nbformat": 4,
 "nbformat_minor": 4
}
