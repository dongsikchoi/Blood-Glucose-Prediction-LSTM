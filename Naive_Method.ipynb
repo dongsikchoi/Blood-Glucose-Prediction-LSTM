{
  "nbformat": 4,
  "nbformat_minor": 0,
  "metadata": {
    "kernelspec": {
      "display_name": "Python 3",
      "language": "python",
      "name": "python3"
    },
    "language_info": {
      "codemirror_mode": {
        "name": "ipython",
        "version": 3
      },
      "file_extension": ".py",
      "mimetype": "text/x-python",
      "name": "python",
      "nbconvert_exporter": "python",
      "pygments_lexer": "ipython3",
      "version": "3.7.7"
    },
    "toc": {
      "base_numbering": 1,
      "nav_menu": {},
      "number_sections": true,
      "sideBar": true,
      "skip_h1_title": false,
      "title_cell": "Table of Contents",
      "title_sidebar": "Contents",
      "toc_cell": false,
      "toc_position": {
        "height": "837px",
        "left": "26px",
        "top": "92px",
        "width": "385px"
      },
      "toc_section_display": true,
      "toc_window_display": true
    },
    "varInspector": {
      "cols": {
        "lenName": 16,
        "lenType": 16,
        "lenVar": 40
      },
      "kernels_config": {
        "python": {
          "delete_cmd_postfix": "",
          "delete_cmd_prefix": "del ",
          "library": "var_list.py",
          "varRefreshCmd": "print(var_dic_list())"
        },
        "r": {
          "delete_cmd_postfix": ") ",
          "delete_cmd_prefix": "rm(",
          "library": "var_list.r",
          "varRefreshCmd": "cat(var_dic_list()) "
        }
      },
      "position": {
        "height": "592px",
        "left": "1521px",
        "right": "20px",
        "top": "128px",
        "width": "401px"
      },
      "types_to_exclude": [
        "module",
        "function",
        "builtin_function_or_method",
        "instance",
        "_Feature"
      ],
      "window_display": false
    },
    "colab": {
      "name": "BG_Prediction_Naive_method.ipynb",
      "provenance": [],
      "collapsed_sections": [
        "tD-xVtSIq9q3"
      ],
      "toc_visible": true
    }
  },
  "cells": [
    {
      "cell_type": "markdown",
      "metadata": {
        "id": "view-in-github"
      },
      "source": [
        "<a href=\"https://colab.research.google.com/github/dongsikchoi/ML_Time-Series_EDA/blob/master/BG_Prediction_Univariate_Filter_X_01_25.ipynb\" target=\"_parent\"><img src=\"https://colab.research.google.com/assets/colab-badge.svg\" alt=\"Open In Colab\"/></a>"
      ]
    },
    {
      "cell_type": "markdown",
      "metadata": {
        "id": "lx196wNwq9qn"
      },
      "source": [
        "### 필요 라이브러리 로드"
      ]
    },
    {
      "cell_type": "code",
      "metadata": {
        "ExecuteTime": {
          "end_time": "2021-01-25T01:11:17.017681Z",
          "start_time": "2021-01-25T01:11:15.594487Z"
        },
        "id": "-7Ts1kTdq9qr"
      },
      "source": [
        "import warnings\n",
        "import itertools\n",
        "import numpy as np\n",
        "import matplotlib.pyplot as plt\n",
        "warnings.filterwarnings(\"ignore\")\n",
        "plt.style.use('fivethirtyeight')\n",
        "import pandas as pd\n",
        "import statsmodels.api as sm\n",
        "import matplotlib\n",
        "\n",
        "matplotlib.rcParams['axes.labelsize']=14\n",
        "matplotlib.rcParams['xtick.labelsize']=12\n",
        "matplotlib.rcParams['ytick.labelsize']=12\n",
        "matplotlib.rcParams['text.color']='k'"
      ],
      "execution_count": 1,
      "outputs": []
    },
    {
      "cell_type": "code",
      "metadata": {
        "id": "0mabAlWoq-4v"
      },
      "source": [
        "# Colab\r\n",
        "#from google.colab import auth\r\n",
        "#auth.authenticate_user()"
      ],
      "execution_count": 2,
      "outputs": []
    },
    {
      "cell_type": "code",
      "metadata": {
        "colab": {
          "base_uri": "https://localhost:8080/"
        },
        "id": "YMukYC78rI9D",
        "outputId": "da6507b4-f753-45a2-a7de-337d92f5b690"
      },
      "source": [
        "from google.colab import drive\n",
        "drive.mount('/content/drive')"
      ],
      "execution_count": 3,
      "outputs": [
        {
          "output_type": "stream",
          "text": [
            "Drive already mounted at /content/drive; to attempt to forcibly remount, call drive.mount(\"/content/drive\", force_remount=True).\n"
          ],
          "name": "stdout"
        }
      ]
    },
    {
      "cell_type": "code",
      "metadata": {
        "ExecuteTime": {
          "end_time": "2021-01-25T01:11:17.033638Z",
          "start_time": "2021-01-25T01:11:17.021672Z"
        },
        "id": "v-JGa4Mfq9qs"
      },
      "source": [
        "pd.set_option('display.max_columns',500) \n",
        "#출력시 생략 X"
      ],
      "execution_count": 4,
      "outputs": []
    },
    {
      "cell_type": "markdown",
      "metadata": {
        "id": "1DTmoDOkq9qs"
      },
      "source": [
        "### 데이터셋 설정 "
      ]
    },
    {
      "cell_type": "code",
      "metadata": {
        "ExecuteTime": {
          "end_time": "2021-01-25T01:51:11.992775Z",
          "start_time": "2021-01-25T01:51:11.855142Z"
        },
        "id": "2iPg6upoq9qt"
      },
      "source": [
        "#df=pd.read_excel(\"BG_Dataset/BG_sample27.xlsx\")"
      ],
      "execution_count": 5,
      "outputs": []
    },
    {
      "cell_type": "code",
      "metadata": {
        "id": "mvp2qFY6rUd3"
      },
      "source": [
        "# Colab\r\n",
        "df = pd.read_excel(\"/content/drive/MyDrive/BG_Dataset/BG_sample14.xlsx\")\r\n",
        "#df = pd.read_csv(\"/content/drive/MyDrive/BG_Dataset/BG_Sample46.csv\")\r\n"
      ],
      "execution_count": 6,
      "outputs": []
    },
    {
      "cell_type": "code",
      "metadata": {
        "ExecuteTime": {
          "end_time": "2021-01-25T01:51:14.576866Z",
          "start_time": "2021-01-25T01:51:14.562904Z"
        },
        "colab": {
          "base_uri": "https://localhost:8080/"
        },
        "id": "WR0-r_OUq9qt",
        "outputId": "94fabdf2-2a4d-4c02-8dad-de1def82ef28"
      },
      "source": [
        "df.shape"
      ],
      "execution_count": 7,
      "outputs": [
        {
          "output_type": "execute_result",
          "data": {
            "text/plain": [
              "(1155, 14)"
            ]
          },
          "metadata": {
            "tags": []
          },
          "execution_count": 7
        }
      ]
    },
    {
      "cell_type": "code",
      "metadata": {
        "ExecuteTime": {
          "end_time": "2021-01-25T01:51:16.523597Z",
          "start_time": "2021-01-25T01:51:16.508638Z"
        },
        "colab": {
          "base_uri": "https://localhost:8080/",
          "height": 452
        },
        "id": "NUfEWB3Oq9qu",
        "outputId": "e96acfdf-c893-4a06-fce7-961946ff8e29"
      },
      "source": [
        "df.head(13)"
      ],
      "execution_count": 8,
      "outputs": [
        {
          "output_type": "execute_result",
          "data": {
            "text/html": [
              "<div>\n",
              "<style scoped>\n",
              "    .dataframe tbody tr th:only-of-type {\n",
              "        vertical-align: middle;\n",
              "    }\n",
              "\n",
              "    .dataframe tbody tr th {\n",
              "        vertical-align: top;\n",
              "    }\n",
              "\n",
              "    .dataframe thead th {\n",
              "        text-align: right;\n",
              "    }\n",
              "</style>\n",
              "<table border=\"1\" class=\"dataframe\">\n",
              "  <thead>\n",
              "    <tr style=\"text-align: right;\">\n",
              "      <th></th>\n",
              "      <th>색인</th>\n",
              "      <th>타임스탬프(YYYY-MM-DDThh:mm:ss)</th>\n",
              "      <th>이벤트 유형</th>\n",
              "      <th>이벤트 하위 유형</th>\n",
              "      <th>환자 정보</th>\n",
              "      <th>장치 정보</th>\n",
              "      <th>소스 장치 ID</th>\n",
              "      <th>포도당 값 (mg/dL)</th>\n",
              "      <th>인슐린 값(u)</th>\n",
              "      <th>탄수화물 값 (그램)</th>\n",
              "      <th>기간(hh:mm:ss)</th>\n",
              "      <th>포도당 변화율 (mg/dL/min)</th>\n",
              "      <th>트랜스미터 시간 (배장 정수)</th>\n",
              "      <th>트랜스미터 ID</th>\n",
              "    </tr>\n",
              "  </thead>\n",
              "  <tbody>\n",
              "    <tr>\n",
              "      <th>0</th>\n",
              "      <td>1</td>\n",
              "      <td>NaN</td>\n",
              "      <td>이름</td>\n",
              "      <td>NaN</td>\n",
              "      <td>sch</td>\n",
              "      <td>NaN</td>\n",
              "      <td>NaN</td>\n",
              "      <td>NaN</td>\n",
              "      <td>NaN</td>\n",
              "      <td>NaN</td>\n",
              "      <td>NaN</td>\n",
              "      <td>NaN</td>\n",
              "      <td>NaN</td>\n",
              "      <td>NaN</td>\n",
              "    </tr>\n",
              "    <tr>\n",
              "      <th>1</th>\n",
              "      <td>2</td>\n",
              "      <td>NaN</td>\n",
              "      <td>성</td>\n",
              "      <td>NaN</td>\n",
              "      <td>3</td>\n",
              "      <td>NaN</td>\n",
              "      <td>NaN</td>\n",
              "      <td>NaN</td>\n",
              "      <td>NaN</td>\n",
              "      <td>NaN</td>\n",
              "      <td>NaN</td>\n",
              "      <td>NaN</td>\n",
              "      <td>NaN</td>\n",
              "      <td>NaN</td>\n",
              "    </tr>\n",
              "    <tr>\n",
              "      <th>2</th>\n",
              "      <td>3</td>\n",
              "      <td>NaN</td>\n",
              "      <td>생년월일</td>\n",
              "      <td>NaN</td>\n",
              "      <td>1983-01-24 00:00:00</td>\n",
              "      <td>NaN</td>\n",
              "      <td>NaN</td>\n",
              "      <td>NaN</td>\n",
              "      <td>NaN</td>\n",
              "      <td>NaN</td>\n",
              "      <td>NaN</td>\n",
              "      <td>NaN</td>\n",
              "      <td>NaN</td>\n",
              "      <td>NaN</td>\n",
              "    </tr>\n",
              "    <tr>\n",
              "      <th>3</th>\n",
              "      <td>4</td>\n",
              "      <td>NaN</td>\n",
              "      <td>장치</td>\n",
              "      <td>NaN</td>\n",
              "      <td>NaN</td>\n",
              "      <td>Dexcom G5 Mobile App</td>\n",
              "      <td>Android</td>\n",
              "      <td>NaN</td>\n",
              "      <td>NaN</td>\n",
              "      <td>NaN</td>\n",
              "      <td>NaN</td>\n",
              "      <td>NaN</td>\n",
              "      <td>NaN</td>\n",
              "      <td>NaN</td>\n",
              "    </tr>\n",
              "    <tr>\n",
              "      <th>4</th>\n",
              "      <td>5</td>\n",
              "      <td>NaN</td>\n",
              "      <td>경고</td>\n",
              "      <td>하락</td>\n",
              "      <td>NaN</td>\n",
              "      <td>NaN</td>\n",
              "      <td>Android</td>\n",
              "      <td>NaN</td>\n",
              "      <td>NaN</td>\n",
              "      <td>NaN</td>\n",
              "      <td>NaN</td>\n",
              "      <td>3.0</td>\n",
              "      <td>NaN</td>\n",
              "      <td>NaN</td>\n",
              "    </tr>\n",
              "    <tr>\n",
              "      <th>5</th>\n",
              "      <td>6</td>\n",
              "      <td>NaN</td>\n",
              "      <td>경고</td>\n",
              "      <td>높음</td>\n",
              "      <td>NaN</td>\n",
              "      <td>NaN</td>\n",
              "      <td>Android</td>\n",
              "      <td>250.0</td>\n",
              "      <td>NaN</td>\n",
              "      <td>NaN</td>\n",
              "      <td>NaN</td>\n",
              "      <td>NaN</td>\n",
              "      <td>NaN</td>\n",
              "      <td>NaN</td>\n",
              "    </tr>\n",
              "    <tr>\n",
              "      <th>6</th>\n",
              "      <td>7</td>\n",
              "      <td>NaN</td>\n",
              "      <td>경고</td>\n",
              "      <td>낮음</td>\n",
              "      <td>NaN</td>\n",
              "      <td>NaN</td>\n",
              "      <td>Android</td>\n",
              "      <td>70.0</td>\n",
              "      <td>NaN</td>\n",
              "      <td>NaN</td>\n",
              "      <td>NaN</td>\n",
              "      <td>NaN</td>\n",
              "      <td>NaN</td>\n",
              "      <td>NaN</td>\n",
              "    </tr>\n",
              "    <tr>\n",
              "      <th>7</th>\n",
              "      <td>8</td>\n",
              "      <td>NaN</td>\n",
              "      <td>경고</td>\n",
              "      <td>신호 손실</td>\n",
              "      <td>NaN</td>\n",
              "      <td>NaN</td>\n",
              "      <td>Android</td>\n",
              "      <td>NaN</td>\n",
              "      <td>NaN</td>\n",
              "      <td>NaN</td>\n",
              "      <td>00:30:00</td>\n",
              "      <td>NaN</td>\n",
              "      <td>NaN</td>\n",
              "      <td>NaN</td>\n",
              "    </tr>\n",
              "    <tr>\n",
              "      <th>8</th>\n",
              "      <td>9</td>\n",
              "      <td>NaN</td>\n",
              "      <td>경고</td>\n",
              "      <td>상승</td>\n",
              "      <td>NaN</td>\n",
              "      <td>NaN</td>\n",
              "      <td>Android</td>\n",
              "      <td>NaN</td>\n",
              "      <td>NaN</td>\n",
              "      <td>NaN</td>\n",
              "      <td>NaN</td>\n",
              "      <td>3.0</td>\n",
              "      <td>NaN</td>\n",
              "      <td>NaN</td>\n",
              "    </tr>\n",
              "    <tr>\n",
              "      <th>9</th>\n",
              "      <td>10</td>\n",
              "      <td>NaN</td>\n",
              "      <td>경고</td>\n",
              "      <td>긴급하게 낮음</td>\n",
              "      <td>NaN</td>\n",
              "      <td>NaN</td>\n",
              "      <td>Android</td>\n",
              "      <td>55.0</td>\n",
              "      <td>NaN</td>\n",
              "      <td>NaN</td>\n",
              "      <td>NaN</td>\n",
              "      <td>NaN</td>\n",
              "      <td>NaN</td>\n",
              "      <td>NaN</td>\n",
              "    </tr>\n",
              "    <tr>\n",
              "      <th>10</th>\n",
              "      <td>11</td>\n",
              "      <td>2020-01-20T15:41:13</td>\n",
              "      <td>교정</td>\n",
              "      <td>NaN</td>\n",
              "      <td>NaN</td>\n",
              "      <td>NaN</td>\n",
              "      <td>Android</td>\n",
              "      <td>139.0</td>\n",
              "      <td>NaN</td>\n",
              "      <td>NaN</td>\n",
              "      <td>NaN</td>\n",
              "      <td>NaN</td>\n",
              "      <td>NaN</td>\n",
              "      <td>42E570</td>\n",
              "    </tr>\n",
              "    <tr>\n",
              "      <th>11</th>\n",
              "      <td>12</td>\n",
              "      <td>2020-01-20T15:58:23</td>\n",
              "      <td>교정</td>\n",
              "      <td>NaN</td>\n",
              "      <td>NaN</td>\n",
              "      <td>NaN</td>\n",
              "      <td>Android</td>\n",
              "      <td>135.0</td>\n",
              "      <td>NaN</td>\n",
              "      <td>NaN</td>\n",
              "      <td>NaN</td>\n",
              "      <td>NaN</td>\n",
              "      <td>NaN</td>\n",
              "      <td>42E570</td>\n",
              "    </tr>\n",
              "    <tr>\n",
              "      <th>12</th>\n",
              "      <td>13</td>\n",
              "      <td>2020-01-20T16:02:23</td>\n",
              "      <td>EGV</td>\n",
              "      <td>NaN</td>\n",
              "      <td>NaN</td>\n",
              "      <td>NaN</td>\n",
              "      <td>Android</td>\n",
              "      <td>123.0</td>\n",
              "      <td>NaN</td>\n",
              "      <td>NaN</td>\n",
              "      <td>NaN</td>\n",
              "      <td>NaN</td>\n",
              "      <td>1572289.0</td>\n",
              "      <td>42E570</td>\n",
              "    </tr>\n",
              "  </tbody>\n",
              "</table>\n",
              "</div>"
            ],
            "text/plain": [
              "    색인 타임스탬프(YYYY-MM-DDThh:mm:ss) 이벤트 유형 이벤트 하위 유형                환자 정보  \\\n",
              "0    1                        NaN     이름       NaN                  sch   \n",
              "1    2                        NaN      성       NaN                    3   \n",
              "2    3                        NaN   생년월일       NaN  1983-01-24 00:00:00   \n",
              "3    4                        NaN     장치       NaN                  NaN   \n",
              "4    5                        NaN     경고        하락                  NaN   \n",
              "5    6                        NaN     경고        높음                  NaN   \n",
              "6    7                        NaN     경고        낮음                  NaN   \n",
              "7    8                        NaN     경고     신호 손실                  NaN   \n",
              "8    9                        NaN     경고        상승                  NaN   \n",
              "9   10                        NaN     경고   긴급하게 낮음                  NaN   \n",
              "10  11        2020-01-20T15:41:13     교정       NaN                  NaN   \n",
              "11  12        2020-01-20T15:58:23     교정       NaN                  NaN   \n",
              "12  13        2020-01-20T16:02:23    EGV       NaN                  NaN   \n",
              "\n",
              "                   장치 정보 소스 장치 ID  포도당 값 (mg/dL)  인슐린 값(u)  탄수화물 값 (그램)  \\\n",
              "0                    NaN      NaN            NaN       NaN          NaN   \n",
              "1                    NaN      NaN            NaN       NaN          NaN   \n",
              "2                    NaN      NaN            NaN       NaN          NaN   \n",
              "3   Dexcom G5 Mobile App  Android            NaN       NaN          NaN   \n",
              "4                    NaN  Android            NaN       NaN          NaN   \n",
              "5                    NaN  Android          250.0       NaN          NaN   \n",
              "6                    NaN  Android           70.0       NaN          NaN   \n",
              "7                    NaN  Android            NaN       NaN          NaN   \n",
              "8                    NaN  Android            NaN       NaN          NaN   \n",
              "9                    NaN  Android           55.0       NaN          NaN   \n",
              "10                   NaN  Android          139.0       NaN          NaN   \n",
              "11                   NaN  Android          135.0       NaN          NaN   \n",
              "12                   NaN  Android          123.0       NaN          NaN   \n",
              "\n",
              "   기간(hh:mm:ss)  포도당 변화율 (mg/dL/min)  트랜스미터 시간 (배장 정수) 트랜스미터 ID  \n",
              "0           NaN                  NaN               NaN      NaN  \n",
              "1           NaN                  NaN               NaN      NaN  \n",
              "2           NaN                  NaN               NaN      NaN  \n",
              "3           NaN                  NaN               NaN      NaN  \n",
              "4           NaN                  3.0               NaN      NaN  \n",
              "5           NaN                  NaN               NaN      NaN  \n",
              "6           NaN                  NaN               NaN      NaN  \n",
              "7      00:30:00                  NaN               NaN      NaN  \n",
              "8           NaN                  3.0               NaN      NaN  \n",
              "9           NaN                  NaN               NaN      NaN  \n",
              "10          NaN                  NaN               NaN   42E570  \n",
              "11          NaN                  NaN               NaN   42E570  \n",
              "12          NaN                  NaN         1572289.0   42E570  "
            ]
          },
          "metadata": {
            "tags": []
          },
          "execution_count": 8
        }
      ]
    },
    {
      "cell_type": "code",
      "metadata": {
        "ExecuteTime": {
          "end_time": "2021-01-25T01:51:16.538557Z",
          "start_time": "2021-01-25T01:51:16.525593Z"
        },
        "id": "ffJCYqbfq9qu"
      },
      "source": [
        "#필요없는 열 제거\n",
        "cols = ['색인', '이벤트 하위 유형', '환자 정보', '장치 정보', '소스 장치 ID', '기간(hh:mm:ss)', '포도당 변화율 (mg/dL/min)', '트랜스미터 시간 (배장 정수)', '트랜스미터 ID']\n",
        "df.drop(cols, axis=1, inplace=True)\n"
      ],
      "execution_count": 9,
      "outputs": []
    },
    {
      "cell_type": "code",
      "metadata": {
        "ExecuteTime": {
          "end_time": "2021-01-25T01:51:19.726562Z",
          "start_time": "2021-01-25T01:51:19.711592Z"
        },
        "id": "zBXR3xmWq9qu"
      },
      "source": [
        "df=df.rename({'타임스탬프(YYYY-MM-DDThh:mm:ss)':'Timestamp','포도당 값 (mg/dL)':'Glucose','이벤트 유형':'Event',\n",
        "             '인슐린 값(u)':'Insulin','탄수화물 값 (그램)':'Meal'},axis='columns')"
      ],
      "execution_count": 10,
      "outputs": []
    },
    {
      "cell_type": "code",
      "metadata": {
        "ExecuteTime": {
          "end_time": "2021-01-25T01:51:21.609517Z",
          "start_time": "2021-01-25T01:51:21.594557Z"
        },
        "colab": {
          "base_uri": "https://localhost:8080/"
        },
        "id": "P1FIKbkoq9qv",
        "outputId": "3b8690f9-bca0-4c89-a118-0765a44e61e0"
      },
      "source": [
        "df['Event'].value_counts()"
      ],
      "execution_count": 11,
      "outputs": [
        {
          "output_type": "execute_result",
          "data": {
            "text/plain": [
              "EGV     1117\n",
              "인슐린       12\n",
              "교정         9\n",
              "탄수화물       7\n",
              "경고         6\n",
              "생년월일       1\n",
              "장치         1\n",
              "성          1\n",
              "이름         1\n",
              "Name: Event, dtype: int64"
            ]
          },
          "metadata": {
            "tags": []
          },
          "execution_count": 11
        }
      ]
    },
    {
      "cell_type": "code",
      "metadata": {
        "ExecuteTime": {
          "end_time": "2021-01-25T01:51:21.856856Z",
          "start_time": "2021-01-25T01:51:21.841897Z"
        },
        "colab": {
          "base_uri": "https://localhost:8080/"
        },
        "id": "O09mun7lq9qv",
        "outputId": "4d02e8b6-1040-43c9-a6d3-5155c6451371"
      },
      "source": [
        "df['Glucose'].value_counts()"
      ],
      "execution_count": 12,
      "outputs": [
        {
          "output_type": "execute_result",
          "data": {
            "text/plain": [
              "99.0     16\n",
              "129.0    14\n",
              "134.0    14\n",
              "97.0     13\n",
              "153.0    13\n",
              "         ..\n",
              "271.0     1\n",
              "227.0     1\n",
              "185.0     1\n",
              "270.0     1\n",
              "277.0     1\n",
              "Name: Glucose, Length: 209, dtype: int64"
            ]
          },
          "metadata": {
            "tags": []
          },
          "execution_count": 12
        }
      ]
    },
    {
      "cell_type": "code",
      "metadata": {
        "ExecuteTime": {
          "end_time": "2021-01-25T01:51:26.308136Z",
          "start_time": "2021-01-25T01:51:26.293177Z"
        },
        "colab": {
          "base_uri": "https://localhost:8080/",
          "height": 204
        },
        "id": "ptjIo4sYq9qv",
        "outputId": "965717fe-8a2e-49c8-a55b-cdc9781bd002"
      },
      "source": [
        "df.tail()"
      ],
      "execution_count": 13,
      "outputs": [
        {
          "output_type": "execute_result",
          "data": {
            "text/html": [
              "<div>\n",
              "<style scoped>\n",
              "    .dataframe tbody tr th:only-of-type {\n",
              "        vertical-align: middle;\n",
              "    }\n",
              "\n",
              "    .dataframe tbody tr th {\n",
              "        vertical-align: top;\n",
              "    }\n",
              "\n",
              "    .dataframe thead th {\n",
              "        text-align: right;\n",
              "    }\n",
              "</style>\n",
              "<table border=\"1\" class=\"dataframe\">\n",
              "  <thead>\n",
              "    <tr style=\"text-align: right;\">\n",
              "      <th></th>\n",
              "      <th>Timestamp</th>\n",
              "      <th>Event</th>\n",
              "      <th>Glucose</th>\n",
              "      <th>Insulin</th>\n",
              "      <th>Meal</th>\n",
              "    </tr>\n",
              "  </thead>\n",
              "  <tbody>\n",
              "    <tr>\n",
              "      <th>1150</th>\n",
              "      <td>2020-01-24T13:52:10</td>\n",
              "      <td>EGV</td>\n",
              "      <td>182.0</td>\n",
              "      <td>NaN</td>\n",
              "      <td>NaN</td>\n",
              "    </tr>\n",
              "    <tr>\n",
              "      <th>1151</th>\n",
              "      <td>2020-01-24T13:57:10</td>\n",
              "      <td>EGV</td>\n",
              "      <td>175.0</td>\n",
              "      <td>NaN</td>\n",
              "      <td>NaN</td>\n",
              "    </tr>\n",
              "    <tr>\n",
              "      <th>1152</th>\n",
              "      <td>2020-01-24T14:02:10</td>\n",
              "      <td>EGV</td>\n",
              "      <td>170.0</td>\n",
              "      <td>NaN</td>\n",
              "      <td>NaN</td>\n",
              "    </tr>\n",
              "    <tr>\n",
              "      <th>1153</th>\n",
              "      <td>2020-01-24T14:07:10</td>\n",
              "      <td>EGV</td>\n",
              "      <td>167.0</td>\n",
              "      <td>NaN</td>\n",
              "      <td>NaN</td>\n",
              "    </tr>\n",
              "    <tr>\n",
              "      <th>1154</th>\n",
              "      <td>2020-01-24T14:12:10</td>\n",
              "      <td>EGV</td>\n",
              "      <td>151.0</td>\n",
              "      <td>NaN</td>\n",
              "      <td>NaN</td>\n",
              "    </tr>\n",
              "  </tbody>\n",
              "</table>\n",
              "</div>"
            ],
            "text/plain": [
              "                Timestamp Event  Glucose  Insulin  Meal\n",
              "1150  2020-01-24T13:52:10   EGV    182.0      NaN   NaN\n",
              "1151  2020-01-24T13:57:10   EGV    175.0      NaN   NaN\n",
              "1152  2020-01-24T14:02:10   EGV    170.0      NaN   NaN\n",
              "1153  2020-01-24T14:07:10   EGV    167.0      NaN   NaN\n",
              "1154  2020-01-24T14:12:10   EGV    151.0      NaN   NaN"
            ]
          },
          "metadata": {
            "tags": []
          },
          "execution_count": 13
        }
      ]
    },
    {
      "cell_type": "code",
      "metadata": {
        "ExecuteTime": {
          "end_time": "2021-01-25T01:51:28.257217Z",
          "start_time": "2021-01-25T01:51:28.243254Z"
        },
        "colab": {
          "base_uri": "https://localhost:8080/"
        },
        "id": "37jYwbU0q9qv",
        "outputId": "ee99e40b-8aa4-43a1-defb-becb291e2425"
      },
      "source": [
        "# 인슐린 투여횟수\n",
        "df['Insulin'].value_counts()"
      ],
      "execution_count": 14,
      "outputs": [
        {
          "output_type": "execute_result",
          "data": {
            "text/plain": [
              "0.0     8\n",
              "44.0    2\n",
              "20.0    1\n",
              "52.0    1\n",
              "Name: Insulin, dtype: int64"
            ]
          },
          "metadata": {
            "tags": []
          },
          "execution_count": 14
        }
      ]
    },
    {
      "cell_type": "code",
      "metadata": {
        "ExecuteTime": {
          "end_time": "2021-01-25T01:51:30.174549Z",
          "start_time": "2021-01-25T01:51:30.160585Z"
        },
        "colab": {
          "base_uri": "https://localhost:8080/"
        },
        "id": "LmVKw59bq9qv",
        "outputId": "754ac962-18ba-4413-89f6-4470bc47440b"
      },
      "source": [
        "# 식사 횟수\n",
        "df['Meal'].value_counts()"
      ],
      "execution_count": 15,
      "outputs": [
        {
          "output_type": "execute_result",
          "data": {
            "text/plain": [
              "0.0      5\n",
              "200.0    1\n",
              "100.0    1\n",
              "Name: Meal, dtype: int64"
            ]
          },
          "metadata": {
            "tags": []
          },
          "execution_count": 15
        }
      ]
    },
    {
      "cell_type": "code",
      "metadata": {
        "ExecuteTime": {
          "end_time": "2021-01-25T01:51:32.245847Z",
          "start_time": "2021-01-25T01:51:32.230887Z"
        },
        "colab": {
          "base_uri": "https://localhost:8080/",
          "height": 514
        },
        "id": "lMmVyYYcq9qw",
        "outputId": "e04b473f-a893-46d4-d191-f180896f266f"
      },
      "source": [
        "df.head(15)"
      ],
      "execution_count": 16,
      "outputs": [
        {
          "output_type": "execute_result",
          "data": {
            "text/html": [
              "<div>\n",
              "<style scoped>\n",
              "    .dataframe tbody tr th:only-of-type {\n",
              "        vertical-align: middle;\n",
              "    }\n",
              "\n",
              "    .dataframe tbody tr th {\n",
              "        vertical-align: top;\n",
              "    }\n",
              "\n",
              "    .dataframe thead th {\n",
              "        text-align: right;\n",
              "    }\n",
              "</style>\n",
              "<table border=\"1\" class=\"dataframe\">\n",
              "  <thead>\n",
              "    <tr style=\"text-align: right;\">\n",
              "      <th></th>\n",
              "      <th>Timestamp</th>\n",
              "      <th>Event</th>\n",
              "      <th>Glucose</th>\n",
              "      <th>Insulin</th>\n",
              "      <th>Meal</th>\n",
              "    </tr>\n",
              "  </thead>\n",
              "  <tbody>\n",
              "    <tr>\n",
              "      <th>0</th>\n",
              "      <td>NaN</td>\n",
              "      <td>이름</td>\n",
              "      <td>NaN</td>\n",
              "      <td>NaN</td>\n",
              "      <td>NaN</td>\n",
              "    </tr>\n",
              "    <tr>\n",
              "      <th>1</th>\n",
              "      <td>NaN</td>\n",
              "      <td>성</td>\n",
              "      <td>NaN</td>\n",
              "      <td>NaN</td>\n",
              "      <td>NaN</td>\n",
              "    </tr>\n",
              "    <tr>\n",
              "      <th>2</th>\n",
              "      <td>NaN</td>\n",
              "      <td>생년월일</td>\n",
              "      <td>NaN</td>\n",
              "      <td>NaN</td>\n",
              "      <td>NaN</td>\n",
              "    </tr>\n",
              "    <tr>\n",
              "      <th>3</th>\n",
              "      <td>NaN</td>\n",
              "      <td>장치</td>\n",
              "      <td>NaN</td>\n",
              "      <td>NaN</td>\n",
              "      <td>NaN</td>\n",
              "    </tr>\n",
              "    <tr>\n",
              "      <th>4</th>\n",
              "      <td>NaN</td>\n",
              "      <td>경고</td>\n",
              "      <td>NaN</td>\n",
              "      <td>NaN</td>\n",
              "      <td>NaN</td>\n",
              "    </tr>\n",
              "    <tr>\n",
              "      <th>5</th>\n",
              "      <td>NaN</td>\n",
              "      <td>경고</td>\n",
              "      <td>250.0</td>\n",
              "      <td>NaN</td>\n",
              "      <td>NaN</td>\n",
              "    </tr>\n",
              "    <tr>\n",
              "      <th>6</th>\n",
              "      <td>NaN</td>\n",
              "      <td>경고</td>\n",
              "      <td>70.0</td>\n",
              "      <td>NaN</td>\n",
              "      <td>NaN</td>\n",
              "    </tr>\n",
              "    <tr>\n",
              "      <th>7</th>\n",
              "      <td>NaN</td>\n",
              "      <td>경고</td>\n",
              "      <td>NaN</td>\n",
              "      <td>NaN</td>\n",
              "      <td>NaN</td>\n",
              "    </tr>\n",
              "    <tr>\n",
              "      <th>8</th>\n",
              "      <td>NaN</td>\n",
              "      <td>경고</td>\n",
              "      <td>NaN</td>\n",
              "      <td>NaN</td>\n",
              "      <td>NaN</td>\n",
              "    </tr>\n",
              "    <tr>\n",
              "      <th>9</th>\n",
              "      <td>NaN</td>\n",
              "      <td>경고</td>\n",
              "      <td>55.0</td>\n",
              "      <td>NaN</td>\n",
              "      <td>NaN</td>\n",
              "    </tr>\n",
              "    <tr>\n",
              "      <th>10</th>\n",
              "      <td>2020-01-20T15:41:13</td>\n",
              "      <td>교정</td>\n",
              "      <td>139.0</td>\n",
              "      <td>NaN</td>\n",
              "      <td>NaN</td>\n",
              "    </tr>\n",
              "    <tr>\n",
              "      <th>11</th>\n",
              "      <td>2020-01-20T15:58:23</td>\n",
              "      <td>교정</td>\n",
              "      <td>135.0</td>\n",
              "      <td>NaN</td>\n",
              "      <td>NaN</td>\n",
              "    </tr>\n",
              "    <tr>\n",
              "      <th>12</th>\n",
              "      <td>2020-01-20T16:02:23</td>\n",
              "      <td>EGV</td>\n",
              "      <td>123.0</td>\n",
              "      <td>NaN</td>\n",
              "      <td>NaN</td>\n",
              "    </tr>\n",
              "    <tr>\n",
              "      <th>13</th>\n",
              "      <td>2020-01-20T16:07:15</td>\n",
              "      <td>EGV</td>\n",
              "      <td>112.0</td>\n",
              "      <td>NaN</td>\n",
              "      <td>NaN</td>\n",
              "    </tr>\n",
              "    <tr>\n",
              "      <th>14</th>\n",
              "      <td>2020-01-20T16:12:15</td>\n",
              "      <td>EGV</td>\n",
              "      <td>103.0</td>\n",
              "      <td>NaN</td>\n",
              "      <td>NaN</td>\n",
              "    </tr>\n",
              "  </tbody>\n",
              "</table>\n",
              "</div>"
            ],
            "text/plain": [
              "              Timestamp Event  Glucose  Insulin  Meal\n",
              "0                   NaN    이름      NaN      NaN   NaN\n",
              "1                   NaN     성      NaN      NaN   NaN\n",
              "2                   NaN  생년월일      NaN      NaN   NaN\n",
              "3                   NaN    장치      NaN      NaN   NaN\n",
              "4                   NaN    경고      NaN      NaN   NaN\n",
              "5                   NaN    경고    250.0      NaN   NaN\n",
              "6                   NaN    경고     70.0      NaN   NaN\n",
              "7                   NaN    경고      NaN      NaN   NaN\n",
              "8                   NaN    경고      NaN      NaN   NaN\n",
              "9                   NaN    경고     55.0      NaN   NaN\n",
              "10  2020-01-20T15:41:13    교정    139.0      NaN   NaN\n",
              "11  2020-01-20T15:58:23    교정    135.0      NaN   NaN\n",
              "12  2020-01-20T16:02:23   EGV    123.0      NaN   NaN\n",
              "13  2020-01-20T16:07:15   EGV    112.0      NaN   NaN\n",
              "14  2020-01-20T16:12:15   EGV    103.0      NaN   NaN"
            ]
          },
          "metadata": {
            "tags": []
          },
          "execution_count": 16
        }
      ]
    },
    {
      "cell_type": "code",
      "metadata": {
        "ExecuteTime": {
          "end_time": "2021-01-25T01:51:32.261804Z",
          "start_time": "2021-01-25T01:51:32.246845Z"
        },
        "id": "WAanR7Flq9qw"
      },
      "source": [
        "# Timestamp != NaN일 때까지 count하고 \n",
        "# Nan에 해당하는 인스턴스 제거 \n",
        "df=df.dropna(subset=['Timestamp'])"
      ],
      "execution_count": 17,
      "outputs": []
    },
    {
      "cell_type": "code",
      "metadata": {
        "ExecuteTime": {
          "end_time": "2021-01-25T01:51:36.348768Z",
          "start_time": "2021-01-25T01:51:36.334807Z"
        },
        "colab": {
          "base_uri": "https://localhost:8080/",
          "height": 669
        },
        "id": "Ndq-UYgBq9qw",
        "outputId": "85e14a48-e828-4162-a534-850fbecadd21"
      },
      "source": [
        "df.head(20)"
      ],
      "execution_count": 18,
      "outputs": [
        {
          "output_type": "execute_result",
          "data": {
            "text/html": [
              "<div>\n",
              "<style scoped>\n",
              "    .dataframe tbody tr th:only-of-type {\n",
              "        vertical-align: middle;\n",
              "    }\n",
              "\n",
              "    .dataframe tbody tr th {\n",
              "        vertical-align: top;\n",
              "    }\n",
              "\n",
              "    .dataframe thead th {\n",
              "        text-align: right;\n",
              "    }\n",
              "</style>\n",
              "<table border=\"1\" class=\"dataframe\">\n",
              "  <thead>\n",
              "    <tr style=\"text-align: right;\">\n",
              "      <th></th>\n",
              "      <th>Timestamp</th>\n",
              "      <th>Event</th>\n",
              "      <th>Glucose</th>\n",
              "      <th>Insulin</th>\n",
              "      <th>Meal</th>\n",
              "    </tr>\n",
              "  </thead>\n",
              "  <tbody>\n",
              "    <tr>\n",
              "      <th>10</th>\n",
              "      <td>2020-01-20T15:41:13</td>\n",
              "      <td>교정</td>\n",
              "      <td>139.0</td>\n",
              "      <td>NaN</td>\n",
              "      <td>NaN</td>\n",
              "    </tr>\n",
              "    <tr>\n",
              "      <th>11</th>\n",
              "      <td>2020-01-20T15:58:23</td>\n",
              "      <td>교정</td>\n",
              "      <td>135.0</td>\n",
              "      <td>NaN</td>\n",
              "      <td>NaN</td>\n",
              "    </tr>\n",
              "    <tr>\n",
              "      <th>12</th>\n",
              "      <td>2020-01-20T16:02:23</td>\n",
              "      <td>EGV</td>\n",
              "      <td>123.0</td>\n",
              "      <td>NaN</td>\n",
              "      <td>NaN</td>\n",
              "    </tr>\n",
              "    <tr>\n",
              "      <th>13</th>\n",
              "      <td>2020-01-20T16:07:15</td>\n",
              "      <td>EGV</td>\n",
              "      <td>112.0</td>\n",
              "      <td>NaN</td>\n",
              "      <td>NaN</td>\n",
              "    </tr>\n",
              "    <tr>\n",
              "      <th>14</th>\n",
              "      <td>2020-01-20T16:12:15</td>\n",
              "      <td>EGV</td>\n",
              "      <td>103.0</td>\n",
              "      <td>NaN</td>\n",
              "      <td>NaN</td>\n",
              "    </tr>\n",
              "    <tr>\n",
              "      <th>15</th>\n",
              "      <td>2020-01-20T16:17:16</td>\n",
              "      <td>EGV</td>\n",
              "      <td>105.0</td>\n",
              "      <td>NaN</td>\n",
              "      <td>NaN</td>\n",
              "    </tr>\n",
              "    <tr>\n",
              "      <th>16</th>\n",
              "      <td>2020-01-20T16:22:15</td>\n",
              "      <td>EGV</td>\n",
              "      <td>111.0</td>\n",
              "      <td>NaN</td>\n",
              "      <td>NaN</td>\n",
              "    </tr>\n",
              "    <tr>\n",
              "      <th>17</th>\n",
              "      <td>2020-01-20T16:27:15</td>\n",
              "      <td>EGV</td>\n",
              "      <td>133.0</td>\n",
              "      <td>NaN</td>\n",
              "      <td>NaN</td>\n",
              "    </tr>\n",
              "    <tr>\n",
              "      <th>18</th>\n",
              "      <td>2020-01-20T16:32:16</td>\n",
              "      <td>EGV</td>\n",
              "      <td>139.0</td>\n",
              "      <td>NaN</td>\n",
              "      <td>NaN</td>\n",
              "    </tr>\n",
              "    <tr>\n",
              "      <th>19</th>\n",
              "      <td>2020-01-20T16:37:15</td>\n",
              "      <td>EGV</td>\n",
              "      <td>150.0</td>\n",
              "      <td>NaN</td>\n",
              "      <td>NaN</td>\n",
              "    </tr>\n",
              "    <tr>\n",
              "      <th>20</th>\n",
              "      <td>2020-01-20T16:42:16</td>\n",
              "      <td>EGV</td>\n",
              "      <td>155.0</td>\n",
              "      <td>NaN</td>\n",
              "      <td>NaN</td>\n",
              "    </tr>\n",
              "    <tr>\n",
              "      <th>21</th>\n",
              "      <td>2020-01-20T16:47:16</td>\n",
              "      <td>EGV</td>\n",
              "      <td>139.0</td>\n",
              "      <td>NaN</td>\n",
              "      <td>NaN</td>\n",
              "    </tr>\n",
              "    <tr>\n",
              "      <th>22</th>\n",
              "      <td>2020-01-20T16:52:16</td>\n",
              "      <td>EGV</td>\n",
              "      <td>134.0</td>\n",
              "      <td>NaN</td>\n",
              "      <td>NaN</td>\n",
              "    </tr>\n",
              "    <tr>\n",
              "      <th>23</th>\n",
              "      <td>2020-01-20T16:57:16</td>\n",
              "      <td>EGV</td>\n",
              "      <td>137.0</td>\n",
              "      <td>NaN</td>\n",
              "      <td>NaN</td>\n",
              "    </tr>\n",
              "    <tr>\n",
              "      <th>24</th>\n",
              "      <td>2020-01-20T17:02:16</td>\n",
              "      <td>EGV</td>\n",
              "      <td>150.0</td>\n",
              "      <td>NaN</td>\n",
              "      <td>NaN</td>\n",
              "    </tr>\n",
              "    <tr>\n",
              "      <th>25</th>\n",
              "      <td>2020-01-20T17:07:16</td>\n",
              "      <td>EGV</td>\n",
              "      <td>154.0</td>\n",
              "      <td>NaN</td>\n",
              "      <td>NaN</td>\n",
              "    </tr>\n",
              "    <tr>\n",
              "      <th>26</th>\n",
              "      <td>2020-01-20T17:12:16</td>\n",
              "      <td>EGV</td>\n",
              "      <td>157.0</td>\n",
              "      <td>NaN</td>\n",
              "      <td>NaN</td>\n",
              "    </tr>\n",
              "    <tr>\n",
              "      <th>27</th>\n",
              "      <td>2020-01-20T17:17:16</td>\n",
              "      <td>EGV</td>\n",
              "      <td>159.0</td>\n",
              "      <td>NaN</td>\n",
              "      <td>NaN</td>\n",
              "    </tr>\n",
              "    <tr>\n",
              "      <th>28</th>\n",
              "      <td>2020-01-20T17:22:16</td>\n",
              "      <td>EGV</td>\n",
              "      <td>172.0</td>\n",
              "      <td>NaN</td>\n",
              "      <td>NaN</td>\n",
              "    </tr>\n",
              "    <tr>\n",
              "      <th>29</th>\n",
              "      <td>2020-01-20T17:27:16</td>\n",
              "      <td>EGV</td>\n",
              "      <td>183.0</td>\n",
              "      <td>NaN</td>\n",
              "      <td>NaN</td>\n",
              "    </tr>\n",
              "  </tbody>\n",
              "</table>\n",
              "</div>"
            ],
            "text/plain": [
              "              Timestamp Event  Glucose  Insulin  Meal\n",
              "10  2020-01-20T15:41:13    교정    139.0      NaN   NaN\n",
              "11  2020-01-20T15:58:23    교정    135.0      NaN   NaN\n",
              "12  2020-01-20T16:02:23   EGV    123.0      NaN   NaN\n",
              "13  2020-01-20T16:07:15   EGV    112.0      NaN   NaN\n",
              "14  2020-01-20T16:12:15   EGV    103.0      NaN   NaN\n",
              "15  2020-01-20T16:17:16   EGV    105.0      NaN   NaN\n",
              "16  2020-01-20T16:22:15   EGV    111.0      NaN   NaN\n",
              "17  2020-01-20T16:27:15   EGV    133.0      NaN   NaN\n",
              "18  2020-01-20T16:32:16   EGV    139.0      NaN   NaN\n",
              "19  2020-01-20T16:37:15   EGV    150.0      NaN   NaN\n",
              "20  2020-01-20T16:42:16   EGV    155.0      NaN   NaN\n",
              "21  2020-01-20T16:47:16   EGV    139.0      NaN   NaN\n",
              "22  2020-01-20T16:52:16   EGV    134.0      NaN   NaN\n",
              "23  2020-01-20T16:57:16   EGV    137.0      NaN   NaN\n",
              "24  2020-01-20T17:02:16   EGV    150.0      NaN   NaN\n",
              "25  2020-01-20T17:07:16   EGV    154.0      NaN   NaN\n",
              "26  2020-01-20T17:12:16   EGV    157.0      NaN   NaN\n",
              "27  2020-01-20T17:17:16   EGV    159.0      NaN   NaN\n",
              "28  2020-01-20T17:22:16   EGV    172.0      NaN   NaN\n",
              "29  2020-01-20T17:27:16   EGV    183.0      NaN   NaN"
            ]
          },
          "metadata": {
            "tags": []
          },
          "execution_count": 18
        }
      ]
    },
    {
      "cell_type": "code",
      "metadata": {
        "ExecuteTime": {
          "end_time": "2021-01-25T01:51:36.364724Z",
          "start_time": "2021-01-25T01:51:36.352757Z"
        },
        "colab": {
          "base_uri": "https://localhost:8080/"
        },
        "id": "ndlieh9Vq9qw",
        "outputId": "e8664c6a-67bc-4f5c-cec7-5b7f55be2ed9"
      },
      "source": [
        "df.shape"
      ],
      "execution_count": 19,
      "outputs": [
        {
          "output_type": "execute_result",
          "data": {
            "text/plain": [
              "(1145, 5)"
            ]
          },
          "metadata": {
            "tags": []
          },
          "execution_count": 19
        }
      ]
    },
    {
      "cell_type": "code",
      "metadata": {
        "ExecuteTime": {
          "end_time": "2021-01-25T01:51:38.168923Z",
          "start_time": "2021-01-25T01:51:38.154960Z"
        },
        "id": "UudGLrdmq9qx"
      },
      "source": [
        "# drop한 인스턴스가 있어서 인덱스 리셋\n",
        "df=df.sort_values(by=['Timestamp'],axis=0,ascending=True)\n",
        "df=df.reset_index(drop=True)"
      ],
      "execution_count": 20,
      "outputs": []
    },
    {
      "cell_type": "code",
      "metadata": {
        "ExecuteTime": {
          "end_time": "2021-01-25T01:51:42.311539Z",
          "start_time": "2021-01-25T01:51:42.297576Z"
        },
        "colab": {
          "base_uri": "https://localhost:8080/",
          "height": 514
        },
        "id": "RKsqfYvyq9qx",
        "outputId": "4273d47e-b447-4f24-d9aa-78f92335d7a4"
      },
      "source": [
        "df.head(15)"
      ],
      "execution_count": 21,
      "outputs": [
        {
          "output_type": "execute_result",
          "data": {
            "text/html": [
              "<div>\n",
              "<style scoped>\n",
              "    .dataframe tbody tr th:only-of-type {\n",
              "        vertical-align: middle;\n",
              "    }\n",
              "\n",
              "    .dataframe tbody tr th {\n",
              "        vertical-align: top;\n",
              "    }\n",
              "\n",
              "    .dataframe thead th {\n",
              "        text-align: right;\n",
              "    }\n",
              "</style>\n",
              "<table border=\"1\" class=\"dataframe\">\n",
              "  <thead>\n",
              "    <tr style=\"text-align: right;\">\n",
              "      <th></th>\n",
              "      <th>Timestamp</th>\n",
              "      <th>Event</th>\n",
              "      <th>Glucose</th>\n",
              "      <th>Insulin</th>\n",
              "      <th>Meal</th>\n",
              "    </tr>\n",
              "  </thead>\n",
              "  <tbody>\n",
              "    <tr>\n",
              "      <th>0</th>\n",
              "      <td>2020-01-20T15:41:13</td>\n",
              "      <td>교정</td>\n",
              "      <td>139.0</td>\n",
              "      <td>NaN</td>\n",
              "      <td>NaN</td>\n",
              "    </tr>\n",
              "    <tr>\n",
              "      <th>1</th>\n",
              "      <td>2020-01-20T15:58:23</td>\n",
              "      <td>교정</td>\n",
              "      <td>135.0</td>\n",
              "      <td>NaN</td>\n",
              "      <td>NaN</td>\n",
              "    </tr>\n",
              "    <tr>\n",
              "      <th>2</th>\n",
              "      <td>2020-01-20T16:02:23</td>\n",
              "      <td>EGV</td>\n",
              "      <td>123.0</td>\n",
              "      <td>NaN</td>\n",
              "      <td>NaN</td>\n",
              "    </tr>\n",
              "    <tr>\n",
              "      <th>3</th>\n",
              "      <td>2020-01-20T16:07:15</td>\n",
              "      <td>EGV</td>\n",
              "      <td>112.0</td>\n",
              "      <td>NaN</td>\n",
              "      <td>NaN</td>\n",
              "    </tr>\n",
              "    <tr>\n",
              "      <th>4</th>\n",
              "      <td>2020-01-20T16:12:15</td>\n",
              "      <td>EGV</td>\n",
              "      <td>103.0</td>\n",
              "      <td>NaN</td>\n",
              "      <td>NaN</td>\n",
              "    </tr>\n",
              "    <tr>\n",
              "      <th>5</th>\n",
              "      <td>2020-01-20T16:17:16</td>\n",
              "      <td>EGV</td>\n",
              "      <td>105.0</td>\n",
              "      <td>NaN</td>\n",
              "      <td>NaN</td>\n",
              "    </tr>\n",
              "    <tr>\n",
              "      <th>6</th>\n",
              "      <td>2020-01-20T16:22:15</td>\n",
              "      <td>EGV</td>\n",
              "      <td>111.0</td>\n",
              "      <td>NaN</td>\n",
              "      <td>NaN</td>\n",
              "    </tr>\n",
              "    <tr>\n",
              "      <th>7</th>\n",
              "      <td>2020-01-20T16:27:15</td>\n",
              "      <td>EGV</td>\n",
              "      <td>133.0</td>\n",
              "      <td>NaN</td>\n",
              "      <td>NaN</td>\n",
              "    </tr>\n",
              "    <tr>\n",
              "      <th>8</th>\n",
              "      <td>2020-01-20T16:32:16</td>\n",
              "      <td>EGV</td>\n",
              "      <td>139.0</td>\n",
              "      <td>NaN</td>\n",
              "      <td>NaN</td>\n",
              "    </tr>\n",
              "    <tr>\n",
              "      <th>9</th>\n",
              "      <td>2020-01-20T16:37:15</td>\n",
              "      <td>EGV</td>\n",
              "      <td>150.0</td>\n",
              "      <td>NaN</td>\n",
              "      <td>NaN</td>\n",
              "    </tr>\n",
              "    <tr>\n",
              "      <th>10</th>\n",
              "      <td>2020-01-20T16:42:16</td>\n",
              "      <td>EGV</td>\n",
              "      <td>155.0</td>\n",
              "      <td>NaN</td>\n",
              "      <td>NaN</td>\n",
              "    </tr>\n",
              "    <tr>\n",
              "      <th>11</th>\n",
              "      <td>2020-01-20T16:47:16</td>\n",
              "      <td>EGV</td>\n",
              "      <td>139.0</td>\n",
              "      <td>NaN</td>\n",
              "      <td>NaN</td>\n",
              "    </tr>\n",
              "    <tr>\n",
              "      <th>12</th>\n",
              "      <td>2020-01-20T16:52:16</td>\n",
              "      <td>EGV</td>\n",
              "      <td>134.0</td>\n",
              "      <td>NaN</td>\n",
              "      <td>NaN</td>\n",
              "    </tr>\n",
              "    <tr>\n",
              "      <th>13</th>\n",
              "      <td>2020-01-20T16:57:16</td>\n",
              "      <td>EGV</td>\n",
              "      <td>137.0</td>\n",
              "      <td>NaN</td>\n",
              "      <td>NaN</td>\n",
              "    </tr>\n",
              "    <tr>\n",
              "      <th>14</th>\n",
              "      <td>2020-01-20T17:02:16</td>\n",
              "      <td>EGV</td>\n",
              "      <td>150.0</td>\n",
              "      <td>NaN</td>\n",
              "      <td>NaN</td>\n",
              "    </tr>\n",
              "  </tbody>\n",
              "</table>\n",
              "</div>"
            ],
            "text/plain": [
              "              Timestamp Event  Glucose  Insulin  Meal\n",
              "0   2020-01-20T15:41:13    교정    139.0      NaN   NaN\n",
              "1   2020-01-20T15:58:23    교정    135.0      NaN   NaN\n",
              "2   2020-01-20T16:02:23   EGV    123.0      NaN   NaN\n",
              "3   2020-01-20T16:07:15   EGV    112.0      NaN   NaN\n",
              "4   2020-01-20T16:12:15   EGV    103.0      NaN   NaN\n",
              "5   2020-01-20T16:17:16   EGV    105.0      NaN   NaN\n",
              "6   2020-01-20T16:22:15   EGV    111.0      NaN   NaN\n",
              "7   2020-01-20T16:27:15   EGV    133.0      NaN   NaN\n",
              "8   2020-01-20T16:32:16   EGV    139.0      NaN   NaN\n",
              "9   2020-01-20T16:37:15   EGV    150.0      NaN   NaN\n",
              "10  2020-01-20T16:42:16   EGV    155.0      NaN   NaN\n",
              "11  2020-01-20T16:47:16   EGV    139.0      NaN   NaN\n",
              "12  2020-01-20T16:52:16   EGV    134.0      NaN   NaN\n",
              "13  2020-01-20T16:57:16   EGV    137.0      NaN   NaN\n",
              "14  2020-01-20T17:02:16   EGV    150.0      NaN   NaN"
            ]
          },
          "metadata": {
            "tags": []
          },
          "execution_count": 21
        }
      ]
    },
    {
      "cell_type": "code",
      "metadata": {
        "ExecuteTime": {
          "end_time": "2021-01-25T01:51:44.377391Z",
          "start_time": "2021-01-25T01:51:44.364427Z"
        },
        "colab": {
          "base_uri": "https://localhost:8080/"
        },
        "id": "Dr0kuMdHq9qx",
        "outputId": "4cc89ee6-abf9-482c-96e8-798927c98ba0"
      },
      "source": [
        "df.shape"
      ],
      "execution_count": 22,
      "outputs": [
        {
          "output_type": "execute_result",
          "data": {
            "text/plain": [
              "(1145, 5)"
            ]
          },
          "metadata": {
            "tags": []
          },
          "execution_count": 22
        }
      ]
    },
    {
      "cell_type": "code",
      "metadata": {
        "ExecuteTime": {
          "end_time": "2021-01-25T01:51:46.355104Z",
          "start_time": "2021-01-25T01:51:46.341141Z"
        },
        "id": "qy3fiZhVq9qx"
      },
      "source": [
        "# 높음, 낮음, 교정 인덱스 저장 \n",
        "high_list=[]\n",
        "low_list=[]\n",
        "calib_list=[]\n",
        "insulin_list=[]\n",
        "meal_list=[]"
      ],
      "execution_count": 23,
      "outputs": []
    },
    {
      "cell_type": "code",
      "metadata": {
        "ExecuteTime": {
          "end_time": "2021-01-25T01:51:46.371062Z",
          "start_time": "2021-01-25T01:51:46.356102Z"
        },
        "id": "P537zeVnq9qx"
      },
      "source": [
        "def isNaN(num):\n",
        "    return num==num"
      ],
      "execution_count": 24,
      "outputs": []
    },
    {
      "cell_type": "code",
      "metadata": {
        "ExecuteTime": {
          "end_time": "2021-01-25T01:51:49.502725Z",
          "start_time": "2021-01-25T01:51:49.489761Z"
        },
        "id": "QZi1ugehq9qx"
      },
      "source": [
        "# 혈당 '높음' 빈도 카운트\n",
        "def glucose_count_high(df,col):\n",
        "    count=0\n",
        "    for i, row in df.iterrows():\n",
        "         val = row[col]\n",
        "         if val=='높음':\n",
        "            count=count+1\n",
        "            high_list.append(i)\n",
        "    print('높음 : ',count)\n",
        "    "
      ],
      "execution_count": 25,
      "outputs": []
    },
    {
      "cell_type": "code",
      "metadata": {
        "ExecuteTime": {
          "end_time": "2021-01-25T01:51:50.251721Z",
          "start_time": "2021-01-25T01:51:50.237759Z"
        },
        "id": "Y3T5yccbq9qx"
      },
      "source": [
        "# 혈당 '낮음' 빈도 카운트\n",
        "def glucose_count_low(df,col):\n",
        "    count=0\n",
        "    for i, row in df.iterrows():\n",
        "         val = row[col]\n",
        "         if val=='낮음':\n",
        "            count=count+1\n",
        "            low_list.append(i)\n",
        "    print('낮음 : ',count)"
      ],
      "execution_count": 26,
      "outputs": []
    },
    {
      "cell_type": "code",
      "metadata": {
        "ExecuteTime": {
          "end_time": "2021-01-25T01:51:54.181151Z",
          "start_time": "2021-01-25T01:51:54.167192Z"
        },
        "id": "QPEIPRM8q9qy"
      },
      "source": [
        "# 혈당 '교정' 빈도 카운트\n",
        "def calibration_count_low(df,col):\n",
        "    count=0\n",
        "    for i, row in df.iterrows():\n",
        "         val = row[col]\n",
        "         if val=='교정':\n",
        "            count=count+1\n",
        "            calib_list.append(i)\n",
        "    print('교정 : ',count)"
      ],
      "execution_count": 27,
      "outputs": []
    },
    {
      "cell_type": "code",
      "metadata": {
        "ExecuteTime": {
          "end_time": "2021-01-25T01:51:56.097402Z",
          "start_time": "2021-01-25T01:51:56.083270Z"
        },
        "id": "0Mf6s7jAq9qy"
      },
      "source": [
        "# 인슐린 카운트 \n",
        "#def insul_count(df,col):\n",
        "#    count=0\n",
        "#    for i, row in df.iterrows():\n",
        "#         val = row[col]\n",
        "#         if val==0:\n",
        "#            count=count+1\n",
        "#            insulin_list.append(i)\n",
        "#    print('인슐린 : ',count)"
      ],
      "execution_count": 28,
      "outputs": []
    },
    {
      "cell_type": "code",
      "metadata": {
        "ExecuteTime": {
          "end_time": "2021-01-25T01:51:57.596418Z",
          "start_time": "2021-01-25T01:51:57.582456Z"
        },
        "id": "hRKoPSWdq9qy"
      },
      "source": [
        "# 인슐린 카운트 \n",
        "def insul_count(df,col):\n",
        "    count=0\n",
        "    for i, row in df.iterrows():\n",
        "         val = row[col]\n",
        "         if isNaN(val)==True:\n",
        "            count=count+1\n",
        "            insulin_list.append(i)\n",
        "    print('인슐린 : ',count)"
      ],
      "execution_count": 29,
      "outputs": []
    },
    {
      "cell_type": "code",
      "metadata": {
        "ExecuteTime": {
          "end_time": "2021-01-25T01:51:58.298583Z",
          "start_time": "2021-01-25T01:51:58.286616Z"
        },
        "id": "U33fUKIeq9qy"
      },
      "source": [
        "# 식사 횟수 카운트 \n",
        "#def meal_count(df,col):\n",
        "#    count=0\n",
        "#    for i, row in df.iterrows():\n",
        "#         val = row[col]\n",
        "#         if val==0:\n",
        "#            count=count+1\n",
        "#            meal_list.append(i)\n",
        "#    print('식사 횟수 : ',count)"
      ],
      "execution_count": 30,
      "outputs": []
    },
    {
      "cell_type": "code",
      "metadata": {
        "ExecuteTime": {
          "end_time": "2021-01-25T01:52:00.266372Z",
          "start_time": "2021-01-25T01:52:00.253356Z"
        },
        "id": "KIBCtRV_q9qy"
      },
      "source": [
        "# 식사 횟수 카운트 \n",
        "def meal_count(df,col):\n",
        "    count=0\n",
        "    for i, row in df.iterrows():\n",
        "         val = row[col]\n",
        "         if isNaN(val)==True:\n",
        "            count=count+1\n",
        "            meal_list.append(i)\n",
        "    print('식사 횟수 : ',count)"
      ],
      "execution_count": 31,
      "outputs": []
    },
    {
      "cell_type": "code",
      "metadata": {
        "ExecuteTime": {
          "end_time": "2021-01-25T01:52:01.682876Z",
          "start_time": "2021-01-25T01:52:01.564191Z"
        },
        "scrolled": true,
        "colab": {
          "base_uri": "https://localhost:8080/"
        },
        "id": "t76CauuJq9qy",
        "outputId": "9b7d14ad-77b3-4121-81df-1f0c25b3cd86"
      },
      "source": [
        "glucose_count_high(df,'Glucose')"
      ],
      "execution_count": 32,
      "outputs": [
        {
          "output_type": "stream",
          "text": [
            "높음 :  0\n"
          ],
          "name": "stdout"
        }
      ]
    },
    {
      "cell_type": "code",
      "metadata": {
        "ExecuteTime": {
          "end_time": "2021-01-25T01:52:01.791803Z",
          "start_time": "2021-01-25T01:52:01.778789Z"
        },
        "colab": {
          "base_uri": "https://localhost:8080/"
        },
        "id": "1jCdOODYq9qz",
        "outputId": "11241748-89b5-490a-82e3-62fd0e1d43fc"
      },
      "source": [
        "print('높음 개수 :',len(high_list))"
      ],
      "execution_count": 33,
      "outputs": [
        {
          "output_type": "stream",
          "text": [
            "높음 개수 : 0\n"
          ],
          "name": "stdout"
        }
      ]
    },
    {
      "cell_type": "code",
      "metadata": {
        "ExecuteTime": {
          "end_time": "2021-01-25T01:52:02.448796Z",
          "start_time": "2021-01-25T01:52:02.435830Z"
        },
        "colab": {
          "base_uri": "https://localhost:8080/"
        },
        "id": "hSi2WJtbq9qz",
        "outputId": "165ccd01-01aa-4ba4-8ae7-db8be93e781b"
      },
      "source": [
        "print('낮음 개수 :',len(low_list))"
      ],
      "execution_count": 34,
      "outputs": [
        {
          "output_type": "stream",
          "text": [
            "낮음 개수 : 0\n"
          ],
          "name": "stdout"
        }
      ]
    },
    {
      "cell_type": "code",
      "metadata": {
        "ExecuteTime": {
          "end_time": "2021-01-25T01:52:02.464753Z",
          "start_time": "2021-01-25T01:52:02.449793Z"
        },
        "colab": {
          "base_uri": "https://localhost:8080/"
        },
        "id": "7-Iy3eSdq9qz",
        "outputId": "7620546a-f2bf-43c7-f040-67c3afa8ce1b"
      },
      "source": [
        "print('교정 개수 :',len(calib_list))"
      ],
      "execution_count": 35,
      "outputs": [
        {
          "output_type": "stream",
          "text": [
            "교정 개수 : 0\n"
          ],
          "name": "stdout"
        }
      ]
    },
    {
      "cell_type": "code",
      "metadata": {
        "ExecuteTime": {
          "end_time": "2021-01-25T01:52:02.603795Z",
          "start_time": "2021-01-25T01:52:02.465750Z"
        },
        "colab": {
          "base_uri": "https://localhost:8080/"
        },
        "id": "2Lsj2H6Rq9qz",
        "outputId": "5c34e3ee-beef-479a-e4cb-dcad6722f2fe"
      },
      "source": [
        "glucose_count_low(df,'Glucose')"
      ],
      "execution_count": 36,
      "outputs": [
        {
          "output_type": "stream",
          "text": [
            "낮음 :  0\n"
          ],
          "name": "stdout"
        }
      ]
    },
    {
      "cell_type": "code",
      "metadata": {
        "ExecuteTime": {
          "end_time": "2021-01-25T01:52:02.619752Z",
          "start_time": "2021-01-25T01:52:02.605789Z"
        },
        "colab": {
          "base_uri": "https://localhost:8080/"
        },
        "id": "YB8-5N--q9qz",
        "outputId": "733b2111-52d9-4927-8171-fc13b2118a21"
      },
      "source": [
        "low_list"
      ],
      "execution_count": 37,
      "outputs": [
        {
          "output_type": "execute_result",
          "data": {
            "text/plain": [
              "[]"
            ]
          },
          "metadata": {
            "tags": []
          },
          "execution_count": 37
        }
      ]
    },
    {
      "cell_type": "code",
      "metadata": {
        "ExecuteTime": {
          "end_time": "2021-01-25T01:52:02.823004Z",
          "start_time": "2021-01-25T01:52:02.623742Z"
        },
        "colab": {
          "base_uri": "https://localhost:8080/"
        },
        "id": "W-d0Eh-Mq9qz",
        "outputId": "85f1e2b6-7449-4972-e3fd-e7389de3e712"
      },
      "source": [
        "calibration_count_low(df,'Event')"
      ],
      "execution_count": 38,
      "outputs": [
        {
          "output_type": "stream",
          "text": [
            "교정 :  9\n"
          ],
          "name": "stdout"
        }
      ]
    },
    {
      "cell_type": "code",
      "metadata": {
        "ExecuteTime": {
          "end_time": "2021-01-25T01:52:02.837968Z",
          "start_time": "2021-01-25T01:52:02.826000Z"
        },
        "colab": {
          "base_uri": "https://localhost:8080/"
        },
        "id": "AA4DScIlq9q0",
        "outputId": "b0dd038e-e6c7-4559-a1f0-612c3397e982"
      },
      "source": [
        "calib_list"
      ],
      "execution_count": 39,
      "outputs": [
        {
          "output_type": "execute_result",
          "data": {
            "text/plain": [
              "[0, 1, 60, 175, 360, 468, 757, 932, 1023]"
            ]
          },
          "metadata": {
            "tags": []
          },
          "execution_count": 39
        }
      ]
    },
    {
      "cell_type": "code",
      "metadata": {
        "ExecuteTime": {
          "end_time": "2021-01-25T01:52:02.994907Z",
          "start_time": "2021-01-25T01:52:02.842954Z"
        },
        "colab": {
          "base_uri": "https://localhost:8080/"
        },
        "id": "WVjnBdLEq9q0",
        "outputId": "023e65ce-8bc3-4862-ec84-c678d3dd6eb6"
      },
      "source": [
        "insul_count(df,'Insulin')"
      ],
      "execution_count": 40,
      "outputs": [
        {
          "output_type": "stream",
          "text": [
            "인슐린 :  12\n"
          ],
          "name": "stdout"
        }
      ]
    },
    {
      "cell_type": "code",
      "metadata": {
        "ExecuteTime": {
          "end_time": "2021-01-25T01:52:03.010871Z",
          "start_time": "2021-01-25T01:52:02.998901Z"
        },
        "colab": {
          "base_uri": "https://localhost:8080/"
        },
        "id": "diiNlaPhq9q0",
        "outputId": "220a9cbf-7e10-4ab7-af3b-c9d12e9bad1e"
      },
      "source": [
        "insulin_list"
      ],
      "execution_count": 41,
      "outputs": [
        {
          "output_type": "execute_result",
          "data": {
            "text/plain": [
              "[26, 257, 258, 495, 554, 620, 771, 837, 889, 1052, 1060, 1119]"
            ]
          },
          "metadata": {
            "tags": []
          },
          "execution_count": 41
        }
      ]
    },
    {
      "cell_type": "code",
      "metadata": {
        "ExecuteTime": {
          "end_time": "2021-01-25T01:52:03.180415Z",
          "start_time": "2021-01-25T01:52:03.013862Z"
        },
        "colab": {
          "base_uri": "https://localhost:8080/"
        },
        "id": "zz4J0RMcq9q0",
        "outputId": "a97e950e-35c6-4347-b17a-de47b41cbe55"
      },
      "source": [
        "meal_count(df,'Meal')"
      ],
      "execution_count": 42,
      "outputs": [
        {
          "output_type": "stream",
          "text": [
            "식사 횟수 :  7\n"
          ],
          "name": "stdout"
        }
      ]
    },
    {
      "cell_type": "code",
      "metadata": {
        "ExecuteTime": {
          "end_time": "2021-01-25T01:52:26.737154Z",
          "start_time": "2021-01-25T01:52:26.722192Z"
        },
        "colab": {
          "base_uri": "https://localhost:8080/"
        },
        "id": "S5Iommgpq9q0",
        "outputId": "290f3faf-3b16-4d19-bec3-124ed12d0faa"
      },
      "source": [
        "meal_list"
      ],
      "execution_count": 43,
      "outputs": [
        {
          "output_type": "execute_result",
          "data": {
            "text/plain": [
              "[24, 249, 259, 321, 488, 890, 1061]"
            ]
          },
          "metadata": {
            "tags": []
          },
          "execution_count": 43
        }
      ]
    },
    {
      "cell_type": "code",
      "metadata": {
        "ExecuteTime": {
          "end_time": "2021-01-25T01:52:27.080235Z",
          "start_time": "2021-01-25T01:52:27.065274Z"
        },
        "colab": {
          "base_uri": "https://localhost:8080/"
        },
        "id": "gcwA8bhDq9q0",
        "outputId": "31a07e6d-2a28-46ac-b988-9dad7eee22db"
      },
      "source": [
        "df['Insulin'].value_counts()"
      ],
      "execution_count": 44,
      "outputs": [
        {
          "output_type": "execute_result",
          "data": {
            "text/plain": [
              "0.0     8\n",
              "44.0    2\n",
              "20.0    1\n",
              "52.0    1\n",
              "Name: Insulin, dtype: int64"
            ]
          },
          "metadata": {
            "tags": []
          },
          "execution_count": 44
        }
      ]
    },
    {
      "cell_type": "code",
      "metadata": {
        "ExecuteTime": {
          "end_time": "2021-01-25T01:52:27.096191Z",
          "start_time": "2021-01-25T01:52:27.082229Z"
        },
        "colab": {
          "base_uri": "https://localhost:8080/"
        },
        "id": "EWPmhRFwq9q1",
        "outputId": "d92c6929-1c48-4f7f-e4b6-1fa4d96ad644"
      },
      "source": [
        "df['Meal'].value_counts()"
      ],
      "execution_count": 45,
      "outputs": [
        {
          "output_type": "execute_result",
          "data": {
            "text/plain": [
              "0.0      5\n",
              "200.0    1\n",
              "100.0    1\n",
              "Name: Meal, dtype: int64"
            ]
          },
          "metadata": {
            "tags": []
          },
          "execution_count": 45
        }
      ]
    },
    {
      "cell_type": "code",
      "metadata": {
        "ExecuteTime": {
          "end_time": "2021-01-25T01:52:27.112149Z",
          "start_time": "2021-01-25T01:52:27.098187Z"
        },
        "colab": {
          "base_uri": "https://localhost:8080/"
        },
        "id": "yVHexf31q9q1",
        "outputId": "2160f7d8-afbf-438c-9f0c-ad8504b2aa36"
      },
      "source": [
        "isNaN(df['Glucose'][14])"
      ],
      "execution_count": 46,
      "outputs": [
        {
          "output_type": "execute_result",
          "data": {
            "text/plain": [
              "True"
            ]
          },
          "metadata": {
            "tags": []
          },
          "execution_count": 46
        }
      ]
    },
    {
      "cell_type": "code",
      "metadata": {
        "ExecuteTime": {
          "end_time": "2021-01-25T01:52:27.128106Z",
          "start_time": "2021-01-25T01:52:27.114144Z"
        },
        "id": "Tytglb5oq9q1"
      },
      "source": [
        "import math\n",
        "for i in insulin_list:\n",
        "    \n",
        "    if isNaN(df['Glucose'][i+1]):\n",
        "        df['Insulin'][i+1]=0\n",
        "        continue\n",
        "    if isNaN(df['Glucose'][i+2]):\n",
        "        df['Insulin'][i+2]=0\n",
        "        continue\n",
        "    if isNaN(df['Glucose'][i+3]):\n",
        "        df['Insulin'][i+3]=0\n",
        "        continue\n",
        "    if isNaN(df['Glucose'][i+4]):\n",
        "        df['Insulin'][i+4]=0\n",
        "        continue"
      ],
      "execution_count": 47,
      "outputs": []
    },
    {
      "cell_type": "code",
      "metadata": {
        "ExecuteTime": {
          "end_time": "2021-01-25T01:52:27.173984Z",
          "start_time": "2021-01-25T01:52:27.155035Z"
        },
        "id": "JcgRMhGVq9q1"
      },
      "source": [
        "for i in meal_list:\n",
        "    \n",
        "    if isNaN(df['Glucose'][i+1]):\n",
        "        df['Meal'][i+1]=0\n",
        "        continue\n",
        "    if isNaN(df['Glucose'][i+2]):\n",
        "        df['Meal'][i+2]=0\n",
        "        continue\n",
        "    if isNaN(df['Glucose'][i+3]):\n",
        "        df['Meal'][i+3]=0\n",
        "        continue\n",
        "    if isNaN(df['Glucose'][i+4]):\n",
        "        df['Meal'][i+4]=0\n",
        "        continue"
      ],
      "execution_count": 48,
      "outputs": []
    },
    {
      "cell_type": "code",
      "metadata": {
        "ExecuteTime": {
          "end_time": "2021-01-25T01:52:27.188944Z",
          "start_time": "2021-01-25T01:52:27.175978Z"
        },
        "colab": {
          "base_uri": "https://localhost:8080/"
        },
        "id": "pCH1l3thq9q1",
        "outputId": "b0edf900-940e-4da6-cef6-5c969ed45f98"
      },
      "source": [
        "import math\n",
        "math.isnan(df['Glucose'][14])"
      ],
      "execution_count": 49,
      "outputs": [
        {
          "output_type": "execute_result",
          "data": {
            "text/plain": [
              "False"
            ]
          },
          "metadata": {
            "tags": []
          },
          "execution_count": 49
        }
      ]
    },
    {
      "cell_type": "code",
      "metadata": {
        "ExecuteTime": {
          "end_time": "2021-01-25T01:52:27.204901Z",
          "start_time": "2021-01-25T01:52:27.190939Z"
        },
        "colab": {
          "base_uri": "https://localhost:8080/"
        },
        "id": "h-zF0AuEq9q1",
        "outputId": "f4e88ba8-d7e0-41c1-bd10-4dcf57943984"
      },
      "source": [
        "insulin_list"
      ],
      "execution_count": 50,
      "outputs": [
        {
          "output_type": "execute_result",
          "data": {
            "text/plain": [
              "[26, 257, 258, 495, 554, 620, 771, 837, 889, 1052, 1060, 1119]"
            ]
          },
          "metadata": {
            "tags": []
          },
          "execution_count": 50
        }
      ]
    },
    {
      "cell_type": "code",
      "metadata": {
        "ExecuteTime": {
          "end_time": "2021-01-25T01:52:33.922994Z",
          "start_time": "2021-01-25T01:52:33.909030Z"
        },
        "id": "cYufVrh9q9q1"
      },
      "source": [
        "SetList1 = set(insulin_list)\n",
        "SetList2 = set(meal_list)\n",
        "\n",
        "C = list((SetList2.difference(SetList1)))\n",
        "\n",
        "insulin_list.extend(C)"
      ],
      "execution_count": 51,
      "outputs": []
    },
    {
      "cell_type": "code",
      "metadata": {
        "ExecuteTime": {
          "end_time": "2021-01-25T01:52:40.432733Z",
          "start_time": "2021-01-25T01:52:40.418770Z"
        },
        "colab": {
          "base_uri": "https://localhost:8080/"
        },
        "id": "DrJEh6m3q9q2",
        "outputId": "7d6a9b2b-fce6-4eb0-b279-a07c961ff33b"
      },
      "source": [
        "insulin_list"
      ],
      "execution_count": 52,
      "outputs": [
        {
          "output_type": "execute_result",
          "data": {
            "text/plain": [
              "[26,\n",
              " 257,\n",
              " 258,\n",
              " 495,\n",
              " 554,\n",
              " 620,\n",
              " 771,\n",
              " 837,\n",
              " 889,\n",
              " 1052,\n",
              " 1060,\n",
              " 1119,\n",
              " 321,\n",
              " 259,\n",
              " 1061,\n",
              " 488,\n",
              " 24,\n",
              " 249,\n",
              " 890]"
            ]
          },
          "metadata": {
            "tags": []
          },
          "execution_count": 52
        }
      ]
    },
    {
      "cell_type": "code",
      "metadata": {
        "ExecuteTime": {
          "end_time": "2021-01-25T01:52:46.966344Z",
          "start_time": "2021-01-25T01:52:46.952382Z"
        },
        "id": "k_g4Uw8_q9q2"
      },
      "source": [
        "df=df.drop(insulin_list)"
      ],
      "execution_count": 53,
      "outputs": []
    },
    {
      "cell_type": "code",
      "metadata": {
        "ExecuteTime": {
          "end_time": "2021-01-25T01:52:48.819528Z",
          "start_time": "2021-01-25T01:52:48.805566Z"
        },
        "colab": {
          "base_uri": "https://localhost:8080/",
          "height": 359
        },
        "id": "70rucVRyq9q2",
        "outputId": "eee0c2f1-b028-4c83-d979-4f557354fc9a"
      },
      "source": [
        "df[10:20]"
      ],
      "execution_count": 54,
      "outputs": [
        {
          "output_type": "execute_result",
          "data": {
            "text/html": [
              "<div>\n",
              "<style scoped>\n",
              "    .dataframe tbody tr th:only-of-type {\n",
              "        vertical-align: middle;\n",
              "    }\n",
              "\n",
              "    .dataframe tbody tr th {\n",
              "        vertical-align: top;\n",
              "    }\n",
              "\n",
              "    .dataframe thead th {\n",
              "        text-align: right;\n",
              "    }\n",
              "</style>\n",
              "<table border=\"1\" class=\"dataframe\">\n",
              "  <thead>\n",
              "    <tr style=\"text-align: right;\">\n",
              "      <th></th>\n",
              "      <th>Timestamp</th>\n",
              "      <th>Event</th>\n",
              "      <th>Glucose</th>\n",
              "      <th>Insulin</th>\n",
              "      <th>Meal</th>\n",
              "    </tr>\n",
              "  </thead>\n",
              "  <tbody>\n",
              "    <tr>\n",
              "      <th>10</th>\n",
              "      <td>2020-01-20T16:42:16</td>\n",
              "      <td>EGV</td>\n",
              "      <td>155.0</td>\n",
              "      <td>NaN</td>\n",
              "      <td>NaN</td>\n",
              "    </tr>\n",
              "    <tr>\n",
              "      <th>11</th>\n",
              "      <td>2020-01-20T16:47:16</td>\n",
              "      <td>EGV</td>\n",
              "      <td>139.0</td>\n",
              "      <td>NaN</td>\n",
              "      <td>NaN</td>\n",
              "    </tr>\n",
              "    <tr>\n",
              "      <th>12</th>\n",
              "      <td>2020-01-20T16:52:16</td>\n",
              "      <td>EGV</td>\n",
              "      <td>134.0</td>\n",
              "      <td>NaN</td>\n",
              "      <td>NaN</td>\n",
              "    </tr>\n",
              "    <tr>\n",
              "      <th>13</th>\n",
              "      <td>2020-01-20T16:57:16</td>\n",
              "      <td>EGV</td>\n",
              "      <td>137.0</td>\n",
              "      <td>NaN</td>\n",
              "      <td>NaN</td>\n",
              "    </tr>\n",
              "    <tr>\n",
              "      <th>14</th>\n",
              "      <td>2020-01-20T17:02:16</td>\n",
              "      <td>EGV</td>\n",
              "      <td>150.0</td>\n",
              "      <td>NaN</td>\n",
              "      <td>NaN</td>\n",
              "    </tr>\n",
              "    <tr>\n",
              "      <th>15</th>\n",
              "      <td>2020-01-20T17:07:16</td>\n",
              "      <td>EGV</td>\n",
              "      <td>154.0</td>\n",
              "      <td>NaN</td>\n",
              "      <td>NaN</td>\n",
              "    </tr>\n",
              "    <tr>\n",
              "      <th>16</th>\n",
              "      <td>2020-01-20T17:12:16</td>\n",
              "      <td>EGV</td>\n",
              "      <td>157.0</td>\n",
              "      <td>NaN</td>\n",
              "      <td>NaN</td>\n",
              "    </tr>\n",
              "    <tr>\n",
              "      <th>17</th>\n",
              "      <td>2020-01-20T17:17:16</td>\n",
              "      <td>EGV</td>\n",
              "      <td>159.0</td>\n",
              "      <td>NaN</td>\n",
              "      <td>NaN</td>\n",
              "    </tr>\n",
              "    <tr>\n",
              "      <th>18</th>\n",
              "      <td>2020-01-20T17:22:16</td>\n",
              "      <td>EGV</td>\n",
              "      <td>172.0</td>\n",
              "      <td>NaN</td>\n",
              "      <td>NaN</td>\n",
              "    </tr>\n",
              "    <tr>\n",
              "      <th>19</th>\n",
              "      <td>2020-01-20T17:27:16</td>\n",
              "      <td>EGV</td>\n",
              "      <td>183.0</td>\n",
              "      <td>NaN</td>\n",
              "      <td>NaN</td>\n",
              "    </tr>\n",
              "  </tbody>\n",
              "</table>\n",
              "</div>"
            ],
            "text/plain": [
              "              Timestamp Event  Glucose  Insulin  Meal\n",
              "10  2020-01-20T16:42:16   EGV    155.0      NaN   NaN\n",
              "11  2020-01-20T16:47:16   EGV    139.0      NaN   NaN\n",
              "12  2020-01-20T16:52:16   EGV    134.0      NaN   NaN\n",
              "13  2020-01-20T16:57:16   EGV    137.0      NaN   NaN\n",
              "14  2020-01-20T17:02:16   EGV    150.0      NaN   NaN\n",
              "15  2020-01-20T17:07:16   EGV    154.0      NaN   NaN\n",
              "16  2020-01-20T17:12:16   EGV    157.0      NaN   NaN\n",
              "17  2020-01-20T17:17:16   EGV    159.0      NaN   NaN\n",
              "18  2020-01-20T17:22:16   EGV    172.0      NaN   NaN\n",
              "19  2020-01-20T17:27:16   EGV    183.0      NaN   NaN"
            ]
          },
          "metadata": {
            "tags": []
          },
          "execution_count": 54
        }
      ]
    },
    {
      "cell_type": "code",
      "metadata": {
        "colab": {
          "base_uri": "https://localhost:8080/"
        },
        "id": "V-7fuLiuq9q2",
        "outputId": "489b12f2-a061-43e3-9224-6cab652cb935"
      },
      "source": [
        "df['Glucose'].unique()"
      ],
      "execution_count": 55,
      "outputs": [
        {
          "output_type": "execute_result",
          "data": {
            "text/plain": [
              "array([139., 135., 123., 112., 103., 105., 111., 133., 150., 155., 134.,\n",
              "       137., 154., 157., 159., 172., 183., 191., 198., 200., 196., 205.,\n",
              "       225., 238., 236., 237., 239., 233., 248., 257., 262., 259., 254.,\n",
              "       244., 228., 222., 213., 206., 194., 188., 177., 167., 163., 165.,\n",
              "       162., 147., 143., 142., 140., 144., 146., 148., 149., 141., 122.,\n",
              "       129., 145., 166., 171., 176., 193., 192., 208., 240., 246., 251.,\n",
              "       256., 260., 263., 265., 250., 243., 241., 253., 252., 232., 229.,\n",
              "       221., 210., 197., 266., 264., 258., 247., 218., 214., 216., 215.,\n",
              "       212., 209., 207., 204., 190., 226., 261., 170., 156., 152., 138.,\n",
              "       136., 131., 128., 121., 114., 110., 109., 107., 104., 102.,  99.,\n",
              "       101., 100.,  96.,  92.,  94.,  95.,  97.,  93.,  88.,  98., 126.,\n",
              "       160., 173., 179., 158., 153., 132., 116.,  91.,  85.,  84.,  79.,\n",
              "        78.,  80.,  76.,  73.,  70.,  75.,  83., 118., 113., 106.,  89.,\n",
              "        77.,  69.,  67., 125.,  87.,  81.,  90., 117., 115.,  86.,  82.,\n",
              "        74.,  72.,  71., 127., 164., 151., 130., 120., 119., 184., 211.,\n",
              "       203., 199., 187., 180., 124., 195., 186., 181., 169., 108., 224.,\n",
              "       230., 217., 270., 272., 275., 277., 282., 279., 268., 168., 185.,\n",
              "       220., 255., 242., 219., 234., 223., 201., 182., 174., 161., 178.,\n",
              "       231., 283., 288., 280., 271., 189., 227., 235., 175., 202.])"
            ]
          },
          "metadata": {
            "tags": []
          },
          "execution_count": 55
        }
      ]
    },
    {
      "cell_type": "code",
      "metadata": {
        "ExecuteTime": {
          "end_time": "2021-01-25T01:52:50.627338Z",
          "start_time": "2021-01-25T01:52:50.613373Z"
        },
        "colab": {
          "base_uri": "https://localhost:8080/"
        },
        "id": "_Wc-F60tq9q2",
        "outputId": "0b312296-633e-4002-e4c3-fb8681c4b13d"
      },
      "source": [
        "df.isnull().sum()"
      ],
      "execution_count": 56,
      "outputs": [
        {
          "output_type": "execute_result",
          "data": {
            "text/plain": [
              "Timestamp       0\n",
              "Event           0\n",
              "Glucose         0\n",
              "Insulin      1115\n",
              "Meal         1119\n",
              "dtype: int64"
            ]
          },
          "metadata": {
            "tags": []
          },
          "execution_count": 56
        }
      ]
    },
    {
      "cell_type": "code",
      "metadata": {
        "ExecuteTime": {
          "end_time": "2021-01-25T01:52:52.672484Z",
          "start_time": "2021-01-25T01:52:52.659179Z"
        },
        "colab": {
          "base_uri": "https://localhost:8080/"
        },
        "id": "aB-Pr1IUq9q2",
        "outputId": "93de55b2-70e0-4909-a4e6-31d8732b69cb"
      },
      "source": [
        "df['Event'].value_counts()"
      ],
      "execution_count": 57,
      "outputs": [
        {
          "output_type": "execute_result",
          "data": {
            "text/plain": [
              "EGV    1117\n",
              "교정        9\n",
              "Name: Event, dtype: int64"
            ]
          },
          "metadata": {
            "tags": []
          },
          "execution_count": 57
        }
      ]
    },
    {
      "cell_type": "markdown",
      "metadata": {
        "id": "tD-xVtSIq9q3"
      },
      "source": [
        "### 높음 낮음 고정 (추후 전처리 과정에서 400,408,416,408,400 이런 식으로 선형으로 변환해줄 것)"
      ]
    },
    {
      "cell_type": "code",
      "metadata": {
        "ExecuteTime": {
          "end_time": "2021-01-25T01:52:56.678331Z",
          "start_time": "2021-01-25T01:52:56.666364Z"
        },
        "id": "_QqK9A1xq9q3"
      },
      "source": [
        "def fix_glucose_low(df,col):\n",
        "    for i, row in df.iterrows():\n",
        "        val = row[col]\n",
        "        if val=='낮음':\n",
        "            df.loc[i,col] = 60"
      ],
      "execution_count": 58,
      "outputs": []
    },
    {
      "cell_type": "code",
      "metadata": {
        "ExecuteTime": {
          "end_time": "2021-01-25T01:52:54.688521Z",
          "start_time": "2021-01-25T01:52:54.674559Z"
        },
        "id": "XWZicn9Qq9q3"
      },
      "source": [
        "def fix_glucose(df,col):\n",
        "    for i, row in df.iterrows():\n",
        "        val = row[col]\n",
        "        if val=='높음':\n",
        "            df.loc[i,col] = 400\n",
        "        elif val > 400:\n",
        "            df.loc[i,col]=400"
      ],
      "execution_count": 59,
      "outputs": []
    },
    {
      "cell_type": "code",
      "metadata": {
        "ExecuteTime": {
          "end_time": "2021-01-25T01:53:00.780544Z",
          "start_time": "2021-01-25T01:53:00.640251Z"
        },
        "id": "O55uKXOGq9q3"
      },
      "source": [
        "fix_glucose_low(df,'Glucose')"
      ],
      "execution_count": 60,
      "outputs": []
    },
    {
      "cell_type": "code",
      "metadata": {
        "ExecuteTime": {
          "end_time": "2021-01-25T01:52:58.654752Z",
          "start_time": "2021-01-25T01:52:58.545660Z"
        },
        "id": "BvIUO61Mq9q3"
      },
      "source": [
        "fix_glucose(df,'Glucose')"
      ],
      "execution_count": 61,
      "outputs": []
    },
    {
      "cell_type": "code",
      "metadata": {
        "ExecuteTime": {
          "end_time": "2021-01-25T01:53:13.968378Z",
          "start_time": "2021-01-25T01:53:13.948432Z"
        },
        "colab": {
          "base_uri": "https://localhost:8080/"
        },
        "id": "g2avacA9q9q3",
        "outputId": "4aae21e0-9420-47c5-8f7d-86778224ce98"
      },
      "source": [
        "df['Glucose'].value_counts()"
      ],
      "execution_count": 62,
      "outputs": [
        {
          "output_type": "execute_result",
          "data": {
            "text/plain": [
              "99.0     16\n",
              "134.0    14\n",
              "129.0    14\n",
              "133.0    13\n",
              "97.0     13\n",
              "         ..\n",
              "279.0     1\n",
              "271.0     1\n",
              "266.0     1\n",
              "235.0     1\n",
              "277.0     1\n",
              "Name: Glucose, Length: 208, dtype: int64"
            ]
          },
          "metadata": {
            "tags": []
          },
          "execution_count": 62
        }
      ]
    },
    {
      "cell_type": "code",
      "metadata": {
        "ExecuteTime": {
          "end_time": "2021-01-25T01:53:16.132062Z",
          "start_time": "2021-01-25T01:53:16.118100Z"
        },
        "colab": {
          "base_uri": "https://localhost:8080/"
        },
        "id": "MhNKSZyTq9q3",
        "outputId": "54e15880-9458-4918-fa71-a7c7e6e5ea9a"
      },
      "source": [
        "df.isnull().sum()"
      ],
      "execution_count": 63,
      "outputs": [
        {
          "output_type": "execute_result",
          "data": {
            "text/plain": [
              "Timestamp       0\n",
              "Event           0\n",
              "Glucose         0\n",
              "Insulin      1115\n",
              "Meal         1119\n",
              "dtype: int64"
            ]
          },
          "metadata": {
            "tags": []
          },
          "execution_count": 63
        }
      ]
    },
    {
      "cell_type": "code",
      "metadata": {
        "ExecuteTime": {
          "end_time": "2021-01-25T01:53:18.170395Z",
          "start_time": "2021-01-25T01:53:18.157430Z"
        },
        "colab": {
          "base_uri": "https://localhost:8080/"
        },
        "id": "e8GGHlNyq9q4",
        "outputId": "8fe76e48-fa4e-4e86-92ee-6f6ee0b07d69"
      },
      "source": [
        "df['Event'].unique()"
      ],
      "execution_count": 64,
      "outputs": [
        {
          "output_type": "execute_result",
          "data": {
            "text/plain": [
              "array(['교정', 'EGV'], dtype=object)"
            ]
          },
          "metadata": {
            "tags": []
          },
          "execution_count": 64
        }
      ]
    },
    {
      "cell_type": "code",
      "metadata": {
        "id": "TuLeqo_RxtN1"
      },
      "source": [
        "## 이벤트에 '운동' 있어서 혈당값 비어있음 \r\n",
        "# 모델 안돌아감 \r\n",
        "df=df.dropna(subset=['Glucose'])"
      ],
      "execution_count": 65,
      "outputs": []
    },
    {
      "cell_type": "code",
      "metadata": {
        "ExecuteTime": {
          "end_time": "2021-01-25T01:53:20.114266Z",
          "start_time": "2021-01-25T01:53:20.101301Z"
        },
        "id": "-g9RIuKlq9q4"
      },
      "source": [
        "# drop한 인스턴스가 있어서 인덱스 리셋\n",
        "df=df.sort_values(by=['Timestamp'],axis=0,ascending=True)\n",
        "df=df.reset_index(drop=True)"
      ],
      "execution_count": 66,
      "outputs": []
    },
    {
      "cell_type": "code",
      "metadata": {
        "ExecuteTime": {
          "end_time": "2021-01-25T01:53:22.262371Z",
          "start_time": "2021-01-25T01:53:22.141696Z"
        },
        "id": "3raJFd5Oq9q4"
      },
      "source": [
        "new_insul_list =[]\n",
        "new_meal_list =[]\n",
        "new_insul_and_meal_list=[]\n",
        "\n",
        "for i in range(len(df)):\n",
        "    if (df['Insulin'][i] ==0 and df['Meal'][i]==0):\n",
        "        new_insul_and_meal_list.append(i)\n",
        "    if (df['Insulin'][i]==0 and df['Meal'][i]!=0):\n",
        "        new_insul_list.append(i)\n",
        "    if (df['Insulin'][i]!=0 and df['Meal'][i]==0):\n",
        "        new_meal_list.append(i)"
      ],
      "execution_count": 67,
      "outputs": []
    },
    {
      "cell_type": "code",
      "metadata": {
        "ExecuteTime": {
          "end_time": "2021-01-25T01:53:24.282408Z",
          "start_time": "2021-01-25T01:53:24.268445Z"
        },
        "colab": {
          "base_uri": "https://localhost:8080/"
        },
        "id": "etuTxppeq9q4",
        "outputId": "d0cb8300-25ec-4fc8-97eb-79976be7da5e"
      },
      "source": [
        "new_meal_list"
      ],
      "execution_count": 68,
      "outputs": [
        {
          "output_type": "execute_result",
          "data": {
            "text/plain": [
              "[24, 247, 315, 481]"
            ]
          },
          "metadata": {
            "tags": []
          },
          "execution_count": 68
        }
      ]
    },
    {
      "cell_type": "code",
      "metadata": {
        "id": "UkkZfG03q9q4"
      },
      "source": [
        ""
      ],
      "execution_count": 68,
      "outputs": []
    },
    {
      "cell_type": "code",
      "metadata": {
        "ExecuteTime": {
          "end_time": "2021-01-25T01:53:26.333121Z",
          "start_time": "2021-01-25T01:53:26.132655Z"
        },
        "colab": {
          "base_uri": "https://localhost:8080/",
          "height": 0
        },
        "id": "JoFY9Drvq9q4",
        "outputId": "aa58fcaf-3fd3-465e-cae8-c198ef7a8271"
      },
      "source": [
        "df.plot(figsize=(15,6))\n",
        "plt.show()"
      ],
      "execution_count": 69,
      "outputs": [
        {
          "output_type": "display_data",
          "data": {
            "image/png": "[encoded data removed]",
            "text/plain": [
              "<Figure size 1080x432 with 1 Axes>"
            ]
          },
          "metadata": {
            "tags": [],
            "needs_background": "light"
          }
        }
      ]
    },
    {
      "cell_type": "code",
      "metadata": {
        "ExecuteTime": {
          "end_time": "2021-01-25T01:53:28.542527Z",
          "start_time": "2021-01-25T01:53:28.300175Z"
        },
        "colab": {
          "base_uri": "https://localhost:8080/",
          "height": 0
        },
        "id": "iXUdyaOvq9q4",
        "outputId": "fdc497b2-985b-4b85-f667-c6bcc1ff5b0d"
      },
      "source": [
        "df.plot(figsize=(15,6))\n",
        "plt.axhline(y=70,c='r',linestyle='--',linewidth=1)\n",
        "plt.axhline(y=180,c='r',linestyle='--',linewidth=1)\n",
        "plt.axhline(y=400,c='r',linestyle='--',linewidth=1)\n",
        "#plt.annotate(df['Timestamp'][13],xy=(-50,40),xytext=(-50,0),fontsize=20,bbox=dict(boxstyle='square',\n",
        "#                                                               color='white'),arrowprops=dict(facecolor='black'))\n",
        "#plt.annotate(df['Timestamp'][len(df['Timestamp'])],xytext=(-,0),fontsize=20,bbox=dict(boxstyle='square',\n",
        " #                                                              color='white'))\n",
        "plt.text(len(df['Timestamp']),185,'Hyperglycemic Threshold',family='Times New Roman',size=15)\n",
        "plt.text(len(df['Timestamp']),75,'Hypoglycemic Threshold',family='Times New Roman',size=15)\n",
        "plt.text(len(df['Timestamp']),405,'Too High ( Glucose value 400 + )',family='Times New Roman',size=15)\n",
        "\n",
        "#y=70\n",
        "#plt.plot(y,'b--',linestyles='--'),\n",
        "#plt.hlines(70,linestyles='--')\n",
        "plt.show()"
      ],
      "execution_count": 70,
      "outputs": [
        {
          "output_type": "stream",
          "text": [
            "findfont: Font family ['Times New Roman'] not found. Falling back to DejaVu Sans.\n"
          ],
          "name": "stderr"
        },
        {
          "output_type": "display_data",
          "data": {
            "image/png": "[encoded data removed]",
            "text/plain": [
              "<Figure size 1080x432 with 1 Axes>"
            ]
          },
          "metadata": {
            "tags": [],
            "needs_background": "light"
          }
        }
      ]
    },
    {
      "cell_type": "code",
      "metadata": {
        "ExecuteTime": {
          "end_time": "2021-01-25T01:53:30.332463Z",
          "start_time": "2021-01-25T01:53:30.319500Z"
        },
        "id": "Ff-e2NnRq9q5"
      },
      "source": [
        "#df.drop(0,inplace=True)"
      ],
      "execution_count": 71,
      "outputs": []
    },
    {
      "cell_type": "code",
      "metadata": {
        "ExecuteTime": {
          "end_time": "2021-01-25T01:53:30.704466Z",
          "start_time": "2021-01-25T01:53:30.690504Z"
        },
        "id": "3phxJsnVq9q5"
      },
      "source": [
        "# drop한 인스턴스가 있어서 인덱스 리셋\n",
        "#df=df.sort_values(by=['Timestamp'],axis=0,ascending=True)\n",
        "#df=df.reset_index(drop=True)\n",
        "#df.head(21)"
      ],
      "execution_count": 72,
      "outputs": []
    },
    {
      "cell_type": "code",
      "metadata": {
        "ExecuteTime": {
          "end_time": "2021-01-25T01:53:34.320799Z",
          "start_time": "2021-01-25T01:53:34.306836Z"
        },
        "id": "GHltXweoq9q5"
      },
      "source": [
        "# 인슐린, 탄수화물 투여시 혈당값 NULL\n",
        "# 그래서 t시점에 t-2 , t-1 크기비교해서 upper면 이렇게 lower면 이렇게 해서 interpolation ( 보간)\n",
        "# 이거 위에 참고사항 drop하고 나서 적용 해줘야됨\n",
        "#insul=list()\n",
        "#import math\n",
        "#def interpolate_glucose(df,col):\n",
        "#    #insul=list()\n",
        "    \n",
        "#    for i, row in df.iterrows():\n",
        "#        val=row[col]\n",
        "#        if math.isnan(val):\n",
        "#            if df['Glucose'][i-2] >= df['Glucose'][i-1]:\n",
        "#                c = (df['Glucose'][i-2] - df['Glucose'][i-1]) / 2 \n",
        "#                df.loc[i,col]= df['Glucose'][i-1] - c\n",
        "#                insul.append(i)\n",
        "#                print(insul)\n",
        "                \n",
        "#            if df['Glucose'][i-2] < df['Glucose'][i-1]:\n",
        "#                c = (df['Glucose'][i-2] - df['Glucose'][i-1]) / 2 \n",
        "#                df.loc[i,col]= df['Glucose'][i-1] - c\n",
        "#                insul.append(i)\n",
        "#                print(insul)\n",
        "        \n",
        "           "
      ],
      "execution_count": 73,
      "outputs": []
    },
    {
      "cell_type": "code",
      "metadata": {
        "ExecuteTime": {
          "end_time": "2021-01-25T01:53:36.328924Z",
          "start_time": "2021-01-25T01:53:36.313965Z"
        },
        "id": "oO-USeM2q9q6"
      },
      "source": [
        "# 인슐린 탄수화물 인덱스 문제 해결 파트 \n",
        "#insul=list()\n",
        "#meal=list()\n",
        "#import math\n",
        "#def interpolate_glucose(df,col):\n",
        "    #insul=list()\n",
        "    \n",
        "#    for i, row in df.iterrows():\n",
        "#        val=row[col]\n",
        "        #df=df.sort_values(by=['Timestamp'],axis=0,ascending=True)\n",
        "        #df=df.reset_index(drop=True)\n",
        "#        if math.isnan(val):\n",
        " #           if df['Event'][i]=='인슐린':\n",
        "  #              if df['Glucose'][i-1] is None:\n",
        "   #                 insul.append(i-2)\n",
        "                    \n",
        "                    \n",
        "    #            else:\n",
        "     #               insul.append(i-1)\n",
        "                    \n",
        "      #      if df['Event'][i]=='탄수화물':\n",
        "       #         if df['Glucose'][i-1] is None:\n",
        "        #            meal.append(i-2)\n",
        "                    \n",
        "         #       else:\n",
        "          #          meal.append(i-1)\n",
        "                    "
      ],
      "execution_count": 74,
      "outputs": []
    },
    {
      "cell_type": "code",
      "metadata": {
        "ExecuteTime": {
          "end_time": "2021-01-25T01:53:38.317618Z",
          "start_time": "2021-01-25T01:53:38.303654Z"
        },
        "id": "5ARbHQpIq9q6"
      },
      "source": [
        "#interpolate_glucose(df,'Glucose')"
      ],
      "execution_count": 75,
      "outputs": []
    },
    {
      "cell_type": "code",
      "metadata": {
        "ExecuteTime": {
          "end_time": "2021-01-25T01:53:40.152005Z",
          "start_time": "2021-01-25T01:53:40.139039Z"
        },
        "id": "jwvVWaHTq9q6"
      },
      "source": [
        "#meal"
      ],
      "execution_count": 76,
      "outputs": []
    },
    {
      "cell_type": "code",
      "metadata": {
        "ExecuteTime": {
          "end_time": "2021-01-25T01:53:42.020035Z",
          "start_time": "2021-01-25T01:53:42.007070Z"
        },
        "id": "UbYNhh3-q9q6"
      },
      "source": [
        "#insul"
      ],
      "execution_count": 77,
      "outputs": []
    },
    {
      "cell_type": "code",
      "metadata": {
        "ExecuteTime": {
          "end_time": "2021-01-25T01:53:42.050953Z",
          "start_time": "2021-01-25T01:53:42.023027Z"
        },
        "colab": {
          "base_uri": "https://localhost:8080/"
        },
        "id": "dDhQ76wlq9q6",
        "outputId": "d9123304-0518-422d-b011-dbeefb232b88"
      },
      "source": [
        "df['Glucose'].isnull().sum()"
      ],
      "execution_count": 78,
      "outputs": [
        {
          "output_type": "execute_result",
          "data": {
            "text/plain": [
              "0"
            ]
          },
          "metadata": {
            "tags": []
          },
          "execution_count": 78
        }
      ]
    },
    {
      "cell_type": "code",
      "metadata": {
        "ExecuteTime": {
          "end_time": "2021-01-25T01:53:42.796962Z",
          "start_time": "2021-01-25T01:53:42.785989Z"
        },
        "id": "HgDjhDWAq9q6"
      },
      "source": [
        "insul_glucose_value=list()\n",
        "for i in new_insul_list:\n",
        "    insul_glucose_value.append(df['Glucose'][i])"
      ],
      "execution_count": 79,
      "outputs": []
    },
    {
      "cell_type": "code",
      "metadata": {
        "ExecuteTime": {
          "end_time": "2021-01-25T01:53:44.256058Z",
          "start_time": "2021-01-25T01:53:44.242096Z"
        },
        "id": "PCAHh2D_q9q6"
      },
      "source": [
        "meal_glucose_value=list()\n",
        "for i in new_meal_list:\n",
        "    meal_glucose_value.append(df['Glucose'][i])"
      ],
      "execution_count": 80,
      "outputs": []
    },
    {
      "cell_type": "code",
      "metadata": {
        "ExecuteTime": {
          "end_time": "2021-01-25T01:53:45.908642Z",
          "start_time": "2021-01-25T01:53:45.895678Z"
        },
        "id": "aca-BcHzq9q7"
      },
      "source": [
        "insul_and_meal_glucose_value = list()\n",
        "for i in new_insul_and_meal_list:\n",
        "    insul_and_meal_glucose_value.append(df['Glucose'][i])"
      ],
      "execution_count": 81,
      "outputs": []
    },
    {
      "cell_type": "code",
      "metadata": {
        "ExecuteTime": {
          "end_time": "2021-01-25T01:53:45.924599Z",
          "start_time": "2021-01-25T01:53:45.911634Z"
        },
        "id": "Uqt843lhq9q7"
      },
      "source": [
        "#len = len(df['Timestamp'])\n",
        "#plt.text(-100,-1,df['Timestamp'][0],family='Times New Roman',fontweight='bold',size=17)"
      ],
      "execution_count": 82,
      "outputs": []
    },
    {
      "cell_type": "code",
      "metadata": {
        "ExecuteTime": {
          "end_time": "2021-01-25T01:53:46.264689Z",
          "start_time": "2021-01-25T01:53:45.927590Z"
        },
        "colab": {
          "base_uri": "https://localhost:8080/",
          "height": 0
        },
        "id": "ajebDiOAq9q7",
        "outputId": "719ec50a-5c82-4246-bac1-e0ad5d38a25c"
      },
      "source": [
        "import matplotlib.patches as mpatches\n",
        "import matplotlib.lines as mlines\n",
        "\n",
        "df.plot(figsize=(15,6),color='gray',alpha=0.5)\n",
        "plt.axhline(y=70,c='r',linestyle='--',linewidth=1)\n",
        "plt.axhline(y=180,c='r',linestyle='--',linewidth=1)\n",
        "plt.axhline(y=400,c='r',linestyle='--',linewidth=1)\n",
        "#plt.axhline(y=60,c='black',linestyle='--',linewidth=1)\n",
        "plt.text(len(df['Timestamp']),185,'Hyperglycemic Threshold',family='Times New Roman',size=15)\n",
        "plt.text(len(df['Timestamp']),75,'Hypoglycemic Threshold',family='Times New Roman',size=15)\n",
        "\n",
        "plt.scatter(new_insul_list,insul_glucose_value,edgecolor='black',s=50,label='Insulin',marker='o',c='red')\n",
        "plt.scatter(new_meal_list,meal_glucose_value,edgecolor='black',s=50,label='Carbohydrate',marker='o',c='green')\n",
        "plt.scatter(new_insul_and_meal_list,insul_and_meal_glucose_value,edgecolor='black',s=50,label='Insulin + Carbohydrate',marker='o',c='blue')\n",
        "\n",
        "red_patch = mpatches.Patch(color='red',label='Insulin')\n",
        "\n",
        "red_line = mlines.Line2D([],[],color='red',marker='o',markersize=15,label='Insulin')\n",
        "green_line = mlines.Line2D([],[],color='green',marker='o',markersize=15,label='Carbohydrate')\n",
        "blue_line = mlines.Line2D([],[],color='blue',marker='o',markersize=15,label='Insulin + Carbohydrate')\n",
        "plt.text(len(df['Timestamp']),405,'Too High ( Glucose value 400 + )',family='Times New Roman',size=15)\n",
        "plt.text(len(df['Timestamp']),60,'',family='Times New Roman',size=15)\n",
        "#plt.text(len(df['Timestamp']),-1,df['Timestamp'][len(df['Timestamp'])],family='Times New Roman',\n",
        "#         fontweight='bold',size=20)\n",
        "plt.text(-100,-1,df['Timestamp'][0],family='Times New Roman',fontweight='bold',size=17)\n",
        "plt.text(len(df['Timestamp']),-1,df['Timestamp'][len(df['Timestamp'])-1],family='Times New Roman',fontweight='bold',size=17)\n",
        "plt.legend(['Insulin','Carbohydrate','Insulin + Carbohydrate'],loc='best',fontsize='x-small',handles=[red_line,green_line,blue_line])\n",
        "#plt.text(-100,-1,df['Timestamp'][14],family='Times New Roman',\n",
        "\n",
        "#         fontweight='bold',size=20)\n",
        "\n",
        "#y=70\n",
        "#plt.plot(y,'b--',linestyles='--'),\n",
        "#plt.hlines(70,linestyles='--')\n",
        "plt.show()"
      ],
      "execution_count": 83,
      "outputs": [
        {
          "output_type": "stream",
          "text": [
            "findfont: Font family ['Times New Roman'] not found. Falling back to DejaVu Sans.\n"
          ],
          "name": "stderr"
        },
        {
          "output_type": "display_data",
          "data": {
            "image/png": "[encoded data removed]",
            "text/plain": [
              "<Figure size 1080x432 with 1 Axes>"
            ]
          },
          "metadata": {
            "tags": [],
            "needs_background": "light"
          }
        }
      ]
    },
    {
      "cell_type": "code",
      "metadata": {
        "ExecuteTime": {
          "end_time": "2021-01-25T01:53:46.389356Z",
          "start_time": "2021-01-25T01:53:46.265685Z"
        },
        "id": "eXer8h_dq9q7"
      },
      "source": [
        "for i in range(len(df)):\n",
        "    if isNaN(df['Insulin'][i]):\n",
        "        df['Insulin'][i]=1\n",
        "    else:\n",
        "        df['Insulin'][i]=0\n",
        "        \n",
        "     "
      ],
      "execution_count": 84,
      "outputs": []
    },
    {
      "cell_type": "code",
      "metadata": {
        "ExecuteTime": {
          "end_time": "2021-01-25T01:53:51.043530Z",
          "start_time": "2021-01-25T01:53:50.874984Z"
        },
        "id": "rPq3Eljfq9q8"
      },
      "source": [
        "for i in range(len(df)):\n",
        "    if isNaN(df['Meal'][i]):\n",
        "        df['Meal'][i]=1\n",
        "    else:\n",
        "        df['Meal'][i]=0\n",
        "        "
      ],
      "execution_count": 85,
      "outputs": []
    },
    {
      "cell_type": "code",
      "metadata": {
        "ExecuteTime": {
          "end_time": "2021-01-25T01:53:51.075446Z",
          "start_time": "2021-01-25T01:53:51.045526Z"
        },
        "colab": {
          "base_uri": "https://localhost:8080/",
          "height": 0
        },
        "id": "gwSdbaC-q9q8",
        "outputId": "d61228d7-fec6-4287-824f-b5a9a07e0bb7"
      },
      "source": [
        "df[1900:1950]"
      ],
      "execution_count": 86,
      "outputs": [
        {
          "output_type": "execute_result",
          "data": {
            "text/html": [
              "<div>\n",
              "<style scoped>\n",
              "    .dataframe tbody tr th:only-of-type {\n",
              "        vertical-align: middle;\n",
              "    }\n",
              "\n",
              "    .dataframe tbody tr th {\n",
              "        vertical-align: top;\n",
              "    }\n",
              "\n",
              "    .dataframe thead th {\n",
              "        text-align: right;\n",
              "    }\n",
              "</style>\n",
              "<table border=\"1\" class=\"dataframe\">\n",
              "  <thead>\n",
              "    <tr style=\"text-align: right;\">\n",
              "      <th></th>\n",
              "      <th>Timestamp</th>\n",
              "      <th>Event</th>\n",
              "      <th>Glucose</th>\n",
              "      <th>Insulin</th>\n",
              "      <th>Meal</th>\n",
              "    </tr>\n",
              "  </thead>\n",
              "  <tbody>\n",
              "  </tbody>\n",
              "</table>\n",
              "</div>"
            ],
            "text/plain": [
              "Empty DataFrame\n",
              "Columns: [Timestamp, Event, Glucose, Insulin, Meal]\n",
              "Index: []"
            ]
          },
          "metadata": {
            "tags": []
          },
          "execution_count": 86
        }
      ]
    },
    {
      "cell_type": "code",
      "metadata": {
        "id": "QxwcSjuqtMXO"
      },
      "source": [
        "def fix_glucose_value(df,col):\r\n",
        "    for i, row in df.iterrows():\r\n",
        "        val = row[col]\r\n",
        "        \r\n",
        "        df.loc[i,col] = math.floor(val)"
      ],
      "execution_count": 87,
      "outputs": []
    },
    {
      "cell_type": "code",
      "metadata": {
        "id": "sIkC9Oi-t-Rh"
      },
      "source": [
        "fix_glucose_value(df,'Glucose')"
      ],
      "execution_count": 88,
      "outputs": []
    },
    {
      "cell_type": "markdown",
      "metadata": {
        "id": "KZ8pAdTfq9q8"
      },
      "source": [
        "## 이제 여기부터 DL 모델 돌려볼 것 \n",
        "+ 일단 모델부터 간단하게 돌려보고 성능 측정\n",
        "+ 그리고 전처리 해가면서 성능 비교"
      ]
    },
    {
      "cell_type": "code",
      "metadata": {
        "ExecuteTime": {
          "end_time": "2021-01-25T01:53:54.756503Z",
          "start_time": "2021-01-25T01:53:54.742541Z"
        },
        "id": "TDvQ2BGIq9q8"
      },
      "source": [
        "import numpy as np\n",
        "import tensorflow as tf\n",
        "import random as rn"
      ],
      "execution_count": 89,
      "outputs": []
    },
    {
      "cell_type": "code",
      "metadata": {
        "ExecuteTime": {
          "end_time": "2021-01-25T01:53:58.949108Z",
          "start_time": "2021-01-25T01:53:58.935145Z"
        },
        "id": "qlRi61Seq9q8"
      },
      "source": [
        "# 재현 가능한 결과를 만들기 위해 시드값 설정 \n",
        "import os \n",
        "import random\n",
        "seed_num = 42\n",
        "os.environ['PYTHONHASHSEED']=str(seed_num)\n",
        "\n",
        "random.seed(seed_num)\n",
        "np.random.seed(seed_num)\n",
        "tf.random.set_seed(seed_num)"
      ],
      "execution_count": 90,
      "outputs": []
    },
    {
      "cell_type": "code",
      "metadata": {
        "ExecuteTime": {
          "end_time": "2021-01-25T01:54:00.826286Z",
          "start_time": "2021-01-25T01:54:00.780972Z"
        },
        "id": "pUArI0P3q9q8"
      },
      "source": [
        "from tensorflow.compat.v1.keras import backend as K\n",
        "\n",
        "session_conf = tf.compat.v1.ConfigProto(intra_op_parallelism_threads=1,\n",
        "                             inter_op_parallelism_threads=1)\n",
        "sess=tf.compat.v1.Session(graph=tf.compat.v1.get_default_graph(),config=session_conf)\n",
        "K.set_session(sess)"
      ],
      "execution_count": 91,
      "outputs": []
    },
    {
      "cell_type": "code",
      "metadata": {
        "ExecuteTime": {
          "end_time": "2021-01-25T01:54:01.331935Z",
          "start_time": "2021-01-25T01:54:01.317971Z"
        },
        "id": "88Z8zIskq9q8"
      },
      "source": [
        "#from keras import backend as K\n",
        "#session_conf = tf.compat.v1.ConfigProto(intra_op_parallelism_threads=1, inter_op_parallelism_threads=1)\n",
        "#sess = tf.compat.v1.Session(graph=tf.compat.v1.get_default_graph(), config=session_conf)\n",
        "#tf.compat.v1.keras.backend.set_session(sess)\n"
      ],
      "execution_count": 92,
      "outputs": []
    },
    {
      "cell_type": "code",
      "metadata": {
        "ExecuteTime": {
          "end_time": "2021-01-25T01:54:02.810348Z",
          "start_time": "2021-01-25T01:54:02.797382Z"
        },
        "id": "Aqk7ufhwq9q8"
      },
      "source": [
        "from sklearn.metrics import mean_squared_error\n",
        "def RMSE(y_test,y_predict):\n",
        "    return np.sqrt(mean_squared_error(y_test,y_predict))"
      ],
      "execution_count": 93,
      "outputs": []
    },
    {
      "cell_type": "markdown",
      "metadata": {
        "id": "_b7JkM922JMT"
      },
      "source": [
        "## 나이브 메소드"
      ]
    },
    {
      "cell_type": "markdown",
      "metadata": {
        "id": "ZRPsJpyM2os6"
      },
      "source": [
        "### 예를 들어 단순히 t 시점에 t - 6 (sampling rate가 5분이므로 30분), t + 1 시점에 t - 5값을 가져오는 naive한 방법"
      ]
    },
    {
      "cell_type": "code",
      "metadata": {
        "id": "d8haBBPH-kwK"
      },
      "source": [
        "from sklearn.model_selection import train_test_split"
      ],
      "execution_count": 94,
      "outputs": []
    },
    {
      "cell_type": "code",
      "metadata": {
        "ExecuteTime": {
          "end_time": "2021-01-25T01:54:14.533048Z",
          "start_time": "2021-01-25T01:54:14.517090Z"
        },
        "id": "y_NuM1bSq9q9"
      },
      "source": [
        "raw_seq = df['Glucose']\n",
        "#raw_seq=raw_seq.to_numpy(dtype='int64')"
      ],
      "execution_count": 95,
      "outputs": []
    },
    {
      "cell_type": "code",
      "metadata": {
        "id": "N56mfk97embM"
      },
      "source": [
        "from sklearn.metrics import mean_squared_error\r\n",
        "def RMSE(y_test,y_predict):\r\n",
        "    return np.sqrt(mean_squared_error(y_test,y_predict))"
      ],
      "execution_count": 96,
      "outputs": []
    },
    {
      "cell_type": "markdown",
      "metadata": {
        "id": "g0xg8dkjd7dd"
      },
      "source": [
        "### train"
      ]
    },
    {
      "cell_type": "code",
      "metadata": {
        "id": "85QVOwUGVkOH"
      },
      "source": [
        "TRAIN_SPLIT=int(len(raw_seq)*0.7)"
      ],
      "execution_count": 97,
      "outputs": []
    },
    {
      "cell_type": "code",
      "metadata": {
        "colab": {
          "base_uri": "https://localhost:8080/"
        },
        "id": "dxRNiSR9WAZg",
        "outputId": "7099b7c9-5fda-4fa8-d0d4-0530670c4d22"
      },
      "source": [
        "TRAIN_SPLIT"
      ],
      "execution_count": 98,
      "outputs": [
        {
          "output_type": "execute_result",
          "data": {
            "text/plain": [
              "788"
            ]
          },
          "metadata": {
            "tags": []
          },
          "execution_count": 98
        }
      ]
    },
    {
      "cell_type": "code",
      "metadata": {
        "id": "Kg-_x6aUTqLh"
      },
      "source": [
        "train, test = train_test_split(raw_seq,train_size = TRAIN_SPLIT,shuffle=False,random_state=42)"
      ],
      "execution_count": 99,
      "outputs": []
    },
    {
      "cell_type": "code",
      "metadata": {
        "id": "-wRSbBNPT39y"
      },
      "source": [
        "#test[:5]"
      ],
      "execution_count": 100,
      "outputs": []
    },
    {
      "cell_type": "code",
      "metadata": {
        "id": "7w0cU1f3VS4K"
      },
      "source": [
        "#raw_seq[731:740]"
      ],
      "execution_count": 101,
      "outputs": []
    },
    {
      "cell_type": "code",
      "metadata": {
        "id": "EnNrTu5AT95v"
      },
      "source": [
        "#test[:10]"
      ],
      "execution_count": 102,
      "outputs": []
    },
    {
      "cell_type": "code",
      "metadata": {
        "colab": {
          "base_uri": "https://localhost:8080/"
        },
        "id": "_2AsoeB0UfKJ",
        "outputId": "4fd1b0c3-0432-4886-ea37-db301b68993b"
      },
      "source": [
        "train.shape"
      ],
      "execution_count": 103,
      "outputs": [
        {
          "output_type": "execute_result",
          "data": {
            "text/plain": [
              "(788,)"
            ]
          },
          "metadata": {
            "tags": []
          },
          "execution_count": 103
        }
      ]
    },
    {
      "cell_type": "markdown",
      "metadata": {
        "id": "Jva9P7oMeeOm"
      },
      "source": [
        "#### 15 MIN"
      ]
    },
    {
      "cell_type": "code",
      "metadata": {
        "id": "Ci_E-knRwXx6"
      },
      "source": [
        "new_list = []\r\n",
        "for i in range(len(train)):\r\n",
        "  if i < 3:\r\n",
        "    new_list.append(train[i])\r\n",
        "  else:\r\n",
        "    new_list.append(train[i-3])\r\n",
        "  \r\n",
        "  \r\n",
        "\r\n",
        "\r\n",
        "  "
      ],
      "execution_count": 104,
      "outputs": []
    },
    {
      "cell_type": "code",
      "metadata": {
        "id": "G21gpHK7Zwiy"
      },
      "source": [
        "#test =test.reset_index()"
      ],
      "execution_count": 105,
      "outputs": []
    },
    {
      "cell_type": "code",
      "metadata": {
        "colab": {
          "base_uri": "https://localhost:8080/"
        },
        "id": "O8EHpSxzemba",
        "outputId": "a3dfe1da-cdd6-4c6e-c170-08fa6f8cbe19"
      },
      "source": [
        "# 15분\r\n",
        "RMSE(new_list,train)"
      ],
      "execution_count": 106,
      "outputs": [
        {
          "output_type": "execute_result",
          "data": {
            "text/plain": [
              "16.470362553374287"
            ]
          },
          "metadata": {
            "tags": []
          },
          "execution_count": 106
        }
      ]
    },
    {
      "cell_type": "markdown",
      "metadata": {
        "id": "GBSm0jwPe4RZ"
      },
      "source": [
        "#### 30 MIN"
      ]
    },
    {
      "cell_type": "code",
      "metadata": {
        "id": "Zf1lQvqae5pk"
      },
      "source": [
        "new_list = []\r\n",
        "for i in range(len(train)):\r\n",
        "  if i < 6:\r\n",
        "    new_list.append(train[i])\r\n",
        "  else:\r\n",
        "    new_list.append(train[i-6])\r\n",
        "  "
      ],
      "execution_count": 107,
      "outputs": []
    },
    {
      "cell_type": "code",
      "metadata": {
        "colab": {
          "base_uri": "https://localhost:8080/"
        },
        "id": "fg_rAVRKe8cd",
        "outputId": "11989641-142a-4f9d-fdb0-f3d26aa0223c"
      },
      "source": [
        "# 30분\r\n",
        "RMSE(new_list,train)"
      ],
      "execution_count": 108,
      "outputs": [
        {
          "output_type": "execute_result",
          "data": {
            "text/plain": [
              "27.327655615169768"
            ]
          },
          "metadata": {
            "tags": []
          },
          "execution_count": 108
        }
      ]
    },
    {
      "cell_type": "markdown",
      "metadata": {
        "id": "ap09_eEgfCDa"
      },
      "source": [
        "#### 60 MIN"
      ]
    },
    {
      "cell_type": "code",
      "metadata": {
        "id": "i6nzr3LRgSNK"
      },
      "source": [
        "new_list = []\r\n",
        "for i in range(len(train)):\r\n",
        "  if i < 12:\r\n",
        "    new_list.append(train[i])\r\n",
        "  else:\r\n",
        "    new_list.append(train[i-12])\r\n",
        "  "
      ],
      "execution_count": 109,
      "outputs": []
    },
    {
      "cell_type": "code",
      "metadata": {
        "colab": {
          "base_uri": "https://localhost:8080/"
        },
        "id": "TWCufRHxgUIV",
        "outputId": "f6bdeed5-4fae-45fe-cf7b-b14f82f325a8"
      },
      "source": [
        "# 60분\r\n",
        "RMSE(new_list,train)"
      ],
      "execution_count": 110,
      "outputs": [
        {
          "output_type": "execute_result",
          "data": {
            "text/plain": [
              "43.22231809755104"
            ]
          },
          "metadata": {
            "tags": []
          },
          "execution_count": 110
        }
      ]
    },
    {
      "cell_type": "code",
      "metadata": {
        "colab": {
          "base_uri": "https://localhost:8080/"
        },
        "id": "bn-Qy5U_iryl",
        "outputId": "740c108d-e055-4857-e073-9c266c089b9c"
      },
      "source": [
        "df.shape"
      ],
      "execution_count": 111,
      "outputs": [
        {
          "output_type": "execute_result",
          "data": {
            "text/plain": [
              "(1126, 5)"
            ]
          },
          "metadata": {
            "tags": []
          },
          "execution_count": 111
        }
      ]
    },
    {
      "cell_type": "markdown",
      "metadata": {
        "id": "ie6pKo0CfSGY"
      },
      "source": [
        "### test"
      ]
    },
    {
      "cell_type": "code",
      "metadata": {
        "id": "G3-UiMS_fSGZ"
      },
      "source": [
        "TRAIN_SPLIT=int(len(raw_seq)*0.7)"
      ],
      "execution_count": 112,
      "outputs": []
    },
    {
      "cell_type": "code",
      "metadata": {
        "colab": {
          "base_uri": "https://localhost:8080/"
        },
        "id": "1-dADW8tfSGa",
        "outputId": "3fc81766-acd9-4914-82ba-639930883b69"
      },
      "source": [
        "TRAIN_SPLIT"
      ],
      "execution_count": 113,
      "outputs": [
        {
          "output_type": "execute_result",
          "data": {
            "text/plain": [
              "788"
            ]
          },
          "metadata": {
            "tags": []
          },
          "execution_count": 113
        }
      ]
    },
    {
      "cell_type": "code",
      "metadata": {
        "colab": {
          "base_uri": "https://localhost:8080/"
        },
        "id": "e1l1dwztfSGc",
        "outputId": "16d9019b-3aaf-4592-ea14-2629b5550147"
      },
      "source": [
        "test.shape"
      ],
      "execution_count": 114,
      "outputs": [
        {
          "output_type": "execute_result",
          "data": {
            "text/plain": [
              "(338,)"
            ]
          },
          "metadata": {
            "tags": []
          },
          "execution_count": 114
        }
      ]
    },
    {
      "cell_type": "code",
      "metadata": {
        "id": "uRcfu1Z68Kja"
      },
      "source": [
        "test2 = []\r\n",
        "for i in range(len(test)):\r\n",
        "  test2.append(test[i+len(train)])\r\n"
      ],
      "execution_count": 115,
      "outputs": []
    },
    {
      "cell_type": "markdown",
      "metadata": {
        "id": "pLR9qpEnfSGd"
      },
      "source": [
        "#### 15 MIN"
      ]
    },
    {
      "cell_type": "code",
      "metadata": {
        "id": "nrgTaU2g-Wrj"
      },
      "source": [
        "new_list = []\r\n",
        "for i in range(len(test)):\r\n",
        "  if i < 3:\r\n",
        "    new_list.append(test2[i])\r\n",
        "  else:\r\n",
        "    new_list.append(test2[i-3])"
      ],
      "execution_count": 116,
      "outputs": []
    },
    {
      "cell_type": "code",
      "metadata": {
        "id": "VmHOV7T5fSGd"
      },
      "source": [
        "#test =test.reset_index()\r\n",
        "#new_list[:15]"
      ],
      "execution_count": 117,
      "outputs": []
    },
    {
      "cell_type": "code",
      "metadata": {
        "id": "WhtKubc4-f8_"
      },
      "source": [
        "#test2[:15]"
      ],
      "execution_count": 118,
      "outputs": []
    },
    {
      "cell_type": "code",
      "metadata": {
        "colab": {
          "base_uri": "https://localhost:8080/"
        },
        "id": "78rkymcrfSGe",
        "outputId": "01e9a66e-c94e-4384-da48-94d259d61546"
      },
      "source": [
        "# 15분\r\n",
        "RMSE(new_list,test2)"
      ],
      "execution_count": 119,
      "outputs": [
        {
          "output_type": "execute_result",
          "data": {
            "text/plain": [
              "17.052390555832314"
            ]
          },
          "metadata": {
            "tags": []
          },
          "execution_count": 119
        }
      ]
    },
    {
      "cell_type": "markdown",
      "metadata": {
        "id": "fnGpURJ6fSGe"
      },
      "source": [
        "#### 30 MIN"
      ]
    },
    {
      "cell_type": "code",
      "metadata": {
        "id": "V8PvpSb6-pPO"
      },
      "source": [
        "new_list = []\r\n",
        "for i in range(len(test)):\r\n",
        "  if i < 6:\r\n",
        "    new_list.append(test2[i])\r\n",
        "  else:\r\n",
        "    new_list.append(test2[i-6])"
      ],
      "execution_count": 120,
      "outputs": []
    },
    {
      "cell_type": "code",
      "metadata": {
        "colab": {
          "base_uri": "https://localhost:8080/"
        },
        "id": "sx2fveThfSGf",
        "outputId": "69dfb64e-9855-4f87-be8b-db83e3297902"
      },
      "source": [
        "# 30분\r\n",
        "RMSE(new_list,test2)"
      ],
      "execution_count": 121,
      "outputs": [
        {
          "output_type": "execute_result",
          "data": {
            "text/plain": [
              "26.315001233912728"
            ]
          },
          "metadata": {
            "tags": []
          },
          "execution_count": 121
        }
      ]
    },
    {
      "cell_type": "markdown",
      "metadata": {
        "id": "JsNuh7GkfSGf"
      },
      "source": [
        "#### 60 MIN"
      ]
    },
    {
      "cell_type": "code",
      "metadata": {
        "id": "e3L23Jab-xeU"
      },
      "source": [
        "new_list = []\r\n",
        "for i in range(len(test)):\r\n",
        "  if i < 12:\r\n",
        "    new_list.append(test2[i])\r\n",
        "  else:\r\n",
        "    new_list.append(test2[i-12])"
      ],
      "execution_count": 122,
      "outputs": []
    },
    {
      "cell_type": "code",
      "metadata": {
        "colab": {
          "base_uri": "https://localhost:8080/"
        },
        "id": "frUZ32p-fSGg",
        "outputId": "051e11fd-1056-4702-acd6-c5afb0658a38"
      },
      "source": [
        "# 60분\r\n",
        "RMSE(new_list,test2)"
      ],
      "execution_count": 123,
      "outputs": [
        {
          "output_type": "execute_result",
          "data": {
            "text/plain": [
              "37.1164009426414"
            ]
          },
          "metadata": {
            "tags": []
          },
          "execution_count": 123
        }
      ]
    },
    {
      "cell_type": "code",
      "metadata": {
        "id": "fre6o30E_ELH"
      },
      "source": [
        ""
      ],
      "execution_count": 123,
      "outputs": []
    },
    {
      "cell_type": "code",
      "metadata": {
        "colab": {
          "base_uri": "https://localhost:8080/",
          "height": 633
        },
        "id": "wUci25QZ5-tC",
        "outputId": "ca3aa10e-f0f1-49b2-89e8-4dfeca905566"
      },
      "source": [
        "# 테스트셋\r\n",
        "plt.figure(figsize=(12,9))\r\n",
        "plt.plot(test2,label='actual')\r\n",
        "plt.plot(new_list,label='naive')\r\n",
        "plt.axhline(y=70,c='r',linestyle='--',linewidth=1)\r\n",
        "plt.axhline(y=180,c='r',linestyle='--',linewidth=1)\r\n",
        "plt.axhline(y=400,c='r',linestyle='--',linewidth=1)\r\n",
        "plt.text(len(test),75,'Hypoglycemic Threshold',family='Times New Roman',size=15)\r\n",
        "plt.text(len(test),185,'Hyperglycemic Threshold',family='Times New Roman',size=15)\r\n",
        "#plt.text(len(predict_result),75,'Hypoglycemic Threshold',family='Times New Roman',size=15)\r\n",
        "plt.text(-50,-1,df['Timestamp'][TRAIN_SPLIT],family='Times New Roman',fontweight='bold',size=17)\r\n",
        "plt.text(len(df['Timestamp'])-TRAIN_SPLIT-10,-1,df['Timestamp'][len(df['Timestamp'])-1],family='Times New Roman',fontweight='bold',size=17)\r\n",
        "plt.text(len(test),405,'Too High ( Glucose value 400 + )',family='Times New Roman',size=15)\r\n",
        "plt.title('GRU - Validation set',family='Times New Roman')\r\n",
        "plt.legend(loc='best')\r\n",
        "\r\n",
        "plt.show()"
      ],
      "execution_count": 124,
      "outputs": [
        {
          "output_type": "stream",
          "text": [
            "findfont: Font family ['Times New Roman'] not found. Falling back to DejaVu Sans.\n"
          ],
          "name": "stderr"
        },
        {
          "output_type": "display_data",
          "data": {
            "image/png": "[encoded data removed]",
            "text/plain": [
              "<Figure size 864x648 with 1 Axes>"
            ]
          },
          "metadata": {
            "tags": [],
            "needs_background": "light"
          }
        }
      ]
    }
  ]
}