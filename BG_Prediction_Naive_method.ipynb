{
  "nbformat": 4,
  "nbformat_minor": 0,
  "metadata": {
    "kernelspec": {
      "display_name": "Python 3",
      "language": "python",
      "name": "python3"
    },
    "language_info": {
      "codemirror_mode": {
        "name": "ipython",
        "version": 3
      },
      "file_extension": ".py",
      "mimetype": "text/x-python",
      "name": "python",
      "nbconvert_exporter": "python",
      "pygments_lexer": "ipython3",
      "version": "3.7.7"
    },
    "toc": {
      "base_numbering": 1,
      "nav_menu": {},
      "number_sections": true,
      "sideBar": true,
      "skip_h1_title": false,
      "title_cell": "Table of Contents",
      "title_sidebar": "Contents",
      "toc_cell": false,
      "toc_position": {
        "height": "837px",
        "left": "26px",
        "top": "92px",
        "width": "385px"
      },
      "toc_section_display": true,
      "toc_window_display": true
    },
    "varInspector": {
      "cols": {
        "lenName": 16,
        "lenType": 16,
        "lenVar": 40
      },
      "kernels_config": {
        "python": {
          "delete_cmd_postfix": "",
          "delete_cmd_prefix": "del ",
          "library": "var_list.py",
          "varRefreshCmd": "print(var_dic_list())"
        },
        "r": {
          "delete_cmd_postfix": ") ",
          "delete_cmd_prefix": "rm(",
          "library": "var_list.r",
          "varRefreshCmd": "cat(var_dic_list()) "
        }
      },
      "position": {
        "height": "592px",
        "left": "1521px",
        "right": "20px",
        "top": "128px",
        "width": "401px"
      },
      "types_to_exclude": [
        "module",
        "function",
        "builtin_function_or_method",
        "instance",
        "_Feature"
      ],
      "window_display": false
    },
    "colab": {
      "name": "BG_Prediction_Naive_method.ipynb",
      "provenance": [],
      "collapsed_sections": [
        "tD-xVtSIq9q3"
      ],
      "toc_visible": true
    }
  },
  "cells": [
    {
      "cell_type": "markdown",
      "metadata": {
        "id": "view-in-github"
      },
      "source": [
        "<a href=\"https://colab.research.google.com/github/dongsikchoi/ML_Time-Series_EDA/blob/master/BG_Prediction_Univariate_Filter_X_01_25.ipynb\" target=\"_parent\"><img src=\"https://colab.research.google.com/assets/colab-badge.svg\" alt=\"Open In Colab\"/></a>"
      ]
    },
    {
      "cell_type": "markdown",
      "metadata": {
        "id": "lx196wNwq9qn"
      },
      "source": [
        "### 필요 라이브러리 로드"
      ]
    },
    {
      "cell_type": "code",
      "metadata": {
        "ExecuteTime": {
          "end_time": "2021-01-25T01:11:17.017681Z",
          "start_time": "2021-01-25T01:11:15.594487Z"
        },
        "id": "-7Ts1kTdq9qr"
      },
      "source": [
        "import warnings\n",
        "import itertools\n",
        "import numpy as np\n",
        "import matplotlib.pyplot as plt\n",
        "warnings.filterwarnings(\"ignore\")\n",
        "plt.style.use('fivethirtyeight')\n",
        "import pandas as pd\n",
        "import statsmodels.api as sm\n",
        "import matplotlib\n",
        "\n",
        "matplotlib.rcParams['axes.labelsize']=14\n",
        "matplotlib.rcParams['xtick.labelsize']=12\n",
        "matplotlib.rcParams['ytick.labelsize']=12\n",
        "matplotlib.rcParams['text.color']='k'"
      ],
      "execution_count": 236,
      "outputs": []
    },
    {
      "cell_type": "code",
      "metadata": {
        "id": "0mabAlWoq-4v"
      },
      "source": [
        "# Colab\r\n",
        "#from google.colab import auth\r\n",
        "#auth.authenticate_user()"
      ],
      "execution_count": 237,
      "outputs": []
    },
    {
      "cell_type": "code",
      "metadata": {
        "colab": {
          "base_uri": "https://localhost:8080/"
        },
        "id": "YMukYC78rI9D",
        "outputId": "6d167c32-e685-4049-c1ac-2a7ec35ccb20"
      },
      "source": [
        "from google.colab import drive\n",
        "drive.mount('/content/drive')"
      ],
      "execution_count": 238,
      "outputs": [
        {
          "output_type": "stream",
          "text": [
            "Drive already mounted at /content/drive; to attempt to forcibly remount, call drive.mount(\"/content/drive\", force_remount=True).\n"
          ],
          "name": "stdout"
        }
      ]
    },
    {
      "cell_type": "code",
      "metadata": {
        "ExecuteTime": {
          "end_time": "2021-01-25T01:11:17.033638Z",
          "start_time": "2021-01-25T01:11:17.021672Z"
        },
        "id": "v-JGa4Mfq9qs"
      },
      "source": [
        "pd.set_option('display.max_columns',500) \n",
        "#출력시 생략 X"
      ],
      "execution_count": 239,
      "outputs": []
    },
    {
      "cell_type": "markdown",
      "metadata": {
        "id": "1DTmoDOkq9qs"
      },
      "source": [
        "### 데이터셋 설정 "
      ]
    },
    {
      "cell_type": "code",
      "metadata": {
        "ExecuteTime": {
          "end_time": "2021-01-25T01:51:11.992775Z",
          "start_time": "2021-01-25T01:51:11.855142Z"
        },
        "id": "2iPg6upoq9qt"
      },
      "source": [
        "#df=pd.read_excel(\"BG_Dataset/BG_sample27.xlsx\")"
      ],
      "execution_count": 240,
      "outputs": []
    },
    {
      "cell_type": "code",
      "metadata": {
        "id": "mvp2qFY6rUd3"
      },
      "source": [
        "# Colab\r\n",
        "df = pd.read_excel(\"/content/drive/MyDrive/BG_Dataset/BG_sample4.xlsx\")\r\n",
        "#df = pd.read_csv(\"/content/drive/MyDrive/BG_Dataset/BG_Sample46.csv\")\r\n"
      ],
      "execution_count": 241,
      "outputs": []
    },
    {
      "cell_type": "code",
      "metadata": {
        "ExecuteTime": {
          "end_time": "2021-01-25T01:51:14.576866Z",
          "start_time": "2021-01-25T01:51:14.562904Z"
        },
        "colab": {
          "base_uri": "https://localhost:8080/"
        },
        "id": "WR0-r_OUq9qt",
        "outputId": "238bb05f-8d0e-4320-9761-fe3324ab5b72"
      },
      "source": [
        "df.shape"
      ],
      "execution_count": 242,
      "outputs": [
        {
          "output_type": "execute_result",
          "data": {
            "text/plain": [
              "(1987, 14)"
            ]
          },
          "metadata": {
            "tags": []
          },
          "execution_count": 242
        }
      ]
    },
    {
      "cell_type": "code",
      "metadata": {
        "ExecuteTime": {
          "end_time": "2021-01-25T01:51:16.523597Z",
          "start_time": "2021-01-25T01:51:16.508638Z"
        },
        "colab": {
          "base_uri": "https://localhost:8080/",
          "height": 452
        },
        "id": "NUfEWB3Oq9qu",
        "outputId": "12eaf3df-3213-42cc-e53d-dc2f01203feb"
      },
      "source": [
        "df.head(13)"
      ],
      "execution_count": 243,
      "outputs": [
        {
          "output_type": "execute_result",
          "data": {
            "text/html": [
              "<div>\n",
              "<style scoped>\n",
              "    .dataframe tbody tr th:only-of-type {\n",
              "        vertical-align: middle;\n",
              "    }\n",
              "\n",
              "    .dataframe tbody tr th {\n",
              "        vertical-align: top;\n",
              "    }\n",
              "\n",
              "    .dataframe thead th {\n",
              "        text-align: right;\n",
              "    }\n",
              "</style>\n",
              "<table border=\"1\" class=\"dataframe\">\n",
              "  <thead>\n",
              "    <tr style=\"text-align: right;\">\n",
              "      <th></th>\n",
              "      <th>색인</th>\n",
              "      <th>타임스탬프(YYYY-MM-DDThh:mm:ss)</th>\n",
              "      <th>이벤트 유형</th>\n",
              "      <th>이벤트 하위 유형</th>\n",
              "      <th>환자 정보</th>\n",
              "      <th>장치 정보</th>\n",
              "      <th>소스 장치 ID</th>\n",
              "      <th>포도당 값 (mg/dL)</th>\n",
              "      <th>인슐린 값(u)</th>\n",
              "      <th>탄수화물 값 (그램)</th>\n",
              "      <th>기간(hh:mm:ss)</th>\n",
              "      <th>포도당 변화율 (mg/dL/min)</th>\n",
              "      <th>트랜스미터 시간 (배장 정수)</th>\n",
              "      <th>트랜스미터 ID</th>\n",
              "    </tr>\n",
              "  </thead>\n",
              "  <tbody>\n",
              "    <tr>\n",
              "      <th>0</th>\n",
              "      <td>1</td>\n",
              "      <td>NaN</td>\n",
              "      <td>이름</td>\n",
              "      <td>NaN</td>\n",
              "      <td>sch</td>\n",
              "      <td>NaN</td>\n",
              "      <td>NaN</td>\n",
              "      <td>NaN</td>\n",
              "      <td>NaN</td>\n",
              "      <td>NaN</td>\n",
              "      <td>NaN</td>\n",
              "      <td>NaN</td>\n",
              "      <td>NaN</td>\n",
              "      <td>NaN</td>\n",
              "    </tr>\n",
              "    <tr>\n",
              "      <th>1</th>\n",
              "      <td>2</td>\n",
              "      <td>NaN</td>\n",
              "      <td>성</td>\n",
              "      <td>NaN</td>\n",
              "      <td>s</td>\n",
              "      <td>NaN</td>\n",
              "      <td>NaN</td>\n",
              "      <td>NaN</td>\n",
              "      <td>NaN</td>\n",
              "      <td>NaN</td>\n",
              "      <td>NaN</td>\n",
              "      <td>NaN</td>\n",
              "      <td>NaN</td>\n",
              "      <td>NaN</td>\n",
              "    </tr>\n",
              "    <tr>\n",
              "      <th>2</th>\n",
              "      <td>3</td>\n",
              "      <td>NaN</td>\n",
              "      <td>생년월일</td>\n",
              "      <td>NaN</td>\n",
              "      <td>1990-01-01 00:00:00</td>\n",
              "      <td>NaN</td>\n",
              "      <td>NaN</td>\n",
              "      <td>NaN</td>\n",
              "      <td>NaN</td>\n",
              "      <td>NaN</td>\n",
              "      <td>NaN</td>\n",
              "      <td>NaN</td>\n",
              "      <td>NaN</td>\n",
              "      <td>NaN</td>\n",
              "    </tr>\n",
              "    <tr>\n",
              "      <th>3</th>\n",
              "      <td>4</td>\n",
              "      <td>NaN</td>\n",
              "      <td>장치</td>\n",
              "      <td>NaN</td>\n",
              "      <td>NaN</td>\n",
              "      <td>Dexcom G5 Mobile App</td>\n",
              "      <td>Android</td>\n",
              "      <td>NaN</td>\n",
              "      <td>NaN</td>\n",
              "      <td>NaN</td>\n",
              "      <td>NaN</td>\n",
              "      <td>NaN</td>\n",
              "      <td>NaN</td>\n",
              "      <td>NaN</td>\n",
              "    </tr>\n",
              "    <tr>\n",
              "      <th>4</th>\n",
              "      <td>5</td>\n",
              "      <td>NaN</td>\n",
              "      <td>경고</td>\n",
              "      <td>하락</td>\n",
              "      <td>NaN</td>\n",
              "      <td>NaN</td>\n",
              "      <td>Android</td>\n",
              "      <td>NaN</td>\n",
              "      <td>NaN</td>\n",
              "      <td>NaN</td>\n",
              "      <td>NaN</td>\n",
              "      <td>3.0</td>\n",
              "      <td>NaN</td>\n",
              "      <td>NaN</td>\n",
              "    </tr>\n",
              "    <tr>\n",
              "      <th>5</th>\n",
              "      <td>6</td>\n",
              "      <td>NaN</td>\n",
              "      <td>경고</td>\n",
              "      <td>높음</td>\n",
              "      <td>NaN</td>\n",
              "      <td>NaN</td>\n",
              "      <td>Android</td>\n",
              "      <td>400.0</td>\n",
              "      <td>NaN</td>\n",
              "      <td>NaN</td>\n",
              "      <td>NaN</td>\n",
              "      <td>NaN</td>\n",
              "      <td>NaN</td>\n",
              "      <td>NaN</td>\n",
              "    </tr>\n",
              "    <tr>\n",
              "      <th>6</th>\n",
              "      <td>7</td>\n",
              "      <td>NaN</td>\n",
              "      <td>경고</td>\n",
              "      <td>낮음</td>\n",
              "      <td>NaN</td>\n",
              "      <td>NaN</td>\n",
              "      <td>Android</td>\n",
              "      <td>60.0</td>\n",
              "      <td>NaN</td>\n",
              "      <td>NaN</td>\n",
              "      <td>NaN</td>\n",
              "      <td>NaN</td>\n",
              "      <td>NaN</td>\n",
              "      <td>NaN</td>\n",
              "    </tr>\n",
              "    <tr>\n",
              "      <th>7</th>\n",
              "      <td>8</td>\n",
              "      <td>NaN</td>\n",
              "      <td>경고</td>\n",
              "      <td>신호 손실</td>\n",
              "      <td>NaN</td>\n",
              "      <td>NaN</td>\n",
              "      <td>Android</td>\n",
              "      <td>NaN</td>\n",
              "      <td>NaN</td>\n",
              "      <td>NaN</td>\n",
              "      <td>00:30:00</td>\n",
              "      <td>NaN</td>\n",
              "      <td>NaN</td>\n",
              "      <td>NaN</td>\n",
              "    </tr>\n",
              "    <tr>\n",
              "      <th>8</th>\n",
              "      <td>9</td>\n",
              "      <td>NaN</td>\n",
              "      <td>경고</td>\n",
              "      <td>상승</td>\n",
              "      <td>NaN</td>\n",
              "      <td>NaN</td>\n",
              "      <td>Android</td>\n",
              "      <td>NaN</td>\n",
              "      <td>NaN</td>\n",
              "      <td>NaN</td>\n",
              "      <td>NaN</td>\n",
              "      <td>3.0</td>\n",
              "      <td>NaN</td>\n",
              "      <td>NaN</td>\n",
              "    </tr>\n",
              "    <tr>\n",
              "      <th>9</th>\n",
              "      <td>10</td>\n",
              "      <td>NaN</td>\n",
              "      <td>경고</td>\n",
              "      <td>매우 낮음</td>\n",
              "      <td>NaN</td>\n",
              "      <td>NaN</td>\n",
              "      <td>Android</td>\n",
              "      <td>55.0</td>\n",
              "      <td>NaN</td>\n",
              "      <td>NaN</td>\n",
              "      <td>NaN</td>\n",
              "      <td>NaN</td>\n",
              "      <td>NaN</td>\n",
              "      <td>NaN</td>\n",
              "    </tr>\n",
              "    <tr>\n",
              "      <th>10</th>\n",
              "      <td>11</td>\n",
              "      <td>2019-07-30T12:09:57</td>\n",
              "      <td>교정</td>\n",
              "      <td>NaN</td>\n",
              "      <td>NaN</td>\n",
              "      <td>NaN</td>\n",
              "      <td>Android</td>\n",
              "      <td>72.0</td>\n",
              "      <td>NaN</td>\n",
              "      <td>NaN</td>\n",
              "      <td>NaN</td>\n",
              "      <td>NaN</td>\n",
              "      <td>NaN</td>\n",
              "      <td>40EPTP</td>\n",
              "    </tr>\n",
              "    <tr>\n",
              "      <th>11</th>\n",
              "      <td>12</td>\n",
              "      <td>2019-07-30T12:10:11</td>\n",
              "      <td>교정</td>\n",
              "      <td>NaN</td>\n",
              "      <td>NaN</td>\n",
              "      <td>NaN</td>\n",
              "      <td>Android</td>\n",
              "      <td>72.0</td>\n",
              "      <td>NaN</td>\n",
              "      <td>NaN</td>\n",
              "      <td>NaN</td>\n",
              "      <td>NaN</td>\n",
              "      <td>NaN</td>\n",
              "      <td>40EPTP</td>\n",
              "    </tr>\n",
              "    <tr>\n",
              "      <th>12</th>\n",
              "      <td>13</td>\n",
              "      <td>2019-07-30T17:30:00</td>\n",
              "      <td>인슐린</td>\n",
              "      <td>NaN</td>\n",
              "      <td>NaN</td>\n",
              "      <td>NaN</td>\n",
              "      <td>Android</td>\n",
              "      <td>NaN</td>\n",
              "      <td>8.0</td>\n",
              "      <td>NaN</td>\n",
              "      <td>NaN</td>\n",
              "      <td>NaN</td>\n",
              "      <td>NaN</td>\n",
              "      <td>NaN</td>\n",
              "    </tr>\n",
              "  </tbody>\n",
              "</table>\n",
              "</div>"
            ],
            "text/plain": [
              "    색인 타임스탬프(YYYY-MM-DDThh:mm:ss) 이벤트 유형 이벤트 하위 유형                환자 정보  \\\n",
              "0    1                        NaN     이름       NaN                  sch   \n",
              "1    2                        NaN      성       NaN                    s   \n",
              "2    3                        NaN   생년월일       NaN  1990-01-01 00:00:00   \n",
              "3    4                        NaN     장치       NaN                  NaN   \n",
              "4    5                        NaN     경고        하락                  NaN   \n",
              "5    6                        NaN     경고        높음                  NaN   \n",
              "6    7                        NaN     경고        낮음                  NaN   \n",
              "7    8                        NaN     경고     신호 손실                  NaN   \n",
              "8    9                        NaN     경고        상승                  NaN   \n",
              "9   10                        NaN     경고     매우 낮음                  NaN   \n",
              "10  11        2019-07-30T12:09:57     교정       NaN                  NaN   \n",
              "11  12        2019-07-30T12:10:11     교정       NaN                  NaN   \n",
              "12  13        2019-07-30T17:30:00    인슐린       NaN                  NaN   \n",
              "\n",
              "                   장치 정보 소스 장치 ID  포도당 값 (mg/dL)  인슐린 값(u)  탄수화물 값 (그램)  \\\n",
              "0                    NaN      NaN            NaN       NaN          NaN   \n",
              "1                    NaN      NaN            NaN       NaN          NaN   \n",
              "2                    NaN      NaN            NaN       NaN          NaN   \n",
              "3   Dexcom G5 Mobile App  Android            NaN       NaN          NaN   \n",
              "4                    NaN  Android            NaN       NaN          NaN   \n",
              "5                    NaN  Android          400.0       NaN          NaN   \n",
              "6                    NaN  Android           60.0       NaN          NaN   \n",
              "7                    NaN  Android            NaN       NaN          NaN   \n",
              "8                    NaN  Android            NaN       NaN          NaN   \n",
              "9                    NaN  Android           55.0       NaN          NaN   \n",
              "10                   NaN  Android           72.0       NaN          NaN   \n",
              "11                   NaN  Android           72.0       NaN          NaN   \n",
              "12                   NaN  Android            NaN       8.0          NaN   \n",
              "\n",
              "   기간(hh:mm:ss)  포도당 변화율 (mg/dL/min)  트랜스미터 시간 (배장 정수) 트랜스미터 ID  \n",
              "0           NaN                  NaN               NaN      NaN  \n",
              "1           NaN                  NaN               NaN      NaN  \n",
              "2           NaN                  NaN               NaN      NaN  \n",
              "3           NaN                  NaN               NaN      NaN  \n",
              "4           NaN                  3.0               NaN      NaN  \n",
              "5           NaN                  NaN               NaN      NaN  \n",
              "6           NaN                  NaN               NaN      NaN  \n",
              "7      00:30:00                  NaN               NaN      NaN  \n",
              "8           NaN                  3.0               NaN      NaN  \n",
              "9           NaN                  NaN               NaN      NaN  \n",
              "10          NaN                  NaN               NaN   40EPTP  \n",
              "11          NaN                  NaN               NaN   40EPTP  \n",
              "12          NaN                  NaN               NaN      NaN  "
            ]
          },
          "metadata": {
            "tags": []
          },
          "execution_count": 243
        }
      ]
    },
    {
      "cell_type": "code",
      "metadata": {
        "ExecuteTime": {
          "end_time": "2021-01-25T01:51:16.538557Z",
          "start_time": "2021-01-25T01:51:16.525593Z"
        },
        "id": "ffJCYqbfq9qu"
      },
      "source": [
        "#필요없는 열 제거\n",
        "cols = ['색인', '이벤트 하위 유형', '환자 정보', '장치 정보', '소스 장치 ID', '기간(hh:mm:ss)', '포도당 변화율 (mg/dL/min)', '트랜스미터 시간 (배장 정수)', '트랜스미터 ID']\n",
        "df.drop(cols, axis=1, inplace=True)\n"
      ],
      "execution_count": 244,
      "outputs": []
    },
    {
      "cell_type": "code",
      "metadata": {
        "ExecuteTime": {
          "end_time": "2021-01-25T01:51:19.726562Z",
          "start_time": "2021-01-25T01:51:19.711592Z"
        },
        "id": "zBXR3xmWq9qu"
      },
      "source": [
        "df=df.rename({'타임스탬프(YYYY-MM-DDThh:mm:ss)':'Timestamp','포도당 값 (mg/dL)':'Glucose','이벤트 유형':'Event',\n",
        "             '인슐린 값(u)':'Insulin','탄수화물 값 (그램)':'Meal'},axis='columns')"
      ],
      "execution_count": 245,
      "outputs": []
    },
    {
      "cell_type": "code",
      "metadata": {
        "ExecuteTime": {
          "end_time": "2021-01-25T01:51:21.609517Z",
          "start_time": "2021-01-25T01:51:21.594557Z"
        },
        "colab": {
          "base_uri": "https://localhost:8080/"
        },
        "id": "P1FIKbkoq9qv",
        "outputId": "02800323-1c5b-4188-f843-b574d3892ff6"
      },
      "source": [
        "df['Event'].value_counts()"
      ],
      "execution_count": 246,
      "outputs": [
        {
          "output_type": "execute_result",
          "data": {
            "text/plain": [
              "EGV     1911\n",
              "교정        33\n",
              "인슐린       19\n",
              "탄수화물      14\n",
              "경고         6\n",
              "생년월일       1\n",
              "이름         1\n",
              "장치         1\n",
              "성          1\n",
              "Name: Event, dtype: int64"
            ]
          },
          "metadata": {
            "tags": []
          },
          "execution_count": 246
        }
      ]
    },
    {
      "cell_type": "code",
      "metadata": {
        "ExecuteTime": {
          "end_time": "2021-01-25T01:51:21.856856Z",
          "start_time": "2021-01-25T01:51:21.841897Z"
        },
        "colab": {
          "base_uri": "https://localhost:8080/"
        },
        "id": "O09mun7lq9qv",
        "outputId": "db3ec6e9-2777-4dd0-cf56-6ed3027618b4"
      },
      "source": [
        "df['Glucose'].value_counts()"
      ],
      "execution_count": 247,
      "outputs": [
        {
          "output_type": "execute_result",
          "data": {
            "text/plain": [
              "155.0    30\n",
              "116.0    25\n",
              "118.0    22\n",
              "117.0    22\n",
              "120.0    22\n",
              "         ..\n",
              "315.0     1\n",
              "281.0     1\n",
              "245.0     1\n",
              "310.0     1\n",
              "400.0     1\n",
              "Name: Glucose, Length: 263, dtype: int64"
            ]
          },
          "metadata": {
            "tags": []
          },
          "execution_count": 247
        }
      ]
    },
    {
      "cell_type": "code",
      "metadata": {
        "ExecuteTime": {
          "end_time": "2021-01-25T01:51:26.308136Z",
          "start_time": "2021-01-25T01:51:26.293177Z"
        },
        "colab": {
          "base_uri": "https://localhost:8080/",
          "height": 204
        },
        "id": "ptjIo4sYq9qv",
        "outputId": "0cab6e19-0cb2-4c38-f115-f06b549c95cf"
      },
      "source": [
        "df.tail()"
      ],
      "execution_count": 248,
      "outputs": [
        {
          "output_type": "execute_result",
          "data": {
            "text/html": [
              "<div>\n",
              "<style scoped>\n",
              "    .dataframe tbody tr th:only-of-type {\n",
              "        vertical-align: middle;\n",
              "    }\n",
              "\n",
              "    .dataframe tbody tr th {\n",
              "        vertical-align: top;\n",
              "    }\n",
              "\n",
              "    .dataframe thead th {\n",
              "        text-align: right;\n",
              "    }\n",
              "</style>\n",
              "<table border=\"1\" class=\"dataframe\">\n",
              "  <thead>\n",
              "    <tr style=\"text-align: right;\">\n",
              "      <th></th>\n",
              "      <th>Timestamp</th>\n",
              "      <th>Event</th>\n",
              "      <th>Glucose</th>\n",
              "      <th>Insulin</th>\n",
              "      <th>Meal</th>\n",
              "    </tr>\n",
              "  </thead>\n",
              "  <tbody>\n",
              "    <tr>\n",
              "      <th>1982</th>\n",
              "      <td>2019-08-06T14:22:17</td>\n",
              "      <td>EGV</td>\n",
              "      <td>208.0</td>\n",
              "      <td>NaN</td>\n",
              "      <td>NaN</td>\n",
              "    </tr>\n",
              "    <tr>\n",
              "      <th>1983</th>\n",
              "      <td>2019-08-06T14:27:17</td>\n",
              "      <td>EGV</td>\n",
              "      <td>206.0</td>\n",
              "      <td>NaN</td>\n",
              "      <td>NaN</td>\n",
              "    </tr>\n",
              "    <tr>\n",
              "      <th>1984</th>\n",
              "      <td>2019-08-06T14:32:16</td>\n",
              "      <td>EGV</td>\n",
              "      <td>203.0</td>\n",
              "      <td>NaN</td>\n",
              "      <td>NaN</td>\n",
              "    </tr>\n",
              "    <tr>\n",
              "      <th>1985</th>\n",
              "      <td>2019-08-06T14:37:17</td>\n",
              "      <td>EGV</td>\n",
              "      <td>201.0</td>\n",
              "      <td>NaN</td>\n",
              "      <td>NaN</td>\n",
              "    </tr>\n",
              "    <tr>\n",
              "      <th>1986</th>\n",
              "      <td>2019-08-06T14:42:16</td>\n",
              "      <td>EGV</td>\n",
              "      <td>194.0</td>\n",
              "      <td>NaN</td>\n",
              "      <td>NaN</td>\n",
              "    </tr>\n",
              "  </tbody>\n",
              "</table>\n",
              "</div>"
            ],
            "text/plain": [
              "                Timestamp Event  Glucose  Insulin  Meal\n",
              "1982  2019-08-06T14:22:17   EGV    208.0      NaN   NaN\n",
              "1983  2019-08-06T14:27:17   EGV    206.0      NaN   NaN\n",
              "1984  2019-08-06T14:32:16   EGV    203.0      NaN   NaN\n",
              "1985  2019-08-06T14:37:17   EGV    201.0      NaN   NaN\n",
              "1986  2019-08-06T14:42:16   EGV    194.0      NaN   NaN"
            ]
          },
          "metadata": {
            "tags": []
          },
          "execution_count": 248
        }
      ]
    },
    {
      "cell_type": "code",
      "metadata": {
        "ExecuteTime": {
          "end_time": "2021-01-25T01:51:28.257217Z",
          "start_time": "2021-01-25T01:51:28.243254Z"
        },
        "colab": {
          "base_uri": "https://localhost:8080/"
        },
        "id": "37jYwbU0q9qv",
        "outputId": "65edf99f-7b1b-4134-c75a-b0227477cc27"
      },
      "source": [
        "# 인슐린 투여횟수\n",
        "df['Insulin'].value_counts()"
      ],
      "execution_count": 249,
      "outputs": [
        {
          "output_type": "execute_result",
          "data": {
            "text/plain": [
              "6.0     10\n",
              "16.0     3\n",
              "12.0     2\n",
              "4.0      2\n",
              "18.0     1\n",
              "8.0      1\n",
              "Name: Insulin, dtype: int64"
            ]
          },
          "metadata": {
            "tags": []
          },
          "execution_count": 249
        }
      ]
    },
    {
      "cell_type": "code",
      "metadata": {
        "ExecuteTime": {
          "end_time": "2021-01-25T01:51:30.174549Z",
          "start_time": "2021-01-25T01:51:30.160585Z"
        },
        "colab": {
          "base_uri": "https://localhost:8080/"
        },
        "id": "LmVKw59bq9qv",
        "outputId": "bfbb346f-905e-4e5f-df54-6bed01262538"
      },
      "source": [
        "# 식사 횟수\n",
        "df['Meal'].value_counts()"
      ],
      "execution_count": 250,
      "outputs": [
        {
          "output_type": "execute_result",
          "data": {
            "text/plain": [
              "250.0    13\n",
              "200.0     1\n",
              "Name: Meal, dtype: int64"
            ]
          },
          "metadata": {
            "tags": []
          },
          "execution_count": 250
        }
      ]
    },
    {
      "cell_type": "code",
      "metadata": {
        "ExecuteTime": {
          "end_time": "2021-01-25T01:51:32.245847Z",
          "start_time": "2021-01-25T01:51:32.230887Z"
        },
        "colab": {
          "base_uri": "https://localhost:8080/",
          "height": 514
        },
        "id": "lMmVyYYcq9qw",
        "outputId": "3cd59cc3-253f-4a3d-9356-5cd3c796e230"
      },
      "source": [
        "df.head(15)"
      ],
      "execution_count": 251,
      "outputs": [
        {
          "output_type": "execute_result",
          "data": {
            "text/html": [
              "<div>\n",
              "<style scoped>\n",
              "    .dataframe tbody tr th:only-of-type {\n",
              "        vertical-align: middle;\n",
              "    }\n",
              "\n",
              "    .dataframe tbody tr th {\n",
              "        vertical-align: top;\n",
              "    }\n",
              "\n",
              "    .dataframe thead th {\n",
              "        text-align: right;\n",
              "    }\n",
              "</style>\n",
              "<table border=\"1\" class=\"dataframe\">\n",
              "  <thead>\n",
              "    <tr style=\"text-align: right;\">\n",
              "      <th></th>\n",
              "      <th>Timestamp</th>\n",
              "      <th>Event</th>\n",
              "      <th>Glucose</th>\n",
              "      <th>Insulin</th>\n",
              "      <th>Meal</th>\n",
              "    </tr>\n",
              "  </thead>\n",
              "  <tbody>\n",
              "    <tr>\n",
              "      <th>0</th>\n",
              "      <td>NaN</td>\n",
              "      <td>이름</td>\n",
              "      <td>NaN</td>\n",
              "      <td>NaN</td>\n",
              "      <td>NaN</td>\n",
              "    </tr>\n",
              "    <tr>\n",
              "      <th>1</th>\n",
              "      <td>NaN</td>\n",
              "      <td>성</td>\n",
              "      <td>NaN</td>\n",
              "      <td>NaN</td>\n",
              "      <td>NaN</td>\n",
              "    </tr>\n",
              "    <tr>\n",
              "      <th>2</th>\n",
              "      <td>NaN</td>\n",
              "      <td>생년월일</td>\n",
              "      <td>NaN</td>\n",
              "      <td>NaN</td>\n",
              "      <td>NaN</td>\n",
              "    </tr>\n",
              "    <tr>\n",
              "      <th>3</th>\n",
              "      <td>NaN</td>\n",
              "      <td>장치</td>\n",
              "      <td>NaN</td>\n",
              "      <td>NaN</td>\n",
              "      <td>NaN</td>\n",
              "    </tr>\n",
              "    <tr>\n",
              "      <th>4</th>\n",
              "      <td>NaN</td>\n",
              "      <td>경고</td>\n",
              "      <td>NaN</td>\n",
              "      <td>NaN</td>\n",
              "      <td>NaN</td>\n",
              "    </tr>\n",
              "    <tr>\n",
              "      <th>5</th>\n",
              "      <td>NaN</td>\n",
              "      <td>경고</td>\n",
              "      <td>400.0</td>\n",
              "      <td>NaN</td>\n",
              "      <td>NaN</td>\n",
              "    </tr>\n",
              "    <tr>\n",
              "      <th>6</th>\n",
              "      <td>NaN</td>\n",
              "      <td>경고</td>\n",
              "      <td>60.0</td>\n",
              "      <td>NaN</td>\n",
              "      <td>NaN</td>\n",
              "    </tr>\n",
              "    <tr>\n",
              "      <th>7</th>\n",
              "      <td>NaN</td>\n",
              "      <td>경고</td>\n",
              "      <td>NaN</td>\n",
              "      <td>NaN</td>\n",
              "      <td>NaN</td>\n",
              "    </tr>\n",
              "    <tr>\n",
              "      <th>8</th>\n",
              "      <td>NaN</td>\n",
              "      <td>경고</td>\n",
              "      <td>NaN</td>\n",
              "      <td>NaN</td>\n",
              "      <td>NaN</td>\n",
              "    </tr>\n",
              "    <tr>\n",
              "      <th>9</th>\n",
              "      <td>NaN</td>\n",
              "      <td>경고</td>\n",
              "      <td>55.0</td>\n",
              "      <td>NaN</td>\n",
              "      <td>NaN</td>\n",
              "    </tr>\n",
              "    <tr>\n",
              "      <th>10</th>\n",
              "      <td>2019-07-30T12:09:57</td>\n",
              "      <td>교정</td>\n",
              "      <td>72.0</td>\n",
              "      <td>NaN</td>\n",
              "      <td>NaN</td>\n",
              "    </tr>\n",
              "    <tr>\n",
              "      <th>11</th>\n",
              "      <td>2019-07-30T12:10:11</td>\n",
              "      <td>교정</td>\n",
              "      <td>72.0</td>\n",
              "      <td>NaN</td>\n",
              "      <td>NaN</td>\n",
              "    </tr>\n",
              "    <tr>\n",
              "      <th>12</th>\n",
              "      <td>2019-07-30T17:30:00</td>\n",
              "      <td>인슐린</td>\n",
              "      <td>NaN</td>\n",
              "      <td>8.0</td>\n",
              "      <td>NaN</td>\n",
              "    </tr>\n",
              "    <tr>\n",
              "      <th>13</th>\n",
              "      <td>2019-07-30T18:05:37</td>\n",
              "      <td>교정</td>\n",
              "      <td>176.0</td>\n",
              "      <td>NaN</td>\n",
              "      <td>NaN</td>\n",
              "    </tr>\n",
              "    <tr>\n",
              "      <th>14</th>\n",
              "      <td>2019-07-30T18:37:13</td>\n",
              "      <td>탄수화물</td>\n",
              "      <td>NaN</td>\n",
              "      <td>NaN</td>\n",
              "      <td>250.0</td>\n",
              "    </tr>\n",
              "  </tbody>\n",
              "</table>\n",
              "</div>"
            ],
            "text/plain": [
              "              Timestamp Event  Glucose  Insulin   Meal\n",
              "0                   NaN    이름      NaN      NaN    NaN\n",
              "1                   NaN     성      NaN      NaN    NaN\n",
              "2                   NaN  생년월일      NaN      NaN    NaN\n",
              "3                   NaN    장치      NaN      NaN    NaN\n",
              "4                   NaN    경고      NaN      NaN    NaN\n",
              "5                   NaN    경고    400.0      NaN    NaN\n",
              "6                   NaN    경고     60.0      NaN    NaN\n",
              "7                   NaN    경고      NaN      NaN    NaN\n",
              "8                   NaN    경고      NaN      NaN    NaN\n",
              "9                   NaN    경고     55.0      NaN    NaN\n",
              "10  2019-07-30T12:09:57    교정     72.0      NaN    NaN\n",
              "11  2019-07-30T12:10:11    교정     72.0      NaN    NaN\n",
              "12  2019-07-30T17:30:00   인슐린      NaN      8.0    NaN\n",
              "13  2019-07-30T18:05:37    교정    176.0      NaN    NaN\n",
              "14  2019-07-30T18:37:13  탄수화물      NaN      NaN  250.0"
            ]
          },
          "metadata": {
            "tags": []
          },
          "execution_count": 251
        }
      ]
    },
    {
      "cell_type": "code",
      "metadata": {
        "ExecuteTime": {
          "end_time": "2021-01-25T01:51:32.261804Z",
          "start_time": "2021-01-25T01:51:32.246845Z"
        },
        "id": "WAanR7Flq9qw"
      },
      "source": [
        "# Timestamp != NaN일 때까지 count하고 \n",
        "# Nan에 해당하는 인스턴스 제거 \n",
        "df=df.dropna(subset=['Timestamp'])"
      ],
      "execution_count": 252,
      "outputs": []
    },
    {
      "cell_type": "code",
      "metadata": {
        "ExecuteTime": {
          "end_time": "2021-01-25T01:51:36.348768Z",
          "start_time": "2021-01-25T01:51:36.334807Z"
        },
        "colab": {
          "base_uri": "https://localhost:8080/",
          "height": 669
        },
        "id": "Ndq-UYgBq9qw",
        "outputId": "6aa99f86-c8fe-4c82-9e89-0f47e6198509"
      },
      "source": [
        "df.head(20)"
      ],
      "execution_count": 253,
      "outputs": [
        {
          "output_type": "execute_result",
          "data": {
            "text/html": [
              "<div>\n",
              "<style scoped>\n",
              "    .dataframe tbody tr th:only-of-type {\n",
              "        vertical-align: middle;\n",
              "    }\n",
              "\n",
              "    .dataframe tbody tr th {\n",
              "        vertical-align: top;\n",
              "    }\n",
              "\n",
              "    .dataframe thead th {\n",
              "        text-align: right;\n",
              "    }\n",
              "</style>\n",
              "<table border=\"1\" class=\"dataframe\">\n",
              "  <thead>\n",
              "    <tr style=\"text-align: right;\">\n",
              "      <th></th>\n",
              "      <th>Timestamp</th>\n",
              "      <th>Event</th>\n",
              "      <th>Glucose</th>\n",
              "      <th>Insulin</th>\n",
              "      <th>Meal</th>\n",
              "    </tr>\n",
              "  </thead>\n",
              "  <tbody>\n",
              "    <tr>\n",
              "      <th>10</th>\n",
              "      <td>2019-07-30T12:09:57</td>\n",
              "      <td>교정</td>\n",
              "      <td>72.0</td>\n",
              "      <td>NaN</td>\n",
              "      <td>NaN</td>\n",
              "    </tr>\n",
              "    <tr>\n",
              "      <th>11</th>\n",
              "      <td>2019-07-30T12:10:11</td>\n",
              "      <td>교정</td>\n",
              "      <td>72.0</td>\n",
              "      <td>NaN</td>\n",
              "      <td>NaN</td>\n",
              "    </tr>\n",
              "    <tr>\n",
              "      <th>12</th>\n",
              "      <td>2019-07-30T17:30:00</td>\n",
              "      <td>인슐린</td>\n",
              "      <td>NaN</td>\n",
              "      <td>8.0</td>\n",
              "      <td>NaN</td>\n",
              "    </tr>\n",
              "    <tr>\n",
              "      <th>13</th>\n",
              "      <td>2019-07-30T18:05:37</td>\n",
              "      <td>교정</td>\n",
              "      <td>176.0</td>\n",
              "      <td>NaN</td>\n",
              "      <td>NaN</td>\n",
              "    </tr>\n",
              "    <tr>\n",
              "      <th>14</th>\n",
              "      <td>2019-07-30T18:37:13</td>\n",
              "      <td>탄수화물</td>\n",
              "      <td>NaN</td>\n",
              "      <td>NaN</td>\n",
              "      <td>250.0</td>\n",
              "    </tr>\n",
              "    <tr>\n",
              "      <th>15</th>\n",
              "      <td>2019-07-30T18:45:02</td>\n",
              "      <td>교정</td>\n",
              "      <td>176.0</td>\n",
              "      <td>NaN</td>\n",
              "      <td>NaN</td>\n",
              "    </tr>\n",
              "    <tr>\n",
              "      <th>16</th>\n",
              "      <td>2019-07-30T18:47:51</td>\n",
              "      <td>EGV</td>\n",
              "      <td>180.0</td>\n",
              "      <td>NaN</td>\n",
              "      <td>NaN</td>\n",
              "    </tr>\n",
              "    <tr>\n",
              "      <th>17</th>\n",
              "      <td>2019-07-30T18:52:45</td>\n",
              "      <td>EGV</td>\n",
              "      <td>187.0</td>\n",
              "      <td>NaN</td>\n",
              "      <td>NaN</td>\n",
              "    </tr>\n",
              "    <tr>\n",
              "      <th>18</th>\n",
              "      <td>2019-07-30T18:57:45</td>\n",
              "      <td>EGV</td>\n",
              "      <td>189.0</td>\n",
              "      <td>NaN</td>\n",
              "      <td>NaN</td>\n",
              "    </tr>\n",
              "    <tr>\n",
              "      <th>19</th>\n",
              "      <td>2019-07-30T19:02:45</td>\n",
              "      <td>EGV</td>\n",
              "      <td>191.0</td>\n",
              "      <td>NaN</td>\n",
              "      <td>NaN</td>\n",
              "    </tr>\n",
              "    <tr>\n",
              "      <th>20</th>\n",
              "      <td>2019-07-30T19:07:44</td>\n",
              "      <td>EGV</td>\n",
              "      <td>196.0</td>\n",
              "      <td>NaN</td>\n",
              "      <td>NaN</td>\n",
              "    </tr>\n",
              "    <tr>\n",
              "      <th>21</th>\n",
              "      <td>2019-07-30T19:12:45</td>\n",
              "      <td>EGV</td>\n",
              "      <td>199.0</td>\n",
              "      <td>NaN</td>\n",
              "      <td>NaN</td>\n",
              "    </tr>\n",
              "    <tr>\n",
              "      <th>22</th>\n",
              "      <td>2019-07-30T19:17:45</td>\n",
              "      <td>EGV</td>\n",
              "      <td>203.0</td>\n",
              "      <td>NaN</td>\n",
              "      <td>NaN</td>\n",
              "    </tr>\n",
              "    <tr>\n",
              "      <th>23</th>\n",
              "      <td>2019-07-30T19:22:45</td>\n",
              "      <td>EGV</td>\n",
              "      <td>205.0</td>\n",
              "      <td>NaN</td>\n",
              "      <td>NaN</td>\n",
              "    </tr>\n",
              "    <tr>\n",
              "      <th>24</th>\n",
              "      <td>2019-07-30T19:27:45</td>\n",
              "      <td>EGV</td>\n",
              "      <td>208.0</td>\n",
              "      <td>NaN</td>\n",
              "      <td>NaN</td>\n",
              "    </tr>\n",
              "    <tr>\n",
              "      <th>25</th>\n",
              "      <td>2019-07-30T19:32:45</td>\n",
              "      <td>EGV</td>\n",
              "      <td>212.0</td>\n",
              "      <td>NaN</td>\n",
              "      <td>NaN</td>\n",
              "    </tr>\n",
              "    <tr>\n",
              "      <th>26</th>\n",
              "      <td>2019-07-30T19:37:45</td>\n",
              "      <td>EGV</td>\n",
              "      <td>213.0</td>\n",
              "      <td>NaN</td>\n",
              "      <td>NaN</td>\n",
              "    </tr>\n",
              "    <tr>\n",
              "      <th>27</th>\n",
              "      <td>2019-07-30T19:42:45</td>\n",
              "      <td>EGV</td>\n",
              "      <td>210.0</td>\n",
              "      <td>NaN</td>\n",
              "      <td>NaN</td>\n",
              "    </tr>\n",
              "    <tr>\n",
              "      <th>28</th>\n",
              "      <td>2019-07-30T19:47:45</td>\n",
              "      <td>EGV</td>\n",
              "      <td>212.0</td>\n",
              "      <td>NaN</td>\n",
              "      <td>NaN</td>\n",
              "    </tr>\n",
              "    <tr>\n",
              "      <th>29</th>\n",
              "      <td>2019-07-30T19:52:45</td>\n",
              "      <td>EGV</td>\n",
              "      <td>213.0</td>\n",
              "      <td>NaN</td>\n",
              "      <td>NaN</td>\n",
              "    </tr>\n",
              "  </tbody>\n",
              "</table>\n",
              "</div>"
            ],
            "text/plain": [
              "              Timestamp Event  Glucose  Insulin   Meal\n",
              "10  2019-07-30T12:09:57    교정     72.0      NaN    NaN\n",
              "11  2019-07-30T12:10:11    교정     72.0      NaN    NaN\n",
              "12  2019-07-30T17:30:00   인슐린      NaN      8.0    NaN\n",
              "13  2019-07-30T18:05:37    교정    176.0      NaN    NaN\n",
              "14  2019-07-30T18:37:13  탄수화물      NaN      NaN  250.0\n",
              "15  2019-07-30T18:45:02    교정    176.0      NaN    NaN\n",
              "16  2019-07-30T18:47:51   EGV    180.0      NaN    NaN\n",
              "17  2019-07-30T18:52:45   EGV    187.0      NaN    NaN\n",
              "18  2019-07-30T18:57:45   EGV    189.0      NaN    NaN\n",
              "19  2019-07-30T19:02:45   EGV    191.0      NaN    NaN\n",
              "20  2019-07-30T19:07:44   EGV    196.0      NaN    NaN\n",
              "21  2019-07-30T19:12:45   EGV    199.0      NaN    NaN\n",
              "22  2019-07-30T19:17:45   EGV    203.0      NaN    NaN\n",
              "23  2019-07-30T19:22:45   EGV    205.0      NaN    NaN\n",
              "24  2019-07-30T19:27:45   EGV    208.0      NaN    NaN\n",
              "25  2019-07-30T19:32:45   EGV    212.0      NaN    NaN\n",
              "26  2019-07-30T19:37:45   EGV    213.0      NaN    NaN\n",
              "27  2019-07-30T19:42:45   EGV    210.0      NaN    NaN\n",
              "28  2019-07-30T19:47:45   EGV    212.0      NaN    NaN\n",
              "29  2019-07-30T19:52:45   EGV    213.0      NaN    NaN"
            ]
          },
          "metadata": {
            "tags": []
          },
          "execution_count": 253
        }
      ]
    },
    {
      "cell_type": "code",
      "metadata": {
        "ExecuteTime": {
          "end_time": "2021-01-25T01:51:36.364724Z",
          "start_time": "2021-01-25T01:51:36.352757Z"
        },
        "colab": {
          "base_uri": "https://localhost:8080/"
        },
        "id": "ndlieh9Vq9qw",
        "outputId": "f8f699db-8bd8-4a85-a79b-9747c5944a35"
      },
      "source": [
        "df.shape"
      ],
      "execution_count": 254,
      "outputs": [
        {
          "output_type": "execute_result",
          "data": {
            "text/plain": [
              "(1977, 5)"
            ]
          },
          "metadata": {
            "tags": []
          },
          "execution_count": 254
        }
      ]
    },
    {
      "cell_type": "code",
      "metadata": {
        "ExecuteTime": {
          "end_time": "2021-01-25T01:51:38.168923Z",
          "start_time": "2021-01-25T01:51:38.154960Z"
        },
        "id": "UudGLrdmq9qx"
      },
      "source": [
        "# drop한 인스턴스가 있어서 인덱스 리셋\n",
        "df=df.sort_values(by=['Timestamp'],axis=0,ascending=True)\n",
        "df=df.reset_index(drop=True)"
      ],
      "execution_count": 255,
      "outputs": []
    },
    {
      "cell_type": "code",
      "metadata": {
        "ExecuteTime": {
          "end_time": "2021-01-25T01:51:42.311539Z",
          "start_time": "2021-01-25T01:51:42.297576Z"
        },
        "colab": {
          "base_uri": "https://localhost:8080/",
          "height": 514
        },
        "id": "RKsqfYvyq9qx",
        "outputId": "ff5acf0a-3f73-413a-86a9-bdf3b69390d6"
      },
      "source": [
        "df.head(15)"
      ],
      "execution_count": 256,
      "outputs": [
        {
          "output_type": "execute_result",
          "data": {
            "text/html": [
              "<div>\n",
              "<style scoped>\n",
              "    .dataframe tbody tr th:only-of-type {\n",
              "        vertical-align: middle;\n",
              "    }\n",
              "\n",
              "    .dataframe tbody tr th {\n",
              "        vertical-align: top;\n",
              "    }\n",
              "\n",
              "    .dataframe thead th {\n",
              "        text-align: right;\n",
              "    }\n",
              "</style>\n",
              "<table border=\"1\" class=\"dataframe\">\n",
              "  <thead>\n",
              "    <tr style=\"text-align: right;\">\n",
              "      <th></th>\n",
              "      <th>Timestamp</th>\n",
              "      <th>Event</th>\n",
              "      <th>Glucose</th>\n",
              "      <th>Insulin</th>\n",
              "      <th>Meal</th>\n",
              "    </tr>\n",
              "  </thead>\n",
              "  <tbody>\n",
              "    <tr>\n",
              "      <th>0</th>\n",
              "      <td>2019-07-30T12:09:57</td>\n",
              "      <td>교정</td>\n",
              "      <td>72.0</td>\n",
              "      <td>NaN</td>\n",
              "      <td>NaN</td>\n",
              "    </tr>\n",
              "    <tr>\n",
              "      <th>1</th>\n",
              "      <td>2019-07-30T12:10:11</td>\n",
              "      <td>교정</td>\n",
              "      <td>72.0</td>\n",
              "      <td>NaN</td>\n",
              "      <td>NaN</td>\n",
              "    </tr>\n",
              "    <tr>\n",
              "      <th>2</th>\n",
              "      <td>2019-07-30T17:30:00</td>\n",
              "      <td>인슐린</td>\n",
              "      <td>NaN</td>\n",
              "      <td>8.0</td>\n",
              "      <td>NaN</td>\n",
              "    </tr>\n",
              "    <tr>\n",
              "      <th>3</th>\n",
              "      <td>2019-07-30T18:05:37</td>\n",
              "      <td>교정</td>\n",
              "      <td>176.0</td>\n",
              "      <td>NaN</td>\n",
              "      <td>NaN</td>\n",
              "    </tr>\n",
              "    <tr>\n",
              "      <th>4</th>\n",
              "      <td>2019-07-30T18:37:13</td>\n",
              "      <td>탄수화물</td>\n",
              "      <td>NaN</td>\n",
              "      <td>NaN</td>\n",
              "      <td>250.0</td>\n",
              "    </tr>\n",
              "    <tr>\n",
              "      <th>5</th>\n",
              "      <td>2019-07-30T18:45:02</td>\n",
              "      <td>교정</td>\n",
              "      <td>176.0</td>\n",
              "      <td>NaN</td>\n",
              "      <td>NaN</td>\n",
              "    </tr>\n",
              "    <tr>\n",
              "      <th>6</th>\n",
              "      <td>2019-07-30T18:47:51</td>\n",
              "      <td>EGV</td>\n",
              "      <td>180.0</td>\n",
              "      <td>NaN</td>\n",
              "      <td>NaN</td>\n",
              "    </tr>\n",
              "    <tr>\n",
              "      <th>7</th>\n",
              "      <td>2019-07-30T18:52:45</td>\n",
              "      <td>EGV</td>\n",
              "      <td>187.0</td>\n",
              "      <td>NaN</td>\n",
              "      <td>NaN</td>\n",
              "    </tr>\n",
              "    <tr>\n",
              "      <th>8</th>\n",
              "      <td>2019-07-30T18:57:45</td>\n",
              "      <td>EGV</td>\n",
              "      <td>189.0</td>\n",
              "      <td>NaN</td>\n",
              "      <td>NaN</td>\n",
              "    </tr>\n",
              "    <tr>\n",
              "      <th>9</th>\n",
              "      <td>2019-07-30T19:02:45</td>\n",
              "      <td>EGV</td>\n",
              "      <td>191.0</td>\n",
              "      <td>NaN</td>\n",
              "      <td>NaN</td>\n",
              "    </tr>\n",
              "    <tr>\n",
              "      <th>10</th>\n",
              "      <td>2019-07-30T19:07:44</td>\n",
              "      <td>EGV</td>\n",
              "      <td>196.0</td>\n",
              "      <td>NaN</td>\n",
              "      <td>NaN</td>\n",
              "    </tr>\n",
              "    <tr>\n",
              "      <th>11</th>\n",
              "      <td>2019-07-30T19:12:45</td>\n",
              "      <td>EGV</td>\n",
              "      <td>199.0</td>\n",
              "      <td>NaN</td>\n",
              "      <td>NaN</td>\n",
              "    </tr>\n",
              "    <tr>\n",
              "      <th>12</th>\n",
              "      <td>2019-07-30T19:17:45</td>\n",
              "      <td>EGV</td>\n",
              "      <td>203.0</td>\n",
              "      <td>NaN</td>\n",
              "      <td>NaN</td>\n",
              "    </tr>\n",
              "    <tr>\n",
              "      <th>13</th>\n",
              "      <td>2019-07-30T19:22:45</td>\n",
              "      <td>EGV</td>\n",
              "      <td>205.0</td>\n",
              "      <td>NaN</td>\n",
              "      <td>NaN</td>\n",
              "    </tr>\n",
              "    <tr>\n",
              "      <th>14</th>\n",
              "      <td>2019-07-30T19:27:45</td>\n",
              "      <td>EGV</td>\n",
              "      <td>208.0</td>\n",
              "      <td>NaN</td>\n",
              "      <td>NaN</td>\n",
              "    </tr>\n",
              "  </tbody>\n",
              "</table>\n",
              "</div>"
            ],
            "text/plain": [
              "              Timestamp Event  Glucose  Insulin   Meal\n",
              "0   2019-07-30T12:09:57    교정     72.0      NaN    NaN\n",
              "1   2019-07-30T12:10:11    교정     72.0      NaN    NaN\n",
              "2   2019-07-30T17:30:00   인슐린      NaN      8.0    NaN\n",
              "3   2019-07-30T18:05:37    교정    176.0      NaN    NaN\n",
              "4   2019-07-30T18:37:13  탄수화물      NaN      NaN  250.0\n",
              "5   2019-07-30T18:45:02    교정    176.0      NaN    NaN\n",
              "6   2019-07-30T18:47:51   EGV    180.0      NaN    NaN\n",
              "7   2019-07-30T18:52:45   EGV    187.0      NaN    NaN\n",
              "8   2019-07-30T18:57:45   EGV    189.0      NaN    NaN\n",
              "9   2019-07-30T19:02:45   EGV    191.0      NaN    NaN\n",
              "10  2019-07-30T19:07:44   EGV    196.0      NaN    NaN\n",
              "11  2019-07-30T19:12:45   EGV    199.0      NaN    NaN\n",
              "12  2019-07-30T19:17:45   EGV    203.0      NaN    NaN\n",
              "13  2019-07-30T19:22:45   EGV    205.0      NaN    NaN\n",
              "14  2019-07-30T19:27:45   EGV    208.0      NaN    NaN"
            ]
          },
          "metadata": {
            "tags": []
          },
          "execution_count": 256
        }
      ]
    },
    {
      "cell_type": "code",
      "metadata": {
        "ExecuteTime": {
          "end_time": "2021-01-25T01:51:44.377391Z",
          "start_time": "2021-01-25T01:51:44.364427Z"
        },
        "colab": {
          "base_uri": "https://localhost:8080/"
        },
        "id": "Dr0kuMdHq9qx",
        "outputId": "bbbbe3cd-90f9-48c0-83fe-67c74481d571"
      },
      "source": [
        "df.shape"
      ],
      "execution_count": 257,
      "outputs": [
        {
          "output_type": "execute_result",
          "data": {
            "text/plain": [
              "(1977, 5)"
            ]
          },
          "metadata": {
            "tags": []
          },
          "execution_count": 257
        }
      ]
    },
    {
      "cell_type": "code",
      "metadata": {
        "ExecuteTime": {
          "end_time": "2021-01-25T01:51:46.355104Z",
          "start_time": "2021-01-25T01:51:46.341141Z"
        },
        "id": "qy3fiZhVq9qx"
      },
      "source": [
        "# 높음, 낮음, 교정 인덱스 저장 \n",
        "high_list=[]\n",
        "low_list=[]\n",
        "calib_list=[]\n",
        "insulin_list=[]\n",
        "meal_list=[]"
      ],
      "execution_count": 258,
      "outputs": []
    },
    {
      "cell_type": "code",
      "metadata": {
        "ExecuteTime": {
          "end_time": "2021-01-25T01:51:46.371062Z",
          "start_time": "2021-01-25T01:51:46.356102Z"
        },
        "id": "P537zeVnq9qx"
      },
      "source": [
        "def isNaN(num):\n",
        "    return num==num"
      ],
      "execution_count": 259,
      "outputs": []
    },
    {
      "cell_type": "code",
      "metadata": {
        "ExecuteTime": {
          "end_time": "2021-01-25T01:51:49.502725Z",
          "start_time": "2021-01-25T01:51:49.489761Z"
        },
        "id": "QZi1ugehq9qx"
      },
      "source": [
        "# 혈당 '높음' 빈도 카운트\n",
        "def glucose_count_high(df,col):\n",
        "    count=0\n",
        "    for i, row in df.iterrows():\n",
        "         val = row[col]\n",
        "         if val=='높음':\n",
        "            count=count+1\n",
        "            high_list.append(i)\n",
        "    print('높음 : ',count)\n",
        "    "
      ],
      "execution_count": 260,
      "outputs": []
    },
    {
      "cell_type": "code",
      "metadata": {
        "ExecuteTime": {
          "end_time": "2021-01-25T01:51:50.251721Z",
          "start_time": "2021-01-25T01:51:50.237759Z"
        },
        "id": "Y3T5yccbq9qx"
      },
      "source": [
        "# 혈당 '낮음' 빈도 카운트\n",
        "def glucose_count_low(df,col):\n",
        "    count=0\n",
        "    for i, row in df.iterrows():\n",
        "         val = row[col]\n",
        "         if val=='낮음':\n",
        "            count=count+1\n",
        "            low_list.append(i)\n",
        "    print('낮음 : ',count)"
      ],
      "execution_count": 261,
      "outputs": []
    },
    {
      "cell_type": "code",
      "metadata": {
        "ExecuteTime": {
          "end_time": "2021-01-25T01:51:54.181151Z",
          "start_time": "2021-01-25T01:51:54.167192Z"
        },
        "id": "QPEIPRM8q9qy"
      },
      "source": [
        "# 혈당 '교정' 빈도 카운트\n",
        "def calibration_count_low(df,col):\n",
        "    count=0\n",
        "    for i, row in df.iterrows():\n",
        "         val = row[col]\n",
        "         if val=='교정':\n",
        "            count=count+1\n",
        "            calib_list.append(i)\n",
        "    print('교정 : ',count)"
      ],
      "execution_count": 262,
      "outputs": []
    },
    {
      "cell_type": "code",
      "metadata": {
        "ExecuteTime": {
          "end_time": "2021-01-25T01:51:56.097402Z",
          "start_time": "2021-01-25T01:51:56.083270Z"
        },
        "id": "0Mf6s7jAq9qy"
      },
      "source": [
        "# 인슐린 카운트 \n",
        "#def insul_count(df,col):\n",
        "#    count=0\n",
        "#    for i, row in df.iterrows():\n",
        "#         val = row[col]\n",
        "#         if val==0:\n",
        "#            count=count+1\n",
        "#            insulin_list.append(i)\n",
        "#    print('인슐린 : ',count)"
      ],
      "execution_count": 263,
      "outputs": []
    },
    {
      "cell_type": "code",
      "metadata": {
        "ExecuteTime": {
          "end_time": "2021-01-25T01:51:57.596418Z",
          "start_time": "2021-01-25T01:51:57.582456Z"
        },
        "id": "hRKoPSWdq9qy"
      },
      "source": [
        "# 인슐린 카운트 \n",
        "def insul_count(df,col):\n",
        "    count=0\n",
        "    for i, row in df.iterrows():\n",
        "         val = row[col]\n",
        "         if isNaN(val)==True:\n",
        "            count=count+1\n",
        "            insulin_list.append(i)\n",
        "    print('인슐린 : ',count)"
      ],
      "execution_count": 264,
      "outputs": []
    },
    {
      "cell_type": "code",
      "metadata": {
        "ExecuteTime": {
          "end_time": "2021-01-25T01:51:58.298583Z",
          "start_time": "2021-01-25T01:51:58.286616Z"
        },
        "id": "U33fUKIeq9qy"
      },
      "source": [
        "# 식사 횟수 카운트 \n",
        "#def meal_count(df,col):\n",
        "#    count=0\n",
        "#    for i, row in df.iterrows():\n",
        "#         val = row[col]\n",
        "#         if val==0:\n",
        "#            count=count+1\n",
        "#            meal_list.append(i)\n",
        "#    print('식사 횟수 : ',count)"
      ],
      "execution_count": 265,
      "outputs": []
    },
    {
      "cell_type": "code",
      "metadata": {
        "ExecuteTime": {
          "end_time": "2021-01-25T01:52:00.266372Z",
          "start_time": "2021-01-25T01:52:00.253356Z"
        },
        "id": "KIBCtRV_q9qy"
      },
      "source": [
        "# 식사 횟수 카운트 \n",
        "def meal_count(df,col):\n",
        "    count=0\n",
        "    for i, row in df.iterrows():\n",
        "         val = row[col]\n",
        "         if isNaN(val)==True:\n",
        "            count=count+1\n",
        "            meal_list.append(i)\n",
        "    print('식사 횟수 : ',count)"
      ],
      "execution_count": 266,
      "outputs": []
    },
    {
      "cell_type": "code",
      "metadata": {
        "ExecuteTime": {
          "end_time": "2021-01-25T01:52:01.682876Z",
          "start_time": "2021-01-25T01:52:01.564191Z"
        },
        "scrolled": true,
        "colab": {
          "base_uri": "https://localhost:8080/"
        },
        "id": "t76CauuJq9qy",
        "outputId": "f2e4290a-a977-4eec-aceb-396f06a8e614"
      },
      "source": [
        "glucose_count_high(df,'Glucose')"
      ],
      "execution_count": 267,
      "outputs": [
        {
          "output_type": "stream",
          "text": [
            "높음 :  0\n"
          ],
          "name": "stdout"
        }
      ]
    },
    {
      "cell_type": "code",
      "metadata": {
        "ExecuteTime": {
          "end_time": "2021-01-25T01:52:01.791803Z",
          "start_time": "2021-01-25T01:52:01.778789Z"
        },
        "colab": {
          "base_uri": "https://localhost:8080/"
        },
        "id": "1jCdOODYq9qz",
        "outputId": "68cfc916-5ca1-4806-ac68-7a88487d5e6a"
      },
      "source": [
        "print('높음 개수 :',len(high_list))"
      ],
      "execution_count": 268,
      "outputs": [
        {
          "output_type": "stream",
          "text": [
            "높음 개수 : 0\n"
          ],
          "name": "stdout"
        }
      ]
    },
    {
      "cell_type": "code",
      "metadata": {
        "ExecuteTime": {
          "end_time": "2021-01-25T01:52:02.448796Z",
          "start_time": "2021-01-25T01:52:02.435830Z"
        },
        "colab": {
          "base_uri": "https://localhost:8080/"
        },
        "id": "hSi2WJtbq9qz",
        "outputId": "e78675e8-6e0b-4b35-f753-af85909f7146"
      },
      "source": [
        "print('낮음 개수 :',len(low_list))"
      ],
      "execution_count": 269,
      "outputs": [
        {
          "output_type": "stream",
          "text": [
            "낮음 개수 : 0\n"
          ],
          "name": "stdout"
        }
      ]
    },
    {
      "cell_type": "code",
      "metadata": {
        "ExecuteTime": {
          "end_time": "2021-01-25T01:52:02.464753Z",
          "start_time": "2021-01-25T01:52:02.449793Z"
        },
        "colab": {
          "base_uri": "https://localhost:8080/"
        },
        "id": "7-Iy3eSdq9qz",
        "outputId": "4ddd6d89-7e6f-43ce-c50e-9e532adfbf40"
      },
      "source": [
        "print('교정 개수 :',len(calib_list))"
      ],
      "execution_count": 270,
      "outputs": [
        {
          "output_type": "stream",
          "text": [
            "교정 개수 : 0\n"
          ],
          "name": "stdout"
        }
      ]
    },
    {
      "cell_type": "code",
      "metadata": {
        "ExecuteTime": {
          "end_time": "2021-01-25T01:52:02.603795Z",
          "start_time": "2021-01-25T01:52:02.465750Z"
        },
        "colab": {
          "base_uri": "https://localhost:8080/"
        },
        "id": "2Lsj2H6Rq9qz",
        "outputId": "fdbdabd1-2300-4087-e646-84298a2548fe"
      },
      "source": [
        "glucose_count_low(df,'Glucose')"
      ],
      "execution_count": 271,
      "outputs": [
        {
          "output_type": "stream",
          "text": [
            "낮음 :  0\n"
          ],
          "name": "stdout"
        }
      ]
    },
    {
      "cell_type": "code",
      "metadata": {
        "ExecuteTime": {
          "end_time": "2021-01-25T01:52:02.619752Z",
          "start_time": "2021-01-25T01:52:02.605789Z"
        },
        "colab": {
          "base_uri": "https://localhost:8080/"
        },
        "id": "YB8-5N--q9qz",
        "outputId": "ccc6d701-24bd-4e73-a463-8bc88e0ec4f4"
      },
      "source": [
        "low_list"
      ],
      "execution_count": 272,
      "outputs": [
        {
          "output_type": "execute_result",
          "data": {
            "text/plain": [
              "[]"
            ]
          },
          "metadata": {
            "tags": []
          },
          "execution_count": 272
        }
      ]
    },
    {
      "cell_type": "code",
      "metadata": {
        "ExecuteTime": {
          "end_time": "2021-01-25T01:52:02.823004Z",
          "start_time": "2021-01-25T01:52:02.623742Z"
        },
        "colab": {
          "base_uri": "https://localhost:8080/"
        },
        "id": "W-d0Eh-Mq9qz",
        "outputId": "d95fb0f5-d2d7-406c-ef90-42fdace02c78"
      },
      "source": [
        "calibration_count_low(df,'Event')"
      ],
      "execution_count": 273,
      "outputs": [
        {
          "output_type": "stream",
          "text": [
            "교정 :  33\n"
          ],
          "name": "stdout"
        }
      ]
    },
    {
      "cell_type": "code",
      "metadata": {
        "ExecuteTime": {
          "end_time": "2021-01-25T01:52:02.837968Z",
          "start_time": "2021-01-25T01:52:02.826000Z"
        },
        "colab": {
          "base_uri": "https://localhost:8080/"
        },
        "id": "AA4DScIlq9q0",
        "outputId": "79e07685-7495-4cc8-ecf7-8ff11678738a"
      },
      "source": [
        "calib_list"
      ],
      "execution_count": 274,
      "outputs": [
        {
          "output_type": "execute_result",
          "data": {
            "text/plain": [
              "[0,\n",
              " 1,\n",
              " 3,\n",
              " 5,\n",
              " 33,\n",
              " 143,\n",
              " 326,\n",
              " 553,\n",
              " 596,\n",
              " 615,\n",
              " 730,\n",
              " 731,\n",
              " 775,\n",
              " 777,\n",
              " 853,\n",
              " 915,\n",
              " 1033,\n",
              " 1034,\n",
              " 1074,\n",
              " 1156,\n",
              " 1222,\n",
              " 1325,\n",
              " 1378,\n",
              " 1454,\n",
              " 1516,\n",
              " 1628,\n",
              " 1668,\n",
              " 1748,\n",
              " 1813,\n",
              " 1870,\n",
              " 1871,\n",
              " 1909,\n",
              " 1910]"
            ]
          },
          "metadata": {
            "tags": []
          },
          "execution_count": 274
        }
      ]
    },
    {
      "cell_type": "code",
      "metadata": {
        "ExecuteTime": {
          "end_time": "2021-01-25T01:52:02.994907Z",
          "start_time": "2021-01-25T01:52:02.842954Z"
        },
        "colab": {
          "base_uri": "https://localhost:8080/"
        },
        "id": "WVjnBdLEq9q0",
        "outputId": "1d00c672-8f47-49a1-a063-eb4db47f4c8f"
      },
      "source": [
        "insul_count(df,'Insulin')"
      ],
      "execution_count": 275,
      "outputs": [
        {
          "output_type": "stream",
          "text": [
            "인슐린 :  19\n"
          ],
          "name": "stdout"
        }
      ]
    },
    {
      "cell_type": "code",
      "metadata": {
        "ExecuteTime": {
          "end_time": "2021-01-25T01:52:03.010871Z",
          "start_time": "2021-01-25T01:52:02.998901Z"
        },
        "colab": {
          "base_uri": "https://localhost:8080/"
        },
        "id": "diiNlaPhq9q0",
        "outputId": "13dc0139-1db6-4b1a-b840-f34356241a6b"
      },
      "source": [
        "insulin_list"
      ],
      "execution_count": 276,
      "outputs": [
        {
          "output_type": "execute_result",
          "data": {
            "text/plain": [
              "[2,\n",
              " 34,\n",
              " 446,\n",
              " 507,\n",
              " 621,\n",
              " 869,\n",
              " 920,\n",
              " 1106,\n",
              " 1168,\n",
              " 1218,\n",
              " 1343,\n",
              " 1405,\n",
              " 1467,\n",
              " 1518,\n",
              " 1651,\n",
              " 1704,\n",
              " 1776,\n",
              " 1816,\n",
              " 1947]"
            ]
          },
          "metadata": {
            "tags": []
          },
          "execution_count": 276
        }
      ]
    },
    {
      "cell_type": "code",
      "metadata": {
        "ExecuteTime": {
          "end_time": "2021-01-25T01:52:03.180415Z",
          "start_time": "2021-01-25T01:52:03.013862Z"
        },
        "colab": {
          "base_uri": "https://localhost:8080/"
        },
        "id": "zz4J0RMcq9q0",
        "outputId": "c1adefc9-4b9a-4925-cf33-65b324961f65"
      },
      "source": [
        "meal_count(df,'Meal')"
      ],
      "execution_count": 277,
      "outputs": [
        {
          "output_type": "stream",
          "text": [
            "식사 횟수 :  14\n"
          ],
          "name": "stdout"
        }
      ]
    },
    {
      "cell_type": "code",
      "metadata": {
        "ExecuteTime": {
          "end_time": "2021-01-25T01:52:26.737154Z",
          "start_time": "2021-01-25T01:52:26.722192Z"
        },
        "colab": {
          "base_uri": "https://localhost:8080/"
        },
        "id": "S5Iommgpq9q0",
        "outputId": "8b352027-96ed-4f60-e971-9500cc9d5746"
      },
      "source": [
        "meal_list"
      ],
      "execution_count": 278,
      "outputs": [
        {
          "output_type": "execute_result",
          "data": {
            "text/plain": [
              "[4, 450, 514, 576, 759, 831, 882, 1056, 1112, 1181, 1256, 1379, 1480, 1783]"
            ]
          },
          "metadata": {
            "tags": []
          },
          "execution_count": 278
        }
      ]
    },
    {
      "cell_type": "code",
      "metadata": {
        "ExecuteTime": {
          "end_time": "2021-01-25T01:52:27.080235Z",
          "start_time": "2021-01-25T01:52:27.065274Z"
        },
        "colab": {
          "base_uri": "https://localhost:8080/"
        },
        "id": "gcwA8bhDq9q0",
        "outputId": "0fdb2e9c-4ed8-40c3-fe4c-0440cdc835e7"
      },
      "source": [
        "df['Insulin'].value_counts()"
      ],
      "execution_count": 279,
      "outputs": [
        {
          "output_type": "execute_result",
          "data": {
            "text/plain": [
              "6.0     10\n",
              "16.0     3\n",
              "12.0     2\n",
              "4.0      2\n",
              "18.0     1\n",
              "8.0      1\n",
              "Name: Insulin, dtype: int64"
            ]
          },
          "metadata": {
            "tags": []
          },
          "execution_count": 279
        }
      ]
    },
    {
      "cell_type": "code",
      "metadata": {
        "ExecuteTime": {
          "end_time": "2021-01-25T01:52:27.096191Z",
          "start_time": "2021-01-25T01:52:27.082229Z"
        },
        "colab": {
          "base_uri": "https://localhost:8080/"
        },
        "id": "EWPmhRFwq9q1",
        "outputId": "c8b432e2-5642-415b-da49-677c8efdb9d5"
      },
      "source": [
        "df['Meal'].value_counts()"
      ],
      "execution_count": 280,
      "outputs": [
        {
          "output_type": "execute_result",
          "data": {
            "text/plain": [
              "250.0    13\n",
              "200.0     1\n",
              "Name: Meal, dtype: int64"
            ]
          },
          "metadata": {
            "tags": []
          },
          "execution_count": 280
        }
      ]
    },
    {
      "cell_type": "code",
      "metadata": {
        "ExecuteTime": {
          "end_time": "2021-01-25T01:52:27.112149Z",
          "start_time": "2021-01-25T01:52:27.098187Z"
        },
        "colab": {
          "base_uri": "https://localhost:8080/"
        },
        "id": "yVHexf31q9q1",
        "outputId": "f2a93b2c-1efb-41a2-c016-f22f6b894fdf"
      },
      "source": [
        "isNaN(df['Glucose'][14])"
      ],
      "execution_count": 281,
      "outputs": [
        {
          "output_type": "execute_result",
          "data": {
            "text/plain": [
              "True"
            ]
          },
          "metadata": {
            "tags": []
          },
          "execution_count": 281
        }
      ]
    },
    {
      "cell_type": "code",
      "metadata": {
        "ExecuteTime": {
          "end_time": "2021-01-25T01:52:27.128106Z",
          "start_time": "2021-01-25T01:52:27.114144Z"
        },
        "id": "Tytglb5oq9q1"
      },
      "source": [
        "import math\n",
        "for i in insulin_list:\n",
        "    \n",
        "    if isNaN(df['Glucose'][i+1]):\n",
        "        df['Insulin'][i+1]=0\n",
        "        continue\n",
        "    if isNaN(df['Glucose'][i+2]):\n",
        "        df['Insulin'][i+2]=0\n",
        "        continue\n",
        "    if isNaN(df['Glucose'][i+3]):\n",
        "        df['Insulin'][i+3]=0\n",
        "        continue\n",
        "    if isNaN(df['Glucose'][i+4]):\n",
        "        df['Insulin'][i+4]=0\n",
        "        continue"
      ],
      "execution_count": 282,
      "outputs": []
    },
    {
      "cell_type": "code",
      "metadata": {
        "ExecuteTime": {
          "end_time": "2021-01-25T01:52:27.173984Z",
          "start_time": "2021-01-25T01:52:27.155035Z"
        },
        "id": "JcgRMhGVq9q1"
      },
      "source": [
        "for i in meal_list:\n",
        "    \n",
        "    if isNaN(df['Glucose'][i+1]):\n",
        "        df['Meal'][i+1]=0\n",
        "        continue\n",
        "    if isNaN(df['Glucose'][i+2]):\n",
        "        df['Meal'][i+2]=0\n",
        "        continue\n",
        "    if isNaN(df['Glucose'][i+3]):\n",
        "        df['Meal'][i+3]=0\n",
        "        continue\n",
        "    if isNaN(df['Glucose'][i+4]):\n",
        "        df['Meal'][i+4]=0\n",
        "        continue"
      ],
      "execution_count": 283,
      "outputs": []
    },
    {
      "cell_type": "code",
      "metadata": {
        "ExecuteTime": {
          "end_time": "2021-01-25T01:52:27.188944Z",
          "start_time": "2021-01-25T01:52:27.175978Z"
        },
        "colab": {
          "base_uri": "https://localhost:8080/"
        },
        "id": "pCH1l3thq9q1",
        "outputId": "bfe46de2-e621-4c0a-abb8-eb6fa3035357"
      },
      "source": [
        "import math\n",
        "math.isnan(df['Glucose'][14])"
      ],
      "execution_count": 284,
      "outputs": [
        {
          "output_type": "execute_result",
          "data": {
            "text/plain": [
              "False"
            ]
          },
          "metadata": {
            "tags": []
          },
          "execution_count": 284
        }
      ]
    },
    {
      "cell_type": "code",
      "metadata": {
        "ExecuteTime": {
          "end_time": "2021-01-25T01:52:27.204901Z",
          "start_time": "2021-01-25T01:52:27.190939Z"
        },
        "colab": {
          "base_uri": "https://localhost:8080/"
        },
        "id": "h-zF0AuEq9q1",
        "outputId": "c1351331-ab87-47e2-d25b-f0e7799009c2"
      },
      "source": [
        "insulin_list"
      ],
      "execution_count": 285,
      "outputs": [
        {
          "output_type": "execute_result",
          "data": {
            "text/plain": [
              "[2,\n",
              " 34,\n",
              " 446,\n",
              " 507,\n",
              " 621,\n",
              " 869,\n",
              " 920,\n",
              " 1106,\n",
              " 1168,\n",
              " 1218,\n",
              " 1343,\n",
              " 1405,\n",
              " 1467,\n",
              " 1518,\n",
              " 1651,\n",
              " 1704,\n",
              " 1776,\n",
              " 1816,\n",
              " 1947]"
            ]
          },
          "metadata": {
            "tags": []
          },
          "execution_count": 285
        }
      ]
    },
    {
      "cell_type": "code",
      "metadata": {
        "ExecuteTime": {
          "end_time": "2021-01-25T01:52:33.922994Z",
          "start_time": "2021-01-25T01:52:33.909030Z"
        },
        "id": "cYufVrh9q9q1"
      },
      "source": [
        "SetList1 = set(insulin_list)\n",
        "SetList2 = set(meal_list)\n",
        "\n",
        "C = list((SetList2.difference(SetList1)))\n",
        "\n",
        "insulin_list.extend(C)"
      ],
      "execution_count": 286,
      "outputs": []
    },
    {
      "cell_type": "code",
      "metadata": {
        "ExecuteTime": {
          "end_time": "2021-01-25T01:52:40.432733Z",
          "start_time": "2021-01-25T01:52:40.418770Z"
        },
        "colab": {
          "base_uri": "https://localhost:8080/"
        },
        "id": "DrJEh6m3q9q2",
        "outputId": "b8e5c1a8-107c-498c-de73-5efbf5e86abc"
      },
      "source": [
        "insulin_list"
      ],
      "execution_count": 287,
      "outputs": [
        {
          "output_type": "execute_result",
          "data": {
            "text/plain": [
              "[2,\n",
              " 34,\n",
              " 446,\n",
              " 507,\n",
              " 621,\n",
              " 869,\n",
              " 920,\n",
              " 1106,\n",
              " 1168,\n",
              " 1218,\n",
              " 1343,\n",
              " 1405,\n",
              " 1467,\n",
              " 1518,\n",
              " 1651,\n",
              " 1704,\n",
              " 1776,\n",
              " 1816,\n",
              " 1947,\n",
              " 576,\n",
              " 1056,\n",
              " 450,\n",
              " 514,\n",
              " 4,\n",
              " 1379,\n",
              " 1256,\n",
              " 1480,\n",
              " 759,\n",
              " 882,\n",
              " 1783,\n",
              " 1112,\n",
              " 1181,\n",
              " 831]"
            ]
          },
          "metadata": {
            "tags": []
          },
          "execution_count": 287
        }
      ]
    },
    {
      "cell_type": "code",
      "metadata": {
        "ExecuteTime": {
          "end_time": "2021-01-25T01:52:46.966344Z",
          "start_time": "2021-01-25T01:52:46.952382Z"
        },
        "id": "k_g4Uw8_q9q2"
      },
      "source": [
        "df=df.drop(insulin_list)"
      ],
      "execution_count": 288,
      "outputs": []
    },
    {
      "cell_type": "code",
      "metadata": {
        "ExecuteTime": {
          "end_time": "2021-01-25T01:52:48.819528Z",
          "start_time": "2021-01-25T01:52:48.805566Z"
        },
        "colab": {
          "base_uri": "https://localhost:8080/",
          "height": 359
        },
        "id": "70rucVRyq9q2",
        "outputId": "4ec82fb1-65bc-4bae-b0c3-b94262e48682"
      },
      "source": [
        "df[10:20]"
      ],
      "execution_count": 289,
      "outputs": [
        {
          "output_type": "execute_result",
          "data": {
            "text/html": [
              "<div>\n",
              "<style scoped>\n",
              "    .dataframe tbody tr th:only-of-type {\n",
              "        vertical-align: middle;\n",
              "    }\n",
              "\n",
              "    .dataframe tbody tr th {\n",
              "        vertical-align: top;\n",
              "    }\n",
              "\n",
              "    .dataframe thead th {\n",
              "        text-align: right;\n",
              "    }\n",
              "</style>\n",
              "<table border=\"1\" class=\"dataframe\">\n",
              "  <thead>\n",
              "    <tr style=\"text-align: right;\">\n",
              "      <th></th>\n",
              "      <th>Timestamp</th>\n",
              "      <th>Event</th>\n",
              "      <th>Glucose</th>\n",
              "      <th>Insulin</th>\n",
              "      <th>Meal</th>\n",
              "    </tr>\n",
              "  </thead>\n",
              "  <tbody>\n",
              "    <tr>\n",
              "      <th>12</th>\n",
              "      <td>2019-07-30T19:17:45</td>\n",
              "      <td>EGV</td>\n",
              "      <td>203.0</td>\n",
              "      <td>NaN</td>\n",
              "      <td>NaN</td>\n",
              "    </tr>\n",
              "    <tr>\n",
              "      <th>13</th>\n",
              "      <td>2019-07-30T19:22:45</td>\n",
              "      <td>EGV</td>\n",
              "      <td>205.0</td>\n",
              "      <td>NaN</td>\n",
              "      <td>NaN</td>\n",
              "    </tr>\n",
              "    <tr>\n",
              "      <th>14</th>\n",
              "      <td>2019-07-30T19:27:45</td>\n",
              "      <td>EGV</td>\n",
              "      <td>208.0</td>\n",
              "      <td>NaN</td>\n",
              "      <td>NaN</td>\n",
              "    </tr>\n",
              "    <tr>\n",
              "      <th>15</th>\n",
              "      <td>2019-07-30T19:32:45</td>\n",
              "      <td>EGV</td>\n",
              "      <td>212.0</td>\n",
              "      <td>NaN</td>\n",
              "      <td>NaN</td>\n",
              "    </tr>\n",
              "    <tr>\n",
              "      <th>16</th>\n",
              "      <td>2019-07-30T19:37:45</td>\n",
              "      <td>EGV</td>\n",
              "      <td>213.0</td>\n",
              "      <td>NaN</td>\n",
              "      <td>NaN</td>\n",
              "    </tr>\n",
              "    <tr>\n",
              "      <th>17</th>\n",
              "      <td>2019-07-30T19:42:45</td>\n",
              "      <td>EGV</td>\n",
              "      <td>210.0</td>\n",
              "      <td>NaN</td>\n",
              "      <td>NaN</td>\n",
              "    </tr>\n",
              "    <tr>\n",
              "      <th>18</th>\n",
              "      <td>2019-07-30T19:47:45</td>\n",
              "      <td>EGV</td>\n",
              "      <td>212.0</td>\n",
              "      <td>NaN</td>\n",
              "      <td>NaN</td>\n",
              "    </tr>\n",
              "    <tr>\n",
              "      <th>19</th>\n",
              "      <td>2019-07-30T19:52:45</td>\n",
              "      <td>EGV</td>\n",
              "      <td>213.0</td>\n",
              "      <td>NaN</td>\n",
              "      <td>NaN</td>\n",
              "    </tr>\n",
              "    <tr>\n",
              "      <th>20</th>\n",
              "      <td>2019-07-30T19:57:45</td>\n",
              "      <td>EGV</td>\n",
              "      <td>215.0</td>\n",
              "      <td>NaN</td>\n",
              "      <td>NaN</td>\n",
              "    </tr>\n",
              "    <tr>\n",
              "      <th>21</th>\n",
              "      <td>2019-07-30T20:02:45</td>\n",
              "      <td>EGV</td>\n",
              "      <td>214.0</td>\n",
              "      <td>NaN</td>\n",
              "      <td>NaN</td>\n",
              "    </tr>\n",
              "  </tbody>\n",
              "</table>\n",
              "</div>"
            ],
            "text/plain": [
              "              Timestamp Event  Glucose  Insulin  Meal\n",
              "12  2019-07-30T19:17:45   EGV    203.0      NaN   NaN\n",
              "13  2019-07-30T19:22:45   EGV    205.0      NaN   NaN\n",
              "14  2019-07-30T19:27:45   EGV    208.0      NaN   NaN\n",
              "15  2019-07-30T19:32:45   EGV    212.0      NaN   NaN\n",
              "16  2019-07-30T19:37:45   EGV    213.0      NaN   NaN\n",
              "17  2019-07-30T19:42:45   EGV    210.0      NaN   NaN\n",
              "18  2019-07-30T19:47:45   EGV    212.0      NaN   NaN\n",
              "19  2019-07-30T19:52:45   EGV    213.0      NaN   NaN\n",
              "20  2019-07-30T19:57:45   EGV    215.0      NaN   NaN\n",
              "21  2019-07-30T20:02:45   EGV    214.0      NaN   NaN"
            ]
          },
          "metadata": {
            "tags": []
          },
          "execution_count": 289
        }
      ]
    },
    {
      "cell_type": "code",
      "metadata": {
        "colab": {
          "base_uri": "https://localhost:8080/"
        },
        "id": "V-7fuLiuq9q2",
        "outputId": "92fb32d1-36bb-4752-882e-23692ac79f69"
      },
      "source": [
        "df['Glucose'].unique()"
      ],
      "execution_count": 290,
      "outputs": [
        {
          "output_type": "execute_result",
          "data": {
            "text/plain": [
              "array([ 72., 176., 180., 187., 189., 191., 196., 199., 203., 205., 208.,\n",
              "       212., 213., 210., 215., 214., 204., 206., 202., 200., 198., 193.,\n",
              "       177., 192., 181., 178., 179., 175., 173., 172., 170., 169., 168.,\n",
              "       165., 162., 160., 159., 158., 157., 156., 155., 152., 150., 148.,\n",
              "       145., 143., 141., 138., 136., 134., 133., 132., 131., 129., 128.,\n",
              "       127., 125., 123., 121., 119., 117., 115., 113., 111., 110., 108.,\n",
              "       107., 106., 105., 104., 103., 102., 101.,  98.,  96.,  95.,  93.,\n",
              "        92.,  91.,  88.,  87.,  86.,  85.,  84.,  83.,  82.,  80.,  79.,\n",
              "        78.,  75.,  74.,  73.,  71.,  69.,  67.,  66.,  65.,  64.,  63.,\n",
              "        62.,  61.,  60.,  59.,  58.,  57.,  55.,  54.,  53.,  90.,  89.,\n",
              "        77.,  99., 100.,  56.,  94.,  97., 112., 120., 140., 185., 190.,\n",
              "       188., 186., 183., 182., 174., 171., 166., 164., 163., 161., 154.,\n",
              "       147., 144., 142., 139., 137., 135., 130., 126., 122., 118., 124.,\n",
              "       184., 194., 211., 217., 220., 223., 227., 230., 231., 233., 232.,\n",
              "       229., 245., 236., 235., 234., 228., 226., 222., 219., 216., 201.,\n",
              "       197., 195., 167., 116., 114.,  81.,  76.,  70.,  68.,  52.,  50.,\n",
              "        49.,  51., 109., 151., 149., 146., 207., 153., 241., 246., 250.,\n",
              "       257., 290., 271., 267., 265., 263., 261., 259., 254., 252., 249.,\n",
              "       244., 237., 225., 221., 209., 224., 240., 251., 243., 218., 255.,\n",
              "       258., 260., 264., 272., 278., 283., 289., 295., 299., 301., 302.,\n",
              "       306., 308., 334., 317., 319., 318., 321., 322., 316., 315., 314.,\n",
              "       313., 312., 311., 310., 303., 304., 307., 309., 305., 300., 297.,\n",
              "       296., 294., 287., 285., 284., 282., 281., 280., 277., 276., 275.,\n",
              "       274., 273., 269., 256., 253., 239., 238.,  47., 242.])"
            ]
          },
          "metadata": {
            "tags": []
          },
          "execution_count": 290
        }
      ]
    },
    {
      "cell_type": "code",
      "metadata": {
        "ExecuteTime": {
          "end_time": "2021-01-25T01:52:50.627338Z",
          "start_time": "2021-01-25T01:52:50.613373Z"
        },
        "colab": {
          "base_uri": "https://localhost:8080/"
        },
        "id": "_Wc-F60tq9q2",
        "outputId": "9f1149fc-18e0-4e89-a66b-44fbf46bf93c"
      },
      "source": [
        "df.isnull().sum()"
      ],
      "execution_count": 291,
      "outputs": [
        {
          "output_type": "execute_result",
          "data": {
            "text/plain": [
              "Timestamp       0\n",
              "Event           0\n",
              "Glucose         0\n",
              "Insulin      1925\n",
              "Meal         1930\n",
              "dtype: int64"
            ]
          },
          "metadata": {
            "tags": []
          },
          "execution_count": 291
        }
      ]
    },
    {
      "cell_type": "code",
      "metadata": {
        "ExecuteTime": {
          "end_time": "2021-01-25T01:52:52.672484Z",
          "start_time": "2021-01-25T01:52:52.659179Z"
        },
        "colab": {
          "base_uri": "https://localhost:8080/"
        },
        "id": "aB-Pr1IUq9q2",
        "outputId": "c92326f8-c1eb-418e-dfbb-3be73209278f"
      },
      "source": [
        "df['Event'].value_counts()"
      ],
      "execution_count": 292,
      "outputs": [
        {
          "output_type": "execute_result",
          "data": {
            "text/plain": [
              "EGV    1911\n",
              "교정       33\n",
              "Name: Event, dtype: int64"
            ]
          },
          "metadata": {
            "tags": []
          },
          "execution_count": 292
        }
      ]
    },
    {
      "cell_type": "markdown",
      "metadata": {
        "id": "tD-xVtSIq9q3"
      },
      "source": [
        "### 높음 낮음 고정 (추후 전처리 과정에서 400,408,416,408,400 이런 식으로 선형으로 변환해줄 것)"
      ]
    },
    {
      "cell_type": "code",
      "metadata": {
        "ExecuteTime": {
          "end_time": "2021-01-25T01:52:56.678331Z",
          "start_time": "2021-01-25T01:52:56.666364Z"
        },
        "id": "_QqK9A1xq9q3"
      },
      "source": [
        "def fix_glucose_low(df,col):\n",
        "    for i, row in df.iterrows():\n",
        "        val = row[col]\n",
        "        if val=='낮음':\n",
        "            df.loc[i,col] = 60"
      ],
      "execution_count": 293,
      "outputs": []
    },
    {
      "cell_type": "code",
      "metadata": {
        "ExecuteTime": {
          "end_time": "2021-01-25T01:52:54.688521Z",
          "start_time": "2021-01-25T01:52:54.674559Z"
        },
        "id": "XWZicn9Qq9q3"
      },
      "source": [
        "def fix_glucose(df,col):\n",
        "    for i, row in df.iterrows():\n",
        "        val = row[col]\n",
        "        if val=='높음':\n",
        "            df.loc[i,col] = 400\n",
        "        elif val > 400:\n",
        "            df.loc[i,col]=400"
      ],
      "execution_count": 294,
      "outputs": []
    },
    {
      "cell_type": "code",
      "metadata": {
        "ExecuteTime": {
          "end_time": "2021-01-25T01:53:00.780544Z",
          "start_time": "2021-01-25T01:53:00.640251Z"
        },
        "id": "O55uKXOGq9q3"
      },
      "source": [
        "fix_glucose_low(df,'Glucose')"
      ],
      "execution_count": 295,
      "outputs": []
    },
    {
      "cell_type": "code",
      "metadata": {
        "ExecuteTime": {
          "end_time": "2021-01-25T01:52:58.654752Z",
          "start_time": "2021-01-25T01:52:58.545660Z"
        },
        "id": "BvIUO61Mq9q3"
      },
      "source": [
        "fix_glucose(df,'Glucose')"
      ],
      "execution_count": 296,
      "outputs": []
    },
    {
      "cell_type": "code",
      "metadata": {
        "ExecuteTime": {
          "end_time": "2021-01-25T01:53:13.968378Z",
          "start_time": "2021-01-25T01:53:13.948432Z"
        },
        "colab": {
          "base_uri": "https://localhost:8080/"
        },
        "id": "g2avacA9q9q3",
        "outputId": "37b0da2f-af5e-4583-bf11-7c5e1b72e300"
      },
      "source": [
        "df['Glucose'].value_counts()"
      ],
      "execution_count": 297,
      "outputs": [
        {
          "output_type": "execute_result",
          "data": {
            "text/plain": [
              "155.0    30\n",
              "116.0    25\n",
              "118.0    22\n",
              "117.0    22\n",
              "120.0    22\n",
              "         ..\n",
              "297.0     1\n",
              "265.0     1\n",
              "316.0     1\n",
              "300.0     1\n",
              "277.0     1\n",
              "Name: Glucose, Length: 262, dtype: int64"
            ]
          },
          "metadata": {
            "tags": []
          },
          "execution_count": 297
        }
      ]
    },
    {
      "cell_type": "code",
      "metadata": {
        "ExecuteTime": {
          "end_time": "2021-01-25T01:53:16.132062Z",
          "start_time": "2021-01-25T01:53:16.118100Z"
        },
        "colab": {
          "base_uri": "https://localhost:8080/"
        },
        "id": "MhNKSZyTq9q3",
        "outputId": "1f57b1a5-1e86-4267-806e-4dc910a0e486"
      },
      "source": [
        "df.isnull().sum()"
      ],
      "execution_count": 298,
      "outputs": [
        {
          "output_type": "execute_result",
          "data": {
            "text/plain": [
              "Timestamp       0\n",
              "Event           0\n",
              "Glucose         0\n",
              "Insulin      1925\n",
              "Meal         1930\n",
              "dtype: int64"
            ]
          },
          "metadata": {
            "tags": []
          },
          "execution_count": 298
        }
      ]
    },
    {
      "cell_type": "code",
      "metadata": {
        "ExecuteTime": {
          "end_time": "2021-01-25T01:53:18.170395Z",
          "start_time": "2021-01-25T01:53:18.157430Z"
        },
        "colab": {
          "base_uri": "https://localhost:8080/"
        },
        "id": "e8GGHlNyq9q4",
        "outputId": "c6ab6bc2-976b-4f16-ba06-9e024fa7682a"
      },
      "source": [
        "df['Event'].unique()"
      ],
      "execution_count": 299,
      "outputs": [
        {
          "output_type": "execute_result",
          "data": {
            "text/plain": [
              "array(['교정', 'EGV'], dtype=object)"
            ]
          },
          "metadata": {
            "tags": []
          },
          "execution_count": 299
        }
      ]
    },
    {
      "cell_type": "code",
      "metadata": {
        "id": "TuLeqo_RxtN1"
      },
      "source": [
        "## 이벤트에 '운동' 있어서 혈당값 비어있음 \r\n",
        "# 모델 안돌아감 \r\n",
        "df=df.dropna(subset=['Glucose'])"
      ],
      "execution_count": 300,
      "outputs": []
    },
    {
      "cell_type": "code",
      "metadata": {
        "ExecuteTime": {
          "end_time": "2021-01-25T01:53:20.114266Z",
          "start_time": "2021-01-25T01:53:20.101301Z"
        },
        "id": "-g9RIuKlq9q4"
      },
      "source": [
        "# drop한 인스턴스가 있어서 인덱스 리셋\n",
        "df=df.sort_values(by=['Timestamp'],axis=0,ascending=True)\n",
        "df=df.reset_index(drop=True)"
      ],
      "execution_count": 301,
      "outputs": []
    },
    {
      "cell_type": "code",
      "metadata": {
        "ExecuteTime": {
          "end_time": "2021-01-25T01:53:22.262371Z",
          "start_time": "2021-01-25T01:53:22.141696Z"
        },
        "id": "3raJFd5Oq9q4"
      },
      "source": [
        "new_insul_list =[]\n",
        "new_meal_list =[]\n",
        "new_insul_and_meal_list=[]\n",
        "\n",
        "for i in range(len(df)):\n",
        "    if (df['Insulin'][i] ==0 and df['Meal'][i]==0):\n",
        "        new_insul_and_meal_list.append(i)\n",
        "    if (df['Insulin'][i]==0 and df['Meal'][i]!=0):\n",
        "        new_insul_list.append(i)\n",
        "    if (df['Insulin'][i]!=0 and df['Meal'][i]==0):\n",
        "        new_meal_list.append(i)"
      ],
      "execution_count": 302,
      "outputs": []
    },
    {
      "cell_type": "code",
      "metadata": {
        "ExecuteTime": {
          "end_time": "2021-01-25T01:53:24.282408Z",
          "start_time": "2021-01-25T01:53:24.268445Z"
        },
        "colab": {
          "base_uri": "https://localhost:8080/"
        },
        "id": "etuTxppeq9q4",
        "outputId": "c2a6ed2b-8638-49d3-a69f-f9174fed2e56"
      },
      "source": [
        "new_meal_list"
      ],
      "execution_count": 303,
      "outputs": [
        {
          "output_type": "execute_result",
          "data": {
            "text/plain": [
              "[3, 446, 508, 569, 750, 821, 870, 1042, 1096, 1163, 1236, 1357, 1455, 1753]"
            ]
          },
          "metadata": {
            "tags": []
          },
          "execution_count": 303
        }
      ]
    },
    {
      "cell_type": "code",
      "metadata": {
        "id": "UkkZfG03q9q4"
      },
      "source": [
        ""
      ],
      "execution_count": 303,
      "outputs": []
    },
    {
      "cell_type": "code",
      "metadata": {
        "ExecuteTime": {
          "end_time": "2021-01-25T01:53:26.333121Z",
          "start_time": "2021-01-25T01:53:26.132655Z"
        },
        "colab": {
          "base_uri": "https://localhost:8080/",
          "height": 0
        },
        "id": "JoFY9Drvq9q4",
        "outputId": "005a68d1-0cec-4dce-b9f2-405593083ca4"
      },
      "source": [
        "df.plot(figsize=(15,6))\n",
        "plt.show()"
      ],
      "execution_count": 304,
      "outputs": [
        {
          "output_type": "display_data",
          "data": {
            "image/png": "[encoded data removed]",
            "text/plain": [
              "<Figure size 1080x432 with 1 Axes>"
            ]
          },
          "metadata": {
            "tags": []
          }
        }
      ]
    },
    {
      "cell_type": "code",
      "metadata": {
        "ExecuteTime": {
          "end_time": "2021-01-25T01:53:28.542527Z",
          "start_time": "2021-01-25T01:53:28.300175Z"
        },
        "colab": {
          "base_uri": "https://localhost:8080/",
          "height": 0
        },
        "id": "iXUdyaOvq9q4",
        "outputId": "ab5b9dcb-193e-46a8-b4e0-e8defc32c90a"
      },
      "source": [
        "df.plot(figsize=(15,6))\n",
        "plt.axhline(y=70,c='r',linestyle='--',linewidth=1)\n",
        "plt.axhline(y=180,c='r',linestyle='--',linewidth=1)\n",
        "plt.axhline(y=400,c='r',linestyle='--',linewidth=1)\n",
        "#plt.annotate(df['Timestamp'][13],xy=(-50,40),xytext=(-50,0),fontsize=20,bbox=dict(boxstyle='square',\n",
        "#                                                               color='white'),arrowprops=dict(facecolor='black'))\n",
        "#plt.annotate(df['Timestamp'][len(df['Timestamp'])],xytext=(-,0),fontsize=20,bbox=dict(boxstyle='square',\n",
        " #                                                              color='white'))\n",
        "plt.text(len(df['Timestamp']),185,'Hyperglycemic Threshold',family='Times New Roman',size=15)\n",
        "plt.text(len(df['Timestamp']),75,'Hypoglycemic Threshold',family='Times New Roman',size=15)\n",
        "plt.text(len(df['Timestamp']),405,'Too High ( Glucose value 400 + )',family='Times New Roman',size=15)\n",
        "\n",
        "#y=70\n",
        "#plt.plot(y,'b--',linestyles='--'),\n",
        "#plt.hlines(70,linestyles='--')\n",
        "plt.show()"
      ],
      "execution_count": 305,
      "outputs": [
        {
          "output_type": "display_data",
          "data": {
            "image/png": "[encoded data removed]",
            "text/plain": [
              "<Figure size 1080x432 with 1 Axes>"
            ]
          },
          "metadata": {
            "tags": []
          }
        }
      ]
    },
    {
      "cell_type": "code",
      "metadata": {
        "ExecuteTime": {
          "end_time": "2021-01-25T01:53:30.332463Z",
          "start_time": "2021-01-25T01:53:30.319500Z"
        },
        "id": "Ff-e2NnRq9q5"
      },
      "source": [
        "#df.drop(0,inplace=True)"
      ],
      "execution_count": 306,
      "outputs": []
    },
    {
      "cell_type": "code",
      "metadata": {
        "ExecuteTime": {
          "end_time": "2021-01-25T01:53:30.704466Z",
          "start_time": "2021-01-25T01:53:30.690504Z"
        },
        "id": "3phxJsnVq9q5"
      },
      "source": [
        "# drop한 인스턴스가 있어서 인덱스 리셋\n",
        "#df=df.sort_values(by=['Timestamp'],axis=0,ascending=True)\n",
        "#df=df.reset_index(drop=True)\n",
        "#df.head(21)"
      ],
      "execution_count": 307,
      "outputs": []
    },
    {
      "cell_type": "code",
      "metadata": {
        "ExecuteTime": {
          "end_time": "2021-01-25T01:53:34.320799Z",
          "start_time": "2021-01-25T01:53:34.306836Z"
        },
        "id": "GHltXweoq9q5"
      },
      "source": [
        "# 인슐린, 탄수화물 투여시 혈당값 NULL\n",
        "# 그래서 t시점에 t-2 , t-1 크기비교해서 upper면 이렇게 lower면 이렇게 해서 interpolation ( 보간)\n",
        "# 이거 위에 참고사항 drop하고 나서 적용 해줘야됨\n",
        "#insul=list()\n",
        "#import math\n",
        "#def interpolate_glucose(df,col):\n",
        "#    #insul=list()\n",
        "    \n",
        "#    for i, row in df.iterrows():\n",
        "#        val=row[col]\n",
        "#        if math.isnan(val):\n",
        "#            if df['Glucose'][i-2] >= df['Glucose'][i-1]:\n",
        "#                c = (df['Glucose'][i-2] - df['Glucose'][i-1]) / 2 \n",
        "#                df.loc[i,col]= df['Glucose'][i-1] - c\n",
        "#                insul.append(i)\n",
        "#                print(insul)\n",
        "                \n",
        "#            if df['Glucose'][i-2] < df['Glucose'][i-1]:\n",
        "#                c = (df['Glucose'][i-2] - df['Glucose'][i-1]) / 2 \n",
        "#                df.loc[i,col]= df['Glucose'][i-1] - c\n",
        "#                insul.append(i)\n",
        "#                print(insul)\n",
        "        \n",
        "           "
      ],
      "execution_count": 308,
      "outputs": []
    },
    {
      "cell_type": "code",
      "metadata": {
        "ExecuteTime": {
          "end_time": "2021-01-25T01:53:36.328924Z",
          "start_time": "2021-01-25T01:53:36.313965Z"
        },
        "id": "oO-USeM2q9q6"
      },
      "source": [
        "# 인슐린 탄수화물 인덱스 문제 해결 파트 \n",
        "#insul=list()\n",
        "#meal=list()\n",
        "#import math\n",
        "#def interpolate_glucose(df,col):\n",
        "    #insul=list()\n",
        "    \n",
        "#    for i, row in df.iterrows():\n",
        "#        val=row[col]\n",
        "        #df=df.sort_values(by=['Timestamp'],axis=0,ascending=True)\n",
        "        #df=df.reset_index(drop=True)\n",
        "#        if math.isnan(val):\n",
        " #           if df['Event'][i]=='인슐린':\n",
        "  #              if df['Glucose'][i-1] is None:\n",
        "   #                 insul.append(i-2)\n",
        "                    \n",
        "                    \n",
        "    #            else:\n",
        "     #               insul.append(i-1)\n",
        "                    \n",
        "      #      if df['Event'][i]=='탄수화물':\n",
        "       #         if df['Glucose'][i-1] is None:\n",
        "        #            meal.append(i-2)\n",
        "                    \n",
        "         #       else:\n",
        "          #          meal.append(i-1)\n",
        "                    "
      ],
      "execution_count": 309,
      "outputs": []
    },
    {
      "cell_type": "code",
      "metadata": {
        "ExecuteTime": {
          "end_time": "2021-01-25T01:53:38.317618Z",
          "start_time": "2021-01-25T01:53:38.303654Z"
        },
        "id": "5ARbHQpIq9q6"
      },
      "source": [
        "#interpolate_glucose(df,'Glucose')"
      ],
      "execution_count": 310,
      "outputs": []
    },
    {
      "cell_type": "code",
      "metadata": {
        "ExecuteTime": {
          "end_time": "2021-01-25T01:53:40.152005Z",
          "start_time": "2021-01-25T01:53:40.139039Z"
        },
        "id": "jwvVWaHTq9q6"
      },
      "source": [
        "#meal"
      ],
      "execution_count": 311,
      "outputs": []
    },
    {
      "cell_type": "code",
      "metadata": {
        "ExecuteTime": {
          "end_time": "2021-01-25T01:53:42.020035Z",
          "start_time": "2021-01-25T01:53:42.007070Z"
        },
        "id": "UbYNhh3-q9q6"
      },
      "source": [
        "#insul"
      ],
      "execution_count": 312,
      "outputs": []
    },
    {
      "cell_type": "code",
      "metadata": {
        "ExecuteTime": {
          "end_time": "2021-01-25T01:53:42.050953Z",
          "start_time": "2021-01-25T01:53:42.023027Z"
        },
        "colab": {
          "base_uri": "https://localhost:8080/"
        },
        "id": "dDhQ76wlq9q6",
        "outputId": "cc0d958c-bc38-4928-e1c7-25e7f2480072"
      },
      "source": [
        "df['Glucose'].isnull().sum()"
      ],
      "execution_count": 313,
      "outputs": [
        {
          "output_type": "execute_result",
          "data": {
            "text/plain": [
              "0"
            ]
          },
          "metadata": {
            "tags": []
          },
          "execution_count": 313
        }
      ]
    },
    {
      "cell_type": "code",
      "metadata": {
        "ExecuteTime": {
          "end_time": "2021-01-25T01:53:42.796962Z",
          "start_time": "2021-01-25T01:53:42.785989Z"
        },
        "id": "HgDjhDWAq9q6"
      },
      "source": [
        "insul_glucose_value=list()\n",
        "for i in new_insul_list:\n",
        "    insul_glucose_value.append(df['Glucose'][i])"
      ],
      "execution_count": 314,
      "outputs": []
    },
    {
      "cell_type": "code",
      "metadata": {
        "ExecuteTime": {
          "end_time": "2021-01-25T01:53:44.256058Z",
          "start_time": "2021-01-25T01:53:44.242096Z"
        },
        "id": "PCAHh2D_q9q6"
      },
      "source": [
        "meal_glucose_value=list()\n",
        "for i in new_meal_list:\n",
        "    meal_glucose_value.append(df['Glucose'][i])"
      ],
      "execution_count": 315,
      "outputs": []
    },
    {
      "cell_type": "code",
      "metadata": {
        "ExecuteTime": {
          "end_time": "2021-01-25T01:53:45.908642Z",
          "start_time": "2021-01-25T01:53:45.895678Z"
        },
        "id": "aca-BcHzq9q7"
      },
      "source": [
        "insul_and_meal_glucose_value = list()\n",
        "for i in new_insul_and_meal_list:\n",
        "    insul_and_meal_glucose_value.append(df['Glucose'][i])"
      ],
      "execution_count": 316,
      "outputs": []
    },
    {
      "cell_type": "code",
      "metadata": {
        "ExecuteTime": {
          "end_time": "2021-01-25T01:53:45.924599Z",
          "start_time": "2021-01-25T01:53:45.911634Z"
        },
        "id": "Uqt843lhq9q7"
      },
      "source": [
        "#len = len(df['Timestamp'])\n",
        "#plt.text(-100,-1,df['Timestamp'][0],family='Times New Roman',fontweight='bold',size=17)"
      ],
      "execution_count": 317,
      "outputs": []
    },
    {
      "cell_type": "code",
      "metadata": {
        "ExecuteTime": {
          "end_time": "2021-01-25T01:53:46.264689Z",
          "start_time": "2021-01-25T01:53:45.927590Z"
        },
        "colab": {
          "base_uri": "https://localhost:8080/",
          "height": 0
        },
        "id": "ajebDiOAq9q7",
        "outputId": "c46d10d1-9bf2-4a3c-887b-2d4c41c95f8e"
      },
      "source": [
        "import matplotlib.patches as mpatches\n",
        "import matplotlib.lines as mlines\n",
        "\n",
        "df.plot(figsize=(15,6),color='gray',alpha=0.5)\n",
        "plt.axhline(y=70,c='r',linestyle='--',linewidth=1)\n",
        "plt.axhline(y=180,c='r',linestyle='--',linewidth=1)\n",
        "plt.axhline(y=400,c='r',linestyle='--',linewidth=1)\n",
        "#plt.axhline(y=60,c='black',linestyle='--',linewidth=1)\n",
        "plt.text(len(df['Timestamp']),185,'Hyperglycemic Threshold',family='Times New Roman',size=15)\n",
        "plt.text(len(df['Timestamp']),75,'Hypoglycemic Threshold',family='Times New Roman',size=15)\n",
        "\n",
        "plt.scatter(new_insul_list,insul_glucose_value,edgecolor='black',s=50,label='Insulin',marker='o',c='red')\n",
        "plt.scatter(new_meal_list,meal_glucose_value,edgecolor='black',s=50,label='Carbohydrate',marker='o',c='green')\n",
        "plt.scatter(new_insul_and_meal_list,insul_and_meal_glucose_value,edgecolor='black',s=50,label='Insulin + Carbohydrate',marker='o',c='blue')\n",
        "\n",
        "red_patch = mpatches.Patch(color='red',label='Insulin')\n",
        "\n",
        "red_line = mlines.Line2D([],[],color='red',marker='o',markersize=15,label='Insulin')\n",
        "green_line = mlines.Line2D([],[],color='green',marker='o',markersize=15,label='Carbohydrate')\n",
        "blue_line = mlines.Line2D([],[],color='blue',marker='o',markersize=15,label='Insulin + Carbohydrate')\n",
        "plt.text(len(df['Timestamp']),405,'Too High ( Glucose value 400 + )',family='Times New Roman',size=15)\n",
        "plt.text(len(df['Timestamp']),60,'',family='Times New Roman',size=15)\n",
        "#plt.text(len(df['Timestamp']),-1,df['Timestamp'][len(df['Timestamp'])],family='Times New Roman',\n",
        "#         fontweight='bold',size=20)\n",
        "plt.text(-100,-1,df['Timestamp'][0],family='Times New Roman',fontweight='bold',size=17)\n",
        "plt.text(len(df['Timestamp']),-1,df['Timestamp'][len(df['Timestamp'])-1],family='Times New Roman',fontweight='bold',size=17)\n",
        "plt.legend(['Insulin','Carbohydrate','Insulin + Carbohydrate'],loc='best',fontsize='x-small',handles=[red_line,green_line,blue_line])\n",
        "#plt.text(-100,-1,df['Timestamp'][14],family='Times New Roman',\n",
        "\n",
        "#         fontweight='bold',size=20)\n",
        "\n",
        "#y=70\n",
        "#plt.plot(y,'b--',linestyles='--'),\n",
        "#plt.hlines(70,linestyles='--')\n",
        "plt.show()"
      ],
      "execution_count": 318,
      "outputs": [
        {
          "output_type": "display_data",
          "data": {
            "image/png": "[encoded data removed]",
            "text/plain": [
              "<Figure size 1080x432 with 1 Axes>"
            ]
          },
          "metadata": {
            "tags": []
          }
        }
      ]
    },
    {
      "cell_type": "code",
      "metadata": {
        "ExecuteTime": {
          "end_time": "2021-01-25T01:53:46.389356Z",
          "start_time": "2021-01-25T01:53:46.265685Z"
        },
        "id": "eXer8h_dq9q7"
      },
      "source": [
        "for i in range(len(df)):\n",
        "    if isNaN(df['Insulin'][i]):\n",
        "        df['Insulin'][i]=1\n",
        "    else:\n",
        "        df['Insulin'][i]=0\n",
        "        \n",
        "     "
      ],
      "execution_count": 319,
      "outputs": []
    },
    {
      "cell_type": "code",
      "metadata": {
        "ExecuteTime": {
          "end_time": "2021-01-25T01:53:51.043530Z",
          "start_time": "2021-01-25T01:53:50.874984Z"
        },
        "id": "rPq3Eljfq9q8"
      },
      "source": [
        "for i in range(len(df)):\n",
        "    if isNaN(df['Meal'][i]):\n",
        "        df['Meal'][i]=1\n",
        "    else:\n",
        "        df['Meal'][i]=0\n",
        "        "
      ],
      "execution_count": 320,
      "outputs": []
    },
    {
      "cell_type": "code",
      "metadata": {
        "ExecuteTime": {
          "end_time": "2021-01-25T01:53:51.075446Z",
          "start_time": "2021-01-25T01:53:51.045526Z"
        },
        "colab": {
          "base_uri": "https://localhost:8080/",
          "height": 0
        },
        "id": "gwSdbaC-q9q8",
        "outputId": "d7f3b1ba-f022-474e-c74b-8c844ccbc5f6"
      },
      "source": [
        "df[1900:1950]"
      ],
      "execution_count": 321,
      "outputs": [
        {
          "output_type": "execute_result",
          "data": {
            "text/html": [
              "<div>\n",
              "<style scoped>\n",
              "    .dataframe tbody tr th:only-of-type {\n",
              "        vertical-align: middle;\n",
              "    }\n",
              "\n",
              "    .dataframe tbody tr th {\n",
              "        vertical-align: top;\n",
              "    }\n",
              "\n",
              "    .dataframe thead th {\n",
              "        text-align: right;\n",
              "    }\n",
              "</style>\n",
              "<table border=\"1\" class=\"dataframe\">\n",
              "  <thead>\n",
              "    <tr style=\"text-align: right;\">\n",
              "      <th></th>\n",
              "      <th>Timestamp</th>\n",
              "      <th>Event</th>\n",
              "      <th>Glucose</th>\n",
              "      <th>Insulin</th>\n",
              "      <th>Meal</th>\n",
              "    </tr>\n",
              "  </thead>\n",
              "  <tbody>\n",
              "    <tr>\n",
              "      <th>1900</th>\n",
              "      <td>2019-08-06T11:07:17</td>\n",
              "      <td>EGV</td>\n",
              "      <td>191.0</td>\n",
              "      <td>0.0</td>\n",
              "      <td>0.0</td>\n",
              "    </tr>\n",
              "    <tr>\n",
              "      <th>1901</th>\n",
              "      <td>2019-08-06T11:12:16</td>\n",
              "      <td>EGV</td>\n",
              "      <td>190.0</td>\n",
              "      <td>0.0</td>\n",
              "      <td>0.0</td>\n",
              "    </tr>\n",
              "    <tr>\n",
              "      <th>1902</th>\n",
              "      <td>2019-08-06T11:17:17</td>\n",
              "      <td>EGV</td>\n",
              "      <td>187.0</td>\n",
              "      <td>0.0</td>\n",
              "      <td>0.0</td>\n",
              "    </tr>\n",
              "    <tr>\n",
              "      <th>1903</th>\n",
              "      <td>2019-08-06T11:22:16</td>\n",
              "      <td>EGV</td>\n",
              "      <td>186.0</td>\n",
              "      <td>0.0</td>\n",
              "      <td>0.0</td>\n",
              "    </tr>\n",
              "    <tr>\n",
              "      <th>1904</th>\n",
              "      <td>2019-08-06T11:27:16</td>\n",
              "      <td>EGV</td>\n",
              "      <td>185.0</td>\n",
              "      <td>0.0</td>\n",
              "      <td>0.0</td>\n",
              "    </tr>\n",
              "    <tr>\n",
              "      <th>1905</th>\n",
              "      <td>2019-08-06T11:32:17</td>\n",
              "      <td>EGV</td>\n",
              "      <td>183.0</td>\n",
              "      <td>0.0</td>\n",
              "      <td>0.0</td>\n",
              "    </tr>\n",
              "    <tr>\n",
              "      <th>1906</th>\n",
              "      <td>2019-08-06T11:37:17</td>\n",
              "      <td>EGV</td>\n",
              "      <td>180.0</td>\n",
              "      <td>0.0</td>\n",
              "      <td>0.0</td>\n",
              "    </tr>\n",
              "    <tr>\n",
              "      <th>1907</th>\n",
              "      <td>2019-08-06T11:42:17</td>\n",
              "      <td>EGV</td>\n",
              "      <td>178.0</td>\n",
              "      <td>0.0</td>\n",
              "      <td>0.0</td>\n",
              "    </tr>\n",
              "    <tr>\n",
              "      <th>1908</th>\n",
              "      <td>2019-08-06T11:47:17</td>\n",
              "      <td>EGV</td>\n",
              "      <td>175.0</td>\n",
              "      <td>0.0</td>\n",
              "      <td>0.0</td>\n",
              "    </tr>\n",
              "    <tr>\n",
              "      <th>1909</th>\n",
              "      <td>2019-08-06T11:52:16</td>\n",
              "      <td>EGV</td>\n",
              "      <td>172.0</td>\n",
              "      <td>0.0</td>\n",
              "      <td>0.0</td>\n",
              "    </tr>\n",
              "    <tr>\n",
              "      <th>1910</th>\n",
              "      <td>2019-08-06T11:57:17</td>\n",
              "      <td>EGV</td>\n",
              "      <td>169.0</td>\n",
              "      <td>0.0</td>\n",
              "      <td>0.0</td>\n",
              "    </tr>\n",
              "    <tr>\n",
              "      <th>1911</th>\n",
              "      <td>2019-08-06T12:02:16</td>\n",
              "      <td>EGV</td>\n",
              "      <td>169.0</td>\n",
              "      <td>0.0</td>\n",
              "      <td>0.0</td>\n",
              "    </tr>\n",
              "    <tr>\n",
              "      <th>1912</th>\n",
              "      <td>2019-08-06T12:07:16</td>\n",
              "      <td>EGV</td>\n",
              "      <td>168.0</td>\n",
              "      <td>0.0</td>\n",
              "      <td>0.0</td>\n",
              "    </tr>\n",
              "    <tr>\n",
              "      <th>1913</th>\n",
              "      <td>2019-08-06T12:12:17</td>\n",
              "      <td>EGV</td>\n",
              "      <td>167.0</td>\n",
              "      <td>0.0</td>\n",
              "      <td>0.0</td>\n",
              "    </tr>\n",
              "    <tr>\n",
              "      <th>1914</th>\n",
              "      <td>2019-08-06T12:17:16</td>\n",
              "      <td>EGV</td>\n",
              "      <td>166.0</td>\n",
              "      <td>0.0</td>\n",
              "      <td>0.0</td>\n",
              "    </tr>\n",
              "    <tr>\n",
              "      <th>1915</th>\n",
              "      <td>2019-08-06T12:22:17</td>\n",
              "      <td>EGV</td>\n",
              "      <td>164.0</td>\n",
              "      <td>1.0</td>\n",
              "      <td>0.0</td>\n",
              "    </tr>\n",
              "    <tr>\n",
              "      <th>1916</th>\n",
              "      <td>2019-08-06T12:27:17</td>\n",
              "      <td>EGV</td>\n",
              "      <td>163.0</td>\n",
              "      <td>0.0</td>\n",
              "      <td>0.0</td>\n",
              "    </tr>\n",
              "    <tr>\n",
              "      <th>1917</th>\n",
              "      <td>2019-08-06T12:32:17</td>\n",
              "      <td>EGV</td>\n",
              "      <td>162.0</td>\n",
              "      <td>0.0</td>\n",
              "      <td>0.0</td>\n",
              "    </tr>\n",
              "    <tr>\n",
              "      <th>1918</th>\n",
              "      <td>2019-08-06T12:37:17</td>\n",
              "      <td>EGV</td>\n",
              "      <td>167.0</td>\n",
              "      <td>0.0</td>\n",
              "      <td>0.0</td>\n",
              "    </tr>\n",
              "    <tr>\n",
              "      <th>1919</th>\n",
              "      <td>2019-08-06T12:42:16</td>\n",
              "      <td>EGV</td>\n",
              "      <td>180.0</td>\n",
              "      <td>0.0</td>\n",
              "      <td>0.0</td>\n",
              "    </tr>\n",
              "    <tr>\n",
              "      <th>1920</th>\n",
              "      <td>2019-08-06T12:47:16</td>\n",
              "      <td>EGV</td>\n",
              "      <td>190.0</td>\n",
              "      <td>0.0</td>\n",
              "      <td>0.0</td>\n",
              "    </tr>\n",
              "    <tr>\n",
              "      <th>1921</th>\n",
              "      <td>2019-08-06T12:52:17</td>\n",
              "      <td>EGV</td>\n",
              "      <td>199.0</td>\n",
              "      <td>0.0</td>\n",
              "      <td>0.0</td>\n",
              "    </tr>\n",
              "    <tr>\n",
              "      <th>1922</th>\n",
              "      <td>2019-08-06T12:57:16</td>\n",
              "      <td>EGV</td>\n",
              "      <td>207.0</td>\n",
              "      <td>0.0</td>\n",
              "      <td>0.0</td>\n",
              "    </tr>\n",
              "    <tr>\n",
              "      <th>1923</th>\n",
              "      <td>2019-08-06T13:02:17</td>\n",
              "      <td>EGV</td>\n",
              "      <td>214.0</td>\n",
              "      <td>0.0</td>\n",
              "      <td>0.0</td>\n",
              "    </tr>\n",
              "    <tr>\n",
              "      <th>1924</th>\n",
              "      <td>2019-08-06T13:07:17</td>\n",
              "      <td>EGV</td>\n",
              "      <td>216.0</td>\n",
              "      <td>0.0</td>\n",
              "      <td>0.0</td>\n",
              "    </tr>\n",
              "    <tr>\n",
              "      <th>1925</th>\n",
              "      <td>2019-08-06T13:12:16</td>\n",
              "      <td>EGV</td>\n",
              "      <td>215.0</td>\n",
              "      <td>0.0</td>\n",
              "      <td>0.0</td>\n",
              "    </tr>\n",
              "    <tr>\n",
              "      <th>1926</th>\n",
              "      <td>2019-08-06T13:17:17</td>\n",
              "      <td>EGV</td>\n",
              "      <td>218.0</td>\n",
              "      <td>0.0</td>\n",
              "      <td>0.0</td>\n",
              "    </tr>\n",
              "    <tr>\n",
              "      <th>1927</th>\n",
              "      <td>2019-08-06T13:22:16</td>\n",
              "      <td>EGV</td>\n",
              "      <td>221.0</td>\n",
              "      <td>0.0</td>\n",
              "      <td>0.0</td>\n",
              "    </tr>\n",
              "    <tr>\n",
              "      <th>1928</th>\n",
              "      <td>2019-08-06T13:27:16</td>\n",
              "      <td>EGV</td>\n",
              "      <td>224.0</td>\n",
              "      <td>0.0</td>\n",
              "      <td>0.0</td>\n",
              "    </tr>\n",
              "    <tr>\n",
              "      <th>1929</th>\n",
              "      <td>2019-08-06T13:32:17</td>\n",
              "      <td>EGV</td>\n",
              "      <td>225.0</td>\n",
              "      <td>0.0</td>\n",
              "      <td>0.0</td>\n",
              "    </tr>\n",
              "    <tr>\n",
              "      <th>1930</th>\n",
              "      <td>2019-08-06T13:37:16</td>\n",
              "      <td>EGV</td>\n",
              "      <td>225.0</td>\n",
              "      <td>0.0</td>\n",
              "      <td>0.0</td>\n",
              "    </tr>\n",
              "    <tr>\n",
              "      <th>1931</th>\n",
              "      <td>2019-08-06T13:42:16</td>\n",
              "      <td>EGV</td>\n",
              "      <td>225.0</td>\n",
              "      <td>0.0</td>\n",
              "      <td>0.0</td>\n",
              "    </tr>\n",
              "    <tr>\n",
              "      <th>1932</th>\n",
              "      <td>2019-08-06T13:47:17</td>\n",
              "      <td>EGV</td>\n",
              "      <td>223.0</td>\n",
              "      <td>0.0</td>\n",
              "      <td>0.0</td>\n",
              "    </tr>\n",
              "    <tr>\n",
              "      <th>1933</th>\n",
              "      <td>2019-08-06T13:52:17</td>\n",
              "      <td>EGV</td>\n",
              "      <td>221.0</td>\n",
              "      <td>0.0</td>\n",
              "      <td>0.0</td>\n",
              "    </tr>\n",
              "    <tr>\n",
              "      <th>1934</th>\n",
              "      <td>2019-08-06T13:57:17</td>\n",
              "      <td>EGV</td>\n",
              "      <td>218.0</td>\n",
              "      <td>0.0</td>\n",
              "      <td>0.0</td>\n",
              "    </tr>\n",
              "    <tr>\n",
              "      <th>1935</th>\n",
              "      <td>2019-08-06T14:02:17</td>\n",
              "      <td>EGV</td>\n",
              "      <td>215.0</td>\n",
              "      <td>0.0</td>\n",
              "      <td>0.0</td>\n",
              "    </tr>\n",
              "    <tr>\n",
              "      <th>1936</th>\n",
              "      <td>2019-08-06T14:07:17</td>\n",
              "      <td>EGV</td>\n",
              "      <td>213.0</td>\n",
              "      <td>0.0</td>\n",
              "      <td>0.0</td>\n",
              "    </tr>\n",
              "    <tr>\n",
              "      <th>1937</th>\n",
              "      <td>2019-08-06T14:12:17</td>\n",
              "      <td>EGV</td>\n",
              "      <td>211.0</td>\n",
              "      <td>0.0</td>\n",
              "      <td>0.0</td>\n",
              "    </tr>\n",
              "    <tr>\n",
              "      <th>1938</th>\n",
              "      <td>2019-08-06T14:17:17</td>\n",
              "      <td>EGV</td>\n",
              "      <td>209.0</td>\n",
              "      <td>0.0</td>\n",
              "      <td>0.0</td>\n",
              "    </tr>\n",
              "    <tr>\n",
              "      <th>1939</th>\n",
              "      <td>2019-08-06T14:22:17</td>\n",
              "      <td>EGV</td>\n",
              "      <td>208.0</td>\n",
              "      <td>0.0</td>\n",
              "      <td>0.0</td>\n",
              "    </tr>\n",
              "    <tr>\n",
              "      <th>1940</th>\n",
              "      <td>2019-08-06T14:27:17</td>\n",
              "      <td>EGV</td>\n",
              "      <td>206.0</td>\n",
              "      <td>0.0</td>\n",
              "      <td>0.0</td>\n",
              "    </tr>\n",
              "    <tr>\n",
              "      <th>1941</th>\n",
              "      <td>2019-08-06T14:32:16</td>\n",
              "      <td>EGV</td>\n",
              "      <td>203.0</td>\n",
              "      <td>0.0</td>\n",
              "      <td>0.0</td>\n",
              "    </tr>\n",
              "    <tr>\n",
              "      <th>1942</th>\n",
              "      <td>2019-08-06T14:37:17</td>\n",
              "      <td>EGV</td>\n",
              "      <td>201.0</td>\n",
              "      <td>0.0</td>\n",
              "      <td>0.0</td>\n",
              "    </tr>\n",
              "    <tr>\n",
              "      <th>1943</th>\n",
              "      <td>2019-08-06T14:42:16</td>\n",
              "      <td>EGV</td>\n",
              "      <td>194.0</td>\n",
              "      <td>0.0</td>\n",
              "      <td>0.0</td>\n",
              "    </tr>\n",
              "  </tbody>\n",
              "</table>\n",
              "</div>"
            ],
            "text/plain": [
              "                Timestamp Event  Glucose  Insulin  Meal\n",
              "1900  2019-08-06T11:07:17   EGV    191.0      0.0   0.0\n",
              "1901  2019-08-06T11:12:16   EGV    190.0      0.0   0.0\n",
              "1902  2019-08-06T11:17:17   EGV    187.0      0.0   0.0\n",
              "1903  2019-08-06T11:22:16   EGV    186.0      0.0   0.0\n",
              "1904  2019-08-06T11:27:16   EGV    185.0      0.0   0.0\n",
              "1905  2019-08-06T11:32:17   EGV    183.0      0.0   0.0\n",
              "1906  2019-08-06T11:37:17   EGV    180.0      0.0   0.0\n",
              "1907  2019-08-06T11:42:17   EGV    178.0      0.0   0.0\n",
              "1908  2019-08-06T11:47:17   EGV    175.0      0.0   0.0\n",
              "1909  2019-08-06T11:52:16   EGV    172.0      0.0   0.0\n",
              "1910  2019-08-06T11:57:17   EGV    169.0      0.0   0.0\n",
              "1911  2019-08-06T12:02:16   EGV    169.0      0.0   0.0\n",
              "1912  2019-08-06T12:07:16   EGV    168.0      0.0   0.0\n",
              "1913  2019-08-06T12:12:17   EGV    167.0      0.0   0.0\n",
              "1914  2019-08-06T12:17:16   EGV    166.0      0.0   0.0\n",
              "1915  2019-08-06T12:22:17   EGV    164.0      1.0   0.0\n",
              "1916  2019-08-06T12:27:17   EGV    163.0      0.0   0.0\n",
              "1917  2019-08-06T12:32:17   EGV    162.0      0.0   0.0\n",
              "1918  2019-08-06T12:37:17   EGV    167.0      0.0   0.0\n",
              "1919  2019-08-06T12:42:16   EGV    180.0      0.0   0.0\n",
              "1920  2019-08-06T12:47:16   EGV    190.0      0.0   0.0\n",
              "1921  2019-08-06T12:52:17   EGV    199.0      0.0   0.0\n",
              "1922  2019-08-06T12:57:16   EGV    207.0      0.0   0.0\n",
              "1923  2019-08-06T13:02:17   EGV    214.0      0.0   0.0\n",
              "1924  2019-08-06T13:07:17   EGV    216.0      0.0   0.0\n",
              "1925  2019-08-06T13:12:16   EGV    215.0      0.0   0.0\n",
              "1926  2019-08-06T13:17:17   EGV    218.0      0.0   0.0\n",
              "1927  2019-08-06T13:22:16   EGV    221.0      0.0   0.0\n",
              "1928  2019-08-06T13:27:16   EGV    224.0      0.0   0.0\n",
              "1929  2019-08-06T13:32:17   EGV    225.0      0.0   0.0\n",
              "1930  2019-08-06T13:37:16   EGV    225.0      0.0   0.0\n",
              "1931  2019-08-06T13:42:16   EGV    225.0      0.0   0.0\n",
              "1932  2019-08-06T13:47:17   EGV    223.0      0.0   0.0\n",
              "1933  2019-08-06T13:52:17   EGV    221.0      0.0   0.0\n",
              "1934  2019-08-06T13:57:17   EGV    218.0      0.0   0.0\n",
              "1935  2019-08-06T14:02:17   EGV    215.0      0.0   0.0\n",
              "1936  2019-08-06T14:07:17   EGV    213.0      0.0   0.0\n",
              "1937  2019-08-06T14:12:17   EGV    211.0      0.0   0.0\n",
              "1938  2019-08-06T14:17:17   EGV    209.0      0.0   0.0\n",
              "1939  2019-08-06T14:22:17   EGV    208.0      0.0   0.0\n",
              "1940  2019-08-06T14:27:17   EGV    206.0      0.0   0.0\n",
              "1941  2019-08-06T14:32:16   EGV    203.0      0.0   0.0\n",
              "1942  2019-08-06T14:37:17   EGV    201.0      0.0   0.0\n",
              "1943  2019-08-06T14:42:16   EGV    194.0      0.0   0.0"
            ]
          },
          "metadata": {
            "tags": []
          },
          "execution_count": 321
        }
      ]
    },
    {
      "cell_type": "code",
      "metadata": {
        "id": "QxwcSjuqtMXO"
      },
      "source": [
        "def fix_glucose_value(df,col):\r\n",
        "    for i, row in df.iterrows():\r\n",
        "        val = row[col]\r\n",
        "        \r\n",
        "        df.loc[i,col] = math.floor(val)"
      ],
      "execution_count": 322,
      "outputs": []
    },
    {
      "cell_type": "code",
      "metadata": {
        "id": "sIkC9Oi-t-Rh"
      },
      "source": [
        "fix_glucose_value(df,'Glucose')"
      ],
      "execution_count": 323,
      "outputs": []
    },
    {
      "cell_type": "markdown",
      "metadata": {
        "id": "KZ8pAdTfq9q8"
      },
      "source": [
        "## 이제 여기부터 DL 모델 돌려볼 것 \n",
        "+ 일단 모델부터 간단하게 돌려보고 성능 측정\n",
        "+ 그리고 전처리 해가면서 성능 비교"
      ]
    },
    {
      "cell_type": "code",
      "metadata": {
        "ExecuteTime": {
          "end_time": "2021-01-25T01:53:54.756503Z",
          "start_time": "2021-01-25T01:53:54.742541Z"
        },
        "id": "TDvQ2BGIq9q8"
      },
      "source": [
        "import numpy as np\n",
        "import tensorflow as tf\n",
        "import random as rn"
      ],
      "execution_count": 324,
      "outputs": []
    },
    {
      "cell_type": "code",
      "metadata": {
        "ExecuteTime": {
          "end_time": "2021-01-25T01:53:58.949108Z",
          "start_time": "2021-01-25T01:53:58.935145Z"
        },
        "id": "qlRi61Seq9q8"
      },
      "source": [
        "# 재현 가능한 결과를 만들기 위해 시드값 설정 \n",
        "import os \n",
        "import random\n",
        "seed_num = 42\n",
        "os.environ['PYTHONHASHSEED']=str(seed_num)\n",
        "\n",
        "random.seed(seed_num)\n",
        "np.random.seed(seed_num)\n",
        "tf.random.set_seed(seed_num)"
      ],
      "execution_count": 325,
      "outputs": []
    },
    {
      "cell_type": "code",
      "metadata": {
        "ExecuteTime": {
          "end_time": "2021-01-25T01:54:00.826286Z",
          "start_time": "2021-01-25T01:54:00.780972Z"
        },
        "id": "pUArI0P3q9q8"
      },
      "source": [
        "from tensorflow.compat.v1.keras import backend as K\n",
        "\n",
        "session_conf = tf.compat.v1.ConfigProto(intra_op_parallelism_threads=1,\n",
        "                             inter_op_parallelism_threads=1)\n",
        "sess=tf.compat.v1.Session(graph=tf.compat.v1.get_default_graph(),config=session_conf)\n",
        "K.set_session(sess)"
      ],
      "execution_count": 326,
      "outputs": []
    },
    {
      "cell_type": "code",
      "metadata": {
        "ExecuteTime": {
          "end_time": "2021-01-25T01:54:01.331935Z",
          "start_time": "2021-01-25T01:54:01.317971Z"
        },
        "id": "88Z8zIskq9q8"
      },
      "source": [
        "#from keras import backend as K\n",
        "#session_conf = tf.compat.v1.ConfigProto(intra_op_parallelism_threads=1, inter_op_parallelism_threads=1)\n",
        "#sess = tf.compat.v1.Session(graph=tf.compat.v1.get_default_graph(), config=session_conf)\n",
        "#tf.compat.v1.keras.backend.set_session(sess)\n"
      ],
      "execution_count": 327,
      "outputs": []
    },
    {
      "cell_type": "code",
      "metadata": {
        "ExecuteTime": {
          "end_time": "2021-01-25T01:54:02.810348Z",
          "start_time": "2021-01-25T01:54:02.797382Z"
        },
        "id": "Aqk7ufhwq9q8"
      },
      "source": [
        "from sklearn.metrics import mean_squared_error\n",
        "def RMSE(y_test,y_predict):\n",
        "    return np.sqrt(mean_squared_error(y_test,y_predict))"
      ],
      "execution_count": 328,
      "outputs": []
    },
    {
      "cell_type": "markdown",
      "metadata": {
        "id": "_b7JkM922JMT"
      },
      "source": [
        "## 나이브 메소드"
      ]
    },
    {
      "cell_type": "markdown",
      "metadata": {
        "id": "ZRPsJpyM2os6"
      },
      "source": [
        "### 예를 들어 단순히 t 시점에 t - 6 (sampling rate가 5분이므로 30분), t + 1 시점에 t - 5값을 가져오는 naive한 방법"
      ]
    },
    {
      "cell_type": "code",
      "metadata": {
        "id": "d8haBBPH-kwK"
      },
      "source": [
        ""
      ],
      "execution_count": null,
      "outputs": []
    },
    {
      "cell_type": "code",
      "metadata": {
        "ExecuteTime": {
          "end_time": "2021-01-25T01:54:14.533048Z",
          "start_time": "2021-01-25T01:54:14.517090Z"
        },
        "id": "y_NuM1bSq9q9"
      },
      "source": [
        "raw_seq = df['Glucose']\n",
        "#raw_seq=raw_seq.to_numpy(dtype='int64')"
      ],
      "execution_count": 329,
      "outputs": []
    },
    {
      "cell_type": "code",
      "metadata": {
        "id": "Ci_E-knRwXx6"
      },
      "source": [
        "new_list = []\r\n",
        "for i in range(len(raw_seq)):\r\n",
        "  if i < 6:\r\n",
        "    new_list.append(raw_seq[i])\r\n",
        "  else:\r\n",
        "    new_list.append(raw_seq[i-6])\r\n",
        "  \r\n",
        "  \r\n",
        "\r\n",
        "\r\n",
        "  "
      ],
      "execution_count": 330,
      "outputs": []
    },
    {
      "cell_type": "code",
      "metadata": {
        "id": "L2cFgdUlBcmV",
        "colab": {
          "base_uri": "https://localhost:8080/"
        },
        "outputId": "88d96247-5395-49a7-adee-c36dd0f8c89f"
      },
      "source": [
        "len(new_list)"
      ],
      "execution_count": 331,
      "outputs": [
        {
          "output_type": "execute_result",
          "data": {
            "text/plain": [
              "1944"
            ]
          },
          "metadata": {
            "tags": []
          },
          "execution_count": 331
        }
      ]
    },
    {
      "cell_type": "code",
      "metadata": {
        "colab": {
          "base_uri": "https://localhost:8080/"
        },
        "id": "4o0Ug_TTx3a_",
        "outputId": "72121610-21be-4f15-b6ef-8d9dc98cec9b"
      },
      "source": [
        "len(raw_seq)"
      ],
      "execution_count": 125,
      "outputs": [
        {
          "output_type": "execute_result",
          "data": {
            "text/plain": [
              "1045"
            ]
          },
          "metadata": {
            "tags": []
          },
          "execution_count": 125
        }
      ]
    },
    {
      "cell_type": "code",
      "metadata": {
        "colab": {
          "base_uri": "https://localhost:8080/"
        },
        "id": "AwX14ex4yqFx",
        "outputId": "f5a99ca9-af07-4524-b2bb-8b6c65017583"
      },
      "source": [
        "raw_seq[1030:1045]"
      ],
      "execution_count": 132,
      "outputs": [
        {
          "output_type": "execute_result",
          "data": {
            "text/plain": [
              "1030    246.0\n",
              "1031    246.0\n",
              "1032    247.0\n",
              "1033    244.0\n",
              "1034    241.0\n",
              "1035    236.0\n",
              "1036    231.0\n",
              "1037    229.0\n",
              "1038    226.0\n",
              "1039    216.0\n",
              "1040    206.0\n",
              "1041    199.0\n",
              "1042    190.0\n",
              "1043    194.0\n",
              "1044    181.0\n",
              "Name: Glucose, dtype: float64"
            ]
          },
          "metadata": {
            "tags": []
          },
          "execution_count": 132
        }
      ]
    },
    {
      "cell_type": "code",
      "metadata": {
        "colab": {
          "base_uri": "https://localhost:8080/"
        },
        "id": "SrlY_I3fyubK",
        "outputId": "9f4e45b5-33b3-4732-b439-a55835ecff8e"
      },
      "source": [
        "new_list[1030:1045]"
      ],
      "execution_count": 133,
      "outputs": [
        {
          "output_type": "execute_result",
          "data": {
            "text/plain": [
              "[275.0,\n",
              " 265.0,\n",
              " 261.0,\n",
              " 254.0,\n",
              " 251.0,\n",
              " 249.0,\n",
              " 246.0,\n",
              " 246.0,\n",
              " 247.0,\n",
              " 244.0,\n",
              " 241.0,\n",
              " 236.0,\n",
              " 231.0,\n",
              " 229.0,\n",
              " 226.0]"
            ]
          },
          "metadata": {
            "tags": []
          },
          "execution_count": 133
        }
      ]
    },
    {
      "cell_type": "code",
      "metadata": {
        "id": "yBExuZluzlcH"
      },
      "source": [
        "from sklearn.metrics import mean_squared_error\r\n",
        "def RMSE(y_test,y_predict):\r\n",
        "    return np.sqrt(mean_squared_error(y_test,y_predict))"
      ],
      "execution_count": 332,
      "outputs": []
    },
    {
      "cell_type": "code",
      "metadata": {
        "id": "jqQYMYJh0DIi"
      },
      "source": [
        ""
      ],
      "execution_count": null,
      "outputs": []
    },
    {
      "cell_type": "code",
      "metadata": {
        "colab": {
          "base_uri": "https://localhost:8080/"
        },
        "id": "eQgWbtA3ztfJ",
        "outputId": "d2492543-27f8-4555-90df-034581a99c33"
      },
      "source": [
        "# 30분\r\n",
        "RMSE(new_list,raw_seq)"
      ],
      "execution_count": 333,
      "outputs": [
        {
          "output_type": "execute_result",
          "data": {
            "text/plain": [
              "20.054914322364137"
            ]
          },
          "metadata": {
            "tags": []
          },
          "execution_count": 333
        }
      ]
    },
    {
      "cell_type": "code",
      "metadata": {
        "id": "spuRJG9B0FR9"
      },
      "source": [
        "# 15분\r\n",
        "new_list = []\r\n",
        "for i in range(len(raw_seq)):\r\n",
        "  if i < 3:\r\n",
        "    new_list.append(raw_seq[i])\r\n",
        "  else:\r\n",
        "    new_list.append(raw_seq[i-3])\r\n",
        "  \r\n",
        "  \r\n",
        "\r\n",
        "\r\n",
        "  "
      ],
      "execution_count": 334,
      "outputs": []
    },
    {
      "cell_type": "code",
      "metadata": {
        "colab": {
          "base_uri": "https://localhost:8080/"
        },
        "id": "yZ7hLu9l0Ly8",
        "outputId": "12aead35-f94b-42cc-e2f6-4bb1a171afa9"
      },
      "source": [
        "RMSE(new_list,raw_seq)"
      ],
      "execution_count": 335,
      "outputs": [
        {
          "output_type": "execute_result",
          "data": {
            "text/plain": [
              "12.505513187482732"
            ]
          },
          "metadata": {
            "tags": []
          },
          "execution_count": 335
        }
      ]
    },
    {
      "cell_type": "code",
      "metadata": {
        "id": "IH-6vqGA0Nv9"
      },
      "source": [
        "# 60분\r\n",
        "new_list = []\r\n",
        "for i in range(len(raw_seq)):\r\n",
        "  if i < 12:\r\n",
        "    new_list.append(raw_seq[i])\r\n",
        "  else:\r\n",
        "    new_list.append(raw_seq[i-12])\r\n",
        "  "
      ],
      "execution_count": 336,
      "outputs": []
    },
    {
      "cell_type": "code",
      "metadata": {
        "colab": {
          "base_uri": "https://localhost:8080/"
        },
        "id": "E45kbTuj0TKu",
        "outputId": "787d78f9-ccb9-4346-f70a-249cf503015d"
      },
      "source": [
        "RMSE(new_list,raw_seq)"
      ],
      "execution_count": 337,
      "outputs": [
        {
          "output_type": "execute_result",
          "data": {
            "text/plain": [
              "32.272422581195535"
            ]
          },
          "metadata": {
            "tags": []
          },
          "execution_count": 337
        }
      ]
    },
    {
      "cell_type": "code",
      "metadata": {
        "colab": {
          "base_uri": "https://localhost:8080/"
        },
        "id": "SKUh_5RXzEI5",
        "outputId": "9b98d932-bb76-4285-abf9-6813e48ecaac"
      },
      "source": [
        "new_list[1:15]"
      ],
      "execution_count": 120,
      "outputs": [
        {
          "output_type": "execute_result",
          "data": {
            "text/plain": [
              "[120.0,\n",
              " 115.0,\n",
              " 126.0,\n",
              " 135.0,\n",
              " 139.0,\n",
              " 134.0,\n",
              " 120.0,\n",
              " 113.0,\n",
              " 106.0,\n",
              " 101.0,\n",
              " 94.0,\n",
              " 90.0,\n",
              " 88.0,\n",
              " 81.0]"
            ]
          },
          "metadata": {
            "tags": []
          },
          "execution_count": 120
        }
      ]
    },
    {
      "cell_type": "code",
      "metadata": {
        "colab": {
          "base_uri": "https://localhost:8080/"
        },
        "id": "x1PR983YzGZz",
        "outputId": "c8ea1418-144f-4819-9821-632f469c96ee"
      },
      "source": [
        "raw_seq[1:15]"
      ],
      "execution_count": 121,
      "outputs": [
        {
          "output_type": "execute_result",
          "data": {
            "text/plain": [
              "1     120.0\n",
              "2     115.0\n",
              "3     126.0\n",
              "4     135.0\n",
              "5     139.0\n",
              "6     143.0\n",
              "7     150.0\n",
              "8     156.0\n",
              "9     150.0\n",
              "10    144.0\n",
              "11    144.0\n",
              "12    134.0\n",
              "13    120.0\n",
              "14    113.0\n",
              "Name: Glucose, dtype: float64"
            ]
          },
          "metadata": {
            "tags": []
          },
          "execution_count": 121
        }
      ]
    }
  ]
}