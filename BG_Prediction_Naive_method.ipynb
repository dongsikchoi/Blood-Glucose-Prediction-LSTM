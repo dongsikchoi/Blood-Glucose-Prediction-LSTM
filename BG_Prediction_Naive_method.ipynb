{
  "nbformat": 4,
  "nbformat_minor": 0,
  "metadata": {
    "kernelspec": {
      "display_name": "Python 3",
      "language": "python",
      "name": "python3"
    },
    "language_info": {
      "codemirror_mode": {
        "name": "ipython",
        "version": 3
      },
      "file_extension": ".py",
      "mimetype": "text/x-python",
      "name": "python",
      "nbconvert_exporter": "python",
      "pygments_lexer": "ipython3",
      "version": "3.7.7"
    },
    "toc": {
      "base_numbering": 1,
      "nav_menu": {},
      "number_sections": true,
      "sideBar": true,
      "skip_h1_title": false,
      "title_cell": "Table of Contents",
      "title_sidebar": "Contents",
      "toc_cell": false,
      "toc_position": {
        "height": "837px",
        "left": "26px",
        "top": "92px",
        "width": "385px"
      },
      "toc_section_display": true,
      "toc_window_display": true
    },
    "varInspector": {
      "cols": {
        "lenName": 16,
        "lenType": 16,
        "lenVar": 40
      },
      "kernels_config": {
        "python": {
          "delete_cmd_postfix": "",
          "delete_cmd_prefix": "del ",
          "library": "var_list.py",
          "varRefreshCmd": "print(var_dic_list())"
        },
        "r": {
          "delete_cmd_postfix": ") ",
          "delete_cmd_prefix": "rm(",
          "library": "var_list.r",
          "varRefreshCmd": "cat(var_dic_list()) "
        }
      },
      "position": {
        "height": "592px",
        "left": "1521px",
        "right": "20px",
        "top": "128px",
        "width": "401px"
      },
      "types_to_exclude": [
        "module",
        "function",
        "builtin_function_or_method",
        "instance",
        "_Feature"
      ],
      "window_display": false
    },
    "colab": {
      "name": "BG_Prediction_Naive_method.ipynb",
      "provenance": [],
      "collapsed_sections": [
        "tD-xVtSIq9q3"
      ],
      "toc_visible": true
    }
  },
  "cells": [
    {
      "cell_type": "markdown",
      "metadata": {
        "id": "view-in-github"
      },
      "source": [
        "<a href=\"https://colab.research.google.com/github/dongsikchoi/ML_Time-Series_EDA/blob/master/BG_Prediction_Univariate_Filter_X_01_25.ipynb\" target=\"_parent\"><img src=\"https://colab.research.google.com/assets/colab-badge.svg\" alt=\"Open In Colab\"/></a>"
      ]
    },
    {
      "cell_type": "markdown",
      "metadata": {
        "id": "lx196wNwq9qn"
      },
      "source": [
        "### 필요 라이브러리 로드"
      ]
    },
    {
      "cell_type": "code",
      "metadata": {
        "ExecuteTime": {
          "end_time": "2021-01-25T01:11:17.017681Z",
          "start_time": "2021-01-25T01:11:15.594487Z"
        },
        "id": "-7Ts1kTdq9qr"
      },
      "source": [
        "import warnings\n",
        "import itertools\n",
        "import numpy as np\n",
        "import matplotlib.pyplot as plt\n",
        "warnings.filterwarnings(\"ignore\")\n",
        "plt.style.use('fivethirtyeight')\n",
        "import pandas as pd\n",
        "import statsmodels.api as sm\n",
        "import matplotlib\n",
        "\n",
        "matplotlib.rcParams['axes.labelsize']=14\n",
        "matplotlib.rcParams['xtick.labelsize']=12\n",
        "matplotlib.rcParams['ytick.labelsize']=12\n",
        "matplotlib.rcParams['text.color']='k'"
      ],
      "execution_count": 1,
      "outputs": []
    },
    {
      "cell_type": "code",
      "metadata": {
        "id": "0mabAlWoq-4v"
      },
      "source": [
        "# Colab\r\n",
        "#from google.colab import auth\r\n",
        "#auth.authenticate_user()"
      ],
      "execution_count": 2,
      "outputs": []
    },
    {
      "cell_type": "code",
      "metadata": {
        "colab": {
          "base_uri": "https://localhost:8080/"
        },
        "id": "YMukYC78rI9D",
        "outputId": "89d8735a-fc7b-41fd-95d0-3038df2f75d1"
      },
      "source": [
        "from google.colab import drive\n",
        "drive.mount('/content/drive')"
      ],
      "execution_count": 3,
      "outputs": [
        {
          "output_type": "stream",
          "text": [
            "Mounted at /content/drive\n"
          ],
          "name": "stdout"
        }
      ]
    },
    {
      "cell_type": "code",
      "metadata": {
        "ExecuteTime": {
          "end_time": "2021-01-25T01:11:17.033638Z",
          "start_time": "2021-01-25T01:11:17.021672Z"
        },
        "id": "v-JGa4Mfq9qs"
      },
      "source": [
        "pd.set_option('display.max_columns',500) \n",
        "#출력시 생략 X"
      ],
      "execution_count": 4,
      "outputs": []
    },
    {
      "cell_type": "markdown",
      "metadata": {
        "id": "1DTmoDOkq9qs"
      },
      "source": [
        "### 데이터셋 설정 "
      ]
    },
    {
      "cell_type": "code",
      "metadata": {
        "ExecuteTime": {
          "end_time": "2021-01-25T01:51:11.992775Z",
          "start_time": "2021-01-25T01:51:11.855142Z"
        },
        "id": "2iPg6upoq9qt"
      },
      "source": [
        "#df=pd.read_excel(\"BG_Dataset/BG_sample27.xlsx\")"
      ],
      "execution_count": 5,
      "outputs": []
    },
    {
      "cell_type": "code",
      "metadata": {
        "id": "mvp2qFY6rUd3"
      },
      "source": [
        "# Colab\r\n",
        "df = pd.read_excel(\"/content/drive/MyDrive/BG_Dataset/BG_sample1.xlsx\")\r\n",
        "#df = pd.read_csv(\"/content/drive/MyDrive/BG_Dataset/BG_Sample46.csv\")\r\n"
      ],
      "execution_count": 6,
      "outputs": []
    },
    {
      "cell_type": "code",
      "metadata": {
        "ExecuteTime": {
          "end_time": "2021-01-25T01:51:14.576866Z",
          "start_time": "2021-01-25T01:51:14.562904Z"
        },
        "colab": {
          "base_uri": "https://localhost:8080/"
        },
        "id": "WR0-r_OUq9qt",
        "outputId": "c1097ea9-e7de-4657-b685-f7c5c779b463"
      },
      "source": [
        "df.shape"
      ],
      "execution_count": 7,
      "outputs": [
        {
          "output_type": "execute_result",
          "data": {
            "text/plain": [
              "(1055, 14)"
            ]
          },
          "metadata": {
            "tags": []
          },
          "execution_count": 7
        }
      ]
    },
    {
      "cell_type": "code",
      "metadata": {
        "ExecuteTime": {
          "end_time": "2021-01-25T01:51:16.523597Z",
          "start_time": "2021-01-25T01:51:16.508638Z"
        },
        "colab": {
          "base_uri": "https://localhost:8080/",
          "height": 452
        },
        "id": "NUfEWB3Oq9qu",
        "outputId": "a814c106-2a24-4b78-b1ee-884fea844beb"
      },
      "source": [
        "df.head(13)"
      ],
      "execution_count": 8,
      "outputs": [
        {
          "output_type": "execute_result",
          "data": {
            "text/html": [
              "<div>\n",
              "<style scoped>\n",
              "    .dataframe tbody tr th:only-of-type {\n",
              "        vertical-align: middle;\n",
              "    }\n",
              "\n",
              "    .dataframe tbody tr th {\n",
              "        vertical-align: top;\n",
              "    }\n",
              "\n",
              "    .dataframe thead th {\n",
              "        text-align: right;\n",
              "    }\n",
              "</style>\n",
              "<table border=\"1\" class=\"dataframe\">\n",
              "  <thead>\n",
              "    <tr style=\"text-align: right;\">\n",
              "      <th></th>\n",
              "      <th>색인</th>\n",
              "      <th>타임스탬프(YYYY-MM-DDThh:mm:ss)</th>\n",
              "      <th>이벤트 유형</th>\n",
              "      <th>이벤트 하위 유형</th>\n",
              "      <th>환자 정보</th>\n",
              "      <th>장치 정보</th>\n",
              "      <th>소스 장치 ID</th>\n",
              "      <th>포도당 값 (mg/dL)</th>\n",
              "      <th>인슐린 값(u)</th>\n",
              "      <th>탄수화물 값 (그램)</th>\n",
              "      <th>기간(hh:mm:ss)</th>\n",
              "      <th>포도당 변화율 (mg/dL/min)</th>\n",
              "      <th>트랜스미터 시간 (배장 정수)</th>\n",
              "      <th>트랜스미터 ID</th>\n",
              "    </tr>\n",
              "  </thead>\n",
              "  <tbody>\n",
              "    <tr>\n",
              "      <th>0</th>\n",
              "      <td>1</td>\n",
              "      <td>NaN</td>\n",
              "      <td>이름</td>\n",
              "      <td>NaN</td>\n",
              "      <td>sch</td>\n",
              "      <td>NaN</td>\n",
              "      <td>NaN</td>\n",
              "      <td>NaN</td>\n",
              "      <td>NaN</td>\n",
              "      <td>NaN</td>\n",
              "      <td>NaN</td>\n",
              "      <td>NaN</td>\n",
              "      <td>NaN</td>\n",
              "      <td>NaN</td>\n",
              "    </tr>\n",
              "    <tr>\n",
              "      <th>1</th>\n",
              "      <td>2</td>\n",
              "      <td>NaN</td>\n",
              "      <td>성</td>\n",
              "      <td>NaN</td>\n",
              "      <td>s</td>\n",
              "      <td>NaN</td>\n",
              "      <td>NaN</td>\n",
              "      <td>NaN</td>\n",
              "      <td>NaN</td>\n",
              "      <td>NaN</td>\n",
              "      <td>NaN</td>\n",
              "      <td>NaN</td>\n",
              "      <td>NaN</td>\n",
              "      <td>NaN</td>\n",
              "    </tr>\n",
              "    <tr>\n",
              "      <th>2</th>\n",
              "      <td>3</td>\n",
              "      <td>NaN</td>\n",
              "      <td>생년월일</td>\n",
              "      <td>NaN</td>\n",
              "      <td>1990-01-01 00:00:00</td>\n",
              "      <td>NaN</td>\n",
              "      <td>NaN</td>\n",
              "      <td>NaN</td>\n",
              "      <td>NaN</td>\n",
              "      <td>NaN</td>\n",
              "      <td>NaN</td>\n",
              "      <td>NaN</td>\n",
              "      <td>NaN</td>\n",
              "      <td>NaN</td>\n",
              "    </tr>\n",
              "    <tr>\n",
              "      <th>3</th>\n",
              "      <td>4</td>\n",
              "      <td>NaN</td>\n",
              "      <td>장치</td>\n",
              "      <td>NaN</td>\n",
              "      <td>NaN</td>\n",
              "      <td>Dexcom G5 Mobile App</td>\n",
              "      <td>Android</td>\n",
              "      <td>NaN</td>\n",
              "      <td>NaN</td>\n",
              "      <td>NaN</td>\n",
              "      <td>NaN</td>\n",
              "      <td>NaN</td>\n",
              "      <td>NaN</td>\n",
              "      <td>NaN</td>\n",
              "    </tr>\n",
              "    <tr>\n",
              "      <th>4</th>\n",
              "      <td>5</td>\n",
              "      <td>NaN</td>\n",
              "      <td>경고</td>\n",
              "      <td>하락</td>\n",
              "      <td>NaN</td>\n",
              "      <td>NaN</td>\n",
              "      <td>Android</td>\n",
              "      <td>NaN</td>\n",
              "      <td>NaN</td>\n",
              "      <td>NaN</td>\n",
              "      <td>NaN</td>\n",
              "      <td>3.0</td>\n",
              "      <td>NaN</td>\n",
              "      <td>NaN</td>\n",
              "    </tr>\n",
              "    <tr>\n",
              "      <th>5</th>\n",
              "      <td>6</td>\n",
              "      <td>NaN</td>\n",
              "      <td>경고</td>\n",
              "      <td>높음</td>\n",
              "      <td>NaN</td>\n",
              "      <td>NaN</td>\n",
              "      <td>Android</td>\n",
              "      <td>400.0</td>\n",
              "      <td>NaN</td>\n",
              "      <td>NaN</td>\n",
              "      <td>NaN</td>\n",
              "      <td>NaN</td>\n",
              "      <td>NaN</td>\n",
              "      <td>NaN</td>\n",
              "    </tr>\n",
              "    <tr>\n",
              "      <th>6</th>\n",
              "      <td>7</td>\n",
              "      <td>NaN</td>\n",
              "      <td>경고</td>\n",
              "      <td>낮음</td>\n",
              "      <td>NaN</td>\n",
              "      <td>NaN</td>\n",
              "      <td>Android</td>\n",
              "      <td>60.0</td>\n",
              "      <td>NaN</td>\n",
              "      <td>NaN</td>\n",
              "      <td>NaN</td>\n",
              "      <td>NaN</td>\n",
              "      <td>NaN</td>\n",
              "      <td>NaN</td>\n",
              "    </tr>\n",
              "    <tr>\n",
              "      <th>7</th>\n",
              "      <td>8</td>\n",
              "      <td>NaN</td>\n",
              "      <td>경고</td>\n",
              "      <td>신호 손실</td>\n",
              "      <td>NaN</td>\n",
              "      <td>NaN</td>\n",
              "      <td>Android</td>\n",
              "      <td>NaN</td>\n",
              "      <td>NaN</td>\n",
              "      <td>NaN</td>\n",
              "      <td>00:30:00</td>\n",
              "      <td>NaN</td>\n",
              "      <td>NaN</td>\n",
              "      <td>NaN</td>\n",
              "    </tr>\n",
              "    <tr>\n",
              "      <th>8</th>\n",
              "      <td>9</td>\n",
              "      <td>NaN</td>\n",
              "      <td>경고</td>\n",
              "      <td>상승</td>\n",
              "      <td>NaN</td>\n",
              "      <td>NaN</td>\n",
              "      <td>Android</td>\n",
              "      <td>NaN</td>\n",
              "      <td>NaN</td>\n",
              "      <td>NaN</td>\n",
              "      <td>NaN</td>\n",
              "      <td>3.0</td>\n",
              "      <td>NaN</td>\n",
              "      <td>NaN</td>\n",
              "    </tr>\n",
              "    <tr>\n",
              "      <th>9</th>\n",
              "      <td>10</td>\n",
              "      <td>NaN</td>\n",
              "      <td>경고</td>\n",
              "      <td>매우 낮음</td>\n",
              "      <td>NaN</td>\n",
              "      <td>NaN</td>\n",
              "      <td>Android</td>\n",
              "      <td>55.0</td>\n",
              "      <td>NaN</td>\n",
              "      <td>NaN</td>\n",
              "      <td>NaN</td>\n",
              "      <td>NaN</td>\n",
              "      <td>NaN</td>\n",
              "      <td>NaN</td>\n",
              "    </tr>\n",
              "    <tr>\n",
              "      <th>10</th>\n",
              "      <td>11</td>\n",
              "      <td>2019-05-07T16:07:41</td>\n",
              "      <td>교정</td>\n",
              "      <td>NaN</td>\n",
              "      <td>NaN</td>\n",
              "      <td>NaN</td>\n",
              "      <td>Android</td>\n",
              "      <td>120.0</td>\n",
              "      <td>NaN</td>\n",
              "      <td>NaN</td>\n",
              "      <td>NaN</td>\n",
              "      <td>NaN</td>\n",
              "      <td>NaN</td>\n",
              "      <td>40EPTP</td>\n",
              "    </tr>\n",
              "    <tr>\n",
              "      <th>11</th>\n",
              "      <td>12</td>\n",
              "      <td>2019-05-07T16:07:54</td>\n",
              "      <td>교정</td>\n",
              "      <td>NaN</td>\n",
              "      <td>NaN</td>\n",
              "      <td>NaN</td>\n",
              "      <td>Android</td>\n",
              "      <td>120.0</td>\n",
              "      <td>NaN</td>\n",
              "      <td>NaN</td>\n",
              "      <td>NaN</td>\n",
              "      <td>NaN</td>\n",
              "      <td>NaN</td>\n",
              "      <td>40EPTP</td>\n",
              "    </tr>\n",
              "    <tr>\n",
              "      <th>12</th>\n",
              "      <td>13</td>\n",
              "      <td>2019-05-07T16:12:56</td>\n",
              "      <td>EGV</td>\n",
              "      <td>NaN</td>\n",
              "      <td>NaN</td>\n",
              "      <td>NaN</td>\n",
              "      <td>Android</td>\n",
              "      <td>115.0</td>\n",
              "      <td>NaN</td>\n",
              "      <td>NaN</td>\n",
              "      <td>NaN</td>\n",
              "      <td>NaN</td>\n",
              "      <td>1836247.0</td>\n",
              "      <td>40EPTP</td>\n",
              "    </tr>\n",
              "  </tbody>\n",
              "</table>\n",
              "</div>"
            ],
            "text/plain": [
              "    색인 타임스탬프(YYYY-MM-DDThh:mm:ss) 이벤트 유형 이벤트 하위 유형                환자 정보  \\\n",
              "0    1                        NaN     이름       NaN                  sch   \n",
              "1    2                        NaN      성       NaN                    s   \n",
              "2    3                        NaN   생년월일       NaN  1990-01-01 00:00:00   \n",
              "3    4                        NaN     장치       NaN                  NaN   \n",
              "4    5                        NaN     경고        하락                  NaN   \n",
              "5    6                        NaN     경고        높음                  NaN   \n",
              "6    7                        NaN     경고        낮음                  NaN   \n",
              "7    8                        NaN     경고     신호 손실                  NaN   \n",
              "8    9                        NaN     경고        상승                  NaN   \n",
              "9   10                        NaN     경고     매우 낮음                  NaN   \n",
              "10  11        2019-05-07T16:07:41     교정       NaN                  NaN   \n",
              "11  12        2019-05-07T16:07:54     교정       NaN                  NaN   \n",
              "12  13        2019-05-07T16:12:56    EGV       NaN                  NaN   \n",
              "\n",
              "                   장치 정보 소스 장치 ID  포도당 값 (mg/dL)  인슐린 값(u)  탄수화물 값 (그램)  \\\n",
              "0                    NaN      NaN            NaN       NaN          NaN   \n",
              "1                    NaN      NaN            NaN       NaN          NaN   \n",
              "2                    NaN      NaN            NaN       NaN          NaN   \n",
              "3   Dexcom G5 Mobile App  Android            NaN       NaN          NaN   \n",
              "4                    NaN  Android            NaN       NaN          NaN   \n",
              "5                    NaN  Android          400.0       NaN          NaN   \n",
              "6                    NaN  Android           60.0       NaN          NaN   \n",
              "7                    NaN  Android            NaN       NaN          NaN   \n",
              "8                    NaN  Android            NaN       NaN          NaN   \n",
              "9                    NaN  Android           55.0       NaN          NaN   \n",
              "10                   NaN  Android          120.0       NaN          NaN   \n",
              "11                   NaN  Android          120.0       NaN          NaN   \n",
              "12                   NaN  Android          115.0       NaN          NaN   \n",
              "\n",
              "   기간(hh:mm:ss)  포도당 변화율 (mg/dL/min)  트랜스미터 시간 (배장 정수) 트랜스미터 ID  \n",
              "0           NaN                  NaN               NaN      NaN  \n",
              "1           NaN                  NaN               NaN      NaN  \n",
              "2           NaN                  NaN               NaN      NaN  \n",
              "3           NaN                  NaN               NaN      NaN  \n",
              "4           NaN                  3.0               NaN      NaN  \n",
              "5           NaN                  NaN               NaN      NaN  \n",
              "6           NaN                  NaN               NaN      NaN  \n",
              "7      00:30:00                  NaN               NaN      NaN  \n",
              "8           NaN                  3.0               NaN      NaN  \n",
              "9           NaN                  NaN               NaN      NaN  \n",
              "10          NaN                  NaN               NaN   40EPTP  \n",
              "11          NaN                  NaN               NaN   40EPTP  \n",
              "12          NaN                  NaN         1836247.0   40EPTP  "
            ]
          },
          "metadata": {
            "tags": []
          },
          "execution_count": 8
        }
      ]
    },
    {
      "cell_type": "code",
      "metadata": {
        "ExecuteTime": {
          "end_time": "2021-01-25T01:51:16.538557Z",
          "start_time": "2021-01-25T01:51:16.525593Z"
        },
        "id": "ffJCYqbfq9qu"
      },
      "source": [
        "#필요없는 열 제거\n",
        "cols = ['색인', '이벤트 하위 유형', '환자 정보', '장치 정보', '소스 장치 ID', '기간(hh:mm:ss)', '포도당 변화율 (mg/dL/min)', '트랜스미터 시간 (배장 정수)', '트랜스미터 ID']\n",
        "df.drop(cols, axis=1, inplace=True)\n"
      ],
      "execution_count": 9,
      "outputs": []
    },
    {
      "cell_type": "code",
      "metadata": {
        "ExecuteTime": {
          "end_time": "2021-01-25T01:51:19.726562Z",
          "start_time": "2021-01-25T01:51:19.711592Z"
        },
        "id": "zBXR3xmWq9qu"
      },
      "source": [
        "df=df.rename({'타임스탬프(YYYY-MM-DDThh:mm:ss)':'Timestamp','포도당 값 (mg/dL)':'Glucose','이벤트 유형':'Event',\n",
        "             '인슐린 값(u)':'Insulin','탄수화물 값 (그램)':'Meal'},axis='columns')"
      ],
      "execution_count": 10,
      "outputs": []
    },
    {
      "cell_type": "code",
      "metadata": {
        "ExecuteTime": {
          "end_time": "2021-01-25T01:51:21.609517Z",
          "start_time": "2021-01-25T01:51:21.594557Z"
        },
        "colab": {
          "base_uri": "https://localhost:8080/"
        },
        "id": "P1FIKbkoq9qv",
        "outputId": "2eb3f793-03fc-4321-8398-94a17ece361f"
      },
      "source": [
        "df['Event'].value_counts()"
      ],
      "execution_count": 11,
      "outputs": [
        {
          "output_type": "execute_result",
          "data": {
            "text/plain": [
              "EGV     1031\n",
              "교정        14\n",
              "경고         6\n",
              "성          1\n",
              "생년월일       1\n",
              "이름         1\n",
              "장치         1\n",
              "Name: Event, dtype: int64"
            ]
          },
          "metadata": {
            "tags": []
          },
          "execution_count": 11
        }
      ]
    },
    {
      "cell_type": "code",
      "metadata": {
        "ExecuteTime": {
          "end_time": "2021-01-25T01:51:21.856856Z",
          "start_time": "2021-01-25T01:51:21.841897Z"
        },
        "colab": {
          "base_uri": "https://localhost:8080/"
        },
        "id": "O09mun7lq9qv",
        "outputId": "1b1232d3-6018-4a4e-c951-465d133f032b"
      },
      "source": [
        "df['Glucose'].value_counts()"
      ],
      "execution_count": 12,
      "outputs": [
        {
          "output_type": "execute_result",
          "data": {
            "text/plain": [
              "160.0    25\n",
              "133.0    23\n",
              "144.0    18\n",
              "142.0    17\n",
              "163.0    17\n",
              "         ..\n",
              "338.0     1\n",
              "229.0     1\n",
              "305.0     1\n",
              "399.0     1\n",
              "243.0     1\n",
              "Name: Glucose, Length: 223, dtype: int64"
            ]
          },
          "metadata": {
            "tags": []
          },
          "execution_count": 12
        }
      ]
    },
    {
      "cell_type": "code",
      "metadata": {
        "ExecuteTime": {
          "end_time": "2021-01-25T01:51:26.308136Z",
          "start_time": "2021-01-25T01:51:26.293177Z"
        },
        "colab": {
          "base_uri": "https://localhost:8080/",
          "height": 204
        },
        "id": "ptjIo4sYq9qv",
        "outputId": "bf87a91a-dd6b-4605-d7c1-eed2229871e0"
      },
      "source": [
        "df.tail()"
      ],
      "execution_count": 13,
      "outputs": [
        {
          "output_type": "execute_result",
          "data": {
            "text/html": [
              "<div>\n",
              "<style scoped>\n",
              "    .dataframe tbody tr th:only-of-type {\n",
              "        vertical-align: middle;\n",
              "    }\n",
              "\n",
              "    .dataframe tbody tr th {\n",
              "        vertical-align: top;\n",
              "    }\n",
              "\n",
              "    .dataframe thead th {\n",
              "        text-align: right;\n",
              "    }\n",
              "</style>\n",
              "<table border=\"1\" class=\"dataframe\">\n",
              "  <thead>\n",
              "    <tr style=\"text-align: right;\">\n",
              "      <th></th>\n",
              "      <th>Timestamp</th>\n",
              "      <th>Event</th>\n",
              "      <th>Glucose</th>\n",
              "      <th>Insulin</th>\n",
              "      <th>Meal</th>\n",
              "    </tr>\n",
              "  </thead>\n",
              "  <tbody>\n",
              "    <tr>\n",
              "      <th>1050</th>\n",
              "      <td>2019-05-11T23:42:33</td>\n",
              "      <td>EGV</td>\n",
              "      <td>206.0</td>\n",
              "      <td>NaN</td>\n",
              "      <td>NaN</td>\n",
              "    </tr>\n",
              "    <tr>\n",
              "      <th>1051</th>\n",
              "      <td>2019-05-11T23:47:34</td>\n",
              "      <td>EGV</td>\n",
              "      <td>199.0</td>\n",
              "      <td>NaN</td>\n",
              "      <td>NaN</td>\n",
              "    </tr>\n",
              "    <tr>\n",
              "      <th>1052</th>\n",
              "      <td>2019-05-11T23:52:33</td>\n",
              "      <td>EGV</td>\n",
              "      <td>190.0</td>\n",
              "      <td>NaN</td>\n",
              "      <td>NaN</td>\n",
              "    </tr>\n",
              "    <tr>\n",
              "      <th>1053</th>\n",
              "      <td>2019-05-11T23:57:33</td>\n",
              "      <td>EGV</td>\n",
              "      <td>194.0</td>\n",
              "      <td>NaN</td>\n",
              "      <td>NaN</td>\n",
              "    </tr>\n",
              "    <tr>\n",
              "      <th>1054</th>\n",
              "      <td>2019-05-12T00:02:33</td>\n",
              "      <td>EGV</td>\n",
              "      <td>181.0</td>\n",
              "      <td>NaN</td>\n",
              "      <td>NaN</td>\n",
              "    </tr>\n",
              "  </tbody>\n",
              "</table>\n",
              "</div>"
            ],
            "text/plain": [
              "                Timestamp Event  Glucose  Insulin  Meal\n",
              "1050  2019-05-11T23:42:33   EGV    206.0      NaN   NaN\n",
              "1051  2019-05-11T23:47:34   EGV    199.0      NaN   NaN\n",
              "1052  2019-05-11T23:52:33   EGV    190.0      NaN   NaN\n",
              "1053  2019-05-11T23:57:33   EGV    194.0      NaN   NaN\n",
              "1054  2019-05-12T00:02:33   EGV    181.0      NaN   NaN"
            ]
          },
          "metadata": {
            "tags": []
          },
          "execution_count": 13
        }
      ]
    },
    {
      "cell_type": "code",
      "metadata": {
        "ExecuteTime": {
          "end_time": "2021-01-25T01:51:28.257217Z",
          "start_time": "2021-01-25T01:51:28.243254Z"
        },
        "colab": {
          "base_uri": "https://localhost:8080/"
        },
        "id": "37jYwbU0q9qv",
        "outputId": "364a08fd-39d7-4cfc-fe00-2d10fb27134a"
      },
      "source": [
        "# 인슐린 투여횟수\n",
        "df['Insulin'].value_counts()"
      ],
      "execution_count": 14,
      "outputs": [
        {
          "output_type": "execute_result",
          "data": {
            "text/plain": [
              "Series([], Name: Insulin, dtype: int64)"
            ]
          },
          "metadata": {
            "tags": []
          },
          "execution_count": 14
        }
      ]
    },
    {
      "cell_type": "code",
      "metadata": {
        "ExecuteTime": {
          "end_time": "2021-01-25T01:51:30.174549Z",
          "start_time": "2021-01-25T01:51:30.160585Z"
        },
        "colab": {
          "base_uri": "https://localhost:8080/"
        },
        "id": "LmVKw59bq9qv",
        "outputId": "b1fd47e5-590f-4eba-c6d4-d3efb81fa248"
      },
      "source": [
        "# 식사 횟수\n",
        "df['Meal'].value_counts()"
      ],
      "execution_count": 15,
      "outputs": [
        {
          "output_type": "execute_result",
          "data": {
            "text/plain": [
              "Series([], Name: Meal, dtype: int64)"
            ]
          },
          "metadata": {
            "tags": []
          },
          "execution_count": 15
        }
      ]
    },
    {
      "cell_type": "code",
      "metadata": {
        "ExecuteTime": {
          "end_time": "2021-01-25T01:51:32.245847Z",
          "start_time": "2021-01-25T01:51:32.230887Z"
        },
        "colab": {
          "base_uri": "https://localhost:8080/",
          "height": 514
        },
        "id": "lMmVyYYcq9qw",
        "outputId": "0bd02c21-dee5-468f-a51d-ac004447bd2a"
      },
      "source": [
        "df.head(15)"
      ],
      "execution_count": 16,
      "outputs": [
        {
          "output_type": "execute_result",
          "data": {
            "text/html": [
              "<div>\n",
              "<style scoped>\n",
              "    .dataframe tbody tr th:only-of-type {\n",
              "        vertical-align: middle;\n",
              "    }\n",
              "\n",
              "    .dataframe tbody tr th {\n",
              "        vertical-align: top;\n",
              "    }\n",
              "\n",
              "    .dataframe thead th {\n",
              "        text-align: right;\n",
              "    }\n",
              "</style>\n",
              "<table border=\"1\" class=\"dataframe\">\n",
              "  <thead>\n",
              "    <tr style=\"text-align: right;\">\n",
              "      <th></th>\n",
              "      <th>Timestamp</th>\n",
              "      <th>Event</th>\n",
              "      <th>Glucose</th>\n",
              "      <th>Insulin</th>\n",
              "      <th>Meal</th>\n",
              "    </tr>\n",
              "  </thead>\n",
              "  <tbody>\n",
              "    <tr>\n",
              "      <th>0</th>\n",
              "      <td>NaN</td>\n",
              "      <td>이름</td>\n",
              "      <td>NaN</td>\n",
              "      <td>NaN</td>\n",
              "      <td>NaN</td>\n",
              "    </tr>\n",
              "    <tr>\n",
              "      <th>1</th>\n",
              "      <td>NaN</td>\n",
              "      <td>성</td>\n",
              "      <td>NaN</td>\n",
              "      <td>NaN</td>\n",
              "      <td>NaN</td>\n",
              "    </tr>\n",
              "    <tr>\n",
              "      <th>2</th>\n",
              "      <td>NaN</td>\n",
              "      <td>생년월일</td>\n",
              "      <td>NaN</td>\n",
              "      <td>NaN</td>\n",
              "      <td>NaN</td>\n",
              "    </tr>\n",
              "    <tr>\n",
              "      <th>3</th>\n",
              "      <td>NaN</td>\n",
              "      <td>장치</td>\n",
              "      <td>NaN</td>\n",
              "      <td>NaN</td>\n",
              "      <td>NaN</td>\n",
              "    </tr>\n",
              "    <tr>\n",
              "      <th>4</th>\n",
              "      <td>NaN</td>\n",
              "      <td>경고</td>\n",
              "      <td>NaN</td>\n",
              "      <td>NaN</td>\n",
              "      <td>NaN</td>\n",
              "    </tr>\n",
              "    <tr>\n",
              "      <th>5</th>\n",
              "      <td>NaN</td>\n",
              "      <td>경고</td>\n",
              "      <td>400.0</td>\n",
              "      <td>NaN</td>\n",
              "      <td>NaN</td>\n",
              "    </tr>\n",
              "    <tr>\n",
              "      <th>6</th>\n",
              "      <td>NaN</td>\n",
              "      <td>경고</td>\n",
              "      <td>60.0</td>\n",
              "      <td>NaN</td>\n",
              "      <td>NaN</td>\n",
              "    </tr>\n",
              "    <tr>\n",
              "      <th>7</th>\n",
              "      <td>NaN</td>\n",
              "      <td>경고</td>\n",
              "      <td>NaN</td>\n",
              "      <td>NaN</td>\n",
              "      <td>NaN</td>\n",
              "    </tr>\n",
              "    <tr>\n",
              "      <th>8</th>\n",
              "      <td>NaN</td>\n",
              "      <td>경고</td>\n",
              "      <td>NaN</td>\n",
              "      <td>NaN</td>\n",
              "      <td>NaN</td>\n",
              "    </tr>\n",
              "    <tr>\n",
              "      <th>9</th>\n",
              "      <td>NaN</td>\n",
              "      <td>경고</td>\n",
              "      <td>55.0</td>\n",
              "      <td>NaN</td>\n",
              "      <td>NaN</td>\n",
              "    </tr>\n",
              "    <tr>\n",
              "      <th>10</th>\n",
              "      <td>2019-05-07T16:07:41</td>\n",
              "      <td>교정</td>\n",
              "      <td>120.0</td>\n",
              "      <td>NaN</td>\n",
              "      <td>NaN</td>\n",
              "    </tr>\n",
              "    <tr>\n",
              "      <th>11</th>\n",
              "      <td>2019-05-07T16:07:54</td>\n",
              "      <td>교정</td>\n",
              "      <td>120.0</td>\n",
              "      <td>NaN</td>\n",
              "      <td>NaN</td>\n",
              "    </tr>\n",
              "    <tr>\n",
              "      <th>12</th>\n",
              "      <td>2019-05-07T16:12:56</td>\n",
              "      <td>EGV</td>\n",
              "      <td>115.0</td>\n",
              "      <td>NaN</td>\n",
              "      <td>NaN</td>\n",
              "    </tr>\n",
              "    <tr>\n",
              "      <th>13</th>\n",
              "      <td>2019-05-07T16:17:47</td>\n",
              "      <td>EGV</td>\n",
              "      <td>126.0</td>\n",
              "      <td>NaN</td>\n",
              "      <td>NaN</td>\n",
              "    </tr>\n",
              "    <tr>\n",
              "      <th>14</th>\n",
              "      <td>2019-05-07T16:22:47</td>\n",
              "      <td>EGV</td>\n",
              "      <td>135.0</td>\n",
              "      <td>NaN</td>\n",
              "      <td>NaN</td>\n",
              "    </tr>\n",
              "  </tbody>\n",
              "</table>\n",
              "</div>"
            ],
            "text/plain": [
              "              Timestamp Event  Glucose  Insulin  Meal\n",
              "0                   NaN    이름      NaN      NaN   NaN\n",
              "1                   NaN     성      NaN      NaN   NaN\n",
              "2                   NaN  생년월일      NaN      NaN   NaN\n",
              "3                   NaN    장치      NaN      NaN   NaN\n",
              "4                   NaN    경고      NaN      NaN   NaN\n",
              "5                   NaN    경고    400.0      NaN   NaN\n",
              "6                   NaN    경고     60.0      NaN   NaN\n",
              "7                   NaN    경고      NaN      NaN   NaN\n",
              "8                   NaN    경고      NaN      NaN   NaN\n",
              "9                   NaN    경고     55.0      NaN   NaN\n",
              "10  2019-05-07T16:07:41    교정    120.0      NaN   NaN\n",
              "11  2019-05-07T16:07:54    교정    120.0      NaN   NaN\n",
              "12  2019-05-07T16:12:56   EGV    115.0      NaN   NaN\n",
              "13  2019-05-07T16:17:47   EGV    126.0      NaN   NaN\n",
              "14  2019-05-07T16:22:47   EGV    135.0      NaN   NaN"
            ]
          },
          "metadata": {
            "tags": []
          },
          "execution_count": 16
        }
      ]
    },
    {
      "cell_type": "code",
      "metadata": {
        "ExecuteTime": {
          "end_time": "2021-01-25T01:51:32.261804Z",
          "start_time": "2021-01-25T01:51:32.246845Z"
        },
        "id": "WAanR7Flq9qw"
      },
      "source": [
        "# Timestamp != NaN일 때까지 count하고 \n",
        "# Nan에 해당하는 인스턴스 제거 \n",
        "df=df.dropna(subset=['Timestamp'])"
      ],
      "execution_count": 17,
      "outputs": []
    },
    {
      "cell_type": "code",
      "metadata": {
        "ExecuteTime": {
          "end_time": "2021-01-25T01:51:36.348768Z",
          "start_time": "2021-01-25T01:51:36.334807Z"
        },
        "colab": {
          "base_uri": "https://localhost:8080/",
          "height": 669
        },
        "id": "Ndq-UYgBq9qw",
        "outputId": "307d703f-9847-4aa6-9f6e-0b8a13e099b7"
      },
      "source": [
        "df.head(20)"
      ],
      "execution_count": 18,
      "outputs": [
        {
          "output_type": "execute_result",
          "data": {
            "text/html": [
              "<div>\n",
              "<style scoped>\n",
              "    .dataframe tbody tr th:only-of-type {\n",
              "        vertical-align: middle;\n",
              "    }\n",
              "\n",
              "    .dataframe tbody tr th {\n",
              "        vertical-align: top;\n",
              "    }\n",
              "\n",
              "    .dataframe thead th {\n",
              "        text-align: right;\n",
              "    }\n",
              "</style>\n",
              "<table border=\"1\" class=\"dataframe\">\n",
              "  <thead>\n",
              "    <tr style=\"text-align: right;\">\n",
              "      <th></th>\n",
              "      <th>Timestamp</th>\n",
              "      <th>Event</th>\n",
              "      <th>Glucose</th>\n",
              "      <th>Insulin</th>\n",
              "      <th>Meal</th>\n",
              "    </tr>\n",
              "  </thead>\n",
              "  <tbody>\n",
              "    <tr>\n",
              "      <th>10</th>\n",
              "      <td>2019-05-07T16:07:41</td>\n",
              "      <td>교정</td>\n",
              "      <td>120.0</td>\n",
              "      <td>NaN</td>\n",
              "      <td>NaN</td>\n",
              "    </tr>\n",
              "    <tr>\n",
              "      <th>11</th>\n",
              "      <td>2019-05-07T16:07:54</td>\n",
              "      <td>교정</td>\n",
              "      <td>120.0</td>\n",
              "      <td>NaN</td>\n",
              "      <td>NaN</td>\n",
              "    </tr>\n",
              "    <tr>\n",
              "      <th>12</th>\n",
              "      <td>2019-05-07T16:12:56</td>\n",
              "      <td>EGV</td>\n",
              "      <td>115.0</td>\n",
              "      <td>NaN</td>\n",
              "      <td>NaN</td>\n",
              "    </tr>\n",
              "    <tr>\n",
              "      <th>13</th>\n",
              "      <td>2019-05-07T16:17:47</td>\n",
              "      <td>EGV</td>\n",
              "      <td>126.0</td>\n",
              "      <td>NaN</td>\n",
              "      <td>NaN</td>\n",
              "    </tr>\n",
              "    <tr>\n",
              "      <th>14</th>\n",
              "      <td>2019-05-07T16:22:47</td>\n",
              "      <td>EGV</td>\n",
              "      <td>135.0</td>\n",
              "      <td>NaN</td>\n",
              "      <td>NaN</td>\n",
              "    </tr>\n",
              "    <tr>\n",
              "      <th>15</th>\n",
              "      <td>2019-05-07T16:27:48</td>\n",
              "      <td>EGV</td>\n",
              "      <td>139.0</td>\n",
              "      <td>NaN</td>\n",
              "      <td>NaN</td>\n",
              "    </tr>\n",
              "    <tr>\n",
              "      <th>16</th>\n",
              "      <td>2019-05-07T16:32:48</td>\n",
              "      <td>EGV</td>\n",
              "      <td>143.0</td>\n",
              "      <td>NaN</td>\n",
              "      <td>NaN</td>\n",
              "    </tr>\n",
              "    <tr>\n",
              "      <th>17</th>\n",
              "      <td>2019-05-07T16:37:48</td>\n",
              "      <td>EGV</td>\n",
              "      <td>150.0</td>\n",
              "      <td>NaN</td>\n",
              "      <td>NaN</td>\n",
              "    </tr>\n",
              "    <tr>\n",
              "      <th>18</th>\n",
              "      <td>2019-05-07T16:42:48</td>\n",
              "      <td>EGV</td>\n",
              "      <td>156.0</td>\n",
              "      <td>NaN</td>\n",
              "      <td>NaN</td>\n",
              "    </tr>\n",
              "    <tr>\n",
              "      <th>19</th>\n",
              "      <td>2019-05-07T16:47:47</td>\n",
              "      <td>EGV</td>\n",
              "      <td>150.0</td>\n",
              "      <td>NaN</td>\n",
              "      <td>NaN</td>\n",
              "    </tr>\n",
              "    <tr>\n",
              "      <th>20</th>\n",
              "      <td>2019-05-07T16:52:48</td>\n",
              "      <td>EGV</td>\n",
              "      <td>144.0</td>\n",
              "      <td>NaN</td>\n",
              "      <td>NaN</td>\n",
              "    </tr>\n",
              "    <tr>\n",
              "      <th>21</th>\n",
              "      <td>2019-05-07T16:57:47</td>\n",
              "      <td>EGV</td>\n",
              "      <td>144.0</td>\n",
              "      <td>NaN</td>\n",
              "      <td>NaN</td>\n",
              "    </tr>\n",
              "    <tr>\n",
              "      <th>22</th>\n",
              "      <td>2019-05-07T17:02:47</td>\n",
              "      <td>EGV</td>\n",
              "      <td>134.0</td>\n",
              "      <td>NaN</td>\n",
              "      <td>NaN</td>\n",
              "    </tr>\n",
              "    <tr>\n",
              "      <th>23</th>\n",
              "      <td>2019-05-07T17:07:47</td>\n",
              "      <td>EGV</td>\n",
              "      <td>120.0</td>\n",
              "      <td>NaN</td>\n",
              "      <td>NaN</td>\n",
              "    </tr>\n",
              "    <tr>\n",
              "      <th>24</th>\n",
              "      <td>2019-05-07T17:12:47</td>\n",
              "      <td>EGV</td>\n",
              "      <td>113.0</td>\n",
              "      <td>NaN</td>\n",
              "      <td>NaN</td>\n",
              "    </tr>\n",
              "    <tr>\n",
              "      <th>25</th>\n",
              "      <td>2019-05-07T17:17:47</td>\n",
              "      <td>EGV</td>\n",
              "      <td>106.0</td>\n",
              "      <td>NaN</td>\n",
              "      <td>NaN</td>\n",
              "    </tr>\n",
              "    <tr>\n",
              "      <th>26</th>\n",
              "      <td>2019-05-07T17:22:47</td>\n",
              "      <td>EGV</td>\n",
              "      <td>101.0</td>\n",
              "      <td>NaN</td>\n",
              "      <td>NaN</td>\n",
              "    </tr>\n",
              "    <tr>\n",
              "      <th>27</th>\n",
              "      <td>2019-05-07T17:27:46</td>\n",
              "      <td>EGV</td>\n",
              "      <td>94.0</td>\n",
              "      <td>NaN</td>\n",
              "      <td>NaN</td>\n",
              "    </tr>\n",
              "    <tr>\n",
              "      <th>28</th>\n",
              "      <td>2019-05-07T17:32:47</td>\n",
              "      <td>EGV</td>\n",
              "      <td>90.0</td>\n",
              "      <td>NaN</td>\n",
              "      <td>NaN</td>\n",
              "    </tr>\n",
              "    <tr>\n",
              "      <th>29</th>\n",
              "      <td>2019-05-07T17:37:47</td>\n",
              "      <td>EGV</td>\n",
              "      <td>88.0</td>\n",
              "      <td>NaN</td>\n",
              "      <td>NaN</td>\n",
              "    </tr>\n",
              "  </tbody>\n",
              "</table>\n",
              "</div>"
            ],
            "text/plain": [
              "              Timestamp Event  Glucose  Insulin  Meal\n",
              "10  2019-05-07T16:07:41    교정    120.0      NaN   NaN\n",
              "11  2019-05-07T16:07:54    교정    120.0      NaN   NaN\n",
              "12  2019-05-07T16:12:56   EGV    115.0      NaN   NaN\n",
              "13  2019-05-07T16:17:47   EGV    126.0      NaN   NaN\n",
              "14  2019-05-07T16:22:47   EGV    135.0      NaN   NaN\n",
              "15  2019-05-07T16:27:48   EGV    139.0      NaN   NaN\n",
              "16  2019-05-07T16:32:48   EGV    143.0      NaN   NaN\n",
              "17  2019-05-07T16:37:48   EGV    150.0      NaN   NaN\n",
              "18  2019-05-07T16:42:48   EGV    156.0      NaN   NaN\n",
              "19  2019-05-07T16:47:47   EGV    150.0      NaN   NaN\n",
              "20  2019-05-07T16:52:48   EGV    144.0      NaN   NaN\n",
              "21  2019-05-07T16:57:47   EGV    144.0      NaN   NaN\n",
              "22  2019-05-07T17:02:47   EGV    134.0      NaN   NaN\n",
              "23  2019-05-07T17:07:47   EGV    120.0      NaN   NaN\n",
              "24  2019-05-07T17:12:47   EGV    113.0      NaN   NaN\n",
              "25  2019-05-07T17:17:47   EGV    106.0      NaN   NaN\n",
              "26  2019-05-07T17:22:47   EGV    101.0      NaN   NaN\n",
              "27  2019-05-07T17:27:46   EGV     94.0      NaN   NaN\n",
              "28  2019-05-07T17:32:47   EGV     90.0      NaN   NaN\n",
              "29  2019-05-07T17:37:47   EGV     88.0      NaN   NaN"
            ]
          },
          "metadata": {
            "tags": []
          },
          "execution_count": 18
        }
      ]
    },
    {
      "cell_type": "code",
      "metadata": {
        "ExecuteTime": {
          "end_time": "2021-01-25T01:51:36.364724Z",
          "start_time": "2021-01-25T01:51:36.352757Z"
        },
        "colab": {
          "base_uri": "https://localhost:8080/"
        },
        "id": "ndlieh9Vq9qw",
        "outputId": "53998cb2-0831-4a1c-935b-a560916a4645"
      },
      "source": [
        "df.shape"
      ],
      "execution_count": 19,
      "outputs": [
        {
          "output_type": "execute_result",
          "data": {
            "text/plain": [
              "(1045, 5)"
            ]
          },
          "metadata": {
            "tags": []
          },
          "execution_count": 19
        }
      ]
    },
    {
      "cell_type": "code",
      "metadata": {
        "ExecuteTime": {
          "end_time": "2021-01-25T01:51:38.168923Z",
          "start_time": "2021-01-25T01:51:38.154960Z"
        },
        "id": "UudGLrdmq9qx"
      },
      "source": [
        "# drop한 인스턴스가 있어서 인덱스 리셋\n",
        "df=df.sort_values(by=['Timestamp'],axis=0,ascending=True)\n",
        "df=df.reset_index(drop=True)"
      ],
      "execution_count": 20,
      "outputs": []
    },
    {
      "cell_type": "code",
      "metadata": {
        "ExecuteTime": {
          "end_time": "2021-01-25T01:51:42.311539Z",
          "start_time": "2021-01-25T01:51:42.297576Z"
        },
        "colab": {
          "base_uri": "https://localhost:8080/",
          "height": 514
        },
        "id": "RKsqfYvyq9qx",
        "outputId": "fa252fe6-adb8-4e89-864c-e497a0ab3abe"
      },
      "source": [
        "df.head(15)"
      ],
      "execution_count": 21,
      "outputs": [
        {
          "output_type": "execute_result",
          "data": {
            "text/html": [
              "<div>\n",
              "<style scoped>\n",
              "    .dataframe tbody tr th:only-of-type {\n",
              "        vertical-align: middle;\n",
              "    }\n",
              "\n",
              "    .dataframe tbody tr th {\n",
              "        vertical-align: top;\n",
              "    }\n",
              "\n",
              "    .dataframe thead th {\n",
              "        text-align: right;\n",
              "    }\n",
              "</style>\n",
              "<table border=\"1\" class=\"dataframe\">\n",
              "  <thead>\n",
              "    <tr style=\"text-align: right;\">\n",
              "      <th></th>\n",
              "      <th>Timestamp</th>\n",
              "      <th>Event</th>\n",
              "      <th>Glucose</th>\n",
              "      <th>Insulin</th>\n",
              "      <th>Meal</th>\n",
              "    </tr>\n",
              "  </thead>\n",
              "  <tbody>\n",
              "    <tr>\n",
              "      <th>0</th>\n",
              "      <td>2019-05-07T16:07:41</td>\n",
              "      <td>교정</td>\n",
              "      <td>120.0</td>\n",
              "      <td>NaN</td>\n",
              "      <td>NaN</td>\n",
              "    </tr>\n",
              "    <tr>\n",
              "      <th>1</th>\n",
              "      <td>2019-05-07T16:07:54</td>\n",
              "      <td>교정</td>\n",
              "      <td>120.0</td>\n",
              "      <td>NaN</td>\n",
              "      <td>NaN</td>\n",
              "    </tr>\n",
              "    <tr>\n",
              "      <th>2</th>\n",
              "      <td>2019-05-07T16:12:56</td>\n",
              "      <td>EGV</td>\n",
              "      <td>115.0</td>\n",
              "      <td>NaN</td>\n",
              "      <td>NaN</td>\n",
              "    </tr>\n",
              "    <tr>\n",
              "      <th>3</th>\n",
              "      <td>2019-05-07T16:17:47</td>\n",
              "      <td>EGV</td>\n",
              "      <td>126.0</td>\n",
              "      <td>NaN</td>\n",
              "      <td>NaN</td>\n",
              "    </tr>\n",
              "    <tr>\n",
              "      <th>4</th>\n",
              "      <td>2019-05-07T16:22:47</td>\n",
              "      <td>EGV</td>\n",
              "      <td>135.0</td>\n",
              "      <td>NaN</td>\n",
              "      <td>NaN</td>\n",
              "    </tr>\n",
              "    <tr>\n",
              "      <th>5</th>\n",
              "      <td>2019-05-07T16:27:48</td>\n",
              "      <td>EGV</td>\n",
              "      <td>139.0</td>\n",
              "      <td>NaN</td>\n",
              "      <td>NaN</td>\n",
              "    </tr>\n",
              "    <tr>\n",
              "      <th>6</th>\n",
              "      <td>2019-05-07T16:32:48</td>\n",
              "      <td>EGV</td>\n",
              "      <td>143.0</td>\n",
              "      <td>NaN</td>\n",
              "      <td>NaN</td>\n",
              "    </tr>\n",
              "    <tr>\n",
              "      <th>7</th>\n",
              "      <td>2019-05-07T16:37:48</td>\n",
              "      <td>EGV</td>\n",
              "      <td>150.0</td>\n",
              "      <td>NaN</td>\n",
              "      <td>NaN</td>\n",
              "    </tr>\n",
              "    <tr>\n",
              "      <th>8</th>\n",
              "      <td>2019-05-07T16:42:48</td>\n",
              "      <td>EGV</td>\n",
              "      <td>156.0</td>\n",
              "      <td>NaN</td>\n",
              "      <td>NaN</td>\n",
              "    </tr>\n",
              "    <tr>\n",
              "      <th>9</th>\n",
              "      <td>2019-05-07T16:47:47</td>\n",
              "      <td>EGV</td>\n",
              "      <td>150.0</td>\n",
              "      <td>NaN</td>\n",
              "      <td>NaN</td>\n",
              "    </tr>\n",
              "    <tr>\n",
              "      <th>10</th>\n",
              "      <td>2019-05-07T16:52:48</td>\n",
              "      <td>EGV</td>\n",
              "      <td>144.0</td>\n",
              "      <td>NaN</td>\n",
              "      <td>NaN</td>\n",
              "    </tr>\n",
              "    <tr>\n",
              "      <th>11</th>\n",
              "      <td>2019-05-07T16:57:47</td>\n",
              "      <td>EGV</td>\n",
              "      <td>144.0</td>\n",
              "      <td>NaN</td>\n",
              "      <td>NaN</td>\n",
              "    </tr>\n",
              "    <tr>\n",
              "      <th>12</th>\n",
              "      <td>2019-05-07T17:02:47</td>\n",
              "      <td>EGV</td>\n",
              "      <td>134.0</td>\n",
              "      <td>NaN</td>\n",
              "      <td>NaN</td>\n",
              "    </tr>\n",
              "    <tr>\n",
              "      <th>13</th>\n",
              "      <td>2019-05-07T17:07:47</td>\n",
              "      <td>EGV</td>\n",
              "      <td>120.0</td>\n",
              "      <td>NaN</td>\n",
              "      <td>NaN</td>\n",
              "    </tr>\n",
              "    <tr>\n",
              "      <th>14</th>\n",
              "      <td>2019-05-07T17:12:47</td>\n",
              "      <td>EGV</td>\n",
              "      <td>113.0</td>\n",
              "      <td>NaN</td>\n",
              "      <td>NaN</td>\n",
              "    </tr>\n",
              "  </tbody>\n",
              "</table>\n",
              "</div>"
            ],
            "text/plain": [
              "              Timestamp Event  Glucose  Insulin  Meal\n",
              "0   2019-05-07T16:07:41    교정    120.0      NaN   NaN\n",
              "1   2019-05-07T16:07:54    교정    120.0      NaN   NaN\n",
              "2   2019-05-07T16:12:56   EGV    115.0      NaN   NaN\n",
              "3   2019-05-07T16:17:47   EGV    126.0      NaN   NaN\n",
              "4   2019-05-07T16:22:47   EGV    135.0      NaN   NaN\n",
              "5   2019-05-07T16:27:48   EGV    139.0      NaN   NaN\n",
              "6   2019-05-07T16:32:48   EGV    143.0      NaN   NaN\n",
              "7   2019-05-07T16:37:48   EGV    150.0      NaN   NaN\n",
              "8   2019-05-07T16:42:48   EGV    156.0      NaN   NaN\n",
              "9   2019-05-07T16:47:47   EGV    150.0      NaN   NaN\n",
              "10  2019-05-07T16:52:48   EGV    144.0      NaN   NaN\n",
              "11  2019-05-07T16:57:47   EGV    144.0      NaN   NaN\n",
              "12  2019-05-07T17:02:47   EGV    134.0      NaN   NaN\n",
              "13  2019-05-07T17:07:47   EGV    120.0      NaN   NaN\n",
              "14  2019-05-07T17:12:47   EGV    113.0      NaN   NaN"
            ]
          },
          "metadata": {
            "tags": []
          },
          "execution_count": 21
        }
      ]
    },
    {
      "cell_type": "code",
      "metadata": {
        "ExecuteTime": {
          "end_time": "2021-01-25T01:51:44.377391Z",
          "start_time": "2021-01-25T01:51:44.364427Z"
        },
        "colab": {
          "base_uri": "https://localhost:8080/"
        },
        "id": "Dr0kuMdHq9qx",
        "outputId": "bc1d78e9-2ef4-471b-e9e9-7d7aa4aa0921"
      },
      "source": [
        "df.shape"
      ],
      "execution_count": 22,
      "outputs": [
        {
          "output_type": "execute_result",
          "data": {
            "text/plain": [
              "(1045, 5)"
            ]
          },
          "metadata": {
            "tags": []
          },
          "execution_count": 22
        }
      ]
    },
    {
      "cell_type": "code",
      "metadata": {
        "ExecuteTime": {
          "end_time": "2021-01-25T01:51:46.355104Z",
          "start_time": "2021-01-25T01:51:46.341141Z"
        },
        "id": "qy3fiZhVq9qx"
      },
      "source": [
        "# 높음, 낮음, 교정 인덱스 저장 \n",
        "high_list=[]\n",
        "low_list=[]\n",
        "calib_list=[]\n",
        "insulin_list=[]\n",
        "meal_list=[]"
      ],
      "execution_count": 23,
      "outputs": []
    },
    {
      "cell_type": "code",
      "metadata": {
        "ExecuteTime": {
          "end_time": "2021-01-25T01:51:46.371062Z",
          "start_time": "2021-01-25T01:51:46.356102Z"
        },
        "id": "P537zeVnq9qx"
      },
      "source": [
        "def isNaN(num):\n",
        "    return num==num"
      ],
      "execution_count": 24,
      "outputs": []
    },
    {
      "cell_type": "code",
      "metadata": {
        "ExecuteTime": {
          "end_time": "2021-01-25T01:51:49.502725Z",
          "start_time": "2021-01-25T01:51:49.489761Z"
        },
        "id": "QZi1ugehq9qx"
      },
      "source": [
        "# 혈당 '높음' 빈도 카운트\n",
        "def glucose_count_high(df,col):\n",
        "    count=0\n",
        "    for i, row in df.iterrows():\n",
        "         val = row[col]\n",
        "         if val=='높음':\n",
        "            count=count+1\n",
        "            high_list.append(i)\n",
        "    print('높음 : ',count)\n",
        "    "
      ],
      "execution_count": 25,
      "outputs": []
    },
    {
      "cell_type": "code",
      "metadata": {
        "ExecuteTime": {
          "end_time": "2021-01-25T01:51:50.251721Z",
          "start_time": "2021-01-25T01:51:50.237759Z"
        },
        "id": "Y3T5yccbq9qx"
      },
      "source": [
        "# 혈당 '낮음' 빈도 카운트\n",
        "def glucose_count_low(df,col):\n",
        "    count=0\n",
        "    for i, row in df.iterrows():\n",
        "         val = row[col]\n",
        "         if val=='낮음':\n",
        "            count=count+1\n",
        "            low_list.append(i)\n",
        "    print('낮음 : ',count)"
      ],
      "execution_count": 26,
      "outputs": []
    },
    {
      "cell_type": "code",
      "metadata": {
        "ExecuteTime": {
          "end_time": "2021-01-25T01:51:54.181151Z",
          "start_time": "2021-01-25T01:51:54.167192Z"
        },
        "id": "QPEIPRM8q9qy"
      },
      "source": [
        "# 혈당 '교정' 빈도 카운트\n",
        "def calibration_count_low(df,col):\n",
        "    count=0\n",
        "    for i, row in df.iterrows():\n",
        "         val = row[col]\n",
        "         if val=='교정':\n",
        "            count=count+1\n",
        "            calib_list.append(i)\n",
        "    print('교정 : ',count)"
      ],
      "execution_count": 27,
      "outputs": []
    },
    {
      "cell_type": "code",
      "metadata": {
        "ExecuteTime": {
          "end_time": "2021-01-25T01:51:56.097402Z",
          "start_time": "2021-01-25T01:51:56.083270Z"
        },
        "id": "0Mf6s7jAq9qy"
      },
      "source": [
        "# 인슐린 카운트 \n",
        "#def insul_count(df,col):\n",
        "#    count=0\n",
        "#    for i, row in df.iterrows():\n",
        "#         val = row[col]\n",
        "#         if val==0:\n",
        "#            count=count+1\n",
        "#            insulin_list.append(i)\n",
        "#    print('인슐린 : ',count)"
      ],
      "execution_count": 28,
      "outputs": []
    },
    {
      "cell_type": "code",
      "metadata": {
        "ExecuteTime": {
          "end_time": "2021-01-25T01:51:57.596418Z",
          "start_time": "2021-01-25T01:51:57.582456Z"
        },
        "id": "hRKoPSWdq9qy"
      },
      "source": [
        "# 인슐린 카운트 \n",
        "def insul_count(df,col):\n",
        "    count=0\n",
        "    for i, row in df.iterrows():\n",
        "         val = row[col]\n",
        "         if isNaN(val)==True:\n",
        "            count=count+1\n",
        "            insulin_list.append(i)\n",
        "    print('인슐린 : ',count)"
      ],
      "execution_count": 29,
      "outputs": []
    },
    {
      "cell_type": "code",
      "metadata": {
        "ExecuteTime": {
          "end_time": "2021-01-25T01:51:58.298583Z",
          "start_time": "2021-01-25T01:51:58.286616Z"
        },
        "id": "U33fUKIeq9qy"
      },
      "source": [
        "# 식사 횟수 카운트 \n",
        "#def meal_count(df,col):\n",
        "#    count=0\n",
        "#    for i, row in df.iterrows():\n",
        "#         val = row[col]\n",
        "#         if val==0:\n",
        "#            count=count+1\n",
        "#            meal_list.append(i)\n",
        "#    print('식사 횟수 : ',count)"
      ],
      "execution_count": 30,
      "outputs": []
    },
    {
      "cell_type": "code",
      "metadata": {
        "ExecuteTime": {
          "end_time": "2021-01-25T01:52:00.266372Z",
          "start_time": "2021-01-25T01:52:00.253356Z"
        },
        "id": "KIBCtRV_q9qy"
      },
      "source": [
        "# 식사 횟수 카운트 \n",
        "def meal_count(df,col):\n",
        "    count=0\n",
        "    for i, row in df.iterrows():\n",
        "         val = row[col]\n",
        "         if isNaN(val)==True:\n",
        "            count=count+1\n",
        "            meal_list.append(i)\n",
        "    print('식사 횟수 : ',count)"
      ],
      "execution_count": 31,
      "outputs": []
    },
    {
      "cell_type": "code",
      "metadata": {
        "ExecuteTime": {
          "end_time": "2021-01-25T01:52:01.682876Z",
          "start_time": "2021-01-25T01:52:01.564191Z"
        },
        "scrolled": true,
        "colab": {
          "base_uri": "https://localhost:8080/"
        },
        "id": "t76CauuJq9qy",
        "outputId": "a8e9aa47-b382-4902-9e5b-838f626c98ca"
      },
      "source": [
        "glucose_count_high(df,'Glucose')"
      ],
      "execution_count": 32,
      "outputs": [
        {
          "output_type": "stream",
          "text": [
            "높음 :  0\n"
          ],
          "name": "stdout"
        }
      ]
    },
    {
      "cell_type": "code",
      "metadata": {
        "ExecuteTime": {
          "end_time": "2021-01-25T01:52:01.791803Z",
          "start_time": "2021-01-25T01:52:01.778789Z"
        },
        "colab": {
          "base_uri": "https://localhost:8080/"
        },
        "id": "1jCdOODYq9qz",
        "outputId": "30e26e55-28d1-470f-a45c-dcad6a6e0500"
      },
      "source": [
        "print('높음 개수 :',len(high_list))"
      ],
      "execution_count": 33,
      "outputs": [
        {
          "output_type": "stream",
          "text": [
            "높음 개수 : 0\n"
          ],
          "name": "stdout"
        }
      ]
    },
    {
      "cell_type": "code",
      "metadata": {
        "ExecuteTime": {
          "end_time": "2021-01-25T01:52:02.448796Z",
          "start_time": "2021-01-25T01:52:02.435830Z"
        },
        "colab": {
          "base_uri": "https://localhost:8080/"
        },
        "id": "hSi2WJtbq9qz",
        "outputId": "60a9d89d-6154-4950-a4a9-26281198226a"
      },
      "source": [
        "print('낮음 개수 :',len(low_list))"
      ],
      "execution_count": 34,
      "outputs": [
        {
          "output_type": "stream",
          "text": [
            "낮음 개수 : 0\n"
          ],
          "name": "stdout"
        }
      ]
    },
    {
      "cell_type": "code",
      "metadata": {
        "ExecuteTime": {
          "end_time": "2021-01-25T01:52:02.464753Z",
          "start_time": "2021-01-25T01:52:02.449793Z"
        },
        "colab": {
          "base_uri": "https://localhost:8080/"
        },
        "id": "7-Iy3eSdq9qz",
        "outputId": "b90f880e-0f1d-44c9-ba26-c46c70c9267b"
      },
      "source": [
        "print('교정 개수 :',len(calib_list))"
      ],
      "execution_count": 35,
      "outputs": [
        {
          "output_type": "stream",
          "text": [
            "교정 개수 : 0\n"
          ],
          "name": "stdout"
        }
      ]
    },
    {
      "cell_type": "code",
      "metadata": {
        "ExecuteTime": {
          "end_time": "2021-01-25T01:52:02.603795Z",
          "start_time": "2021-01-25T01:52:02.465750Z"
        },
        "colab": {
          "base_uri": "https://localhost:8080/"
        },
        "id": "2Lsj2H6Rq9qz",
        "outputId": "8fe20c07-0490-46af-8623-614ba40ac988"
      },
      "source": [
        "glucose_count_low(df,'Glucose')"
      ],
      "execution_count": 36,
      "outputs": [
        {
          "output_type": "stream",
          "text": [
            "낮음 :  0\n"
          ],
          "name": "stdout"
        }
      ]
    },
    {
      "cell_type": "code",
      "metadata": {
        "ExecuteTime": {
          "end_time": "2021-01-25T01:52:02.619752Z",
          "start_time": "2021-01-25T01:52:02.605789Z"
        },
        "colab": {
          "base_uri": "https://localhost:8080/"
        },
        "id": "YB8-5N--q9qz",
        "outputId": "de0e3bee-c931-4f91-a4a8-44eede29801e"
      },
      "source": [
        "low_list"
      ],
      "execution_count": 37,
      "outputs": [
        {
          "output_type": "execute_result",
          "data": {
            "text/plain": [
              "[]"
            ]
          },
          "metadata": {
            "tags": []
          },
          "execution_count": 37
        }
      ]
    },
    {
      "cell_type": "code",
      "metadata": {
        "ExecuteTime": {
          "end_time": "2021-01-25T01:52:02.823004Z",
          "start_time": "2021-01-25T01:52:02.623742Z"
        },
        "colab": {
          "base_uri": "https://localhost:8080/"
        },
        "id": "W-d0Eh-Mq9qz",
        "outputId": "2d9990e0-47d3-4d5e-c2c1-53fa0d0fa031"
      },
      "source": [
        "calibration_count_low(df,'Event')"
      ],
      "execution_count": 38,
      "outputs": [
        {
          "output_type": "stream",
          "text": [
            "교정 :  14\n"
          ],
          "name": "stdout"
        }
      ]
    },
    {
      "cell_type": "code",
      "metadata": {
        "ExecuteTime": {
          "end_time": "2021-01-25T01:52:02.837968Z",
          "start_time": "2021-01-25T01:52:02.826000Z"
        },
        "colab": {
          "base_uri": "https://localhost:8080/"
        },
        "id": "AA4DScIlq9q0",
        "outputId": "8e07231f-42ff-4abe-8c6e-5b9903f0d905"
      },
      "source": [
        "calib_list"
      ],
      "execution_count": 39,
      "outputs": [
        {
          "output_type": "execute_result",
          "data": {
            "text/plain": [
              "[0, 1, 58, 173, 287, 349, 470, 579, 639, 751, 874, 950, 952, 1015]"
            ]
          },
          "metadata": {
            "tags": []
          },
          "execution_count": 39
        }
      ]
    },
    {
      "cell_type": "code",
      "metadata": {
        "ExecuteTime": {
          "end_time": "2021-01-25T01:52:02.994907Z",
          "start_time": "2021-01-25T01:52:02.842954Z"
        },
        "colab": {
          "base_uri": "https://localhost:8080/"
        },
        "id": "WVjnBdLEq9q0",
        "outputId": "82996e97-2897-43d1-d0c4-fee6edf6c6c8"
      },
      "source": [
        "insul_count(df,'Insulin')"
      ],
      "execution_count": 40,
      "outputs": [
        {
          "output_type": "stream",
          "text": [
            "인슐린 :  0\n"
          ],
          "name": "stdout"
        }
      ]
    },
    {
      "cell_type": "code",
      "metadata": {
        "ExecuteTime": {
          "end_time": "2021-01-25T01:52:03.010871Z",
          "start_time": "2021-01-25T01:52:02.998901Z"
        },
        "colab": {
          "base_uri": "https://localhost:8080/"
        },
        "id": "diiNlaPhq9q0",
        "outputId": "ba628fe1-d98f-456c-ab14-b0010ea2bed8"
      },
      "source": [
        "insulin_list"
      ],
      "execution_count": 41,
      "outputs": [
        {
          "output_type": "execute_result",
          "data": {
            "text/plain": [
              "[]"
            ]
          },
          "metadata": {
            "tags": []
          },
          "execution_count": 41
        }
      ]
    },
    {
      "cell_type": "code",
      "metadata": {
        "ExecuteTime": {
          "end_time": "2021-01-25T01:52:03.180415Z",
          "start_time": "2021-01-25T01:52:03.013862Z"
        },
        "colab": {
          "base_uri": "https://localhost:8080/"
        },
        "id": "zz4J0RMcq9q0",
        "outputId": "00433ae6-f75e-493f-d0bf-41831c98ac6b"
      },
      "source": [
        "meal_count(df,'Meal')"
      ],
      "execution_count": 42,
      "outputs": [
        {
          "output_type": "stream",
          "text": [
            "식사 횟수 :  0\n"
          ],
          "name": "stdout"
        }
      ]
    },
    {
      "cell_type": "code",
      "metadata": {
        "ExecuteTime": {
          "end_time": "2021-01-25T01:52:26.737154Z",
          "start_time": "2021-01-25T01:52:26.722192Z"
        },
        "colab": {
          "base_uri": "https://localhost:8080/"
        },
        "id": "S5Iommgpq9q0",
        "outputId": "29d9f855-4818-4a45-cf34-e4be940c3e1c"
      },
      "source": [
        "meal_list"
      ],
      "execution_count": 43,
      "outputs": [
        {
          "output_type": "execute_result",
          "data": {
            "text/plain": [
              "[]"
            ]
          },
          "metadata": {
            "tags": []
          },
          "execution_count": 43
        }
      ]
    },
    {
      "cell_type": "code",
      "metadata": {
        "ExecuteTime": {
          "end_time": "2021-01-25T01:52:27.080235Z",
          "start_time": "2021-01-25T01:52:27.065274Z"
        },
        "colab": {
          "base_uri": "https://localhost:8080/"
        },
        "id": "gcwA8bhDq9q0",
        "outputId": "994fe776-0097-4cc6-d9c3-54a5802b3437"
      },
      "source": [
        "df['Insulin'].value_counts()"
      ],
      "execution_count": 44,
      "outputs": [
        {
          "output_type": "execute_result",
          "data": {
            "text/plain": [
              "Series([], Name: Insulin, dtype: int64)"
            ]
          },
          "metadata": {
            "tags": []
          },
          "execution_count": 44
        }
      ]
    },
    {
      "cell_type": "code",
      "metadata": {
        "ExecuteTime": {
          "end_time": "2021-01-25T01:52:27.096191Z",
          "start_time": "2021-01-25T01:52:27.082229Z"
        },
        "colab": {
          "base_uri": "https://localhost:8080/"
        },
        "id": "EWPmhRFwq9q1",
        "outputId": "8c3030c8-62fb-41aa-f768-ab3566a064dc"
      },
      "source": [
        "df['Meal'].value_counts()"
      ],
      "execution_count": 45,
      "outputs": [
        {
          "output_type": "execute_result",
          "data": {
            "text/plain": [
              "Series([], Name: Meal, dtype: int64)"
            ]
          },
          "metadata": {
            "tags": []
          },
          "execution_count": 45
        }
      ]
    },
    {
      "cell_type": "code",
      "metadata": {
        "ExecuteTime": {
          "end_time": "2021-01-25T01:52:27.112149Z",
          "start_time": "2021-01-25T01:52:27.098187Z"
        },
        "colab": {
          "base_uri": "https://localhost:8080/"
        },
        "id": "yVHexf31q9q1",
        "outputId": "65be20bc-e604-4645-af68-2837e1fca36d"
      },
      "source": [
        "isNaN(df['Glucose'][14])"
      ],
      "execution_count": 46,
      "outputs": [
        {
          "output_type": "execute_result",
          "data": {
            "text/plain": [
              "True"
            ]
          },
          "metadata": {
            "tags": []
          },
          "execution_count": 46
        }
      ]
    },
    {
      "cell_type": "code",
      "metadata": {
        "ExecuteTime": {
          "end_time": "2021-01-25T01:52:27.128106Z",
          "start_time": "2021-01-25T01:52:27.114144Z"
        },
        "id": "Tytglb5oq9q1"
      },
      "source": [
        "import math\n",
        "for i in insulin_list:\n",
        "    \n",
        "    if isNaN(df['Glucose'][i+1]):\n",
        "        df['Insulin'][i+1]=0\n",
        "        continue\n",
        "    if isNaN(df['Glucose'][i+2]):\n",
        "        df['Insulin'][i+2]=0\n",
        "        continue\n",
        "    if isNaN(df['Glucose'][i+3]):\n",
        "        df['Insulin'][i+3]=0\n",
        "        continue\n",
        "    if isNaN(df['Glucose'][i+4]):\n",
        "        df['Insulin'][i+4]=0\n",
        "        continue"
      ],
      "execution_count": 47,
      "outputs": []
    },
    {
      "cell_type": "code",
      "metadata": {
        "ExecuteTime": {
          "end_time": "2021-01-25T01:52:27.173984Z",
          "start_time": "2021-01-25T01:52:27.155035Z"
        },
        "id": "JcgRMhGVq9q1"
      },
      "source": [
        "for i in meal_list:\n",
        "    \n",
        "    if isNaN(df['Glucose'][i+1]):\n",
        "        df['Meal'][i+1]=0\n",
        "        continue\n",
        "    if isNaN(df['Glucose'][i+2]):\n",
        "        df['Meal'][i+2]=0\n",
        "        continue\n",
        "    if isNaN(df['Glucose'][i+3]):\n",
        "        df['Meal'][i+3]=0\n",
        "        continue\n",
        "    if isNaN(df['Glucose'][i+4]):\n",
        "        df['Meal'][i+4]=0\n",
        "        continue"
      ],
      "execution_count": 48,
      "outputs": []
    },
    {
      "cell_type": "code",
      "metadata": {
        "ExecuteTime": {
          "end_time": "2021-01-25T01:52:27.188944Z",
          "start_time": "2021-01-25T01:52:27.175978Z"
        },
        "colab": {
          "base_uri": "https://localhost:8080/"
        },
        "id": "pCH1l3thq9q1",
        "outputId": "68ca2204-72d0-42fb-e380-a34c101d85dd"
      },
      "source": [
        "import math\n",
        "math.isnan(df['Glucose'][14])"
      ],
      "execution_count": 49,
      "outputs": [
        {
          "output_type": "execute_result",
          "data": {
            "text/plain": [
              "False"
            ]
          },
          "metadata": {
            "tags": []
          },
          "execution_count": 49
        }
      ]
    },
    {
      "cell_type": "code",
      "metadata": {
        "ExecuteTime": {
          "end_time": "2021-01-25T01:52:27.204901Z",
          "start_time": "2021-01-25T01:52:27.190939Z"
        },
        "colab": {
          "base_uri": "https://localhost:8080/"
        },
        "id": "h-zF0AuEq9q1",
        "outputId": "a898aa34-e714-475e-9e1b-51ea20852fbf"
      },
      "source": [
        "insulin_list"
      ],
      "execution_count": 50,
      "outputs": [
        {
          "output_type": "execute_result",
          "data": {
            "text/plain": [
              "[]"
            ]
          },
          "metadata": {
            "tags": []
          },
          "execution_count": 50
        }
      ]
    },
    {
      "cell_type": "code",
      "metadata": {
        "ExecuteTime": {
          "end_time": "2021-01-25T01:52:33.922994Z",
          "start_time": "2021-01-25T01:52:33.909030Z"
        },
        "id": "cYufVrh9q9q1"
      },
      "source": [
        "SetList1 = set(insulin_list)\n",
        "SetList2 = set(meal_list)\n",
        "\n",
        "C = list((SetList2.difference(SetList1)))\n",
        "\n",
        "insulin_list.extend(C)"
      ],
      "execution_count": 51,
      "outputs": []
    },
    {
      "cell_type": "code",
      "metadata": {
        "ExecuteTime": {
          "end_time": "2021-01-25T01:52:40.432733Z",
          "start_time": "2021-01-25T01:52:40.418770Z"
        },
        "colab": {
          "base_uri": "https://localhost:8080/"
        },
        "id": "DrJEh6m3q9q2",
        "outputId": "c9d38b8c-40ea-4760-de7d-bb31da0c7b47"
      },
      "source": [
        "insulin_list"
      ],
      "execution_count": 52,
      "outputs": [
        {
          "output_type": "execute_result",
          "data": {
            "text/plain": [
              "[]"
            ]
          },
          "metadata": {
            "tags": []
          },
          "execution_count": 52
        }
      ]
    },
    {
      "cell_type": "code",
      "metadata": {
        "ExecuteTime": {
          "end_time": "2021-01-25T01:52:46.966344Z",
          "start_time": "2021-01-25T01:52:46.952382Z"
        },
        "id": "k_g4Uw8_q9q2"
      },
      "source": [
        "df=df.drop(insulin_list)"
      ],
      "execution_count": 53,
      "outputs": []
    },
    {
      "cell_type": "code",
      "metadata": {
        "ExecuteTime": {
          "end_time": "2021-01-25T01:52:48.819528Z",
          "start_time": "2021-01-25T01:52:48.805566Z"
        },
        "colab": {
          "base_uri": "https://localhost:8080/",
          "height": 359
        },
        "id": "70rucVRyq9q2",
        "outputId": "41a01b4a-0656-4039-edb5-db877c66367e"
      },
      "source": [
        "df[10:20]"
      ],
      "execution_count": 54,
      "outputs": [
        {
          "output_type": "execute_result",
          "data": {
            "text/html": [
              "<div>\n",
              "<style scoped>\n",
              "    .dataframe tbody tr th:only-of-type {\n",
              "        vertical-align: middle;\n",
              "    }\n",
              "\n",
              "    .dataframe tbody tr th {\n",
              "        vertical-align: top;\n",
              "    }\n",
              "\n",
              "    .dataframe thead th {\n",
              "        text-align: right;\n",
              "    }\n",
              "</style>\n",
              "<table border=\"1\" class=\"dataframe\">\n",
              "  <thead>\n",
              "    <tr style=\"text-align: right;\">\n",
              "      <th></th>\n",
              "      <th>Timestamp</th>\n",
              "      <th>Event</th>\n",
              "      <th>Glucose</th>\n",
              "      <th>Insulin</th>\n",
              "      <th>Meal</th>\n",
              "    </tr>\n",
              "  </thead>\n",
              "  <tbody>\n",
              "    <tr>\n",
              "      <th>10</th>\n",
              "      <td>2019-05-07T16:52:48</td>\n",
              "      <td>EGV</td>\n",
              "      <td>144.0</td>\n",
              "      <td>NaN</td>\n",
              "      <td>NaN</td>\n",
              "    </tr>\n",
              "    <tr>\n",
              "      <th>11</th>\n",
              "      <td>2019-05-07T16:57:47</td>\n",
              "      <td>EGV</td>\n",
              "      <td>144.0</td>\n",
              "      <td>NaN</td>\n",
              "      <td>NaN</td>\n",
              "    </tr>\n",
              "    <tr>\n",
              "      <th>12</th>\n",
              "      <td>2019-05-07T17:02:47</td>\n",
              "      <td>EGV</td>\n",
              "      <td>134.0</td>\n",
              "      <td>NaN</td>\n",
              "      <td>NaN</td>\n",
              "    </tr>\n",
              "    <tr>\n",
              "      <th>13</th>\n",
              "      <td>2019-05-07T17:07:47</td>\n",
              "      <td>EGV</td>\n",
              "      <td>120.0</td>\n",
              "      <td>NaN</td>\n",
              "      <td>NaN</td>\n",
              "    </tr>\n",
              "    <tr>\n",
              "      <th>14</th>\n",
              "      <td>2019-05-07T17:12:47</td>\n",
              "      <td>EGV</td>\n",
              "      <td>113.0</td>\n",
              "      <td>NaN</td>\n",
              "      <td>NaN</td>\n",
              "    </tr>\n",
              "    <tr>\n",
              "      <th>15</th>\n",
              "      <td>2019-05-07T17:17:47</td>\n",
              "      <td>EGV</td>\n",
              "      <td>106.0</td>\n",
              "      <td>NaN</td>\n",
              "      <td>NaN</td>\n",
              "    </tr>\n",
              "    <tr>\n",
              "      <th>16</th>\n",
              "      <td>2019-05-07T17:22:47</td>\n",
              "      <td>EGV</td>\n",
              "      <td>101.0</td>\n",
              "      <td>NaN</td>\n",
              "      <td>NaN</td>\n",
              "    </tr>\n",
              "    <tr>\n",
              "      <th>17</th>\n",
              "      <td>2019-05-07T17:27:46</td>\n",
              "      <td>EGV</td>\n",
              "      <td>94.0</td>\n",
              "      <td>NaN</td>\n",
              "      <td>NaN</td>\n",
              "    </tr>\n",
              "    <tr>\n",
              "      <th>18</th>\n",
              "      <td>2019-05-07T17:32:47</td>\n",
              "      <td>EGV</td>\n",
              "      <td>90.0</td>\n",
              "      <td>NaN</td>\n",
              "      <td>NaN</td>\n",
              "    </tr>\n",
              "    <tr>\n",
              "      <th>19</th>\n",
              "      <td>2019-05-07T17:37:47</td>\n",
              "      <td>EGV</td>\n",
              "      <td>88.0</td>\n",
              "      <td>NaN</td>\n",
              "      <td>NaN</td>\n",
              "    </tr>\n",
              "  </tbody>\n",
              "</table>\n",
              "</div>"
            ],
            "text/plain": [
              "              Timestamp Event  Glucose  Insulin  Meal\n",
              "10  2019-05-07T16:52:48   EGV    144.0      NaN   NaN\n",
              "11  2019-05-07T16:57:47   EGV    144.0      NaN   NaN\n",
              "12  2019-05-07T17:02:47   EGV    134.0      NaN   NaN\n",
              "13  2019-05-07T17:07:47   EGV    120.0      NaN   NaN\n",
              "14  2019-05-07T17:12:47   EGV    113.0      NaN   NaN\n",
              "15  2019-05-07T17:17:47   EGV    106.0      NaN   NaN\n",
              "16  2019-05-07T17:22:47   EGV    101.0      NaN   NaN\n",
              "17  2019-05-07T17:27:46   EGV     94.0      NaN   NaN\n",
              "18  2019-05-07T17:32:47   EGV     90.0      NaN   NaN\n",
              "19  2019-05-07T17:37:47   EGV     88.0      NaN   NaN"
            ]
          },
          "metadata": {
            "tags": []
          },
          "execution_count": 54
        }
      ]
    },
    {
      "cell_type": "code",
      "metadata": {
        "colab": {
          "base_uri": "https://localhost:8080/"
        },
        "id": "V-7fuLiuq9q2",
        "outputId": "93d65ef5-44ce-420d-96d0-2df739569a7b"
      },
      "source": [
        "df['Glucose'].unique()"
      ],
      "execution_count": 55,
      "outputs": [
        {
          "output_type": "execute_result",
          "data": {
            "text/plain": [
              "array([120., 115., 126., 135., 139., 143., 150., 156., 144., 134., 113.,\n",
              "       106., 101.,  94.,  90.,  88.,  81.,  83.,  91.,  97.,  99.,  98.,\n",
              "       103., 109., 117., 123., 124., 122., 121., 111., 105., 104., 108.,\n",
              "       130., 119., 133., 152., 155., 160., 163., 164., 165., 166., 167.,\n",
              "       168., 170., 175., 172., 173., 171., 174., 177., 178., 184., 187.,\n",
              "       186., 188., 182., 176., 169., 159., 158., 157., 161., 162., 154.,\n",
              "       149., 148., 147., 146., 151., 180., 181., 183., 142., 141., 140.,\n",
              "       138., 145., 195., 204., 206., 203., 201., 199., 197., 194., 191.,\n",
              "       185., 137., 136., 132., 131., 129., 125., 128., 127., 153., 208.,\n",
              "       224., 211., 210., 200., 193., 190., 112., 107., 100., 198., 228.,\n",
              "       239., 248., 253., 251., 247., 240., 245., 244., 242., 235., 231.,\n",
              "       212., 202., 218., 220., 219., 214., 223., 241., 243., 238., 234.,\n",
              "       236., 246., 233., 295., 275., 232., 222., 215., 226., 216., 207.,\n",
              "       209., 179., 118., 114., 110., 102.,  95.,  96., 260., 254., 256.,\n",
              "       250., 196.,  93., 116.,  87.,  79.,  78.,  85.,  80., 189., 320.,\n",
              "       311., 315., 318., 313., 306., 308., 309., 301., 310., 305., 290.,\n",
              "       287., 277., 283., 298., 322., 340., 339., 360., 378., 399., 397.,\n",
              "       400., 383., 370., 361., 365., 355., 347., 336., 337., 343., 345.,\n",
              "       344., 338., 332., 333., 352., 367., 379., 369., 359., 348., 334.,\n",
              "       324., 291., 296., 294., 302., 299., 288., 282., 265., 261., 249.,\n",
              "       229.])"
            ]
          },
          "metadata": {
            "tags": []
          },
          "execution_count": 55
        }
      ]
    },
    {
      "cell_type": "code",
      "metadata": {
        "ExecuteTime": {
          "end_time": "2021-01-25T01:52:50.627338Z",
          "start_time": "2021-01-25T01:52:50.613373Z"
        },
        "colab": {
          "base_uri": "https://localhost:8080/"
        },
        "id": "_Wc-F60tq9q2",
        "outputId": "ae343b2d-d9e5-41b6-b11f-b06d7cbdfd17"
      },
      "source": [
        "df.isnull().sum()"
      ],
      "execution_count": 56,
      "outputs": [
        {
          "output_type": "execute_result",
          "data": {
            "text/plain": [
              "Timestamp       0\n",
              "Event           0\n",
              "Glucose         0\n",
              "Insulin      1045\n",
              "Meal         1045\n",
              "dtype: int64"
            ]
          },
          "metadata": {
            "tags": []
          },
          "execution_count": 56
        }
      ]
    },
    {
      "cell_type": "code",
      "metadata": {
        "ExecuteTime": {
          "end_time": "2021-01-25T01:52:52.672484Z",
          "start_time": "2021-01-25T01:52:52.659179Z"
        },
        "colab": {
          "base_uri": "https://localhost:8080/"
        },
        "id": "aB-Pr1IUq9q2",
        "outputId": "f82ad8cf-2170-46ad-952e-bcf3b889de48"
      },
      "source": [
        "df['Event'].value_counts()"
      ],
      "execution_count": 57,
      "outputs": [
        {
          "output_type": "execute_result",
          "data": {
            "text/plain": [
              "EGV    1031\n",
              "교정       14\n",
              "Name: Event, dtype: int64"
            ]
          },
          "metadata": {
            "tags": []
          },
          "execution_count": 57
        }
      ]
    },
    {
      "cell_type": "markdown",
      "metadata": {
        "id": "tD-xVtSIq9q3"
      },
      "source": [
        "### 높음 낮음 고정 (추후 전처리 과정에서 400,408,416,408,400 이런 식으로 선형으로 변환해줄 것)"
      ]
    },
    {
      "cell_type": "code",
      "metadata": {
        "ExecuteTime": {
          "end_time": "2021-01-25T01:52:56.678331Z",
          "start_time": "2021-01-25T01:52:56.666364Z"
        },
        "id": "_QqK9A1xq9q3"
      },
      "source": [
        "def fix_glucose_low(df,col):\n",
        "    for i, row in df.iterrows():\n",
        "        val = row[col]\n",
        "        if val=='낮음':\n",
        "            df.loc[i,col] = 60"
      ],
      "execution_count": 58,
      "outputs": []
    },
    {
      "cell_type": "code",
      "metadata": {
        "ExecuteTime": {
          "end_time": "2021-01-25T01:52:54.688521Z",
          "start_time": "2021-01-25T01:52:54.674559Z"
        },
        "id": "XWZicn9Qq9q3"
      },
      "source": [
        "def fix_glucose(df,col):\n",
        "    for i, row in df.iterrows():\n",
        "        val = row[col]\n",
        "        if val=='높음':\n",
        "            df.loc[i,col] = 400\n",
        "        elif val > 400:\n",
        "            df.loc[i,col]=400"
      ],
      "execution_count": 59,
      "outputs": []
    },
    {
      "cell_type": "code",
      "metadata": {
        "ExecuteTime": {
          "end_time": "2021-01-25T01:53:00.780544Z",
          "start_time": "2021-01-25T01:53:00.640251Z"
        },
        "id": "O55uKXOGq9q3"
      },
      "source": [
        "fix_glucose_low(df,'Glucose')"
      ],
      "execution_count": 60,
      "outputs": []
    },
    {
      "cell_type": "code",
      "metadata": {
        "ExecuteTime": {
          "end_time": "2021-01-25T01:52:58.654752Z",
          "start_time": "2021-01-25T01:52:58.545660Z"
        },
        "id": "BvIUO61Mq9q3"
      },
      "source": [
        "fix_glucose(df,'Glucose')"
      ],
      "execution_count": 61,
      "outputs": []
    },
    {
      "cell_type": "code",
      "metadata": {
        "ExecuteTime": {
          "end_time": "2021-01-25T01:53:13.968378Z",
          "start_time": "2021-01-25T01:53:13.948432Z"
        },
        "colab": {
          "base_uri": "https://localhost:8080/"
        },
        "id": "g2avacA9q9q3",
        "outputId": "7f3e037b-bd77-42ea-fa29-479935258c48"
      },
      "source": [
        "df['Glucose'].value_counts()"
      ],
      "execution_count": 62,
      "outputs": [
        {
          "output_type": "execute_result",
          "data": {
            "text/plain": [
              "160.0    25\n",
              "133.0    23\n",
              "144.0    18\n",
              "163.0    17\n",
              "142.0    17\n",
              "         ..\n",
              "229.0     1\n",
              "338.0     1\n",
              "302.0     1\n",
              "96.0      1\n",
              "367.0     1\n",
              "Name: Glucose, Length: 221, dtype: int64"
            ]
          },
          "metadata": {
            "tags": []
          },
          "execution_count": 62
        }
      ]
    },
    {
      "cell_type": "code",
      "metadata": {
        "ExecuteTime": {
          "end_time": "2021-01-25T01:53:16.132062Z",
          "start_time": "2021-01-25T01:53:16.118100Z"
        },
        "colab": {
          "base_uri": "https://localhost:8080/"
        },
        "id": "MhNKSZyTq9q3",
        "outputId": "0934d77a-031e-492d-e8e4-80eacd4b9af4"
      },
      "source": [
        "df.isnull().sum()"
      ],
      "execution_count": 63,
      "outputs": [
        {
          "output_type": "execute_result",
          "data": {
            "text/plain": [
              "Timestamp       0\n",
              "Event           0\n",
              "Glucose         0\n",
              "Insulin      1045\n",
              "Meal         1045\n",
              "dtype: int64"
            ]
          },
          "metadata": {
            "tags": []
          },
          "execution_count": 63
        }
      ]
    },
    {
      "cell_type": "code",
      "metadata": {
        "ExecuteTime": {
          "end_time": "2021-01-25T01:53:18.170395Z",
          "start_time": "2021-01-25T01:53:18.157430Z"
        },
        "colab": {
          "base_uri": "https://localhost:8080/"
        },
        "id": "e8GGHlNyq9q4",
        "outputId": "0f5b0930-24f4-403c-e056-bc0002a0292c"
      },
      "source": [
        "df['Event'].unique()"
      ],
      "execution_count": 64,
      "outputs": [
        {
          "output_type": "execute_result",
          "data": {
            "text/plain": [
              "array(['교정', 'EGV'], dtype=object)"
            ]
          },
          "metadata": {
            "tags": []
          },
          "execution_count": 64
        }
      ]
    },
    {
      "cell_type": "code",
      "metadata": {
        "id": "TuLeqo_RxtN1"
      },
      "source": [
        "## 이벤트에 '운동' 있어서 혈당값 비어있음 \r\n",
        "# 모델 안돌아감 \r\n",
        "df=df.dropna(subset=['Glucose'])"
      ],
      "execution_count": 65,
      "outputs": []
    },
    {
      "cell_type": "code",
      "metadata": {
        "ExecuteTime": {
          "end_time": "2021-01-25T01:53:20.114266Z",
          "start_time": "2021-01-25T01:53:20.101301Z"
        },
        "id": "-g9RIuKlq9q4"
      },
      "source": [
        "# drop한 인스턴스가 있어서 인덱스 리셋\n",
        "df=df.sort_values(by=['Timestamp'],axis=0,ascending=True)\n",
        "df=df.reset_index(drop=True)"
      ],
      "execution_count": 66,
      "outputs": []
    },
    {
      "cell_type": "code",
      "metadata": {
        "ExecuteTime": {
          "end_time": "2021-01-25T01:53:22.262371Z",
          "start_time": "2021-01-25T01:53:22.141696Z"
        },
        "id": "3raJFd5Oq9q4"
      },
      "source": [
        "new_insul_list =[]\n",
        "new_meal_list =[]\n",
        "new_insul_and_meal_list=[]\n",
        "\n",
        "for i in range(len(df)):\n",
        "    if (df['Insulin'][i] ==0 and df['Meal'][i]==0):\n",
        "        new_insul_and_meal_list.append(i)\n",
        "    if (df['Insulin'][i]==0 and df['Meal'][i]!=0):\n",
        "        new_insul_list.append(i)\n",
        "    if (df['Insulin'][i]!=0 and df['Meal'][i]==0):\n",
        "        new_meal_list.append(i)"
      ],
      "execution_count": 67,
      "outputs": []
    },
    {
      "cell_type": "code",
      "metadata": {
        "ExecuteTime": {
          "end_time": "2021-01-25T01:53:24.282408Z",
          "start_time": "2021-01-25T01:53:24.268445Z"
        },
        "colab": {
          "base_uri": "https://localhost:8080/"
        },
        "id": "etuTxppeq9q4",
        "outputId": "9ab3021a-6cfa-43fc-eb28-4665e0f81745"
      },
      "source": [
        "new_meal_list"
      ],
      "execution_count": 68,
      "outputs": [
        {
          "output_type": "execute_result",
          "data": {
            "text/plain": [
              "[]"
            ]
          },
          "metadata": {
            "tags": []
          },
          "execution_count": 68
        }
      ]
    },
    {
      "cell_type": "code",
      "metadata": {
        "id": "UkkZfG03q9q4"
      },
      "source": [
        ""
      ],
      "execution_count": 68,
      "outputs": []
    },
    {
      "cell_type": "code",
      "metadata": {
        "ExecuteTime": {
          "end_time": "2021-01-25T01:53:26.333121Z",
          "start_time": "2021-01-25T01:53:26.132655Z"
        },
        "colab": {
          "base_uri": "https://localhost:8080/",
          "height": 0
        },
        "id": "JoFY9Drvq9q4",
        "outputId": "4ce0722a-cf91-4a55-d7f1-e4482fc69ed5"
      },
      "source": [
        "df.plot(figsize=(15,6))\n",
        "plt.show()"
      ],
      "execution_count": 69,
      "outputs": [
        {
          "output_type": "display_data",
          "data": {
            "image/png": "[encoded data removed]",
            "text/plain": [
              "<Figure size 1080x432 with 1 Axes>"
            ]
          },
          "metadata": {
            "tags": [],
            "needs_background": "light"
          }
        }
      ]
    },
    {
      "cell_type": "code",
      "metadata": {
        "ExecuteTime": {
          "end_time": "2021-01-25T01:53:28.542527Z",
          "start_time": "2021-01-25T01:53:28.300175Z"
        },
        "colab": {
          "base_uri": "https://localhost:8080/",
          "height": 0
        },
        "id": "iXUdyaOvq9q4",
        "outputId": "c5c6295c-3aef-48f9-9d63-7ef3bb311185"
      },
      "source": [
        "df.plot(figsize=(15,6))\n",
        "plt.axhline(y=70,c='r',linestyle='--',linewidth=1)\n",
        "plt.axhline(y=180,c='r',linestyle='--',linewidth=1)\n",
        "plt.axhline(y=400,c='r',linestyle='--',linewidth=1)\n",
        "#plt.annotate(df['Timestamp'][13],xy=(-50,40),xytext=(-50,0),fontsize=20,bbox=dict(boxstyle='square',\n",
        "#                                                               color='white'),arrowprops=dict(facecolor='black'))\n",
        "#plt.annotate(df['Timestamp'][len(df['Timestamp'])],xytext=(-,0),fontsize=20,bbox=dict(boxstyle='square',\n",
        " #                                                              color='white'))\n",
        "plt.text(len(df['Timestamp']),185,'Hyperglycemic Threshold',family='Times New Roman',size=15)\n",
        "plt.text(len(df['Timestamp']),75,'Hypoglycemic Threshold',family='Times New Roman',size=15)\n",
        "plt.text(len(df['Timestamp']),405,'Too High ( Glucose value 400 + )',family='Times New Roman',size=15)\n",
        "\n",
        "#y=70\n",
        "#plt.plot(y,'b--',linestyles='--'),\n",
        "#plt.hlines(70,linestyles='--')\n",
        "plt.show()"
      ],
      "execution_count": 70,
      "outputs": [
        {
          "output_type": "stream",
          "text": [
            "findfont: Font family ['Times New Roman'] not found. Falling back to DejaVu Sans.\n"
          ],
          "name": "stderr"
        },
        {
          "output_type": "display_data",
          "data": {
            "image/png": "[encoded data removed]",
            "text/plain": [
              "<Figure size 1080x432 with 1 Axes>"
            ]
          },
          "metadata": {
            "tags": [],
            "needs_background": "light"
          }
        }
      ]
    },
    {
      "cell_type": "code",
      "metadata": {
        "ExecuteTime": {
          "end_time": "2021-01-25T01:53:30.332463Z",
          "start_time": "2021-01-25T01:53:30.319500Z"
        },
        "id": "Ff-e2NnRq9q5"
      },
      "source": [
        "#df.drop(0,inplace=True)"
      ],
      "execution_count": 71,
      "outputs": []
    },
    {
      "cell_type": "code",
      "metadata": {
        "ExecuteTime": {
          "end_time": "2021-01-25T01:53:30.704466Z",
          "start_time": "2021-01-25T01:53:30.690504Z"
        },
        "id": "3phxJsnVq9q5"
      },
      "source": [
        "# drop한 인스턴스가 있어서 인덱스 리셋\n",
        "#df=df.sort_values(by=['Timestamp'],axis=0,ascending=True)\n",
        "#df=df.reset_index(drop=True)\n",
        "#df.head(21)"
      ],
      "execution_count": 72,
      "outputs": []
    },
    {
      "cell_type": "code",
      "metadata": {
        "ExecuteTime": {
          "end_time": "2021-01-25T01:53:34.320799Z",
          "start_time": "2021-01-25T01:53:34.306836Z"
        },
        "id": "GHltXweoq9q5"
      },
      "source": [
        "# 인슐린, 탄수화물 투여시 혈당값 NULL\n",
        "# 그래서 t시점에 t-2 , t-1 크기비교해서 upper면 이렇게 lower면 이렇게 해서 interpolation ( 보간)\n",
        "# 이거 위에 참고사항 drop하고 나서 적용 해줘야됨\n",
        "#insul=list()\n",
        "#import math\n",
        "#def interpolate_glucose(df,col):\n",
        "#    #insul=list()\n",
        "    \n",
        "#    for i, row in df.iterrows():\n",
        "#        val=row[col]\n",
        "#        if math.isnan(val):\n",
        "#            if df['Glucose'][i-2] >= df['Glucose'][i-1]:\n",
        "#                c = (df['Glucose'][i-2] - df['Glucose'][i-1]) / 2 \n",
        "#                df.loc[i,col]= df['Glucose'][i-1] - c\n",
        "#                insul.append(i)\n",
        "#                print(insul)\n",
        "                \n",
        "#            if df['Glucose'][i-2] < df['Glucose'][i-1]:\n",
        "#                c = (df['Glucose'][i-2] - df['Glucose'][i-1]) / 2 \n",
        "#                df.loc[i,col]= df['Glucose'][i-1] - c\n",
        "#                insul.append(i)\n",
        "#                print(insul)\n",
        "        \n",
        "           "
      ],
      "execution_count": 73,
      "outputs": []
    },
    {
      "cell_type": "code",
      "metadata": {
        "ExecuteTime": {
          "end_time": "2021-01-25T01:53:36.328924Z",
          "start_time": "2021-01-25T01:53:36.313965Z"
        },
        "id": "oO-USeM2q9q6"
      },
      "source": [
        "# 인슐린 탄수화물 인덱스 문제 해결 파트 \n",
        "#insul=list()\n",
        "#meal=list()\n",
        "#import math\n",
        "#def interpolate_glucose(df,col):\n",
        "    #insul=list()\n",
        "    \n",
        "#    for i, row in df.iterrows():\n",
        "#        val=row[col]\n",
        "        #df=df.sort_values(by=['Timestamp'],axis=0,ascending=True)\n",
        "        #df=df.reset_index(drop=True)\n",
        "#        if math.isnan(val):\n",
        " #           if df['Event'][i]=='인슐린':\n",
        "  #              if df['Glucose'][i-1] is None:\n",
        "   #                 insul.append(i-2)\n",
        "                    \n",
        "                    \n",
        "    #            else:\n",
        "     #               insul.append(i-1)\n",
        "                    \n",
        "      #      if df['Event'][i]=='탄수화물':\n",
        "       #         if df['Glucose'][i-1] is None:\n",
        "        #            meal.append(i-2)\n",
        "                    \n",
        "         #       else:\n",
        "          #          meal.append(i-1)\n",
        "                    "
      ],
      "execution_count": 74,
      "outputs": []
    },
    {
      "cell_type": "code",
      "metadata": {
        "ExecuteTime": {
          "end_time": "2021-01-25T01:53:38.317618Z",
          "start_time": "2021-01-25T01:53:38.303654Z"
        },
        "id": "5ARbHQpIq9q6"
      },
      "source": [
        "#interpolate_glucose(df,'Glucose')"
      ],
      "execution_count": 75,
      "outputs": []
    },
    {
      "cell_type": "code",
      "metadata": {
        "ExecuteTime": {
          "end_time": "2021-01-25T01:53:40.152005Z",
          "start_time": "2021-01-25T01:53:40.139039Z"
        },
        "id": "jwvVWaHTq9q6"
      },
      "source": [
        "#meal"
      ],
      "execution_count": 76,
      "outputs": []
    },
    {
      "cell_type": "code",
      "metadata": {
        "ExecuteTime": {
          "end_time": "2021-01-25T01:53:42.020035Z",
          "start_time": "2021-01-25T01:53:42.007070Z"
        },
        "id": "UbYNhh3-q9q6"
      },
      "source": [
        "#insul"
      ],
      "execution_count": 77,
      "outputs": []
    },
    {
      "cell_type": "code",
      "metadata": {
        "ExecuteTime": {
          "end_time": "2021-01-25T01:53:42.050953Z",
          "start_time": "2021-01-25T01:53:42.023027Z"
        },
        "colab": {
          "base_uri": "https://localhost:8080/"
        },
        "id": "dDhQ76wlq9q6",
        "outputId": "5782214b-e259-4898-af4d-0e933d12049e"
      },
      "source": [
        "df['Glucose'].isnull().sum()"
      ],
      "execution_count": 78,
      "outputs": [
        {
          "output_type": "execute_result",
          "data": {
            "text/plain": [
              "0"
            ]
          },
          "metadata": {
            "tags": []
          },
          "execution_count": 78
        }
      ]
    },
    {
      "cell_type": "code",
      "metadata": {
        "ExecuteTime": {
          "end_time": "2021-01-25T01:53:42.796962Z",
          "start_time": "2021-01-25T01:53:42.785989Z"
        },
        "id": "HgDjhDWAq9q6"
      },
      "source": [
        "insul_glucose_value=list()\n",
        "for i in new_insul_list:\n",
        "    insul_glucose_value.append(df['Glucose'][i])"
      ],
      "execution_count": 79,
      "outputs": []
    },
    {
      "cell_type": "code",
      "metadata": {
        "ExecuteTime": {
          "end_time": "2021-01-25T01:53:44.256058Z",
          "start_time": "2021-01-25T01:53:44.242096Z"
        },
        "id": "PCAHh2D_q9q6"
      },
      "source": [
        "meal_glucose_value=list()\n",
        "for i in new_meal_list:\n",
        "    meal_glucose_value.append(df['Glucose'][i])"
      ],
      "execution_count": 80,
      "outputs": []
    },
    {
      "cell_type": "code",
      "metadata": {
        "ExecuteTime": {
          "end_time": "2021-01-25T01:53:45.908642Z",
          "start_time": "2021-01-25T01:53:45.895678Z"
        },
        "id": "aca-BcHzq9q7"
      },
      "source": [
        "insul_and_meal_glucose_value = list()\n",
        "for i in new_insul_and_meal_list:\n",
        "    insul_and_meal_glucose_value.append(df['Glucose'][i])"
      ],
      "execution_count": 81,
      "outputs": []
    },
    {
      "cell_type": "code",
      "metadata": {
        "ExecuteTime": {
          "end_time": "2021-01-25T01:53:45.924599Z",
          "start_time": "2021-01-25T01:53:45.911634Z"
        },
        "id": "Uqt843lhq9q7"
      },
      "source": [
        "#len = len(df['Timestamp'])\n",
        "#plt.text(-100,-1,df['Timestamp'][0],family='Times New Roman',fontweight='bold',size=17)"
      ],
      "execution_count": 82,
      "outputs": []
    },
    {
      "cell_type": "code",
      "metadata": {
        "ExecuteTime": {
          "end_time": "2021-01-25T01:53:46.264689Z",
          "start_time": "2021-01-25T01:53:45.927590Z"
        },
        "colab": {
          "base_uri": "https://localhost:8080/",
          "height": 0
        },
        "id": "ajebDiOAq9q7",
        "outputId": "bdf5db72-ee05-40f6-bdba-4079238a20ca"
      },
      "source": [
        "import matplotlib.patches as mpatches\n",
        "import matplotlib.lines as mlines\n",
        "\n",
        "df.plot(figsize=(15,6),color='gray',alpha=0.5)\n",
        "plt.axhline(y=70,c='r',linestyle='--',linewidth=1)\n",
        "plt.axhline(y=180,c='r',linestyle='--',linewidth=1)\n",
        "plt.axhline(y=400,c='r',linestyle='--',linewidth=1)\n",
        "#plt.axhline(y=60,c='black',linestyle='--',linewidth=1)\n",
        "plt.text(len(df['Timestamp']),185,'Hyperglycemic Threshold',family='Times New Roman',size=15)\n",
        "plt.text(len(df['Timestamp']),75,'Hypoglycemic Threshold',family='Times New Roman',size=15)\n",
        "\n",
        "plt.scatter(new_insul_list,insul_glucose_value,edgecolor='black',s=50,label='Insulin',marker='o',c='red')\n",
        "plt.scatter(new_meal_list,meal_glucose_value,edgecolor='black',s=50,label='Carbohydrate',marker='o',c='green')\n",
        "plt.scatter(new_insul_and_meal_list,insul_and_meal_glucose_value,edgecolor='black',s=50,label='Insulin + Carbohydrate',marker='o',c='blue')\n",
        "\n",
        "red_patch = mpatches.Patch(color='red',label='Insulin')\n",
        "\n",
        "red_line = mlines.Line2D([],[],color='red',marker='o',markersize=15,label='Insulin')\n",
        "green_line = mlines.Line2D([],[],color='green',marker='o',markersize=15,label='Carbohydrate')\n",
        "blue_line = mlines.Line2D([],[],color='blue',marker='o',markersize=15,label='Insulin + Carbohydrate')\n",
        "plt.text(len(df['Timestamp']),405,'Too High ( Glucose value 400 + )',family='Times New Roman',size=15)\n",
        "plt.text(len(df['Timestamp']),60,'',family='Times New Roman',size=15)\n",
        "#plt.text(len(df['Timestamp']),-1,df['Timestamp'][len(df['Timestamp'])],family='Times New Roman',\n",
        "#         fontweight='bold',size=20)\n",
        "plt.text(-100,-1,df['Timestamp'][0],family='Times New Roman',fontweight='bold',size=17)\n",
        "plt.text(len(df['Timestamp']),-1,df['Timestamp'][len(df['Timestamp'])-1],family='Times New Roman',fontweight='bold',size=17)\n",
        "plt.legend(['Insulin','Carbohydrate','Insulin + Carbohydrate'],loc='best',fontsize='x-small',handles=[red_line,green_line,blue_line])\n",
        "#plt.text(-100,-1,df['Timestamp'][14],family='Times New Roman',\n",
        "\n",
        "#         fontweight='bold',size=20)\n",
        "\n",
        "#y=70\n",
        "#plt.plot(y,'b--',linestyles='--'),\n",
        "#plt.hlines(70,linestyles='--')\n",
        "plt.show()"
      ],
      "execution_count": 83,
      "outputs": [
        {
          "output_type": "stream",
          "text": [
            "findfont: Font family ['Times New Roman'] not found. Falling back to DejaVu Sans.\n"
          ],
          "name": "stderr"
        },
        {
          "output_type": "display_data",
          "data": {
            "image/png": "[encoded data removed]",
            "text/plain": [
              "<Figure size 1080x432 with 1 Axes>"
            ]
          },
          "metadata": {
            "tags": [],
            "needs_background": "light"
          }
        }
      ]
    },
    {
      "cell_type": "code",
      "metadata": {
        "ExecuteTime": {
          "end_time": "2021-01-25T01:53:46.389356Z",
          "start_time": "2021-01-25T01:53:46.265685Z"
        },
        "id": "eXer8h_dq9q7"
      },
      "source": [
        "for i in range(len(df)):\n",
        "    if isNaN(df['Insulin'][i]):\n",
        "        df['Insulin'][i]=1\n",
        "    else:\n",
        "        df['Insulin'][i]=0\n",
        "        \n",
        "     "
      ],
      "execution_count": 84,
      "outputs": []
    },
    {
      "cell_type": "code",
      "metadata": {
        "ExecuteTime": {
          "end_time": "2021-01-25T01:53:51.043530Z",
          "start_time": "2021-01-25T01:53:50.874984Z"
        },
        "id": "rPq3Eljfq9q8"
      },
      "source": [
        "for i in range(len(df)):\n",
        "    if isNaN(df['Meal'][i]):\n",
        "        df['Meal'][i]=1\n",
        "    else:\n",
        "        df['Meal'][i]=0\n",
        "        "
      ],
      "execution_count": 85,
      "outputs": []
    },
    {
      "cell_type": "code",
      "metadata": {
        "ExecuteTime": {
          "end_time": "2021-01-25T01:53:51.075446Z",
          "start_time": "2021-01-25T01:53:51.045526Z"
        },
        "colab": {
          "base_uri": "https://localhost:8080/",
          "height": 0
        },
        "id": "gwSdbaC-q9q8",
        "outputId": "631a70e7-b59a-41ed-f4e0-31d052667d55"
      },
      "source": [
        "df[1900:1950]"
      ],
      "execution_count": 86,
      "outputs": [
        {
          "output_type": "execute_result",
          "data": {
            "text/html": [
              "<div>\n",
              "<style scoped>\n",
              "    .dataframe tbody tr th:only-of-type {\n",
              "        vertical-align: middle;\n",
              "    }\n",
              "\n",
              "    .dataframe tbody tr th {\n",
              "        vertical-align: top;\n",
              "    }\n",
              "\n",
              "    .dataframe thead th {\n",
              "        text-align: right;\n",
              "    }\n",
              "</style>\n",
              "<table border=\"1\" class=\"dataframe\">\n",
              "  <thead>\n",
              "    <tr style=\"text-align: right;\">\n",
              "      <th></th>\n",
              "      <th>Timestamp</th>\n",
              "      <th>Event</th>\n",
              "      <th>Glucose</th>\n",
              "      <th>Insulin</th>\n",
              "      <th>Meal</th>\n",
              "    </tr>\n",
              "  </thead>\n",
              "  <tbody>\n",
              "  </tbody>\n",
              "</table>\n",
              "</div>"
            ],
            "text/plain": [
              "Empty DataFrame\n",
              "Columns: [Timestamp, Event, Glucose, Insulin, Meal]\n",
              "Index: []"
            ]
          },
          "metadata": {
            "tags": []
          },
          "execution_count": 86
        }
      ]
    },
    {
      "cell_type": "code",
      "metadata": {
        "id": "QxwcSjuqtMXO"
      },
      "source": [
        "def fix_glucose_value(df,col):\r\n",
        "    for i, row in df.iterrows():\r\n",
        "        val = row[col]\r\n",
        "        \r\n",
        "        df.loc[i,col] = math.floor(val)"
      ],
      "execution_count": 87,
      "outputs": []
    },
    {
      "cell_type": "code",
      "metadata": {
        "id": "sIkC9Oi-t-Rh"
      },
      "source": [
        "fix_glucose_value(df,'Glucose')"
      ],
      "execution_count": 88,
      "outputs": []
    },
    {
      "cell_type": "markdown",
      "metadata": {
        "id": "KZ8pAdTfq9q8"
      },
      "source": [
        "## 이제 여기부터 DL 모델 돌려볼 것 \n",
        "+ 일단 모델부터 간단하게 돌려보고 성능 측정\n",
        "+ 그리고 전처리 해가면서 성능 비교"
      ]
    },
    {
      "cell_type": "code",
      "metadata": {
        "ExecuteTime": {
          "end_time": "2021-01-25T01:53:54.756503Z",
          "start_time": "2021-01-25T01:53:54.742541Z"
        },
        "id": "TDvQ2BGIq9q8"
      },
      "source": [
        "import numpy as np\n",
        "import tensorflow as tf\n",
        "import random as rn"
      ],
      "execution_count": 89,
      "outputs": []
    },
    {
      "cell_type": "code",
      "metadata": {
        "ExecuteTime": {
          "end_time": "2021-01-25T01:53:58.949108Z",
          "start_time": "2021-01-25T01:53:58.935145Z"
        },
        "id": "qlRi61Seq9q8"
      },
      "source": [
        "# 재현 가능한 결과를 만들기 위해 시드값 설정 \n",
        "import os \n",
        "import random\n",
        "seed_num = 42\n",
        "os.environ['PYTHONHASHSEED']=str(seed_num)\n",
        "\n",
        "random.seed(seed_num)\n",
        "np.random.seed(seed_num)\n",
        "tf.random.set_seed(seed_num)"
      ],
      "execution_count": 90,
      "outputs": []
    },
    {
      "cell_type": "code",
      "metadata": {
        "ExecuteTime": {
          "end_time": "2021-01-25T01:54:00.826286Z",
          "start_time": "2021-01-25T01:54:00.780972Z"
        },
        "id": "pUArI0P3q9q8"
      },
      "source": [
        "from tensorflow.compat.v1.keras import backend as K\n",
        "\n",
        "session_conf = tf.compat.v1.ConfigProto(intra_op_parallelism_threads=1,\n",
        "                             inter_op_parallelism_threads=1)\n",
        "sess=tf.compat.v1.Session(graph=tf.compat.v1.get_default_graph(),config=session_conf)\n",
        "K.set_session(sess)"
      ],
      "execution_count": 91,
      "outputs": []
    },
    {
      "cell_type": "code",
      "metadata": {
        "ExecuteTime": {
          "end_time": "2021-01-25T01:54:01.331935Z",
          "start_time": "2021-01-25T01:54:01.317971Z"
        },
        "id": "88Z8zIskq9q8"
      },
      "source": [
        "#from keras import backend as K\n",
        "#session_conf = tf.compat.v1.ConfigProto(intra_op_parallelism_threads=1, inter_op_parallelism_threads=1)\n",
        "#sess = tf.compat.v1.Session(graph=tf.compat.v1.get_default_graph(), config=session_conf)\n",
        "#tf.compat.v1.keras.backend.set_session(sess)\n"
      ],
      "execution_count": 92,
      "outputs": []
    },
    {
      "cell_type": "code",
      "metadata": {
        "ExecuteTime": {
          "end_time": "2021-01-25T01:54:02.810348Z",
          "start_time": "2021-01-25T01:54:02.797382Z"
        },
        "id": "Aqk7ufhwq9q8"
      },
      "source": [
        "from sklearn.metrics import mean_squared_error\n",
        "def RMSE(y_test,y_predict):\n",
        "    return np.sqrt(mean_squared_error(y_test,y_predict))"
      ],
      "execution_count": 93,
      "outputs": []
    },
    {
      "cell_type": "markdown",
      "metadata": {
        "id": "_b7JkM922JMT"
      },
      "source": [
        "## 나이브 메소드"
      ]
    },
    {
      "cell_type": "markdown",
      "metadata": {
        "id": "ZRPsJpyM2os6"
      },
      "source": [
        "### 예를 들어 단순히 t 시점에 t - 6 (sampling rate가 5분이므로 30분), t + 1 시점에 t - 5값을 가져오는 naive한 방법"
      ]
    },
    {
      "cell_type": "code",
      "metadata": {
        "id": "d8haBBPH-kwK"
      },
      "source": [
        "from sklearn.model_selection import train_test_split"
      ],
      "execution_count": 94,
      "outputs": []
    },
    {
      "cell_type": "code",
      "metadata": {
        "ExecuteTime": {
          "end_time": "2021-01-25T01:54:14.533048Z",
          "start_time": "2021-01-25T01:54:14.517090Z"
        },
        "id": "y_NuM1bSq9q9"
      },
      "source": [
        "raw_seq = df['Glucose']\n",
        "#raw_seq=raw_seq.to_numpy(dtype='int64')"
      ],
      "execution_count": 190,
      "outputs": []
    },
    {
      "cell_type": "code",
      "metadata": {
        "id": "N56mfk97embM"
      },
      "source": [
        "from sklearn.metrics import mean_squared_error\r\n",
        "def RMSE(y_test,y_predict):\r\n",
        "    return np.sqrt(mean_squared_error(y_test,y_predict))"
      ],
      "execution_count": 200,
      "outputs": []
    },
    {
      "cell_type": "markdown",
      "metadata": {
        "id": "g0xg8dkjd7dd"
      },
      "source": [
        "### train"
      ]
    },
    {
      "cell_type": "code",
      "metadata": {
        "id": "85QVOwUGVkOH"
      },
      "source": [
        "TRAIN_SPLIT=int(len(raw_seq)*0.7)"
      ],
      "execution_count": 204,
      "outputs": []
    },
    {
      "cell_type": "code",
      "metadata": {
        "colab": {
          "base_uri": "https://localhost:8080/"
        },
        "id": "dxRNiSR9WAZg",
        "outputId": "2840b5e1-9b12-434a-dfd3-deb633ac4c19"
      },
      "source": [
        "TRAIN_SPLIT"
      ],
      "execution_count": 205,
      "outputs": [
        {
          "output_type": "execute_result",
          "data": {
            "text/plain": [
              "731"
            ]
          },
          "metadata": {
            "tags": []
          },
          "execution_count": 205
        }
      ]
    },
    {
      "cell_type": "code",
      "metadata": {
        "id": "Kg-_x6aUTqLh"
      },
      "source": [
        "train, test = train_test_split(raw_seq,train_size = TRAIN_SPLIT,shuffle=False,random_state=42)"
      ],
      "execution_count": 206,
      "outputs": []
    },
    {
      "cell_type": "code",
      "metadata": {
        "colab": {
          "base_uri": "https://localhost:8080/"
        },
        "id": "-wRSbBNPT39y",
        "outputId": "7a163390-cf17-4d7e-9a5e-20e1df10322d"
      },
      "source": [
        "#test[:5]"
      ],
      "execution_count": 165,
      "outputs": [
        {
          "output_type": "execute_result",
          "data": {
            "text/plain": [
              "731    105.0\n",
              "732    103.0\n",
              "733     95.0\n",
              "734     99.0\n",
              "735     96.0\n",
              "Name: Glucose, dtype: float64"
            ]
          },
          "metadata": {
            "tags": []
          },
          "execution_count": 165
        }
      ]
    },
    {
      "cell_type": "code",
      "metadata": {
        "colab": {
          "base_uri": "https://localhost:8080/"
        },
        "id": "7w0cU1f3VS4K",
        "outputId": "e288d84f-59b6-4dfd-fb20-e2fd18f5b3af"
      },
      "source": [
        "#raw_seq[731:740]"
      ],
      "execution_count": 115,
      "outputs": [
        {
          "output_type": "execute_result",
          "data": {
            "text/plain": [
              "731    105.0\n",
              "732    103.0\n",
              "733     95.0\n",
              "734     99.0\n",
              "735     96.0\n",
              "736     95.0\n",
              "737     95.0\n",
              "738    102.0\n",
              "739    100.0\n",
              "Name: Glucose, dtype: float64"
            ]
          },
          "metadata": {
            "tags": []
          },
          "execution_count": 115
        }
      ]
    },
    {
      "cell_type": "code",
      "metadata": {
        "colab": {
          "base_uri": "https://localhost:8080/"
        },
        "id": "EnNrTu5AT95v",
        "outputId": "f94f0b03-b52c-43c4-b87f-4ed541c6f198"
      },
      "source": [
        "#test[:10]"
      ],
      "execution_count": 150,
      "outputs": [
        {
          "output_type": "execute_result",
          "data": {
            "text/plain": [
              "731    105.0\n",
              "732    103.0\n",
              "733     95.0\n",
              "734     99.0\n",
              "735     96.0\n",
              "736     95.0\n",
              "737     95.0\n",
              "738    102.0\n",
              "739    100.0\n",
              "740    103.0\n",
              "Name: Glucose, dtype: float64"
            ]
          },
          "metadata": {
            "tags": []
          },
          "execution_count": 150
        }
      ]
    },
    {
      "cell_type": "code",
      "metadata": {
        "colab": {
          "base_uri": "https://localhost:8080/"
        },
        "id": "_2AsoeB0UfKJ",
        "outputId": "4ab51991-0928-4c3f-92a6-51c9bd32e6c8"
      },
      "source": [
        "train.shape"
      ],
      "execution_count": 194,
      "outputs": [
        {
          "output_type": "execute_result",
          "data": {
            "text/plain": [
              "(731,)"
            ]
          },
          "metadata": {
            "tags": []
          },
          "execution_count": 194
        }
      ]
    },
    {
      "cell_type": "markdown",
      "metadata": {
        "id": "Jva9P7oMeeOm"
      },
      "source": [
        "#### 15 MIN"
      ]
    },
    {
      "cell_type": "code",
      "metadata": {
        "id": "Ci_E-knRwXx6"
      },
      "source": [
        "new_list = []\r\n",
        "for i in range(len(train)):\r\n",
        "  if i < 3:\r\n",
        "    new_list.append(train[i])\r\n",
        "  else:\r\n",
        "    new_list.append(train[i-3])\r\n",
        "  \r\n",
        "  \r\n",
        "\r\n",
        "\r\n",
        "  "
      ],
      "execution_count": 207,
      "outputs": []
    },
    {
      "cell_type": "code",
      "metadata": {
        "id": "G21gpHK7Zwiy"
      },
      "source": [
        "#test =test.reset_index()"
      ],
      "execution_count": 155,
      "outputs": []
    },
    {
      "cell_type": "code",
      "metadata": {
        "colab": {
          "base_uri": "https://localhost:8080/"
        },
        "id": "O8EHpSxzemba",
        "outputId": "a84b0924-c6cf-46e5-cb68-3df5e151aa1d"
      },
      "source": [
        "# 15분\r\n",
        "RMSE(new_list,train)"
      ],
      "execution_count": 208,
      "outputs": [
        {
          "output_type": "execute_result",
          "data": {
            "text/plain": [
              "11.351250556343405"
            ]
          },
          "metadata": {
            "tags": []
          },
          "execution_count": 208
        }
      ]
    },
    {
      "cell_type": "markdown",
      "metadata": {
        "id": "GBSm0jwPe4RZ"
      },
      "source": [
        "#### 30 MIN"
      ]
    },
    {
      "cell_type": "code",
      "metadata": {
        "id": "Zf1lQvqae5pk"
      },
      "source": [
        "new_list = []\r\n",
        "for i in range(len(train)):\r\n",
        "  if i < 6:\r\n",
        "    new_list.append(train[i])\r\n",
        "  else:\r\n",
        "    new_list.append(train[i-6])\r\n",
        "  "
      ],
      "execution_count": 209,
      "outputs": []
    },
    {
      "cell_type": "code",
      "metadata": {
        "colab": {
          "base_uri": "https://localhost:8080/"
        },
        "id": "fg_rAVRKe8cd",
        "outputId": "36fd35bb-1f14-4673-98c9-83975778fd7a"
      },
      "source": [
        "# 30분\r\n",
        "RMSE(new_list,train)"
      ],
      "execution_count": 210,
      "outputs": [
        {
          "output_type": "execute_result",
          "data": {
            "text/plain": [
              "17.663057043765864"
            ]
          },
          "metadata": {
            "tags": []
          },
          "execution_count": 210
        }
      ]
    },
    {
      "cell_type": "markdown",
      "metadata": {
        "id": "ap09_eEgfCDa"
      },
      "source": [
        "#### 60 MIN"
      ]
    },
    {
      "cell_type": "markdown",
      "metadata": {
        "id": "ie6pKo0CfSGY"
      },
      "source": [
        "### test"
      ]
    },
    {
      "cell_type": "code",
      "metadata": {
        "id": "G3-UiMS_fSGZ"
      },
      "source": [
        "TRAIN_SPLIT=int(len(raw_seq)*0.7)"
      ],
      "execution_count": 213,
      "outputs": []
    },
    {
      "cell_type": "code",
      "metadata": {
        "colab": {
          "base_uri": "https://localhost:8080/"
        },
        "id": "1-dADW8tfSGa",
        "outputId": "6de729c7-c0de-4d2b-a84e-689648b3f730"
      },
      "source": [
        "TRAIN_SPLIT"
      ],
      "execution_count": 214,
      "outputs": [
        {
          "output_type": "execute_result",
          "data": {
            "text/plain": [
              "731"
            ]
          },
          "metadata": {
            "tags": []
          },
          "execution_count": 214
        }
      ]
    },
    {
      "cell_type": "code",
      "metadata": {
        "colab": {
          "base_uri": "https://localhost:8080/"
        },
        "id": "e1l1dwztfSGc",
        "outputId": "5ebbb256-f721-457b-9df6-c035eb00cd7f"
      },
      "source": [
        "train.shape"
      ],
      "execution_count": 215,
      "outputs": [
        {
          "output_type": "execute_result",
          "data": {
            "text/plain": [
              "(731,)"
            ]
          },
          "metadata": {
            "tags": []
          },
          "execution_count": 215
        }
      ]
    },
    {
      "cell_type": "markdown",
      "metadata": {
        "id": "pLR9qpEnfSGd"
      },
      "source": [
        "#### 15 MIN"
      ]
    },
    {
      "cell_type": "code",
      "metadata": {
        "id": "3uJENzpOfc_9"
      },
      "source": [
        "new_list = []\r\n",
        "for i in range(len(test)):\r\n",
        "  if i < 3:\r\n",
        "    new_list.append(raw_seq[i+len(train)])\r\n",
        "  else:\r\n",
        "    new_list.append(raw_seq[i+len(train)-3])\r\n",
        "  "
      ],
      "execution_count": 216,
      "outputs": []
    },
    {
      "cell_type": "code",
      "metadata": {
        "id": "VmHOV7T5fSGd"
      },
      "source": [
        "#test =test.reset_index()"
      ],
      "execution_count": null,
      "outputs": []
    },
    {
      "cell_type": "code",
      "metadata": {
        "colab": {
          "base_uri": "https://localhost:8080/"
        },
        "id": "78rkymcrfSGe",
        "outputId": "a1b2a7a0-70e8-4125-ec9a-e4bd53f6f9a3"
      },
      "source": [
        "# 15분\r\n",
        "RMSE(new_list,test)"
      ],
      "execution_count": 217,
      "outputs": [
        {
          "output_type": "execute_result",
          "data": {
            "text/plain": [
              "25.356816694258804"
            ]
          },
          "metadata": {
            "tags": []
          },
          "execution_count": 217
        }
      ]
    },
    {
      "cell_type": "markdown",
      "metadata": {
        "id": "fnGpURJ6fSGe"
      },
      "source": [
        "#### 30 MIN"
      ]
    },
    {
      "cell_type": "code",
      "metadata": {
        "id": "CPGnxTFIfSGf"
      },
      "source": [
        "new_list = []\r\n",
        "for i in range(len(test)):\r\n",
        "  if i < 6:\r\n",
        "    new_list.append(raw_seq[i+len(train)])\r\n",
        "  else:\r\n",
        "    new_list.append(raw_seq[i+len(train)-6])\r\n",
        "  "
      ],
      "execution_count": 218,
      "outputs": []
    },
    {
      "cell_type": "code",
      "metadata": {
        "colab": {
          "base_uri": "https://localhost:8080/"
        },
        "id": "sx2fveThfSGf",
        "outputId": "310d4859-3132-4fe0-b91d-e167efa02255"
      },
      "source": [
        "# 30분\r\n",
        "RMSE(new_list,test)"
      ],
      "execution_count": 220,
      "outputs": [
        {
          "output_type": "execute_result",
          "data": {
            "text/plain": [
              "39.19537051826011"
            ]
          },
          "metadata": {
            "tags": []
          },
          "execution_count": 220
        }
      ]
    },
    {
      "cell_type": "markdown",
      "metadata": {
        "id": "JsNuh7GkfSGf"
      },
      "source": [
        "#### 60 MIN"
      ]
    },
    {
      "cell_type": "code",
      "metadata": {
        "id": "UIqrB0ywfSGg"
      },
      "source": [
        "new_list = []\r\n",
        "for i in range(len(test)):\r\n",
        "  if i < 12:\r\n",
        "    new_list.append(raw_seq[i+len(train)])\r\n",
        "  else:\r\n",
        "    new_list.append(raw_seq[i+len(train)-12])\r\n",
        "  "
      ],
      "execution_count": 221,
      "outputs": []
    },
    {
      "cell_type": "code",
      "metadata": {
        "colab": {
          "base_uri": "https://localhost:8080/"
        },
        "id": "frUZ32p-fSGg",
        "outputId": "247ac21c-b26a-4603-978e-b4f4b1ebd09a"
      },
      "source": [
        "# 60분\r\n",
        "RMSE(new_list,test)"
      ],
      "execution_count": 222,
      "outputs": [
        {
          "output_type": "execute_result",
          "data": {
            "text/plain": [
              "53.973926236431936"
            ]
          },
          "metadata": {
            "tags": []
          },
          "execution_count": 222
        }
      ]
    }
  ]
}