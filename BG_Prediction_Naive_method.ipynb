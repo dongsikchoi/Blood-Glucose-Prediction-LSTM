{
  "nbformat": 4,
  "nbformat_minor": 0,
  "metadata": {
    "kernelspec": {
      "display_name": "Python 3",
      "language": "python",
      "name": "python3"
    },
    "language_info": {
      "codemirror_mode": {
        "name": "ipython",
        "version": 3
      },
      "file_extension": ".py",
      "mimetype": "text/x-python",
      "name": "python",
      "nbconvert_exporter": "python",
      "pygments_lexer": "ipython3",
      "version": "3.7.7"
    },
    "toc": {
      "base_numbering": 1,
      "nav_menu": {},
      "number_sections": true,
      "sideBar": true,
      "skip_h1_title": false,
      "title_cell": "Table of Contents",
      "title_sidebar": "Contents",
      "toc_cell": false,
      "toc_position": {
        "height": "837px",
        "left": "26px",
        "top": "92px",
        "width": "385px"
      },
      "toc_section_display": true,
      "toc_window_display": true
    },
    "varInspector": {
      "cols": {
        "lenName": 16,
        "lenType": 16,
        "lenVar": 40
      },
      "kernels_config": {
        "python": {
          "delete_cmd_postfix": "",
          "delete_cmd_prefix": "del ",
          "library": "var_list.py",
          "varRefreshCmd": "print(var_dic_list())"
        },
        "r": {
          "delete_cmd_postfix": ") ",
          "delete_cmd_prefix": "rm(",
          "library": "var_list.r",
          "varRefreshCmd": "cat(var_dic_list()) "
        }
      },
      "position": {
        "height": "592px",
        "left": "1521px",
        "right": "20px",
        "top": "128px",
        "width": "401px"
      },
      "types_to_exclude": [
        "module",
        "function",
        "builtin_function_or_method",
        "instance",
        "_Feature"
      ],
      "window_display": false
    },
    "colab": {
      "name": "BG_Prediction_Naive_method.ipynb",
      "provenance": [],
      "collapsed_sections": [
        "tD-xVtSIq9q3"
      ],
      "toc_visible": true
    }
  },
  "cells": [
    {
      "cell_type": "markdown",
      "metadata": {
        "id": "view-in-github"
      },
      "source": [
        "<a href=\"https://colab.research.google.com/github/dongsikchoi/ML_Time-Series_EDA/blob/master/BG_Prediction_Univariate_Filter_X_01_25.ipynb\" target=\"_parent\"><img src=\"https://colab.research.google.com/assets/colab-badge.svg\" alt=\"Open In Colab\"/></a>"
      ]
    },
    {
      "cell_type": "markdown",
      "metadata": {
        "id": "lx196wNwq9qn"
      },
      "source": [
        "### 필요 라이브러리 로드"
      ]
    },
    {
      "cell_type": "code",
      "metadata": {
        "ExecuteTime": {
          "end_time": "2021-01-25T01:11:17.017681Z",
          "start_time": "2021-01-25T01:11:15.594487Z"
        },
        "id": "-7Ts1kTdq9qr"
      },
      "source": [
        "import warnings\n",
        "import itertools\n",
        "import numpy as np\n",
        "import matplotlib.pyplot as plt\n",
        "warnings.filterwarnings(\"ignore\")\n",
        "plt.style.use('fivethirtyeight')\n",
        "import pandas as pd\n",
        "import statsmodels.api as sm\n",
        "import matplotlib\n",
        "\n",
        "matplotlib.rcParams['axes.labelsize']=14\n",
        "matplotlib.rcParams['xtick.labelsize']=12\n",
        "matplotlib.rcParams['ytick.labelsize']=12\n",
        "matplotlib.rcParams['text.color']='k'"
      ],
      "execution_count": 1,
      "outputs": []
    },
    {
      "cell_type": "code",
      "metadata": {
        "id": "0mabAlWoq-4v"
      },
      "source": [
        "# Colab\r\n",
        "#from google.colab import auth\r\n",
        "#auth.authenticate_user()"
      ],
      "execution_count": 2,
      "outputs": []
    },
    {
      "cell_type": "code",
      "metadata": {
        "colab": {
          "base_uri": "https://localhost:8080/"
        },
        "id": "YMukYC78rI9D",
        "outputId": "d6f37be8-9aaf-49df-cce5-0f9e2f4405a0"
      },
      "source": [
        "from google.colab import drive\n",
        "drive.mount('/content/drive')"
      ],
      "execution_count": 3,
      "outputs": [
        {
          "output_type": "stream",
          "text": [
            "Drive already mounted at /content/drive; to attempt to forcibly remount, call drive.mount(\"/content/drive\", force_remount=True).\n"
          ],
          "name": "stdout"
        }
      ]
    },
    {
      "cell_type": "code",
      "metadata": {
        "ExecuteTime": {
          "end_time": "2021-01-25T01:11:17.033638Z",
          "start_time": "2021-01-25T01:11:17.021672Z"
        },
        "id": "v-JGa4Mfq9qs"
      },
      "source": [
        "pd.set_option('display.max_columns',500) \n",
        "#출력시 생략 X"
      ],
      "execution_count": 4,
      "outputs": []
    },
    {
      "cell_type": "markdown",
      "metadata": {
        "id": "1DTmoDOkq9qs"
      },
      "source": [
        "### 데이터셋 설정 "
      ]
    },
    {
      "cell_type": "code",
      "metadata": {
        "ExecuteTime": {
          "end_time": "2021-01-25T01:51:11.992775Z",
          "start_time": "2021-01-25T01:51:11.855142Z"
        },
        "id": "2iPg6upoq9qt"
      },
      "source": [
        "#df=pd.read_excel(\"BG_Dataset/BG_sample27.xlsx\")"
      ],
      "execution_count": 5,
      "outputs": []
    },
    {
      "cell_type": "code",
      "metadata": {
        "id": "mvp2qFY6rUd3"
      },
      "source": [
        "# Colab\r\n",
        "df = pd.read_excel(\"/content/drive/MyDrive/BG_Dataset/BG_sample5.xlsx\")\r\n",
        "#df = pd.read_csv(\"/content/drive/MyDrive/BG_Dataset/BG_Sample46.csv\")\r\n"
      ],
      "execution_count": 6,
      "outputs": []
    },
    {
      "cell_type": "code",
      "metadata": {
        "ExecuteTime": {
          "end_time": "2021-01-25T01:51:14.576866Z",
          "start_time": "2021-01-25T01:51:14.562904Z"
        },
        "colab": {
          "base_uri": "https://localhost:8080/"
        },
        "id": "WR0-r_OUq9qt",
        "outputId": "3cfcbdb1-c657-49e3-f8a4-43b123b64d1a"
      },
      "source": [
        "df.shape"
      ],
      "execution_count": 7,
      "outputs": [
        {
          "output_type": "execute_result",
          "data": {
            "text/plain": [
              "(2037, 14)"
            ]
          },
          "metadata": {
            "tags": []
          },
          "execution_count": 7
        }
      ]
    },
    {
      "cell_type": "code",
      "metadata": {
        "ExecuteTime": {
          "end_time": "2021-01-25T01:51:16.523597Z",
          "start_time": "2021-01-25T01:51:16.508638Z"
        },
        "colab": {
          "base_uri": "https://localhost:8080/",
          "height": 452
        },
        "id": "NUfEWB3Oq9qu",
        "outputId": "4d427b74-6db2-4a92-fed2-ed9a48572432"
      },
      "source": [
        "df.head(13)"
      ],
      "execution_count": 8,
      "outputs": [
        {
          "output_type": "execute_result",
          "data": {
            "text/html": [
              "<div>\n",
              "<style scoped>\n",
              "    .dataframe tbody tr th:only-of-type {\n",
              "        vertical-align: middle;\n",
              "    }\n",
              "\n",
              "    .dataframe tbody tr th {\n",
              "        vertical-align: top;\n",
              "    }\n",
              "\n",
              "    .dataframe thead th {\n",
              "        text-align: right;\n",
              "    }\n",
              "</style>\n",
              "<table border=\"1\" class=\"dataframe\">\n",
              "  <thead>\n",
              "    <tr style=\"text-align: right;\">\n",
              "      <th></th>\n",
              "      <th>색인</th>\n",
              "      <th>타임스탬프(YYYY-MM-DDThh:mm:ss)</th>\n",
              "      <th>이벤트 유형</th>\n",
              "      <th>이벤트 하위 유형</th>\n",
              "      <th>환자 정보</th>\n",
              "      <th>장치 정보</th>\n",
              "      <th>소스 장치 ID</th>\n",
              "      <th>포도당 값 (mg/dL)</th>\n",
              "      <th>인슐린 값(u)</th>\n",
              "      <th>탄수화물 값 (그램)</th>\n",
              "      <th>기간(hh:mm:ss)</th>\n",
              "      <th>포도당 변화율 (mg/dL/min)</th>\n",
              "      <th>트랜스미터 시간 (배장 정수)</th>\n",
              "      <th>트랜스미터 ID</th>\n",
              "    </tr>\n",
              "  </thead>\n",
              "  <tbody>\n",
              "    <tr>\n",
              "      <th>0</th>\n",
              "      <td>1</td>\n",
              "      <td>NaN</td>\n",
              "      <td>이름</td>\n",
              "      <td>NaN</td>\n",
              "      <td>sch</td>\n",
              "      <td>NaN</td>\n",
              "      <td>NaN</td>\n",
              "      <td>NaN</td>\n",
              "      <td>NaN</td>\n",
              "      <td>NaN</td>\n",
              "      <td>NaN</td>\n",
              "      <td>NaN</td>\n",
              "      <td>NaN</td>\n",
              "      <td>NaN</td>\n",
              "    </tr>\n",
              "    <tr>\n",
              "      <th>1</th>\n",
              "      <td>2</td>\n",
              "      <td>NaN</td>\n",
              "      <td>성</td>\n",
              "      <td>NaN</td>\n",
              "      <td>s</td>\n",
              "      <td>NaN</td>\n",
              "      <td>NaN</td>\n",
              "      <td>NaN</td>\n",
              "      <td>NaN</td>\n",
              "      <td>NaN</td>\n",
              "      <td>NaN</td>\n",
              "      <td>NaN</td>\n",
              "      <td>NaN</td>\n",
              "      <td>NaN</td>\n",
              "    </tr>\n",
              "    <tr>\n",
              "      <th>2</th>\n",
              "      <td>3</td>\n",
              "      <td>NaN</td>\n",
              "      <td>생년월일</td>\n",
              "      <td>NaN</td>\n",
              "      <td>1990-01-01 00:00:00</td>\n",
              "      <td>NaN</td>\n",
              "      <td>NaN</td>\n",
              "      <td>NaN</td>\n",
              "      <td>NaN</td>\n",
              "      <td>NaN</td>\n",
              "      <td>NaN</td>\n",
              "      <td>NaN</td>\n",
              "      <td>NaN</td>\n",
              "      <td>NaN</td>\n",
              "    </tr>\n",
              "    <tr>\n",
              "      <th>3</th>\n",
              "      <td>4</td>\n",
              "      <td>NaN</td>\n",
              "      <td>장치</td>\n",
              "      <td>NaN</td>\n",
              "      <td>NaN</td>\n",
              "      <td>Dexcom G5 Mobile App</td>\n",
              "      <td>Android</td>\n",
              "      <td>NaN</td>\n",
              "      <td>NaN</td>\n",
              "      <td>NaN</td>\n",
              "      <td>NaN</td>\n",
              "      <td>NaN</td>\n",
              "      <td>NaN</td>\n",
              "      <td>NaN</td>\n",
              "    </tr>\n",
              "    <tr>\n",
              "      <th>4</th>\n",
              "      <td>5</td>\n",
              "      <td>NaN</td>\n",
              "      <td>경고</td>\n",
              "      <td>하락</td>\n",
              "      <td>NaN</td>\n",
              "      <td>NaN</td>\n",
              "      <td>Android</td>\n",
              "      <td>NaN</td>\n",
              "      <td>NaN</td>\n",
              "      <td>NaN</td>\n",
              "      <td>NaN</td>\n",
              "      <td>3.0</td>\n",
              "      <td>NaN</td>\n",
              "      <td>NaN</td>\n",
              "    </tr>\n",
              "    <tr>\n",
              "      <th>5</th>\n",
              "      <td>6</td>\n",
              "      <td>NaN</td>\n",
              "      <td>경고</td>\n",
              "      <td>높음</td>\n",
              "      <td>NaN</td>\n",
              "      <td>NaN</td>\n",
              "      <td>Android</td>\n",
              "      <td>400</td>\n",
              "      <td>NaN</td>\n",
              "      <td>NaN</td>\n",
              "      <td>NaN</td>\n",
              "      <td>NaN</td>\n",
              "      <td>NaN</td>\n",
              "      <td>NaN</td>\n",
              "    </tr>\n",
              "    <tr>\n",
              "      <th>6</th>\n",
              "      <td>7</td>\n",
              "      <td>NaN</td>\n",
              "      <td>경고</td>\n",
              "      <td>낮음</td>\n",
              "      <td>NaN</td>\n",
              "      <td>NaN</td>\n",
              "      <td>Android</td>\n",
              "      <td>60</td>\n",
              "      <td>NaN</td>\n",
              "      <td>NaN</td>\n",
              "      <td>NaN</td>\n",
              "      <td>NaN</td>\n",
              "      <td>NaN</td>\n",
              "      <td>NaN</td>\n",
              "    </tr>\n",
              "    <tr>\n",
              "      <th>7</th>\n",
              "      <td>8</td>\n",
              "      <td>NaN</td>\n",
              "      <td>경고</td>\n",
              "      <td>신호 손실</td>\n",
              "      <td>NaN</td>\n",
              "      <td>NaN</td>\n",
              "      <td>Android</td>\n",
              "      <td>NaN</td>\n",
              "      <td>NaN</td>\n",
              "      <td>NaN</td>\n",
              "      <td>00:30:00</td>\n",
              "      <td>NaN</td>\n",
              "      <td>NaN</td>\n",
              "      <td>NaN</td>\n",
              "    </tr>\n",
              "    <tr>\n",
              "      <th>8</th>\n",
              "      <td>9</td>\n",
              "      <td>NaN</td>\n",
              "      <td>경고</td>\n",
              "      <td>상승</td>\n",
              "      <td>NaN</td>\n",
              "      <td>NaN</td>\n",
              "      <td>Android</td>\n",
              "      <td>NaN</td>\n",
              "      <td>NaN</td>\n",
              "      <td>NaN</td>\n",
              "      <td>NaN</td>\n",
              "      <td>3.0</td>\n",
              "      <td>NaN</td>\n",
              "      <td>NaN</td>\n",
              "    </tr>\n",
              "    <tr>\n",
              "      <th>9</th>\n",
              "      <td>10</td>\n",
              "      <td>NaN</td>\n",
              "      <td>경고</td>\n",
              "      <td>매우 낮음</td>\n",
              "      <td>NaN</td>\n",
              "      <td>NaN</td>\n",
              "      <td>Android</td>\n",
              "      <td>55</td>\n",
              "      <td>NaN</td>\n",
              "      <td>NaN</td>\n",
              "      <td>NaN</td>\n",
              "      <td>NaN</td>\n",
              "      <td>NaN</td>\n",
              "      <td>NaN</td>\n",
              "    </tr>\n",
              "    <tr>\n",
              "      <th>10</th>\n",
              "      <td>11</td>\n",
              "      <td>2019-09-09T12:03:51</td>\n",
              "      <td>교정</td>\n",
              "      <td>NaN</td>\n",
              "      <td>NaN</td>\n",
              "      <td>NaN</td>\n",
              "      <td>Android</td>\n",
              "      <td>148</td>\n",
              "      <td>NaN</td>\n",
              "      <td>NaN</td>\n",
              "      <td>NaN</td>\n",
              "      <td>NaN</td>\n",
              "      <td>NaN</td>\n",
              "      <td>40EPWH</td>\n",
              "    </tr>\n",
              "    <tr>\n",
              "      <th>11</th>\n",
              "      <td>12</td>\n",
              "      <td>2019-09-09T12:04:03</td>\n",
              "      <td>교정</td>\n",
              "      <td>NaN</td>\n",
              "      <td>NaN</td>\n",
              "      <td>NaN</td>\n",
              "      <td>Android</td>\n",
              "      <td>148</td>\n",
              "      <td>NaN</td>\n",
              "      <td>NaN</td>\n",
              "      <td>NaN</td>\n",
              "      <td>NaN</td>\n",
              "      <td>NaN</td>\n",
              "      <td>40EPWH</td>\n",
              "    </tr>\n",
              "    <tr>\n",
              "      <th>12</th>\n",
              "      <td>13</td>\n",
              "      <td>2019-09-09T12:04:39</td>\n",
              "      <td>EGV</td>\n",
              "      <td>NaN</td>\n",
              "      <td>NaN</td>\n",
              "      <td>NaN</td>\n",
              "      <td>Android</td>\n",
              "      <td>143</td>\n",
              "      <td>NaN</td>\n",
              "      <td>NaN</td>\n",
              "      <td>NaN</td>\n",
              "      <td>NaN</td>\n",
              "      <td>3529895.0</td>\n",
              "      <td>40EPWH</td>\n",
              "    </tr>\n",
              "  </tbody>\n",
              "</table>\n",
              "</div>"
            ],
            "text/plain": [
              "    색인 타임스탬프(YYYY-MM-DDThh:mm:ss) 이벤트 유형 이벤트 하위 유형                환자 정보  \\\n",
              "0    1                        NaN     이름       NaN                  sch   \n",
              "1    2                        NaN      성       NaN                    s   \n",
              "2    3                        NaN   생년월일       NaN  1990-01-01 00:00:00   \n",
              "3    4                        NaN     장치       NaN                  NaN   \n",
              "4    5                        NaN     경고        하락                  NaN   \n",
              "5    6                        NaN     경고        높음                  NaN   \n",
              "6    7                        NaN     경고        낮음                  NaN   \n",
              "7    8                        NaN     경고     신호 손실                  NaN   \n",
              "8    9                        NaN     경고        상승                  NaN   \n",
              "9   10                        NaN     경고     매우 낮음                  NaN   \n",
              "10  11        2019-09-09T12:03:51     교정       NaN                  NaN   \n",
              "11  12        2019-09-09T12:04:03     교정       NaN                  NaN   \n",
              "12  13        2019-09-09T12:04:39    EGV       NaN                  NaN   \n",
              "\n",
              "                   장치 정보 소스 장치 ID 포도당 값 (mg/dL)  인슐린 값(u)  탄수화물 값 (그램)  \\\n",
              "0                    NaN      NaN           NaN       NaN          NaN   \n",
              "1                    NaN      NaN           NaN       NaN          NaN   \n",
              "2                    NaN      NaN           NaN       NaN          NaN   \n",
              "3   Dexcom G5 Mobile App  Android           NaN       NaN          NaN   \n",
              "4                    NaN  Android           NaN       NaN          NaN   \n",
              "5                    NaN  Android           400       NaN          NaN   \n",
              "6                    NaN  Android            60       NaN          NaN   \n",
              "7                    NaN  Android           NaN       NaN          NaN   \n",
              "8                    NaN  Android           NaN       NaN          NaN   \n",
              "9                    NaN  Android            55       NaN          NaN   \n",
              "10                   NaN  Android           148       NaN          NaN   \n",
              "11                   NaN  Android           148       NaN          NaN   \n",
              "12                   NaN  Android           143       NaN          NaN   \n",
              "\n",
              "   기간(hh:mm:ss)  포도당 변화율 (mg/dL/min)  트랜스미터 시간 (배장 정수) 트랜스미터 ID  \n",
              "0           NaN                  NaN               NaN      NaN  \n",
              "1           NaN                  NaN               NaN      NaN  \n",
              "2           NaN                  NaN               NaN      NaN  \n",
              "3           NaN                  NaN               NaN      NaN  \n",
              "4           NaN                  3.0               NaN      NaN  \n",
              "5           NaN                  NaN               NaN      NaN  \n",
              "6           NaN                  NaN               NaN      NaN  \n",
              "7      00:30:00                  NaN               NaN      NaN  \n",
              "8           NaN                  3.0               NaN      NaN  \n",
              "9           NaN                  NaN               NaN      NaN  \n",
              "10          NaN                  NaN               NaN   40EPWH  \n",
              "11          NaN                  NaN               NaN   40EPWH  \n",
              "12          NaN                  NaN         3529895.0   40EPWH  "
            ]
          },
          "metadata": {
            "tags": []
          },
          "execution_count": 8
        }
      ]
    },
    {
      "cell_type": "code",
      "metadata": {
        "ExecuteTime": {
          "end_time": "2021-01-25T01:51:16.538557Z",
          "start_time": "2021-01-25T01:51:16.525593Z"
        },
        "id": "ffJCYqbfq9qu"
      },
      "source": [
        "#필요없는 열 제거\n",
        "cols = ['색인', '이벤트 하위 유형', '환자 정보', '장치 정보', '소스 장치 ID', '기간(hh:mm:ss)', '포도당 변화율 (mg/dL/min)', '트랜스미터 시간 (배장 정수)', '트랜스미터 ID']\n",
        "df.drop(cols, axis=1, inplace=True)\n"
      ],
      "execution_count": 9,
      "outputs": []
    },
    {
      "cell_type": "code",
      "metadata": {
        "ExecuteTime": {
          "end_time": "2021-01-25T01:51:19.726562Z",
          "start_time": "2021-01-25T01:51:19.711592Z"
        },
        "id": "zBXR3xmWq9qu"
      },
      "source": [
        "df=df.rename({'타임스탬프(YYYY-MM-DDThh:mm:ss)':'Timestamp','포도당 값 (mg/dL)':'Glucose','이벤트 유형':'Event',\n",
        "             '인슐린 값(u)':'Insulin','탄수화물 값 (그램)':'Meal'},axis='columns')"
      ],
      "execution_count": 10,
      "outputs": []
    },
    {
      "cell_type": "code",
      "metadata": {
        "ExecuteTime": {
          "end_time": "2021-01-25T01:51:21.609517Z",
          "start_time": "2021-01-25T01:51:21.594557Z"
        },
        "colab": {
          "base_uri": "https://localhost:8080/"
        },
        "id": "P1FIKbkoq9qv",
        "outputId": "e2c39455-4a1e-42e7-8059-303738b788fa"
      },
      "source": [
        "df['Event'].value_counts()"
      ],
      "execution_count": 11,
      "outputs": [
        {
          "output_type": "execute_result",
          "data": {
            "text/plain": [
              "EGV     1985\n",
              "교정        36\n",
              "인슐린        6\n",
              "경고         6\n",
              "성          1\n",
              "생년월일       1\n",
              "이름         1\n",
              "장치         1\n",
              "Name: Event, dtype: int64"
            ]
          },
          "metadata": {
            "tags": []
          },
          "execution_count": 11
        }
      ]
    },
    {
      "cell_type": "code",
      "metadata": {
        "ExecuteTime": {
          "end_time": "2021-01-25T01:51:21.856856Z",
          "start_time": "2021-01-25T01:51:21.841897Z"
        },
        "colab": {
          "base_uri": "https://localhost:8080/"
        },
        "id": "O09mun7lq9qv",
        "outputId": "af7f8589-8cdf-48dd-ca03-5bc93124f206"
      },
      "source": [
        "df['Glucose'].value_counts()"
      ],
      "execution_count": 12,
      "outputs": [
        {
          "output_type": "execute_result",
          "data": {
            "text/plain": [
              "153    29\n",
              "132    25\n",
              "130    23\n",
              "131    23\n",
              "184    23\n",
              "       ..\n",
              "330     1\n",
              "336     1\n",
              "339     1\n",
              "343     1\n",
              "40      1\n",
              "Name: Glucose, Length: 261, dtype: int64"
            ]
          },
          "metadata": {
            "tags": []
          },
          "execution_count": 12
        }
      ]
    },
    {
      "cell_type": "code",
      "metadata": {
        "ExecuteTime": {
          "end_time": "2021-01-25T01:51:26.308136Z",
          "start_time": "2021-01-25T01:51:26.293177Z"
        },
        "colab": {
          "base_uri": "https://localhost:8080/",
          "height": 204
        },
        "id": "ptjIo4sYq9qv",
        "outputId": "318b88ea-1abd-4d3e-a5a7-921030a4ebb9"
      },
      "source": [
        "df.tail()"
      ],
      "execution_count": 13,
      "outputs": [
        {
          "output_type": "execute_result",
          "data": {
            "text/html": [
              "<div>\n",
              "<style scoped>\n",
              "    .dataframe tbody tr th:only-of-type {\n",
              "        vertical-align: middle;\n",
              "    }\n",
              "\n",
              "    .dataframe tbody tr th {\n",
              "        vertical-align: top;\n",
              "    }\n",
              "\n",
              "    .dataframe thead th {\n",
              "        text-align: right;\n",
              "    }\n",
              "</style>\n",
              "<table border=\"1\" class=\"dataframe\">\n",
              "  <thead>\n",
              "    <tr style=\"text-align: right;\">\n",
              "      <th></th>\n",
              "      <th>Timestamp</th>\n",
              "      <th>Event</th>\n",
              "      <th>Glucose</th>\n",
              "      <th>Insulin</th>\n",
              "      <th>Meal</th>\n",
              "    </tr>\n",
              "  </thead>\n",
              "  <tbody>\n",
              "    <tr>\n",
              "      <th>2032</th>\n",
              "      <td>2019-09-16T09:44:04</td>\n",
              "      <td>EGV</td>\n",
              "      <td>79</td>\n",
              "      <td>NaN</td>\n",
              "      <td>NaN</td>\n",
              "    </tr>\n",
              "    <tr>\n",
              "      <th>2033</th>\n",
              "      <td>2019-09-16T09:49:03</td>\n",
              "      <td>EGV</td>\n",
              "      <td>82</td>\n",
              "      <td>NaN</td>\n",
              "      <td>NaN</td>\n",
              "    </tr>\n",
              "    <tr>\n",
              "      <th>2034</th>\n",
              "      <td>2019-09-16T09:54:04</td>\n",
              "      <td>EGV</td>\n",
              "      <td>87</td>\n",
              "      <td>NaN</td>\n",
              "      <td>NaN</td>\n",
              "    </tr>\n",
              "    <tr>\n",
              "      <th>2035</th>\n",
              "      <td>2019-09-16T09:59:04</td>\n",
              "      <td>EGV</td>\n",
              "      <td>94</td>\n",
              "      <td>NaN</td>\n",
              "      <td>NaN</td>\n",
              "    </tr>\n",
              "    <tr>\n",
              "      <th>2036</th>\n",
              "      <td>2019-09-16T10:00:14</td>\n",
              "      <td>교정</td>\n",
              "      <td>137</td>\n",
              "      <td>NaN</td>\n",
              "      <td>NaN</td>\n",
              "    </tr>\n",
              "  </tbody>\n",
              "</table>\n",
              "</div>"
            ],
            "text/plain": [
              "                Timestamp Event Glucose  Insulin  Meal\n",
              "2032  2019-09-16T09:44:04   EGV      79      NaN   NaN\n",
              "2033  2019-09-16T09:49:03   EGV      82      NaN   NaN\n",
              "2034  2019-09-16T09:54:04   EGV      87      NaN   NaN\n",
              "2035  2019-09-16T09:59:04   EGV      94      NaN   NaN\n",
              "2036  2019-09-16T10:00:14    교정     137      NaN   NaN"
            ]
          },
          "metadata": {
            "tags": []
          },
          "execution_count": 13
        }
      ]
    },
    {
      "cell_type": "code",
      "metadata": {
        "ExecuteTime": {
          "end_time": "2021-01-25T01:51:28.257217Z",
          "start_time": "2021-01-25T01:51:28.243254Z"
        },
        "colab": {
          "base_uri": "https://localhost:8080/"
        },
        "id": "37jYwbU0q9qv",
        "outputId": "fefbbc4a-dd52-4b24-8197-7f5b7281f631"
      },
      "source": [
        "# 인슐린 투여횟수\n",
        "df['Insulin'].value_counts()"
      ],
      "execution_count": 14,
      "outputs": [
        {
          "output_type": "execute_result",
          "data": {
            "text/plain": [
              "18.0    2\n",
              "8.0     2\n",
              "10.0    1\n",
              "12.0    1\n",
              "Name: Insulin, dtype: int64"
            ]
          },
          "metadata": {
            "tags": []
          },
          "execution_count": 14
        }
      ]
    },
    {
      "cell_type": "code",
      "metadata": {
        "ExecuteTime": {
          "end_time": "2021-01-25T01:51:30.174549Z",
          "start_time": "2021-01-25T01:51:30.160585Z"
        },
        "colab": {
          "base_uri": "https://localhost:8080/"
        },
        "id": "LmVKw59bq9qv",
        "outputId": "80716814-44b2-4165-ed37-f93049ae5e5f"
      },
      "source": [
        "# 식사 횟수\n",
        "df['Meal'].value_counts()"
      ],
      "execution_count": 15,
      "outputs": [
        {
          "output_type": "execute_result",
          "data": {
            "text/plain": [
              "Series([], Name: Meal, dtype: int64)"
            ]
          },
          "metadata": {
            "tags": []
          },
          "execution_count": 15
        }
      ]
    },
    {
      "cell_type": "code",
      "metadata": {
        "ExecuteTime": {
          "end_time": "2021-01-25T01:51:32.245847Z",
          "start_time": "2021-01-25T01:51:32.230887Z"
        },
        "colab": {
          "base_uri": "https://localhost:8080/",
          "height": 514
        },
        "id": "lMmVyYYcq9qw",
        "outputId": "65b3ccbd-a274-4d63-d5d5-f53055f052dd"
      },
      "source": [
        "df.head(15)"
      ],
      "execution_count": 16,
      "outputs": [
        {
          "output_type": "execute_result",
          "data": {
            "text/html": [
              "<div>\n",
              "<style scoped>\n",
              "    .dataframe tbody tr th:only-of-type {\n",
              "        vertical-align: middle;\n",
              "    }\n",
              "\n",
              "    .dataframe tbody tr th {\n",
              "        vertical-align: top;\n",
              "    }\n",
              "\n",
              "    .dataframe thead th {\n",
              "        text-align: right;\n",
              "    }\n",
              "</style>\n",
              "<table border=\"1\" class=\"dataframe\">\n",
              "  <thead>\n",
              "    <tr style=\"text-align: right;\">\n",
              "      <th></th>\n",
              "      <th>Timestamp</th>\n",
              "      <th>Event</th>\n",
              "      <th>Glucose</th>\n",
              "      <th>Insulin</th>\n",
              "      <th>Meal</th>\n",
              "    </tr>\n",
              "  </thead>\n",
              "  <tbody>\n",
              "    <tr>\n",
              "      <th>0</th>\n",
              "      <td>NaN</td>\n",
              "      <td>이름</td>\n",
              "      <td>NaN</td>\n",
              "      <td>NaN</td>\n",
              "      <td>NaN</td>\n",
              "    </tr>\n",
              "    <tr>\n",
              "      <th>1</th>\n",
              "      <td>NaN</td>\n",
              "      <td>성</td>\n",
              "      <td>NaN</td>\n",
              "      <td>NaN</td>\n",
              "      <td>NaN</td>\n",
              "    </tr>\n",
              "    <tr>\n",
              "      <th>2</th>\n",
              "      <td>NaN</td>\n",
              "      <td>생년월일</td>\n",
              "      <td>NaN</td>\n",
              "      <td>NaN</td>\n",
              "      <td>NaN</td>\n",
              "    </tr>\n",
              "    <tr>\n",
              "      <th>3</th>\n",
              "      <td>NaN</td>\n",
              "      <td>장치</td>\n",
              "      <td>NaN</td>\n",
              "      <td>NaN</td>\n",
              "      <td>NaN</td>\n",
              "    </tr>\n",
              "    <tr>\n",
              "      <th>4</th>\n",
              "      <td>NaN</td>\n",
              "      <td>경고</td>\n",
              "      <td>NaN</td>\n",
              "      <td>NaN</td>\n",
              "      <td>NaN</td>\n",
              "    </tr>\n",
              "    <tr>\n",
              "      <th>5</th>\n",
              "      <td>NaN</td>\n",
              "      <td>경고</td>\n",
              "      <td>400</td>\n",
              "      <td>NaN</td>\n",
              "      <td>NaN</td>\n",
              "    </tr>\n",
              "    <tr>\n",
              "      <th>6</th>\n",
              "      <td>NaN</td>\n",
              "      <td>경고</td>\n",
              "      <td>60</td>\n",
              "      <td>NaN</td>\n",
              "      <td>NaN</td>\n",
              "    </tr>\n",
              "    <tr>\n",
              "      <th>7</th>\n",
              "      <td>NaN</td>\n",
              "      <td>경고</td>\n",
              "      <td>NaN</td>\n",
              "      <td>NaN</td>\n",
              "      <td>NaN</td>\n",
              "    </tr>\n",
              "    <tr>\n",
              "      <th>8</th>\n",
              "      <td>NaN</td>\n",
              "      <td>경고</td>\n",
              "      <td>NaN</td>\n",
              "      <td>NaN</td>\n",
              "      <td>NaN</td>\n",
              "    </tr>\n",
              "    <tr>\n",
              "      <th>9</th>\n",
              "      <td>NaN</td>\n",
              "      <td>경고</td>\n",
              "      <td>55</td>\n",
              "      <td>NaN</td>\n",
              "      <td>NaN</td>\n",
              "    </tr>\n",
              "    <tr>\n",
              "      <th>10</th>\n",
              "      <td>2019-09-09T12:03:51</td>\n",
              "      <td>교정</td>\n",
              "      <td>148</td>\n",
              "      <td>NaN</td>\n",
              "      <td>NaN</td>\n",
              "    </tr>\n",
              "    <tr>\n",
              "      <th>11</th>\n",
              "      <td>2019-09-09T12:04:03</td>\n",
              "      <td>교정</td>\n",
              "      <td>148</td>\n",
              "      <td>NaN</td>\n",
              "      <td>NaN</td>\n",
              "    </tr>\n",
              "    <tr>\n",
              "      <th>12</th>\n",
              "      <td>2019-09-09T12:04:39</td>\n",
              "      <td>EGV</td>\n",
              "      <td>143</td>\n",
              "      <td>NaN</td>\n",
              "      <td>NaN</td>\n",
              "    </tr>\n",
              "    <tr>\n",
              "      <th>13</th>\n",
              "      <td>2019-09-09T12:09:33</td>\n",
              "      <td>EGV</td>\n",
              "      <td>143</td>\n",
              "      <td>NaN</td>\n",
              "      <td>NaN</td>\n",
              "    </tr>\n",
              "    <tr>\n",
              "      <th>14</th>\n",
              "      <td>2019-09-09T12:14:34</td>\n",
              "      <td>EGV</td>\n",
              "      <td>147</td>\n",
              "      <td>NaN</td>\n",
              "      <td>NaN</td>\n",
              "    </tr>\n",
              "  </tbody>\n",
              "</table>\n",
              "</div>"
            ],
            "text/plain": [
              "              Timestamp Event Glucose  Insulin  Meal\n",
              "0                   NaN    이름     NaN      NaN   NaN\n",
              "1                   NaN     성     NaN      NaN   NaN\n",
              "2                   NaN  생년월일     NaN      NaN   NaN\n",
              "3                   NaN    장치     NaN      NaN   NaN\n",
              "4                   NaN    경고     NaN      NaN   NaN\n",
              "5                   NaN    경고     400      NaN   NaN\n",
              "6                   NaN    경고      60      NaN   NaN\n",
              "7                   NaN    경고     NaN      NaN   NaN\n",
              "8                   NaN    경고     NaN      NaN   NaN\n",
              "9                   NaN    경고      55      NaN   NaN\n",
              "10  2019-09-09T12:03:51    교정     148      NaN   NaN\n",
              "11  2019-09-09T12:04:03    교정     148      NaN   NaN\n",
              "12  2019-09-09T12:04:39   EGV     143      NaN   NaN\n",
              "13  2019-09-09T12:09:33   EGV     143      NaN   NaN\n",
              "14  2019-09-09T12:14:34   EGV     147      NaN   NaN"
            ]
          },
          "metadata": {
            "tags": []
          },
          "execution_count": 16
        }
      ]
    },
    {
      "cell_type": "code",
      "metadata": {
        "ExecuteTime": {
          "end_time": "2021-01-25T01:51:32.261804Z",
          "start_time": "2021-01-25T01:51:32.246845Z"
        },
        "id": "WAanR7Flq9qw"
      },
      "source": [
        "# Timestamp != NaN일 때까지 count하고 \n",
        "# Nan에 해당하는 인스턴스 제거 \n",
        "df=df.dropna(subset=['Timestamp'])"
      ],
      "execution_count": 17,
      "outputs": []
    },
    {
      "cell_type": "code",
      "metadata": {
        "ExecuteTime": {
          "end_time": "2021-01-25T01:51:36.348768Z",
          "start_time": "2021-01-25T01:51:36.334807Z"
        },
        "colab": {
          "base_uri": "https://localhost:8080/",
          "height": 669
        },
        "id": "Ndq-UYgBq9qw",
        "outputId": "eb9d3535-be99-4116-8f5d-21b44b91b487"
      },
      "source": [
        "df.head(20)"
      ],
      "execution_count": 18,
      "outputs": [
        {
          "output_type": "execute_result",
          "data": {
            "text/html": [
              "<div>\n",
              "<style scoped>\n",
              "    .dataframe tbody tr th:only-of-type {\n",
              "        vertical-align: middle;\n",
              "    }\n",
              "\n",
              "    .dataframe tbody tr th {\n",
              "        vertical-align: top;\n",
              "    }\n",
              "\n",
              "    .dataframe thead th {\n",
              "        text-align: right;\n",
              "    }\n",
              "</style>\n",
              "<table border=\"1\" class=\"dataframe\">\n",
              "  <thead>\n",
              "    <tr style=\"text-align: right;\">\n",
              "      <th></th>\n",
              "      <th>Timestamp</th>\n",
              "      <th>Event</th>\n",
              "      <th>Glucose</th>\n",
              "      <th>Insulin</th>\n",
              "      <th>Meal</th>\n",
              "    </tr>\n",
              "  </thead>\n",
              "  <tbody>\n",
              "    <tr>\n",
              "      <th>10</th>\n",
              "      <td>2019-09-09T12:03:51</td>\n",
              "      <td>교정</td>\n",
              "      <td>148</td>\n",
              "      <td>NaN</td>\n",
              "      <td>NaN</td>\n",
              "    </tr>\n",
              "    <tr>\n",
              "      <th>11</th>\n",
              "      <td>2019-09-09T12:04:03</td>\n",
              "      <td>교정</td>\n",
              "      <td>148</td>\n",
              "      <td>NaN</td>\n",
              "      <td>NaN</td>\n",
              "    </tr>\n",
              "    <tr>\n",
              "      <th>12</th>\n",
              "      <td>2019-09-09T12:04:39</td>\n",
              "      <td>EGV</td>\n",
              "      <td>143</td>\n",
              "      <td>NaN</td>\n",
              "      <td>NaN</td>\n",
              "    </tr>\n",
              "    <tr>\n",
              "      <th>13</th>\n",
              "      <td>2019-09-09T12:09:33</td>\n",
              "      <td>EGV</td>\n",
              "      <td>143</td>\n",
              "      <td>NaN</td>\n",
              "      <td>NaN</td>\n",
              "    </tr>\n",
              "    <tr>\n",
              "      <th>14</th>\n",
              "      <td>2019-09-09T12:14:34</td>\n",
              "      <td>EGV</td>\n",
              "      <td>147</td>\n",
              "      <td>NaN</td>\n",
              "      <td>NaN</td>\n",
              "    </tr>\n",
              "    <tr>\n",
              "      <th>15</th>\n",
              "      <td>2019-09-09T12:19:33</td>\n",
              "      <td>EGV</td>\n",
              "      <td>145</td>\n",
              "      <td>NaN</td>\n",
              "      <td>NaN</td>\n",
              "    </tr>\n",
              "    <tr>\n",
              "      <th>16</th>\n",
              "      <td>2019-09-09T12:24:33</td>\n",
              "      <td>EGV</td>\n",
              "      <td>147</td>\n",
              "      <td>NaN</td>\n",
              "      <td>NaN</td>\n",
              "    </tr>\n",
              "    <tr>\n",
              "      <th>17</th>\n",
              "      <td>2019-09-09T12:29:33</td>\n",
              "      <td>EGV</td>\n",
              "      <td>156</td>\n",
              "      <td>NaN</td>\n",
              "      <td>NaN</td>\n",
              "    </tr>\n",
              "    <tr>\n",
              "      <th>18</th>\n",
              "      <td>2019-09-09T12:34:33</td>\n",
              "      <td>EGV</td>\n",
              "      <td>159</td>\n",
              "      <td>NaN</td>\n",
              "      <td>NaN</td>\n",
              "    </tr>\n",
              "    <tr>\n",
              "      <th>19</th>\n",
              "      <td>2019-09-09T12:39:33</td>\n",
              "      <td>EGV</td>\n",
              "      <td>160</td>\n",
              "      <td>NaN</td>\n",
              "      <td>NaN</td>\n",
              "    </tr>\n",
              "    <tr>\n",
              "      <th>20</th>\n",
              "      <td>2019-09-09T12:44:33</td>\n",
              "      <td>EGV</td>\n",
              "      <td>154</td>\n",
              "      <td>NaN</td>\n",
              "      <td>NaN</td>\n",
              "    </tr>\n",
              "    <tr>\n",
              "      <th>21</th>\n",
              "      <td>2019-09-09T12:49:33</td>\n",
              "      <td>EGV</td>\n",
              "      <td>150</td>\n",
              "      <td>NaN</td>\n",
              "      <td>NaN</td>\n",
              "    </tr>\n",
              "    <tr>\n",
              "      <th>22</th>\n",
              "      <td>2019-09-09T12:54:33</td>\n",
              "      <td>EGV</td>\n",
              "      <td>139</td>\n",
              "      <td>NaN</td>\n",
              "      <td>NaN</td>\n",
              "    </tr>\n",
              "    <tr>\n",
              "      <th>23</th>\n",
              "      <td>2019-09-09T12:59:33</td>\n",
              "      <td>EGV</td>\n",
              "      <td>134</td>\n",
              "      <td>NaN</td>\n",
              "      <td>NaN</td>\n",
              "    </tr>\n",
              "    <tr>\n",
              "      <th>24</th>\n",
              "      <td>2019-09-09T13:04:33</td>\n",
              "      <td>EGV</td>\n",
              "      <td>132</td>\n",
              "      <td>NaN</td>\n",
              "      <td>NaN</td>\n",
              "    </tr>\n",
              "    <tr>\n",
              "      <th>25</th>\n",
              "      <td>2019-09-09T13:09:34</td>\n",
              "      <td>EGV</td>\n",
              "      <td>130</td>\n",
              "      <td>NaN</td>\n",
              "      <td>NaN</td>\n",
              "    </tr>\n",
              "    <tr>\n",
              "      <th>26</th>\n",
              "      <td>2019-09-09T13:14:34</td>\n",
              "      <td>EGV</td>\n",
              "      <td>134</td>\n",
              "      <td>NaN</td>\n",
              "      <td>NaN</td>\n",
              "    </tr>\n",
              "    <tr>\n",
              "      <th>27</th>\n",
              "      <td>2019-09-09T13:19:34</td>\n",
              "      <td>EGV</td>\n",
              "      <td>139</td>\n",
              "      <td>NaN</td>\n",
              "      <td>NaN</td>\n",
              "    </tr>\n",
              "    <tr>\n",
              "      <th>28</th>\n",
              "      <td>2019-09-09T13:24:34</td>\n",
              "      <td>EGV</td>\n",
              "      <td>153</td>\n",
              "      <td>NaN</td>\n",
              "      <td>NaN</td>\n",
              "    </tr>\n",
              "    <tr>\n",
              "      <th>29</th>\n",
              "      <td>2019-09-09T13:29:34</td>\n",
              "      <td>EGV</td>\n",
              "      <td>154</td>\n",
              "      <td>NaN</td>\n",
              "      <td>NaN</td>\n",
              "    </tr>\n",
              "  </tbody>\n",
              "</table>\n",
              "</div>"
            ],
            "text/plain": [
              "              Timestamp Event Glucose  Insulin  Meal\n",
              "10  2019-09-09T12:03:51    교정     148      NaN   NaN\n",
              "11  2019-09-09T12:04:03    교정     148      NaN   NaN\n",
              "12  2019-09-09T12:04:39   EGV     143      NaN   NaN\n",
              "13  2019-09-09T12:09:33   EGV     143      NaN   NaN\n",
              "14  2019-09-09T12:14:34   EGV     147      NaN   NaN\n",
              "15  2019-09-09T12:19:33   EGV     145      NaN   NaN\n",
              "16  2019-09-09T12:24:33   EGV     147      NaN   NaN\n",
              "17  2019-09-09T12:29:33   EGV     156      NaN   NaN\n",
              "18  2019-09-09T12:34:33   EGV     159      NaN   NaN\n",
              "19  2019-09-09T12:39:33   EGV     160      NaN   NaN\n",
              "20  2019-09-09T12:44:33   EGV     154      NaN   NaN\n",
              "21  2019-09-09T12:49:33   EGV     150      NaN   NaN\n",
              "22  2019-09-09T12:54:33   EGV     139      NaN   NaN\n",
              "23  2019-09-09T12:59:33   EGV     134      NaN   NaN\n",
              "24  2019-09-09T13:04:33   EGV     132      NaN   NaN\n",
              "25  2019-09-09T13:09:34   EGV     130      NaN   NaN\n",
              "26  2019-09-09T13:14:34   EGV     134      NaN   NaN\n",
              "27  2019-09-09T13:19:34   EGV     139      NaN   NaN\n",
              "28  2019-09-09T13:24:34   EGV     153      NaN   NaN\n",
              "29  2019-09-09T13:29:34   EGV     154      NaN   NaN"
            ]
          },
          "metadata": {
            "tags": []
          },
          "execution_count": 18
        }
      ]
    },
    {
      "cell_type": "code",
      "metadata": {
        "ExecuteTime": {
          "end_time": "2021-01-25T01:51:36.364724Z",
          "start_time": "2021-01-25T01:51:36.352757Z"
        },
        "colab": {
          "base_uri": "https://localhost:8080/"
        },
        "id": "ndlieh9Vq9qw",
        "outputId": "49b80832-acca-40bb-dce7-bd043e21d099"
      },
      "source": [
        "df.shape"
      ],
      "execution_count": 19,
      "outputs": [
        {
          "output_type": "execute_result",
          "data": {
            "text/plain": [
              "(2027, 5)"
            ]
          },
          "metadata": {
            "tags": []
          },
          "execution_count": 19
        }
      ]
    },
    {
      "cell_type": "code",
      "metadata": {
        "ExecuteTime": {
          "end_time": "2021-01-25T01:51:38.168923Z",
          "start_time": "2021-01-25T01:51:38.154960Z"
        },
        "id": "UudGLrdmq9qx"
      },
      "source": [
        "# drop한 인스턴스가 있어서 인덱스 리셋\n",
        "df=df.sort_values(by=['Timestamp'],axis=0,ascending=True)\n",
        "df=df.reset_index(drop=True)"
      ],
      "execution_count": 20,
      "outputs": []
    },
    {
      "cell_type": "code",
      "metadata": {
        "ExecuteTime": {
          "end_time": "2021-01-25T01:51:42.311539Z",
          "start_time": "2021-01-25T01:51:42.297576Z"
        },
        "colab": {
          "base_uri": "https://localhost:8080/",
          "height": 514
        },
        "id": "RKsqfYvyq9qx",
        "outputId": "d9f7fb5c-c8ac-4733-8515-6dd1a1450109"
      },
      "source": [
        "df.head(15)"
      ],
      "execution_count": 21,
      "outputs": [
        {
          "output_type": "execute_result",
          "data": {
            "text/html": [
              "<div>\n",
              "<style scoped>\n",
              "    .dataframe tbody tr th:only-of-type {\n",
              "        vertical-align: middle;\n",
              "    }\n",
              "\n",
              "    .dataframe tbody tr th {\n",
              "        vertical-align: top;\n",
              "    }\n",
              "\n",
              "    .dataframe thead th {\n",
              "        text-align: right;\n",
              "    }\n",
              "</style>\n",
              "<table border=\"1\" class=\"dataframe\">\n",
              "  <thead>\n",
              "    <tr style=\"text-align: right;\">\n",
              "      <th></th>\n",
              "      <th>Timestamp</th>\n",
              "      <th>Event</th>\n",
              "      <th>Glucose</th>\n",
              "      <th>Insulin</th>\n",
              "      <th>Meal</th>\n",
              "    </tr>\n",
              "  </thead>\n",
              "  <tbody>\n",
              "    <tr>\n",
              "      <th>0</th>\n",
              "      <td>2019-09-09T12:03:51</td>\n",
              "      <td>교정</td>\n",
              "      <td>148</td>\n",
              "      <td>NaN</td>\n",
              "      <td>NaN</td>\n",
              "    </tr>\n",
              "    <tr>\n",
              "      <th>1</th>\n",
              "      <td>2019-09-09T12:04:03</td>\n",
              "      <td>교정</td>\n",
              "      <td>148</td>\n",
              "      <td>NaN</td>\n",
              "      <td>NaN</td>\n",
              "    </tr>\n",
              "    <tr>\n",
              "      <th>2</th>\n",
              "      <td>2019-09-09T12:04:39</td>\n",
              "      <td>EGV</td>\n",
              "      <td>143</td>\n",
              "      <td>NaN</td>\n",
              "      <td>NaN</td>\n",
              "    </tr>\n",
              "    <tr>\n",
              "      <th>3</th>\n",
              "      <td>2019-09-09T12:09:33</td>\n",
              "      <td>EGV</td>\n",
              "      <td>143</td>\n",
              "      <td>NaN</td>\n",
              "      <td>NaN</td>\n",
              "    </tr>\n",
              "    <tr>\n",
              "      <th>4</th>\n",
              "      <td>2019-09-09T12:14:34</td>\n",
              "      <td>EGV</td>\n",
              "      <td>147</td>\n",
              "      <td>NaN</td>\n",
              "      <td>NaN</td>\n",
              "    </tr>\n",
              "    <tr>\n",
              "      <th>5</th>\n",
              "      <td>2019-09-09T12:19:33</td>\n",
              "      <td>EGV</td>\n",
              "      <td>145</td>\n",
              "      <td>NaN</td>\n",
              "      <td>NaN</td>\n",
              "    </tr>\n",
              "    <tr>\n",
              "      <th>6</th>\n",
              "      <td>2019-09-09T12:24:33</td>\n",
              "      <td>EGV</td>\n",
              "      <td>147</td>\n",
              "      <td>NaN</td>\n",
              "      <td>NaN</td>\n",
              "    </tr>\n",
              "    <tr>\n",
              "      <th>7</th>\n",
              "      <td>2019-09-09T12:29:33</td>\n",
              "      <td>EGV</td>\n",
              "      <td>156</td>\n",
              "      <td>NaN</td>\n",
              "      <td>NaN</td>\n",
              "    </tr>\n",
              "    <tr>\n",
              "      <th>8</th>\n",
              "      <td>2019-09-09T12:34:33</td>\n",
              "      <td>EGV</td>\n",
              "      <td>159</td>\n",
              "      <td>NaN</td>\n",
              "      <td>NaN</td>\n",
              "    </tr>\n",
              "    <tr>\n",
              "      <th>9</th>\n",
              "      <td>2019-09-09T12:39:33</td>\n",
              "      <td>EGV</td>\n",
              "      <td>160</td>\n",
              "      <td>NaN</td>\n",
              "      <td>NaN</td>\n",
              "    </tr>\n",
              "    <tr>\n",
              "      <th>10</th>\n",
              "      <td>2019-09-09T12:44:33</td>\n",
              "      <td>EGV</td>\n",
              "      <td>154</td>\n",
              "      <td>NaN</td>\n",
              "      <td>NaN</td>\n",
              "    </tr>\n",
              "    <tr>\n",
              "      <th>11</th>\n",
              "      <td>2019-09-09T12:49:33</td>\n",
              "      <td>EGV</td>\n",
              "      <td>150</td>\n",
              "      <td>NaN</td>\n",
              "      <td>NaN</td>\n",
              "    </tr>\n",
              "    <tr>\n",
              "      <th>12</th>\n",
              "      <td>2019-09-09T12:54:33</td>\n",
              "      <td>EGV</td>\n",
              "      <td>139</td>\n",
              "      <td>NaN</td>\n",
              "      <td>NaN</td>\n",
              "    </tr>\n",
              "    <tr>\n",
              "      <th>13</th>\n",
              "      <td>2019-09-09T12:59:33</td>\n",
              "      <td>EGV</td>\n",
              "      <td>134</td>\n",
              "      <td>NaN</td>\n",
              "      <td>NaN</td>\n",
              "    </tr>\n",
              "    <tr>\n",
              "      <th>14</th>\n",
              "      <td>2019-09-09T13:04:33</td>\n",
              "      <td>EGV</td>\n",
              "      <td>132</td>\n",
              "      <td>NaN</td>\n",
              "      <td>NaN</td>\n",
              "    </tr>\n",
              "  </tbody>\n",
              "</table>\n",
              "</div>"
            ],
            "text/plain": [
              "              Timestamp Event Glucose  Insulin  Meal\n",
              "0   2019-09-09T12:03:51    교정     148      NaN   NaN\n",
              "1   2019-09-09T12:04:03    교정     148      NaN   NaN\n",
              "2   2019-09-09T12:04:39   EGV     143      NaN   NaN\n",
              "3   2019-09-09T12:09:33   EGV     143      NaN   NaN\n",
              "4   2019-09-09T12:14:34   EGV     147      NaN   NaN\n",
              "5   2019-09-09T12:19:33   EGV     145      NaN   NaN\n",
              "6   2019-09-09T12:24:33   EGV     147      NaN   NaN\n",
              "7   2019-09-09T12:29:33   EGV     156      NaN   NaN\n",
              "8   2019-09-09T12:34:33   EGV     159      NaN   NaN\n",
              "9   2019-09-09T12:39:33   EGV     160      NaN   NaN\n",
              "10  2019-09-09T12:44:33   EGV     154      NaN   NaN\n",
              "11  2019-09-09T12:49:33   EGV     150      NaN   NaN\n",
              "12  2019-09-09T12:54:33   EGV     139      NaN   NaN\n",
              "13  2019-09-09T12:59:33   EGV     134      NaN   NaN\n",
              "14  2019-09-09T13:04:33   EGV     132      NaN   NaN"
            ]
          },
          "metadata": {
            "tags": []
          },
          "execution_count": 21
        }
      ]
    },
    {
      "cell_type": "code",
      "metadata": {
        "ExecuteTime": {
          "end_time": "2021-01-25T01:51:44.377391Z",
          "start_time": "2021-01-25T01:51:44.364427Z"
        },
        "colab": {
          "base_uri": "https://localhost:8080/"
        },
        "id": "Dr0kuMdHq9qx",
        "outputId": "8fbed5b8-08a9-4027-875a-91634e316235"
      },
      "source": [
        "df.shape"
      ],
      "execution_count": 22,
      "outputs": [
        {
          "output_type": "execute_result",
          "data": {
            "text/plain": [
              "(2027, 5)"
            ]
          },
          "metadata": {
            "tags": []
          },
          "execution_count": 22
        }
      ]
    },
    {
      "cell_type": "code",
      "metadata": {
        "ExecuteTime": {
          "end_time": "2021-01-25T01:51:46.355104Z",
          "start_time": "2021-01-25T01:51:46.341141Z"
        },
        "id": "qy3fiZhVq9qx"
      },
      "source": [
        "# 높음, 낮음, 교정 인덱스 저장 \n",
        "high_list=[]\n",
        "low_list=[]\n",
        "calib_list=[]\n",
        "insulin_list=[]\n",
        "meal_list=[]"
      ],
      "execution_count": 23,
      "outputs": []
    },
    {
      "cell_type": "code",
      "metadata": {
        "ExecuteTime": {
          "end_time": "2021-01-25T01:51:46.371062Z",
          "start_time": "2021-01-25T01:51:46.356102Z"
        },
        "id": "P537zeVnq9qx"
      },
      "source": [
        "def isNaN(num):\n",
        "    return num==num"
      ],
      "execution_count": 24,
      "outputs": []
    },
    {
      "cell_type": "code",
      "metadata": {
        "ExecuteTime": {
          "end_time": "2021-01-25T01:51:49.502725Z",
          "start_time": "2021-01-25T01:51:49.489761Z"
        },
        "id": "QZi1ugehq9qx"
      },
      "source": [
        "# 혈당 '높음' 빈도 카운트\n",
        "def glucose_count_high(df,col):\n",
        "    count=0\n",
        "    for i, row in df.iterrows():\n",
        "         val = row[col]\n",
        "         if val=='높음':\n",
        "            count=count+1\n",
        "            high_list.append(i)\n",
        "    print('높음 : ',count)\n",
        "    "
      ],
      "execution_count": 25,
      "outputs": []
    },
    {
      "cell_type": "code",
      "metadata": {
        "ExecuteTime": {
          "end_time": "2021-01-25T01:51:50.251721Z",
          "start_time": "2021-01-25T01:51:50.237759Z"
        },
        "id": "Y3T5yccbq9qx"
      },
      "source": [
        "# 혈당 '낮음' 빈도 카운트\n",
        "def glucose_count_low(df,col):\n",
        "    count=0\n",
        "    for i, row in df.iterrows():\n",
        "         val = row[col]\n",
        "         if val=='낮음':\n",
        "            count=count+1\n",
        "            low_list.append(i)\n",
        "    print('낮음 : ',count)"
      ],
      "execution_count": 26,
      "outputs": []
    },
    {
      "cell_type": "code",
      "metadata": {
        "ExecuteTime": {
          "end_time": "2021-01-25T01:51:54.181151Z",
          "start_time": "2021-01-25T01:51:54.167192Z"
        },
        "id": "QPEIPRM8q9qy"
      },
      "source": [
        "# 혈당 '교정' 빈도 카운트\n",
        "def calibration_count_low(df,col):\n",
        "    count=0\n",
        "    for i, row in df.iterrows():\n",
        "         val = row[col]\n",
        "         if val=='교정':\n",
        "            count=count+1\n",
        "            calib_list.append(i)\n",
        "    print('교정 : ',count)"
      ],
      "execution_count": 27,
      "outputs": []
    },
    {
      "cell_type": "code",
      "metadata": {
        "ExecuteTime": {
          "end_time": "2021-01-25T01:51:56.097402Z",
          "start_time": "2021-01-25T01:51:56.083270Z"
        },
        "id": "0Mf6s7jAq9qy"
      },
      "source": [
        "# 인슐린 카운트 \n",
        "#def insul_count(df,col):\n",
        "#    count=0\n",
        "#    for i, row in df.iterrows():\n",
        "#         val = row[col]\n",
        "#         if val==0:\n",
        "#            count=count+1\n",
        "#            insulin_list.append(i)\n",
        "#    print('인슐린 : ',count)"
      ],
      "execution_count": 28,
      "outputs": []
    },
    {
      "cell_type": "code",
      "metadata": {
        "ExecuteTime": {
          "end_time": "2021-01-25T01:51:57.596418Z",
          "start_time": "2021-01-25T01:51:57.582456Z"
        },
        "id": "hRKoPSWdq9qy"
      },
      "source": [
        "# 인슐린 카운트 \n",
        "def insul_count(df,col):\n",
        "    count=0\n",
        "    for i, row in df.iterrows():\n",
        "         val = row[col]\n",
        "         if isNaN(val)==True:\n",
        "            count=count+1\n",
        "            insulin_list.append(i)\n",
        "    print('인슐린 : ',count)"
      ],
      "execution_count": 29,
      "outputs": []
    },
    {
      "cell_type": "code",
      "metadata": {
        "ExecuteTime": {
          "end_time": "2021-01-25T01:51:58.298583Z",
          "start_time": "2021-01-25T01:51:58.286616Z"
        },
        "id": "U33fUKIeq9qy"
      },
      "source": [
        "# 식사 횟수 카운트 \n",
        "#def meal_count(df,col):\n",
        "#    count=0\n",
        "#    for i, row in df.iterrows():\n",
        "#         val = row[col]\n",
        "#         if val==0:\n",
        "#            count=count+1\n",
        "#            meal_list.append(i)\n",
        "#    print('식사 횟수 : ',count)"
      ],
      "execution_count": 30,
      "outputs": []
    },
    {
      "cell_type": "code",
      "metadata": {
        "ExecuteTime": {
          "end_time": "2021-01-25T01:52:00.266372Z",
          "start_time": "2021-01-25T01:52:00.253356Z"
        },
        "id": "KIBCtRV_q9qy"
      },
      "source": [
        "# 식사 횟수 카운트 \n",
        "def meal_count(df,col):\n",
        "    count=0\n",
        "    for i, row in df.iterrows():\n",
        "         val = row[col]\n",
        "         if isNaN(val)==True:\n",
        "            count=count+1\n",
        "            meal_list.append(i)\n",
        "    print('식사 횟수 : ',count)"
      ],
      "execution_count": 31,
      "outputs": []
    },
    {
      "cell_type": "code",
      "metadata": {
        "ExecuteTime": {
          "end_time": "2021-01-25T01:52:01.682876Z",
          "start_time": "2021-01-25T01:52:01.564191Z"
        },
        "scrolled": true,
        "colab": {
          "base_uri": "https://localhost:8080/"
        },
        "id": "t76CauuJq9qy",
        "outputId": "abf4d530-b6a2-49ef-b7b0-65fedbf15a08"
      },
      "source": [
        "glucose_count_high(df,'Glucose')"
      ],
      "execution_count": 32,
      "outputs": [
        {
          "output_type": "stream",
          "text": [
            "높음 :  0\n"
          ],
          "name": "stdout"
        }
      ]
    },
    {
      "cell_type": "code",
      "metadata": {
        "ExecuteTime": {
          "end_time": "2021-01-25T01:52:01.791803Z",
          "start_time": "2021-01-25T01:52:01.778789Z"
        },
        "colab": {
          "base_uri": "https://localhost:8080/"
        },
        "id": "1jCdOODYq9qz",
        "outputId": "07388815-67fb-4bbf-82c1-22db0898b78f"
      },
      "source": [
        "print('높음 개수 :',len(high_list))"
      ],
      "execution_count": 33,
      "outputs": [
        {
          "output_type": "stream",
          "text": [
            "높음 개수 : 0\n"
          ],
          "name": "stdout"
        }
      ]
    },
    {
      "cell_type": "code",
      "metadata": {
        "ExecuteTime": {
          "end_time": "2021-01-25T01:52:02.448796Z",
          "start_time": "2021-01-25T01:52:02.435830Z"
        },
        "colab": {
          "base_uri": "https://localhost:8080/"
        },
        "id": "hSi2WJtbq9qz",
        "outputId": "778acc86-f441-408a-9796-5e65d6ad32f6"
      },
      "source": [
        "print('낮음 개수 :',len(low_list))"
      ],
      "execution_count": 34,
      "outputs": [
        {
          "output_type": "stream",
          "text": [
            "낮음 개수 : 0\n"
          ],
          "name": "stdout"
        }
      ]
    },
    {
      "cell_type": "code",
      "metadata": {
        "ExecuteTime": {
          "end_time": "2021-01-25T01:52:02.464753Z",
          "start_time": "2021-01-25T01:52:02.449793Z"
        },
        "colab": {
          "base_uri": "https://localhost:8080/"
        },
        "id": "7-Iy3eSdq9qz",
        "outputId": "94f65b32-e719-4e15-af09-5336faef1f33"
      },
      "source": [
        "print('교정 개수 :',len(calib_list))"
      ],
      "execution_count": 35,
      "outputs": [
        {
          "output_type": "stream",
          "text": [
            "교정 개수 : 0\n"
          ],
          "name": "stdout"
        }
      ]
    },
    {
      "cell_type": "code",
      "metadata": {
        "ExecuteTime": {
          "end_time": "2021-01-25T01:52:02.603795Z",
          "start_time": "2021-01-25T01:52:02.465750Z"
        },
        "colab": {
          "base_uri": "https://localhost:8080/"
        },
        "id": "2Lsj2H6Rq9qz",
        "outputId": "e11c9721-da0f-47e8-bc2c-4612c525a13c"
      },
      "source": [
        "glucose_count_low(df,'Glucose')"
      ],
      "execution_count": 36,
      "outputs": [
        {
          "output_type": "stream",
          "text": [
            "낮음 :  16\n"
          ],
          "name": "stdout"
        }
      ]
    },
    {
      "cell_type": "code",
      "metadata": {
        "ExecuteTime": {
          "end_time": "2021-01-25T01:52:02.619752Z",
          "start_time": "2021-01-25T01:52:02.605789Z"
        },
        "colab": {
          "base_uri": "https://localhost:8080/"
        },
        "id": "YB8-5N--q9qz",
        "outputId": "49b505a7-9122-422e-f087-c79700fdccbd"
      },
      "source": [
        "low_list"
      ],
      "execution_count": 37,
      "outputs": [
        {
          "output_type": "execute_result",
          "data": {
            "text/plain": [
              "[32, 33, 34, 35, 36, 37, 38, 39, 40, 41, 42, 43, 44, 45, 46, 48]"
            ]
          },
          "metadata": {
            "tags": []
          },
          "execution_count": 37
        }
      ]
    },
    {
      "cell_type": "code",
      "metadata": {
        "ExecuteTime": {
          "end_time": "2021-01-25T01:52:02.823004Z",
          "start_time": "2021-01-25T01:52:02.623742Z"
        },
        "colab": {
          "base_uri": "https://localhost:8080/"
        },
        "id": "W-d0Eh-Mq9qz",
        "outputId": "e0949306-684f-4744-85c1-25b64453e934"
      },
      "source": [
        "calibration_count_low(df,'Event')"
      ],
      "execution_count": 38,
      "outputs": [
        {
          "output_type": "stream",
          "text": [
            "교정 :  36\n"
          ],
          "name": "stdout"
        }
      ]
    },
    {
      "cell_type": "code",
      "metadata": {
        "ExecuteTime": {
          "end_time": "2021-01-25T01:52:02.837968Z",
          "start_time": "2021-01-25T01:52:02.826000Z"
        },
        "colab": {
          "base_uri": "https://localhost:8080/"
        },
        "id": "AA4DScIlq9q0",
        "outputId": "c1b9d1c7-2ff9-4597-e52e-35d654a3597c"
      },
      "source": [
        "calib_list"
      ],
      "execution_count": 39,
      "outputs": [
        {
          "output_type": "execute_result",
          "data": {
            "text/plain": [
              "[0,\n",
              " 1,\n",
              " 49,\n",
              " 111,\n",
              " 208,\n",
              " 263,\n",
              " 325,\n",
              " 345,\n",
              " 403,\n",
              " 504,\n",
              " 559,\n",
              " 623,\n",
              " 635,\n",
              " 692,\n",
              " 798,\n",
              " 858,\n",
              " 982,\n",
              " 1016,\n",
              " 1100,\n",
              " 1139,\n",
              " 1214,\n",
              " 1277,\n",
              " 1385,\n",
              " 1431,\n",
              " 1448,\n",
              " 1460,\n",
              " 1511,\n",
              " 1578,\n",
              " 1675,\n",
              " 1731,\n",
              " 1732,\n",
              " 1807,\n",
              " 1871,\n",
              " 1963,\n",
              " 2014,\n",
              " 2026]"
            ]
          },
          "metadata": {
            "tags": []
          },
          "execution_count": 39
        }
      ]
    },
    {
      "cell_type": "code",
      "metadata": {
        "ExecuteTime": {
          "end_time": "2021-01-25T01:52:02.994907Z",
          "start_time": "2021-01-25T01:52:02.842954Z"
        },
        "colab": {
          "base_uri": "https://localhost:8080/"
        },
        "id": "WVjnBdLEq9q0",
        "outputId": "77cd5fe5-5fa1-4d59-9e09-e055017e0c3f"
      },
      "source": [
        "insul_count(df,'Insulin')"
      ],
      "execution_count": 40,
      "outputs": [
        {
          "output_type": "stream",
          "text": [
            "인슐린 :  6\n"
          ],
          "name": "stdout"
        }
      ]
    },
    {
      "cell_type": "code",
      "metadata": {
        "ExecuteTime": {
          "end_time": "2021-01-25T01:52:03.010871Z",
          "start_time": "2021-01-25T01:52:02.998901Z"
        },
        "colab": {
          "base_uri": "https://localhost:8080/"
        },
        "id": "diiNlaPhq9q0",
        "outputId": "68a2a880-89b7-42a8-aeef-752179e971a5"
      },
      "source": [
        "insulin_list"
      ],
      "execution_count": 41,
      "outputs": [
        {
          "output_type": "execute_result",
          "data": {
            "text/plain": [
              "[296, 591, 1532, 1579, 1828, 1872]"
            ]
          },
          "metadata": {
            "tags": []
          },
          "execution_count": 41
        }
      ]
    },
    {
      "cell_type": "code",
      "metadata": {
        "ExecuteTime": {
          "end_time": "2021-01-25T01:52:03.180415Z",
          "start_time": "2021-01-25T01:52:03.013862Z"
        },
        "colab": {
          "base_uri": "https://localhost:8080/"
        },
        "id": "zz4J0RMcq9q0",
        "outputId": "46d1a66a-9936-4990-a159-ad6819a740ec"
      },
      "source": [
        "meal_count(df,'Meal')"
      ],
      "execution_count": 42,
      "outputs": [
        {
          "output_type": "stream",
          "text": [
            "식사 횟수 :  0\n"
          ],
          "name": "stdout"
        }
      ]
    },
    {
      "cell_type": "code",
      "metadata": {
        "ExecuteTime": {
          "end_time": "2021-01-25T01:52:26.737154Z",
          "start_time": "2021-01-25T01:52:26.722192Z"
        },
        "colab": {
          "base_uri": "https://localhost:8080/"
        },
        "id": "S5Iommgpq9q0",
        "outputId": "fc535761-b99b-444b-821f-27d26858b5f9"
      },
      "source": [
        "meal_list"
      ],
      "execution_count": 43,
      "outputs": [
        {
          "output_type": "execute_result",
          "data": {
            "text/plain": [
              "[]"
            ]
          },
          "metadata": {
            "tags": []
          },
          "execution_count": 43
        }
      ]
    },
    {
      "cell_type": "code",
      "metadata": {
        "ExecuteTime": {
          "end_time": "2021-01-25T01:52:27.080235Z",
          "start_time": "2021-01-25T01:52:27.065274Z"
        },
        "colab": {
          "base_uri": "https://localhost:8080/"
        },
        "id": "gcwA8bhDq9q0",
        "outputId": "c88fc141-f9a5-47ae-dc5d-ce7cf147ef4b"
      },
      "source": [
        "df['Insulin'].value_counts()"
      ],
      "execution_count": 44,
      "outputs": [
        {
          "output_type": "execute_result",
          "data": {
            "text/plain": [
              "18.0    2\n",
              "8.0     2\n",
              "10.0    1\n",
              "12.0    1\n",
              "Name: Insulin, dtype: int64"
            ]
          },
          "metadata": {
            "tags": []
          },
          "execution_count": 44
        }
      ]
    },
    {
      "cell_type": "code",
      "metadata": {
        "ExecuteTime": {
          "end_time": "2021-01-25T01:52:27.096191Z",
          "start_time": "2021-01-25T01:52:27.082229Z"
        },
        "colab": {
          "base_uri": "https://localhost:8080/"
        },
        "id": "EWPmhRFwq9q1",
        "outputId": "f7786b87-42ca-4a56-cd96-4588d6f362f9"
      },
      "source": [
        "df['Meal'].value_counts()"
      ],
      "execution_count": 45,
      "outputs": [
        {
          "output_type": "execute_result",
          "data": {
            "text/plain": [
              "Series([], Name: Meal, dtype: int64)"
            ]
          },
          "metadata": {
            "tags": []
          },
          "execution_count": 45
        }
      ]
    },
    {
      "cell_type": "code",
      "metadata": {
        "ExecuteTime": {
          "end_time": "2021-01-25T01:52:27.112149Z",
          "start_time": "2021-01-25T01:52:27.098187Z"
        },
        "colab": {
          "base_uri": "https://localhost:8080/"
        },
        "id": "yVHexf31q9q1",
        "outputId": "4de9105d-2f0a-4ace-e0ea-015ea12e66aa"
      },
      "source": [
        "isNaN(df['Glucose'][14])"
      ],
      "execution_count": 46,
      "outputs": [
        {
          "output_type": "execute_result",
          "data": {
            "text/plain": [
              "True"
            ]
          },
          "metadata": {
            "tags": []
          },
          "execution_count": 46
        }
      ]
    },
    {
      "cell_type": "code",
      "metadata": {
        "ExecuteTime": {
          "end_time": "2021-01-25T01:52:27.128106Z",
          "start_time": "2021-01-25T01:52:27.114144Z"
        },
        "id": "Tytglb5oq9q1"
      },
      "source": [
        "import math\n",
        "for i in insulin_list:\n",
        "    \n",
        "    if isNaN(df['Glucose'][i+1]):\n",
        "        df['Insulin'][i+1]=0\n",
        "        continue\n",
        "    if isNaN(df['Glucose'][i+2]):\n",
        "        df['Insulin'][i+2]=0\n",
        "        continue\n",
        "    if isNaN(df['Glucose'][i+3]):\n",
        "        df['Insulin'][i+3]=0\n",
        "        continue\n",
        "    if isNaN(df['Glucose'][i+4]):\n",
        "        df['Insulin'][i+4]=0\n",
        "        continue"
      ],
      "execution_count": 47,
      "outputs": []
    },
    {
      "cell_type": "code",
      "metadata": {
        "ExecuteTime": {
          "end_time": "2021-01-25T01:52:27.173984Z",
          "start_time": "2021-01-25T01:52:27.155035Z"
        },
        "id": "JcgRMhGVq9q1"
      },
      "source": [
        "for i in meal_list:\n",
        "    \n",
        "    if isNaN(df['Glucose'][i+1]):\n",
        "        df['Meal'][i+1]=0\n",
        "        continue\n",
        "    if isNaN(df['Glucose'][i+2]):\n",
        "        df['Meal'][i+2]=0\n",
        "        continue\n",
        "    if isNaN(df['Glucose'][i+3]):\n",
        "        df['Meal'][i+3]=0\n",
        "        continue\n",
        "    if isNaN(df['Glucose'][i+4]):\n",
        "        df['Meal'][i+4]=0\n",
        "        continue"
      ],
      "execution_count": 48,
      "outputs": []
    },
    {
      "cell_type": "code",
      "metadata": {
        "ExecuteTime": {
          "end_time": "2021-01-25T01:52:27.188944Z",
          "start_time": "2021-01-25T01:52:27.175978Z"
        },
        "colab": {
          "base_uri": "https://localhost:8080/"
        },
        "id": "pCH1l3thq9q1",
        "outputId": "414d4ddf-64b6-4c75-b780-b22d9848905a"
      },
      "source": [
        "import math\n",
        "math.isnan(df['Glucose'][14])"
      ],
      "execution_count": 49,
      "outputs": [
        {
          "output_type": "execute_result",
          "data": {
            "text/plain": [
              "False"
            ]
          },
          "metadata": {
            "tags": []
          },
          "execution_count": 49
        }
      ]
    },
    {
      "cell_type": "code",
      "metadata": {
        "ExecuteTime": {
          "end_time": "2021-01-25T01:52:27.204901Z",
          "start_time": "2021-01-25T01:52:27.190939Z"
        },
        "colab": {
          "base_uri": "https://localhost:8080/"
        },
        "id": "h-zF0AuEq9q1",
        "outputId": "ee8001ac-0d09-452a-a9fe-20d22e49789d"
      },
      "source": [
        "insulin_list"
      ],
      "execution_count": 50,
      "outputs": [
        {
          "output_type": "execute_result",
          "data": {
            "text/plain": [
              "[296, 591, 1532, 1579, 1828, 1872]"
            ]
          },
          "metadata": {
            "tags": []
          },
          "execution_count": 50
        }
      ]
    },
    {
      "cell_type": "code",
      "metadata": {
        "ExecuteTime": {
          "end_time": "2021-01-25T01:52:33.922994Z",
          "start_time": "2021-01-25T01:52:33.909030Z"
        },
        "id": "cYufVrh9q9q1"
      },
      "source": [
        "SetList1 = set(insulin_list)\n",
        "SetList2 = set(meal_list)\n",
        "\n",
        "C = list((SetList2.difference(SetList1)))\n",
        "\n",
        "insulin_list.extend(C)"
      ],
      "execution_count": 51,
      "outputs": []
    },
    {
      "cell_type": "code",
      "metadata": {
        "ExecuteTime": {
          "end_time": "2021-01-25T01:52:40.432733Z",
          "start_time": "2021-01-25T01:52:40.418770Z"
        },
        "colab": {
          "base_uri": "https://localhost:8080/"
        },
        "id": "DrJEh6m3q9q2",
        "outputId": "570386b6-b68a-4b78-e7b5-dc01d0c288df"
      },
      "source": [
        "insulin_list"
      ],
      "execution_count": 52,
      "outputs": [
        {
          "output_type": "execute_result",
          "data": {
            "text/plain": [
              "[296, 591, 1532, 1579, 1828, 1872]"
            ]
          },
          "metadata": {
            "tags": []
          },
          "execution_count": 52
        }
      ]
    },
    {
      "cell_type": "code",
      "metadata": {
        "ExecuteTime": {
          "end_time": "2021-01-25T01:52:46.966344Z",
          "start_time": "2021-01-25T01:52:46.952382Z"
        },
        "id": "k_g4Uw8_q9q2"
      },
      "source": [
        "df=df.drop(insulin_list)"
      ],
      "execution_count": 53,
      "outputs": []
    },
    {
      "cell_type": "code",
      "metadata": {
        "ExecuteTime": {
          "end_time": "2021-01-25T01:52:48.819528Z",
          "start_time": "2021-01-25T01:52:48.805566Z"
        },
        "colab": {
          "base_uri": "https://localhost:8080/",
          "height": 359
        },
        "id": "70rucVRyq9q2",
        "outputId": "9e42b75a-bce4-4083-8d3a-5bfa44462281"
      },
      "source": [
        "df[10:20]"
      ],
      "execution_count": 54,
      "outputs": [
        {
          "output_type": "execute_result",
          "data": {
            "text/html": [
              "<div>\n",
              "<style scoped>\n",
              "    .dataframe tbody tr th:only-of-type {\n",
              "        vertical-align: middle;\n",
              "    }\n",
              "\n",
              "    .dataframe tbody tr th {\n",
              "        vertical-align: top;\n",
              "    }\n",
              "\n",
              "    .dataframe thead th {\n",
              "        text-align: right;\n",
              "    }\n",
              "</style>\n",
              "<table border=\"1\" class=\"dataframe\">\n",
              "  <thead>\n",
              "    <tr style=\"text-align: right;\">\n",
              "      <th></th>\n",
              "      <th>Timestamp</th>\n",
              "      <th>Event</th>\n",
              "      <th>Glucose</th>\n",
              "      <th>Insulin</th>\n",
              "      <th>Meal</th>\n",
              "    </tr>\n",
              "  </thead>\n",
              "  <tbody>\n",
              "    <tr>\n",
              "      <th>10</th>\n",
              "      <td>2019-09-09T12:44:33</td>\n",
              "      <td>EGV</td>\n",
              "      <td>154</td>\n",
              "      <td>NaN</td>\n",
              "      <td>NaN</td>\n",
              "    </tr>\n",
              "    <tr>\n",
              "      <th>11</th>\n",
              "      <td>2019-09-09T12:49:33</td>\n",
              "      <td>EGV</td>\n",
              "      <td>150</td>\n",
              "      <td>NaN</td>\n",
              "      <td>NaN</td>\n",
              "    </tr>\n",
              "    <tr>\n",
              "      <th>12</th>\n",
              "      <td>2019-09-09T12:54:33</td>\n",
              "      <td>EGV</td>\n",
              "      <td>139</td>\n",
              "      <td>NaN</td>\n",
              "      <td>NaN</td>\n",
              "    </tr>\n",
              "    <tr>\n",
              "      <th>13</th>\n",
              "      <td>2019-09-09T12:59:33</td>\n",
              "      <td>EGV</td>\n",
              "      <td>134</td>\n",
              "      <td>NaN</td>\n",
              "      <td>NaN</td>\n",
              "    </tr>\n",
              "    <tr>\n",
              "      <th>14</th>\n",
              "      <td>2019-09-09T13:04:33</td>\n",
              "      <td>EGV</td>\n",
              "      <td>132</td>\n",
              "      <td>NaN</td>\n",
              "      <td>NaN</td>\n",
              "    </tr>\n",
              "    <tr>\n",
              "      <th>15</th>\n",
              "      <td>2019-09-09T13:09:34</td>\n",
              "      <td>EGV</td>\n",
              "      <td>130</td>\n",
              "      <td>NaN</td>\n",
              "      <td>NaN</td>\n",
              "    </tr>\n",
              "    <tr>\n",
              "      <th>16</th>\n",
              "      <td>2019-09-09T13:14:34</td>\n",
              "      <td>EGV</td>\n",
              "      <td>134</td>\n",
              "      <td>NaN</td>\n",
              "      <td>NaN</td>\n",
              "    </tr>\n",
              "    <tr>\n",
              "      <th>17</th>\n",
              "      <td>2019-09-09T13:19:34</td>\n",
              "      <td>EGV</td>\n",
              "      <td>139</td>\n",
              "      <td>NaN</td>\n",
              "      <td>NaN</td>\n",
              "    </tr>\n",
              "    <tr>\n",
              "      <th>18</th>\n",
              "      <td>2019-09-09T13:24:34</td>\n",
              "      <td>EGV</td>\n",
              "      <td>153</td>\n",
              "      <td>NaN</td>\n",
              "      <td>NaN</td>\n",
              "    </tr>\n",
              "    <tr>\n",
              "      <th>19</th>\n",
              "      <td>2019-09-09T13:29:34</td>\n",
              "      <td>EGV</td>\n",
              "      <td>154</td>\n",
              "      <td>NaN</td>\n",
              "      <td>NaN</td>\n",
              "    </tr>\n",
              "  </tbody>\n",
              "</table>\n",
              "</div>"
            ],
            "text/plain": [
              "              Timestamp Event Glucose  Insulin  Meal\n",
              "10  2019-09-09T12:44:33   EGV     154      NaN   NaN\n",
              "11  2019-09-09T12:49:33   EGV     150      NaN   NaN\n",
              "12  2019-09-09T12:54:33   EGV     139      NaN   NaN\n",
              "13  2019-09-09T12:59:33   EGV     134      NaN   NaN\n",
              "14  2019-09-09T13:04:33   EGV     132      NaN   NaN\n",
              "15  2019-09-09T13:09:34   EGV     130      NaN   NaN\n",
              "16  2019-09-09T13:14:34   EGV     134      NaN   NaN\n",
              "17  2019-09-09T13:19:34   EGV     139      NaN   NaN\n",
              "18  2019-09-09T13:24:34   EGV     153      NaN   NaN\n",
              "19  2019-09-09T13:29:34   EGV     154      NaN   NaN"
            ]
          },
          "metadata": {
            "tags": []
          },
          "execution_count": 54
        }
      ]
    },
    {
      "cell_type": "code",
      "metadata": {
        "colab": {
          "base_uri": "https://localhost:8080/"
        },
        "id": "V-7fuLiuq9q2",
        "outputId": "d6b7d4df-c5a5-478b-88ef-8297578aeccd"
      },
      "source": [
        "df['Glucose'].unique()"
      ],
      "execution_count": 55,
      "outputs": [
        {
          "output_type": "execute_result",
          "data": {
            "text/plain": [
              "array([148, 143, 147, 145, 156, 159, 160, 154, 150, 139, 134, 132, 130,\n",
              "       153, 149, 122, 121, 116, 97, 72, 62, 74, 64, 61, '낮음', 40, 100, 78,\n",
              "       73, 81, 96, 108, 123, 141, 158, 166, 175, 184, 192, 195, 190, 174,\n",
              "       142, 140, 137, 144, 169, 203, 216, 224, 222, 220, 213, 207, 199,\n",
              "       183, 167, 161, 157, 152, 136, 102, 95, 87, 69, 114, 124, 131, 138,\n",
              "       151, 165, 173, 180, 186, 187, 176, 178, 188, 193, 191, 194, 196,\n",
              "       198, 197, 189, 185, 182, 179, 171, 163, 155, 170, 201, 172, 146,\n",
              "       126, 129, 107, 90, 82, 75, 68, 80, 86, 92, 101, 111, 120, 162, 177,\n",
              "       164, 98, 85, 79, 71, 65, 59, 55, 70, 60, 63, 66, 84, 99, 110, 112,\n",
              "       115, 128, 135, 133, 127, 125, 206, 219, 217, 214, 212, 209, 208,\n",
              "       210, 205, 181, 105, 106, 103, 119, 118, 113, 109, 94, 67, 52, 54,\n",
              "       56, 57, 76, 117, 200, 218, 221, 211, 215, 228, 235, 232, 233, 229,\n",
              "       237, 247, 255, 265, 273, 279, 282, 288, 295, 296, 300, 305, 309,\n",
              "       311, 313, 297, 283, 271, 270, 266, 267, 264, 260, 256, 254, 259,\n",
              "       257, 249, 242, 231, 227, 223, 202, 168, 245, 204, 104, 93, 88, 77,\n",
              "       89, 91, 234, 226, 225, 236, 240, 241, 238, 243, 251, 263, 274, 262,\n",
              "       253, 248, 246, 239, 261, 268, 269, 244, 258, 272, 276, 280, 278,\n",
              "       250, 230, 307, 310, 304, 308, 306, 316, 322, 324, 318, 332, 339,\n",
              "       343, 347, 342, 336, 330, 327, 317, 303, 302, 292, 275, 252, 83],\n",
              "      dtype=object)"
            ]
          },
          "metadata": {
            "tags": []
          },
          "execution_count": 55
        }
      ]
    },
    {
      "cell_type": "code",
      "metadata": {
        "ExecuteTime": {
          "end_time": "2021-01-25T01:52:50.627338Z",
          "start_time": "2021-01-25T01:52:50.613373Z"
        },
        "colab": {
          "base_uri": "https://localhost:8080/"
        },
        "id": "_Wc-F60tq9q2",
        "outputId": "116be570-c604-491a-dd3b-80c58b6d1c3a"
      },
      "source": [
        "df.isnull().sum()"
      ],
      "execution_count": 56,
      "outputs": [
        {
          "output_type": "execute_result",
          "data": {
            "text/plain": [
              "Timestamp       0\n",
              "Event           0\n",
              "Glucose         0\n",
              "Insulin      2015\n",
              "Meal         2021\n",
              "dtype: int64"
            ]
          },
          "metadata": {
            "tags": []
          },
          "execution_count": 56
        }
      ]
    },
    {
      "cell_type": "code",
      "metadata": {
        "ExecuteTime": {
          "end_time": "2021-01-25T01:52:52.672484Z",
          "start_time": "2021-01-25T01:52:52.659179Z"
        },
        "colab": {
          "base_uri": "https://localhost:8080/"
        },
        "id": "aB-Pr1IUq9q2",
        "outputId": "a2cf7ed7-7839-40cd-8520-96e90508623f"
      },
      "source": [
        "df['Event'].value_counts()"
      ],
      "execution_count": 57,
      "outputs": [
        {
          "output_type": "execute_result",
          "data": {
            "text/plain": [
              "EGV    1985\n",
              "교정       36\n",
              "Name: Event, dtype: int64"
            ]
          },
          "metadata": {
            "tags": []
          },
          "execution_count": 57
        }
      ]
    },
    {
      "cell_type": "markdown",
      "metadata": {
        "id": "tD-xVtSIq9q3"
      },
      "source": [
        "### 높음 낮음 고정 (추후 전처리 과정에서 400,408,416,408,400 이런 식으로 선형으로 변환해줄 것)"
      ]
    },
    {
      "cell_type": "code",
      "metadata": {
        "ExecuteTime": {
          "end_time": "2021-01-25T01:52:56.678331Z",
          "start_time": "2021-01-25T01:52:56.666364Z"
        },
        "id": "_QqK9A1xq9q3"
      },
      "source": [
        "def fix_glucose_low(df,col):\n",
        "    for i, row in df.iterrows():\n",
        "        val = row[col]\n",
        "        if val=='낮음':\n",
        "            df.loc[i,col] = 60"
      ],
      "execution_count": 58,
      "outputs": []
    },
    {
      "cell_type": "code",
      "metadata": {
        "ExecuteTime": {
          "end_time": "2021-01-25T01:52:54.688521Z",
          "start_time": "2021-01-25T01:52:54.674559Z"
        },
        "id": "XWZicn9Qq9q3"
      },
      "source": [
        "def fix_glucose(df,col):\n",
        "    for i, row in df.iterrows():\n",
        "        val = row[col]\n",
        "        if val=='높음':\n",
        "            df.loc[i,col] = 400\n",
        "        elif val > 400:\n",
        "            df.loc[i,col]=400"
      ],
      "execution_count": 59,
      "outputs": []
    },
    {
      "cell_type": "code",
      "metadata": {
        "ExecuteTime": {
          "end_time": "2021-01-25T01:53:00.780544Z",
          "start_time": "2021-01-25T01:53:00.640251Z"
        },
        "id": "O55uKXOGq9q3"
      },
      "source": [
        "fix_glucose_low(df,'Glucose')"
      ],
      "execution_count": 60,
      "outputs": []
    },
    {
      "cell_type": "code",
      "metadata": {
        "ExecuteTime": {
          "end_time": "2021-01-25T01:52:58.654752Z",
          "start_time": "2021-01-25T01:52:58.545660Z"
        },
        "id": "BvIUO61Mq9q3"
      },
      "source": [
        "fix_glucose(df,'Glucose')"
      ],
      "execution_count": 61,
      "outputs": []
    },
    {
      "cell_type": "code",
      "metadata": {
        "ExecuteTime": {
          "end_time": "2021-01-25T01:53:13.968378Z",
          "start_time": "2021-01-25T01:53:13.948432Z"
        },
        "colab": {
          "base_uri": "https://localhost:8080/"
        },
        "id": "g2avacA9q9q3",
        "outputId": "86253654-dc15-4a67-da9b-ebd1537ae2b4"
      },
      "source": [
        "df['Glucose'].value_counts()"
      ],
      "execution_count": 62,
      "outputs": [
        {
          "output_type": "execute_result",
          "data": {
            "text/plain": [
              "153    29\n",
              "132    25\n",
              "184    23\n",
              "131    23\n",
              "130    23\n",
              "       ..\n",
              "275     1\n",
              "263     1\n",
              "252     1\n",
              "251     1\n",
              "40      1\n",
              "Name: Glucose, Length: 259, dtype: int64"
            ]
          },
          "metadata": {
            "tags": []
          },
          "execution_count": 62
        }
      ]
    },
    {
      "cell_type": "code",
      "metadata": {
        "ExecuteTime": {
          "end_time": "2021-01-25T01:53:16.132062Z",
          "start_time": "2021-01-25T01:53:16.118100Z"
        },
        "colab": {
          "base_uri": "https://localhost:8080/"
        },
        "id": "MhNKSZyTq9q3",
        "outputId": "b88c97e1-41a8-47c6-9b7a-768bba6dbbfe"
      },
      "source": [
        "df.isnull().sum()"
      ],
      "execution_count": 63,
      "outputs": [
        {
          "output_type": "execute_result",
          "data": {
            "text/plain": [
              "Timestamp       0\n",
              "Event           0\n",
              "Glucose         0\n",
              "Insulin      2015\n",
              "Meal         2021\n",
              "dtype: int64"
            ]
          },
          "metadata": {
            "tags": []
          },
          "execution_count": 63
        }
      ]
    },
    {
      "cell_type": "code",
      "metadata": {
        "ExecuteTime": {
          "end_time": "2021-01-25T01:53:18.170395Z",
          "start_time": "2021-01-25T01:53:18.157430Z"
        },
        "colab": {
          "base_uri": "https://localhost:8080/"
        },
        "id": "e8GGHlNyq9q4",
        "outputId": "2e55548b-eb77-4db0-e464-09a9c640e525"
      },
      "source": [
        "df['Event'].unique()"
      ],
      "execution_count": 64,
      "outputs": [
        {
          "output_type": "execute_result",
          "data": {
            "text/plain": [
              "array(['교정', 'EGV'], dtype=object)"
            ]
          },
          "metadata": {
            "tags": []
          },
          "execution_count": 64
        }
      ]
    },
    {
      "cell_type": "code",
      "metadata": {
        "id": "TuLeqo_RxtN1"
      },
      "source": [
        "## 이벤트에 '운동' 있어서 혈당값 비어있음 \r\n",
        "# 모델 안돌아감 \r\n",
        "df=df.dropna(subset=['Glucose'])"
      ],
      "execution_count": 65,
      "outputs": []
    },
    {
      "cell_type": "code",
      "metadata": {
        "ExecuteTime": {
          "end_time": "2021-01-25T01:53:20.114266Z",
          "start_time": "2021-01-25T01:53:20.101301Z"
        },
        "id": "-g9RIuKlq9q4"
      },
      "source": [
        "# drop한 인스턴스가 있어서 인덱스 리셋\n",
        "df=df.sort_values(by=['Timestamp'],axis=0,ascending=True)\n",
        "df=df.reset_index(drop=True)"
      ],
      "execution_count": 66,
      "outputs": []
    },
    {
      "cell_type": "code",
      "metadata": {
        "ExecuteTime": {
          "end_time": "2021-01-25T01:53:22.262371Z",
          "start_time": "2021-01-25T01:53:22.141696Z"
        },
        "id": "3raJFd5Oq9q4"
      },
      "source": [
        "new_insul_list =[]\n",
        "new_meal_list =[]\n",
        "new_insul_and_meal_list=[]\n",
        "\n",
        "for i in range(len(df)):\n",
        "    if (df['Insulin'][i] ==0 and df['Meal'][i]==0):\n",
        "        new_insul_and_meal_list.append(i)\n",
        "    if (df['Insulin'][i]==0 and df['Meal'][i]!=0):\n",
        "        new_insul_list.append(i)\n",
        "    if (df['Insulin'][i]!=0 and df['Meal'][i]==0):\n",
        "        new_meal_list.append(i)"
      ],
      "execution_count": 67,
      "outputs": []
    },
    {
      "cell_type": "code",
      "metadata": {
        "ExecuteTime": {
          "end_time": "2021-01-25T01:53:24.282408Z",
          "start_time": "2021-01-25T01:53:24.268445Z"
        },
        "colab": {
          "base_uri": "https://localhost:8080/"
        },
        "id": "etuTxppeq9q4",
        "outputId": "14a80efc-ceb0-4047-c2b5-be2dd0300b90"
      },
      "source": [
        "new_meal_list"
      ],
      "execution_count": 68,
      "outputs": [
        {
          "output_type": "execute_result",
          "data": {
            "text/plain": [
              "[]"
            ]
          },
          "metadata": {
            "tags": []
          },
          "execution_count": 68
        }
      ]
    },
    {
      "cell_type": "code",
      "metadata": {
        "id": "UkkZfG03q9q4"
      },
      "source": [
        ""
      ],
      "execution_count": 68,
      "outputs": []
    },
    {
      "cell_type": "code",
      "metadata": {
        "ExecuteTime": {
          "end_time": "2021-01-25T01:53:26.333121Z",
          "start_time": "2021-01-25T01:53:26.132655Z"
        },
        "colab": {
          "base_uri": "https://localhost:8080/",
          "height": 0
        },
        "id": "JoFY9Drvq9q4",
        "outputId": "e56e47e5-ccb8-4366-b73a-a1dd2e1678cb"
      },
      "source": [
        "df.plot(figsize=(15,6))\n",
        "plt.show()"
      ],
      "execution_count": 69,
      "outputs": [
        {
          "output_type": "display_data",
          "data": {
            "image/png": "[encoded data removed]",
            "text/plain": [
              "<Figure size 1080x432 with 1 Axes>"
            ]
          },
          "metadata": {
            "tags": [],
            "needs_background": "light"
          }
        }
      ]
    },
    {
      "cell_type": "code",
      "metadata": {
        "ExecuteTime": {
          "end_time": "2021-01-25T01:53:28.542527Z",
          "start_time": "2021-01-25T01:53:28.300175Z"
        },
        "colab": {
          "base_uri": "https://localhost:8080/",
          "height": 0
        },
        "id": "iXUdyaOvq9q4",
        "outputId": "3e0a1ce2-6b84-4173-83ac-ff37c3faf514"
      },
      "source": [
        "df.plot(figsize=(15,6))\n",
        "plt.axhline(y=70,c='r',linestyle='--',linewidth=1)\n",
        "plt.axhline(y=180,c='r',linestyle='--',linewidth=1)\n",
        "plt.axhline(y=400,c='r',linestyle='--',linewidth=1)\n",
        "#plt.annotate(df['Timestamp'][13],xy=(-50,40),xytext=(-50,0),fontsize=20,bbox=dict(boxstyle='square',\n",
        "#                                                               color='white'),arrowprops=dict(facecolor='black'))\n",
        "#plt.annotate(df['Timestamp'][len(df['Timestamp'])],xytext=(-,0),fontsize=20,bbox=dict(boxstyle='square',\n",
        " #                                                              color='white'))\n",
        "plt.text(len(df['Timestamp']),185,'Hyperglycemic Threshold',family='Times New Roman',size=15)\n",
        "plt.text(len(df['Timestamp']),75,'Hypoglycemic Threshold',family='Times New Roman',size=15)\n",
        "plt.text(len(df['Timestamp']),405,'Too High ( Glucose value 400 + )',family='Times New Roman',size=15)\n",
        "\n",
        "#y=70\n",
        "#plt.plot(y,'b--',linestyles='--'),\n",
        "#plt.hlines(70,linestyles='--')\n",
        "plt.show()"
      ],
      "execution_count": 70,
      "outputs": [
        {
          "output_type": "stream",
          "text": [
            "findfont: Font family ['Times New Roman'] not found. Falling back to DejaVu Sans.\n"
          ],
          "name": "stderr"
        },
        {
          "output_type": "display_data",
          "data": {
            "image/png": "[encoded data removed]",
            "text/plain": [
              "<Figure size 1080x432 with 1 Axes>"
            ]
          },
          "metadata": {
            "tags": [],
            "needs_background": "light"
          }
        }
      ]
    },
    {
      "cell_type": "code",
      "metadata": {
        "ExecuteTime": {
          "end_time": "2021-01-25T01:53:30.332463Z",
          "start_time": "2021-01-25T01:53:30.319500Z"
        },
        "id": "Ff-e2NnRq9q5"
      },
      "source": [
        "#df.drop(0,inplace=True)"
      ],
      "execution_count": 71,
      "outputs": []
    },
    {
      "cell_type": "code",
      "metadata": {
        "ExecuteTime": {
          "end_time": "2021-01-25T01:53:30.704466Z",
          "start_time": "2021-01-25T01:53:30.690504Z"
        },
        "id": "3phxJsnVq9q5"
      },
      "source": [
        "# drop한 인스턴스가 있어서 인덱스 리셋\n",
        "#df=df.sort_values(by=['Timestamp'],axis=0,ascending=True)\n",
        "#df=df.reset_index(drop=True)\n",
        "#df.head(21)"
      ],
      "execution_count": 72,
      "outputs": []
    },
    {
      "cell_type": "code",
      "metadata": {
        "ExecuteTime": {
          "end_time": "2021-01-25T01:53:34.320799Z",
          "start_time": "2021-01-25T01:53:34.306836Z"
        },
        "id": "GHltXweoq9q5"
      },
      "source": [
        "# 인슐린, 탄수화물 투여시 혈당값 NULL\n",
        "# 그래서 t시점에 t-2 , t-1 크기비교해서 upper면 이렇게 lower면 이렇게 해서 interpolation ( 보간)\n",
        "# 이거 위에 참고사항 drop하고 나서 적용 해줘야됨\n",
        "#insul=list()\n",
        "#import math\n",
        "#def interpolate_glucose(df,col):\n",
        "#    #insul=list()\n",
        "    \n",
        "#    for i, row in df.iterrows():\n",
        "#        val=row[col]\n",
        "#        if math.isnan(val):\n",
        "#            if df['Glucose'][i-2] >= df['Glucose'][i-1]:\n",
        "#                c = (df['Glucose'][i-2] - df['Glucose'][i-1]) / 2 \n",
        "#                df.loc[i,col]= df['Glucose'][i-1] - c\n",
        "#                insul.append(i)\n",
        "#                print(insul)\n",
        "                \n",
        "#            if df['Glucose'][i-2] < df['Glucose'][i-1]:\n",
        "#                c = (df['Glucose'][i-2] - df['Glucose'][i-1]) / 2 \n",
        "#                df.loc[i,col]= df['Glucose'][i-1] - c\n",
        "#                insul.append(i)\n",
        "#                print(insul)\n",
        "        \n",
        "           "
      ],
      "execution_count": 73,
      "outputs": []
    },
    {
      "cell_type": "code",
      "metadata": {
        "ExecuteTime": {
          "end_time": "2021-01-25T01:53:36.328924Z",
          "start_time": "2021-01-25T01:53:36.313965Z"
        },
        "id": "oO-USeM2q9q6"
      },
      "source": [
        "# 인슐린 탄수화물 인덱스 문제 해결 파트 \n",
        "#insul=list()\n",
        "#meal=list()\n",
        "#import math\n",
        "#def interpolate_glucose(df,col):\n",
        "    #insul=list()\n",
        "    \n",
        "#    for i, row in df.iterrows():\n",
        "#        val=row[col]\n",
        "        #df=df.sort_values(by=['Timestamp'],axis=0,ascending=True)\n",
        "        #df=df.reset_index(drop=True)\n",
        "#        if math.isnan(val):\n",
        " #           if df['Event'][i]=='인슐린':\n",
        "  #              if df['Glucose'][i-1] is None:\n",
        "   #                 insul.append(i-2)\n",
        "                    \n",
        "                    \n",
        "    #            else:\n",
        "     #               insul.append(i-1)\n",
        "                    \n",
        "      #      if df['Event'][i]=='탄수화물':\n",
        "       #         if df['Glucose'][i-1] is None:\n",
        "        #            meal.append(i-2)\n",
        "                    \n",
        "         #       else:\n",
        "          #          meal.append(i-1)\n",
        "                    "
      ],
      "execution_count": 74,
      "outputs": []
    },
    {
      "cell_type": "code",
      "metadata": {
        "ExecuteTime": {
          "end_time": "2021-01-25T01:53:38.317618Z",
          "start_time": "2021-01-25T01:53:38.303654Z"
        },
        "id": "5ARbHQpIq9q6"
      },
      "source": [
        "#interpolate_glucose(df,'Glucose')"
      ],
      "execution_count": 75,
      "outputs": []
    },
    {
      "cell_type": "code",
      "metadata": {
        "ExecuteTime": {
          "end_time": "2021-01-25T01:53:40.152005Z",
          "start_time": "2021-01-25T01:53:40.139039Z"
        },
        "id": "jwvVWaHTq9q6"
      },
      "source": [
        "#meal"
      ],
      "execution_count": 76,
      "outputs": []
    },
    {
      "cell_type": "code",
      "metadata": {
        "ExecuteTime": {
          "end_time": "2021-01-25T01:53:42.020035Z",
          "start_time": "2021-01-25T01:53:42.007070Z"
        },
        "id": "UbYNhh3-q9q6"
      },
      "source": [
        "#insul"
      ],
      "execution_count": 77,
      "outputs": []
    },
    {
      "cell_type": "code",
      "metadata": {
        "ExecuteTime": {
          "end_time": "2021-01-25T01:53:42.050953Z",
          "start_time": "2021-01-25T01:53:42.023027Z"
        },
        "colab": {
          "base_uri": "https://localhost:8080/"
        },
        "id": "dDhQ76wlq9q6",
        "outputId": "a4d1a40f-5e5a-4d7f-c98f-747b96d03c02"
      },
      "source": [
        "df['Glucose'].isnull().sum()"
      ],
      "execution_count": 78,
      "outputs": [
        {
          "output_type": "execute_result",
          "data": {
            "text/plain": [
              "0"
            ]
          },
          "metadata": {
            "tags": []
          },
          "execution_count": 78
        }
      ]
    },
    {
      "cell_type": "code",
      "metadata": {
        "ExecuteTime": {
          "end_time": "2021-01-25T01:53:42.796962Z",
          "start_time": "2021-01-25T01:53:42.785989Z"
        },
        "id": "HgDjhDWAq9q6"
      },
      "source": [
        "insul_glucose_value=list()\n",
        "for i in new_insul_list:\n",
        "    insul_glucose_value.append(df['Glucose'][i])"
      ],
      "execution_count": 79,
      "outputs": []
    },
    {
      "cell_type": "code",
      "metadata": {
        "ExecuteTime": {
          "end_time": "2021-01-25T01:53:44.256058Z",
          "start_time": "2021-01-25T01:53:44.242096Z"
        },
        "id": "PCAHh2D_q9q6"
      },
      "source": [
        "meal_glucose_value=list()\n",
        "for i in new_meal_list:\n",
        "    meal_glucose_value.append(df['Glucose'][i])"
      ],
      "execution_count": 80,
      "outputs": []
    },
    {
      "cell_type": "code",
      "metadata": {
        "ExecuteTime": {
          "end_time": "2021-01-25T01:53:45.908642Z",
          "start_time": "2021-01-25T01:53:45.895678Z"
        },
        "id": "aca-BcHzq9q7"
      },
      "source": [
        "insul_and_meal_glucose_value = list()\n",
        "for i in new_insul_and_meal_list:\n",
        "    insul_and_meal_glucose_value.append(df['Glucose'][i])"
      ],
      "execution_count": 81,
      "outputs": []
    },
    {
      "cell_type": "code",
      "metadata": {
        "ExecuteTime": {
          "end_time": "2021-01-25T01:53:45.924599Z",
          "start_time": "2021-01-25T01:53:45.911634Z"
        },
        "id": "Uqt843lhq9q7"
      },
      "source": [
        "#len = len(df['Timestamp'])\n",
        "#plt.text(-100,-1,df['Timestamp'][0],family='Times New Roman',fontweight='bold',size=17)"
      ],
      "execution_count": 82,
      "outputs": []
    },
    {
      "cell_type": "code",
      "metadata": {
        "ExecuteTime": {
          "end_time": "2021-01-25T01:53:46.264689Z",
          "start_time": "2021-01-25T01:53:45.927590Z"
        },
        "colab": {
          "base_uri": "https://localhost:8080/",
          "height": 0
        },
        "id": "ajebDiOAq9q7",
        "outputId": "c0cad942-252d-4446-e819-16319e54aef8"
      },
      "source": [
        "import matplotlib.patches as mpatches\n",
        "import matplotlib.lines as mlines\n",
        "\n",
        "df.plot(figsize=(15,6),color='gray',alpha=0.5)\n",
        "plt.axhline(y=70,c='r',linestyle='--',linewidth=1)\n",
        "plt.axhline(y=180,c='r',linestyle='--',linewidth=1)\n",
        "plt.axhline(y=400,c='r',linestyle='--',linewidth=1)\n",
        "#plt.axhline(y=60,c='black',linestyle='--',linewidth=1)\n",
        "plt.text(len(df['Timestamp']),185,'Hyperglycemic Threshold',family='Times New Roman',size=15)\n",
        "plt.text(len(df['Timestamp']),75,'Hypoglycemic Threshold',family='Times New Roman',size=15)\n",
        "\n",
        "plt.scatter(new_insul_list,insul_glucose_value,edgecolor='black',s=50,label='Insulin',marker='o',c='red')\n",
        "plt.scatter(new_meal_list,meal_glucose_value,edgecolor='black',s=50,label='Carbohydrate',marker='o',c='green')\n",
        "plt.scatter(new_insul_and_meal_list,insul_and_meal_glucose_value,edgecolor='black',s=50,label='Insulin + Carbohydrate',marker='o',c='blue')\n",
        "\n",
        "red_patch = mpatches.Patch(color='red',label='Insulin')\n",
        "\n",
        "red_line = mlines.Line2D([],[],color='red',marker='o',markersize=15,label='Insulin')\n",
        "green_line = mlines.Line2D([],[],color='green',marker='o',markersize=15,label='Carbohydrate')\n",
        "blue_line = mlines.Line2D([],[],color='blue',marker='o',markersize=15,label='Insulin + Carbohydrate')\n",
        "plt.text(len(df['Timestamp']),405,'Too High ( Glucose value 400 + )',family='Times New Roman',size=15)\n",
        "plt.text(len(df['Timestamp']),60,'',family='Times New Roman',size=15)\n",
        "#plt.text(len(df['Timestamp']),-1,df['Timestamp'][len(df['Timestamp'])],family='Times New Roman',\n",
        "#         fontweight='bold',size=20)\n",
        "plt.text(-100,-1,df['Timestamp'][0],family='Times New Roman',fontweight='bold',size=17)\n",
        "plt.text(len(df['Timestamp']),-1,df['Timestamp'][len(df['Timestamp'])-1],family='Times New Roman',fontweight='bold',size=17)\n",
        "plt.legend(['Insulin','Carbohydrate','Insulin + Carbohydrate'],loc='best',fontsize='x-small',handles=[red_line,green_line,blue_line])\n",
        "#plt.text(-100,-1,df['Timestamp'][14],family='Times New Roman',\n",
        "\n",
        "#         fontweight='bold',size=20)\n",
        "\n",
        "#y=70\n",
        "#plt.plot(y,'b--',linestyles='--'),\n",
        "#plt.hlines(70,linestyles='--')\n",
        "plt.show()"
      ],
      "execution_count": 83,
      "outputs": [
        {
          "output_type": "stream",
          "text": [
            "findfont: Font family ['Times New Roman'] not found. Falling back to DejaVu Sans.\n"
          ],
          "name": "stderr"
        },
        {
          "output_type": "display_data",
          "data": {
            "image/png": "[encoded data removed]",
            "text/plain": [
              "<Figure size 1080x432 with 1 Axes>"
            ]
          },
          "metadata": {
            "tags": [],
            "needs_background": "light"
          }
        }
      ]
    },
    {
      "cell_type": "code",
      "metadata": {
        "ExecuteTime": {
          "end_time": "2021-01-25T01:53:46.389356Z",
          "start_time": "2021-01-25T01:53:46.265685Z"
        },
        "id": "eXer8h_dq9q7"
      },
      "source": [
        "for i in range(len(df)):\n",
        "    if isNaN(df['Insulin'][i]):\n",
        "        df['Insulin'][i]=1\n",
        "    else:\n",
        "        df['Insulin'][i]=0\n",
        "        \n",
        "     "
      ],
      "execution_count": 84,
      "outputs": []
    },
    {
      "cell_type": "code",
      "metadata": {
        "ExecuteTime": {
          "end_time": "2021-01-25T01:53:51.043530Z",
          "start_time": "2021-01-25T01:53:50.874984Z"
        },
        "id": "rPq3Eljfq9q8"
      },
      "source": [
        "for i in range(len(df)):\n",
        "    if isNaN(df['Meal'][i]):\n",
        "        df['Meal'][i]=1\n",
        "    else:\n",
        "        df['Meal'][i]=0\n",
        "        "
      ],
      "execution_count": 85,
      "outputs": []
    },
    {
      "cell_type": "code",
      "metadata": {
        "ExecuteTime": {
          "end_time": "2021-01-25T01:53:51.075446Z",
          "start_time": "2021-01-25T01:53:51.045526Z"
        },
        "colab": {
          "base_uri": "https://localhost:8080/",
          "height": 0
        },
        "id": "gwSdbaC-q9q8",
        "outputId": "1e0de8ea-6e21-4760-bbb0-1c40d9a3924c"
      },
      "source": [
        "df[1900:1950]"
      ],
      "execution_count": 86,
      "outputs": [
        {
          "output_type": "execute_result",
          "data": {
            "text/html": [
              "<div>\n",
              "<style scoped>\n",
              "    .dataframe tbody tr th:only-of-type {\n",
              "        vertical-align: middle;\n",
              "    }\n",
              "\n",
              "    .dataframe tbody tr th {\n",
              "        vertical-align: top;\n",
              "    }\n",
              "\n",
              "    .dataframe thead th {\n",
              "        text-align: right;\n",
              "    }\n",
              "</style>\n",
              "<table border=\"1\" class=\"dataframe\">\n",
              "  <thead>\n",
              "    <tr style=\"text-align: right;\">\n",
              "      <th></th>\n",
              "      <th>Timestamp</th>\n",
              "      <th>Event</th>\n",
              "      <th>Glucose</th>\n",
              "      <th>Insulin</th>\n",
              "      <th>Meal</th>\n",
              "    </tr>\n",
              "  </thead>\n",
              "  <tbody>\n",
              "    <tr>\n",
              "      <th>1900</th>\n",
              "      <td>2019-09-15T23:44:06</td>\n",
              "      <td>EGV</td>\n",
              "      <td>240</td>\n",
              "      <td>0.0</td>\n",
              "      <td>0.0</td>\n",
              "    </tr>\n",
              "    <tr>\n",
              "      <th>1901</th>\n",
              "      <td>2019-09-15T23:49:07</td>\n",
              "      <td>EGV</td>\n",
              "      <td>217</td>\n",
              "      <td>0.0</td>\n",
              "      <td>0.0</td>\n",
              "    </tr>\n",
              "    <tr>\n",
              "      <th>1902</th>\n",
              "      <td>2019-09-15T23:54:06</td>\n",
              "      <td>EGV</td>\n",
              "      <td>218</td>\n",
              "      <td>0.0</td>\n",
              "      <td>0.0</td>\n",
              "    </tr>\n",
              "    <tr>\n",
              "      <th>1903</th>\n",
              "      <td>2019-09-15T23:59:06</td>\n",
              "      <td>EGV</td>\n",
              "      <td>228</td>\n",
              "      <td>0.0</td>\n",
              "      <td>0.0</td>\n",
              "    </tr>\n",
              "    <tr>\n",
              "      <th>1904</th>\n",
              "      <td>2019-09-16T00:04:06</td>\n",
              "      <td>EGV</td>\n",
              "      <td>211</td>\n",
              "      <td>0.0</td>\n",
              "      <td>0.0</td>\n",
              "    </tr>\n",
              "    <tr>\n",
              "      <th>1905</th>\n",
              "      <td>2019-09-16T00:39:05</td>\n",
              "      <td>EGV</td>\n",
              "      <td>196</td>\n",
              "      <td>0.0</td>\n",
              "      <td>0.0</td>\n",
              "    </tr>\n",
              "    <tr>\n",
              "      <th>1906</th>\n",
              "      <td>2019-09-16T00:44:06</td>\n",
              "      <td>EGV</td>\n",
              "      <td>197</td>\n",
              "      <td>0.0</td>\n",
              "      <td>0.0</td>\n",
              "    </tr>\n",
              "    <tr>\n",
              "      <th>1907</th>\n",
              "      <td>2019-09-16T00:49:06</td>\n",
              "      <td>EGV</td>\n",
              "      <td>202</td>\n",
              "      <td>0.0</td>\n",
              "      <td>0.0</td>\n",
              "    </tr>\n",
              "    <tr>\n",
              "      <th>1908</th>\n",
              "      <td>2019-09-16T00:54:05</td>\n",
              "      <td>EGV</td>\n",
              "      <td>201</td>\n",
              "      <td>0.0</td>\n",
              "      <td>0.0</td>\n",
              "    </tr>\n",
              "    <tr>\n",
              "      <th>1909</th>\n",
              "      <td>2019-09-16T00:59:05</td>\n",
              "      <td>EGV</td>\n",
              "      <td>200</td>\n",
              "      <td>0.0</td>\n",
              "      <td>0.0</td>\n",
              "    </tr>\n",
              "    <tr>\n",
              "      <th>1910</th>\n",
              "      <td>2019-09-16T01:04:05</td>\n",
              "      <td>EGV</td>\n",
              "      <td>198</td>\n",
              "      <td>0.0</td>\n",
              "      <td>0.0</td>\n",
              "    </tr>\n",
              "    <tr>\n",
              "      <th>1911</th>\n",
              "      <td>2019-09-16T01:09:05</td>\n",
              "      <td>EGV</td>\n",
              "      <td>200</td>\n",
              "      <td>0.0</td>\n",
              "      <td>0.0</td>\n",
              "    </tr>\n",
              "    <tr>\n",
              "      <th>1912</th>\n",
              "      <td>2019-09-16T01:14:05</td>\n",
              "      <td>EGV</td>\n",
              "      <td>196</td>\n",
              "      <td>0.0</td>\n",
              "      <td>0.0</td>\n",
              "    </tr>\n",
              "    <tr>\n",
              "      <th>1913</th>\n",
              "      <td>2019-09-16T01:19:04</td>\n",
              "      <td>EGV</td>\n",
              "      <td>196</td>\n",
              "      <td>0.0</td>\n",
              "      <td>0.0</td>\n",
              "    </tr>\n",
              "    <tr>\n",
              "      <th>1914</th>\n",
              "      <td>2019-09-16T01:24:05</td>\n",
              "      <td>EGV</td>\n",
              "      <td>194</td>\n",
              "      <td>0.0</td>\n",
              "      <td>0.0</td>\n",
              "    </tr>\n",
              "    <tr>\n",
              "      <th>1915</th>\n",
              "      <td>2019-09-16T01:29:04</td>\n",
              "      <td>EGV</td>\n",
              "      <td>193</td>\n",
              "      <td>0.0</td>\n",
              "      <td>0.0</td>\n",
              "    </tr>\n",
              "    <tr>\n",
              "      <th>1916</th>\n",
              "      <td>2019-09-16T01:34:05</td>\n",
              "      <td>EGV</td>\n",
              "      <td>190</td>\n",
              "      <td>0.0</td>\n",
              "      <td>0.0</td>\n",
              "    </tr>\n",
              "    <tr>\n",
              "      <th>1917</th>\n",
              "      <td>2019-09-16T01:39:04</td>\n",
              "      <td>EGV</td>\n",
              "      <td>189</td>\n",
              "      <td>0.0</td>\n",
              "      <td>0.0</td>\n",
              "    </tr>\n",
              "    <tr>\n",
              "      <th>1918</th>\n",
              "      <td>2019-09-16T01:44:04</td>\n",
              "      <td>EGV</td>\n",
              "      <td>189</td>\n",
              "      <td>0.0</td>\n",
              "      <td>0.0</td>\n",
              "    </tr>\n",
              "    <tr>\n",
              "      <th>1919</th>\n",
              "      <td>2019-09-16T01:49:04</td>\n",
              "      <td>EGV</td>\n",
              "      <td>184</td>\n",
              "      <td>0.0</td>\n",
              "      <td>0.0</td>\n",
              "    </tr>\n",
              "    <tr>\n",
              "      <th>1920</th>\n",
              "      <td>2019-09-16T01:54:04</td>\n",
              "      <td>EGV</td>\n",
              "      <td>185</td>\n",
              "      <td>0.0</td>\n",
              "      <td>0.0</td>\n",
              "    </tr>\n",
              "    <tr>\n",
              "      <th>1921</th>\n",
              "      <td>2019-09-16T01:59:04</td>\n",
              "      <td>EGV</td>\n",
              "      <td>185</td>\n",
              "      <td>0.0</td>\n",
              "      <td>0.0</td>\n",
              "    </tr>\n",
              "    <tr>\n",
              "      <th>1922</th>\n",
              "      <td>2019-09-16T02:04:04</td>\n",
              "      <td>EGV</td>\n",
              "      <td>187</td>\n",
              "      <td>0.0</td>\n",
              "      <td>0.0</td>\n",
              "    </tr>\n",
              "    <tr>\n",
              "      <th>1923</th>\n",
              "      <td>2019-09-16T02:09:04</td>\n",
              "      <td>EGV</td>\n",
              "      <td>187</td>\n",
              "      <td>0.0</td>\n",
              "      <td>0.0</td>\n",
              "    </tr>\n",
              "    <tr>\n",
              "      <th>1924</th>\n",
              "      <td>2019-09-16T02:14:04</td>\n",
              "      <td>EGV</td>\n",
              "      <td>185</td>\n",
              "      <td>0.0</td>\n",
              "      <td>0.0</td>\n",
              "    </tr>\n",
              "    <tr>\n",
              "      <th>1925</th>\n",
              "      <td>2019-09-16T02:19:05</td>\n",
              "      <td>EGV</td>\n",
              "      <td>185</td>\n",
              "      <td>0.0</td>\n",
              "      <td>0.0</td>\n",
              "    </tr>\n",
              "    <tr>\n",
              "      <th>1926</th>\n",
              "      <td>2019-09-16T02:24:04</td>\n",
              "      <td>EGV</td>\n",
              "      <td>185</td>\n",
              "      <td>0.0</td>\n",
              "      <td>0.0</td>\n",
              "    </tr>\n",
              "    <tr>\n",
              "      <th>1927</th>\n",
              "      <td>2019-09-16T02:29:05</td>\n",
              "      <td>EGV</td>\n",
              "      <td>185</td>\n",
              "      <td>0.0</td>\n",
              "      <td>0.0</td>\n",
              "    </tr>\n",
              "    <tr>\n",
              "      <th>1928</th>\n",
              "      <td>2019-09-16T02:34:04</td>\n",
              "      <td>EGV</td>\n",
              "      <td>186</td>\n",
              "      <td>0.0</td>\n",
              "      <td>0.0</td>\n",
              "    </tr>\n",
              "    <tr>\n",
              "      <th>1929</th>\n",
              "      <td>2019-09-16T02:39:05</td>\n",
              "      <td>EGV</td>\n",
              "      <td>185</td>\n",
              "      <td>0.0</td>\n",
              "      <td>0.0</td>\n",
              "    </tr>\n",
              "    <tr>\n",
              "      <th>1930</th>\n",
              "      <td>2019-09-16T02:44:06</td>\n",
              "      <td>EGV</td>\n",
              "      <td>185</td>\n",
              "      <td>0.0</td>\n",
              "      <td>0.0</td>\n",
              "    </tr>\n",
              "    <tr>\n",
              "      <th>1931</th>\n",
              "      <td>2019-09-16T02:49:05</td>\n",
              "      <td>EGV</td>\n",
              "      <td>185</td>\n",
              "      <td>0.0</td>\n",
              "      <td>0.0</td>\n",
              "    </tr>\n",
              "    <tr>\n",
              "      <th>1932</th>\n",
              "      <td>2019-09-16T02:54:05</td>\n",
              "      <td>EGV</td>\n",
              "      <td>183</td>\n",
              "      <td>0.0</td>\n",
              "      <td>0.0</td>\n",
              "    </tr>\n",
              "    <tr>\n",
              "      <th>1933</th>\n",
              "      <td>2019-09-16T02:59:05</td>\n",
              "      <td>EGV</td>\n",
              "      <td>177</td>\n",
              "      <td>0.0</td>\n",
              "      <td>0.0</td>\n",
              "    </tr>\n",
              "    <tr>\n",
              "      <th>1934</th>\n",
              "      <td>2019-09-16T03:04:05</td>\n",
              "      <td>EGV</td>\n",
              "      <td>174</td>\n",
              "      <td>0.0</td>\n",
              "      <td>0.0</td>\n",
              "    </tr>\n",
              "    <tr>\n",
              "      <th>1935</th>\n",
              "      <td>2019-09-16T03:09:05</td>\n",
              "      <td>EGV</td>\n",
              "      <td>169</td>\n",
              "      <td>0.0</td>\n",
              "      <td>0.0</td>\n",
              "    </tr>\n",
              "    <tr>\n",
              "      <th>1936</th>\n",
              "      <td>2019-09-16T03:14:05</td>\n",
              "      <td>EGV</td>\n",
              "      <td>167</td>\n",
              "      <td>0.0</td>\n",
              "      <td>0.0</td>\n",
              "    </tr>\n",
              "    <tr>\n",
              "      <th>1937</th>\n",
              "      <td>2019-09-16T03:19:05</td>\n",
              "      <td>EGV</td>\n",
              "      <td>166</td>\n",
              "      <td>0.0</td>\n",
              "      <td>0.0</td>\n",
              "    </tr>\n",
              "    <tr>\n",
              "      <th>1938</th>\n",
              "      <td>2019-09-16T03:24:06</td>\n",
              "      <td>EGV</td>\n",
              "      <td>165</td>\n",
              "      <td>0.0</td>\n",
              "      <td>0.0</td>\n",
              "    </tr>\n",
              "    <tr>\n",
              "      <th>1939</th>\n",
              "      <td>2019-09-16T03:29:05</td>\n",
              "      <td>EGV</td>\n",
              "      <td>165</td>\n",
              "      <td>0.0</td>\n",
              "      <td>0.0</td>\n",
              "    </tr>\n",
              "    <tr>\n",
              "      <th>1940</th>\n",
              "      <td>2019-09-16T03:34:06</td>\n",
              "      <td>EGV</td>\n",
              "      <td>162</td>\n",
              "      <td>0.0</td>\n",
              "      <td>0.0</td>\n",
              "    </tr>\n",
              "    <tr>\n",
              "      <th>1941</th>\n",
              "      <td>2019-09-16T03:39:05</td>\n",
              "      <td>EGV</td>\n",
              "      <td>160</td>\n",
              "      <td>0.0</td>\n",
              "      <td>0.0</td>\n",
              "    </tr>\n",
              "    <tr>\n",
              "      <th>1942</th>\n",
              "      <td>2019-09-16T03:44:05</td>\n",
              "      <td>EGV</td>\n",
              "      <td>158</td>\n",
              "      <td>0.0</td>\n",
              "      <td>0.0</td>\n",
              "    </tr>\n",
              "    <tr>\n",
              "      <th>1943</th>\n",
              "      <td>2019-09-16T03:49:06</td>\n",
              "      <td>EGV</td>\n",
              "      <td>157</td>\n",
              "      <td>0.0</td>\n",
              "      <td>0.0</td>\n",
              "    </tr>\n",
              "    <tr>\n",
              "      <th>1944</th>\n",
              "      <td>2019-09-16T03:54:06</td>\n",
              "      <td>EGV</td>\n",
              "      <td>155</td>\n",
              "      <td>0.0</td>\n",
              "      <td>0.0</td>\n",
              "    </tr>\n",
              "    <tr>\n",
              "      <th>1945</th>\n",
              "      <td>2019-09-16T03:59:06</td>\n",
              "      <td>EGV</td>\n",
              "      <td>154</td>\n",
              "      <td>0.0</td>\n",
              "      <td>0.0</td>\n",
              "    </tr>\n",
              "    <tr>\n",
              "      <th>1946</th>\n",
              "      <td>2019-09-16T04:04:05</td>\n",
              "      <td>EGV</td>\n",
              "      <td>153</td>\n",
              "      <td>0.0</td>\n",
              "      <td>0.0</td>\n",
              "    </tr>\n",
              "    <tr>\n",
              "      <th>1947</th>\n",
              "      <td>2019-09-16T04:09:05</td>\n",
              "      <td>EGV</td>\n",
              "      <td>152</td>\n",
              "      <td>0.0</td>\n",
              "      <td>0.0</td>\n",
              "    </tr>\n",
              "    <tr>\n",
              "      <th>1948</th>\n",
              "      <td>2019-09-16T04:14:06</td>\n",
              "      <td>EGV</td>\n",
              "      <td>149</td>\n",
              "      <td>0.0</td>\n",
              "      <td>0.0</td>\n",
              "    </tr>\n",
              "    <tr>\n",
              "      <th>1949</th>\n",
              "      <td>2019-09-16T04:19:05</td>\n",
              "      <td>EGV</td>\n",
              "      <td>148</td>\n",
              "      <td>0.0</td>\n",
              "      <td>0.0</td>\n",
              "    </tr>\n",
              "  </tbody>\n",
              "</table>\n",
              "</div>"
            ],
            "text/plain": [
              "                Timestamp Event Glucose  Insulin  Meal\n",
              "1900  2019-09-15T23:44:06   EGV     240      0.0   0.0\n",
              "1901  2019-09-15T23:49:07   EGV     217      0.0   0.0\n",
              "1902  2019-09-15T23:54:06   EGV     218      0.0   0.0\n",
              "1903  2019-09-15T23:59:06   EGV     228      0.0   0.0\n",
              "1904  2019-09-16T00:04:06   EGV     211      0.0   0.0\n",
              "1905  2019-09-16T00:39:05   EGV     196      0.0   0.0\n",
              "1906  2019-09-16T00:44:06   EGV     197      0.0   0.0\n",
              "1907  2019-09-16T00:49:06   EGV     202      0.0   0.0\n",
              "1908  2019-09-16T00:54:05   EGV     201      0.0   0.0\n",
              "1909  2019-09-16T00:59:05   EGV     200      0.0   0.0\n",
              "1910  2019-09-16T01:04:05   EGV     198      0.0   0.0\n",
              "1911  2019-09-16T01:09:05   EGV     200      0.0   0.0\n",
              "1912  2019-09-16T01:14:05   EGV     196      0.0   0.0\n",
              "1913  2019-09-16T01:19:04   EGV     196      0.0   0.0\n",
              "1914  2019-09-16T01:24:05   EGV     194      0.0   0.0\n",
              "1915  2019-09-16T01:29:04   EGV     193      0.0   0.0\n",
              "1916  2019-09-16T01:34:05   EGV     190      0.0   0.0\n",
              "1917  2019-09-16T01:39:04   EGV     189      0.0   0.0\n",
              "1918  2019-09-16T01:44:04   EGV     189      0.0   0.0\n",
              "1919  2019-09-16T01:49:04   EGV     184      0.0   0.0\n",
              "1920  2019-09-16T01:54:04   EGV     185      0.0   0.0\n",
              "1921  2019-09-16T01:59:04   EGV     185      0.0   0.0\n",
              "1922  2019-09-16T02:04:04   EGV     187      0.0   0.0\n",
              "1923  2019-09-16T02:09:04   EGV     187      0.0   0.0\n",
              "1924  2019-09-16T02:14:04   EGV     185      0.0   0.0\n",
              "1925  2019-09-16T02:19:05   EGV     185      0.0   0.0\n",
              "1926  2019-09-16T02:24:04   EGV     185      0.0   0.0\n",
              "1927  2019-09-16T02:29:05   EGV     185      0.0   0.0\n",
              "1928  2019-09-16T02:34:04   EGV     186      0.0   0.0\n",
              "1929  2019-09-16T02:39:05   EGV     185      0.0   0.0\n",
              "1930  2019-09-16T02:44:06   EGV     185      0.0   0.0\n",
              "1931  2019-09-16T02:49:05   EGV     185      0.0   0.0\n",
              "1932  2019-09-16T02:54:05   EGV     183      0.0   0.0\n",
              "1933  2019-09-16T02:59:05   EGV     177      0.0   0.0\n",
              "1934  2019-09-16T03:04:05   EGV     174      0.0   0.0\n",
              "1935  2019-09-16T03:09:05   EGV     169      0.0   0.0\n",
              "1936  2019-09-16T03:14:05   EGV     167      0.0   0.0\n",
              "1937  2019-09-16T03:19:05   EGV     166      0.0   0.0\n",
              "1938  2019-09-16T03:24:06   EGV     165      0.0   0.0\n",
              "1939  2019-09-16T03:29:05   EGV     165      0.0   0.0\n",
              "1940  2019-09-16T03:34:06   EGV     162      0.0   0.0\n",
              "1941  2019-09-16T03:39:05   EGV     160      0.0   0.0\n",
              "1942  2019-09-16T03:44:05   EGV     158      0.0   0.0\n",
              "1943  2019-09-16T03:49:06   EGV     157      0.0   0.0\n",
              "1944  2019-09-16T03:54:06   EGV     155      0.0   0.0\n",
              "1945  2019-09-16T03:59:06   EGV     154      0.0   0.0\n",
              "1946  2019-09-16T04:04:05   EGV     153      0.0   0.0\n",
              "1947  2019-09-16T04:09:05   EGV     152      0.0   0.0\n",
              "1948  2019-09-16T04:14:06   EGV     149      0.0   0.0\n",
              "1949  2019-09-16T04:19:05   EGV     148      0.0   0.0"
            ]
          },
          "metadata": {
            "tags": []
          },
          "execution_count": 86
        }
      ]
    },
    {
      "cell_type": "code",
      "metadata": {
        "id": "QxwcSjuqtMXO"
      },
      "source": [
        "def fix_glucose_value(df,col):\r\n",
        "    for i, row in df.iterrows():\r\n",
        "        val = row[col]\r\n",
        "        \r\n",
        "        df.loc[i,col] = math.floor(val)"
      ],
      "execution_count": 87,
      "outputs": []
    },
    {
      "cell_type": "code",
      "metadata": {
        "id": "sIkC9Oi-t-Rh"
      },
      "source": [
        "fix_glucose_value(df,'Glucose')"
      ],
      "execution_count": 88,
      "outputs": []
    },
    {
      "cell_type": "markdown",
      "metadata": {
        "id": "KZ8pAdTfq9q8"
      },
      "source": [
        "## 이제 여기부터 DL 모델 돌려볼 것 \n",
        "+ 일단 모델부터 간단하게 돌려보고 성능 측정\n",
        "+ 그리고 전처리 해가면서 성능 비교"
      ]
    },
    {
      "cell_type": "code",
      "metadata": {
        "ExecuteTime": {
          "end_time": "2021-01-25T01:53:54.756503Z",
          "start_time": "2021-01-25T01:53:54.742541Z"
        },
        "id": "TDvQ2BGIq9q8"
      },
      "source": [
        "import numpy as np\n",
        "import tensorflow as tf\n",
        "import random as rn"
      ],
      "execution_count": 89,
      "outputs": []
    },
    {
      "cell_type": "code",
      "metadata": {
        "ExecuteTime": {
          "end_time": "2021-01-25T01:53:58.949108Z",
          "start_time": "2021-01-25T01:53:58.935145Z"
        },
        "id": "qlRi61Seq9q8"
      },
      "source": [
        "# 재현 가능한 결과를 만들기 위해 시드값 설정 \n",
        "import os \n",
        "import random\n",
        "seed_num = 42\n",
        "os.environ['PYTHONHASHSEED']=str(seed_num)\n",
        "\n",
        "random.seed(seed_num)\n",
        "np.random.seed(seed_num)\n",
        "tf.random.set_seed(seed_num)"
      ],
      "execution_count": 90,
      "outputs": []
    },
    {
      "cell_type": "code",
      "metadata": {
        "ExecuteTime": {
          "end_time": "2021-01-25T01:54:00.826286Z",
          "start_time": "2021-01-25T01:54:00.780972Z"
        },
        "id": "pUArI0P3q9q8"
      },
      "source": [
        "from tensorflow.compat.v1.keras import backend as K\n",
        "\n",
        "session_conf = tf.compat.v1.ConfigProto(intra_op_parallelism_threads=1,\n",
        "                             inter_op_parallelism_threads=1)\n",
        "sess=tf.compat.v1.Session(graph=tf.compat.v1.get_default_graph(),config=session_conf)\n",
        "K.set_session(sess)"
      ],
      "execution_count": 91,
      "outputs": []
    },
    {
      "cell_type": "code",
      "metadata": {
        "ExecuteTime": {
          "end_time": "2021-01-25T01:54:01.331935Z",
          "start_time": "2021-01-25T01:54:01.317971Z"
        },
        "id": "88Z8zIskq9q8"
      },
      "source": [
        "#from keras import backend as K\n",
        "#session_conf = tf.compat.v1.ConfigProto(intra_op_parallelism_threads=1, inter_op_parallelism_threads=1)\n",
        "#sess = tf.compat.v1.Session(graph=tf.compat.v1.get_default_graph(), config=session_conf)\n",
        "#tf.compat.v1.keras.backend.set_session(sess)\n"
      ],
      "execution_count": 92,
      "outputs": []
    },
    {
      "cell_type": "code",
      "metadata": {
        "ExecuteTime": {
          "end_time": "2021-01-25T01:54:02.810348Z",
          "start_time": "2021-01-25T01:54:02.797382Z"
        },
        "id": "Aqk7ufhwq9q8"
      },
      "source": [
        "from sklearn.metrics import mean_squared_error\n",
        "def RMSE(y_test,y_predict):\n",
        "    return np.sqrt(mean_squared_error(y_test,y_predict))"
      ],
      "execution_count": 93,
      "outputs": []
    },
    {
      "cell_type": "markdown",
      "metadata": {
        "id": "_b7JkM922JMT"
      },
      "source": [
        "## 나이브 메소드"
      ]
    },
    {
      "cell_type": "markdown",
      "metadata": {
        "id": "ZRPsJpyM2os6"
      },
      "source": [
        "### 예를 들어 단순히 t 시점에 t - 6 (sampling rate가 5분이므로 30분), t + 1 시점에 t - 5값을 가져오는 naive한 방법"
      ]
    },
    {
      "cell_type": "code",
      "metadata": {
        "id": "d8haBBPH-kwK"
      },
      "source": [
        "from sklearn.model_selection import train_test_split"
      ],
      "execution_count": 94,
      "outputs": []
    },
    {
      "cell_type": "code",
      "metadata": {
        "ExecuteTime": {
          "end_time": "2021-01-25T01:54:14.533048Z",
          "start_time": "2021-01-25T01:54:14.517090Z"
        },
        "id": "y_NuM1bSq9q9"
      },
      "source": [
        "raw_seq = df['Glucose']\n",
        "#raw_seq=raw_seq.to_numpy(dtype='int64')"
      ],
      "execution_count": 95,
      "outputs": []
    },
    {
      "cell_type": "code",
      "metadata": {
        "id": "N56mfk97embM"
      },
      "source": [
        "from sklearn.metrics import mean_squared_error\r\n",
        "def RMSE(y_test,y_predict):\r\n",
        "    return np.sqrt(mean_squared_error(y_test,y_predict))"
      ],
      "execution_count": 96,
      "outputs": []
    },
    {
      "cell_type": "markdown",
      "metadata": {
        "id": "g0xg8dkjd7dd"
      },
      "source": [
        "### train"
      ]
    },
    {
      "cell_type": "code",
      "metadata": {
        "id": "85QVOwUGVkOH"
      },
      "source": [
        "TRAIN_SPLIT=int(len(raw_seq)*0.7)"
      ],
      "execution_count": 97,
      "outputs": []
    },
    {
      "cell_type": "code",
      "metadata": {
        "colab": {
          "base_uri": "https://localhost:8080/"
        },
        "id": "dxRNiSR9WAZg",
        "outputId": "05223f49-1bb8-4402-d48b-478396bf9323"
      },
      "source": [
        "TRAIN_SPLIT"
      ],
      "execution_count": 98,
      "outputs": [
        {
          "output_type": "execute_result",
          "data": {
            "text/plain": [
              "1414"
            ]
          },
          "metadata": {
            "tags": []
          },
          "execution_count": 98
        }
      ]
    },
    {
      "cell_type": "code",
      "metadata": {
        "id": "Kg-_x6aUTqLh"
      },
      "source": [
        "train, test = train_test_split(raw_seq,train_size = TRAIN_SPLIT,shuffle=False,random_state=42)"
      ],
      "execution_count": 99,
      "outputs": []
    },
    {
      "cell_type": "code",
      "metadata": {
        "id": "-wRSbBNPT39y"
      },
      "source": [
        "#test[:5]"
      ],
      "execution_count": 100,
      "outputs": []
    },
    {
      "cell_type": "code",
      "metadata": {
        "id": "7w0cU1f3VS4K"
      },
      "source": [
        "#raw_seq[731:740]"
      ],
      "execution_count": 101,
      "outputs": []
    },
    {
      "cell_type": "code",
      "metadata": {
        "id": "EnNrTu5AT95v"
      },
      "source": [
        "#test[:10]"
      ],
      "execution_count": 102,
      "outputs": []
    },
    {
      "cell_type": "code",
      "metadata": {
        "colab": {
          "base_uri": "https://localhost:8080/"
        },
        "id": "_2AsoeB0UfKJ",
        "outputId": "cacf26e7-77c7-4623-e644-64b972af80af"
      },
      "source": [
        "train.shape"
      ],
      "execution_count": 103,
      "outputs": [
        {
          "output_type": "execute_result",
          "data": {
            "text/plain": [
              "(1414,)"
            ]
          },
          "metadata": {
            "tags": []
          },
          "execution_count": 103
        }
      ]
    },
    {
      "cell_type": "markdown",
      "metadata": {
        "id": "Jva9P7oMeeOm"
      },
      "source": [
        "#### 15 MIN"
      ]
    },
    {
      "cell_type": "code",
      "metadata": {
        "id": "Ci_E-knRwXx6"
      },
      "source": [
        "new_list = []\r\n",
        "for i in range(len(train)):\r\n",
        "  if i < 3:\r\n",
        "    new_list.append(train[i])\r\n",
        "  else:\r\n",
        "    new_list.append(train[i-3])\r\n",
        "  \r\n",
        "  \r\n",
        "\r\n",
        "\r\n",
        "  "
      ],
      "execution_count": 104,
      "outputs": []
    },
    {
      "cell_type": "code",
      "metadata": {
        "id": "G21gpHK7Zwiy"
      },
      "source": [
        "#test =test.reset_index()"
      ],
      "execution_count": 105,
      "outputs": []
    },
    {
      "cell_type": "code",
      "metadata": {
        "colab": {
          "base_uri": "https://localhost:8080/"
        },
        "id": "O8EHpSxzemba",
        "outputId": "61d0762a-25c3-42de-a77a-45d7a50901a0"
      },
      "source": [
        "# 15분\r\n",
        "RMSE(new_list,train)"
      ],
      "execution_count": 106,
      "outputs": [
        {
          "output_type": "execute_result",
          "data": {
            "text/plain": [
              "13.478727543097186"
            ]
          },
          "metadata": {
            "tags": []
          },
          "execution_count": 106
        }
      ]
    },
    {
      "cell_type": "markdown",
      "metadata": {
        "id": "GBSm0jwPe4RZ"
      },
      "source": [
        "#### 30 MIN"
      ]
    },
    {
      "cell_type": "code",
      "metadata": {
        "id": "Zf1lQvqae5pk"
      },
      "source": [
        "new_list = []\r\n",
        "for i in range(len(train)):\r\n",
        "  if i < 6:\r\n",
        "    new_list.append(train[i])\r\n",
        "  else:\r\n",
        "    new_list.append(train[i-6])\r\n",
        "  "
      ],
      "execution_count": 107,
      "outputs": []
    },
    {
      "cell_type": "code",
      "metadata": {
        "colab": {
          "base_uri": "https://localhost:8080/"
        },
        "id": "fg_rAVRKe8cd",
        "outputId": "2bcf9622-da9d-4dfa-ec72-4d0171d8d1a7"
      },
      "source": [
        "# 30분\r\n",
        "RMSE(new_list,train)"
      ],
      "execution_count": 108,
      "outputs": [
        {
          "output_type": "execute_result",
          "data": {
            "text/plain": [
              "22.69647830167588"
            ]
          },
          "metadata": {
            "tags": []
          },
          "execution_count": 108
        }
      ]
    },
    {
      "cell_type": "markdown",
      "metadata": {
        "id": "ap09_eEgfCDa"
      },
      "source": [
        "#### 60 MIN"
      ]
    },
    {
      "cell_type": "code",
      "metadata": {
        "id": "i6nzr3LRgSNK"
      },
      "source": [
        "new_list = []\r\n",
        "for i in range(len(train)):\r\n",
        "  if i < 12:\r\n",
        "    new_list.append(train[i])\r\n",
        "  else:\r\n",
        "    new_list.append(train[i-12])\r\n",
        "  "
      ],
      "execution_count": 109,
      "outputs": []
    },
    {
      "cell_type": "code",
      "metadata": {
        "colab": {
          "base_uri": "https://localhost:8080/"
        },
        "id": "TWCufRHxgUIV",
        "outputId": "5f7a12a7-4676-4493-827c-8b7be94389e1"
      },
      "source": [
        "# 60분\r\n",
        "RMSE(new_list,train)"
      ],
      "execution_count": 110,
      "outputs": [
        {
          "output_type": "execute_result",
          "data": {
            "text/plain": [
              "35.77023764234869"
            ]
          },
          "metadata": {
            "tags": []
          },
          "execution_count": 110
        }
      ]
    },
    {
      "cell_type": "code",
      "metadata": {
        "colab": {
          "base_uri": "https://localhost:8080/"
        },
        "id": "bn-Qy5U_iryl",
        "outputId": "060d7817-b523-4663-b9b9-16a4da6b052c"
      },
      "source": [
        "df.shape"
      ],
      "execution_count": 121,
      "outputs": [
        {
          "output_type": "execute_result",
          "data": {
            "text/plain": [
              "(2021, 5)"
            ]
          },
          "metadata": {
            "tags": []
          },
          "execution_count": 121
        }
      ]
    },
    {
      "cell_type": "markdown",
      "metadata": {
        "id": "ie6pKo0CfSGY"
      },
      "source": [
        "### test"
      ]
    },
    {
      "cell_type": "code",
      "metadata": {
        "id": "G3-UiMS_fSGZ"
      },
      "source": [
        "TRAIN_SPLIT=int(len(raw_seq)*0.7)"
      ],
      "execution_count": 111,
      "outputs": []
    },
    {
      "cell_type": "code",
      "metadata": {
        "colab": {
          "base_uri": "https://localhost:8080/"
        },
        "id": "1-dADW8tfSGa",
        "outputId": "b01a8012-d02f-4c7d-809f-75a131cc486a"
      },
      "source": [
        "TRAIN_SPLIT"
      ],
      "execution_count": 112,
      "outputs": [
        {
          "output_type": "execute_result",
          "data": {
            "text/plain": [
              "1414"
            ]
          },
          "metadata": {
            "tags": []
          },
          "execution_count": 112
        }
      ]
    },
    {
      "cell_type": "code",
      "metadata": {
        "colab": {
          "base_uri": "https://localhost:8080/"
        },
        "id": "e1l1dwztfSGc",
        "outputId": "544365ba-7456-4314-c764-5e5b0d242d21"
      },
      "source": [
        "test.shape"
      ],
      "execution_count": 113,
      "outputs": [
        {
          "output_type": "execute_result",
          "data": {
            "text/plain": [
              "(607,)"
            ]
          },
          "metadata": {
            "tags": []
          },
          "execution_count": 113
        }
      ]
    },
    {
      "cell_type": "markdown",
      "metadata": {
        "id": "pLR9qpEnfSGd"
      },
      "source": [
        "#### 15 MIN"
      ]
    },
    {
      "cell_type": "code",
      "metadata": {
        "id": "3uJENzpOfc_9"
      },
      "source": [
        "new_list = []\r\n",
        "for i in range(len(test)):\r\n",
        "  if i < 3:\r\n",
        "    new_list.append(raw_seq[i+len(train)])\r\n",
        "  else:\r\n",
        "    new_list.append(raw_seq[i+len(train)-3])\r\n",
        "  "
      ],
      "execution_count": 114,
      "outputs": []
    },
    {
      "cell_type": "code",
      "metadata": {
        "id": "VmHOV7T5fSGd"
      },
      "source": [
        "#test =test.reset_index()"
      ],
      "execution_count": 115,
      "outputs": []
    },
    {
      "cell_type": "code",
      "metadata": {
        "colab": {
          "base_uri": "https://localhost:8080/"
        },
        "id": "78rkymcrfSGe",
        "outputId": "8fa4f980-935b-4e7d-beb6-f23cb51e6d19"
      },
      "source": [
        "# 15분\r\n",
        "RMSE(new_list,test)"
      ],
      "execution_count": 116,
      "outputs": [
        {
          "output_type": "execute_result",
          "data": {
            "text/plain": [
              "12.917428809599487"
            ]
          },
          "metadata": {
            "tags": []
          },
          "execution_count": 116
        }
      ]
    },
    {
      "cell_type": "markdown",
      "metadata": {
        "id": "fnGpURJ6fSGe"
      },
      "source": [
        "#### 30 MIN"
      ]
    },
    {
      "cell_type": "code",
      "metadata": {
        "id": "CPGnxTFIfSGf"
      },
      "source": [
        "new_list = []\r\n",
        "for i in range(len(test)):\r\n",
        "  if i < 6:\r\n",
        "    new_list.append(raw_seq[i+len(train)])\r\n",
        "  else:\r\n",
        "    new_list.append(raw_seq[i+len(train)-6])\r\n",
        "  "
      ],
      "execution_count": 117,
      "outputs": []
    },
    {
      "cell_type": "code",
      "metadata": {
        "colab": {
          "base_uri": "https://localhost:8080/"
        },
        "id": "sx2fveThfSGf",
        "outputId": "9ecd94bd-2b8a-43ea-915c-6576d2442f1d"
      },
      "source": [
        "# 30분\r\n",
        "RMSE(new_list,test)"
      ],
      "execution_count": 118,
      "outputs": [
        {
          "output_type": "execute_result",
          "data": {
            "text/plain": [
              "22.22740787015053"
            ]
          },
          "metadata": {
            "tags": []
          },
          "execution_count": 118
        }
      ]
    },
    {
      "cell_type": "markdown",
      "metadata": {
        "id": "JsNuh7GkfSGf"
      },
      "source": [
        "#### 60 MIN"
      ]
    },
    {
      "cell_type": "code",
      "metadata": {
        "id": "UIqrB0ywfSGg"
      },
      "source": [
        "new_list = []\r\n",
        "for i in range(len(test)):\r\n",
        "  if i < 12:\r\n",
        "    new_list.append(raw_seq[i+len(train)])\r\n",
        "  else:\r\n",
        "    new_list.append(raw_seq[i+len(train)-12])\r\n",
        "  "
      ],
      "execution_count": 119,
      "outputs": []
    },
    {
      "cell_type": "code",
      "metadata": {
        "colab": {
          "base_uri": "https://localhost:8080/"
        },
        "id": "frUZ32p-fSGg",
        "outputId": "ebcb1b16-d2a1-4625-816a-245627e8645e"
      },
      "source": [
        "# 60분\r\n",
        "RMSE(new_list,test)"
      ],
      "execution_count": 120,
      "outputs": [
        {
          "output_type": "execute_result",
          "data": {
            "text/plain": [
              "35.39680920848206"
            ]
          },
          "metadata": {
            "tags": []
          },
          "execution_count": 120
        }
      ]
    }
  ]
}