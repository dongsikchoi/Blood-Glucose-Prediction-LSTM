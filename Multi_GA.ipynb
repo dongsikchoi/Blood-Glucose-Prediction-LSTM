{
  "nbformat": 4,
  "nbformat_minor": 0,
  "metadata": {
    "colab": {
      "name": "Multi_GA.ipynb",
      "provenance": [],
      "collapsed_sections": [
        "oxfWQpk92mby"
      ],
      "toc_visible": true
    },
    "kernelspec": {
      "display_name": "Python 3",
      "language": "python",
      "name": "python3"
    },
    "language_info": {
      "codemirror_mode": {
        "name": "ipython",
        "version": 3
      },
      "file_extension": ".py",
      "mimetype": "text/x-python",
      "name": "python",
      "nbconvert_exporter": "python",
      "pygments_lexer": "ipython3",
      "version": "3.8.1"
    },
    "toc": {
      "base_numbering": 1,
      "nav_menu": {},
      "number_sections": true,
      "sideBar": true,
      "skip_h1_title": false,
      "title_cell": "Table of Contents",
      "title_sidebar": "Contents",
      "toc_cell": false,
      "toc_position": {
        "height": "837px",
        "left": "26px",
        "top": "92px",
        "width": "385px"
      },
      "toc_section_display": true,
      "toc_window_display": true
    },
    "varInspector": {
      "cols": {
        "lenName": 16,
        "lenType": 16,
        "lenVar": 40
      },
      "kernels_config": {
        "python": {
          "delete_cmd_postfix": "",
          "delete_cmd_prefix": "del ",
          "library": "var_list.py",
          "varRefreshCmd": "print(var_dic_list())"
        },
        "r": {
          "delete_cmd_postfix": ") ",
          "delete_cmd_prefix": "rm(",
          "library": "var_list.r",
          "varRefreshCmd": "cat(var_dic_list()) "
        }
      },
      "position": {
        "height": "592px",
        "left": "1521px",
        "right": "20px",
        "top": "128px",
        "width": "401px"
      },
      "types_to_exclude": [
        "module",
        "function",
        "builtin_function_or_method",
        "instance",
        "_Feature"
      ],
      "window_display": false
    }
  },
  "cells": [
    {
      "cell_type": "markdown",
      "metadata": {
        "id": "Q04vy3xh2mau"
      },
      "source": [
        "### 필요 라이브러리 로드"
      ]
    },
    {
      "cell_type": "code",
      "metadata": {
        "id": "Y6KIlZd52ma3"
      },
      "source": [
        "import warnings\n",
        "import itertools\n",
        "import numpy as np\n",
        "import matplotlib.pyplot as plt\n",
        "warnings.filterwarnings(\"ignore\")\n",
        "plt.style.use('fivethirtyeight')\n",
        "import pandas as pd\n",
        "import statsmodels.api as sm\n",
        "import matplotlib\n",
        "\n",
        "matplotlib.rcParams['axes.labelsize']=14\n",
        "matplotlib.rcParams['xtick.labelsize']=12\n",
        "matplotlib.rcParams['ytick.labelsize']=12\n",
        "matplotlib.rcParams['text.color']='k'"
      ],
      "execution_count": null,
      "outputs": []
    },
    {
      "cell_type": "code",
      "metadata": {
        "id": "w_NdCe1F2qB2"
      },
      "source": [
        "from google.colab import drive\n",
        "drive.mount('/content/drive')"
      ],
      "execution_count": null,
      "outputs": []
    },
    {
      "cell_type": "code",
      "metadata": {
        "id": "9ICucEai2ma3"
      },
      "source": [
        "pd.set_option('display.max_columns',500) \n",
        "#출력시 생략 X"
      ],
      "execution_count": null,
      "outputs": []
    },
    {
      "cell_type": "markdown",
      "metadata": {
        "id": "wER49ulk2ma4"
      },
      "source": [
        "### 데이터셋 설정 "
      ]
    },
    {
      "cell_type": "code",
      "metadata": {
        "id": "RFnU3CZ22ma4"
      },
      "source": [
        "#df=pd.read_excel(\"BG_Dataset/BG_sample24.xlsx\")\n",
        "#df=pd.read_csv(\"BG_Dataset/BG_sample46.csv\")\n",
        "df = pd.read_excel(\"/content/drive/MyDrive/BG_Dataset/BG_Sample44.xlsx\")\n",
        "#df = pd.read_csv(\"/content/drive/MyDrive/BG_Dataset/BG_Sample46.csv\")"
      ],
      "execution_count": null,
      "outputs": []
    },
    {
      "cell_type": "code",
      "metadata": {
        "id": "5BNBSLNQ2ma4"
      },
      "source": [
        "df.shape"
      ],
      "execution_count": null,
      "outputs": []
    },
    {
      "cell_type": "code",
      "metadata": {
        "id": "1Zv_arUt2ma5"
      },
      "source": [
        "#df[]"
      ],
      "execution_count": null,
      "outputs": []
    },
    {
      "cell_type": "code",
      "metadata": {
        "id": "8mK2jUf52ma5"
      },
      "source": [
        "#필요없는 열 제거\n",
        "cols = ['색인', '이벤트 하위 유형', '환자 정보', '장치 정보', '소스 장치 ID', '기간(hh:mm:ss)', '포도당 변화율 (mg/dL/min)', '트랜스미터 시간 (배장 정수)', '트랜스미터 ID']\n",
        "df.drop(cols, axis=1, inplace=True)\n"
      ],
      "execution_count": null,
      "outputs": []
    },
    {
      "cell_type": "code",
      "metadata": {
        "id": "GamDb3pr2ma5"
      },
      "source": [
        "df=df.rename({'타임스탬프(YYYY-MM-DDThh:mm:ss)':'Timestamp','포도당 값 (mg/dL)':'Glucose','이벤트 유형':'Event',\n",
        "             '인슐린 값(u)':'Insulin','탄수화물 값 (그램)':'Meal'},axis='columns')"
      ],
      "execution_count": null,
      "outputs": []
    },
    {
      "cell_type": "code",
      "metadata": {
        "id": "tBrHD-u02ma5"
      },
      "source": [
        "df['Event'].value_counts()"
      ],
      "execution_count": null,
      "outputs": []
    },
    {
      "cell_type": "code",
      "metadata": {
        "id": "hPokxrus2ma6"
      },
      "source": [
        "df['Glucose'].value_counts()"
      ],
      "execution_count": null,
      "outputs": []
    },
    {
      "cell_type": "code",
      "metadata": {
        "id": "XfofD__P2ma6"
      },
      "source": [
        "df[240:250]"
      ],
      "execution_count": null,
      "outputs": []
    },
    {
      "cell_type": "code",
      "metadata": {
        "id": "mpul6TiL2ma6"
      },
      "source": [
        "# 인슐린 투여횟수\n",
        "df['Insulin'].value_counts()"
      ],
      "execution_count": null,
      "outputs": []
    },
    {
      "cell_type": "code",
      "metadata": {
        "id": "YuSZuEbK2ma6"
      },
      "source": [
        "# 식사 횟수\n",
        "df['Meal'].value_counts()"
      ],
      "execution_count": null,
      "outputs": []
    },
    {
      "cell_type": "code",
      "metadata": {
        "id": "rGFOHOxk2ma7"
      },
      "source": [
        ""
      ],
      "execution_count": null,
      "outputs": []
    },
    {
      "cell_type": "code",
      "metadata": {
        "id": "5TLlXKjw2ma7"
      },
      "source": [
        "df.head(15)"
      ],
      "execution_count": null,
      "outputs": []
    },
    {
      "cell_type": "code",
      "metadata": {
        "id": "jYdc98YB2ma7"
      },
      "source": [
        "# Timestamp != NaN일 때까지 count하고 \n",
        "# Nan에 해당하는 인스턴스 제거 \n",
        "df=df.dropna(subset=['Timestamp'])"
      ],
      "execution_count": null,
      "outputs": []
    },
    {
      "cell_type": "code",
      "metadata": {
        "id": "hv_ZtD3C2ma7"
      },
      "source": [
        "df.head(20)"
      ],
      "execution_count": null,
      "outputs": []
    },
    {
      "cell_type": "code",
      "metadata": {
        "id": "4SPr0ejq2ma7"
      },
      "source": [
        "df.shape"
      ],
      "execution_count": null,
      "outputs": []
    },
    {
      "cell_type": "code",
      "metadata": {
        "id": "2moRbrku2ma8"
      },
      "source": [
        "# drop한 인스턴스가 있어서 인덱스 리셋\n",
        "df=df.sort_values(by=['Timestamp'],axis=0,ascending=True)\n",
        "df=df.reset_index(drop=True)"
      ],
      "execution_count": null,
      "outputs": []
    },
    {
      "cell_type": "code",
      "metadata": {
        "id": "pSPJq1Cv2ma8"
      },
      "source": [
        "df.head(15)"
      ],
      "execution_count": null,
      "outputs": []
    },
    {
      "cell_type": "code",
      "metadata": {
        "id": "59mXR5QY2ma8"
      },
      "source": [
        "df.shape"
      ],
      "execution_count": null,
      "outputs": []
    },
    {
      "cell_type": "code",
      "metadata": {
        "id": "jJWVwGkg2ma8"
      },
      "source": [
        "# 높음, 낮음, 교정 인덱스 저장 \n",
        "high_list=[]\n",
        "low_list=[]\n",
        "calib_list=[]\n",
        "insulin_list=[]\n",
        "meal_list=[]"
      ],
      "execution_count": null,
      "outputs": []
    },
    {
      "cell_type": "code",
      "metadata": {
        "id": "guOGntvA2ma8"
      },
      "source": [
        "def isNaN(num):\n",
        "    return num==num"
      ],
      "execution_count": null,
      "outputs": []
    },
    {
      "cell_type": "code",
      "metadata": {
        "id": "pOeewNYu2ma8"
      },
      "source": [
        "# 혈당 '높음' 빈도 카운트\n",
        "def glucose_count_high(df,col):\n",
        "    count=0\n",
        "    for i, row in df.iterrows():\n",
        "         val = row[col]\n",
        "         if val=='높음':\n",
        "            count=count+1\n",
        "            high_list.append(i)\n",
        "    print('높음 : ',count)\n",
        "    "
      ],
      "execution_count": null,
      "outputs": []
    },
    {
      "cell_type": "code",
      "metadata": {
        "id": "OpfaVu_K2ma8"
      },
      "source": [
        "# 혈당 '낮음' 빈도 카운트\n",
        "def glucose_count_low(df,col):\n",
        "    count=0\n",
        "    for i, row in df.iterrows():\n",
        "         val = row[col]\n",
        "         if val=='낮음':\n",
        "            count=count+1\n",
        "            low_list.append(i)\n",
        "    print('낮음 : ',count)"
      ],
      "execution_count": null,
      "outputs": []
    },
    {
      "cell_type": "code",
      "metadata": {
        "id": "26_LN69q2ma9"
      },
      "source": [
        "# 혈당 '교정' 빈도 카운트\n",
        "def calibration_count_low(df,col):\n",
        "    count=0\n",
        "    for i, row in df.iterrows():\n",
        "         val = row[col]\n",
        "         if val=='교정':\n",
        "            count=count+1\n",
        "            calib_list.append(i)\n",
        "    print('교정 : ',count)"
      ],
      "execution_count": null,
      "outputs": []
    },
    {
      "cell_type": "code",
      "metadata": {
        "id": "3WzRDGCr2ma9"
      },
      "source": [
        "# 인슐린 카운트 \n",
        "def insul_count(df,col):\n",
        "    count=0\n",
        "    for i, row in df.iterrows():\n",
        "         val = row[col]\n",
        "         if isNaN(val)==True:\n",
        "            count=count+1\n",
        "            insulin_list.append(i)\n",
        "    print('인슐린 : ',count)"
      ],
      "execution_count": null,
      "outputs": []
    },
    {
      "cell_type": "code",
      "metadata": {
        "id": "89enmjX42ma9"
      },
      "source": [
        "# 식사 횟수 카운트 \n",
        "def meal_count(df,col):\n",
        "    count=0\n",
        "    for i, row in df.iterrows():\n",
        "         val = row[col]\n",
        "         if isNaN(val)==True:\n",
        "            count=count+1\n",
        "            meal_list.append(i)\n",
        "    print('식사 횟수 : ',count)"
      ],
      "execution_count": null,
      "outputs": []
    },
    {
      "cell_type": "code",
      "metadata": {
        "id": "BMFTGVL22ma9",
        "scrolled": true
      },
      "source": [
        "glucose_count_high(df,'Glucose')"
      ],
      "execution_count": null,
      "outputs": []
    },
    {
      "cell_type": "code",
      "metadata": {
        "id": "S2ROk0ve2ma9"
      },
      "source": [
        "print('높음 개수 :',len(high_list))"
      ],
      "execution_count": null,
      "outputs": []
    },
    {
      "cell_type": "code",
      "metadata": {
        "id": "NJ82J4KB2ma-"
      },
      "source": [
        "print('낮음 개수 :',len(low_list))"
      ],
      "execution_count": null,
      "outputs": []
    },
    {
      "cell_type": "code",
      "metadata": {
        "id": "9HRy6X2a2ma-"
      },
      "source": [
        "print('교정 개수 :',len(calib_list))"
      ],
      "execution_count": null,
      "outputs": []
    },
    {
      "cell_type": "code",
      "metadata": {
        "id": "sDulQu_L2ma-"
      },
      "source": [
        "glucose_count_low(df,'Glucose')"
      ],
      "execution_count": null,
      "outputs": []
    },
    {
      "cell_type": "code",
      "metadata": {
        "id": "LKw3sqTv2ma-"
      },
      "source": [
        "low_list"
      ],
      "execution_count": null,
      "outputs": []
    },
    {
      "cell_type": "code",
      "metadata": {
        "id": "jrSf1Mt42ma-"
      },
      "source": [
        "calibration_count_low(df,'Event')"
      ],
      "execution_count": null,
      "outputs": []
    },
    {
      "cell_type": "code",
      "metadata": {
        "id": "wJ4ugBqx2ma_"
      },
      "source": [
        "calib_list"
      ],
      "execution_count": null,
      "outputs": []
    },
    {
      "cell_type": "code",
      "metadata": {
        "id": "St5pZmKd2ma_"
      },
      "source": [
        "insul_count(df,'Insulin')"
      ],
      "execution_count": null,
      "outputs": []
    },
    {
      "cell_type": "code",
      "metadata": {
        "id": "sueH2dr32ma_"
      },
      "source": [
        "insulin_list"
      ],
      "execution_count": null,
      "outputs": []
    },
    {
      "cell_type": "code",
      "metadata": {
        "id": "Q_tJAu2h2ma_"
      },
      "source": [
        "meal_count(df,'Meal')"
      ],
      "execution_count": null,
      "outputs": []
    },
    {
      "cell_type": "code",
      "metadata": {
        "id": "kMvPOpMn2ma_"
      },
      "source": [
        "meal_list"
      ],
      "execution_count": null,
      "outputs": []
    },
    {
      "cell_type": "code",
      "metadata": {
        "id": "tMu_OauB2ma_"
      },
      "source": [
        "df['Insulin'].value_counts()"
      ],
      "execution_count": null,
      "outputs": []
    },
    {
      "cell_type": "code",
      "metadata": {
        "id": "enmRSjAC2mbA"
      },
      "source": [
        "df['Meal'].value_counts()"
      ],
      "execution_count": null,
      "outputs": []
    },
    {
      "cell_type": "code",
      "metadata": {
        "id": "phHl18Jq2mbA"
      },
      "source": [
        "isNaN(df['Glucose'][14])"
      ],
      "execution_count": null,
      "outputs": []
    },
    {
      "cell_type": "code",
      "metadata": {
        "id": "gWRl2MjU2mbA"
      },
      "source": [
        "import math\n",
        "for i in insulin_list:\n",
        "    \n",
        "    if isNaN(df['Glucose'][i+1]):\n",
        "        df['Insulin'][i+1]=0\n",
        "        continue\n",
        "    if isNaN(df['Glucose'][i+2]):\n",
        "        df['Insulin'][i+2]=0\n",
        "        continue\n",
        "    if isNaN(df['Glucose'][i+3]):\n",
        "        df['Insulin'][i+3]=0\n",
        "        continue\n",
        "    if isNaN(df['Glucose'][i+4]):\n",
        "        df['Insulin'][i+4]=0\n",
        "        continue"
      ],
      "execution_count": null,
      "outputs": []
    },
    {
      "cell_type": "code",
      "metadata": {
        "id": "cqj2kUVB2mbA"
      },
      "source": [
        "for i in meal_list:\n",
        "    \n",
        "    if isNaN(df['Glucose'][i+1]):\n",
        "        df['Meal'][i+1]=0\n",
        "        continue\n",
        "    if isNaN(df['Glucose'][i+2]):\n",
        "        df['Meal'][i+2]=0\n",
        "        continue\n",
        "    if isNaN(df['Glucose'][i+3]):\n",
        "        df['Meal'][i+3]=0\n",
        "        continue\n",
        "    if isNaN(df['Glucose'][i+4]):\n",
        "        df['Meal'][i+4]=0\n",
        "        continue"
      ],
      "execution_count": null,
      "outputs": []
    },
    {
      "cell_type": "code",
      "metadata": {
        "id": "JfTRzjbR2mbA"
      },
      "source": [
        "import math\n",
        "math.isnan(df['Glucose'][14])"
      ],
      "execution_count": null,
      "outputs": []
    },
    {
      "cell_type": "code",
      "metadata": {
        "id": "8EUyAvXy2mbA"
      },
      "source": [
        "insulin_list"
      ],
      "execution_count": null,
      "outputs": []
    },
    {
      "cell_type": "code",
      "metadata": {
        "id": "xc_2X3K_2mbB"
      },
      "source": [
        "SetList1 = set(insulin_list)\n",
        "SetList2 = set(meal_list)\n",
        "\n",
        "C = list((SetList2.difference(SetList1)))\n",
        "\n",
        "insulin_list.extend(C)"
      ],
      "execution_count": null,
      "outputs": []
    },
    {
      "cell_type": "code",
      "metadata": {
        "id": "ldCu6o5s2mbB"
      },
      "source": [
        "insulin_list"
      ],
      "execution_count": null,
      "outputs": []
    },
    {
      "cell_type": "code",
      "metadata": {
        "id": "fmLzEHs22mbB"
      },
      "source": [
        "df=df.drop(insulin_list)"
      ],
      "execution_count": null,
      "outputs": []
    },
    {
      "cell_type": "code",
      "metadata": {
        "id": "2GN-M24T2mbB"
      },
      "source": [
        "df[225:235]"
      ],
      "execution_count": null,
      "outputs": []
    },
    {
      "cell_type": "code",
      "metadata": {
        "id": "zncMsCxQ2mbB"
      },
      "source": [
        ""
      ],
      "execution_count": null,
      "outputs": []
    },
    {
      "cell_type": "code",
      "metadata": {
        "id": "vZ3N5r8i2mbB"
      },
      "source": [
        "df.isnull().sum()"
      ],
      "execution_count": null,
      "outputs": []
    },
    {
      "cell_type": "code",
      "metadata": {
        "id": "D69qBNiu2mbB"
      },
      "source": [
        "df['Event'].value_counts()"
      ],
      "execution_count": null,
      "outputs": []
    },
    {
      "cell_type": "markdown",
      "metadata": {
        "id": "aTwnePNO2mbC"
      },
      "source": [
        "### 높음 낮음 고정 (추후 전처리 과정에서 400,408,416,408,400 이런 식으로 선형으로 변환해줄 것)"
      ]
    },
    {
      "cell_type": "code",
      "metadata": {
        "id": "yI9SzqPf2mbC"
      },
      "source": [
        "def fix_glucose(df,col):\n",
        "    for i, row in df.iterrows():\n",
        "        val = row[col]\n",
        "        if val=='높음':\n",
        "            df.loc[i,col] = 400"
      ],
      "execution_count": null,
      "outputs": []
    },
    {
      "cell_type": "code",
      "metadata": {
        "id": "zQMZimi52mbC"
      },
      "source": [
        "def fix_glucose_low(df,col):\n",
        "    for i, row in df.iterrows():\n",
        "        val = row[col]\n",
        "        if val=='낮음':\n",
        "            df.loc[i,col] = 60"
      ],
      "execution_count": null,
      "outputs": []
    },
    {
      "cell_type": "code",
      "metadata": {
        "id": "TGujoJEy2mbC"
      },
      "source": [
        "fix_glucose(df,'Glucose')"
      ],
      "execution_count": null,
      "outputs": []
    },
    {
      "cell_type": "code",
      "metadata": {
        "id": "1DoPgEco2mbC"
      },
      "source": [
        "fix_glucose_low(df,'Glucose')"
      ],
      "execution_count": null,
      "outputs": []
    },
    {
      "cell_type": "code",
      "metadata": {
        "id": "RbVFgaXN2mbC"
      },
      "source": [
        "df['Glucose'].value_counts()"
      ],
      "execution_count": null,
      "outputs": []
    },
    {
      "cell_type": "code",
      "metadata": {
        "id": "RMmwy2z92mbC"
      },
      "source": [
        "df=df.dropna(subset=['Glucose'])"
      ],
      "execution_count": null,
      "outputs": []
    },
    {
      "cell_type": "code",
      "metadata": {
        "id": "bIHWuxoy2mbC"
      },
      "source": [
        "df.isnull().sum()"
      ],
      "execution_count": null,
      "outputs": []
    },
    {
      "cell_type": "code",
      "metadata": {
        "id": "y9T1pBEf2mbD"
      },
      "source": [
        "df['Event'].unique()"
      ],
      "execution_count": null,
      "outputs": []
    },
    {
      "cell_type": "code",
      "metadata": {
        "id": "LLfgbp5-2mbD"
      },
      "source": [
        "# drop한 인스턴스가 있어서 인덱스 리셋\n",
        "df=df.sort_values(by=['Timestamp'],axis=0,ascending=True)\n",
        "df=df.reset_index(drop=True)"
      ],
      "execution_count": null,
      "outputs": []
    },
    {
      "cell_type": "code",
      "metadata": {
        "id": "rIWrIBx12mbD"
      },
      "source": [
        "new_insul_list =[]\n",
        "new_meal_list =[]\n",
        "new_insul_and_meal_list=[]\n",
        "\n",
        "for i in range(len(df)):\n",
        "    if (df['Insulin'][i] ==0 and df['Meal'][i]==0):\n",
        "        new_insul_and_meal_list.append(i)\n",
        "    if (df['Insulin'][i]==0 and df['Meal'][i]!=0):\n",
        "        new_insul_list.append(i)\n",
        "    if (df['Insulin'][i]!=0 and df['Meal'][i]==0):\n",
        "        new_meal_list.append(i)"
      ],
      "execution_count": null,
      "outputs": []
    },
    {
      "cell_type": "code",
      "metadata": {
        "id": "rDBYFk4f2mbD"
      },
      "source": [
        "new_meal_list"
      ],
      "execution_count": null,
      "outputs": []
    },
    {
      "cell_type": "code",
      "metadata": {
        "id": "xkP0Ofuo2mbD"
      },
      "source": [
        ""
      ],
      "execution_count": null,
      "outputs": []
    },
    {
      "cell_type": "code",
      "metadata": {
        "id": "SaLnM9NC2mbD"
      },
      "source": [
        "df.plot(figsize=(15,6))\n",
        "plt.show()"
      ],
      "execution_count": null,
      "outputs": []
    },
    {
      "cell_type": "code",
      "metadata": {
        "id": "mssMNumq2mbD"
      },
      "source": [
        "df.plot(figsize=(15,6))\n",
        "plt.axhline(y=70,c='r',linestyle='--',linewidth=1)\n",
        "plt.axhline(y=180,c='r',linestyle='--',linewidth=1)\n",
        "plt.axhline(y=400,c='r',linestyle='--',linewidth=1)\n",
        "#plt.annotate(df['Timestamp'][13],xy=(-50,40),xytext=(-50,0),fontsize=20,bbox=dict(boxstyle='square',\n",
        "#                                                               color='white'),arrowprops=dict(facecolor='black'))\n",
        "#plt.annotate(df['Timestamp'][len(df['Timestamp'])],xytext=(-,0),fontsize=20,bbox=dict(boxstyle='square',\n",
        " #                                                              color='white'))\n",
        "plt.text(len(df['Timestamp']),185,'Hyperglycemic Threshold',family='Times New Roman',size=15)\n",
        "plt.text(len(df['Timestamp']),75,'Hypoglycemic Threshold',family='Times New Roman',size=15)\n",
        "plt.text(len(df['Timestamp']),405,'Too High ( Glucose value 400 + )',family='Times New Roman',size=15)\n",
        "\n",
        "#y=70\n",
        "#plt.plot(y,'b--',linestyles='--'),\n",
        "#plt.hlines(70,linestyles='--')\n",
        "plt.show()"
      ],
      "execution_count": null,
      "outputs": []
    },
    {
      "cell_type": "code",
      "metadata": {
        "id": "yM4A610O2mbE"
      },
      "source": [
        "#df.drop(0,inplace=True)"
      ],
      "execution_count": null,
      "outputs": []
    },
    {
      "cell_type": "code",
      "metadata": {
        "id": "za2cCPfA2mbE"
      },
      "source": [
        "# drop한 인스턴스가 있어서 인덱스 리셋\n",
        "#df=df.sort_values(by=['Timestamp'],axis=0,ascending=True)\n",
        "#df=df.reset_index(drop=True)\n",
        "#df.head(21)"
      ],
      "execution_count": null,
      "outputs": []
    },
    {
      "cell_type": "code",
      "metadata": {
        "id": "Zo_izCdo2mbE"
      },
      "source": [
        "# 인슐린, 탄수화물 투여시 혈당값 NULL\n",
        "# 그래서 t시점에 t-2 , t-1 크기비교해서 upper면 이렇게 lower면 이렇게 해서 interpolation ( 보간)\n",
        "# 이거 위에 참고사항 drop하고 나서 적용 해줘야됨\n",
        "#insul=list()\n",
        "#import math\n",
        "#def interpolate_glucose(df,col):\n",
        "#    #insul=list()\n",
        "    \n",
        "#    for i, row in df.iterrows():\n",
        "#        val=row[col]\n",
        "#        if math.isnan(val):\n",
        "#            if df['Glucose'][i-2] >= df['Glucose'][i-1]:\n",
        "#                c = (df['Glucose'][i-2] - df['Glucose'][i-1]) / 2 \n",
        "#                df.loc[i,col]= df['Glucose'][i-1] - c\n",
        "#                insul.append(i)\n",
        "#                print(insul)\n",
        "                \n",
        "#            if df['Glucose'][i-2] < df['Glucose'][i-1]:\n",
        "#                c = (df['Glucose'][i-2] - df['Glucose'][i-1]) / 2 \n",
        "#                df.loc[i,col]= df['Glucose'][i-1] - c\n",
        "#                insul.append(i)\n",
        "#                print(insul)\n",
        "        \n",
        "           "
      ],
      "execution_count": null,
      "outputs": []
    },
    {
      "cell_type": "code",
      "metadata": {
        "id": "QO2D_aPe2mbE"
      },
      "source": [
        "# 인슐린 탄수화물 인덱스 문제 해결 파트 \n",
        "#insul=list()\n",
        "#meal=list()\n",
        "#import math\n",
        "#def interpolate_glucose(df,col):\n",
        "    #insul=list()\n",
        "    \n",
        "#    for i, row in df.iterrows():\n",
        "#        val=row[col]\n",
        "        #df=df.sort_values(by=['Timestamp'],axis=0,ascending=True)\n",
        "        #df=df.reset_index(drop=True)\n",
        "#        if math.isnan(val):\n",
        " #           if df['Event'][i]=='인슐린':\n",
        "  #              if df['Glucose'][i-1] is None:\n",
        "   #                 insul.append(i-2)\n",
        "                    \n",
        "                    \n",
        "    #            else:\n",
        "     #               insul.append(i-1)\n",
        "                    \n",
        "      #      if df['Event'][i]=='탄수화물':\n",
        "       #         if df['Glucose'][i-1] is None:\n",
        "        #            meal.append(i-2)\n",
        "                    \n",
        "         #       else:\n",
        "          #          meal.append(i-1)\n",
        "                    "
      ],
      "execution_count": null,
      "outputs": []
    },
    {
      "cell_type": "code",
      "metadata": {
        "id": "RpCsNgVM2mbF"
      },
      "source": [
        "#interpolate_glucose(df,'Glucose')"
      ],
      "execution_count": null,
      "outputs": []
    },
    {
      "cell_type": "code",
      "metadata": {
        "id": "WjWDI9U82mbF"
      },
      "source": [
        "#meal"
      ],
      "execution_count": null,
      "outputs": []
    },
    {
      "cell_type": "code",
      "metadata": {
        "id": "C9gGcff72mbF"
      },
      "source": [
        "#insul"
      ],
      "execution_count": null,
      "outputs": []
    },
    {
      "cell_type": "code",
      "metadata": {
        "id": "HwK1pYVK2mbF"
      },
      "source": [
        "df[225:235]"
      ],
      "execution_count": null,
      "outputs": []
    },
    {
      "cell_type": "code",
      "metadata": {
        "id": "PcajNCAu2mbF"
      },
      "source": [
        "insul_glucose_value=list()\n",
        "for i in new_insul_list:\n",
        "    insul_glucose_value.append(df['Glucose'][i])"
      ],
      "execution_count": null,
      "outputs": []
    },
    {
      "cell_type": "code",
      "metadata": {
        "id": "sKEBNvm52mbF"
      },
      "source": [
        "meal_glucose_value=list()\n",
        "for i in new_meal_list:\n",
        "    meal_glucose_value.append(df['Glucose'][i])"
      ],
      "execution_count": null,
      "outputs": []
    },
    {
      "cell_type": "code",
      "metadata": {
        "id": "wZhz27u32mbG"
      },
      "source": [
        "insul_and_meal_glucose_value = list()\n",
        "for i in new_insul_and_meal_list:\n",
        "    insul_and_meal_glucose_value.append(df['Glucose'][i])"
      ],
      "execution_count": null,
      "outputs": []
    },
    {
      "cell_type": "code",
      "metadata": {
        "id": "p7UYRgQ-2mbG"
      },
      "source": [
        "#len = len(df['Timestamp'])\n",
        "#plt.text(-100,-1,df['Timestamp'][0],family='Times New Roman',fontweight='bold',size=17)"
      ],
      "execution_count": null,
      "outputs": []
    },
    {
      "cell_type": "code",
      "metadata": {
        "id": "4xWn04Eh2mbG"
      },
      "source": [
        "for i in range(len(df)):\n",
        "    if isNaN(df['Insulin'][i]):\n",
        "        df['Insulin'][i]=1\n",
        "    else:\n",
        "        df['Insulin'][i]=0\n",
        "        \n",
        "     "
      ],
      "execution_count": null,
      "outputs": []
    },
    {
      "cell_type": "code",
      "metadata": {
        "id": "nP1-r50O2mbH"
      },
      "source": [
        "for i in range(len(df)):\n",
        "    if isNaN(df['Meal'][i]):\n",
        "        df['Meal'][i]=1\n",
        "    else:\n",
        "        df['Meal'][i]=0\n",
        "        "
      ],
      "execution_count": null,
      "outputs": []
    },
    {
      "cell_type": "code",
      "metadata": {
        "id": "iU9Bgkk12mbH"
      },
      "source": [
        "df[500:510]"
      ],
      "execution_count": null,
      "outputs": []
    },
    {
      "cell_type": "code",
      "metadata": {
        "id": "XFbNr18r2mbG"
      },
      "source": [
        "import matplotlib.patches as mpatches\n",
        "import matplotlib.lines as mlines\n",
        "\n",
        "df.plot(figsize=(15,6),color='gray',alpha=0.5)\n",
        "plt.axhline(y=70,c='r',linestyle='--',linewidth=1)\n",
        "plt.axhline(y=180,c='r',linestyle='--',linewidth=1)\n",
        "plt.axhline(y=400,c='r',linestyle='--',linewidth=1)\n",
        "#plt.axhline(y=60,c='black',linestyle='--',linewidth=1)\n",
        "plt.text(len(df['Timestamp']),185,'Hyperglycemic Threshold',family='Times New Roman',size=15)\n",
        "plt.text(len(df['Timestamp']),75,'Hypoglycemic Threshold',family='Times New Roman',size=15)\n",
        "\n",
        "plt.scatter(new_insul_list,insul_glucose_value,edgecolor='black',s=50,label='Insulin',marker='o',c='red')\n",
        "plt.scatter(new_meal_list,meal_glucose_value,edgecolor='black',s=50,label='Carbohydrate',marker='o',c='green')\n",
        "plt.scatter(new_insul_and_meal_list,insul_and_meal_glucose_value,edgecolor='black',s=50,label='Insulin + Carbohydrate',marker='o',c='blue')\n",
        "\n",
        "red_patch = mpatches.Patch(color='red',label='Insulin')\n",
        "\n",
        "red_line = mlines.Line2D([],[],color='red',marker='o',markersize=15,label='Insulin')\n",
        "green_line = mlines.Line2D([],[],color='green',marker='o',markersize=15,label='Carbohydrate')\n",
        "blue_line = mlines.Line2D([],[],color='blue',marker='o',markersize=15,label='Insulin + Carbohydrate')\n",
        "plt.text(len(df['Timestamp']),405,'Too High ( Glucose value 400 + )',family='Times New Roman',size=15)\n",
        "plt.text(len(df['Timestamp']),60,'',family='Times New Roman',size=15)\n",
        "#plt.text(len(df['Timestamp']),-1,df['Timestamp'][len(df['Timestamp'])],family='Times New Roman',\n",
        "#         fontweight='bold',size=20)\n",
        "plt.text(-100,-1,df['Timestamp'][0],family='Times New Roman',fontweight='bold',size=17)\n",
        "plt.text(len(df['Timestamp']),-1,df['Timestamp'][len(df['Timestamp'])-1],family='Times New Roman',fontweight='bold',size=17)\n",
        "plt.legend(['Insulin','Carbohydrate','Insulin + Carbohydrate'],loc='best',fontsize='x-small',handles=[red_line,green_line,blue_line])\n",
        "#plt.text(-100,-1,df['Timestamp'][14],family='Times New Roman',\n",
        "\n",
        "#         fontweight='bold',size=20)\n",
        "\n",
        "#y=70\n",
        "#plt.plot(y,'b--',linestyles='--'),\n",
        "#plt.hlines(70,linestyles='--')\n",
        "plt.show()"
      ],
      "execution_count": null,
      "outputs": []
    },
    {
      "cell_type": "code",
      "metadata": {
        "id": "gokiu1v1kEDo"
      },
      "source": [
        "print(\"Attached day : %.1f\" %(len(df)/288) )"
      ],
      "execution_count": null,
      "outputs": []
    },
    {
      "cell_type": "code",
      "metadata": {
        "id": "Zhh7FCz9kAvP"
      },
      "source": [
        "df['Meal'].value_counts()"
      ],
      "execution_count": null,
      "outputs": []
    },
    {
      "cell_type": "code",
      "metadata": {
        "id": "qmI_6ykyj66s"
      },
      "source": [
        "print(df['Insulin'].value_counts())"
      ],
      "execution_count": null,
      "outputs": []
    },
    {
      "cell_type": "markdown",
      "metadata": {
        "id": "BwlvfVTt2mbH"
      },
      "source": [
        "## 이제 여기부터 DL 모델 돌려볼 것 \n",
        "+ 일단 모델부터 간단하게 돌려보고 성능 측정\n",
        "+ 그리고 전처리 해가면서 성능 비교"
      ]
    },
    {
      "cell_type": "code",
      "metadata": {
        "id": "lFWtN9Mh2mbH"
      },
      "source": [
        "import numpy as np\n",
        "import tensorflow as tf\n",
        "import random as rn"
      ],
      "execution_count": null,
      "outputs": []
    },
    {
      "cell_type": "code",
      "metadata": {
        "id": "DPjznwGV2mbH"
      },
      "source": [
        "# 재현 가능한 결과를 만들기 위해 시드값 설정 \n",
        "import os \n",
        "import random\n",
        "seed_num = 42\n",
        "os.environ['PYTHONHASHSEED']=str(seed_num)\n",
        "\n",
        "random.seed(seed_num)\n",
        "np.random.seed(seed_num)\n",
        "tf.random.set_seed(seed_num)"
      ],
      "execution_count": null,
      "outputs": []
    },
    {
      "cell_type": "code",
      "metadata": {
        "id": "4NW8eOlz2mbH"
      },
      "source": [
        "from tensorflow.compat.v1.keras import backend as K\n",
        "\n",
        "session_conf = tf.compat.v1.ConfigProto(intra_op_parallelism_threads=1,\n",
        "                             inter_op_parallelism_threads=1)\n",
        "sess=tf.compat.v1.Session(graph=tf.compat.v1.get_default_graph(),config=session_conf)\n",
        "K.set_session(sess)"
      ],
      "execution_count": null,
      "outputs": []
    },
    {
      "cell_type": "code",
      "metadata": {
        "id": "TRk4LVsg2mbH"
      },
      "source": [
        "#from keras import backend as K\n",
        "#session_conf = tf.compat.v1.ConfigProto(intra_op_parallelism_threads=1, inter_op_parallelism_threads=1)\n",
        "#sess = tf.compat.v1.Session(graph=tf.compat.v1.get_default_graph(), config=session_conf)\n",
        "#tf.compat.v1.keras.backend.set_session(sess)\n"
      ],
      "execution_count": null,
      "outputs": []
    },
    {
      "cell_type": "code",
      "metadata": {
        "id": "wmbPiFRo2mbI"
      },
      "source": [
        "from sklearn.metrics import mean_squared_error\n",
        "def RMSE(y_test,y_predict):\n",
        "    return np.sqrt(mean_squared_error(y_test,y_predict))"
      ],
      "execution_count": null,
      "outputs": []
    },
    {
      "cell_type": "code",
      "metadata": {
        "id": "1JEhERWU2mbI"
      },
      "source": [
        "from numpy import array\n",
        "from numpy import hstack\n",
        "in_seq1=df['Glucose'].to_numpy()\n",
        "in_seq2 =df['Meal'].to_numpy()\n",
        "in_seq3 =df['Insulin'].to_numpy()\n",
        "out_seq = array([in_seq1[i]+in_seq2[i]+in_seq3[i] for i in range(len(in_seq1))])"
      ],
      "execution_count": null,
      "outputs": []
    },
    {
      "cell_type": "code",
      "metadata": {
        "id": "3FwgaW7N2mbI"
      },
      "source": [
        "in_seq1 = in_seq1.reshape((len(in_seq1), 1))\n",
        "in_seq2 = in_seq2.reshape((len(in_seq2), 1))\n",
        "in_seq3 = in_seq3.reshape((len(in_seq3), 1))\n",
        "out_seq = out_seq.reshape((len(out_seq), 1))"
      ],
      "execution_count": null,
      "outputs": []
    },
    {
      "cell_type": "code",
      "metadata": {
        "id": "xlwtrBkH2mbI"
      },
      "source": [
        "dataset = hstack((in_seq1,in_seq2,in_seq3))"
      ],
      "execution_count": null,
      "outputs": []
    },
    {
      "cell_type": "code",
      "metadata": {
        "id": "YvE11xyl2mbI"
      },
      "source": [
        "dataset = np.asarray(dataset).astype(np.float32)"
      ],
      "execution_count": null,
      "outputs": []
    },
    {
      "cell_type": "code",
      "metadata": {
        "id": "1WOdbzzADOmS"
      },
      "source": [
        ""
      ],
      "execution_count": null,
      "outputs": []
    },
    {
      "cell_type": "markdown",
      "metadata": {
        "id": "ceMJ2Egu2mbI"
      },
      "source": [
        "## 15분"
      ]
    },
    {
      "cell_type": "code",
      "metadata": {
        "id": "QbrwL5NA2mbI"
      },
      "source": [
        "def multi_data(dataset,target,start_index,end_index, history_size, target_size, step, single_step=False):\n",
        "    data=[]\n",
        "    labels=[]\n",
        "    \n",
        "    start_index= start_index+history_size\n",
        "    if end_index is None:\n",
        "    #if end_index > len(dataset)-1:\n",
        "        end_index = len(dataset)-target_size\n",
        "        \n",
        "    for i in range(start_index,end_index):\n",
        "        indices = range(i-history_size,i, step)\n",
        "        \n",
        "        data.append(dataset[indices])\n",
        "        if single_step:\n",
        "            labels.append(target[i+target_size])\n",
        "        else:\n",
        "            labels.append(target[i:i+target_size])\n",
        "        #data.append(np.reshape(dataset[indices],(history_size)))\n",
        "        #labels.append(dataset[i+target_size])\n",
        "    return np.array(data),np.array(labels)"
      ],
      "execution_count": null,
      "outputs": []
    },
    {
      "cell_type": "code",
      "metadata": {
        "id": "q9I1In6z2mbI"
      },
      "source": [
        "raw_seq = in_seq1\n",
        "#raw_seq=raw_seq.to_numpy(dtype='int64')"
      ],
      "execution_count": null,
      "outputs": []
    },
    {
      "cell_type": "code",
      "metadata": {
        "id": "GBuLR9Tz2mbL"
      },
      "source": [
        "TRAIN_SPLIT=int(len(raw_seq)*0.7)\n",
        "multi_past_history = 6\n",
        "multi_future_target = 2\n",
        "STEP=1\n",
        "x_train_single, y_train_single = multi_data(dataset,dataset[:,0],0,TRAIN_SPLIT,\n",
        "                                            multi_past_history,multi_future_target,STEP,single_step=True)\n",
        "x_val_single, y_val_single = multi_data(dataset, dataset[:,0],TRAIN_SPLIT,\n",
        "                                        None,multi_past_history,multi_future_target,STEP,single_step=True)"
      ],
      "execution_count": null,
      "outputs": []
    },
    {
      "cell_type": "code",
      "metadata": {
        "id": "8L591LIc3b1I"
      },
      "source": [
        "x_train_single[:3]"
      ],
      "execution_count": null,
      "outputs": []
    },
    {
      "cell_type": "code",
      "metadata": {
        "id": "KGFmmBsj2mbL"
      },
      "source": [
        "df.head(20)"
      ],
      "execution_count": null,
      "outputs": []
    },
    {
      "cell_type": "markdown",
      "metadata": {
        "id": "nj0pouBg2mbL"
      },
      "source": [
        "### RNN - 15분"
      ]
    },
    {
      "cell_type": "code",
      "metadata": {
        "id": "OZib-WBx2mbL"
      },
      "source": [
        "from keras.models import Sequential\n",
        "from keras.layers import LSTM\n",
        "from keras.layers import Dense"
      ],
      "execution_count": null,
      "outputs": []
    },
    {
      "cell_type": "code",
      "metadata": {
        "id": "Jp1dTDQ82mbL"
      },
      "source": [
        "from keras.layers import SimpleRNN"
      ],
      "execution_count": null,
      "outputs": []
    },
    {
      "cell_type": "code",
      "metadata": {
        "id": "POuRgBRL2mbM"
      },
      "source": [
        "n_steps = 3\n",
        "#delay=3\n",
        "n_features=1"
      ],
      "execution_count": null,
      "outputs": []
    },
    {
      "cell_type": "code",
      "metadata": {
        "id": "baGieT6d2mbM"
      },
      "source": [
        "# 재현 가능한 결과를 만들기 위해 \n",
        "# 매번 반복해야 하는 작업 \n",
        "seed_num = 42\n",
        "random.seed(seed_num)\n",
        "np.random.seed(seed_num)\n",
        "tf.random.set_seed(seed_num)\n",
        "\n",
        "session_conf = tf.compat.v1.ConfigProto(intra_op_parallelism_threads=1,\n",
        "                             inter_op_parallelism_threads=1)\n",
        "sess=tf.compat.v1.Session(graph=tf.compat.v1.get_default_graph(),config=session_conf)\n"
      ],
      "execution_count": null,
      "outputs": []
    },
    {
      "cell_type": "code",
      "metadata": {
        "id": "4A6TLmUs2mbM"
      },
      "source": [
        "x_train_single.shape[-2:]"
      ],
      "execution_count": null,
      "outputs": []
    },
    {
      "cell_type": "code",
      "metadata": {
        "id": "jpyPcZsI2mbM"
      },
      "source": [
        "K.set_session(sess)"
      ],
      "execution_count": null,
      "outputs": []
    },
    {
      "cell_type": "code",
      "metadata": {
        "id": "bYEAfJEY2mbM"
      },
      "source": [
        "model = Sequential()\n",
        "#model.add(SimpleRNN(50,activation='relu',input_shape=x_train_single.shape[-2:],return_sequences=False))\n",
        "model.add(SimpleRNN(50,activation='relu',input_shape=x_train_single.shape[-2:],return_sequences=False))\n",
        "model.add(Dense(1))"
      ],
      "execution_count": null,
      "outputs": []
    },
    {
      "cell_type": "code",
      "metadata": {
        "id": "ln54nD4Y2mbM"
      },
      "source": [
        "model.compile(optimizer='adam',loss='mse')"
      ],
      "execution_count": null,
      "outputs": []
    },
    {
      "cell_type": "code",
      "metadata": {
        "id": "tK6bp9c72mbM"
      },
      "source": [
        "model.fit(x_train_single,y_train_single,epochs=300,verbose=0)"
      ],
      "execution_count": null,
      "outputs": []
    },
    {
      "cell_type": "code",
      "metadata": {
        "id": "SXB9kzUa2mbN"
      },
      "source": [
        "K.clear_session()"
      ],
      "execution_count": null,
      "outputs": []
    },
    {
      "cell_type": "code",
      "metadata": {
        "id": "bjiPnwHd2mbN"
      },
      "source": [
        "predict_result = model.predict(x_val_single,verbose=0)\n",
        "val_rnn_15_predict_result = model.predict(x_val_single,verbose=0)"
      ],
      "execution_count": null,
      "outputs": []
    },
    {
      "cell_type": "code",
      "metadata": {
        "id": "U_7o6o4z2mbN"
      },
      "source": [
        "# 예측값 상한선 = 400 \n",
        "for i in range(len(val_rnn_15_predict_result)):\n",
        "    if val_rnn_15_predict_result[i] >= 400: \n",
        "        val_rnn_15_predict_result[i]=400"
      ],
      "execution_count": null,
      "outputs": []
    },
    {
      "cell_type": "code",
      "metadata": {
        "id": "V0238T6G2mbN"
      },
      "source": [
        "# Val set RMSE \n",
        "print(' Vanila RNN (Simple RNN) - RMSE (15min) : ',RMSE(y_val_single,val_rnn_15_predict_result))\n",
        "val_rnn_15 = RMSE(y_val_single,val_rnn_15_predict_result)\n"
      ],
      "execution_count": null,
      "outputs": []
    },
    {
      "cell_type": "markdown",
      "metadata": {
        "id": "DUc509GD2mbN"
      },
      "source": [
        "#### Validation"
      ]
    },
    {
      "cell_type": "code",
      "metadata": {
        "id": "juNNPg2Z2mbO"
      },
      "source": [
        "plt.figure(figsize=(12,9))\n",
        "plt.plot(y_val_single,label='actual')\n",
        "plt.plot(val_rnn_15_predict_result,label='prediction')\n",
        "plt.axhline(y=70,c='r',linestyle='--',linewidth=1)\n",
        "plt.axhline(y=180,c='r',linestyle='--',linewidth=1)\n",
        "plt.axhline(y=400,c='r',linestyle='--',linewidth=1)\n",
        "plt.text(len(val_rnn_15_predict_result),185,'Hyperglycemic Threshold',family='Times New Roman',size=15)\n",
        "plt.text(len(val_rnn_15_predict_result),75,'Hypoglycemic Threshold',family='Times New Roman',size=15)\n",
        "plt.text(len(val_rnn_15_predict_result),405,'Too High ( Glucose value 400 + )',family='Times New Roman',size=15)\n",
        "\n",
        "plt.title('Vanila RNN (Included Hypoglycemic threshold)',family='Times New Roman')\n",
        "plt.legend()\n",
        "plt.show()"
      ],
      "execution_count": null,
      "outputs": []
    },
    {
      "cell_type": "markdown",
      "metadata": {
        "id": "rwO0NdC_2mbQ"
      },
      "source": [
        "#### Train"
      ]
    },
    {
      "cell_type": "markdown",
      "metadata": {
        "id": "HkDJTg2D2mbQ"
      },
      "source": [
        "### LSTM - 15분"
      ]
    },
    {
      "cell_type": "code",
      "metadata": {
        "id": "wJAT3Ypl2mbQ"
      },
      "source": [
        "# 재현 가능한 결과를 만들기 위해 \n",
        "# 매번 반복해야 하는 작업 \n",
        "seed_num = 42\n",
        "random.seed(seed_num)\n",
        "np.random.seed(seed_num)\n",
        "tf.random.set_seed(seed_num)\n",
        "\n",
        "session_conf = tf.compat.v1.ConfigProto(intra_op_parallelism_threads=1,\n",
        "                             inter_op_parallelism_threads=1)\n",
        "sess=tf.compat.v1.Session(graph=tf.compat.v1.get_default_graph(),config=session_conf)\n",
        "K.set_session(sess)"
      ],
      "execution_count": null,
      "outputs": []
    },
    {
      "cell_type": "code",
      "metadata": {
        "id": "Z_GYwhg22mbQ"
      },
      "source": [
        "model = Sequential()\n",
        "model.add(LSTM(50,activation='relu',input_shape=x_train_single.shape[-2:]))\n",
        "model.add(Dense(1))\n"
      ],
      "execution_count": null,
      "outputs": []
    },
    {
      "cell_type": "code",
      "metadata": {
        "id": "idcFisRo2mbQ"
      },
      "source": [
        "model.compile(optimizer='adam',loss='mse')"
      ],
      "execution_count": null,
      "outputs": []
    },
    {
      "cell_type": "code",
      "metadata": {
        "id": "0Jk9uEO12mbR"
      },
      "source": [
        "model.fit(x_train_single,y_train_single,epochs=300,verbose=0)"
      ],
      "execution_count": null,
      "outputs": []
    },
    {
      "cell_type": "code",
      "metadata": {
        "id": "K8GKz36_2mbR"
      },
      "source": [
        "K.clear_session()"
      ],
      "execution_count": null,
      "outputs": []
    },
    {
      "cell_type": "code",
      "metadata": {
        "id": "n17Iqmpa2mbR"
      },
      "source": [
        "\n",
        "val_lstm_15_predict_result = model.predict(x_val_single,verbose=0)"
      ],
      "execution_count": null,
      "outputs": []
    },
    {
      "cell_type": "code",
      "metadata": {
        "id": "wmJRa6Tv2mbR"
      },
      "source": [
        "# 예측값 상한선 = 400 \n",
        "for i in range(len(val_lstm_15_predict_result)):\n",
        "    if val_lstm_15_predict_result[i] >= 400: \n",
        "        val_lstm_15_predict_result[i]=400"
      ],
      "execution_count": null,
      "outputs": []
    },
    {
      "cell_type": "code",
      "metadata": {
        "id": "E2kHG6wC2mbR"
      },
      "source": [
        "#predict_result"
      ],
      "execution_count": null,
      "outputs": []
    },
    {
      "cell_type": "code",
      "metadata": {
        "id": "VD08ELSH2mbR"
      },
      "source": [
        "print(' LSTM - RMSE (15min) : ',RMSE(y_val_single,val_lstm_15_predict_result))\n",
        "val_lstm_15=RMSE(y_val_single,val_lstm_15_predict_result)"
      ],
      "execution_count": null,
      "outputs": []
    },
    {
      "cell_type": "code",
      "metadata": {
        "id": "kIP0nu_t2mbR"
      },
      "source": [
        "TRAIN_SPLIT"
      ],
      "execution_count": null,
      "outputs": []
    },
    {
      "cell_type": "markdown",
      "metadata": {
        "id": "nTC6QDK72mbS"
      },
      "source": [
        "#### Validation"
      ]
    },
    {
      "cell_type": "code",
      "metadata": {
        "id": "7Arcshw62mbS"
      },
      "source": [
        "# 테스트셋\n",
        "plt.figure(figsize=(12,9))\n",
        "plt.plot(y_val_single,label='actual')\n",
        "plt.plot(val_lstm_15_predict_result,label='prediction')\n",
        "plt.axhline(y=70,c='r',linestyle='--',linewidth=1)\n",
        "plt.axhline(y=180,c='r',linestyle='--',linewidth=1)\n",
        "plt.axhline(y=400,c='r',linestyle='--',linewidth=1)\n",
        "plt.text(len(val_lstm_15_predict_result),75,'Hypoglycemic Threshold',family='Times New Roman',size=15)\n",
        "plt.text(len(val_lstm_15_predict_result),185,'Hyperglycemic Threshold',family='Times New Roman',size=15)\n",
        "#plt.text(len(predict_result),75,'Hypoglycemic Threshold',family='Times New Roman',size=15)\n",
        "plt.text(-50,-1,df['Timestamp'][TRAIN_SPLIT],family='Times New Roman',fontweight='bold',size=17)\n",
        "plt.text(len(df['Timestamp'])-TRAIN_SPLIT-10,-1,df['Timestamp'][len(df['Timestamp'])-1],family='Times New Roman',fontweight='bold',size=17)\n",
        "plt.text(len(val_lstm_15_predict_result),405,'Too High ( Glucose value 400 + )',family='Times New Roman',size=15)\n",
        "plt.title('LSTM (Without Hypoglycemic threshold)',family='Times New Roman')\n",
        "plt.legend(loc='best')\n",
        "\n",
        "plt.show()"
      ],
      "execution_count": null,
      "outputs": []
    },
    {
      "cell_type": "markdown",
      "metadata": {
        "id": "Aa0PWw4e2mbT"
      },
      "source": [
        "### Stacked LSTM - 15분"
      ]
    },
    {
      "cell_type": "code",
      "metadata": {
        "id": "9E79N5TP2mbT"
      },
      "source": [
        "# 재현 가능한 결과를 만들기 위해 \n",
        "# 매번 반복해야 하는 작업 \n",
        "seed_num = 42\n",
        "random.seed(seed_num)\n",
        "np.random.seed(seed_num)\n",
        "tf.random.set_seed(seed_num)\n",
        "\n",
        "session_conf = tf.compat.v1.ConfigProto(intra_op_parallelism_threads=1,\n",
        "                             inter_op_parallelism_threads=1)\n",
        "sess=tf.compat.v1.Session(graph=tf.compat.v1.get_default_graph(),config=session_conf)\n",
        "K.set_session(sess)"
      ],
      "execution_count": null,
      "outputs": []
    },
    {
      "cell_type": "code",
      "metadata": {
        "id": "tmFP3dT32mbT"
      },
      "source": [
        "model = Sequential()\n",
        "model.add(LSTM(50,activation='relu',return_sequences=True,input_shape=x_train_single.shape[-2:]))\n",
        "model.add(LSTM(50,activation='relu'))\n",
        "model.add(Dense(1))\n",
        "model.compile(optimizer='adam',loss='mse')"
      ],
      "execution_count": null,
      "outputs": []
    },
    {
      "cell_type": "code",
      "metadata": {
        "id": "yDZmThg62mbT"
      },
      "source": [
        "model.fit(x_train_single,y_train_single,epochs=300,verbose=0)"
      ],
      "execution_count": null,
      "outputs": []
    },
    {
      "cell_type": "code",
      "metadata": {
        "id": "wW3xNIqR2mbT"
      },
      "source": [
        "K.clear_session()"
      ],
      "execution_count": null,
      "outputs": []
    },
    {
      "cell_type": "code",
      "metadata": {
        "id": "EZSZsSaA2mbT"
      },
      "source": [
        "val_slstm_15_predict_result = model.predict(x_val_single,verbose=0)\n"
      ],
      "execution_count": null,
      "outputs": []
    },
    {
      "cell_type": "code",
      "metadata": {
        "id": "u9M5h6am2mbT"
      },
      "source": [
        "for i in range(len(val_slstm_15_predict_result)):\n",
        "    if val_slstm_15_predict_result[i] >= 400: \n",
        "        val_slstm_15_predict_result[i]=400"
      ],
      "execution_count": null,
      "outputs": []
    },
    {
      "cell_type": "code",
      "metadata": {
        "id": "c-2XtZfe2mbT"
      },
      "source": [
        "print(' Stacked LSTM - RMSE(15min) : ',RMSE(y_val_single,val_slstm_15_predict_result))\n",
        "val_stacklstm_15 =RMSE(y_val_single,val_slstm_15_predict_result)"
      ],
      "execution_count": null,
      "outputs": []
    },
    {
      "cell_type": "markdown",
      "metadata": {
        "id": "6vc0F_fm2mbU"
      },
      "source": [
        "#### Validation"
      ]
    },
    {
      "cell_type": "code",
      "metadata": {
        "id": "3-rhuN7m2mbU"
      },
      "source": [
        "# 테스트셋\n",
        "plt.figure(figsize=(12,9))\n",
        "plt.plot(y_val_single,label='actual')\n",
        "plt.plot(val_slstm_15_predict_result,label='prediction')\n",
        "plt.axhline(y=70,c='r',linestyle='--',linewidth=1)\n",
        "plt.axhline(y=180,c='r',linestyle='--',linewidth=1)\n",
        "plt.axhline(y=400,c='r',linestyle='--',linewidth=1)\n",
        "plt.text(len(val_slstm_15_predict_result),75,'Hypoglycemic Threshold',family='Times New Roman',size=15)\n",
        "plt.text(len(val_slstm_15_predict_result),185,'Hyperglycemic Threshold',family='Times New Roman',size=15)\n",
        "#plt.text(len(predict_result),75,'Hypoglycemic Threshold',family='Times New Roman',size=15)\n",
        "plt.text(-50,-1,df['Timestamp'][TRAIN_SPLIT],family='Times New Roman',fontweight='bold',size=17)\n",
        "plt.text(len(df['Timestamp'])-TRAIN_SPLIT-10,-1,df['Timestamp'][len(df['Timestamp'])-1],family='Times New Roman',fontweight='bold',size=17)\n",
        "plt.text(len(val_slstm_15_predict_result),405,'Too High ( Glucose value 400 + )',family='Times New Roman',size=15)\n",
        "plt.title('Stacked LSTM - Validation set',family='Times New Roman')\n",
        "plt.legend(loc='best')\n",
        "\n",
        "plt.show()"
      ],
      "execution_count": null,
      "outputs": []
    },
    {
      "cell_type": "markdown",
      "metadata": {
        "id": "sla0HsHt2mbV"
      },
      "source": [
        "### Bidirectional LSTM - 15분"
      ]
    },
    {
      "cell_type": "code",
      "metadata": {
        "id": "g0eDIbet2mbV"
      },
      "source": [
        "# 재현 가능한 결과를 만들기 위해 \n",
        "# 매번 반복해야 하는 작업 \n",
        "seed_num = 42\n",
        "random.seed(seed_num)\n",
        "np.random.seed(seed_num)\n",
        "tf.random.set_seed(seed_num)\n",
        "\n",
        "session_conf = tf.compat.v1.ConfigProto(intra_op_parallelism_threads=1,\n",
        "                             inter_op_parallelism_threads=1)\n",
        "sess=tf.compat.v1.Session(graph=tf.compat.v1.get_default_graph(),config=session_conf)\n",
        "K.set_session(sess)"
      ],
      "execution_count": null,
      "outputs": []
    },
    {
      "cell_type": "code",
      "metadata": {
        "id": "TaEgvqsG2mbV"
      },
      "source": [
        "from keras.layers import Bidirectional\n",
        "model = Sequential()\n",
        "model.add(Bidirectional(LSTM(50,activation='relu'),input_shape=x_train_single.shape[-2:]))\n",
        "model.add(Dense(1))\n",
        "model.compile(optimizer='adam',loss='mse',metrics=['accuracy'])"
      ],
      "execution_count": null,
      "outputs": []
    },
    {
      "cell_type": "code",
      "metadata": {
        "id": "zKuuN5QD2mbV"
      },
      "source": [
        "model.fit(x_train_single,y_train_single,epochs=300,verbose=0)"
      ],
      "execution_count": null,
      "outputs": []
    },
    {
      "cell_type": "code",
      "metadata": {
        "id": "4uNyLhFl2mbV"
      },
      "source": [
        "K.clear_session()"
      ],
      "execution_count": null,
      "outputs": []
    },
    {
      "cell_type": "code",
      "metadata": {
        "id": "fg_Uqh4j2mbV"
      },
      "source": [
        "val_bilstm_15_predict_result = model.predict(x_val_single,verbose=0)"
      ],
      "execution_count": null,
      "outputs": []
    },
    {
      "cell_type": "code",
      "metadata": {
        "id": "FbuVlZ-u2mbW"
      },
      "source": [
        "for i in range(len(val_bilstm_15_predict_result)):\n",
        "    if val_bilstm_15_predict_result[i] >= 400: \n",
        "        val_bilstm_15_predict_result[i]=400"
      ],
      "execution_count": null,
      "outputs": []
    },
    {
      "cell_type": "code",
      "metadata": {
        "id": "xHkZeTxW2mbW"
      },
      "source": [
        "print('Bidirectional LSTM - RMSE : ',RMSE(y_val_single,val_bilstm_15_predict_result))\n",
        "val_bilstm_15 = RMSE(y_val_single,val_bilstm_15_predict_result)"
      ],
      "execution_count": null,
      "outputs": []
    },
    {
      "cell_type": "markdown",
      "metadata": {
        "id": "cVMYrScs2mbW"
      },
      "source": [
        "#### Validation"
      ]
    },
    {
      "cell_type": "code",
      "metadata": {
        "id": "KeFhvjfw2mbW"
      },
      "source": [
        "# 테스트셋\n",
        "plt.figure(figsize=(12,9))\n",
        "plt.plot(y_val_single,label='actual')\n",
        "plt.plot(val_bilstm_15_predict_result,label='prediction')\n",
        "plt.axhline(y=70,c='r',linestyle='--',linewidth=1)\n",
        "plt.axhline(y=180,c='r',linestyle='--',linewidth=1)\n",
        "plt.axhline(y=400,c='r',linestyle='--',linewidth=1)\n",
        "plt.text(len(val_bilstm_15_predict_result),75,'Hypoglycemic Threshold',family='Times New Roman',size=15)\n",
        "plt.text(len(val_bilstm_15_predict_result),185,'Hyperglycemic Threshold',family='Times New Roman',size=15)\n",
        "#plt.text(len(predict_result),75,'Hypoglycemic Threshold',family='Times New Roman',size=15)\n",
        "plt.text(-50,-1,df['Timestamp'][TRAIN_SPLIT],family='Times New Roman',fontweight='bold',size=17)\n",
        "plt.text(len(df['Timestamp'])-TRAIN_SPLIT-10,-1,df['Timestamp'][len(df['Timestamp'])-1],family='Times New Roman',fontweight='bold',size=17)\n",
        "plt.text(len(val_bilstm_15_predict_result),405,'Too High ( Glucose value 400 + )',family='Times New Roman',size=15)\n",
        "plt.title('Bidirectional LSTM - Validation set',family='Times New Roman')\n",
        "plt.legend(loc='best')\n",
        "\n",
        "plt.show()"
      ],
      "execution_count": null,
      "outputs": []
    },
    {
      "cell_type": "markdown",
      "metadata": {
        "id": "dwS5zg1U2mbX"
      },
      "source": [
        "### GRU - 15분"
      ]
    },
    {
      "cell_type": "code",
      "metadata": {
        "id": "kamudlAZ2mbX"
      },
      "source": [
        "# 재현 가능한 결과를 만들기 위해 \n",
        "# 매번 반복해야 하는 작업 \n",
        "seed_num = 42\n",
        "random.seed(seed_num)\n",
        "np.random.seed(seed_num)\n",
        "tf.random.set_seed(seed_num)\n",
        "\n",
        "session_conf = tf.compat.v1.ConfigProto(intra_op_parallelism_threads=1,\n",
        "                             inter_op_parallelism_threads=1)\n",
        "sess=tf.compat.v1.Session(graph=tf.compat.v1.get_default_graph(),config=session_conf)\n",
        "K.set_session(sess)"
      ],
      "execution_count": null,
      "outputs": []
    },
    {
      "cell_type": "code",
      "metadata": {
        "id": "CRwuBVRS2mbX"
      },
      "source": [
        "from keras.layers import GRU\n",
        "model = Sequential()\n",
        "model.add(GRU(50,activation='relu',input_shape=x_train_single.shape[-2:]))\n",
        "model.add(Dense(1))\n",
        "model.compile(optimizer='adam',loss='mse',metrics=['accuracy'])"
      ],
      "execution_count": null,
      "outputs": []
    },
    {
      "cell_type": "code",
      "metadata": {
        "id": "l26h9Tgc2mbX"
      },
      "source": [
        "model.summary()"
      ],
      "execution_count": null,
      "outputs": []
    },
    {
      "cell_type": "code",
      "metadata": {
        "id": "GVH1xeIi2mbX"
      },
      "source": [
        "model.fit(x_train_single,y_train_single,epochs=300,verbose=0)"
      ],
      "execution_count": null,
      "outputs": []
    },
    {
      "cell_type": "code",
      "metadata": {
        "id": "WweR1pve2mbY"
      },
      "source": [
        "K.clear_session()"
      ],
      "execution_count": null,
      "outputs": []
    },
    {
      "cell_type": "code",
      "metadata": {
        "id": "ayaqkTNU2mbY"
      },
      "source": [
        "val_gru_15_predict_result = model.predict(x_val_single,verbose=0)"
      ],
      "execution_count": null,
      "outputs": []
    },
    {
      "cell_type": "code",
      "metadata": {
        "id": "s9nTOwf02mbY"
      },
      "source": [
        "for i in range(len(val_gru_15_predict_result)):\n",
        "    if val_gru_15_predict_result[i] >= 400: \n",
        "        val_gru_15_predict_result[i]=400"
      ],
      "execution_count": null,
      "outputs": []
    },
    {
      "cell_type": "code",
      "metadata": {
        "id": "jsYIk7Z82mbY"
      },
      "source": [
        "#predict_result"
      ],
      "execution_count": null,
      "outputs": []
    },
    {
      "cell_type": "code",
      "metadata": {
        "id": "pD_xFoBS2mbY"
      },
      "source": [
        "#predict_result"
      ],
      "execution_count": null,
      "outputs": []
    },
    {
      "cell_type": "code",
      "metadata": {
        "id": "BnDoWfKi2mbY"
      },
      "source": [
        "\n",
        "print('GRU - RMSE 15min : ',RMSE(y_val_single,val_gru_15_predict_result))\n",
        "val_gru_15 = RMSE(y_val_single,val_gru_15_predict_result)\n",
        "# 상한선 400일 때 RMSE - 38.30 \n",
        "# 상한선 400 X - 38.63"
      ],
      "execution_count": null,
      "outputs": []
    },
    {
      "cell_type": "markdown",
      "metadata": {
        "id": "FLhyU2nE2mbZ"
      },
      "source": [
        "#### Validation"
      ]
    },
    {
      "cell_type": "code",
      "metadata": {
        "id": "Kcv0cBwQ2mbZ"
      },
      "source": [
        "# 테스트셋\n",
        "plt.figure(figsize=(12,9))\n",
        "plt.plot(y_val_single,label='actual')\n",
        "plt.plot(val_gru_15_predict_result,label='prediction')\n",
        "plt.axhline(y=70,c='r',linestyle='--',linewidth=1)\n",
        "plt.axhline(y=180,c='r',linestyle='--',linewidth=1)\n",
        "plt.axhline(y=400,c='r',linestyle='--',linewidth=1)\n",
        "plt.text(len(val_gru_15_predict_result),75,'Hypoglycemic Threshold',family='Times New Roman',size=15)\n",
        "plt.text(len(val_gru_15_predict_result),185,'Hyperglycemic Threshold',family='Times New Roman',size=15)\n",
        "#plt.text(len(predict_result),75,'Hypoglycemic Threshold',family='Times New Roman',size=15)\n",
        "plt.text(-50,-1,df['Timestamp'][TRAIN_SPLIT],family='Times New Roman',fontweight='bold',size=17)\n",
        "plt.text(len(df['Timestamp'])-TRAIN_SPLIT-10,-1,df['Timestamp'][len(df['Timestamp'])-1],family='Times New Roman',fontweight='bold',size=17)\n",
        "plt.text(len(val_gru_15_predict_result),405,'Too High ( Glucose value 400 + )',family='Times New Roman',size=15)\n",
        "plt.title('GRU - Validation set',family='Times New Roman')\n",
        "plt.legend(loc='best')\n",
        "\n",
        "plt.show()"
      ],
      "execution_count": null,
      "outputs": []
    },
    {
      "cell_type": "markdown",
      "metadata": {
        "id": "NYEyeUVTqZ-R"
      },
      "source": [
        "### GA_15"
      ]
    },
    {
      "cell_type": "code",
      "metadata": {
        "id": "RjO62q2vqfpI"
      },
      "source": [
        "pip install geneticalgorithm2"
      ],
      "execution_count": null,
      "outputs": []
    },
    {
      "cell_type": "code",
      "metadata": {
        "id": "ubPQy4Ysqgrj"
      },
      "source": [
        "from geneticalgorithm2 import geneticalgorithm2 as ga # for running model"
      ],
      "execution_count": null,
      "outputs": []
    },
    {
      "cell_type": "code",
      "metadata": {
        "id": "F9850k_Aqrt4"
      },
      "source": [
        "val_rnn_15 = round(val_rnn_15,2)\n",
        "val_lstm_15 = round(val_lstm_15,2)\n",
        "val_stacklstm_15 = round(val_stacklstm_15,2)\n",
        "val_bilstm_15 = round(val_bilstm_15,2)\n",
        "val_gru_15 = round(val_gru_15,2)\n"
      ],
      "execution_count": null,
      "outputs": []
    },
    {
      "cell_type": "code",
      "metadata": {
        "id": "d5smjR5uqt0v"
      },
      "source": [
        "val_rnn_15_predict_result = np.asarray(val_rnn_15_predict_result)\n",
        "val_lstm_15_predict_result = np.asarray(val_lstm_15_predict_result)\n",
        "val_slstm_15_predict_result = np.asarray(val_slstm_15_predict_result)\n",
        "val_bilstm_15_predict_result = np.asarray(val_bilstm_15_predict_result)\n",
        "val_gru_15_predict_result = np.asarray(val_gru_15_predict_result)"
      ],
      "execution_count": null,
      "outputs": []
    },
    {
      "cell_type": "code",
      "metadata": {
        "id": "J0Kkki8CqwAe"
      },
      "source": [
        "def evaluate2(X):\n",
        "  pen = 0 \n",
        "  #coef = [0,0,0,0,0]\n",
        "  ab=0\n",
        "  result =0\n",
        "  #result2 = 0\n",
        "  #print(X)\n",
        "  if sum(X) > 0.99 and sum(X) < 1:\n",
        "    #print(\"\\n ** Count ** \")\n",
        "    #print(count)\n",
        "    #sum(coef)\n",
        "    #pen = 2000 - sum(list1 * coef[0] + list2 * coef[1] + # 400 = 혈당측정기에서 수집한 EGV의 최댓값이 400\n",
        "    #             list3 * coef[2] + list4 * coef[3] +\n",
        "    #             list5 * coef[4])\n",
        "    #RMSE(y_val_uni_origin,predict_result)\n",
        "    #result = mean_squared_error((y_val_uni_origin,(val_rnn_30_predict_result * X[0] + val_lstm_30_predict_result * X[1] +\n",
        "    #             val_slstm_30_predict_result * X[2] + val_bilstm_30_predict_result * X[3] +\n",
        "    #             val_gru_30_predict_result * X[4]))**0.5)\n",
        "   # ab = val_rnn_30_predict_result * X[0] + val_lstm_30_predict_result * X[1] +val_slstm_30_predict_result * X[2] + val_bilstm_30_predict_result * X[3] + val_gru_30_predict_result * X[4]\n",
        "   # print(\"\\n ** A ** \\n\")\n",
        "   # print(ab.shape)\n",
        "    result = 30 - np.sqrt(mean_squared_error(val_rnn_15_predict_result * X[0] + val_lstm_15_predict_result * X[1] +val_slstm_15_predict_result * X[2] + \n",
        "                                val_bilstm_15_predict_result * X[3] + val_gru_15_predict_result * X[4],y_val_single))\n",
        "    \n",
        "    #result = 10 - mean_squared_error(y_val_uni_origin,abc) / test_result \n",
        "    #result2=(test_result*5) - np.sqrt(result)\n",
        "    #test_result =  mean_squared_error(y_val_uni_origin,ex)\n",
        "    #test_result\n",
        "\n",
        "    #pen = RMSE(y_val_uni_origin,result)\n",
        "    #pen = 200 - np.sqrt(y_val_uni_origin,(val_rnn_15_predict_result * (X[0] / 10000) + val_lstm_15_predict_result * (X[1] / 10000) +\n",
        "    #             val_slstm_15_predict_result * (X[2] / 10000) + val_bilstm_15_predict_result * (X[3] / 10000) +\n",
        "    #             val_gru_15_predict_result * (X[4] / 10000)))\n",
        "    # np.sqrt(mean_squared_error(y_test,y_predict))\n",
        "    print(\"\\n ** B ** \\n\")\n",
        "    print(X)\n",
        "    #print()\n",
        "    print(\"\\n ** C ** \\n\")\n",
        "    print(result)\n",
        "  #return np.sum(X) + pen\n",
        "    #count += 1 \n",
        "  return -result\n",
        "    \n",
        "    "
      ],
      "execution_count": null,
      "outputs": []
    },
    {
      "cell_type": "code",
      "metadata": {
        "id": "kNQGkRixqy8q"
      },
      "source": [
        "varbound2 = np.array([[0.05, 0.5]]*5)"
      ],
      "execution_count": null,
      "outputs": []
    },
    {
      "cell_type": "code",
      "metadata": {
        "id": "BKHiDJDsq0Mh"
      },
      "source": [
        "algorithm_param = {'max_num_iteration': 25000,\n",
        "                   'population_size':100,\n",
        "                   'mutation_probability':0.1,\n",
        "                   'elit_ratio': 0.01,\n",
        "                   'crossover_probability': 0.5,\n",
        "                   'parents_portion': 0.3,\n",
        "                   'crossover_type':'uniform',\n",
        "                   'selection_type': 'roulette',\n",
        "                   'max_iteration_without_improv':None}"
      ],
      "execution_count": null,
      "outputs": []
    },
    {
      "cell_type": "code",
      "metadata": {
        "id": "291s51K_q1WI"
      },
      "source": [
        "model1 = ga(function = evaluate2, dimension = 5, variable_type='real',variable_boundaries=varbound2,algorithm_parameters = algorithm_param)"
      ],
      "execution_count": null,
      "outputs": []
    },
    {
      "cell_type": "code",
      "metadata": {
        "id": "TQGcJMduq2de"
      },
      "source": [
        "model1.run()"
      ],
      "execution_count": null,
      "outputs": []
    },
    {
      "cell_type": "code",
      "metadata": {
        "id": "Ym-B2Athq324"
      },
      "source": [
        "# RMSE \n",
        "optimized = val_rnn_15_predict_result * model1.output_dict['variable'][0] + val_lstm_15_predict_result *model1.output_dict['variable'][1] + val_slstm_15_predict_result * model1.output_dict['variable'][2] + val_bilstm_15_predict_result * model1.output_dict['variable'][3] + val_gru_15_predict_result * model1.output_dict['variable'][4]\n",
        "optimized_rmse_15 =  RMSE(y_val_single,optimized)\n",
        "optimized_rmse_15"
      ],
      "execution_count": null,
      "outputs": []
    },
    {
      "cell_type": "code",
      "metadata": {
        "id": "DVbZi5oQq5nL"
      },
      "source": [
        "# 트레이닝셋\n",
        "plt.figure(figsize=(12,9))\n",
        "plt.plot(y_val_single,label='actual')\n",
        "plt.plot(optimized,label='prediction')\n",
        "plt.axhline(y=70,c='r',linestyle='--',linewidth=1)\n",
        "plt.axhline(y=180,c='r',linestyle='--',linewidth=1)\n",
        "plt.axhline(y=400,c='r',linestyle='--',linewidth=1)\n",
        "plt.text(len(y_val_single),185,'Hyperglycemic Threshold',family='Times New Roman',size=15)\n",
        "#plt.text(len(predict_result),75,'Hypoglycemic Threshold',family='Times New Roman',size=15)\n",
        "plt.text(len(y_val_single),75,'Hypoglycemic Threshold',family='Times New Roman',size=15)\n",
        "plt.text(len(y_val_single),405,'Too High ( Glucose value 400 + )',family='Times New Roman',size=15)\n",
        "plt.title('Optimized',family='Times New Roman')\n",
        "#plt.text(-100,-1,df['Timestamp'][0],family='Times New Roman',fontweight='bold',size=17)\n",
        "#plt.text(len(predict_result),405,'Too High ( Glucose value 400 + )',family='Times New Roman',size=15)\n",
        "\n",
        "plt.text(-50,-1,df['Timestamp'][0],family='Times New Roman',fontweight='bold',size=17)\n",
        "plt.text(len(y_val_single)-100,-1,df['Timestamp'][len(df['Timestamp'])-1],family='Times New Roman',fontweight='bold',size=17)\n",
        "\n",
        "plt.legend(loc='best')\n",
        "plt.show()"
      ],
      "execution_count": null,
      "outputs": []
    },
    {
      "cell_type": "code",
      "metadata": {
        "id": "TT4YHbSS2mba"
      },
      "source": [
        "#from pandas import DataFrame\n",
        "#residuals = [y_val_uni[i]-predict_result[i] for i in range(len(predict_result))]\n",
        "#residuals=DataFrame(residuals)\n",
        "#residuals.hist()"
      ],
      "execution_count": null,
      "outputs": []
    },
    {
      "cell_type": "code",
      "metadata": {
        "id": "72m6bNsY2mba"
      },
      "source": [
        "#residuals.plot(kind='kde')"
      ],
      "execution_count": null,
      "outputs": []
    },
    {
      "cell_type": "code",
      "metadata": {
        "id": "JnQ7X1UJ2mba"
      },
      "source": [
        "#residuals.plot()"
      ],
      "execution_count": null,
      "outputs": []
    },
    {
      "cell_type": "code",
      "metadata": {
        "id": "IfcEXNcp2mba"
      },
      "source": [
        "#from statsmodels.graphics.gofplots import qqplot\n",
        "#residuals=np.array(residuals)\n",
        "#qqplot(residuals)"
      ],
      "execution_count": null,
      "outputs": []
    },
    {
      "cell_type": "markdown",
      "metadata": {
        "id": "Cqpmausk2mba"
      },
      "source": [
        "## 30분"
      ]
    },
    {
      "cell_type": "code",
      "metadata": {
        "id": "_QwpLh1g2mba"
      },
      "source": [
        "TRAIN_SPLIT=int(len(raw_seq)*0.7)\n",
        "multi_past_history = 6\n",
        "multi_future_target = 5\n",
        "STEP=1\n",
        "x_train_single, y_train_single = multi_data(dataset,dataset[:,0],0,TRAIN_SPLIT,\n",
        "                                            multi_past_history,multi_future_target,STEP,single_step=True)\n",
        "x_val_single, y_val_single = multi_data(dataset, dataset[:,0],TRAIN_SPLIT,\n",
        "                                        None,multi_past_history,multi_future_target,STEP,single_step=True)"
      ],
      "execution_count": null,
      "outputs": []
    },
    {
      "cell_type": "code",
      "metadata": {
        "id": "qDQVH-rb2mba"
      },
      "source": [
        "#x_train_uni.shape\n"
      ],
      "execution_count": null,
      "outputs": []
    },
    {
      "cell_type": "code",
      "metadata": {
        "id": "Zgo_wU-w2mba"
      },
      "source": [
        "\n",
        "#x_val_uni.shape"
      ],
      "execution_count": null,
      "outputs": []
    },
    {
      "cell_type": "code",
      "metadata": {
        "id": "nqWkEfEp2mbb"
      },
      "source": [
        "#x_train_uni[0]"
      ],
      "execution_count": null,
      "outputs": []
    },
    {
      "cell_type": "code",
      "metadata": {
        "id": "UqQetCXP2mbb"
      },
      "source": [
        "#df['Glucose'].head(15)"
      ],
      "execution_count": null,
      "outputs": []
    },
    {
      "cell_type": "code",
      "metadata": {
        "id": "vbtkMeZo2mbb"
      },
      "source": [
        "#y_train_uni[0]"
      ],
      "execution_count": null,
      "outputs": []
    },
    {
      "cell_type": "markdown",
      "metadata": {
        "id": "_-W0sIWz2mbb"
      },
      "source": [
        "### RNN - 30분"
      ]
    },
    {
      "cell_type": "code",
      "metadata": {
        "id": "ZBqox_a72mbc"
      },
      "source": [
        "# 재현 가능한 결과를 만들기 위해 \n",
        "# 매번 반복해야 하는 작업 \n",
        "seed_num = 42\n",
        "random.seed(seed_num)\n",
        "np.random.seed(seed_num)\n",
        "tf.random.set_seed(seed_num)\n",
        "\n",
        "session_conf = tf.compat.v1.ConfigProto(intra_op_parallelism_threads=1,\n",
        "                             inter_op_parallelism_threads=1)\n",
        "sess=tf.compat.v1.Session(graph=tf.compat.v1.get_default_graph(),config=session_conf)\n",
        "K.set_session(sess)"
      ],
      "execution_count": null,
      "outputs": []
    },
    {
      "cell_type": "code",
      "metadata": {
        "id": "_fkQV6Xd2mbc"
      },
      "source": [
        "model = Sequential()\n",
        "model.add(SimpleRNN(50,activation='relu',input_shape=x_train_single.shape[-2:],return_sequences=False))\n",
        "model.add(Dense(1))"
      ],
      "execution_count": null,
      "outputs": []
    },
    {
      "cell_type": "code",
      "metadata": {
        "id": "rKk1gsot2mbc"
      },
      "source": [
        "model.compile(optimizer='adam',loss='mse')"
      ],
      "execution_count": null,
      "outputs": []
    },
    {
      "cell_type": "code",
      "metadata": {
        "id": "tkVM4IqL2mbc"
      },
      "source": [
        "model.fit(x_train_single,y_train_single,epochs=300,verbose=0)"
      ],
      "execution_count": null,
      "outputs": []
    },
    {
      "cell_type": "code",
      "metadata": {
        "id": "-ka3Zp_52mbc"
      },
      "source": [
        "K.clear_session()"
      ],
      "execution_count": null,
      "outputs": []
    },
    {
      "cell_type": "code",
      "metadata": {
        "id": "hYq31nl72mbc"
      },
      "source": [
        "val_rnn_30_predict_result = model.predict(x_val_single,verbose=0)"
      ],
      "execution_count": null,
      "outputs": []
    },
    {
      "cell_type": "code",
      "metadata": {
        "id": "zl9YVUCl2mbc"
      },
      "source": [
        "# 예측값 상한선 = 400 \n",
        "for i in range(len(val_rnn_30_predict_result)):\n",
        "    if val_rnn_30_predict_result[i] >= 400: \n",
        "        val_rnn_30_predict_result[i]=400"
      ],
      "execution_count": null,
      "outputs": []
    },
    {
      "cell_type": "code",
      "metadata": {
        "id": "-LWyw9Pw2mbd"
      },
      "source": [
        "# Val set RMSE \n",
        "print(' Vanila RNN (Simple RNN) - RMSE (15min) : ',RMSE(y_val_single,val_rnn_30_predict_result))\n",
        "val_rnn_30 = RMSE(y_val_single,val_rnn_30_predict_result)\n"
      ],
      "execution_count": null,
      "outputs": []
    },
    {
      "cell_type": "markdown",
      "metadata": {
        "id": "fleeOSP12mbd"
      },
      "source": [
        "#### Validation"
      ]
    },
    {
      "cell_type": "code",
      "metadata": {
        "id": "XZYDX1Jn2mbd"
      },
      "source": [
        "# 테스트셋\n",
        "plt.figure(figsize=(12,9))\n",
        "plt.plot(y_val_single,label='actual')\n",
        "plt.plot(val_rnn_30_predict_result,label='prediction')\n",
        "plt.axhline(y=70,c='r',linestyle='--',linewidth=1)\n",
        "plt.axhline(y=180,c='r',linestyle='--',linewidth=1)\n",
        "plt.axhline(y=400,c='r',linestyle='--',linewidth=1)\n",
        "plt.text(len(val_rnn_30_predict_result),75,'Hypoglycemic Threshold',family='Times New Roman',size=15)\n",
        "plt.text(len(val_rnn_30_predict_result),185,'Hyperglycemic Threshold',family='Times New Roman',size=15)\n",
        "#plt.text(len(predict_result),75,'Hypoglycemic Threshold',family='Times New Roman',size=15)\n",
        "plt.text(-50,-1,df['Timestamp'][TRAIN_SPLIT],family='Times New Roman',fontweight='bold',size=17)\n",
        "plt.text(len(df['Timestamp'])-TRAIN_SPLIT-10,-1,df['Timestamp'][len(df['Timestamp'])-1],family='Times New Roman',fontweight='bold',size=17)\n",
        "plt.text(len(val_rnn_30_predict_result),405,'Too High ( Glucose value 400 + )',family='Times New Roman',size=15)\n",
        "plt.title('Simple RNN - Validation set (30min)',family='Times New Roman')\n",
        "plt.legend(loc='best')\n",
        "\n",
        "plt.show()"
      ],
      "execution_count": null,
      "outputs": []
    },
    {
      "cell_type": "markdown",
      "metadata": {
        "id": "dYhoUcCw2mbe"
      },
      "source": [
        "### LSTM - 30분"
      ]
    },
    {
      "cell_type": "code",
      "metadata": {
        "id": "tonhT2YL2mbe"
      },
      "source": [
        "# 재현 가능한 결과를 만들기 위해 \n",
        "# 매번 반복해야 하는 작업 \n",
        "seed_num = 42\n",
        "random.seed(seed_num)\n",
        "np.random.seed(seed_num)\n",
        "tf.random.set_seed(seed_num)\n",
        "\n",
        "session_conf = tf.compat.v1.ConfigProto(intra_op_parallelism_threads=1,\n",
        "                             inter_op_parallelism_threads=1)\n",
        "sess=tf.compat.v1.Session(graph=tf.compat.v1.get_default_graph(),config=session_conf)\n",
        "K.set_session(sess)"
      ],
      "execution_count": null,
      "outputs": []
    },
    {
      "cell_type": "code",
      "metadata": {
        "id": "mg2VKCYB2mbe"
      },
      "source": [
        "model = Sequential()\n",
        "model.add(LSTM(50,activation='relu',input_shape=x_train_single.shape[-2:]))\n",
        "model.add(Dense(1))\n"
      ],
      "execution_count": null,
      "outputs": []
    },
    {
      "cell_type": "code",
      "metadata": {
        "id": "HhKjUhAD2mbf"
      },
      "source": [
        "model.compile(optimizer='adam',loss='mse')\n",
        "\n",
        "model.fit(x_train_single,y_train_single,epochs=300,verbose=0)\n",
        "\n",
        "K.clear_session()"
      ],
      "execution_count": null,
      "outputs": []
    },
    {
      "cell_type": "code",
      "metadata": {
        "id": "I-0rcKdD2mbf"
      },
      "source": [
        "val_lstm_30_predict_result = model.predict(x_val_single,verbose=0)\n",
        "\n",
        "# 예측값 상한선 = 400 \n",
        "for i in range(len(val_lstm_30_predict_result)):\n",
        "    if val_lstm_30_predict_result[i] >= 400: \n",
        "        val_lstm_30_predict_result[i]=400\n",
        "\n",
        "#predict_result\n",
        "\n",
        "print(' LSTM - RMSE (15min) : ',RMSE(y_val_single,val_lstm_30_predict_result))\n",
        "val_lstm_30=RMSE(y_val_single,val_lstm_30_predict_result)"
      ],
      "execution_count": null,
      "outputs": []
    },
    {
      "cell_type": "markdown",
      "metadata": {
        "id": "2YQfa4v72mbf"
      },
      "source": [
        "#### Validation"
      ]
    },
    {
      "cell_type": "code",
      "metadata": {
        "id": "zL9wrMM-2mbf"
      },
      "source": [
        "# 테스트셋\n",
        "plt.figure(figsize=(12,9))\n",
        "plt.plot(y_val_single,label='actual')\n",
        "plt.plot(val_lstm_30_predict_result,label='prediction')\n",
        "plt.axhline(y=70,c='r',linestyle='--',linewidth=1)\n",
        "plt.axhline(y=180,c='r',linestyle='--',linewidth=1)\n",
        "plt.axhline(y=400,c='r',linestyle='--',linewidth=1)\n",
        "plt.text(len(val_lstm_30_predict_result),75,'Hypoglycemic Threshold',family='Times New Roman',size=15)\n",
        "plt.text(len(val_lstm_30_predict_result),185,'Hyperglycemic Threshold',family='Times New Roman',size=15)\n",
        "#plt.text(len(predict_result),75,'Hypoglycemic Threshold',family='Times New Roman',size=15)\n",
        "plt.text(-50,-1,df['Timestamp'][TRAIN_SPLIT],family='Times New Roman',fontweight='bold',size=17)\n",
        "plt.text(len(df['Timestamp'])-TRAIN_SPLIT-10,-1,df['Timestamp'][len(df['Timestamp'])-1],family='Times New Roman',fontweight='bold',size=17)\n",
        "plt.text(len(val_lstm_30_predict_result),405,'Too High ( Glucose value 400 + )',family='Times New Roman',size=15)\n",
        "plt.title('LSTM - Validation set (30min)',family='Times New Roman')\n",
        "plt.legend(loc='best')\n",
        "\n",
        "plt.show()"
      ],
      "execution_count": null,
      "outputs": []
    },
    {
      "cell_type": "markdown",
      "metadata": {
        "id": "T240ChLI2mbg"
      },
      "source": [
        "### Stacked LSTM - 30분"
      ]
    },
    {
      "cell_type": "code",
      "metadata": {
        "id": "V5NWkJ252mbg"
      },
      "source": [
        "# 재현 가능한 결과를 만들기 위해 \n",
        "# 매번 반복해야 하는 작업 \n",
        "seed_num = 42\n",
        "random.seed(seed_num)\n",
        "np.random.seed(seed_num)\n",
        "tf.random.set_seed(seed_num)\n",
        "\n",
        "session_conf = tf.compat.v1.ConfigProto(intra_op_parallelism_threads=1,\n",
        "                             inter_op_parallelism_threads=1)\n",
        "sess=tf.compat.v1.Session(graph=tf.compat.v1.get_default_graph(),config=session_conf)\n",
        "K.set_session(sess)"
      ],
      "execution_count": null,
      "outputs": []
    },
    {
      "cell_type": "code",
      "metadata": {
        "id": "7rVeRfKH2mbg"
      },
      "source": [
        "model = Sequential()\n",
        "model.add(LSTM(50,activation='relu',return_sequences=True,input_shape=x_train_single.shape[-2:]))\n",
        "model.add(LSTM(50,activation='relu'))\n",
        "model.add(Dense(1))\n",
        "model.compile(optimizer='adam',loss='mse')"
      ],
      "execution_count": null,
      "outputs": []
    },
    {
      "cell_type": "code",
      "metadata": {
        "id": "EvodSpVH2mbg"
      },
      "source": [
        "model.fit(x_train_single,y_train_single,epochs=300,verbose=0)"
      ],
      "execution_count": null,
      "outputs": []
    },
    {
      "cell_type": "code",
      "metadata": {
        "id": "AVMrIxEY2mbg"
      },
      "source": [
        "K.clear_session()"
      ],
      "execution_count": null,
      "outputs": []
    },
    {
      "cell_type": "code",
      "metadata": {
        "id": "UtuVlHGm2mbg"
      },
      "source": [
        "val_slstm_30_predict_result = model.predict(x_val_single,verbose=0)\n",
        "\n",
        "\n",
        "for i in range(len(val_slstm_30_predict_result)):\n",
        "    if val_slstm_30_predict_result[i] >= 400: \n",
        "        val_slstm_30_predict_result[i]=400\n",
        "\n",
        "print(' Stacked LSTM - RMSE(15min) : ',RMSE(y_val_single,val_slstm_30_predict_result))\n",
        "val_stacklstm_30 =RMSE(y_val_single,val_slstm_30_predict_result)"
      ],
      "execution_count": null,
      "outputs": []
    },
    {
      "cell_type": "markdown",
      "metadata": {
        "id": "F9T9kSIv2mbh"
      },
      "source": [
        "#### Validation"
      ]
    },
    {
      "cell_type": "code",
      "metadata": {
        "id": "ZXYz-foz2mbh"
      },
      "source": [
        "# 테스트셋\n",
        "plt.figure(figsize=(12,9))\n",
        "plt.plot(y_val_single,label='actual')\n",
        "plt.plot(val_slstm_30_predict_result,label='prediction')\n",
        "plt.axhline(y=70,c='r',linestyle='--',linewidth=1)\n",
        "plt.axhline(y=180,c='r',linestyle='--',linewidth=1)\n",
        "plt.axhline(y=400,c='r',linestyle='--',linewidth=1)\n",
        "plt.text(len(val_slstm_30_predict_result),75,'Hypoglycemic Threshold',family='Times New Roman',size=15)\n",
        "plt.text(len(val_slstm_30_predict_result),185,'Hyperglycemic Threshold',family='Times New Roman',size=15)\n",
        "#plt.text(len(predict_result),75,'Hypoglycemic Threshold',family='Times New Roman',size=15)\n",
        "plt.text(-50,-1,df['Timestamp'][TRAIN_SPLIT],family='Times New Roman',fontweight='bold',size=17)\n",
        "plt.text(len(df['Timestamp'])-TRAIN_SPLIT-10,-1,df['Timestamp'][len(df['Timestamp'])-1],family='Times New Roman',fontweight='bold',size=17)\n",
        "plt.text(len(val_slstm_30_predict_result),405,'Too High ( Glucose value 400 + )',family='Times New Roman',size=15)\n",
        "plt.title('Stacked LSTM - Validation set (30min)',family='Times New Roman')\n",
        "plt.legend(loc='best')\n",
        "\n",
        "plt.show()"
      ],
      "execution_count": null,
      "outputs": []
    },
    {
      "cell_type": "markdown",
      "metadata": {
        "id": "S1yRA5iF2mbh"
      },
      "source": [
        "### Bidirectional LSTM - 30분"
      ]
    },
    {
      "cell_type": "code",
      "metadata": {
        "id": "s8kQN6_O2mbh"
      },
      "source": [
        "# 재현 가능한 결과를 만들기 위해 \n",
        "# 매번 반복해야 하는 작업 \n",
        "seed_num = 42\n",
        "random.seed(seed_num)\n",
        "np.random.seed(seed_num)\n",
        "tf.random.set_seed(seed_num)\n",
        "\n",
        "session_conf = tf.compat.v1.ConfigProto(intra_op_parallelism_threads=1,\n",
        "                             inter_op_parallelism_threads=1)\n",
        "sess=tf.compat.v1.Session(graph=tf.compat.v1.get_default_graph(),config=session_conf)\n",
        "K.set_session(sess)"
      ],
      "execution_count": null,
      "outputs": []
    },
    {
      "cell_type": "code",
      "metadata": {
        "id": "y2JZzmGI2mbi"
      },
      "source": [
        "from keras.layers import Bidirectional\n",
        "model = Sequential()\n",
        "model.add(Bidirectional(LSTM(50,activation='relu'),input_shape=x_train_single.shape[-2:]))\n",
        "model.add(Dense(1))\n",
        "model.compile(optimizer='adam',loss='mse',metrics=['accuracy'])"
      ],
      "execution_count": null,
      "outputs": []
    },
    {
      "cell_type": "code",
      "metadata": {
        "id": "xbM1rCpB2mbi"
      },
      "source": [
        "model.fit(x_train_single,y_train_single,epochs=300,verbose=0)"
      ],
      "execution_count": null,
      "outputs": []
    },
    {
      "cell_type": "code",
      "metadata": {
        "id": "sl-Nrkry2mbi"
      },
      "source": [
        "K.clear_session()"
      ],
      "execution_count": null,
      "outputs": []
    },
    {
      "cell_type": "code",
      "metadata": {
        "id": "mkEgowZY2mbi"
      },
      "source": [
        "val_bilstm_30_predict_result = model.predict(x_val_single,verbose=0)\n",
        "\n",
        "for i in range(len(val_bilstm_30_predict_result)):\n",
        "    if val_bilstm_30_predict_result[i] >= 400: \n",
        "        val_bilstm_30_predict_result[i]=400\n",
        "\n",
        "print('Bidirectional LSTM - RMSE : ',RMSE(y_val_single,val_bilstm_30_predict_result))\n",
        "val_bilstm_30 = RMSE(y_val_single,val_bilstm_30_predict_result)"
      ],
      "execution_count": null,
      "outputs": []
    },
    {
      "cell_type": "markdown",
      "metadata": {
        "id": "zYjQDXX72mbi"
      },
      "source": [
        "#### Validation"
      ]
    },
    {
      "cell_type": "code",
      "metadata": {
        "id": "i-LUcJlY2mbi",
        "scrolled": false
      },
      "source": [
        "# 테스트셋\n",
        "plt.figure(figsize=(12,9))\n",
        "plt.plot(y_val_single,label='actual')\n",
        "plt.plot(val_bilstm_30_predict_result,label='prediction')\n",
        "plt.axhline(y=70,c='r',linestyle='--',linewidth=1)\n",
        "plt.axhline(y=180,c='r',linestyle='--',linewidth=1)\n",
        "plt.axhline(y=400,c='r',linestyle='--',linewidth=1)\n",
        "plt.text(len(val_bilstm_30_predict_result),75,'Hypoglycemic Threshold',family='Times New Roman',size=15)\n",
        "plt.text(len(val_bilstm_30_predict_result),185,'Hyperglycemic Threshold',family='Times New Roman',size=15)\n",
        "#plt.text(len(predict_result),75,'Hypoglycemic Threshold',family='Times New Roman',size=15)\n",
        "plt.text(-50,-1,df['Timestamp'][TRAIN_SPLIT],family='Times New Roman',fontweight='bold',size=17)\n",
        "plt.text(len(df['Timestamp'])-TRAIN_SPLIT-10,-1,df['Timestamp'][len(df['Timestamp'])-1],family='Times New Roman',fontweight='bold',size=17)\n",
        "plt.text(len(val_bilstm_30_predict_result),405,'Too High ( Glucose value 400 + )',family='Times New Roman',size=15)\n",
        "plt.title('Bidirectional LSTM - Validation set (30min)',family='Times New Roman')\n",
        "plt.legend(loc='best')\n",
        "\n",
        "plt.show()"
      ],
      "execution_count": null,
      "outputs": []
    },
    {
      "cell_type": "markdown",
      "metadata": {
        "id": "Le6OPSB52mbj"
      },
      "source": [
        "### GRU - 30분"
      ]
    },
    {
      "cell_type": "code",
      "metadata": {
        "id": "0Yzhi-op2mbj"
      },
      "source": [
        "# 재현 가능한 결과를 만들기 위해 \n",
        "# 매번 반복해야 하는 작업 \n",
        "seed_num = 42\n",
        "random.seed(seed_num)\n",
        "np.random.seed(seed_num)\n",
        "tf.random.set_seed(seed_num)\n",
        "\n",
        "session_conf = tf.compat.v1.ConfigProto(intra_op_parallelism_threads=1,\n",
        "                             inter_op_parallelism_threads=1)\n",
        "sess=tf.compat.v1.Session(graph=tf.compat.v1.get_default_graph(),config=session_conf)\n",
        "K.set_session(sess)"
      ],
      "execution_count": null,
      "outputs": []
    },
    {
      "cell_type": "code",
      "metadata": {
        "id": "OELnYWci2mbj"
      },
      "source": [
        "from keras.layers import GRU\n",
        "model = Sequential()\n",
        "model.add(GRU(50,activation='relu',input_shape=x_train_single.shape[-2:]))\n",
        "model.add(Dense(1))\n",
        "model.compile(optimizer='adam',loss='mse',metrics=['accuracy'])"
      ],
      "execution_count": null,
      "outputs": []
    },
    {
      "cell_type": "code",
      "metadata": {
        "id": "J7RyrVXv2mbj"
      },
      "source": [
        "model.summary()\n",
        "\n",
        "model.fit(x_train_single,y_train_single,epochs=300,verbose=0)\n",
        "\n",
        "K.clear_session()"
      ],
      "execution_count": null,
      "outputs": []
    },
    {
      "cell_type": "code",
      "metadata": {
        "id": "gZ6zVE8V2mbj"
      },
      "source": [
        "val_gru_30_predict_result = model.predict(x_val_single,verbose=0)\n",
        "\n",
        "for i in range(len(val_gru_30_predict_result)):\n",
        "    if val_gru_30_predict_result[i] >= 400: \n",
        "        val_gru_30_predict_result[i]=400\n",
        "\n",
        "#predict_result\n",
        "\n",
        "#predict_result\n",
        "\n",
        "\n",
        "print('GRU - RMSE 15min : ',RMSE(y_val_single,val_gru_30_predict_result))\n",
        "val_gru_30 = RMSE(y_val_single,val_gru_30_predict_result)\n",
        "# 상한선 400일 때 RMSE - 38.30 \n",
        "# 상한선 400 X - 38.63"
      ],
      "execution_count": null,
      "outputs": []
    },
    {
      "cell_type": "markdown",
      "metadata": {
        "id": "CR1QyR5k2mbk"
      },
      "source": [
        "#### Validation"
      ]
    },
    {
      "cell_type": "code",
      "metadata": {
        "id": "Bj--SZDV2mbk"
      },
      "source": [
        "# 테스트셋\n",
        "plt.figure(figsize=(12,9))\n",
        "plt.plot(y_val_single,label='actual')\n",
        "plt.plot(val_gru_30_predict_result,label='prediction')\n",
        "plt.axhline(y=70,c='r',linestyle='--',linewidth=1)\n",
        "plt.axhline(y=180,c='r',linestyle='--',linewidth=1)\n",
        "plt.axhline(y=400,c='r',linestyle='--',linewidth=1)\n",
        "plt.text(len(val_gru_30_predict_result),75,'Hypoglycemic Threshold',family='Times New Roman',size=15)\n",
        "plt.text(len(val_gru_30_predict_result),185,'Hyperglycemic Threshold',family='Times New Roman',size=15)\n",
        "#plt.text(len(predict_result),75,'Hypoglycemic Threshold',family='Times New Roman',size=15)\n",
        "plt.text(-50,-1,df['Timestamp'][TRAIN_SPLIT],family='Times New Roman',fontweight='bold',size=17)\n",
        "plt.text(len(df['Timestamp'])-TRAIN_SPLIT-10,-1,df['Timestamp'][len(df['Timestamp'])-1],family='Times New Roman',fontweight='bold',size=17)\n",
        "plt.text(len(val_gru_30_predict_result),405,'Too High ( Glucose value 400 + )',family='Times New Roman',size=15)\n",
        "plt.title('GRU - Validation set',family='Times New Roman')\n",
        "plt.legend(loc='best')\n",
        "\n",
        "plt.show()"
      ],
      "execution_count": null,
      "outputs": []
    },
    {
      "cell_type": "markdown",
      "metadata": {
        "id": "1iP-SkZWCMOE"
      },
      "source": [
        "### GA_30"
      ]
    },
    {
      "cell_type": "code",
      "metadata": {
        "id": "ifokS2SXCQo2"
      },
      "source": [
        "val_rnn_30_predict_result = np.asarray(val_rnn_30_predict_result)\n",
        "val_lstm_30_predict_result = np.asarray(val_lstm_30_predict_result)\n",
        "val_slstm_30_predict_result = np.asarray(val_slstm_30_predict_result)\n",
        "val_bilstm_30_predict_result = np.asarray(val_bilstm_30_predict_result)\n",
        "val_gru_30_predict_result = np.asarray(val_gru_30_predict_result)"
      ],
      "execution_count": null,
      "outputs": []
    },
    {
      "cell_type": "code",
      "metadata": {
        "id": "bKIDomX8CZ6-"
      },
      "source": [
        "def evaluate2(X):\n",
        "  pen = 0 \n",
        "  #coef = [0,0,0,0,0]\n",
        "  ab=0\n",
        "  result =0\n",
        "  #result2 = 0\n",
        "  #print(X)\n",
        "  if sum(X) > 0.99 and sum(X) < 1:\n",
        "    #print(\"\\n ** Count ** \")\n",
        "    #print(count)\n",
        "    #sum(coef)\n",
        "    #pen = 2000 - sum(list1 * coef[0] + list2 * coef[1] + # 400 = 혈당측정기에서 수집한 EGV의 최댓값이 400\n",
        "    #             list3 * coef[2] + list4 * coef[3] +\n",
        "    #             list5 * coef[4])\n",
        "    #RMSE(y_val_uni_origin,predict_result)\n",
        "    #result = mean_squared_error((y_val_uni_origin,(val_rnn_30_predict_result * X[0] + val_lstm_30_predict_result * X[1] +\n",
        "    #             val_slstm_30_predict_result * X[2] + val_bilstm_30_predict_result * X[3] +\n",
        "    #             val_gru_30_predict_result * X[4]))**0.5)\n",
        "   # ab = val_rnn_30_predict_result * X[0] + val_lstm_30_predict_result * X[1] +val_slstm_30_predict_result * X[2] + val_bilstm_30_predict_result * X[3] + val_gru_30_predict_result * X[4]\n",
        "   # print(\"\\n ** A ** \\n\")\n",
        "   # print(ab.shape)\n",
        "    result = 50 - np.sqrt(mean_squared_error(val_rnn_30_predict_result * X[0] + val_lstm_30_predict_result * X[1] +val_slstm_30_predict_result * X[2] + \n",
        "                                val_bilstm_30_predict_result * X[3] + val_gru_30_predict_result * X[4],y_val_single))\n",
        "    \n",
        "    #result = 10 - mean_squared_error(y_val_uni_origin,abc) / test_result \n",
        "    #result2=(test_result*5) - np.sqrt(result)\n",
        "    #test_result =  mean_squared_error(y_val_uni_origin,ex)\n",
        "    #test_result\n",
        "\n",
        "    #pen = RMSE(y_val_uni_origin,result)\n",
        "    #pen = 200 - np.sqrt(y_val_uni_origin,(val_rnn_15_predict_result * (X[0] / 10000) + val_lstm_15_predict_result * (X[1] / 10000) +\n",
        "    #             val_slstm_15_predict_result * (X[2] / 10000) + val_bilstm_15_predict_result * (X[3] / 10000) +\n",
        "    #             val_gru_15_predict_result * (X[4] / 10000)))\n",
        "    # np.sqrt(mean_squared_error(y_test,y_predict))\n",
        "    print(\"\\n ** B ** \\n\")\n",
        "    print(X)\n",
        "    #print()\n",
        "    print(\"\\n ** C ** \\n\")\n",
        "    print(result)\n",
        "  #return np.sum(X) + pen\n",
        "    #count += 1 \n",
        "  return -result\n",
        "    \n",
        "    "
      ],
      "execution_count": null,
      "outputs": []
    },
    {
      "cell_type": "code",
      "metadata": {
        "id": "MnVfWMWtCgF_"
      },
      "source": [
        "varbound2 = np.array([[0.05, 0.5]]*5)"
      ],
      "execution_count": null,
      "outputs": []
    },
    {
      "cell_type": "code",
      "metadata": {
        "id": "jOoXalKACjGY"
      },
      "source": [
        "algorithm_param = {'max_num_iteration': 25000,\n",
        "                   'population_size':100,\n",
        "                   'mutation_probability':0.1,\n",
        "                   'elit_ratio': 0.01,\n",
        "                   'crossover_probability': 0.5,\n",
        "                   'parents_portion': 0.3,\n",
        "                   'crossover_type':'uniform',\n",
        "                   'selection_type': 'roulette',\n",
        "                   'max_iteration_without_improv':None}"
      ],
      "execution_count": null,
      "outputs": []
    },
    {
      "cell_type": "code",
      "metadata": {
        "id": "mJVVYMyZCkGO"
      },
      "source": [
        "model2 = ga(function = evaluate2, dimension = 5, variable_type='real',variable_boundaries=varbound2,algorithm_parameters = algorithm_param)"
      ],
      "execution_count": null,
      "outputs": []
    },
    {
      "cell_type": "code",
      "metadata": {
        "id": "iiETVuDLCmlc"
      },
      "source": [
        "model2.run()"
      ],
      "execution_count": null,
      "outputs": []
    },
    {
      "cell_type": "code",
      "metadata": {
        "id": "83B6UTnNC688"
      },
      "source": [
        "# RMSE \n",
        "optimized = val_rnn_30_predict_result * model2.output_dict['variable'][0] + val_lstm_30_predict_result *model2.output_dict['variable'][1] + val_slstm_30_predict_result * model2.output_dict['variable'][2] + val_bilstm_30_predict_result * model2.output_dict['variable'][3] + val_gru_30_predict_result * model2.output_dict['variable'][4]\n",
        "optimized_rmse_30 =  RMSE(y_val_single,optimized)\n",
        "optimized_rmse_30"
      ],
      "execution_count": null,
      "outputs": []
    },
    {
      "cell_type": "markdown",
      "metadata": {
        "id": "dFjh1aOI2mbk"
      },
      "source": [
        "## 60분"
      ]
    },
    {
      "cell_type": "code",
      "metadata": {
        "id": "LefK4UNi2mbl"
      },
      "source": [
        "TRAIN_SPLIT=int(len(raw_seq)*0.7)\n",
        "multi_past_history = 6\n",
        "multi_future_target = 11\n",
        "STEP=1\n",
        "x_train_single, y_train_single = multi_data(dataset,dataset[:,0],0,TRAIN_SPLIT,\n",
        "                                            multi_past_history,multi_future_target,STEP,single_step=True)\n",
        "x_val_single, y_val_single = multi_data(dataset, dataset[:,0],TRAIN_SPLIT,\n",
        "                                        None,multi_past_history,multi_future_target,STEP,single_step=True)"
      ],
      "execution_count": null,
      "outputs": []
    },
    {
      "cell_type": "code",
      "metadata": {
        "id": "W7KKja_62mbl"
      },
      "source": [
        "#x_train_uni[0]"
      ],
      "execution_count": null,
      "outputs": []
    },
    {
      "cell_type": "code",
      "metadata": {
        "id": "06Uu5sAa2mbl"
      },
      "source": [
        "#y_train_uni[0]"
      ],
      "execution_count": null,
      "outputs": []
    },
    {
      "cell_type": "code",
      "metadata": {
        "id": "6tY9ylV42mbo"
      },
      "source": [
        "#df['Glucose'].head(20)"
      ],
      "execution_count": null,
      "outputs": []
    },
    {
      "cell_type": "markdown",
      "metadata": {
        "id": "xkcX7qjk2mbo"
      },
      "source": [
        "### RNN - 60분"
      ]
    },
    {
      "cell_type": "code",
      "metadata": {
        "id": "LyhE_rc_2mbo"
      },
      "source": [
        "# 재현 가능한 결과를 만들기 위해 \n",
        "# 매번 반복해야 하는 작업 \n",
        "seed_num = 42\n",
        "random.seed(seed_num)\n",
        "np.random.seed(seed_num)\n",
        "tf.random.set_seed(seed_num)\n",
        "\n",
        "session_conf = tf.compat.v1.ConfigProto(intra_op_parallelism_threads=1,\n",
        "                             inter_op_parallelism_threads=1)\n",
        "sess=tf.compat.v1.Session(graph=tf.compat.v1.get_default_graph(),config=session_conf)\n",
        "K.set_session(sess)"
      ],
      "execution_count": null,
      "outputs": []
    },
    {
      "cell_type": "code",
      "metadata": {
        "id": "Hx2pzUEU2mbo"
      },
      "source": [
        "model = Sequential()\n",
        "model.add(SimpleRNN(50,activation='relu',input_shape=x_train_single.shape[-2:],return_sequences=False))\n",
        "model.add(Dense(1))\n",
        "\n",
        "model.compile(optimizer='adam',loss='mse')\n",
        "\n",
        "model.fit(x_train_single,y_train_single,epochs=300,verbose=0)"
      ],
      "execution_count": null,
      "outputs": []
    },
    {
      "cell_type": "code",
      "metadata": {
        "id": "l0cCbSAa2mbo"
      },
      "source": [
        "K.clear_session()"
      ],
      "execution_count": null,
      "outputs": []
    },
    {
      "cell_type": "code",
      "metadata": {
        "id": "43IkLc_e2mbp"
      },
      "source": [
        "val_rnn_60_predict_result = model.predict(x_val_single,verbose=0)\n",
        "\n",
        "# 예측값 상한선 = 400 \n",
        "for i in range(len(val_rnn_60_predict_result)):\n",
        "    if val_rnn_60_predict_result[i] >= 400: \n",
        "        val_rnn_60_predict_result[i]=400\n",
        "\n",
        "# Val set RMSE \n",
        "print(' Vanila RNN (Simple RNN) - RMSE (15min) : ',RMSE(y_val_single,val_rnn_60_predict_result))\n",
        "val_rnn_60 = RMSE(y_val_single,val_rnn_60_predict_result)\n"
      ],
      "execution_count": null,
      "outputs": []
    },
    {
      "cell_type": "markdown",
      "metadata": {
        "id": "4DOV_sgj2mbp"
      },
      "source": [
        "#### Validation"
      ]
    },
    {
      "cell_type": "code",
      "metadata": {
        "id": "f8lzDAt52mbp"
      },
      "source": [
        "# 테스트셋\n",
        "plt.figure(figsize=(12,9))\n",
        "plt.plot(y_val_single,label='actual')\n",
        "plt.plot(val_rnn_60_predict_result,label='prediction')\n",
        "plt.axhline(y=70,c='r',linestyle='--',linewidth=1)\n",
        "plt.axhline(y=180,c='r',linestyle='--',linewidth=1)\n",
        "plt.axhline(y=400,c='r',linestyle='--',linewidth=1)\n",
        "plt.text(len(val_rnn_60_predict_result),75,'Hypoglycemic Threshold',family='Times New Roman',size=15)\n",
        "plt.text(len(val_rnn_60_predict_result),185,'Hyperglycemic Threshold',family='Times New Roman',size=15)\n",
        "#plt.text(len(predict_result),75,'Hypoglycemic Threshold',family='Times New Roman',size=15)\n",
        "plt.text(-50,-1,df['Timestamp'][TRAIN_SPLIT],family='Times New Roman',fontweight='bold',size=17)\n",
        "plt.text(len(df['Timestamp'])-TRAIN_SPLIT-10,-1,df['Timestamp'][len(df['Timestamp'])-1],family='Times New Roman',fontweight='bold',size=17)\n",
        "plt.text(len(val_rnn_60_predict_result),405,'Too High ( Glucose value 400 + )',family='Times New Roman',size=15)\n",
        "plt.title('Simple RNN - Validation set (60min)',family='Times New Roman')\n",
        "plt.legend(loc='best')\n",
        "\n",
        "plt.show()"
      ],
      "execution_count": null,
      "outputs": []
    },
    {
      "cell_type": "markdown",
      "metadata": {
        "id": "YLz8IV4i2mbq"
      },
      "source": [
        "### LSTM - 60분"
      ]
    },
    {
      "cell_type": "code",
      "metadata": {
        "id": "QpYTVCub2mbq"
      },
      "source": [
        "# 재현 가능한 결과를 만들기 위해 \n",
        "# 매번 반복해야 하는 작업 \n",
        "seed_num = 42\n",
        "random.seed(seed_num)\n",
        "np.random.seed(seed_num)\n",
        "tf.random.set_seed(seed_num)\n",
        "\n",
        "session_conf = tf.compat.v1.ConfigProto(intra_op_parallelism_threads=1,\n",
        "                             inter_op_parallelism_threads=1)\n",
        "sess=tf.compat.v1.Session(graph=tf.compat.v1.get_default_graph(),config=session_conf)\n",
        "K.set_session(sess)"
      ],
      "execution_count": null,
      "outputs": []
    },
    {
      "cell_type": "code",
      "metadata": {
        "id": "mlz-EGeI2mbq"
      },
      "source": [
        "model = Sequential()\n",
        "model.add(LSTM(50,activation='relu',input_shape=x_train_single.shape[-2:]))\n",
        "model.add(Dense(1))\n",
        "\n",
        "\n",
        "model.compile(optimizer='adam',loss='mse')\n",
        "\n",
        "model.fit(x_train_single,y_train_single,epochs=300,verbose=0)\n",
        "\n",
        "K.clear_session()"
      ],
      "execution_count": null,
      "outputs": []
    },
    {
      "cell_type": "code",
      "metadata": {
        "id": "EWZarUT92mbq"
      },
      "source": [
        "val_lstm_60_predict_result = model.predict(x_val_single,verbose=0)\n",
        "\n",
        "# 예측값 상한선 = 400 \n",
        "for i in range(len(val_lstm_60_predict_result)):\n",
        "    if val_lstm_60_predict_result[i] >= 400: \n",
        "        val_lstm_60_predict_result[i]=400\n",
        "\n",
        "#predict_result\n",
        "\n",
        "print(' LSTM - RMSE (60min) : ',RMSE(y_val_single,val_lstm_60_predict_result))\n",
        "val_lstm_60=RMSE(y_val_single,val_lstm_60_predict_result)"
      ],
      "execution_count": null,
      "outputs": []
    },
    {
      "cell_type": "markdown",
      "metadata": {
        "id": "Sb4ekYic2mbr"
      },
      "source": [
        "#### Validation"
      ]
    },
    {
      "cell_type": "code",
      "metadata": {
        "id": "v_MXKcMP2mbr"
      },
      "source": [
        "# 테스트셋\n",
        "plt.figure(figsize=(12,9))\n",
        "plt.plot(y_val_single,label='actual')\n",
        "plt.plot(val_lstm_60_predict_result,label='prediction')\n",
        "plt.axhline(y=70,c='r',linestyle='--',linewidth=1)\n",
        "plt.axhline(y=180,c='r',linestyle='--',linewidth=1)\n",
        "plt.axhline(y=400,c='r',linestyle='--',linewidth=1)\n",
        "plt.text(len(val_lstm_60_predict_result),75,'Hypoglycemic Threshold',family='Times New Roman',size=15)\n",
        "plt.text(len(val_lstm_60_predict_result),185,'Hyperglycemic Threshold',family='Times New Roman',size=15)\n",
        "#plt.text(len(predict_result),75,'Hypoglycemic Threshold',family='Times New Roman',size=15)\n",
        "plt.text(-50,-1,df['Timestamp'][TRAIN_SPLIT],family='Times New Roman',fontweight='bold',size=17)\n",
        "plt.text(len(df['Timestamp'])-TRAIN_SPLIT-10,-1,df['Timestamp'][len(df['Timestamp'])-1],family='Times New Roman',fontweight='bold',size=17)\n",
        "plt.text(len(val_lstm_60_predict_result),405,'Too High ( Glucose value 400 + )',family='Times New Roman',size=15)\n",
        "plt.title('LSTM - Validation set (60min)',family='Times New Roman')\n",
        "plt.legend(loc='best')\n",
        "\n",
        "plt.show()"
      ],
      "execution_count": null,
      "outputs": []
    },
    {
      "cell_type": "markdown",
      "metadata": {
        "id": "5YQvSnDE2mbr"
      },
      "source": [
        "### Stacked LSTM - 60분"
      ]
    },
    {
      "cell_type": "code",
      "metadata": {
        "id": "FpYxgFnV2mbr"
      },
      "source": [
        "# 재현 가능한 결과를 만들기 위해 \n",
        "# 매번 반복해야 하는 작업 \n",
        "seed_num = 42\n",
        "random.seed(seed_num)\n",
        "np.random.seed(seed_num)\n",
        "tf.random.set_seed(seed_num)\n",
        "\n",
        "session_conf = tf.compat.v1.ConfigProto(intra_op_parallelism_threads=1,\n",
        "                             inter_op_parallelism_threads=1)\n",
        "sess=tf.compat.v1.Session(graph=tf.compat.v1.get_default_graph(),config=session_conf)\n",
        "K.set_session(sess)"
      ],
      "execution_count": null,
      "outputs": []
    },
    {
      "cell_type": "code",
      "metadata": {
        "id": "sxF9Hq7P2mbr"
      },
      "source": [
        "model = Sequential()\n",
        "model.add(LSTM(50,activation='relu',return_sequences=True,input_shape=x_train_single.shape[-2:]))\n",
        "model.add(LSTM(50,activation='relu'))\n",
        "model.add(Dense(1))\n",
        "model.compile(optimizer='adam',loss='mse')"
      ],
      "execution_count": null,
      "outputs": []
    },
    {
      "cell_type": "code",
      "metadata": {
        "id": "9LIzgZxP2mbr"
      },
      "source": [
        "model.fit(x_train_single,y_train_single,epochs=300,verbose=0)\n",
        "\n",
        "K.clear_session()"
      ],
      "execution_count": null,
      "outputs": []
    },
    {
      "cell_type": "code",
      "metadata": {
        "id": "6bqgizgL2mbs"
      },
      "source": [
        "val_slstm_60_predict_result = model.predict(x_val_single,verbose=0)\n",
        "\n",
        "\n",
        "for i in range(len(val_slstm_60_predict_result)):\n",
        "    if val_slstm_60_predict_result[i] >= 400: \n",
        "        val_slstm_60_predict_result[i]=400\n",
        "\n",
        "print(' Stacked LSTM - RMSE(15min) : ',RMSE(y_val_single,val_slstm_60_predict_result))\n",
        "val_stacklstm_60 =RMSE(y_val_single,val_slstm_60_predict_result)"
      ],
      "execution_count": null,
      "outputs": []
    },
    {
      "cell_type": "markdown",
      "metadata": {
        "id": "ohmkvZ5N2mbs"
      },
      "source": [
        "#### Validation"
      ]
    },
    {
      "cell_type": "code",
      "metadata": {
        "id": "7_v1yqd-2mbs"
      },
      "source": [
        "# 테스트셋\n",
        "plt.figure(figsize=(12,9))\n",
        "plt.plot(y_val_single,label='actual')\n",
        "plt.plot(val_slstm_60_predict_result,label='prediction')\n",
        "plt.axhline(y=70,c='r',linestyle='--',linewidth=1)\n",
        "plt.axhline(y=180,c='r',linestyle='--',linewidth=1)\n",
        "plt.axhline(y=400,c='r',linestyle='--',linewidth=1)\n",
        "plt.text(len(val_slstm_60_predict_result),75,'Hypoglycemic Threshold',family='Times New Roman',size=15)\n",
        "plt.text(len(val_slstm_60_predict_result),185,'Hyperglycemic Threshold',family='Times New Roman',size=15)\n",
        "#plt.text(len(predict_result),75,'Hypoglycemic Threshold',family='Times New Roman',size=15)\n",
        "plt.text(-50,-1,df['Timestamp'][TRAIN_SPLIT],family='Times New Roman',fontweight='bold',size=17)\n",
        "plt.text(len(df['Timestamp'])-TRAIN_SPLIT-10,-1,df['Timestamp'][len(df['Timestamp'])-1],family='Times New Roman',fontweight='bold',size=17)\n",
        "plt.text(len(val_slstm_60_predict_result),405,'Too High ( Glucose value 400 + )',family='Times New Roman',size=15)\n",
        "plt.title('Stacked LSTM - Validation set (60min)',family='Times New Roman')\n",
        "plt.legend(loc='best')\n",
        "\n",
        "plt.show()"
      ],
      "execution_count": null,
      "outputs": []
    },
    {
      "cell_type": "markdown",
      "metadata": {
        "id": "JRwnyxF82mbu"
      },
      "source": [
        "### Bidirectional LSTM - 60분"
      ]
    },
    {
      "cell_type": "code",
      "metadata": {
        "id": "cIQ6DtF02mbu"
      },
      "source": [
        "# 재현 가능한 결과를 만들기 위해 \n",
        "# 매번 반복해야 하는 작업 \n",
        "seed_num = 42\n",
        "random.seed(seed_num)\n",
        "np.random.seed(seed_num)\n",
        "tf.random.set_seed(seed_num)\n",
        "\n",
        "session_conf = tf.compat.v1.ConfigProto(intra_op_parallelism_threads=1,\n",
        "                             inter_op_parallelism_threads=1)\n",
        "sess=tf.compat.v1.Session(graph=tf.compat.v1.get_default_graph(),config=session_conf)\n",
        "K.set_session(sess)"
      ],
      "execution_count": null,
      "outputs": []
    },
    {
      "cell_type": "code",
      "metadata": {
        "id": "yWpMdUpv2mbu"
      },
      "source": [
        "from keras.layers import Bidirectional\n",
        "model = Sequential()\n",
        "model.add(Bidirectional(LSTM(50,activation='relu'),input_shape=x_train_single.shape[-2:]))\n",
        "model.add(Dense(1))\n",
        "model.compile(optimizer='adam',loss='mse',metrics=['accuracy'])"
      ],
      "execution_count": null,
      "outputs": []
    },
    {
      "cell_type": "code",
      "metadata": {
        "id": "4N19VpYE2mbu"
      },
      "source": [
        "model.fit(x_train_single,y_train_single,epochs=300,verbose=0)\n",
        "\n",
        "K.clear_session()"
      ],
      "execution_count": null,
      "outputs": []
    },
    {
      "cell_type": "code",
      "metadata": {
        "id": "ZvXAETPW2mbu"
      },
      "source": [
        "val_bilstm_60_predict_result = model.predict(x_val_single,verbose=0)\n",
        "\n",
        "for i in range(len(val_bilstm_60_predict_result)):\n",
        "    if val_bilstm_60_predict_result[i] >= 400: \n",
        "        val_bilstm_60_predict_result[i]=400\n",
        "\n",
        "print('Bidirectional LSTM - RMSE : ',RMSE(y_val_single,val_bilstm_60_predict_result))\n",
        "val_bilstm_60 = RMSE(y_val_single,val_bilstm_60_predict_result)"
      ],
      "execution_count": null,
      "outputs": []
    },
    {
      "cell_type": "markdown",
      "metadata": {
        "id": "6X4yoRfc2mbv"
      },
      "source": [
        "#### Validation"
      ]
    },
    {
      "cell_type": "code",
      "metadata": {
        "id": "k3F0ucuQ2mbv"
      },
      "source": [
        "# 테스트셋\n",
        "plt.figure(figsize=(12,9))\n",
        "plt.plot(y_val_single,label='actual')\n",
        "plt.plot(val_bilstm_60_predict_result,label='prediction')\n",
        "plt.axhline(y=70,c='r',linestyle='--',linewidth=1)\n",
        "plt.axhline(y=180,c='r',linestyle='--',linewidth=1)\n",
        "plt.axhline(y=400,c='r',linestyle='--',linewidth=1)\n",
        "plt.text(len(val_bilstm_60_predict_result),75,'Hypoglycemic Threshold',family='Times New Roman',size=15)\n",
        "plt.text(len(val_bilstm_60_predict_result),185,'Hyperglycemic Threshold',family='Times New Roman',size=15)\n",
        "#plt.text(len(predict_result),75,'Hypoglycemic Threshold',family='Times New Roman',size=15)\n",
        "plt.text(-50,-1,df['Timestamp'][TRAIN_SPLIT],family='Times New Roman',fontweight='bold',size=17)\n",
        "plt.text(len(df['Timestamp'])-TRAIN_SPLIT-10,-1,df['Timestamp'][len(df['Timestamp'])-1],family='Times New Roman',fontweight='bold',size=17)\n",
        "plt.text(len(val_bilstm_60_predict_result),405,'Too High ( Glucose value 400 + )',family='Times New Roman',size=15)\n",
        "plt.title('Bidirectional LSTM - Validation set (60min)',family='Times New Roman')\n",
        "plt.legend(loc='best')\n",
        "\n",
        "plt.show()"
      ],
      "execution_count": null,
      "outputs": []
    },
    {
      "cell_type": "markdown",
      "metadata": {
        "id": "0-Kms00e2mbv"
      },
      "source": [
        "### GRU - 60분"
      ]
    },
    {
      "cell_type": "code",
      "metadata": {
        "id": "0eaaTAZR2mbv"
      },
      "source": [
        "# 재현 가능한 결과를 만들기 위해 \n",
        "# 매번 반복해야 하는 작업 \n",
        "seed_num = 42\n",
        "random.seed(seed_num)\n",
        "np.random.seed(seed_num)\n",
        "tf.random.set_seed(seed_num)\n",
        "\n",
        "session_conf = tf.compat.v1.ConfigProto(intra_op_parallelism_threads=1,\n",
        "                             inter_op_parallelism_threads=1)\n",
        "sess=tf.compat.v1.Session(graph=tf.compat.v1.get_default_graph(),config=session_conf)\n",
        "K.set_session(sess)"
      ],
      "execution_count": null,
      "outputs": []
    },
    {
      "cell_type": "code",
      "metadata": {
        "id": "8MuFtZR62mbw"
      },
      "source": [
        "from keras.layers import GRU\n",
        "model = Sequential()\n",
        "model.add(GRU(50,activation='relu',input_shape=x_train_single.shape[-2:]))\n",
        "model.add(Dense(1))\n",
        "model.compile(optimizer='adam',loss='mse',metrics=['accuracy'])"
      ],
      "execution_count": null,
      "outputs": []
    },
    {
      "cell_type": "code",
      "metadata": {
        "id": "zqcb1JJd2mbw"
      },
      "source": [
        "model.summary()\n",
        "\n",
        "model.fit(x_train_single,y_train_single,epochs=300,verbose=0)\n",
        "\n",
        "K.clear_session()"
      ],
      "execution_count": null,
      "outputs": []
    },
    {
      "cell_type": "code",
      "metadata": {
        "id": "X1nj86k72mbw"
      },
      "source": [
        "val_gru_60_predict_result = model.predict(x_val_single,verbose=0)\n",
        "\n",
        "for i in range(len(val_gru_60_predict_result)):\n",
        "    if val_gru_60_predict_result[i] >= 400: \n",
        "        val_gru_60_predict_result[i]=400\n",
        "\n",
        "#predict_result\n",
        "\n",
        "#predict_result\n",
        "\n",
        "\n",
        "print('GRU - RMSE 15min : ',RMSE(y_val_single,val_gru_60_predict_result))\n",
        "val_gru_60 = RMSE(y_val_single,val_gru_60_predict_result)\n",
        "# 상한선 400일 때 RMSE - 38.30 \n",
        "# 상한선 400 X - 38.63"
      ],
      "execution_count": null,
      "outputs": []
    },
    {
      "cell_type": "markdown",
      "metadata": {
        "id": "qRQ03cC32mbx"
      },
      "source": [
        "#### Validation"
      ]
    },
    {
      "cell_type": "code",
      "metadata": {
        "id": "kIl1_uaM2mbx"
      },
      "source": [
        "# 테스트셋\n",
        "plt.figure(figsize=(12,9))\n",
        "plt.plot(y_val_single,label='actual')\n",
        "plt.plot(val_gru_60_predict_result,label='prediction')\n",
        "plt.axhline(y=70,c='r',linestyle='--',linewidth=1)\n",
        "plt.axhline(y=180,c='r',linestyle='--',linewidth=1)\n",
        "plt.axhline(y=400,c='r',linestyle='--',linewidth=1)\n",
        "plt.text(len(val_gru_60_predict_result),75,'Hypoglycemic Threshold',family='Times New Roman',size=15)\n",
        "plt.text(len(val_gru_60_predict_result),185,'Hyperglycemic Threshold',family='Times New Roman',size=15)\n",
        "#plt.text(len(predict_result),75,'Hypoglycemic Threshold',family='Times New Roman',size=15)\n",
        "plt.text(-50,-1,df['Timestamp'][TRAIN_SPLIT],family='Times New Roman',fontweight='bold',size=17)\n",
        "plt.text(len(df['Timestamp'])-TRAIN_SPLIT-10,-1,df['Timestamp'][len(df['Timestamp'])-1],family='Times New Roman',fontweight='bold',size=17)\n",
        "plt.text(len(val_gru_60_predict_result),405,'Too High ( Glucose value 400 + )',family='Times New Roman',size=15)\n",
        "plt.title('GRU - Validation set (60min)',family='Times New Roman')\n",
        "plt.legend(loc='best')\n",
        "\n",
        "plt.show()"
      ],
      "execution_count": null,
      "outputs": []
    },
    {
      "cell_type": "markdown",
      "metadata": {
        "id": "e3QiiSWFD7vg"
      },
      "source": [
        "### GA_60"
      ]
    },
    {
      "cell_type": "code",
      "metadata": {
        "id": "x18R_90bD-Ss"
      },
      "source": [
        "val_rnn_60_predict_result = np.asarray(val_rnn_60_predict_result)\n",
        "val_lstm_60_predict_result = np.asarray(val_lstm_60_predict_result)\n",
        "val_slstm_60_predict_result = np.asarray(val_slstm_60_predict_result)\n",
        "val_bilstm_60_predict_result = np.asarray(val_bilstm_60_predict_result)\n",
        "val_gru_60_predict_result = np.asarray(val_gru_60_predict_result)"
      ],
      "execution_count": null,
      "outputs": []
    },
    {
      "cell_type": "code",
      "metadata": {
        "id": "1xY8Uop4EGr-"
      },
      "source": [
        "def evaluate2(X):\n",
        "  pen = 0 \n",
        "  #coef = [0,0,0,0,0]\n",
        "  ab=0\n",
        "  result =0\n",
        "  #result2 = 0\n",
        "  #print(X)\n",
        "  if sum(X) > 0.99 and sum(X) < 1:\n",
        "    #print(\"\\n ** Count ** \")\n",
        "    #print(count)\n",
        "    #sum(coef)\n",
        "    #pen = 2000 - sum(list1 * coef[0] + list2 * coef[1] + # 400 = 혈당측정기에서 수집한 EGV의 최댓값이 400\n",
        "    #             list3 * coef[2] + list4 * coef[3] +\n",
        "    #             list5 * coef[4])\n",
        "    #RMSE(y_val_uni_origin,predict_result)\n",
        "    #result = mean_squared_error((y_val_uni_origin,(val_rnn_30_predict_result * X[0] + val_lstm_30_predict_result * X[1] +\n",
        "    #             val_slstm_30_predict_result * X[2] + val_bilstm_30_predict_result * X[3] +\n",
        "    #             val_gru_30_predict_result * X[4]))**0.5)\n",
        "   # ab = val_rnn_30_predict_result * X[0] + val_lstm_30_predict_result * X[1] +val_slstm_30_predict_result * X[2] + val_bilstm_30_predict_result * X[3] + val_gru_30_predict_result * X[4]\n",
        "   # print(\"\\n ** A ** \\n\")\n",
        "   # print(ab.shape)\n",
        "    result = 100 - np.sqrt(mean_squared_error(val_rnn_60_predict_result * X[0] + val_lstm_60_predict_result * X[1] +val_slstm_60_predict_result * X[2] + \n",
        "                                val_bilstm_60_predict_result * X[3] + val_gru_60_predict_result * X[4],y_val_single))\n",
        "    \n",
        "    #result = 10 - mean_squared_error(y_val_uni_origin,abc) / test_result \n",
        "    #result2=(test_result*5) - np.sqrt(result)\n",
        "    #test_result =  mean_squared_error(y_val_uni_origin,ex)\n",
        "    #test_result\n",
        "\n",
        "    #pen = RMSE(y_val_uni_origin,result)\n",
        "    #pen = 200 - np.sqrt(y_val_uni_origin,(val_rnn_15_predict_result * (X[0] / 10000) + val_lstm_15_predict_result * (X[1] / 10000) +\n",
        "    #             val_slstm_15_predict_result * (X[2] / 10000) + val_bilstm_15_predict_result * (X[3] / 10000) +\n",
        "    #             val_gru_15_predict_result * (X[4] / 10000)))\n",
        "    # np.sqrt(mean_squared_error(y_test,y_predict))\n",
        "    print(\"\\n ** B ** \\n\")\n",
        "    print(X)\n",
        "    #print()\n",
        "    print(\"\\n ** C ** \\n\")\n",
        "    print(result)\n",
        "  #return np.sum(X) + pen\n",
        "    #count += 1 \n",
        "  return -result\n",
        "    \n",
        "    "
      ],
      "execution_count": null,
      "outputs": []
    },
    {
      "cell_type": "code",
      "metadata": {
        "id": "-tDsDF6rEaWi"
      },
      "source": [
        "varbound2 = np.array([[0.05, 0.5]]*5)"
      ],
      "execution_count": null,
      "outputs": []
    },
    {
      "cell_type": "code",
      "metadata": {
        "id": "VNMRUYFFEa0P"
      },
      "source": [
        "algorithm_param = {'max_num_iteration': 25000,\n",
        "                   'population_size':100,\n",
        "                   'mutation_probability':0.1,\n",
        "                   'elit_ratio': 0.01,\n",
        "                   'crossover_probability': 0.5,\n",
        "                   'parents_portion': 0.3,\n",
        "                   'crossover_type':'uniform',\n",
        "                   'selection_type': 'roulette',\n",
        "                   'max_iteration_without_improv':None}"
      ],
      "execution_count": null,
      "outputs": []
    },
    {
      "cell_type": "code",
      "metadata": {
        "id": "iXGm2rCHEcxa"
      },
      "source": [
        "model3 = ga(function = evaluate2, dimension = 5, variable_type='real',variable_boundaries=varbound2,algorithm_parameters = algorithm_param)"
      ],
      "execution_count": null,
      "outputs": []
    },
    {
      "cell_type": "code",
      "metadata": {
        "id": "uflgKN0hEfQH"
      },
      "source": [
        "model3.run()"
      ],
      "execution_count": null,
      "outputs": []
    },
    {
      "cell_type": "code",
      "metadata": {
        "id": "1Z6a32VSEjcb"
      },
      "source": [
        "# RMSE \n",
        "optimized = val_rnn_60_predict_result * model3.output_dict['variable'][0] + val_lstm_60_predict_result *model3.output_dict['variable'][1] + val_slstm_60_predict_result * model3.output_dict['variable'][2] + val_bilstm_60_predict_result * model3.output_dict['variable'][3] + val_gru_60_predict_result * model3.output_dict['variable'][4]\n",
        "optimized_rmse_60 =  RMSE(y_val_single,optimized)\n",
        "optimized_rmse_60"
      ],
      "execution_count": null,
      "outputs": []
    },
    {
      "cell_type": "markdown",
      "metadata": {
        "id": "i4zpTid42mbx"
      },
      "source": [
        "## 결과"
      ]
    },
    {
      "cell_type": "code",
      "metadata": {
        "id": "yPwSOZLC2mbx"
      },
      "source": [
        "#train_15_result = [train_rnn_15,train_lstm_15,train_stacklstm_15,train_bilstm_15,train_gru_15]\n",
        "val_15_result =[val_rnn_15,val_lstm_15,val_stacklstm_15,val_bilstm_15,val_gru_15,optimized_rmse_15]\n",
        "#train_30_result = [train_rnn_30,train_lstm_30,train_stacklstm_30,train_bilstm_30,train_gru_30]\n",
        "val_30_result =[val_rnn_30,val_lstm_30,val_stacklstm_30,val_bilstm_30,val_gru_30,optimized_rmse_30]\n",
        "#train_60_result = [train_rnn_60,train_lstm_60,train_stacklstm_60,train_bilstm_60,train_gru_60]\n",
        "val_60_result =[val_rnn_60,val_lstm_60,val_stacklstm_60,val_bilstm_60,val_gru_60,optimized_rmse_60]\n"
      ],
      "execution_count": null,
      "outputs": []
    },
    {
      "cell_type": "code",
      "metadata": {
        "id": "qnK2TkBx2mbx"
      },
      "source": [
        "val_rnn_result = [val_rnn_15,val_rnn_30,val_rnn_60]\n",
        "val_lstm_result = [val_lstm_15,val_lstm_30,val_lstm_60]\n",
        "val_stacklstm_result = [val_stacklstm_15,val_stacklstm_30,val_stacklstm_60]\n",
        "val_bilstm_result = [val_bilstm_15,val_bilstm_30,val_bilstm_60]\n",
        "val_gru_result = [val_gru_15,val_gru_30,val_gru_60]\n",
        "val_optimized_result = [optimized_rmse_15,optimized_rmse_30,optimized_rmse_60]"
      ],
      "execution_count": null,
      "outputs": []
    },
    {
      "cell_type": "code",
      "metadata": {
        "id": "6HqdhqEo2mby"
      },
      "source": [
        "#train_rnn_result = [train_rnn_15,train_rnn_30,train_rnn_60]\n",
        "#train_lstm_result = [train_lstm_15,train_lstm_30,train_lstm_60]\n",
        "#train_stacklstm_result = [train_stacklstm_15,train_stacklstm_30,train_stacklstm_60]\n",
        "#train_bilstm_result = [train_bilstm_15,train_bilstm_30,train_bilstm_60]\n",
        "#train_gru_result = [train_gru_15,train_gru_30,train_gru_60]"
      ],
      "execution_count": null,
      "outputs": []
    },
    {
      "cell_type": "code",
      "metadata": {
        "id": "9-76zOsH2mby"
      },
      "source": [
        "#train_result_list =[train_rnn_result,train_lstm_result,train_stacklstm_result,train_bilstm_result,train_gru_result]"
      ],
      "execution_count": null,
      "outputs": []
    },
    {
      "cell_type": "code",
      "metadata": {
        "id": "0enhTihY2mby"
      },
      "source": [
        "val_result_list =[val_rnn_result,val_lstm_result,val_stacklstm_result,val_bilstm_result,val_gru_result,val_optimized_result]"
      ],
      "execution_count": null,
      "outputs": []
    },
    {
      "cell_type": "code",
      "metadata": {
        "id": "7eQgjrOv2mby"
      },
      "source": [
        "val_result_list"
      ],
      "execution_count": null,
      "outputs": []
    },
    {
      "cell_type": "code",
      "metadata": {
        "id": "lvslMRk32mby"
      },
      "source": [
        "val_df = pd.DataFrame(index=['RNN','LSTM','Stacked LSTM','Bidirectional LSTM','GRU','Optimized'], \n",
        "                      columns =['15 MIN','30 MIN','60 MIN'],data=val_result_list)\n",
        "val_df"
      ],
      "execution_count": null,
      "outputs": []
    },
    {
      "cell_type": "code",
      "metadata": {
        "id": "jyTGH4X92mby"
      },
      "source": [
        "#train_df = pd.DataFrame(index=['RNN','LSTM','Stacked LSTM','Bidirectional LSTM','GRU'], \n",
        "#                      columns =['15 MIN','30 MIN','60 MIN'],data=train_result_list)\n",
        "#train_df"
      ],
      "execution_count": null,
      "outputs": []
    },
    {
      "cell_type": "code",
      "metadata": {
        "id": "tpGfy8yo2mby"
      },
      "source": [
        ""
      ],
      "execution_count": null,
      "outputs": []
    },
    {
      "cell_type": "markdown",
      "metadata": {
        "id": "oxfWQpk92mby"
      },
      "source": [
        "## CNN LSTM"
      ]
    },
    {
      "cell_type": "code",
      "metadata": {
        "id": "i5vr48Zm2mby"
      },
      "source": [
        ""
      ],
      "execution_count": null,
      "outputs": []
    }
  ]
}