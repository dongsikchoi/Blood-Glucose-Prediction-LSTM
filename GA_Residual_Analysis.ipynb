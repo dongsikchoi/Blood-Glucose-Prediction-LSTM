{
  "nbformat": 4,
  "nbformat_minor": 0,
  "metadata": {
    "colab": {
      "name": "BG_Prediction_GeneticAlgorithm_0315_from1.ipynb",
      "provenance": [],
      "collapsed_sections": [],
      "toc_visible": true
    },
    "kernelspec": {
      "display_name": "Python 3",
      "language": "python",
      "name": "python3"
    },
    "language_info": {
      "codemirror_mode": {
        "name": "ipython",
        "version": 3
      },
      "file_extension": ".py",
      "mimetype": "text/x-python",
      "name": "python",
      "nbconvert_exporter": "python",
      "pygments_lexer": "ipython3",
      "version": "3.8.3"
    },
    "toc": {
      "base_numbering": 1,
      "nav_menu": {},
      "number_sections": true,
      "sideBar": true,
      "skip_h1_title": false,
      "title_cell": "Table of Contents",
      "title_sidebar": "Contents",
      "toc_cell": false,
      "toc_position": {
        "height": "837px",
        "left": "26px",
        "top": "92px",
        "width": "385px"
      },
      "toc_section_display": true,
      "toc_window_display": true
    },
    "varInspector": {
      "cols": {
        "lenName": 16,
        "lenType": 16,
        "lenVar": 40
      },
      "kernels_config": {
        "python": {
          "delete_cmd_postfix": "",
          "delete_cmd_prefix": "del ",
          "library": "var_list.py",
          "varRefreshCmd": "print(var_dic_list())"
        },
        "r": {
          "delete_cmd_postfix": ") ",
          "delete_cmd_prefix": "rm(",
          "library": "var_list.r",
          "varRefreshCmd": "cat(var_dic_list()) "
        }
      },
      "position": {
        "height": "592px",
        "left": "1521px",
        "right": "20px",
        "top": "128px",
        "width": "401px"
      },
      "types_to_exclude": [
        "module",
        "function",
        "builtin_function_or_method",
        "instance",
        "_Feature"
      ],
      "window_display": false
    }
  },
  "cells": [
    {
      "cell_type": "markdown",
      "metadata": {
        "id": "view-in-github"
      },
      "source": [
        "<a href=\"https://colab.research.google.com/github/dongsikchoi/ML_Time-Series_EDA/blob/master/BG_Prediction_Univariate_Filter_X_01_25.ipynb\" target=\"_parent\"><img src=\"https://colab.research.google.com/assets/colab-badge.svg\" alt=\"Open In Colab\"/></a>"
      ]
    },
    {
      "cell_type": "markdown",
      "metadata": {
        "id": "lx196wNwq9qn"
      },
      "source": [
        "### 필요 라이브러리 로드"
      ]
    },
    {
      "cell_type": "code",
      "metadata": {
        "id": "-7Ts1kTdq9qr"
      },
      "source": [
        "import warnings\n",
        "import itertools\n",
        "import numpy as np\n",
        "import matplotlib.pyplot as plt\n",
        "warnings.filterwarnings(\"ignore\")\n",
        "plt.style.use('fivethirtyeight')\n",
        "import pandas as pd\n",
        "import statsmodels.api as sm\n",
        "import matplotlib\n",
        "\n",
        "matplotlib.rcParams['axes.labelsize']=14\n",
        "matplotlib.rcParams['xtick.labelsize']=12\n",
        "matplotlib.rcParams['ytick.labelsize']=12\n",
        "matplotlib.rcParams['text.color']='k'"
      ],
      "execution_count": 1,
      "outputs": []
    },
    {
      "cell_type": "code",
      "metadata": {
        "id": "0mabAlWoq-4v"
      },
      "source": [
        "# Colab\n",
        "#from google.colab import auth\n",
        "#auth.authenticate_user()"
      ],
      "execution_count": 2,
      "outputs": []
    },
    {
      "cell_type": "code",
      "metadata": {
        "colab": {
          "base_uri": "https://localhost:8080/"
        },
        "id": "YMukYC78rI9D",
        "outputId": "b3ed948e-16fc-4fe2-a938-22094d4d8181"
      },
      "source": [
        "from google.colab import drive\n",
        "drive.mount('/content/drive')"
      ],
      "execution_count": 3,
      "outputs": [
        {
          "output_type": "stream",
          "text": [
            "Drive already mounted at /content/drive; to attempt to forcibly remount, call drive.mount(\"/content/drive\", force_remount=True).\n"
          ],
          "name": "stdout"
        }
      ]
    },
    {
      "cell_type": "code",
      "metadata": {
        "id": "v-JGa4Mfq9qs"
      },
      "source": [
        "pd.set_option('display.max_columns',500) \n",
        "#출력시 생략 X"
      ],
      "execution_count": 4,
      "outputs": []
    },
    {
      "cell_type": "markdown",
      "metadata": {
        "id": "1DTmoDOkq9qs"
      },
      "source": [
        "### 데이터셋 설정 "
      ]
    },
    {
      "cell_type": "code",
      "metadata": {
        "id": "2iPg6upoq9qt"
      },
      "source": [
        "#df=pd.read_excel(\"BG_Dataset/BG_Sample55.xlsx\")"
      ],
      "execution_count": 5,
      "outputs": []
    },
    {
      "cell_type": "code",
      "metadata": {
        "id": "mvp2qFY6rUd3"
      },
      "source": [
        "# Colab\n",
        "df = pd.read_excel(\"/content/drive/MyDrive/BG_Dataset/BG_Sample41.xlsx\")\n",
        "#df = pd.read_csv(\"/content/drive/MyDrive/BG_Dataset/BG_Sample46.csv\")\n"
      ],
      "execution_count": 6,
      "outputs": []
    },
    {
      "cell_type": "code",
      "metadata": {
        "colab": {
          "base_uri": "https://localhost:8080/"
        },
        "id": "WR0-r_OUq9qt",
        "outputId": "bacf214f-f6cb-4370-aea7-2b9ae4f4ef81"
      },
      "source": [
        "df.shape"
      ],
      "execution_count": 7,
      "outputs": [
        {
          "output_type": "execute_result",
          "data": {
            "text/plain": [
              "(1947, 14)"
            ]
          },
          "metadata": {
            "tags": []
          },
          "execution_count": 7
        }
      ]
    },
    {
      "cell_type": "code",
      "metadata": {
        "colab": {
          "base_uri": "https://localhost:8080/",
          "height": 452
        },
        "id": "NUfEWB3Oq9qu",
        "outputId": "c725a5d0-11a5-418f-bd93-e5276f6b1069"
      },
      "source": [
        "df.head(13)"
      ],
      "execution_count": 8,
      "outputs": [
        {
          "output_type": "execute_result",
          "data": {
            "text/html": [
              "<div>\n",
              "<style scoped>\n",
              "    .dataframe tbody tr th:only-of-type {\n",
              "        vertical-align: middle;\n",
              "    }\n",
              "\n",
              "    .dataframe tbody tr th {\n",
              "        vertical-align: top;\n",
              "    }\n",
              "\n",
              "    .dataframe thead th {\n",
              "        text-align: right;\n",
              "    }\n",
              "</style>\n",
              "<table border=\"1\" class=\"dataframe\">\n",
              "  <thead>\n",
              "    <tr style=\"text-align: right;\">\n",
              "      <th></th>\n",
              "      <th>색인</th>\n",
              "      <th>타임스탬프(YYYY-MM-DDThh:mm:ss)</th>\n",
              "      <th>이벤트 유형</th>\n",
              "      <th>이벤트 하위 유형</th>\n",
              "      <th>환자 정보</th>\n",
              "      <th>장치 정보</th>\n",
              "      <th>소스 장치 ID</th>\n",
              "      <th>포도당 값 (mg/dL)</th>\n",
              "      <th>인슐린 값(u)</th>\n",
              "      <th>탄수화물 값 (그램)</th>\n",
              "      <th>기간(hh:mm:ss)</th>\n",
              "      <th>포도당 변화율 (mg/dL/min)</th>\n",
              "      <th>트랜스미터 시간 (배장 정수)</th>\n",
              "      <th>트랜스미터 ID</th>\n",
              "    </tr>\n",
              "  </thead>\n",
              "  <tbody>\n",
              "    <tr>\n",
              "      <th>0</th>\n",
              "      <td>1</td>\n",
              "      <td>NaN</td>\n",
              "      <td>이름</td>\n",
              "      <td>NaN</td>\n",
              "      <td>sch</td>\n",
              "      <td>NaN</td>\n",
              "      <td>NaN</td>\n",
              "      <td>NaN</td>\n",
              "      <td>NaN</td>\n",
              "      <td>NaN</td>\n",
              "      <td>NaN</td>\n",
              "      <td>NaN</td>\n",
              "      <td>NaN</td>\n",
              "      <td>NaN</td>\n",
              "    </tr>\n",
              "    <tr>\n",
              "      <th>1</th>\n",
              "      <td>2</td>\n",
              "      <td>NaN</td>\n",
              "      <td>성</td>\n",
              "      <td>NaN</td>\n",
              "      <td>s</td>\n",
              "      <td>NaN</td>\n",
              "      <td>NaN</td>\n",
              "      <td>NaN</td>\n",
              "      <td>NaN</td>\n",
              "      <td>NaN</td>\n",
              "      <td>NaN</td>\n",
              "      <td>NaN</td>\n",
              "      <td>NaN</td>\n",
              "      <td>NaN</td>\n",
              "    </tr>\n",
              "    <tr>\n",
              "      <th>2</th>\n",
              "      <td>3</td>\n",
              "      <td>NaN</td>\n",
              "      <td>생년월일</td>\n",
              "      <td>NaN</td>\n",
              "      <td>1990-01-01 00:00:00</td>\n",
              "      <td>NaN</td>\n",
              "      <td>NaN</td>\n",
              "      <td>NaN</td>\n",
              "      <td>NaN</td>\n",
              "      <td>NaN</td>\n",
              "      <td>NaN</td>\n",
              "      <td>NaN</td>\n",
              "      <td>NaN</td>\n",
              "      <td>NaN</td>\n",
              "    </tr>\n",
              "    <tr>\n",
              "      <th>3</th>\n",
              "      <td>4</td>\n",
              "      <td>NaN</td>\n",
              "      <td>장치</td>\n",
              "      <td>NaN</td>\n",
              "      <td>NaN</td>\n",
              "      <td>Dexcom G5 Mobile App</td>\n",
              "      <td>Android</td>\n",
              "      <td>NaN</td>\n",
              "      <td>NaN</td>\n",
              "      <td>NaN</td>\n",
              "      <td>NaN</td>\n",
              "      <td>NaN</td>\n",
              "      <td>NaN</td>\n",
              "      <td>NaN</td>\n",
              "    </tr>\n",
              "    <tr>\n",
              "      <th>4</th>\n",
              "      <td>5</td>\n",
              "      <td>NaN</td>\n",
              "      <td>경고</td>\n",
              "      <td>하락</td>\n",
              "      <td>NaN</td>\n",
              "      <td>NaN</td>\n",
              "      <td>Android</td>\n",
              "      <td>NaN</td>\n",
              "      <td>NaN</td>\n",
              "      <td>NaN</td>\n",
              "      <td>NaN</td>\n",
              "      <td>3.0</td>\n",
              "      <td>NaN</td>\n",
              "      <td>NaN</td>\n",
              "    </tr>\n",
              "    <tr>\n",
              "      <th>5</th>\n",
              "      <td>6</td>\n",
              "      <td>NaN</td>\n",
              "      <td>경고</td>\n",
              "      <td>높음</td>\n",
              "      <td>NaN</td>\n",
              "      <td>NaN</td>\n",
              "      <td>Android</td>\n",
              "      <td>400.0</td>\n",
              "      <td>NaN</td>\n",
              "      <td>NaN</td>\n",
              "      <td>NaN</td>\n",
              "      <td>NaN</td>\n",
              "      <td>NaN</td>\n",
              "      <td>NaN</td>\n",
              "    </tr>\n",
              "    <tr>\n",
              "      <th>6</th>\n",
              "      <td>7</td>\n",
              "      <td>NaN</td>\n",
              "      <td>경고</td>\n",
              "      <td>낮음</td>\n",
              "      <td>NaN</td>\n",
              "      <td>NaN</td>\n",
              "      <td>Android</td>\n",
              "      <td>75.0</td>\n",
              "      <td>NaN</td>\n",
              "      <td>NaN</td>\n",
              "      <td>NaN</td>\n",
              "      <td>NaN</td>\n",
              "      <td>NaN</td>\n",
              "      <td>NaN</td>\n",
              "    </tr>\n",
              "    <tr>\n",
              "      <th>7</th>\n",
              "      <td>8</td>\n",
              "      <td>NaN</td>\n",
              "      <td>경고</td>\n",
              "      <td>신호 손실</td>\n",
              "      <td>NaN</td>\n",
              "      <td>NaN</td>\n",
              "      <td>Android</td>\n",
              "      <td>NaN</td>\n",
              "      <td>NaN</td>\n",
              "      <td>NaN</td>\n",
              "      <td>00:30:00</td>\n",
              "      <td>NaN</td>\n",
              "      <td>NaN</td>\n",
              "      <td>NaN</td>\n",
              "    </tr>\n",
              "    <tr>\n",
              "      <th>8</th>\n",
              "      <td>9</td>\n",
              "      <td>NaN</td>\n",
              "      <td>경고</td>\n",
              "      <td>상승</td>\n",
              "      <td>NaN</td>\n",
              "      <td>NaN</td>\n",
              "      <td>Android</td>\n",
              "      <td>NaN</td>\n",
              "      <td>NaN</td>\n",
              "      <td>NaN</td>\n",
              "      <td>NaN</td>\n",
              "      <td>3.0</td>\n",
              "      <td>NaN</td>\n",
              "      <td>NaN</td>\n",
              "    </tr>\n",
              "    <tr>\n",
              "      <th>9</th>\n",
              "      <td>10</td>\n",
              "      <td>NaN</td>\n",
              "      <td>경고</td>\n",
              "      <td>긴급하게 낮음</td>\n",
              "      <td>NaN</td>\n",
              "      <td>NaN</td>\n",
              "      <td>Android</td>\n",
              "      <td>55.0</td>\n",
              "      <td>NaN</td>\n",
              "      <td>NaN</td>\n",
              "      <td>NaN</td>\n",
              "      <td>NaN</td>\n",
              "      <td>NaN</td>\n",
              "      <td>NaN</td>\n",
              "    </tr>\n",
              "    <tr>\n",
              "      <th>10</th>\n",
              "      <td>11</td>\n",
              "      <td>2020-10-23T11:17:46</td>\n",
              "      <td>교정</td>\n",
              "      <td>NaN</td>\n",
              "      <td>NaN</td>\n",
              "      <td>NaN</td>\n",
              "      <td>Android</td>\n",
              "      <td>182.0</td>\n",
              "      <td>NaN</td>\n",
              "      <td>NaN</td>\n",
              "      <td>NaN</td>\n",
              "      <td>NaN</td>\n",
              "      <td>NaN</td>\n",
              "      <td>42J400</td>\n",
              "    </tr>\n",
              "    <tr>\n",
              "      <th>11</th>\n",
              "      <td>12</td>\n",
              "      <td>2020-10-23T11:21:27</td>\n",
              "      <td>교정</td>\n",
              "      <td>NaN</td>\n",
              "      <td>NaN</td>\n",
              "      <td>NaN</td>\n",
              "      <td>Android</td>\n",
              "      <td>195.0</td>\n",
              "      <td>NaN</td>\n",
              "      <td>NaN</td>\n",
              "      <td>NaN</td>\n",
              "      <td>NaN</td>\n",
              "      <td>NaN</td>\n",
              "      <td>42J400</td>\n",
              "    </tr>\n",
              "    <tr>\n",
              "      <th>12</th>\n",
              "      <td>13</td>\n",
              "      <td>2020-10-23T11:21:30</td>\n",
              "      <td>EGV</td>\n",
              "      <td>NaN</td>\n",
              "      <td>NaN</td>\n",
              "      <td>NaN</td>\n",
              "      <td>Android</td>\n",
              "      <td>184.0</td>\n",
              "      <td>NaN</td>\n",
              "      <td>NaN</td>\n",
              "      <td>NaN</td>\n",
              "      <td>NaN</td>\n",
              "      <td>7808.0</td>\n",
              "      <td>42J400</td>\n",
              "    </tr>\n",
              "  </tbody>\n",
              "</table>\n",
              "</div>"
            ],
            "text/plain": [
              "    색인 타임스탬프(YYYY-MM-DDThh:mm:ss) 이벤트 유형 이벤트 하위 유형                환자 정보  \\\n",
              "0    1                        NaN     이름       NaN                  sch   \n",
              "1    2                        NaN      성       NaN                    s   \n",
              "2    3                        NaN   생년월일       NaN  1990-01-01 00:00:00   \n",
              "3    4                        NaN     장치       NaN                  NaN   \n",
              "4    5                        NaN     경고        하락                  NaN   \n",
              "5    6                        NaN     경고        높음                  NaN   \n",
              "6    7                        NaN     경고        낮음                  NaN   \n",
              "7    8                        NaN     경고     신호 손실                  NaN   \n",
              "8    9                        NaN     경고        상승                  NaN   \n",
              "9   10                        NaN     경고   긴급하게 낮음                  NaN   \n",
              "10  11        2020-10-23T11:17:46     교정       NaN                  NaN   \n",
              "11  12        2020-10-23T11:21:27     교정       NaN                  NaN   \n",
              "12  13        2020-10-23T11:21:30    EGV       NaN                  NaN   \n",
              "\n",
              "                   장치 정보 소스 장치 ID  포도당 값 (mg/dL)  인슐린 값(u)  탄수화물 값 (그램)  \\\n",
              "0                    NaN      NaN            NaN       NaN          NaN   \n",
              "1                    NaN      NaN            NaN       NaN          NaN   \n",
              "2                    NaN      NaN            NaN       NaN          NaN   \n",
              "3   Dexcom G5 Mobile App  Android            NaN       NaN          NaN   \n",
              "4                    NaN  Android            NaN       NaN          NaN   \n",
              "5                    NaN  Android          400.0       NaN          NaN   \n",
              "6                    NaN  Android           75.0       NaN          NaN   \n",
              "7                    NaN  Android            NaN       NaN          NaN   \n",
              "8                    NaN  Android            NaN       NaN          NaN   \n",
              "9                    NaN  Android           55.0       NaN          NaN   \n",
              "10                   NaN  Android          182.0       NaN          NaN   \n",
              "11                   NaN  Android          195.0       NaN          NaN   \n",
              "12                   NaN  Android          184.0       NaN          NaN   \n",
              "\n",
              "   기간(hh:mm:ss)  포도당 변화율 (mg/dL/min)  트랜스미터 시간 (배장 정수) 트랜스미터 ID  \n",
              "0           NaN                  NaN               NaN      NaN  \n",
              "1           NaN                  NaN               NaN      NaN  \n",
              "2           NaN                  NaN               NaN      NaN  \n",
              "3           NaN                  NaN               NaN      NaN  \n",
              "4           NaN                  3.0               NaN      NaN  \n",
              "5           NaN                  NaN               NaN      NaN  \n",
              "6           NaN                  NaN               NaN      NaN  \n",
              "7      00:30:00                  NaN               NaN      NaN  \n",
              "8           NaN                  3.0               NaN      NaN  \n",
              "9           NaN                  NaN               NaN      NaN  \n",
              "10          NaN                  NaN               NaN   42J400  \n",
              "11          NaN                  NaN               NaN   42J400  \n",
              "12          NaN                  NaN            7808.0   42J400  "
            ]
          },
          "metadata": {
            "tags": []
          },
          "execution_count": 8
        }
      ]
    },
    {
      "cell_type": "code",
      "metadata": {
        "id": "ffJCYqbfq9qu"
      },
      "source": [
        "#필요없는 열 제거\n",
        "cols = ['색인', '이벤트 하위 유형', '환자 정보', '장치 정보', '소스 장치 ID', '기간(hh:mm:ss)', '포도당 변화율 (mg/dL/min)', '트랜스미터 시간 (배장 정수)', '트랜스미터 ID']\n",
        "df.drop(cols, axis=1, inplace=True)\n"
      ],
      "execution_count": 9,
      "outputs": []
    },
    {
      "cell_type": "code",
      "metadata": {
        "id": "zBXR3xmWq9qu"
      },
      "source": [
        "df=df.rename({'타임스탬프(YYYY-MM-DDThh:mm:ss)':'Timestamp','포도당 값 (mg/dL)':'Glucose','이벤트 유형':'Event',\n",
        "             '인슐린 값(u)':'Insulin','탄수화물 값 (그램)':'Meal'},axis='columns')"
      ],
      "execution_count": 10,
      "outputs": []
    },
    {
      "cell_type": "code",
      "metadata": {
        "colab": {
          "base_uri": "https://localhost:8080/"
        },
        "id": "P1FIKbkoq9qv",
        "outputId": "e0041e8f-3027-4464-ee3c-038c1857866e"
      },
      "source": [
        "df['Event'].value_counts()"
      ],
      "execution_count": 11,
      "outputs": [
        {
          "output_type": "execute_result",
          "data": {
            "text/plain": [
              "EGV     1923\n",
              "교정        12\n",
              "경고         6\n",
              "탄수화물       2\n",
              "장치         1\n",
              "성          1\n",
              "생년월일       1\n",
              "이름         1\n",
              "Name: Event, dtype: int64"
            ]
          },
          "metadata": {
            "tags": []
          },
          "execution_count": 11
        }
      ]
    },
    {
      "cell_type": "code",
      "metadata": {
        "colab": {
          "base_uri": "https://localhost:8080/"
        },
        "id": "O09mun7lq9qv",
        "outputId": "50b3c0aa-3625-48bf-a6b4-964ed4663655"
      },
      "source": [
        "df['Glucose'].value_counts()"
      ],
      "execution_count": 12,
      "outputs": [
        {
          "output_type": "execute_result",
          "data": {
            "text/plain": [
              "165.0    34\n",
              "169.0    34\n",
              "161.0    31\n",
              "171.0    31\n",
              "166.0    31\n",
              "         ..\n",
              "267.0     1\n",
              "264.0     1\n",
              "117.0     1\n",
              "128.0     1\n",
              "400.0     1\n",
              "Name: Glucose, Length: 169, dtype: int64"
            ]
          },
          "metadata": {
            "tags": []
          },
          "execution_count": 12
        }
      ]
    },
    {
      "cell_type": "code",
      "metadata": {
        "colab": {
          "base_uri": "https://localhost:8080/",
          "height": 204
        },
        "id": "ptjIo4sYq9qv",
        "outputId": "bbc55b90-ef5e-4868-9e26-3dcece6817ca"
      },
      "source": [
        "df.tail()"
      ],
      "execution_count": 13,
      "outputs": [
        {
          "output_type": "execute_result",
          "data": {
            "text/html": [
              "<div>\n",
              "<style scoped>\n",
              "    .dataframe tbody tr th:only-of-type {\n",
              "        vertical-align: middle;\n",
              "    }\n",
              "\n",
              "    .dataframe tbody tr th {\n",
              "        vertical-align: top;\n",
              "    }\n",
              "\n",
              "    .dataframe thead th {\n",
              "        text-align: right;\n",
              "    }\n",
              "</style>\n",
              "<table border=\"1\" class=\"dataframe\">\n",
              "  <thead>\n",
              "    <tr style=\"text-align: right;\">\n",
              "      <th></th>\n",
              "      <th>Timestamp</th>\n",
              "      <th>Event</th>\n",
              "      <th>Glucose</th>\n",
              "      <th>Insulin</th>\n",
              "      <th>Meal</th>\n",
              "    </tr>\n",
              "  </thead>\n",
              "  <tbody>\n",
              "    <tr>\n",
              "      <th>1942</th>\n",
              "      <td>2020-10-30T08:21:09</td>\n",
              "      <td>EGV</td>\n",
              "      <td>192.0</td>\n",
              "      <td>NaN</td>\n",
              "      <td>NaN</td>\n",
              "    </tr>\n",
              "    <tr>\n",
              "      <th>1943</th>\n",
              "      <td>2020-10-30T08:26:09</td>\n",
              "      <td>EGV</td>\n",
              "      <td>193.0</td>\n",
              "      <td>NaN</td>\n",
              "      <td>NaN</td>\n",
              "    </tr>\n",
              "    <tr>\n",
              "      <th>1944</th>\n",
              "      <td>2020-10-30T08:31:09</td>\n",
              "      <td>EGV</td>\n",
              "      <td>195.0</td>\n",
              "      <td>NaN</td>\n",
              "      <td>NaN</td>\n",
              "    </tr>\n",
              "    <tr>\n",
              "      <th>1945</th>\n",
              "      <td>2020-10-30T08:36:09</td>\n",
              "      <td>EGV</td>\n",
              "      <td>195.0</td>\n",
              "      <td>NaN</td>\n",
              "      <td>NaN</td>\n",
              "    </tr>\n",
              "    <tr>\n",
              "      <th>1946</th>\n",
              "      <td>2020-10-30T08:41:08</td>\n",
              "      <td>EGV</td>\n",
              "      <td>191.0</td>\n",
              "      <td>NaN</td>\n",
              "      <td>NaN</td>\n",
              "    </tr>\n",
              "  </tbody>\n",
              "</table>\n",
              "</div>"
            ],
            "text/plain": [
              "                Timestamp Event  Glucose  Insulin  Meal\n",
              "1942  2020-10-30T08:21:09   EGV    192.0      NaN   NaN\n",
              "1943  2020-10-30T08:26:09   EGV    193.0      NaN   NaN\n",
              "1944  2020-10-30T08:31:09   EGV    195.0      NaN   NaN\n",
              "1945  2020-10-30T08:36:09   EGV    195.0      NaN   NaN\n",
              "1946  2020-10-30T08:41:08   EGV    191.0      NaN   NaN"
            ]
          },
          "metadata": {
            "tags": []
          },
          "execution_count": 13
        }
      ]
    },
    {
      "cell_type": "code",
      "metadata": {
        "colab": {
          "base_uri": "https://localhost:8080/"
        },
        "id": "37jYwbU0q9qv",
        "outputId": "e63b4729-0798-424d-f422-8c20d9e9666d"
      },
      "source": [
        "# 인슐린 투여횟수\n",
        "df['Insulin'].value_counts()"
      ],
      "execution_count": 14,
      "outputs": [
        {
          "output_type": "execute_result",
          "data": {
            "text/plain": [
              "Series([], Name: Insulin, dtype: int64)"
            ]
          },
          "metadata": {
            "tags": []
          },
          "execution_count": 14
        }
      ]
    },
    {
      "cell_type": "code",
      "metadata": {
        "colab": {
          "base_uri": "https://localhost:8080/"
        },
        "id": "LmVKw59bq9qv",
        "outputId": "26fa8a2e-84c8-40ca-d309-e10b194e87bf"
      },
      "source": [
        "# 식사 횟수\n",
        "df['Meal'].value_counts()"
      ],
      "execution_count": 15,
      "outputs": [
        {
          "output_type": "execute_result",
          "data": {
            "text/plain": [
              "0.0    2\n",
              "Name: Meal, dtype: int64"
            ]
          },
          "metadata": {
            "tags": []
          },
          "execution_count": 15
        }
      ]
    },
    {
      "cell_type": "code",
      "metadata": {
        "colab": {
          "base_uri": "https://localhost:8080/",
          "height": 514
        },
        "id": "lMmVyYYcq9qw",
        "outputId": "29866036-46c6-4f75-9623-e8d831ee21cb"
      },
      "source": [
        "df.head(15)"
      ],
      "execution_count": 16,
      "outputs": [
        {
          "output_type": "execute_result",
          "data": {
            "text/html": [
              "<div>\n",
              "<style scoped>\n",
              "    .dataframe tbody tr th:only-of-type {\n",
              "        vertical-align: middle;\n",
              "    }\n",
              "\n",
              "    .dataframe tbody tr th {\n",
              "        vertical-align: top;\n",
              "    }\n",
              "\n",
              "    .dataframe thead th {\n",
              "        text-align: right;\n",
              "    }\n",
              "</style>\n",
              "<table border=\"1\" class=\"dataframe\">\n",
              "  <thead>\n",
              "    <tr style=\"text-align: right;\">\n",
              "      <th></th>\n",
              "      <th>Timestamp</th>\n",
              "      <th>Event</th>\n",
              "      <th>Glucose</th>\n",
              "      <th>Insulin</th>\n",
              "      <th>Meal</th>\n",
              "    </tr>\n",
              "  </thead>\n",
              "  <tbody>\n",
              "    <tr>\n",
              "      <th>0</th>\n",
              "      <td>NaN</td>\n",
              "      <td>이름</td>\n",
              "      <td>NaN</td>\n",
              "      <td>NaN</td>\n",
              "      <td>NaN</td>\n",
              "    </tr>\n",
              "    <tr>\n",
              "      <th>1</th>\n",
              "      <td>NaN</td>\n",
              "      <td>성</td>\n",
              "      <td>NaN</td>\n",
              "      <td>NaN</td>\n",
              "      <td>NaN</td>\n",
              "    </tr>\n",
              "    <tr>\n",
              "      <th>2</th>\n",
              "      <td>NaN</td>\n",
              "      <td>생년월일</td>\n",
              "      <td>NaN</td>\n",
              "      <td>NaN</td>\n",
              "      <td>NaN</td>\n",
              "    </tr>\n",
              "    <tr>\n",
              "      <th>3</th>\n",
              "      <td>NaN</td>\n",
              "      <td>장치</td>\n",
              "      <td>NaN</td>\n",
              "      <td>NaN</td>\n",
              "      <td>NaN</td>\n",
              "    </tr>\n",
              "    <tr>\n",
              "      <th>4</th>\n",
              "      <td>NaN</td>\n",
              "      <td>경고</td>\n",
              "      <td>NaN</td>\n",
              "      <td>NaN</td>\n",
              "      <td>NaN</td>\n",
              "    </tr>\n",
              "    <tr>\n",
              "      <th>5</th>\n",
              "      <td>NaN</td>\n",
              "      <td>경고</td>\n",
              "      <td>400.0</td>\n",
              "      <td>NaN</td>\n",
              "      <td>NaN</td>\n",
              "    </tr>\n",
              "    <tr>\n",
              "      <th>6</th>\n",
              "      <td>NaN</td>\n",
              "      <td>경고</td>\n",
              "      <td>75.0</td>\n",
              "      <td>NaN</td>\n",
              "      <td>NaN</td>\n",
              "    </tr>\n",
              "    <tr>\n",
              "      <th>7</th>\n",
              "      <td>NaN</td>\n",
              "      <td>경고</td>\n",
              "      <td>NaN</td>\n",
              "      <td>NaN</td>\n",
              "      <td>NaN</td>\n",
              "    </tr>\n",
              "    <tr>\n",
              "      <th>8</th>\n",
              "      <td>NaN</td>\n",
              "      <td>경고</td>\n",
              "      <td>NaN</td>\n",
              "      <td>NaN</td>\n",
              "      <td>NaN</td>\n",
              "    </tr>\n",
              "    <tr>\n",
              "      <th>9</th>\n",
              "      <td>NaN</td>\n",
              "      <td>경고</td>\n",
              "      <td>55.0</td>\n",
              "      <td>NaN</td>\n",
              "      <td>NaN</td>\n",
              "    </tr>\n",
              "    <tr>\n",
              "      <th>10</th>\n",
              "      <td>2020-10-23T11:17:46</td>\n",
              "      <td>교정</td>\n",
              "      <td>182.0</td>\n",
              "      <td>NaN</td>\n",
              "      <td>NaN</td>\n",
              "    </tr>\n",
              "    <tr>\n",
              "      <th>11</th>\n",
              "      <td>2020-10-23T11:21:27</td>\n",
              "      <td>교정</td>\n",
              "      <td>195.0</td>\n",
              "      <td>NaN</td>\n",
              "      <td>NaN</td>\n",
              "    </tr>\n",
              "    <tr>\n",
              "      <th>12</th>\n",
              "      <td>2020-10-23T11:21:30</td>\n",
              "      <td>EGV</td>\n",
              "      <td>184.0</td>\n",
              "      <td>NaN</td>\n",
              "      <td>NaN</td>\n",
              "    </tr>\n",
              "    <tr>\n",
              "      <th>13</th>\n",
              "      <td>2020-10-23T11:26:24</td>\n",
              "      <td>EGV</td>\n",
              "      <td>183.0</td>\n",
              "      <td>NaN</td>\n",
              "      <td>NaN</td>\n",
              "    </tr>\n",
              "    <tr>\n",
              "      <th>14</th>\n",
              "      <td>2020-10-23T11:31:23</td>\n",
              "      <td>EGV</td>\n",
              "      <td>193.0</td>\n",
              "      <td>NaN</td>\n",
              "      <td>NaN</td>\n",
              "    </tr>\n",
              "  </tbody>\n",
              "</table>\n",
              "</div>"
            ],
            "text/plain": [
              "              Timestamp Event  Glucose  Insulin  Meal\n",
              "0                   NaN    이름      NaN      NaN   NaN\n",
              "1                   NaN     성      NaN      NaN   NaN\n",
              "2                   NaN  생년월일      NaN      NaN   NaN\n",
              "3                   NaN    장치      NaN      NaN   NaN\n",
              "4                   NaN    경고      NaN      NaN   NaN\n",
              "5                   NaN    경고    400.0      NaN   NaN\n",
              "6                   NaN    경고     75.0      NaN   NaN\n",
              "7                   NaN    경고      NaN      NaN   NaN\n",
              "8                   NaN    경고      NaN      NaN   NaN\n",
              "9                   NaN    경고     55.0      NaN   NaN\n",
              "10  2020-10-23T11:17:46    교정    182.0      NaN   NaN\n",
              "11  2020-10-23T11:21:27    교정    195.0      NaN   NaN\n",
              "12  2020-10-23T11:21:30   EGV    184.0      NaN   NaN\n",
              "13  2020-10-23T11:26:24   EGV    183.0      NaN   NaN\n",
              "14  2020-10-23T11:31:23   EGV    193.0      NaN   NaN"
            ]
          },
          "metadata": {
            "tags": []
          },
          "execution_count": 16
        }
      ]
    },
    {
      "cell_type": "code",
      "metadata": {
        "id": "WAanR7Flq9qw"
      },
      "source": [
        "# Timestamp != NaN일 때까지 count하고 \n",
        "# Nan에 해당하는 인스턴스 제거 \n",
        "df=df.dropna(subset=['Timestamp'])"
      ],
      "execution_count": 17,
      "outputs": []
    },
    {
      "cell_type": "code",
      "metadata": {
        "colab": {
          "base_uri": "https://localhost:8080/",
          "height": 669
        },
        "id": "Ndq-UYgBq9qw",
        "outputId": "e5265cb7-9256-4f4c-a7b9-0966b0974756"
      },
      "source": [
        "df.head(20)"
      ],
      "execution_count": 18,
      "outputs": [
        {
          "output_type": "execute_result",
          "data": {
            "text/html": [
              "<div>\n",
              "<style scoped>\n",
              "    .dataframe tbody tr th:only-of-type {\n",
              "        vertical-align: middle;\n",
              "    }\n",
              "\n",
              "    .dataframe tbody tr th {\n",
              "        vertical-align: top;\n",
              "    }\n",
              "\n",
              "    .dataframe thead th {\n",
              "        text-align: right;\n",
              "    }\n",
              "</style>\n",
              "<table border=\"1\" class=\"dataframe\">\n",
              "  <thead>\n",
              "    <tr style=\"text-align: right;\">\n",
              "      <th></th>\n",
              "      <th>Timestamp</th>\n",
              "      <th>Event</th>\n",
              "      <th>Glucose</th>\n",
              "      <th>Insulin</th>\n",
              "      <th>Meal</th>\n",
              "    </tr>\n",
              "  </thead>\n",
              "  <tbody>\n",
              "    <tr>\n",
              "      <th>10</th>\n",
              "      <td>2020-10-23T11:17:46</td>\n",
              "      <td>교정</td>\n",
              "      <td>182.0</td>\n",
              "      <td>NaN</td>\n",
              "      <td>NaN</td>\n",
              "    </tr>\n",
              "    <tr>\n",
              "      <th>11</th>\n",
              "      <td>2020-10-23T11:21:27</td>\n",
              "      <td>교정</td>\n",
              "      <td>195.0</td>\n",
              "      <td>NaN</td>\n",
              "      <td>NaN</td>\n",
              "    </tr>\n",
              "    <tr>\n",
              "      <th>12</th>\n",
              "      <td>2020-10-23T11:21:30</td>\n",
              "      <td>EGV</td>\n",
              "      <td>184.0</td>\n",
              "      <td>NaN</td>\n",
              "      <td>NaN</td>\n",
              "    </tr>\n",
              "    <tr>\n",
              "      <th>13</th>\n",
              "      <td>2020-10-23T11:26:24</td>\n",
              "      <td>EGV</td>\n",
              "      <td>183.0</td>\n",
              "      <td>NaN</td>\n",
              "      <td>NaN</td>\n",
              "    </tr>\n",
              "    <tr>\n",
              "      <th>14</th>\n",
              "      <td>2020-10-23T11:31:23</td>\n",
              "      <td>EGV</td>\n",
              "      <td>193.0</td>\n",
              "      <td>NaN</td>\n",
              "      <td>NaN</td>\n",
              "    </tr>\n",
              "    <tr>\n",
              "      <th>15</th>\n",
              "      <td>2020-10-23T11:36:24</td>\n",
              "      <td>EGV</td>\n",
              "      <td>192.0</td>\n",
              "      <td>NaN</td>\n",
              "      <td>NaN</td>\n",
              "    </tr>\n",
              "    <tr>\n",
              "      <th>16</th>\n",
              "      <td>2020-10-23T11:41:24</td>\n",
              "      <td>EGV</td>\n",
              "      <td>187.0</td>\n",
              "      <td>NaN</td>\n",
              "      <td>NaN</td>\n",
              "    </tr>\n",
              "    <tr>\n",
              "      <th>17</th>\n",
              "      <td>2020-10-23T11:46:24</td>\n",
              "      <td>EGV</td>\n",
              "      <td>185.0</td>\n",
              "      <td>NaN</td>\n",
              "      <td>NaN</td>\n",
              "    </tr>\n",
              "    <tr>\n",
              "      <th>18</th>\n",
              "      <td>2020-10-23T11:51:24</td>\n",
              "      <td>EGV</td>\n",
              "      <td>184.0</td>\n",
              "      <td>NaN</td>\n",
              "      <td>NaN</td>\n",
              "    </tr>\n",
              "    <tr>\n",
              "      <th>19</th>\n",
              "      <td>2020-10-23T11:56:22</td>\n",
              "      <td>EGV</td>\n",
              "      <td>183.0</td>\n",
              "      <td>NaN</td>\n",
              "      <td>NaN</td>\n",
              "    </tr>\n",
              "    <tr>\n",
              "      <th>20</th>\n",
              "      <td>2020-10-23T12:01:23</td>\n",
              "      <td>EGV</td>\n",
              "      <td>183.0</td>\n",
              "      <td>NaN</td>\n",
              "      <td>NaN</td>\n",
              "    </tr>\n",
              "    <tr>\n",
              "      <th>21</th>\n",
              "      <td>2020-10-23T12:06:22</td>\n",
              "      <td>EGV</td>\n",
              "      <td>184.0</td>\n",
              "      <td>NaN</td>\n",
              "      <td>NaN</td>\n",
              "    </tr>\n",
              "    <tr>\n",
              "      <th>22</th>\n",
              "      <td>2020-10-23T12:11:24</td>\n",
              "      <td>EGV</td>\n",
              "      <td>187.0</td>\n",
              "      <td>NaN</td>\n",
              "      <td>NaN</td>\n",
              "    </tr>\n",
              "    <tr>\n",
              "      <th>23</th>\n",
              "      <td>2020-10-23T12:16:22</td>\n",
              "      <td>EGV</td>\n",
              "      <td>189.0</td>\n",
              "      <td>NaN</td>\n",
              "      <td>NaN</td>\n",
              "    </tr>\n",
              "    <tr>\n",
              "      <th>24</th>\n",
              "      <td>2020-10-23T12:17:27</td>\n",
              "      <td>탄수화물</td>\n",
              "      <td>NaN</td>\n",
              "      <td>NaN</td>\n",
              "      <td>0.0</td>\n",
              "    </tr>\n",
              "    <tr>\n",
              "      <th>25</th>\n",
              "      <td>2020-10-23T12:21:23</td>\n",
              "      <td>EGV</td>\n",
              "      <td>194.0</td>\n",
              "      <td>NaN</td>\n",
              "      <td>NaN</td>\n",
              "    </tr>\n",
              "    <tr>\n",
              "      <th>26</th>\n",
              "      <td>2020-10-23T12:26:24</td>\n",
              "      <td>EGV</td>\n",
              "      <td>202.0</td>\n",
              "      <td>NaN</td>\n",
              "      <td>NaN</td>\n",
              "    </tr>\n",
              "    <tr>\n",
              "      <th>27</th>\n",
              "      <td>2020-10-23T12:31:23</td>\n",
              "      <td>EGV</td>\n",
              "      <td>218.0</td>\n",
              "      <td>NaN</td>\n",
              "      <td>NaN</td>\n",
              "    </tr>\n",
              "    <tr>\n",
              "      <th>28</th>\n",
              "      <td>2020-10-23T12:36:23</td>\n",
              "      <td>EGV</td>\n",
              "      <td>232.0</td>\n",
              "      <td>NaN</td>\n",
              "      <td>NaN</td>\n",
              "    </tr>\n",
              "    <tr>\n",
              "      <th>29</th>\n",
              "      <td>2020-10-23T12:41:25</td>\n",
              "      <td>EGV</td>\n",
              "      <td>250.0</td>\n",
              "      <td>NaN</td>\n",
              "      <td>NaN</td>\n",
              "    </tr>\n",
              "  </tbody>\n",
              "</table>\n",
              "</div>"
            ],
            "text/plain": [
              "              Timestamp Event  Glucose  Insulin  Meal\n",
              "10  2020-10-23T11:17:46    교정    182.0      NaN   NaN\n",
              "11  2020-10-23T11:21:27    교정    195.0      NaN   NaN\n",
              "12  2020-10-23T11:21:30   EGV    184.0      NaN   NaN\n",
              "13  2020-10-23T11:26:24   EGV    183.0      NaN   NaN\n",
              "14  2020-10-23T11:31:23   EGV    193.0      NaN   NaN\n",
              "15  2020-10-23T11:36:24   EGV    192.0      NaN   NaN\n",
              "16  2020-10-23T11:41:24   EGV    187.0      NaN   NaN\n",
              "17  2020-10-23T11:46:24   EGV    185.0      NaN   NaN\n",
              "18  2020-10-23T11:51:24   EGV    184.0      NaN   NaN\n",
              "19  2020-10-23T11:56:22   EGV    183.0      NaN   NaN\n",
              "20  2020-10-23T12:01:23   EGV    183.0      NaN   NaN\n",
              "21  2020-10-23T12:06:22   EGV    184.0      NaN   NaN\n",
              "22  2020-10-23T12:11:24   EGV    187.0      NaN   NaN\n",
              "23  2020-10-23T12:16:22   EGV    189.0      NaN   NaN\n",
              "24  2020-10-23T12:17:27  탄수화물      NaN      NaN   0.0\n",
              "25  2020-10-23T12:21:23   EGV    194.0      NaN   NaN\n",
              "26  2020-10-23T12:26:24   EGV    202.0      NaN   NaN\n",
              "27  2020-10-23T12:31:23   EGV    218.0      NaN   NaN\n",
              "28  2020-10-23T12:36:23   EGV    232.0      NaN   NaN\n",
              "29  2020-10-23T12:41:25   EGV    250.0      NaN   NaN"
            ]
          },
          "metadata": {
            "tags": []
          },
          "execution_count": 18
        }
      ]
    },
    {
      "cell_type": "code",
      "metadata": {
        "colab": {
          "base_uri": "https://localhost:8080/"
        },
        "id": "ndlieh9Vq9qw",
        "outputId": "c666c657-a0e7-48f6-e7ab-6c1430e171be"
      },
      "source": [
        "df.shape"
      ],
      "execution_count": 19,
      "outputs": [
        {
          "output_type": "execute_result",
          "data": {
            "text/plain": [
              "(1937, 5)"
            ]
          },
          "metadata": {
            "tags": []
          },
          "execution_count": 19
        }
      ]
    },
    {
      "cell_type": "code",
      "metadata": {
        "id": "UudGLrdmq9qx"
      },
      "source": [
        "# drop한 인스턴스가 있어서 인덱스 리셋\n",
        "df=df.sort_values(by=['Timestamp'],axis=0,ascending=True)\n",
        "df=df.reset_index(drop=True)"
      ],
      "execution_count": 20,
      "outputs": []
    },
    {
      "cell_type": "code",
      "metadata": {
        "colab": {
          "base_uri": "https://localhost:8080/",
          "height": 514
        },
        "id": "RKsqfYvyq9qx",
        "outputId": "d3c4a6be-7fdd-4592-850b-41f3e1ed6d0f"
      },
      "source": [
        "df.head(15)"
      ],
      "execution_count": 21,
      "outputs": [
        {
          "output_type": "execute_result",
          "data": {
            "text/html": [
              "<div>\n",
              "<style scoped>\n",
              "    .dataframe tbody tr th:only-of-type {\n",
              "        vertical-align: middle;\n",
              "    }\n",
              "\n",
              "    .dataframe tbody tr th {\n",
              "        vertical-align: top;\n",
              "    }\n",
              "\n",
              "    .dataframe thead th {\n",
              "        text-align: right;\n",
              "    }\n",
              "</style>\n",
              "<table border=\"1\" class=\"dataframe\">\n",
              "  <thead>\n",
              "    <tr style=\"text-align: right;\">\n",
              "      <th></th>\n",
              "      <th>Timestamp</th>\n",
              "      <th>Event</th>\n",
              "      <th>Glucose</th>\n",
              "      <th>Insulin</th>\n",
              "      <th>Meal</th>\n",
              "    </tr>\n",
              "  </thead>\n",
              "  <tbody>\n",
              "    <tr>\n",
              "      <th>0</th>\n",
              "      <td>2020-10-23T11:17:46</td>\n",
              "      <td>교정</td>\n",
              "      <td>182.0</td>\n",
              "      <td>NaN</td>\n",
              "      <td>NaN</td>\n",
              "    </tr>\n",
              "    <tr>\n",
              "      <th>1</th>\n",
              "      <td>2020-10-23T11:21:27</td>\n",
              "      <td>교정</td>\n",
              "      <td>195.0</td>\n",
              "      <td>NaN</td>\n",
              "      <td>NaN</td>\n",
              "    </tr>\n",
              "    <tr>\n",
              "      <th>2</th>\n",
              "      <td>2020-10-23T11:21:30</td>\n",
              "      <td>EGV</td>\n",
              "      <td>184.0</td>\n",
              "      <td>NaN</td>\n",
              "      <td>NaN</td>\n",
              "    </tr>\n",
              "    <tr>\n",
              "      <th>3</th>\n",
              "      <td>2020-10-23T11:26:24</td>\n",
              "      <td>EGV</td>\n",
              "      <td>183.0</td>\n",
              "      <td>NaN</td>\n",
              "      <td>NaN</td>\n",
              "    </tr>\n",
              "    <tr>\n",
              "      <th>4</th>\n",
              "      <td>2020-10-23T11:31:23</td>\n",
              "      <td>EGV</td>\n",
              "      <td>193.0</td>\n",
              "      <td>NaN</td>\n",
              "      <td>NaN</td>\n",
              "    </tr>\n",
              "    <tr>\n",
              "      <th>5</th>\n",
              "      <td>2020-10-23T11:36:24</td>\n",
              "      <td>EGV</td>\n",
              "      <td>192.0</td>\n",
              "      <td>NaN</td>\n",
              "      <td>NaN</td>\n",
              "    </tr>\n",
              "    <tr>\n",
              "      <th>6</th>\n",
              "      <td>2020-10-23T11:41:24</td>\n",
              "      <td>EGV</td>\n",
              "      <td>187.0</td>\n",
              "      <td>NaN</td>\n",
              "      <td>NaN</td>\n",
              "    </tr>\n",
              "    <tr>\n",
              "      <th>7</th>\n",
              "      <td>2020-10-23T11:46:24</td>\n",
              "      <td>EGV</td>\n",
              "      <td>185.0</td>\n",
              "      <td>NaN</td>\n",
              "      <td>NaN</td>\n",
              "    </tr>\n",
              "    <tr>\n",
              "      <th>8</th>\n",
              "      <td>2020-10-23T11:51:24</td>\n",
              "      <td>EGV</td>\n",
              "      <td>184.0</td>\n",
              "      <td>NaN</td>\n",
              "      <td>NaN</td>\n",
              "    </tr>\n",
              "    <tr>\n",
              "      <th>9</th>\n",
              "      <td>2020-10-23T11:56:22</td>\n",
              "      <td>EGV</td>\n",
              "      <td>183.0</td>\n",
              "      <td>NaN</td>\n",
              "      <td>NaN</td>\n",
              "    </tr>\n",
              "    <tr>\n",
              "      <th>10</th>\n",
              "      <td>2020-10-23T12:01:23</td>\n",
              "      <td>EGV</td>\n",
              "      <td>183.0</td>\n",
              "      <td>NaN</td>\n",
              "      <td>NaN</td>\n",
              "    </tr>\n",
              "    <tr>\n",
              "      <th>11</th>\n",
              "      <td>2020-10-23T12:06:22</td>\n",
              "      <td>EGV</td>\n",
              "      <td>184.0</td>\n",
              "      <td>NaN</td>\n",
              "      <td>NaN</td>\n",
              "    </tr>\n",
              "    <tr>\n",
              "      <th>12</th>\n",
              "      <td>2020-10-23T12:11:24</td>\n",
              "      <td>EGV</td>\n",
              "      <td>187.0</td>\n",
              "      <td>NaN</td>\n",
              "      <td>NaN</td>\n",
              "    </tr>\n",
              "    <tr>\n",
              "      <th>13</th>\n",
              "      <td>2020-10-23T12:16:22</td>\n",
              "      <td>EGV</td>\n",
              "      <td>189.0</td>\n",
              "      <td>NaN</td>\n",
              "      <td>NaN</td>\n",
              "    </tr>\n",
              "    <tr>\n",
              "      <th>14</th>\n",
              "      <td>2020-10-23T12:17:27</td>\n",
              "      <td>탄수화물</td>\n",
              "      <td>NaN</td>\n",
              "      <td>NaN</td>\n",
              "      <td>0.0</td>\n",
              "    </tr>\n",
              "  </tbody>\n",
              "</table>\n",
              "</div>"
            ],
            "text/plain": [
              "              Timestamp Event  Glucose  Insulin  Meal\n",
              "0   2020-10-23T11:17:46    교정    182.0      NaN   NaN\n",
              "1   2020-10-23T11:21:27    교정    195.0      NaN   NaN\n",
              "2   2020-10-23T11:21:30   EGV    184.0      NaN   NaN\n",
              "3   2020-10-23T11:26:24   EGV    183.0      NaN   NaN\n",
              "4   2020-10-23T11:31:23   EGV    193.0      NaN   NaN\n",
              "5   2020-10-23T11:36:24   EGV    192.0      NaN   NaN\n",
              "6   2020-10-23T11:41:24   EGV    187.0      NaN   NaN\n",
              "7   2020-10-23T11:46:24   EGV    185.0      NaN   NaN\n",
              "8   2020-10-23T11:51:24   EGV    184.0      NaN   NaN\n",
              "9   2020-10-23T11:56:22   EGV    183.0      NaN   NaN\n",
              "10  2020-10-23T12:01:23   EGV    183.0      NaN   NaN\n",
              "11  2020-10-23T12:06:22   EGV    184.0      NaN   NaN\n",
              "12  2020-10-23T12:11:24   EGV    187.0      NaN   NaN\n",
              "13  2020-10-23T12:16:22   EGV    189.0      NaN   NaN\n",
              "14  2020-10-23T12:17:27  탄수화물      NaN      NaN   0.0"
            ]
          },
          "metadata": {
            "tags": []
          },
          "execution_count": 21
        }
      ]
    },
    {
      "cell_type": "code",
      "metadata": {
        "colab": {
          "base_uri": "https://localhost:8080/"
        },
        "id": "Dr0kuMdHq9qx",
        "outputId": "b14c4908-fd4f-4f9d-ddad-019e512f2a7a"
      },
      "source": [
        "df.shape"
      ],
      "execution_count": 22,
      "outputs": [
        {
          "output_type": "execute_result",
          "data": {
            "text/plain": [
              "(1937, 5)"
            ]
          },
          "metadata": {
            "tags": []
          },
          "execution_count": 22
        }
      ]
    },
    {
      "cell_type": "code",
      "metadata": {
        "id": "qy3fiZhVq9qx"
      },
      "source": [
        "# 높음, 낮음, 교정 인덱스 저장 \n",
        "high_list=[]\n",
        "low_list=[]\n",
        "calib_list=[]\n",
        "insulin_list=[]\n",
        "meal_list=[]"
      ],
      "execution_count": 23,
      "outputs": []
    },
    {
      "cell_type": "code",
      "metadata": {
        "id": "P537zeVnq9qx"
      },
      "source": [
        "def isNaN(num):\n",
        "    return num==num"
      ],
      "execution_count": 24,
      "outputs": []
    },
    {
      "cell_type": "code",
      "metadata": {
        "id": "QZi1ugehq9qx"
      },
      "source": [
        "# 혈당 '높음' 빈도 카운트\n",
        "def glucose_count_high(df,col):\n",
        "    count=0\n",
        "    for i, row in df.iterrows():\n",
        "         val = row[col]\n",
        "         if val=='높음':\n",
        "            count=count+1\n",
        "            high_list.append(i)\n",
        "    print('높음 : ',count)\n",
        "    "
      ],
      "execution_count": 25,
      "outputs": []
    },
    {
      "cell_type": "code",
      "metadata": {
        "id": "Y3T5yccbq9qx"
      },
      "source": [
        "# 혈당 '낮음' 빈도 카운트\n",
        "def glucose_count_low(df,col):\n",
        "    count=0\n",
        "    for i, row in df.iterrows():\n",
        "         val = row[col]\n",
        "         if val=='낮음':\n",
        "            count=count+1\n",
        "            low_list.append(i)\n",
        "    print('낮음 : ',count)"
      ],
      "execution_count": 26,
      "outputs": []
    },
    {
      "cell_type": "code",
      "metadata": {
        "id": "QPEIPRM8q9qy"
      },
      "source": [
        "# 혈당 '교정' 빈도 카운트\n",
        "def calibration_count_low(df,col):\n",
        "    count=0\n",
        "    for i, row in df.iterrows():\n",
        "         val = row[col]\n",
        "         if val=='교정':\n",
        "            count=count+1\n",
        "            calib_list.append(i)\n",
        "    print('교정 : ',count)"
      ],
      "execution_count": 27,
      "outputs": []
    },
    {
      "cell_type": "code",
      "metadata": {
        "id": "0Mf6s7jAq9qy"
      },
      "source": [
        "# 인슐린 카운트 \n",
        "#def insul_count(df,col):\n",
        "#    count=0\n",
        "#    for i, row in df.iterrows():\n",
        "#         val = row[col]\n",
        "#         if val==0:\n",
        "#            count=count+1\n",
        "#            insulin_list.append(i)\n",
        "#    print('인슐린 : ',count)"
      ],
      "execution_count": 28,
      "outputs": []
    },
    {
      "cell_type": "code",
      "metadata": {
        "id": "hRKoPSWdq9qy"
      },
      "source": [
        "# 인슐린 카운트 \n",
        "def insul_count(df,col):\n",
        "    count=0\n",
        "    for i, row in df.iterrows():\n",
        "         val = row[col]\n",
        "         if isNaN(val)==True:\n",
        "            count=count+1\n",
        "            insulin_list.append(i)\n",
        "    print('인슐린 : ',count)"
      ],
      "execution_count": 29,
      "outputs": []
    },
    {
      "cell_type": "code",
      "metadata": {
        "id": "U33fUKIeq9qy"
      },
      "source": [
        "# 식사 횟수 카운트 \n",
        "#def meal_count(df,col):\n",
        "#    count=0\n",
        "#    for i, row in df.iterrows():\n",
        "#         val = row[col]\n",
        "#         if val==0:\n",
        "#            count=count+1\n",
        "#            meal_list.append(i)\n",
        "#    print('식사 횟수 : ',count)"
      ],
      "execution_count": 30,
      "outputs": []
    },
    {
      "cell_type": "code",
      "metadata": {
        "id": "KIBCtRV_q9qy"
      },
      "source": [
        "# 식사 횟수 카운트 \n",
        "def meal_count(df,col):\n",
        "    count=0\n",
        "    for i, row in df.iterrows():\n",
        "         val = row[col]\n",
        "         if isNaN(val)==True:\n",
        "            count=count+1\n",
        "            meal_list.append(i)\n",
        "    print('식사 횟수 : ',count)"
      ],
      "execution_count": 31,
      "outputs": []
    },
    {
      "cell_type": "code",
      "metadata": {
        "colab": {
          "base_uri": "https://localhost:8080/"
        },
        "id": "t76CauuJq9qy",
        "scrolled": true,
        "outputId": "fe6b3ad5-681b-4667-9289-81750be12e02"
      },
      "source": [
        "glucose_count_high(df,'Glucose')"
      ],
      "execution_count": 32,
      "outputs": [
        {
          "output_type": "stream",
          "text": [
            "높음 :  0\n"
          ],
          "name": "stdout"
        }
      ]
    },
    {
      "cell_type": "code",
      "metadata": {
        "colab": {
          "base_uri": "https://localhost:8080/"
        },
        "id": "1jCdOODYq9qz",
        "outputId": "1c833c7e-aba1-48fa-c566-7b5b364f9119"
      },
      "source": [
        "print('높음 개수 :',len(high_list))"
      ],
      "execution_count": 33,
      "outputs": [
        {
          "output_type": "stream",
          "text": [
            "높음 개수 : 0\n"
          ],
          "name": "stdout"
        }
      ]
    },
    {
      "cell_type": "code",
      "metadata": {
        "colab": {
          "base_uri": "https://localhost:8080/"
        },
        "id": "hSi2WJtbq9qz",
        "outputId": "074ae5ee-f6a9-4443-f767-cdce9ae52081"
      },
      "source": [
        "print('낮음 개수 :',len(low_list))"
      ],
      "execution_count": 34,
      "outputs": [
        {
          "output_type": "stream",
          "text": [
            "낮음 개수 : 0\n"
          ],
          "name": "stdout"
        }
      ]
    },
    {
      "cell_type": "code",
      "metadata": {
        "colab": {
          "base_uri": "https://localhost:8080/"
        },
        "id": "7-Iy3eSdq9qz",
        "outputId": "ab337f50-6660-4c8c-e710-805a19757ffa"
      },
      "source": [
        "print('교정 개수 :',len(calib_list))"
      ],
      "execution_count": 35,
      "outputs": [
        {
          "output_type": "stream",
          "text": [
            "교정 개수 : 0\n"
          ],
          "name": "stdout"
        }
      ]
    },
    {
      "cell_type": "code",
      "metadata": {
        "colab": {
          "base_uri": "https://localhost:8080/"
        },
        "id": "2Lsj2H6Rq9qz",
        "outputId": "7d2ad630-31a0-4f85-d0ef-edde2bfe214f"
      },
      "source": [
        "glucose_count_low(df,'Glucose')"
      ],
      "execution_count": 36,
      "outputs": [
        {
          "output_type": "stream",
          "text": [
            "낮음 :  0\n"
          ],
          "name": "stdout"
        }
      ]
    },
    {
      "cell_type": "code",
      "metadata": {
        "colab": {
          "base_uri": "https://localhost:8080/"
        },
        "id": "YB8-5N--q9qz",
        "outputId": "c59dc473-ac0c-41f5-90e7-a0f1690fe3c6"
      },
      "source": [
        "low_list"
      ],
      "execution_count": 37,
      "outputs": [
        {
          "output_type": "execute_result",
          "data": {
            "text/plain": [
              "[]"
            ]
          },
          "metadata": {
            "tags": []
          },
          "execution_count": 37
        }
      ]
    },
    {
      "cell_type": "code",
      "metadata": {
        "colab": {
          "base_uri": "https://localhost:8080/"
        },
        "id": "W-d0Eh-Mq9qz",
        "outputId": "09221a87-d744-4bc0-96ed-666cf2633a7f"
      },
      "source": [
        "calibration_count_low(df,'Event')"
      ],
      "execution_count": 38,
      "outputs": [
        {
          "output_type": "stream",
          "text": [
            "교정 :  12\n"
          ],
          "name": "stdout"
        }
      ]
    },
    {
      "cell_type": "code",
      "metadata": {
        "colab": {
          "base_uri": "https://localhost:8080/"
        },
        "id": "AA4DScIlq9q0",
        "outputId": "9d911e53-b53a-4646-a8fc-b595af6723e6"
      },
      "source": [
        "calib_list"
      ],
      "execution_count": 39,
      "outputs": [
        {
          "output_type": "execute_result",
          "data": {
            "text/plain": [
              "[0, 1, 116, 259, 401, 514, 752, 891, 1363, 1495, 1611, 1655]"
            ]
          },
          "metadata": {
            "tags": []
          },
          "execution_count": 39
        }
      ]
    },
    {
      "cell_type": "code",
      "metadata": {
        "colab": {
          "base_uri": "https://localhost:8080/"
        },
        "id": "WVjnBdLEq9q0",
        "outputId": "aff3d818-f8b3-4588-8417-af8af357b543"
      },
      "source": [
        "insul_count(df,'Insulin')"
      ],
      "execution_count": 40,
      "outputs": [
        {
          "output_type": "stream",
          "text": [
            "인슐린 :  0\n"
          ],
          "name": "stdout"
        }
      ]
    },
    {
      "cell_type": "code",
      "metadata": {
        "colab": {
          "base_uri": "https://localhost:8080/"
        },
        "id": "diiNlaPhq9q0",
        "outputId": "09fe6ee0-aff7-421a-900a-cb57dc5bf320"
      },
      "source": [
        "insulin_list"
      ],
      "execution_count": 41,
      "outputs": [
        {
          "output_type": "execute_result",
          "data": {
            "text/plain": [
              "[]"
            ]
          },
          "metadata": {
            "tags": []
          },
          "execution_count": 41
        }
      ]
    },
    {
      "cell_type": "code",
      "metadata": {
        "colab": {
          "base_uri": "https://localhost:8080/"
        },
        "id": "zz4J0RMcq9q0",
        "outputId": "52743b40-ecae-439c-da7d-f8b84d87e971"
      },
      "source": [
        "meal_count(df,'Meal')"
      ],
      "execution_count": 42,
      "outputs": [
        {
          "output_type": "stream",
          "text": [
            "식사 횟수 :  2\n"
          ],
          "name": "stdout"
        }
      ]
    },
    {
      "cell_type": "code",
      "metadata": {
        "colab": {
          "base_uri": "https://localhost:8080/"
        },
        "id": "S5Iommgpq9q0",
        "outputId": "e4a798e3-6045-4110-c3f4-6cd50951af71"
      },
      "source": [
        "meal_list"
      ],
      "execution_count": 43,
      "outputs": [
        {
          "output_type": "execute_result",
          "data": {
            "text/plain": [
              "[14, 76]"
            ]
          },
          "metadata": {
            "tags": []
          },
          "execution_count": 43
        }
      ]
    },
    {
      "cell_type": "code",
      "metadata": {
        "colab": {
          "base_uri": "https://localhost:8080/"
        },
        "id": "gcwA8bhDq9q0",
        "outputId": "8005e6b5-e855-46e6-dd73-2b39f955bd22"
      },
      "source": [
        "df['Insulin'].value_counts()"
      ],
      "execution_count": 44,
      "outputs": [
        {
          "output_type": "execute_result",
          "data": {
            "text/plain": [
              "Series([], Name: Insulin, dtype: int64)"
            ]
          },
          "metadata": {
            "tags": []
          },
          "execution_count": 44
        }
      ]
    },
    {
      "cell_type": "code",
      "metadata": {
        "colab": {
          "base_uri": "https://localhost:8080/"
        },
        "id": "EWPmhRFwq9q1",
        "outputId": "7197645a-be64-471c-9dc1-98bbc3a39112"
      },
      "source": [
        "df['Meal'].value_counts()"
      ],
      "execution_count": 45,
      "outputs": [
        {
          "output_type": "execute_result",
          "data": {
            "text/plain": [
              "0.0    2\n",
              "Name: Meal, dtype: int64"
            ]
          },
          "metadata": {
            "tags": []
          },
          "execution_count": 45
        }
      ]
    },
    {
      "cell_type": "code",
      "metadata": {
        "colab": {
          "base_uri": "https://localhost:8080/"
        },
        "id": "yVHexf31q9q1",
        "outputId": "894eefc9-5117-4ac7-e7fc-0805ecdfb2b2"
      },
      "source": [
        "isNaN(df['Glucose'][14])"
      ],
      "execution_count": 46,
      "outputs": [
        {
          "output_type": "execute_result",
          "data": {
            "text/plain": [
              "False"
            ]
          },
          "metadata": {
            "tags": []
          },
          "execution_count": 46
        }
      ]
    },
    {
      "cell_type": "code",
      "metadata": {
        "id": "Tytglb5oq9q1"
      },
      "source": [
        "import math\n",
        "for i in insulin_list:\n",
        "    \n",
        "    if isNaN(df['Glucose'][i+1]):\n",
        "        df['Insulin'][i+1]=0\n",
        "        continue\n",
        "    if isNaN(df['Glucose'][i+2]):\n",
        "        df['Insulin'][i+2]=0\n",
        "        continue\n",
        "    if isNaN(df['Glucose'][i+3]):\n",
        "        df['Insulin'][i+3]=0\n",
        "        continue\n",
        "    if isNaN(df['Glucose'][i+4]):\n",
        "        df['Insulin'][i+4]=0\n",
        "        continue"
      ],
      "execution_count": 47,
      "outputs": []
    },
    {
      "cell_type": "code",
      "metadata": {
        "id": "JcgRMhGVq9q1"
      },
      "source": [
        "for i in meal_list:\n",
        "    \n",
        "    if isNaN(df['Glucose'][i+1]):\n",
        "        df['Meal'][i+1]=0\n",
        "        continue\n",
        "    if isNaN(df['Glucose'][i+2]):\n",
        "        df['Meal'][i+2]=0\n",
        "        continue\n",
        "    if isNaN(df['Glucose'][i+3]):\n",
        "        df['Meal'][i+3]=0\n",
        "        continue\n",
        "    if isNaN(df['Glucose'][i+4]):\n",
        "        df['Meal'][i+4]=0\n",
        "        continue"
      ],
      "execution_count": 48,
      "outputs": []
    },
    {
      "cell_type": "code",
      "metadata": {
        "colab": {
          "base_uri": "https://localhost:8080/"
        },
        "id": "pCH1l3thq9q1",
        "outputId": "85719942-4401-4266-ed55-c59729e8ce73"
      },
      "source": [
        "import math\n",
        "math.isnan(df['Glucose'][14])"
      ],
      "execution_count": 49,
      "outputs": [
        {
          "output_type": "execute_result",
          "data": {
            "text/plain": [
              "True"
            ]
          },
          "metadata": {
            "tags": []
          },
          "execution_count": 49
        }
      ]
    },
    {
      "cell_type": "code",
      "metadata": {
        "colab": {
          "base_uri": "https://localhost:8080/"
        },
        "id": "h-zF0AuEq9q1",
        "outputId": "9ff3004f-5c3c-48c2-8b70-23b86cc1afe0"
      },
      "source": [
        "insulin_list"
      ],
      "execution_count": 50,
      "outputs": [
        {
          "output_type": "execute_result",
          "data": {
            "text/plain": [
              "[]"
            ]
          },
          "metadata": {
            "tags": []
          },
          "execution_count": 50
        }
      ]
    },
    {
      "cell_type": "code",
      "metadata": {
        "id": "cYufVrh9q9q1"
      },
      "source": [
        "SetList1 = set(insulin_list)\n",
        "SetList2 = set(meal_list)\n",
        "\n",
        "C = list((SetList2.difference(SetList1)))\n",
        "\n",
        "insulin_list.extend(C)"
      ],
      "execution_count": 51,
      "outputs": []
    },
    {
      "cell_type": "code",
      "metadata": {
        "colab": {
          "base_uri": "https://localhost:8080/"
        },
        "id": "DrJEh6m3q9q2",
        "outputId": "e3543ae2-4b09-43c1-cefc-0b575493f590"
      },
      "source": [
        "insulin_list"
      ],
      "execution_count": 52,
      "outputs": [
        {
          "output_type": "execute_result",
          "data": {
            "text/plain": [
              "[76, 14]"
            ]
          },
          "metadata": {
            "tags": []
          },
          "execution_count": 52
        }
      ]
    },
    {
      "cell_type": "code",
      "metadata": {
        "id": "k_g4Uw8_q9q2"
      },
      "source": [
        "df=df.drop(insulin_list)"
      ],
      "execution_count": 53,
      "outputs": []
    },
    {
      "cell_type": "code",
      "metadata": {
        "colab": {
          "base_uri": "https://localhost:8080/",
          "height": 359
        },
        "id": "70rucVRyq9q2",
        "outputId": "8bcd7e9b-33b1-456a-b160-52f74f4b0d8f"
      },
      "source": [
        "df[10:20]"
      ],
      "execution_count": 54,
      "outputs": [
        {
          "output_type": "execute_result",
          "data": {
            "text/html": [
              "<div>\n",
              "<style scoped>\n",
              "    .dataframe tbody tr th:only-of-type {\n",
              "        vertical-align: middle;\n",
              "    }\n",
              "\n",
              "    .dataframe tbody tr th {\n",
              "        vertical-align: top;\n",
              "    }\n",
              "\n",
              "    .dataframe thead th {\n",
              "        text-align: right;\n",
              "    }\n",
              "</style>\n",
              "<table border=\"1\" class=\"dataframe\">\n",
              "  <thead>\n",
              "    <tr style=\"text-align: right;\">\n",
              "      <th></th>\n",
              "      <th>Timestamp</th>\n",
              "      <th>Event</th>\n",
              "      <th>Glucose</th>\n",
              "      <th>Insulin</th>\n",
              "      <th>Meal</th>\n",
              "    </tr>\n",
              "  </thead>\n",
              "  <tbody>\n",
              "    <tr>\n",
              "      <th>10</th>\n",
              "      <td>2020-10-23T12:01:23</td>\n",
              "      <td>EGV</td>\n",
              "      <td>183.0</td>\n",
              "      <td>NaN</td>\n",
              "      <td>NaN</td>\n",
              "    </tr>\n",
              "    <tr>\n",
              "      <th>11</th>\n",
              "      <td>2020-10-23T12:06:22</td>\n",
              "      <td>EGV</td>\n",
              "      <td>184.0</td>\n",
              "      <td>NaN</td>\n",
              "      <td>NaN</td>\n",
              "    </tr>\n",
              "    <tr>\n",
              "      <th>12</th>\n",
              "      <td>2020-10-23T12:11:24</td>\n",
              "      <td>EGV</td>\n",
              "      <td>187.0</td>\n",
              "      <td>NaN</td>\n",
              "      <td>NaN</td>\n",
              "    </tr>\n",
              "    <tr>\n",
              "      <th>13</th>\n",
              "      <td>2020-10-23T12:16:22</td>\n",
              "      <td>EGV</td>\n",
              "      <td>189.0</td>\n",
              "      <td>NaN</td>\n",
              "      <td>NaN</td>\n",
              "    </tr>\n",
              "    <tr>\n",
              "      <th>15</th>\n",
              "      <td>2020-10-23T12:21:23</td>\n",
              "      <td>EGV</td>\n",
              "      <td>194.0</td>\n",
              "      <td>NaN</td>\n",
              "      <td>0.0</td>\n",
              "    </tr>\n",
              "    <tr>\n",
              "      <th>16</th>\n",
              "      <td>2020-10-23T12:26:24</td>\n",
              "      <td>EGV</td>\n",
              "      <td>202.0</td>\n",
              "      <td>NaN</td>\n",
              "      <td>NaN</td>\n",
              "    </tr>\n",
              "    <tr>\n",
              "      <th>17</th>\n",
              "      <td>2020-10-23T12:31:23</td>\n",
              "      <td>EGV</td>\n",
              "      <td>218.0</td>\n",
              "      <td>NaN</td>\n",
              "      <td>NaN</td>\n",
              "    </tr>\n",
              "    <tr>\n",
              "      <th>18</th>\n",
              "      <td>2020-10-23T12:36:23</td>\n",
              "      <td>EGV</td>\n",
              "      <td>232.0</td>\n",
              "      <td>NaN</td>\n",
              "      <td>NaN</td>\n",
              "    </tr>\n",
              "    <tr>\n",
              "      <th>19</th>\n",
              "      <td>2020-10-23T12:41:25</td>\n",
              "      <td>EGV</td>\n",
              "      <td>250.0</td>\n",
              "      <td>NaN</td>\n",
              "      <td>NaN</td>\n",
              "    </tr>\n",
              "    <tr>\n",
              "      <th>20</th>\n",
              "      <td>2020-10-23T12:46:23</td>\n",
              "      <td>EGV</td>\n",
              "      <td>243.0</td>\n",
              "      <td>NaN</td>\n",
              "      <td>NaN</td>\n",
              "    </tr>\n",
              "  </tbody>\n",
              "</table>\n",
              "</div>"
            ],
            "text/plain": [
              "              Timestamp Event  Glucose  Insulin  Meal\n",
              "10  2020-10-23T12:01:23   EGV    183.0      NaN   NaN\n",
              "11  2020-10-23T12:06:22   EGV    184.0      NaN   NaN\n",
              "12  2020-10-23T12:11:24   EGV    187.0      NaN   NaN\n",
              "13  2020-10-23T12:16:22   EGV    189.0      NaN   NaN\n",
              "15  2020-10-23T12:21:23   EGV    194.0      NaN   0.0\n",
              "16  2020-10-23T12:26:24   EGV    202.0      NaN   NaN\n",
              "17  2020-10-23T12:31:23   EGV    218.0      NaN   NaN\n",
              "18  2020-10-23T12:36:23   EGV    232.0      NaN   NaN\n",
              "19  2020-10-23T12:41:25   EGV    250.0      NaN   NaN\n",
              "20  2020-10-23T12:46:23   EGV    243.0      NaN   NaN"
            ]
          },
          "metadata": {
            "tags": []
          },
          "execution_count": 54
        }
      ]
    },
    {
      "cell_type": "code",
      "metadata": {
        "colab": {
          "base_uri": "https://localhost:8080/"
        },
        "id": "V-7fuLiuq9q2",
        "outputId": "e5aaae84-482e-42b7-9e35-2c6f06ab920b"
      },
      "source": [
        "df['Glucose'].unique()"
      ],
      "execution_count": 55,
      "outputs": [
        {
          "output_type": "execute_result",
          "data": {
            "text/plain": [
              "array([182., 195., 184., 183., 193., 192., 187., 185., 189., 194., 202.,\n",
              "       218., 232., 250., 243., 271., 298., 318., 324., 306., 312., 325.,\n",
              "       315., 346., 326., 322., 272., 268., 255., 239., 229., 228., 242.,\n",
              "       225., 217., 222., 227., 223., 213., 207., 201., 199., 191., 197.,\n",
              "       210., 230., 236., 234., 205., 208., 212., 204., 214., 226., 235.,\n",
              "       244., 259., 247., 254., 258., 240., 237., 238., 231., 216., 206.,\n",
              "       200., 211., 163., 174., 170., 168., 156., 153., 151., 149., 147.,\n",
              "       146., 145., 144., 155., 157., 162., 164., 166., 175., 177., 172.,\n",
              "       169., 158., 179., 167., 161., 143., 150., 152., 159., 154., 181.,\n",
              "       188., 198., 196., 180., 173., 171., 165., 137., 135., 134., 133.,\n",
              "       160., 190., 186., 176., 178., 141., 148., 139., 136., 130., 122.,\n",
              "       125., 118., 110., 108., 107., 112., 115., 119., 120., 116., 124.,\n",
              "       127., 132., 140., 142., 138., 123., 121., 128., 129., 117., 113.,\n",
              "       114., 209., 215., 221., 241., 257., 245., 248., 249., 252., 246.,\n",
              "       233., 219., 203., 220., 224., 251., 256., 261., 267., 264., 263.,\n",
              "       253.])"
            ]
          },
          "metadata": {
            "tags": []
          },
          "execution_count": 55
        }
      ]
    },
    {
      "cell_type": "code",
      "metadata": {
        "colab": {
          "base_uri": "https://localhost:8080/"
        },
        "id": "_Wc-F60tq9q2",
        "outputId": "5138dc0f-8e21-43e2-8023-d2d1fe56cec1"
      },
      "source": [
        "df.isnull().sum()"
      ],
      "execution_count": 56,
      "outputs": [
        {
          "output_type": "execute_result",
          "data": {
            "text/plain": [
              "Timestamp       0\n",
              "Event           0\n",
              "Glucose         0\n",
              "Insulin      1935\n",
              "Meal         1933\n",
              "dtype: int64"
            ]
          },
          "metadata": {
            "tags": []
          },
          "execution_count": 56
        }
      ]
    },
    {
      "cell_type": "code",
      "metadata": {
        "colab": {
          "base_uri": "https://localhost:8080/"
        },
        "id": "aB-Pr1IUq9q2",
        "outputId": "811d006e-a0ff-4a35-8669-83d422500361"
      },
      "source": [
        "df['Event'].value_counts()"
      ],
      "execution_count": 57,
      "outputs": [
        {
          "output_type": "execute_result",
          "data": {
            "text/plain": [
              "EGV    1923\n",
              "교정       12\n",
              "Name: Event, dtype: int64"
            ]
          },
          "metadata": {
            "tags": []
          },
          "execution_count": 57
        }
      ]
    },
    {
      "cell_type": "markdown",
      "metadata": {
        "id": "tD-xVtSIq9q3"
      },
      "source": [
        "### 높음 낮음 고정 (추후 전처리 과정에서 400,408,416,408,400 이런 식으로 선형으로 변환해줄 것)"
      ]
    },
    {
      "cell_type": "code",
      "metadata": {
        "id": "_QqK9A1xq9q3"
      },
      "source": [
        "def fix_glucose_low(df,col):\n",
        "    for i, row in df.iterrows():\n",
        "        val = row[col]\n",
        "        if val=='낮음':\n",
        "            df.loc[i,col] = 60"
      ],
      "execution_count": 58,
      "outputs": []
    },
    {
      "cell_type": "code",
      "metadata": {
        "id": "XWZicn9Qq9q3"
      },
      "source": [
        "def fix_glucose(df,col):\n",
        "    for i, row in df.iterrows():\n",
        "        val = row[col]\n",
        "        if val=='높음':\n",
        "            df.loc[i,col] = 400\n",
        "        elif val > 400:\n",
        "            df.loc[i,col]=400"
      ],
      "execution_count": 59,
      "outputs": []
    },
    {
      "cell_type": "code",
      "metadata": {
        "id": "O55uKXOGq9q3"
      },
      "source": [
        "fix_glucose_low(df,'Glucose')"
      ],
      "execution_count": 60,
      "outputs": []
    },
    {
      "cell_type": "code",
      "metadata": {
        "id": "BvIUO61Mq9q3"
      },
      "source": [
        "fix_glucose(df,'Glucose')"
      ],
      "execution_count": 61,
      "outputs": []
    },
    {
      "cell_type": "code",
      "metadata": {
        "colab": {
          "base_uri": "https://localhost:8080/"
        },
        "id": "g2avacA9q9q3",
        "outputId": "0c163517-2efd-428c-d9d0-f671c1c30b82"
      },
      "source": [
        "df['Glucose'].value_counts()"
      ],
      "execution_count": 62,
      "outputs": [
        {
          "output_type": "execute_result",
          "data": {
            "text/plain": [
              "169.0    34\n",
              "165.0    34\n",
              "171.0    31\n",
              "166.0    31\n",
              "161.0    31\n",
              "         ..\n",
              "112.0     1\n",
              "267.0     1\n",
              "132.0     1\n",
              "128.0     1\n",
              "271.0     1\n",
              "Name: Glucose, Length: 166, dtype: int64"
            ]
          },
          "metadata": {
            "tags": []
          },
          "execution_count": 62
        }
      ]
    },
    {
      "cell_type": "code",
      "metadata": {
        "colab": {
          "base_uri": "https://localhost:8080/"
        },
        "id": "MhNKSZyTq9q3",
        "outputId": "7968a59d-f80f-4946-fed9-6326744def10"
      },
      "source": [
        "df.isnull().sum()"
      ],
      "execution_count": 63,
      "outputs": [
        {
          "output_type": "execute_result",
          "data": {
            "text/plain": [
              "Timestamp       0\n",
              "Event           0\n",
              "Glucose         0\n",
              "Insulin      1935\n",
              "Meal         1933\n",
              "dtype: int64"
            ]
          },
          "metadata": {
            "tags": []
          },
          "execution_count": 63
        }
      ]
    },
    {
      "cell_type": "code",
      "metadata": {
        "colab": {
          "base_uri": "https://localhost:8080/"
        },
        "id": "e8GGHlNyq9q4",
        "outputId": "b4d29bd1-42d4-4699-d82b-6b26290bab4f"
      },
      "source": [
        "df['Event'].unique()"
      ],
      "execution_count": 64,
      "outputs": [
        {
          "output_type": "execute_result",
          "data": {
            "text/plain": [
              "array(['교정', 'EGV'], dtype=object)"
            ]
          },
          "metadata": {
            "tags": []
          },
          "execution_count": 64
        }
      ]
    },
    {
      "cell_type": "code",
      "metadata": {
        "id": "TuLeqo_RxtN1"
      },
      "source": [
        "## 이벤트에 '운동' 있어서 혈당값 비어있음 \n",
        "# 모델 안돌아감 \n",
        "df=df.dropna(subset=['Glucose'])"
      ],
      "execution_count": 65,
      "outputs": []
    },
    {
      "cell_type": "code",
      "metadata": {
        "id": "-g9RIuKlq9q4"
      },
      "source": [
        "# drop한 인스턴스가 있어서 인덱스 리셋\n",
        "df=df.sort_values(by=['Timestamp'],axis=0,ascending=True)\n",
        "df=df.reset_index(drop=True)"
      ],
      "execution_count": 66,
      "outputs": []
    },
    {
      "cell_type": "code",
      "metadata": {
        "id": "3raJFd5Oq9q4"
      },
      "source": [
        "new_insul_list =[]\n",
        "new_meal_list =[]\n",
        "new_insul_and_meal_list=[]\n",
        "\n",
        "for i in range(len(df)):\n",
        "    if (df['Insulin'][i] ==0 and df['Meal'][i]==0):\n",
        "        new_insul_and_meal_list.append(i)\n",
        "    if (df['Insulin'][i]==0 and df['Meal'][i]!=0):\n",
        "        new_insul_list.append(i)\n",
        "    if (df['Insulin'][i]!=0 and df['Meal'][i]==0):\n",
        "        new_meal_list.append(i)"
      ],
      "execution_count": 67,
      "outputs": []
    },
    {
      "cell_type": "code",
      "metadata": {
        "colab": {
          "base_uri": "https://localhost:8080/"
        },
        "id": "etuTxppeq9q4",
        "outputId": "2fd00a0c-eb31-4e06-bd71-90fa24e35bc2"
      },
      "source": [
        "new_meal_list"
      ],
      "execution_count": 68,
      "outputs": [
        {
          "output_type": "execute_result",
          "data": {
            "text/plain": [
              "[14, 75]"
            ]
          },
          "metadata": {
            "tags": []
          },
          "execution_count": 68
        }
      ]
    },
    {
      "cell_type": "code",
      "metadata": {
        "id": "UkkZfG03q9q4"
      },
      "source": [
        ""
      ],
      "execution_count": 68,
      "outputs": []
    },
    {
      "cell_type": "code",
      "metadata": {
        "id": "JoFY9Drvq9q4"
      },
      "source": [
        "df.plot(figsize=(15,6))\n",
        "plt.show()"
      ],
      "execution_count": null,
      "outputs": []
    },
    {
      "cell_type": "code",
      "metadata": {
        "id": "iXUdyaOvq9q4"
      },
      "source": [
        "df.plot(figsize=(15,6))\n",
        "plt.axhline(y=70,c='r',linestyle='--',linewidth=1)\n",
        "plt.axhline(y=180,c='r',linestyle='--',linewidth=1)\n",
        "plt.axhline(y=400,c='r',linestyle='--',linewidth=1)\n",
        "#plt.annotate(df['Timestamp'][13],xy=(-50,40),xytext=(-50,0),fontsize=20,bbox=dict(boxstyle='square',\n",
        "#                                                               color='white'),arrowprops=dict(facecolor='black'))\n",
        "#plt.annotate(df['Timestamp'][len(df['Timestamp'])],xytext=(-,0),fontsize=20,bbox=dict(boxstyle='square',\n",
        " #                                                              color='white'))\n",
        "plt.text(len(df['Timestamp']),185,'Hyperglycemic Threshold',family='Times New Roman',size=15)\n",
        "plt.text(len(df['Timestamp']),75,'Hypoglycemic Threshold',family='Times New Roman',size=15)\n",
        "plt.text(len(df['Timestamp']),405,'Too High ( Glucose value 400 + )',family='Times New Roman',size=15)\n",
        "\n",
        "#y=70\n",
        "#plt.plot(y,'b--',linestyles='--'),\n",
        "#plt.hlines(70,linestyles='--')\n",
        "plt.show()"
      ],
      "execution_count": null,
      "outputs": []
    },
    {
      "cell_type": "code",
      "metadata": {
        "id": "Ff-e2NnRq9q5"
      },
      "source": [
        "#df.drop(0,inplace=True)"
      ],
      "execution_count": null,
      "outputs": []
    },
    {
      "cell_type": "code",
      "metadata": {
        "id": "3phxJsnVq9q5"
      },
      "source": [
        "# drop한 인스턴스가 있어서 인덱스 리셋\n",
        "#df=df.sort_values(by=['Timestamp'],axis=0,ascending=True)\n",
        "#df=df.reset_index(drop=True)\n",
        "#df.head(21)"
      ],
      "execution_count": null,
      "outputs": []
    },
    {
      "cell_type": "code",
      "metadata": {
        "id": "GHltXweoq9q5"
      },
      "source": [
        "# 인슐린, 탄수화물 투여시 혈당값 NULL\n",
        "# 그래서 t시점에 t-2 , t-1 크기비교해서 upper면 이렇게 lower면 이렇게 해서 interpolation ( 보간)\n",
        "# 이거 위에 참고사항 drop하고 나서 적용 해줘야됨\n",
        "#insul=list()\n",
        "#import math\n",
        "#def interpolate_glucose(df,col):\n",
        "#    #insul=list()\n",
        "    \n",
        "#    for i, row in df.iterrows():\n",
        "#        val=row[col]\n",
        "#        if math.isnan(val):\n",
        "#            if df['Glucose'][i-2] >= df['Glucose'][i-1]:\n",
        "#                c = (df['Glucose'][i-2] - df['Glucose'][i-1]) / 2 \n",
        "#                df.loc[i,col]= df['Glucose'][i-1] - c\n",
        "#                insul.append(i)\n",
        "#                print(insul)\n",
        "                \n",
        "#            if df['Glucose'][i-2] < df['Glucose'][i-1]:\n",
        "#                c = (df['Glucose'][i-2] - df['Glucose'][i-1]) / 2 \n",
        "#                df.loc[i,col]= df['Glucose'][i-1] - c\n",
        "#                insul.append(i)\n",
        "#                print(insul)\n",
        "        \n",
        "           "
      ],
      "execution_count": null,
      "outputs": []
    },
    {
      "cell_type": "code",
      "metadata": {
        "id": "oO-USeM2q9q6"
      },
      "source": [
        "# 인슐린 탄수화물 인덱스 문제 해결 파트 \n",
        "#insul=list()\n",
        "#meal=list()\n",
        "#import math\n",
        "#def interpolate_glucose(df,col):\n",
        "    #insul=list()\n",
        "    \n",
        "#    for i, row in df.iterrows():\n",
        "#        val=row[col]\n",
        "        #df=df.sort_values(by=['Timestamp'],axis=0,ascending=True)\n",
        "        #df=df.reset_index(drop=True)\n",
        "#        if math.isnan(val):\n",
        " #           if df['Event'][i]=='인슐린':\n",
        "  #              if df['Glucose'][i-1] is None:\n",
        "   #                 insul.append(i-2)\n",
        "                    \n",
        "                    \n",
        "    #            else:\n",
        "     #               insul.append(i-1)\n",
        "                    \n",
        "      #      if df['Event'][i]=='탄수화물':\n",
        "       #         if df['Glucose'][i-1] is None:\n",
        "        #            meal.append(i-2)\n",
        "                    \n",
        "         #       else:\n",
        "          #          meal.append(i-1)\n",
        "                    "
      ],
      "execution_count": null,
      "outputs": []
    },
    {
      "cell_type": "code",
      "metadata": {
        "id": "5ARbHQpIq9q6"
      },
      "source": [
        "#interpolate_glucose(df,'Glucose')"
      ],
      "execution_count": null,
      "outputs": []
    },
    {
      "cell_type": "code",
      "metadata": {
        "id": "jwvVWaHTq9q6"
      },
      "source": [
        "#meal"
      ],
      "execution_count": null,
      "outputs": []
    },
    {
      "cell_type": "code",
      "metadata": {
        "id": "UbYNhh3-q9q6"
      },
      "source": [
        "#insul"
      ],
      "execution_count": null,
      "outputs": []
    },
    {
      "cell_type": "code",
      "metadata": {
        "id": "dDhQ76wlq9q6"
      },
      "source": [
        "df['Glucose'].isnull().sum()"
      ],
      "execution_count": null,
      "outputs": []
    },
    {
      "cell_type": "code",
      "metadata": {
        "id": "HgDjhDWAq9q6"
      },
      "source": [
        "insul_glucose_value=list()\n",
        "for i in new_insul_list:\n",
        "    insul_glucose_value.append(df['Glucose'][i])"
      ],
      "execution_count": null,
      "outputs": []
    },
    {
      "cell_type": "code",
      "metadata": {
        "id": "PCAHh2D_q9q6"
      },
      "source": [
        "meal_glucose_value=list()\n",
        "for i in new_meal_list:\n",
        "    meal_glucose_value.append(df['Glucose'][i])"
      ],
      "execution_count": null,
      "outputs": []
    },
    {
      "cell_type": "code",
      "metadata": {
        "id": "aca-BcHzq9q7"
      },
      "source": [
        "insul_and_meal_glucose_value = list()\n",
        "for i in new_insul_and_meal_list:\n",
        "    insul_and_meal_glucose_value.append(df['Glucose'][i])"
      ],
      "execution_count": null,
      "outputs": []
    },
    {
      "cell_type": "code",
      "metadata": {
        "id": "Uqt843lhq9q7"
      },
      "source": [
        "#len = len(df['Timestamp'])\n",
        "#plt.text(-100,-1,df['Timestamp'][0],family='Times New Roman',fontweight='bold',size=17)"
      ],
      "execution_count": null,
      "outputs": []
    },
    {
      "cell_type": "code",
      "metadata": {
        "id": "ajebDiOAq9q7"
      },
      "source": [
        "import matplotlib.patches as mpatches\n",
        "import matplotlib.lines as mlines\n",
        "\n",
        "df.plot(figsize=(15,6),color='gray',alpha=0.5)\n",
        "plt.axhline(y=70,c='r',linestyle='--',linewidth=1)\n",
        "plt.axhline(y=180,c='r',linestyle='--',linewidth=1)\n",
        "plt.axhline(y=400,c='r',linestyle='--',linewidth=1)\n",
        "#plt.axhline(y=60,c='black',linestyle='--',linewidth=1)\n",
        "plt.text(len(df['Timestamp']),185,'Hyperglycemic Threshold',family='Times New Roman',size=15)\n",
        "plt.text(len(df['Timestamp']),75,'Hypoglycemic Threshold',family='Times New Roman',size=15)\n",
        "\n",
        "plt.scatter(new_insul_list,insul_glucose_value,edgecolor='black',s=50,label='Insulin',marker='o',c='red')\n",
        "plt.scatter(new_meal_list,meal_glucose_value,edgecolor='black',s=50,label='Carbohydrate',marker='o',c='green')\n",
        "plt.scatter(new_insul_and_meal_list,insul_and_meal_glucose_value,edgecolor='black',s=50,label='Insulin + Carbohydrate',marker='o',c='blue')\n",
        "\n",
        "red_patch = mpatches.Patch(color='red',label='Insulin')\n",
        "\n",
        "red_line = mlines.Line2D([],[],color='red',marker='o',markersize=15,label='Insulin')\n",
        "green_line = mlines.Line2D([],[],color='green',marker='o',markersize=15,label='Carbohydrate')\n",
        "blue_line = mlines.Line2D([],[],color='blue',marker='o',markersize=15,label='Insulin + Carbohydrate')\n",
        "plt.text(len(df['Timestamp']),405,'Too High ( Glucose value 400 + )',family='Times New Roman',size=15)\n",
        "plt.text(len(df['Timestamp']),60,'',family='Times New Roman',size=15)\n",
        "#plt.text(len(df['Timestamp']),-1,df['Timestamp'][len(df['Timestamp'])],family='Times New Roman',\n",
        "#         fontweight='bold',size=20)\n",
        "plt.text(-100,-1,df['Timestamp'][0],family='Times New Roman',fontweight='bold',size=17)\n",
        "plt.text(len(df['Timestamp']),-1,df['Timestamp'][len(df['Timestamp'])-1],family='Times New Roman',fontweight='bold',size=17)\n",
        "plt.legend(['Insulin','Carbohydrate','Insulin + Carbohydrate'],loc='best',fontsize='x-small',handles=[red_line,green_line,blue_line])\n",
        "#plt.text(-100,-1,df['Timestamp'][14],family='Times New Roman',\n",
        "\n",
        "#         fontweight='bold',size=20)\n",
        "\n",
        "#y=70\n",
        "#plt.plot(y,'b--',linestyles='--'),\n",
        "#plt.hlines(70,linestyles='--')\n",
        "plt.show()"
      ],
      "execution_count": null,
      "outputs": []
    },
    {
      "cell_type": "code",
      "metadata": {
        "id": "eXer8h_dq9q7"
      },
      "source": [
        "for i in range(len(df)):\n",
        "    if isNaN(df['Insulin'][i]):\n",
        "        df['Insulin'][i]=1\n",
        "    else:\n",
        "        df['Insulin'][i]=0\n",
        "        \n",
        "     "
      ],
      "execution_count": null,
      "outputs": []
    },
    {
      "cell_type": "code",
      "metadata": {
        "id": "rPq3Eljfq9q8"
      },
      "source": [
        "for i in range(len(df)):\n",
        "    if isNaN(df['Meal'][i]):\n",
        "        df['Meal'][i]=1\n",
        "    else:\n",
        "        df['Meal'][i]=0\n",
        "        "
      ],
      "execution_count": null,
      "outputs": []
    },
    {
      "cell_type": "code",
      "metadata": {
        "id": "gwSdbaC-q9q8"
      },
      "source": [
        "df[1900:1950]"
      ],
      "execution_count": null,
      "outputs": []
    },
    {
      "cell_type": "code",
      "metadata": {
        "id": "QxwcSjuqtMXO"
      },
      "source": [
        "def fix_glucose_value(df,col):\n",
        "    for i, row in df.iterrows():\n",
        "        val = row[col]\n",
        "        \n",
        "        df.loc[i,col] = math.floor(val)"
      ],
      "execution_count": null,
      "outputs": []
    },
    {
      "cell_type": "code",
      "metadata": {
        "id": "sIkC9Oi-t-Rh"
      },
      "source": [
        "fix_glucose_value(df,'Glucose')"
      ],
      "execution_count": null,
      "outputs": []
    },
    {
      "cell_type": "markdown",
      "metadata": {
        "id": "KZ8pAdTfq9q8"
      },
      "source": [
        "## 이제 여기부터 DL 모델 돌려볼 것 \n",
        "+ 일단 모델부터 간단하게 돌려보고 성능 측정\n",
        "+ 그리고 전처리 해가면서 성능 비교"
      ]
    },
    {
      "cell_type": "code",
      "metadata": {
        "id": "TDvQ2BGIq9q8"
      },
      "source": [
        "import numpy as np\n",
        "import tensorflow as tf\n",
        "import random as rn"
      ],
      "execution_count": null,
      "outputs": []
    },
    {
      "cell_type": "code",
      "metadata": {
        "id": "qlRi61Seq9q8"
      },
      "source": [
        "# 재현 가능한 결과를 만들기 위해 시드값 설정 \n",
        "import os \n",
        "import random\n",
        "seed_num = 42\n",
        "os.environ['PYTHONHASHSEED']=str(seed_num)\n",
        "\n",
        "random.seed(seed_num)\n",
        "np.random.seed(seed_num)\n",
        "tf.random.set_seed(seed_num)"
      ],
      "execution_count": null,
      "outputs": []
    },
    {
      "cell_type": "code",
      "metadata": {
        "id": "pUArI0P3q9q8"
      },
      "source": [
        "from tensorflow.compat.v1.keras import backend as K\n",
        "\n",
        "session_conf = tf.compat.v1.ConfigProto(intra_op_parallelism_threads=1,\n",
        "                             inter_op_parallelism_threads=1)\n",
        "sess=tf.compat.v1.Session(graph=tf.compat.v1.get_default_graph(),config=session_conf)\n",
        "K.set_session(sess)"
      ],
      "execution_count": null,
      "outputs": []
    },
    {
      "cell_type": "code",
      "metadata": {
        "id": "88Z8zIskq9q8"
      },
      "source": [
        "#from keras import backend as K\n",
        "#session_conf = tf.compat.v1.ConfigProto(intra_op_parallelism_threads=1, inter_op_parallelism_threads=1)\n",
        "#sess = tf.compat.v1.Session(graph=tf.compat.v1.get_default_graph(), config=session_conf)\n",
        "#tf.compat.v1.keras.backend.set_session(sess)\n"
      ],
      "execution_count": null,
      "outputs": []
    },
    {
      "cell_type": "code",
      "metadata": {
        "id": "Aqk7ufhwq9q8"
      },
      "source": [
        "from sklearn.metrics import mean_squared_error\n",
        "def RMSE(y_test,y_predict):\n",
        "    return np.sqrt(mean_squared_error(y_test,y_predict))"
      ],
      "execution_count": null,
      "outputs": []
    },
    {
      "cell_type": "code",
      "metadata": {
        "id": "IwF66uXz-ArH"
      },
      "source": [
        "leaky_relu = tf.nn.leaky_relu"
      ],
      "execution_count": null,
      "outputs": []
    },
    {
      "cell_type": "markdown",
      "metadata": {
        "id": "k9ZweSiOq9q9"
      },
      "source": [
        "## 15분"
      ]
    },
    {
      "cell_type": "code",
      "metadata": {
        "id": "8SS1vEWEq9q9"
      },
      "source": [
        "def uni_data(dataset,start_index,end_index, history_size, target_size):\n",
        "    data=[]\n",
        "    labels=[]\n",
        "    \n",
        "    start_index= start_index+history_size\n",
        "    if end_index is None:\n",
        "    #if end_index > len(dataset)-1:\n",
        "        end_index = len(dataset)-target_size\n",
        "        \n",
        "    for i in range(start_index,end_index):\n",
        "        indices = range(i-history_size,i)\n",
        "        \n",
        "        data.append(np.reshape(dataset[indices],(history_size,1)))\n",
        "        #data.append(np.reshape(dataset[indices],(history_size)))\n",
        "        labels.append(dataset[i+target_size])\n",
        "    return np.array(data),np.array(labels)"
      ],
      "execution_count": null,
      "outputs": []
    },
    {
      "cell_type": "code",
      "metadata": {
        "id": "y_NuM1bSq9q9"
      },
      "source": [
        "raw_seq = df['Glucose']\n",
        "raw_seq=raw_seq.to_numpy(dtype='int64')"
      ],
      "execution_count": null,
      "outputs": []
    },
    {
      "cell_type": "code",
      "metadata": {
        "id": "6K0_WsMxslM8"
      },
      "source": [
        "len(raw_seq) * 0.7"
      ],
      "execution_count": null,
      "outputs": []
    },
    {
      "cell_type": "code",
      "metadata": {
        "id": "aZhx-ObNq9q9"
      },
      "source": [
        "# SG필터 테스트 \n",
        "#import scipy.signal \n",
        "\n",
        "#yhat = scipy.signal.savgol_filter(raw_seq,15,5)\n",
        "#plt.plot(raw_seq)\n",
        "#plt.plot(yhat,color='red')\n",
        "#plt.show()"
      ],
      "execution_count": null,
      "outputs": []
    },
    {
      "cell_type": "code",
      "metadata": {
        "id": "UlRv9hfhq9q9"
      },
      "source": [
        "# SG필터 적용하는 부분 \n",
        "# x_train_uni_origin 이런 식이었음 \n",
        "#TRAIN_SPLIT=int(len(raw_seq)*0.7)\n",
        "#uni_past_history=6\n",
        "#uni_future_target=2 # 이거 -1이면 naive method \n",
        "#x_train_uni,y_train_uni = uni_data(,0,TRAIN_SPLIT,\n",
        "#                                  uni_past_history,\n",
        "#                                  uni_future_target)\n",
        "#x_val_uni,y_val_uni=uni_data(yhat,TRAIN_SPLIT,None,\n",
        "#                            uni_past_history,\n",
        "#                            uni_future_target)"
      ],
      "execution_count": null,
      "outputs": []
    },
    {
      "cell_type": "code",
      "metadata": {
        "id": "yRIPEfAnq9q-"
      },
      "source": [
        "TRAIN_SPLIT=int(len(raw_seq)*0.7)\n",
        "uni_past_history=6\n",
        "uni_future_target=2 # 이거 -1이면 naive method \n",
        "x_train_uni_origin,y_train_uni_origin = uni_data(raw_seq,0,TRAIN_SPLIT,\n",
        "                                  uni_past_history,\n",
        "                                  uni_future_target)\n",
        "x_val_uni_origin,y_val_uni_origin=uni_data(raw_seq,TRAIN_SPLIT,None,\n",
        "                            uni_past_history,\n",
        "                            uni_future_target)"
      ],
      "execution_count": null,
      "outputs": []
    },
    {
      "cell_type": "code",
      "metadata": {
        "id": "VmBY3EgTq9q-"
      },
      "source": [
        "TRAIN_SPLIT=int(len(raw_seq)*0.7)\n",
        "uni_past_history=6\n",
        "uni_future_target=2 # 이거 -1이면 naive method \n",
        "x_train_uni,y_train_uni = uni_data(raw_seq,0,TRAIN_SPLIT,\n",
        "                                  uni_past_history,\n",
        "                                  uni_future_target)\n",
        "x_val_uni,y_val_uni=uni_data(raw_seq,TRAIN_SPLIT,None,\n",
        "                            uni_past_history,\n",
        "                            uni_future_target)"
      ],
      "execution_count": null,
      "outputs": []
    },
    {
      "cell_type": "code",
      "metadata": {
        "id": "TiMRsQu6q9q-"
      },
      "source": [
        "y_val_uni.shape"
      ],
      "execution_count": null,
      "outputs": []
    },
    {
      "cell_type": "code",
      "metadata": {
        "id": "1TFzWz2uUczf"
      },
      "source": [
        "y_train_uni.shape"
      ],
      "execution_count": null,
      "outputs": []
    },
    {
      "cell_type": "code",
      "metadata": {
        "id": "YEwvsFYsq9q-"
      },
      "source": [
        "#y_train_uni_origin[:10]"
      ],
      "execution_count": null,
      "outputs": []
    },
    {
      "cell_type": "code",
      "metadata": {
        "id": "II9I_jTfq9q-"
      },
      "source": [
        "#y_train_uni.shape\n",
        "df[:15]"
      ],
      "execution_count": null,
      "outputs": []
    },
    {
      "cell_type": "code",
      "metadata": {
        "id": "nZmSbrQ-q9q-"
      },
      "source": [
        "x_train_uni[5:10]"
      ],
      "execution_count": null,
      "outputs": []
    },
    {
      "cell_type": "code",
      "metadata": {
        "id": "ucQhIPwnbbRj"
      },
      "source": [
        ""
      ],
      "execution_count": null,
      "outputs": []
    },
    {
      "cell_type": "code",
      "metadata": {
        "id": "wXqyvuc9q9q-"
      },
      "source": [
        "y_train_uni[5:10]"
      ],
      "execution_count": null,
      "outputs": []
    },
    {
      "cell_type": "code",
      "metadata": {
        "id": "vL9We5Jgq9q-"
      },
      "source": [
        "#df['Glucose'].head(10)"
      ],
      "execution_count": null,
      "outputs": []
    },
    {
      "cell_type": "code",
      "metadata": {
        "id": "hUSncI-Sq9q-"
      },
      "source": [
        "x_train_uni.shape[-2:]"
      ],
      "execution_count": null,
      "outputs": []
    },
    {
      "cell_type": "markdown",
      "metadata": {
        "id": "HQPckPZIq9q_"
      },
      "source": [
        "### RNN - 15분"
      ]
    },
    {
      "cell_type": "code",
      "metadata": {
        "id": "Y7KrM-dXq9q_"
      },
      "source": [
        "from keras.models import Sequential\n",
        "from keras.layers import LSTM\n",
        "from keras.layers import Dense"
      ],
      "execution_count": null,
      "outputs": []
    },
    {
      "cell_type": "code",
      "metadata": {
        "id": "PM1Jf0S1q9q_"
      },
      "source": [
        "from keras.layers import SimpleRNN"
      ],
      "execution_count": null,
      "outputs": []
    },
    {
      "cell_type": "code",
      "metadata": {
        "id": "Kv4P-ky6q9q_"
      },
      "source": [
        "#n_steps = 3\n",
        "#delay=3\n",
        "#n_features=1"
      ],
      "execution_count": null,
      "outputs": []
    },
    {
      "cell_type": "code",
      "metadata": {
        "id": "paaldoWlq9q_"
      },
      "source": [
        "# 재현 가능한 결과를 만들기 위해 \n",
        "# 매번 반복해야 하는 작업 \n",
        "seed_num = 42\n",
        "random.seed(seed_num)\n",
        "np.random.seed(seed_num)\n",
        "tf.random.set_seed(seed_num)\n",
        "\n",
        "session_conf = tf.compat.v1.ConfigProto(intra_op_parallelism_threads=1,\n",
        "                             inter_op_parallelism_threads=1)\n",
        "sess=tf.compat.v1.Session(graph=tf.compat.v1.get_default_graph(),config=session_conf)\n",
        "K.set_session(sess)"
      ],
      "execution_count": null,
      "outputs": []
    },
    {
      "cell_type": "code",
      "metadata": {
        "id": "fLbmN1r8q9q_"
      },
      "source": [
        "model = Sequential()\n",
        "model.add(SimpleRNN(50,activation='relu',input_shape=x_train_uni.shape[-2:],return_sequences=False)) #recurrent_dropout=0.2\n",
        "model.add(Dense(1))"
      ],
      "execution_count": null,
      "outputs": []
    },
    {
      "cell_type": "code",
      "metadata": {
        "id": "9FngRthxq9q_"
      },
      "source": [
        "model.compile(optimizer='adam',loss='mse')\n",
        "model.fit(x_train_uni,y_train_uni,epochs=300,verbose=0)\n",
        "K.clear_session()\n",
        "val_rnn_15_predict_result = model.predict(x_val_uni,verbose=0)"
      ],
      "execution_count": null,
      "outputs": []
    },
    {
      "cell_type": "code",
      "metadata": {
        "id": "Mc4LzdlHq9rA"
      },
      "source": [
        "# 예측값 상한선 = 400 \n",
        "for i in range(len(val_rnn_15_predict_result)):\n",
        "    if val_rnn_15_predict_result[i] >= 400: \n",
        "        val_rnn_15_predict_result[i]=400\n",
        "# Val set RMSE \n",
        "print(' Vanila RNN (Simple RNN) - RMSE (15min) : ',RMSE(y_val_uni_origin,val_rnn_15_predict_result))\n",
        "val_rnn_15 = RMSE(y_val_uni_origin,val_rnn_15_predict_result)\n"
      ],
      "execution_count": null,
      "outputs": []
    },
    {
      "cell_type": "markdown",
      "metadata": {
        "id": "4ywA6Z8-q9rA"
      },
      "source": [
        "#### Validation"
      ]
    },
    {
      "cell_type": "code",
      "metadata": {
        "id": "Mm9S-h9Bq9rA"
      },
      "source": [
        "plt.figure(figsize=(12,9))\n",
        "plt.plot(y_val_uni_origin,label='actual')\n",
        "plt.plot(val_rnn_15_predict_result,label='prediction')\n",
        "plt.axhline(y=70,c='r',linestyle='--',linewidth=1)\n",
        "plt.axhline(y=180,c='r',linestyle='--',linewidth=1)\n",
        "plt.axhline(y=400,c='r',linestyle='--',linewidth=1)\n",
        "plt.text(len(val_rnn_15_predict_result),185,'Hyperglycemic Threshold',family='Times New Roman',size=15)\n",
        "plt.text(len(val_rnn_15_predict_result),75,'Hypoglycemic Threshold',family='Times New Roman',size=15)\n",
        "plt.text(len(val_rnn_15_predict_result),405,'Too High ( Glucose value 400 + )',family='Times New Roman',size=15)\n",
        "plt.title('Vanila RNN (Included Hypoglycemic threshold)',family='Times New Roman')\n",
        "plt.legend()\n",
        "plt.show()"
      ],
      "execution_count": null,
      "outputs": []
    },
    {
      "cell_type": "code",
      "metadata": {
        "id": "Q13PLrCFRvA7"
      },
      "source": [
        "train = df.loc[:TRAIN_TEST_SPLIT , ['Glucose']]\n",
        "\n",
        "plt.figure(figsize=(12,9))\n",
        "#plt.plot(y_val_uni_origin,label='actual')\n",
        "val_rnn_15_predict_result.plot(ax=ax)\n",
        "ax = y_val_uni_origin.plot(label='actual')\n",
        "plt.plot(val_rnn_15_predict_result,label='prediction')\n",
        "plt.axhline(y=70,c='r',linestyle='--',linewidth=1)\n",
        "plt.axhline(y=180,c='r',linestyle='--',linewidth=1)\n",
        "plt.axhline(y=400,c='r',linestyle='--',linewidth=1)\n",
        "plt.text(len(val_rnn_15_predict_result),185,'Hyperglycemic Threshold',family='Times New Roman',size=15)\n",
        "plt.text(len(val_rnn_15_predict_result),75,'Hypoglycemic Threshold',family='Times New Roman',size=15)\n",
        "plt.text(len(val_rnn_15_predict_result),405,'Too High ( Glucose value 400 + )',family='Times New Roman',size=15)\n",
        "plt.title('Vanila RNN (Included Hypoglycemic threshold)',family='Times New Roman')\n",
        "plt.legend()\n",
        "plt.show()"
      ],
      "execution_count": null,
      "outputs": []
    },
    {
      "cell_type": "code",
      "metadata": {
        "id": "qvefIcCYq9rA"
      },
      "source": [
        "from pandas import DataFrame\n",
        "from statsmodels.graphics.gofplots import qqplot\n",
        "from scipy.stats import probplot\n",
        "\n",
        "#residuals=DataFrame(residuals)"
      ],
      "execution_count": null,
      "outputs": []
    },
    {
      "cell_type": "code",
      "metadata": {
        "id": "cxxWtyevq9rA"
      },
      "source": [
        "residuals = [y_val_uni_origin[i]-val_rnn_15_predict_result[i] for i in range(len(val_rnn_15_predict_result))]\n",
        "residuals = y_val_uni_origin - val_rnn_15_predict_result.reshape(-1)\n",
        "probplot(residuals,dist=\"norm\",plot=plt)\n",
        "plt.title(\"Simple RNN Normal Q-Q Plot\")"
      ],
      "execution_count": null,
      "outputs": []
    },
    {
      "cell_type": "markdown",
      "metadata": {
        "id": "r3XBpyzsq9rA"
      },
      "source": [
        "#### 잔차"
      ]
    },
    {
      "cell_type": "code",
      "metadata": {
        "id": "CePIdmP-q9rB"
      },
      "source": [
        "probplot(residuals,dist=\"norm\",plot=plt)\n",
        "plt.title(\"Simple RNN Normal Q-Q Plot\")"
      ],
      "execution_count": null,
      "outputs": []
    },
    {
      "cell_type": "code",
      "metadata": {
        "id": "n81g3hWYq9rB"
      },
      "source": [
        "residuals=DataFrame(residuals)"
      ],
      "execution_count": null,
      "outputs": []
    },
    {
      "cell_type": "code",
      "metadata": {
        "id": "YCgPM4jLq9rB"
      },
      "source": [
        "residuals.plot()"
      ],
      "execution_count": null,
      "outputs": []
    },
    {
      "cell_type": "code",
      "metadata": {
        "id": "QHb29lrgq9rB"
      },
      "source": [
        "\n",
        "residuals.hist()"
      ],
      "execution_count": null,
      "outputs": []
    },
    {
      "cell_type": "code",
      "metadata": {
        "id": "oIlBxvNrq9rB"
      },
      "source": [
        "residuals.plot(kind='kde')"
      ],
      "execution_count": null,
      "outputs": []
    },
    {
      "cell_type": "code",
      "metadata": {
        "id": "xH4aOHi_q9rB"
      },
      "source": [
        "from statsmodels.graphics.gofplots import qqplot\n",
        "residuals=np.array(residuals)\n",
        "qqplot(residuals)"
      ],
      "execution_count": null,
      "outputs": []
    },
    {
      "cell_type": "code",
      "metadata": {
        "id": "xH_z485qq9rC"
      },
      "source": [
        "# 트레이닝셋 rmse 구하는 부분 \n",
        "train_rnn_15_predict_result = model.predict(x_train_uni,verbose=0)\n",
        "for i in range(len(train_rnn_15_predict_result)):\n",
        "    if train_rnn_15_predict_result[i] >= 400: \n",
        "        train_rnn_15_predict_result[i]=400            \n",
        "print(' Training set / Vanila RNN (Simple RNN) - RMSE (15min) : ',RMSE(y_train_uni_origin,train_rnn_15_predict_result))\n",
        "train_rnn_15=RMSE(y_train_uni_origin,train_rnn_15_predict_result)"
      ],
      "execution_count": null,
      "outputs": []
    },
    {
      "cell_type": "markdown",
      "metadata": {
        "id": "euACgidBq9rC"
      },
      "source": [
        "#### Train"
      ]
    },
    {
      "cell_type": "code",
      "metadata": {
        "id": "XlHK7tXlq9rC"
      },
      "source": [
        "# 트레이닝셋\n",
        "plt.figure(figsize=(12,9))\n",
        "plt.plot(y_train_uni,label='actual')\n",
        "plt.plot(train_rnn_15_predict_result,label='prediction')\n",
        "plt.axhline(y=70,c='r',linestyle='--',linewidth=1)\n",
        "plt.axhline(y=180,c='r',linestyle='--',linewidth=1)\n",
        "plt.axhline(y=400,c='r',linestyle='--',linewidth=1)\n",
        "plt.text(len(train_rnn_15_predict_result),185,'Hyperglycemic Threshold',family='Times New Roman',size=15)\n",
        "plt.text(len(train_rnn_15_predict_result),75,'Hypoglycemic Threshold',family='Times New Roman',size=15)\n",
        "plt.text(len(train_rnn_15_predict_result),405,'Too High ( Glucose value 400 + )',family='Times New Roman',size=15)\n",
        "plt.title('RNN (Training set)',family='Times New Roman')\n",
        "plt.legend()\n",
        "plt.show()"
      ],
      "execution_count": null,
      "outputs": []
    },
    {
      "cell_type": "code",
      "metadata": {
        "id": "fMaL1qGPq9rC"
      },
      "source": [
        "# 트레이닝셋\n",
        "plt.figure(figsize=(12,9))\n",
        "plt.plot(y_train_uni,label='actual')\n",
        "plt.plot(train_rnn_15_predict_result,label='prediction')\n",
        "plt.axhline(y=70,c='r',linestyle='--',linewidth=1)\n",
        "plt.axhline(y=180,c='r',linestyle='--',linewidth=1)\n",
        "plt.axhline(y=400,c='r',linestyle='--',linewidth=1)\n",
        "plt.text(len(train_rnn_15_predict_result),185,'Hyperglycemic Threshold',family='Times New Roman',size=15)\n",
        "plt.text(len(train_rnn_15_predict_result),75,'Hypoglycemic Threshold',family='Times New Roman',size=15)\n",
        "plt.text(len(train_rnn_15_predict_result),405,'Too High ( Glucose value 400 + )',family='Times New Roman',size=15)\n",
        "plt.title('RNN (Training set)',family='Times New Roman')\n",
        "plt.legend()\n",
        "plt.show()"
      ],
      "execution_count": null,
      "outputs": []
    },
    {
      "cell_type": "markdown",
      "metadata": {
        "id": "-5iNaRHAq9rC"
      },
      "source": [
        "### LSTM - 15분"
      ]
    },
    {
      "cell_type": "code",
      "metadata": {
        "id": "v-GdS9PNq9rC"
      },
      "source": [
        "# 재현 가능한 결과를 만들기 위해 \n",
        "# 매번 반복해야 하는 작업 \n",
        "seed_num = 42\n",
        "random.seed(seed_num)\n",
        "np.random.seed(seed_num)\n",
        "tf.random.set_seed(seed_num)\n",
        "\n",
        "session_conf = tf.compat.v1.ConfigProto(intra_op_parallelism_threads=1,\n",
        "                             inter_op_parallelism_threads=1)\n",
        "sess=tf.compat.v1.Session(graph=tf.compat.v1.get_default_graph(),config=session_conf)\n",
        "K.set_session(sess)"
      ],
      "execution_count": null,
      "outputs": []
    },
    {
      "cell_type": "code",
      "metadata": {
        "id": "_7cFXnNzq9rC"
      },
      "source": [
        "model = Sequential()\n",
        "model.add(LSTM(50,activation='relu',input_shape=x_train_uni.shape[-2:])) #recurrent_dropout=0.2, unit_forget_bias=False\n",
        "model.add(Dense(1))\n"
      ],
      "execution_count": null,
      "outputs": []
    },
    {
      "cell_type": "code",
      "metadata": {
        "id": "-kjYxLtvq9rD"
      },
      "source": [
        "model.compile(optimizer='adam',loss='mse')\n",
        "model.fit(x_train_uni,y_train_uni,epochs=300,verbose=0)\n",
        "K.clear_session()\n",
        "val_lstm_15_predict_result = model.predict(x_val_uni,verbose=0)"
      ],
      "execution_count": null,
      "outputs": []
    },
    {
      "cell_type": "code",
      "metadata": {
        "id": "65txUsByq9rD"
      },
      "source": [
        "# 예측값 상한선 = 400 \n",
        "for i in range(len(val_lstm_15_predict_result)):\n",
        "    if val_lstm_15_predict_result[i] >= 400: \n",
        "        val_lstm_15_predict_result[i]=400\n",
        "print(' LSTM - RMSE (15min) : ',RMSE(y_val_uni_origin,val_lstm_15_predict_result))\n",
        "val_lstm_15=RMSE(y_val_uni_origin,val_lstm_15_predict_result)"
      ],
      "execution_count": null,
      "outputs": []
    },
    {
      "cell_type": "code",
      "metadata": {
        "id": "YEO_Qg1tq9rD"
      },
      "source": [
        "TRAIN_SPLIT"
      ],
      "execution_count": null,
      "outputs": []
    },
    {
      "cell_type": "markdown",
      "metadata": {
        "id": "v-9x6H-6q9rE"
      },
      "source": [
        "#### 잔차"
      ]
    },
    {
      "cell_type": "code",
      "metadata": {
        "id": "NUy8yM3Jq9rE"
      },
      "source": [
        "residuals = [y_val_uni_origin[i]-val_lstm_15_predict_result[i] for i in range(len(val_lstm_15_predict_result))]\n",
        "residuals = y_val_uni_origin - val_lstm_15_predict_result.reshape(-1)\n",
        "probplot(residuals,dist=\"norm\",plot=plt)\n",
        "plt.title(\"LSTM Normal Q-Q Plot\")"
      ],
      "execution_count": null,
      "outputs": []
    },
    {
      "cell_type": "markdown",
      "metadata": {
        "id": "e7PH0_m9q9rE"
      },
      "source": [
        "#### Validation"
      ]
    },
    {
      "cell_type": "code",
      "metadata": {
        "id": "ck00pFD3q9rE"
      },
      "source": [
        "# 테스트셋\n",
        "plt.figure(figsize=(12,9))\n",
        "plt.plot(y_val_uni_origin,label='actual')\n",
        "plt.plot(val_lstm_15_predict_result,label='prediction')\n",
        "plt.axhline(y=70,c='r',linestyle='--',linewidth=1)\n",
        "plt.axhline(y=180,c='r',linestyle='--',linewidth=1)\n",
        "plt.axhline(y=400,c='r',linestyle='--',linewidth=1)\n",
        "plt.text(len(val_lstm_15_predict_result),75,'Hypoglycemic Threshold',family='Times New Roman',size=15)\n",
        "plt.text(len(val_lstm_15_predict_result),185,'Hyperglycemic Threshold',family='Times New Roman',size=15)\n",
        "#plt.text(len(predict_result),75,'Hypoglycemic Threshold',family='Times New Roman',size=15)\n",
        "plt.text(-50,-1,df['Timestamp'][TRAIN_SPLIT],family='Times New Roman',fontweight='bold',size=17)\n",
        "plt.text(len(df['Timestamp'])-TRAIN_SPLIT-10,-1,df['Timestamp'][len(df['Timestamp'])-1],family='Times New Roman',fontweight='bold',size=17)\n",
        "plt.text(len(val_lstm_15_predict_result),405,'Too High ( Glucose value 400 + )',family='Times New Roman',size=15)\n",
        "plt.title('LSTM (Without Hypoglycemic threshold)',family='Times New Roman')\n",
        "plt.legend(loc='best')\n",
        "\n",
        "plt.show()"
      ],
      "execution_count": null,
      "outputs": []
    },
    {
      "cell_type": "code",
      "metadata": {
        "id": "pzDy7KGRq9rE"
      },
      "source": [
        "# 트레이닝셋 RMSE 계산 \n",
        "train_lstm_15_predict_result = model.predict(x_train_uni,verbose=0)\n",
        "\n",
        "# 예측값 상한선 = 400 \n",
        "for i in range(len(train_lstm_15_predict_result)):\n",
        "    if train_lstm_15_predict_result[i] >= 400: \n",
        "        train_lstm_15_predict_result[i]=400\n",
        "print(' LSTM - RMSE (15min) Training set : ',RMSE(y_train_uni_origin,train_lstm_15_predict_result))\n",
        "train_lstm_15 =RMSE(y_train_uni_origin,train_lstm_15_predict_result)"
      ],
      "execution_count": null,
      "outputs": []
    },
    {
      "cell_type": "markdown",
      "metadata": {
        "id": "q6S8qBVAq9rE"
      },
      "source": [
        "#### Train"
      ]
    },
    {
      "cell_type": "code",
      "metadata": {
        "id": "OXwSA8S7q9rE"
      },
      "source": [
        "# 트레이닝셋\n",
        "plt.figure(figsize=(12,9))\n",
        "plt.plot(y_train_uni,label='actual')\n",
        "plt.plot(train_lstm_15_predict_result,label='prediction')\n",
        "plt.axhline(y=70,c='r',linestyle='--',linewidth=1)\n",
        "plt.axhline(y=180,c='r',linestyle='--',linewidth=1)\n",
        "plt.axhline(y=400,c='r',linestyle='--',linewidth=1)\n",
        "plt.text(len(train_lstm_15_predict_result),185,'Hyperglycemic Threshold',family='Times New Roman',size=15)\n",
        "#plt.text(len(predict_result),75,'Hypoglycemic Threshold',family='Times New Roman',size=15)\n",
        "plt.text(len(train_lstm_15_predict_result),75,'Hypoglycemic Threshold',family='Times New Roman',size=15)\n",
        "plt.text(len(train_lstm_15_predict_result),405,'Too High ( Glucose value 400 + )',family='Times New Roman',size=15)\n",
        "plt.title('LSTM (Training set)',family='Times New Roman')\n",
        "#plt.text(-100,-1,df['Timestamp'][0],family='Times New Roman',fontweight='bold',size=17)\n",
        "#plt.text(len(predict_result),405,'Too High ( Glucose value 400 + )',family='Times New Roman',size=15)\n",
        "\n",
        "plt.text(-50,-1,df['Timestamp'][0],family='Times New Roman',fontweight='bold',size=17)\n",
        "plt.text(len(train_lstm_15_predict_result)-100,-1,df['Timestamp'][len(df['Timestamp'])-1],family='Times New Roman',fontweight='bold',size=17)\n",
        "\n",
        "plt.legend()\n",
        "plt.show()"
      ],
      "execution_count": null,
      "outputs": []
    },
    {
      "cell_type": "code",
      "metadata": {
        "id": "Ud7DqIX3ylbC"
      },
      "source": [
        ""
      ],
      "execution_count": null,
      "outputs": []
    },
    {
      "cell_type": "markdown",
      "metadata": {
        "id": "_mxaEc6hq9rF"
      },
      "source": [
        "### Stacked LSTM - 15분"
      ]
    },
    {
      "cell_type": "code",
      "metadata": {
        "id": "uNN_F7wOq9rF"
      },
      "source": [
        "# 재현 가능한 결과를 만들기 위해 \n",
        "# 매번 반복해야 하는 작업 \n",
        "seed_num = 42\n",
        "random.seed(seed_num)\n",
        "np.random.seed(seed_num)\n",
        "tf.random.set_seed(seed_num)\n",
        "\n",
        "session_conf = tf.compat.v1.ConfigProto(intra_op_parallelism_threads=1,\n",
        "                             inter_op_parallelism_threads=1)\n",
        "sess=tf.compat.v1.Session(graph=tf.compat.v1.get_default_graph(),config=session_conf)\n",
        "K.set_session(sess)"
      ],
      "execution_count": null,
      "outputs": []
    },
    {
      "cell_type": "code",
      "metadata": {
        "id": "can57naHq9rF"
      },
      "source": [
        "model = Sequential()\n",
        "model.add(LSTM(50,activation='relu',return_sequences=True,input_shape=x_train_uni.shape[-2:]))\n",
        "model.add(LSTM(50,activation='relu'))\n",
        "model.add(Dense(1))\n",
        "model.compile(optimizer='adam',loss='mse')"
      ],
      "execution_count": null,
      "outputs": []
    },
    {
      "cell_type": "code",
      "metadata": {
        "id": "RwZOAQGuq9rF"
      },
      "source": [
        "model.fit(x_train_uni,y_train_uni,epochs=300,verbose=0)"
      ],
      "execution_count": null,
      "outputs": []
    },
    {
      "cell_type": "code",
      "metadata": {
        "id": "Pod4AxYaq9rF"
      },
      "source": [
        "K.clear_session()"
      ],
      "execution_count": null,
      "outputs": []
    },
    {
      "cell_type": "code",
      "metadata": {
        "id": "PSRAcPTFq9rF"
      },
      "source": [
        "val_slstm_15_predict_result = model.predict(x_val_uni,verbose=0)\n"
      ],
      "execution_count": null,
      "outputs": []
    },
    {
      "cell_type": "code",
      "metadata": {
        "id": "bI5AGkAYq9rF"
      },
      "source": [
        "for i in range(len(val_slstm_15_predict_result)):\n",
        "    if val_slstm_15_predict_result[i] >= 400: \n",
        "        val_slstm_15_predict_result[i]=400"
      ],
      "execution_count": null,
      "outputs": []
    },
    {
      "cell_type": "code",
      "metadata": {
        "id": "KN0LgNWrq9rG"
      },
      "source": [
        "print(' Stacked LSTM - RMSE(15min) : ',RMSE(y_val_uni_origin,val_slstm_15_predict_result))\n",
        "val_stacklstm_15 =RMSE(y_val_uni_origin,val_slstm_15_predict_result)"
      ],
      "execution_count": null,
      "outputs": []
    },
    {
      "cell_type": "markdown",
      "metadata": {
        "id": "YmVSIZESq9rG"
      },
      "source": [
        "#### Validation"
      ]
    },
    {
      "cell_type": "code",
      "metadata": {
        "id": "rLk-gT0qq9rG"
      },
      "source": [
        "# 테스트셋\n",
        "plt.figure(figsize=(12,9))\n",
        "plt.plot(y_val_uni_origin,label='actual')\n",
        "plt.plot(val_slstm_15_predict_result,label='prediction')\n",
        "plt.axhline(y=70,c='r',linestyle='--',linewidth=1)\n",
        "plt.axhline(y=180,c='r',linestyle='--',linewidth=1)\n",
        "plt.axhline(y=400,c='r',linestyle='--',linewidth=1)\n",
        "plt.text(len(val_slstm_15_predict_result),75,'Hypoglycemic Threshold',family='Times New Roman',size=15)\n",
        "plt.text(len(val_slstm_15_predict_result),185,'Hyperglycemic Threshold',family='Times New Roman',size=15)\n",
        "#plt.text(len(val_slstm_15_predict_result),75,'Hypoglycemic Threshold',family='Times New Roman',size=15)\n",
        "plt.text(-50,-1,df['Timestamp'][TRAIN_SPLIT],family='Times New Roman',fontweight='bold',size=17)\n",
        "plt.text(len(df['Timestamp'])-TRAIN_SPLIT-10,-1,df['Timestamp'][len(df['Timestamp'])-1],family='Times New Roman',fontweight='bold',size=17)\n",
        "plt.text(len(val_slstm_15_predict_result),405,'Too High ( Glucose value 400 + )',family='Times New Roman',size=15)\n",
        "plt.title('Stacked LSTM - Validation set',family='Times New Roman')\n",
        "plt.legend(loc='best')\n",
        "\n",
        "plt.show()"
      ],
      "execution_count": null,
      "outputs": []
    },
    {
      "cell_type": "markdown",
      "metadata": {
        "id": "cJq5TWkRq9rG"
      },
      "source": [
        "#### 잔차"
      ]
    },
    {
      "cell_type": "code",
      "metadata": {
        "id": "xacDVIsCq9rG"
      },
      "source": [
        "residuals = [y_val_uni[i]-val_slstm_15_predict_result[i] for i in range(len(val_slstm_15_predict_result))]\n",
        "residuals = y_val_uni - val_slstm_15_predict_result.reshape(-1)\n",
        "probplot(residuals,dist=\"norm\",plot=plt)\n",
        "plt.title(\"Stacked LSTM Normal Q-Q Plot\")"
      ],
      "execution_count": null,
      "outputs": []
    },
    {
      "cell_type": "code",
      "metadata": {
        "id": "5tXkC2sYq9rG"
      },
      "source": [
        "# 트레이닝셋 RMSE 계산 \n",
        "predict_result = model.predict(x_train_uni,verbose=0)\n",
        "# 예측값 상한선 = 400 \n",
        "for i in range(len(predict_result)):\n",
        "    if predict_result[i] >= 400: \n",
        "        predict_result[i]=400\n",
        "print(' Training set / STACKED LSTM - RMSE (15min) Training set : ',RMSE(y_train_uni_origin,predict_result))\n",
        "train_stacklstm_15 = RMSE(y_train_uni_origin,predict_result)"
      ],
      "execution_count": null,
      "outputs": []
    },
    {
      "cell_type": "markdown",
      "metadata": {
        "id": "PnIJcPmZq9rG"
      },
      "source": [
        "#### Train"
      ]
    },
    {
      "cell_type": "code",
      "metadata": {
        "id": "qc3tkkpoq9rG"
      },
      "source": [
        "# 트레이닝셋\n",
        "plt.figure(figsize=(12,9))\n",
        "plt.plot(y_train_uni_origin,label='actual')\n",
        "plt.plot(predict_result,label='prediction')\n",
        "plt.axhline(y=70,c='r',linestyle='--',linewidth=1)\n",
        "plt.axhline(y=180,c='r',linestyle='--',linewidth=1)\n",
        "plt.axhline(y=400,c='r',linestyle='--',linewidth=1)\n",
        "plt.text(len(predict_result),185,'Hyperglycemic Threshold',family='Times New Roman',size=15)\n",
        "#plt.text(len(predict_result),75,'Hypoglycemic Threshold',family='Times New Roman',size=15)\n",
        "plt.text(len(predict_result),75,'Hypoglycemic Threshold',family='Times New Roman',size=15)\n",
        "plt.text(len(predict_result),405,'Too High ( Glucose value 400 + )',family='Times New Roman',size=15)\n",
        "plt.title('Stacked LSTM - Training set',family='Times New Roman')\n",
        "#plt.text(-100,-1,df['Timestamp'][0],family='Times New Roman',fontweight='bold',size=17)\n",
        "#plt.text(len(predict_result),405,'Too High ( Glucose value 400 + )',family='Times New Roman',size=15)\n",
        "\n",
        "plt.text(-50,-1,df['Timestamp'][0],family='Times New Roman',fontweight='bold',size=17)\n",
        "plt.text(len(predict_result)-100,-1,df['Timestamp'][len(df['Timestamp'])-1],family='Times New Roman',fontweight='bold',size=17)\n",
        "\n",
        "plt.legend(loc='best')\n",
        "plt.show()"
      ],
      "execution_count": null,
      "outputs": []
    },
    {
      "cell_type": "code",
      "metadata": {
        "id": "Nm_J4g0yq9rH"
      },
      "source": [
        ""
      ],
      "execution_count": null,
      "outputs": []
    },
    {
      "cell_type": "markdown",
      "metadata": {
        "id": "Aan_BqWaq9rH"
      },
      "source": [
        "### Bidirectional LSTM - 15분"
      ]
    },
    {
      "cell_type": "code",
      "metadata": {
        "id": "dKQ6W4kmq9rH"
      },
      "source": [
        "# 재현 가능한 결과를 만들기 위해 \n",
        "# 매번 반복해야 하는 작업 \n",
        "seed_num = 42\n",
        "random.seed(seed_num)\n",
        "np.random.seed(seed_num)\n",
        "tf.random.set_seed(seed_num)\n",
        "\n",
        "session_conf = tf.compat.v1.ConfigProto(intra_op_parallelism_threads=1,\n",
        "                             inter_op_parallelism_threads=1)\n",
        "sess=tf.compat.v1.Session(graph=tf.compat.v1.get_default_graph(),config=session_conf)\n",
        "K.set_session(sess)"
      ],
      "execution_count": null,
      "outputs": []
    },
    {
      "cell_type": "code",
      "metadata": {
        "id": "m3iEFXJHq9rH"
      },
      "source": [
        "from keras.layers import Bidirectional\n",
        "\n",
        "model = Sequential()\n",
        "model.add(Bidirectional(LSTM(50,activation='relu'),input_shape=x_train_uni.shape[-2:]))\n",
        "model.add(Dense(1))\n",
        "model.compile(optimizer='adam',loss='mse',metrics=['accuracy'])"
      ],
      "execution_count": null,
      "outputs": []
    },
    {
      "cell_type": "code",
      "metadata": {
        "id": "pj77U1kNq9rH"
      },
      "source": [
        "model.fit(x_train_uni,y_train_uni,epochs=300,verbose=0)"
      ],
      "execution_count": null,
      "outputs": []
    },
    {
      "cell_type": "code",
      "metadata": {
        "id": "1ru-Cxczq9rH"
      },
      "source": [
        "K.clear_session()"
      ],
      "execution_count": null,
      "outputs": []
    },
    {
      "cell_type": "code",
      "metadata": {
        "id": "b_3N7GHaq9rH"
      },
      "source": [
        "val_bilstm_15_predict_result = model.predict(x_val_uni,verbose=0)"
      ],
      "execution_count": null,
      "outputs": []
    },
    {
      "cell_type": "code",
      "metadata": {
        "id": "Ozc3SEsyq9rI"
      },
      "source": [
        "for i in range(len(val_bilstm_15_predict_result)):\n",
        "    if val_bilstm_15_predict_result[i] >= 400: \n",
        "        val_bilstm_15_predict_result[i]=400"
      ],
      "execution_count": null,
      "outputs": []
    },
    {
      "cell_type": "code",
      "metadata": {
        "id": "HVcfpS7sq9rI"
      },
      "source": [
        "print('Bidirectional LSTM - RMSE : ',RMSE(y_val_uni_origin,val_bilstm_15_predict_result))\n",
        "val_bilstm_15 = RMSE(y_val_uni_origin,val_bilstm_15_predict_result)"
      ],
      "execution_count": null,
      "outputs": []
    },
    {
      "cell_type": "markdown",
      "metadata": {
        "id": "8qi1UNXBq9rI"
      },
      "source": [
        "#### 잔차"
      ]
    },
    {
      "cell_type": "code",
      "metadata": {
        "id": "ANLjTmj3q9rI"
      },
      "source": [
        "residuals = [y_val_uni[i]-val_bilstm_15_predict_result[i] for i in range(len(val_bilstm_15_predict_result))]\n",
        "residuals = y_val_uni - val_bilstm_15_predict_result.reshape(-1)\n",
        "probplot(residuals,dist=\"norm\",plot=plt)\n",
        "plt.title(\"Bidirectional LSTM Normal Q-Q Plot\")"
      ],
      "execution_count": null,
      "outputs": []
    },
    {
      "cell_type": "markdown",
      "metadata": {
        "id": "YgzYmm-Nq9rI"
      },
      "source": [
        "#### Validation"
      ]
    },
    {
      "cell_type": "code",
      "metadata": {
        "id": "MOvAnwyTq9rI"
      },
      "source": [
        "# 테스트셋\n",
        "plt.figure(figsize=(12,9))\n",
        "plt.plot(y_val_uni_origin,label='actual')\n",
        "plt.plot(val_bilstm_15_predict_result,label='prediction')\n",
        "plt.axhline(y=70,c='r',linestyle='--',linewidth=1)\n",
        "plt.axhline(y=180,c='r',linestyle='--',linewidth=1)\n",
        "plt.axhline(y=400,c='r',linestyle='--',linewidth=1)\n",
        "plt.text(len(val_bilstm_15_predict_result),75,'Hypoglycemic Threshold',family='Times New Roman',size=15)\n",
        "plt.text(len(val_bilstm_15_predict_result),185,'Hyperglycemic Threshold',family='Times New Roman',size=15)\n",
        "#plt.text(len(predict_result),75,'Hypoglycemic Threshold',family='Times New Roman',size=15)\n",
        "plt.text(-50,-1,df['Timestamp'][TRAIN_SPLIT],family='Times New Roman',fontweight='bold',size=17)\n",
        "plt.text(len(df['Timestamp'])-TRAIN_SPLIT-10,-1,df['Timestamp'][len(df['Timestamp'])-1],family='Times New Roman',fontweight='bold',size=17)\n",
        "plt.text(len(val_bilstm_15_predict_result),405,'Too High ( Glucose value 400 + )',family='Times New Roman',size=15)\n",
        "plt.title('Bidirectional LSTM - Validation set',family='Times New Roman')\n",
        "plt.legend(loc='best')\n",
        "\n",
        "plt.show()"
      ],
      "execution_count": null,
      "outputs": []
    },
    {
      "cell_type": "code",
      "metadata": {
        "id": "j8F_49Wzq9rI"
      },
      "source": [
        "# 트레이닝셋 RMSE 계산 \n",
        "predict_result = model.predict(x_train_uni,verbose=0)\n",
        "# 예측값 상한선 = 400 \n",
        "for i in range(len(predict_result)):\n",
        "    if predict_result[i] >= 400: \n",
        "        predict_result[i]=400\n",
        "print(' Training set / Bidirectional LSTM - RMSE (60min) Training set : ',RMSE(y_train_uni_origin,predict_result))\n",
        "train_bilstm_15 = RMSE(y_train_uni_origin,predict_result)"
      ],
      "execution_count": null,
      "outputs": []
    },
    {
      "cell_type": "markdown",
      "metadata": {
        "id": "GlgA-64Sq9rJ"
      },
      "source": [
        "#### Train"
      ]
    },
    {
      "cell_type": "code",
      "metadata": {
        "id": "IMmz61rhq9rJ"
      },
      "source": [
        "# 트레이닝셋\n",
        "plt.figure(figsize=(12,9))\n",
        "plt.plot(y_train_uni_origin,label='actual')\n",
        "plt.plot(predict_result,label='prediction')\n",
        "plt.axhline(y=70,c='r',linestyle='--',linewidth=1)\n",
        "plt.axhline(y=180,c='r',linestyle='--',linewidth=1)\n",
        "plt.axhline(y=400,c='r',linestyle='--',linewidth=1)\n",
        "plt.text(len(predict_result),185,'Hyperglycemic Threshold',family='Times New Roman',size=15)\n",
        "#plt.text(len(predict_result),75,'Hypoglycemic Threshold',family='Times New Roman',size=15)\n",
        "plt.text(len(predict_result),75,'Hypoglycemic Threshold',family='Times New Roman',size=15)\n",
        "plt.text(len(predict_result),405,'Too High ( Glucose value 400 + )',family='Times New Roman',size=15)\n",
        "plt.title('Bidirectional LSTM - Training set',family='Times New Roman')\n",
        "#plt.text(-100,-1,df['Timestamp'][0],family='Times New Roman',fontweight='bold',size=17)\n",
        "#plt.text(len(predict_result),405,'Too High ( Glucose value 400 + )',family='Times New Roman',size=15)\n",
        "\n",
        "plt.text(-50,-1,df['Timestamp'][0],family='Times New Roman',fontweight='bold',size=17)\n",
        "plt.text(len(predict_result)-100,-1,df['Timestamp'][len(df['Timestamp'])-1],family='Times New Roman',fontweight='bold',size=17)\n",
        "\n",
        "plt.legend(loc='best')\n",
        "plt.show()"
      ],
      "execution_count": null,
      "outputs": []
    },
    {
      "cell_type": "markdown",
      "metadata": {
        "id": "E0z_OVsvq9rJ"
      },
      "source": [
        "### GRU - 15분"
      ]
    },
    {
      "cell_type": "code",
      "metadata": {
        "id": "Kupy1sUGq9rJ"
      },
      "source": [
        "# 재현 가능한 결과를 만들기 위해 \n",
        "# 매번 반복해야 하는 작업 \n",
        "seed_num = 42\n",
        "random.seed(seed_num)\n",
        "np.random.seed(seed_num)\n",
        "tf.random.set_seed(seed_num)\n",
        "\n",
        "session_conf = tf.compat.v1.ConfigProto(intra_op_parallelism_threads=1,\n",
        "                             inter_op_parallelism_threads=1)\n",
        "sess=tf.compat.v1.Session(graph=tf.compat.v1.get_default_graph(),config=session_conf)\n",
        "K.set_session(sess)"
      ],
      "execution_count": null,
      "outputs": []
    },
    {
      "cell_type": "code",
      "metadata": {
        "id": "RogvNwLTq9rJ"
      },
      "source": [
        "from keras.layers import GRU\n",
        "model = Sequential()\n",
        "model.add(GRU(50,activation='relu',input_shape=x_train_uni.shape[-2:]))\n",
        "model.add(Dense(1))\n",
        "model.compile(optimizer='adam',loss='mse',metrics=['accuracy'])"
      ],
      "execution_count": null,
      "outputs": []
    },
    {
      "cell_type": "code",
      "metadata": {
        "id": "tKSyBL2qq9rJ"
      },
      "source": [
        "model.summary()"
      ],
      "execution_count": null,
      "outputs": []
    },
    {
      "cell_type": "code",
      "metadata": {
        "id": "0aq6QVMHq9rJ"
      },
      "source": [
        "model.fit(x_train_uni,y_train_uni,epochs=300,verbose=0)"
      ],
      "execution_count": null,
      "outputs": []
    },
    {
      "cell_type": "code",
      "metadata": {
        "id": "XafyCnrpq9rN"
      },
      "source": [
        "K.clear_session()"
      ],
      "execution_count": null,
      "outputs": []
    },
    {
      "cell_type": "code",
      "metadata": {
        "id": "nrRvlAY9q9rN"
      },
      "source": [
        "val_gru_15_predict_result = model.predict(x_val_uni,verbose=0)"
      ],
      "execution_count": null,
      "outputs": []
    },
    {
      "cell_type": "code",
      "metadata": {
        "id": "zGTwdg88q9rN"
      },
      "source": [
        "for i in range(len(val_gru_15_predict_result)):\n",
        "    if val_gru_15_predict_result[i] >= 400: \n",
        "        val_gru_15_predict_result[i]=400"
      ],
      "execution_count": null,
      "outputs": []
    },
    {
      "cell_type": "code",
      "metadata": {
        "id": "ao7W15C2q9rN"
      },
      "source": [
        "#predict_result"
      ],
      "execution_count": null,
      "outputs": []
    },
    {
      "cell_type": "code",
      "metadata": {
        "id": "dgCbC6Ioq9rO"
      },
      "source": [
        "#predict_result"
      ],
      "execution_count": null,
      "outputs": []
    },
    {
      "cell_type": "code",
      "metadata": {
        "id": "W9Hr5_-Kq9rO"
      },
      "source": [
        "\n",
        "print('GRU - RMSE 15min : ',RMSE(y_val_uni_origin,val_gru_15_predict_result))\n",
        "val_gru_15 = RMSE(y_val_uni_origin,val_gru_15_predict_result)\n",
        "# 상한선 400일 때 RMSE - 38.30 \n",
        "# 상한선 400 X - 38.63"
      ],
      "execution_count": null,
      "outputs": []
    },
    {
      "cell_type": "markdown",
      "metadata": {
        "id": "3Q34Hl29q9rO"
      },
      "source": [
        "#### 잔차"
      ]
    },
    {
      "cell_type": "code",
      "metadata": {
        "id": "t6fGmMAAq9rO"
      },
      "source": [
        "residuals = [y_val_uni[i]-val_gru_15_predict_result[i] for i in range(len(val_gru_15_predict_result))]\n",
        "residuals = y_val_uni - val_gru_15_predict_result.reshape(-1)\n",
        "probplot(residuals,dist=\"norm\",plot=plt)\n",
        "plt.title(\"GRU Normal Q-Q Plot\")"
      ],
      "execution_count": null,
      "outputs": []
    },
    {
      "cell_type": "markdown",
      "metadata": {
        "id": "T2j24yD8q9rO"
      },
      "source": [
        "#### Validation"
      ]
    },
    {
      "cell_type": "code",
      "metadata": {
        "id": "UeiA1dL5q9rO"
      },
      "source": [
        "# 테스트셋\n",
        "plt.figure(figsize=(12,9))\n",
        "plt.plot(y_val_uni_origin,label='actual')\n",
        "plt.plot(val_gru_15_predict_result,label='prediction')\n",
        "plt.axhline(y=70,c='r',linestyle='--',linewidth=1)\n",
        "plt.axhline(y=180,c='r',linestyle='--',linewidth=1)\n",
        "plt.axhline(y=400,c='r',linestyle='--',linewidth=1)\n",
        "plt.text(len(val_gru_15_predict_result),75,'Hypoglycemic Threshold',family='Times New Roman',size=15)\n",
        "plt.text(len(val_gru_15_predict_result),185,'Hyperglycemic Threshold',family='Times New Roman',size=15)\n",
        "#plt.text(len(predict_result),75,'Hypoglycemic Threshold',family='Times New Roman',size=15)\n",
        "plt.text(-50,-1,df['Timestamp'][TRAIN_SPLIT],family='Times New Roman',fontweight='bold',size=17)\n",
        "plt.text(len(df['Timestamp'])-TRAIN_SPLIT-10,-1,df['Timestamp'][len(df['Timestamp'])-1],family='Times New Roman',fontweight='bold',size=17)\n",
        "plt.text(len(val_gru_15_predict_result),405,'Too High ( Glucose value 400 + )',family='Times New Roman',size=15)\n",
        "plt.title('GRU - Validation set',family='Times New Roman')\n",
        "plt.legend(loc='best')\n",
        "\n",
        "plt.show()"
      ],
      "execution_count": null,
      "outputs": []
    },
    {
      "cell_type": "code",
      "metadata": {
        "id": "jtO5qqNcq9rP"
      },
      "source": [
        "# 트레이닝셋 RMSE 계산 \n",
        "predict_result = model.predict(x_train_uni,verbose=0)\n",
        "# 예측값 상한선 = 400 \n",
        "for i in range(len(predict_result)):\n",
        "    if predict_result[i] >= 400: \n",
        "        predict_result[i]=400\n",
        "print(' Training set / GRU - RMSE (15min) Training set : ',RMSE(y_train_uni_origin,predict_result))\n",
        "train_gru_15 =RMSE(y_train_uni_origin,predict_result)"
      ],
      "execution_count": null,
      "outputs": []
    },
    {
      "cell_type": "markdown",
      "metadata": {
        "id": "YELY-Oqvq9rP"
      },
      "source": [
        "#### Train"
      ]
    },
    {
      "cell_type": "code",
      "metadata": {
        "id": "vNtWY36iq9rP"
      },
      "source": [
        "# 트레이닝셋\n",
        "plt.figure(figsize=(12,9))\n",
        "plt.plot(y_train_uni_origin,label='actual')\n",
        "plt.plot(predict_result,label='prediction')\n",
        "plt.axhline(y=70,c='r',linestyle='--',linewidth=1)\n",
        "plt.axhline(y=180,c='r',linestyle='--',linewidth=1)\n",
        "plt.axhline(y=400,c='r',linestyle='--',linewidth=1)\n",
        "plt.text(len(predict_result),185,'Hyperglycemic Threshold',family='Times New Roman',size=15)\n",
        "#plt.text(len(predict_result),75,'Hypoglycemic Threshold',family='Times New Roman',size=15)\n",
        "plt.text(len(predict_result),75,'Hypoglycemic Threshold',family='Times New Roman',size=15)\n",
        "plt.text(len(predict_result),405,'Too High ( Glucose value 400 + )',family='Times New Roman',size=15)\n",
        "plt.title('GRU - Training set',family='Times New Roman')\n",
        "#plt.text(-100,-1,df['Timestamp'][0],family='Times New Roman',fontweight='bold',size=17)\n",
        "#plt.text(len(predict_result),405,'Too High ( Glucose value 400 + )',family='Times New Roman',size=15)\n",
        "\n",
        "plt.text(-50,-1,df['Timestamp'][0],family='Times New Roman',fontweight='bold',size=17)\n",
        "plt.text(len(predict_result)-100,-1,df['Timestamp'][len(df['Timestamp'])-1],family='Times New Roman',fontweight='bold',size=17)\n",
        "\n",
        "plt.legend(loc='best')\n",
        "plt.show()"
      ],
      "execution_count": null,
      "outputs": []
    },
    {
      "cell_type": "code",
      "metadata": {
        "id": "79Z5ZghYq9rP"
      },
      "source": [
        "#from pandas import DataFrame\n",
        "#residuals = [y_val_uni[i]-predict_result[i] for i in range(len(predict_result))]\n",
        "#residuals=DataFrame(residuals)\n",
        "#residuals.hist()"
      ],
      "execution_count": null,
      "outputs": []
    },
    {
      "cell_type": "code",
      "metadata": {
        "id": "_G_ezt5Rq9rP"
      },
      "source": [
        "#residuals.plot(kind='kde')"
      ],
      "execution_count": null,
      "outputs": []
    },
    {
      "cell_type": "code",
      "metadata": {
        "id": "wTkTaINXq9rP"
      },
      "source": [
        "#residuals.plot()"
      ],
      "execution_count": null,
      "outputs": []
    },
    {
      "cell_type": "code",
      "metadata": {
        "id": "dp7ryd4_q9rP"
      },
      "source": [
        "#from statsmodels.graphics.gofplots import qqplot\n",
        "#residuals=np.array(residuals)\n",
        "#qqplot(residuals)"
      ],
      "execution_count": null,
      "outputs": []
    },
    {
      "cell_type": "markdown",
      "metadata": {
        "id": "CTlEwyQQk7T1"
      },
      "source": [
        "### Genetic Algorithm - 15Min"
      ]
    },
    {
      "cell_type": "code",
      "metadata": {
        "id": "Yf66vTxJhbov"
      },
      "source": [
        "pip install geneticalgorithm2"
      ],
      "execution_count": null,
      "outputs": []
    },
    {
      "cell_type": "code",
      "metadata": {
        "id": "I_cZRxLGNZFR"
      },
      "source": [
        "from geneticalgorithm2 import geneticalgorithm2 as ga # for creating and running optimization model\n",
        "\n",
        "from geneticalgorithm2 import Crossover, Mutations, Selection # classes for specific mutation and crossover behavior\n",
        "\n",
        "from geneticalgorithm2 import Population_initializer # for creating better start population\n",
        "\n",
        "from geneticalgorithm2 import np_lru_cache # for cache function (if u want)\n",
        "\n",
        "from geneticalgorithm2 import plot_pop_scores # for plotting population scores, if u want\n",
        "\n",
        "from geneticalgorithm2 import Callbacks # simple callbacks\n",
        "\n",
        "from geneticalgorithm2 import Actions, ActionConditions, MiddleCallbacks # middle callbacks"
      ],
      "execution_count": null,
      "outputs": []
    },
    {
      "cell_type": "code",
      "metadata": {
        "id": "nDgAlU46V7tH"
      },
      "source": [
        "val_rnn_15 = round(val_rnn_15,2)\n",
        "val_lstm_15 = round(val_lstm_15,2)\n",
        "val_stacklstm_15 = round(val_stacklstm_15,2)\n",
        "val_bilstm_15 = round(val_bilstm_15,2)\n",
        "val_gru_15 = round(val_gru_15,2)\n"
      ],
      "execution_count": null,
      "outputs": []
    },
    {
      "cell_type": "code",
      "metadata": {
        "id": "PzS2WvYnGxgj"
      },
      "source": [
        "#val_rnn_15_predict_result[:5]"
      ],
      "execution_count": null,
      "outputs": []
    },
    {
      "cell_type": "code",
      "metadata": {
        "id": "4AjrbDhoG-bT"
      },
      "source": [
        "#ex = val_rnn_15_predict_result * 0.2 + val_lstm_15_predict_result * 0.2 + val_slstm_15_predict_result * 0.2 + val_bilstm_15_predict_result * 0.2 + val_gru_15_predict_result * 0.2"
      ],
      "execution_count": null,
      "outputs": []
    },
    {
      "cell_type": "code",
      "metadata": {
        "id": "yA-wowlIbo20"
      },
      "source": [
        "#ex = val_rnn_15_predict_result * 0.3 + val_lstm_15_predict_result * 0.1 + val_slstm_15_predict_result * 0.14 + val_bilstm_15_predict_result * 0.11 + val_gru_15_predict_result * 0.35"
      ],
      "execution_count": null,
      "outputs": []
    },
    {
      "cell_type": "code",
      "metadata": {
        "id": "nRjg5JXqcF4i"
      },
      "source": [
        ""
      ],
      "execution_count": null,
      "outputs": []
    },
    {
      "cell_type": "code",
      "metadata": {
        "id": "qWZSj_r5Kn47"
      },
      "source": [
        "# Baseline\n",
        "#test_result = RMSE(y_val_uni_origin,ex)\n",
        "#test_result"
      ],
      "execution_count": null,
      "outputs": []
    },
    {
      "cell_type": "code",
      "metadata": {
        "id": "-6MoEaaxQGZ8"
      },
      "source": [
        "#test_result = 200 - RMSE(y_val_uni_origin,ex)\n",
        "#test_result = 200 - RMSE(val_rnn_15_predict_result * 0.2 + val_lstm_15_predict_result * 0.2 + val_slstm_15_predict_result * 0.2 + val_bilstm_15_predict_result * 0.2 + val_gru_15_predict_result * 0.2,ex)\n"
      ],
      "execution_count": null,
      "outputs": []
    },
    {
      "cell_type": "code",
      "metadata": {
        "id": "LbiJbCOTHAEs"
      },
      "source": [
        "val_rnn_15_predict_result = np.asarray(val_rnn_15_predict_result)\n",
        "val_lstm_15_predict_result = np.asarray(val_lstm_15_predict_result)\n",
        "val_slstm_15_predict_result = np.asarray(val_slstm_15_predict_result)\n",
        "val_bilstm_15_predict_result = np.asarray(val_bilstm_15_predict_result)\n",
        "val_gru_15_predict_result = np.asarray(val_gru_15_predict_result)"
      ],
      "execution_count": null,
      "outputs": []
    },
    {
      "cell_type": "code",
      "metadata": {
        "id": "nax_ZVxthdZI"
      },
      "source": [
        "def evaluate2(X):\n",
        "  pen = 0 \n",
        "  #coef = [0,0,0,0,0]\n",
        "  ab=0\n",
        "  result =0\n",
        "  #result2 = 0\n",
        "  #print(X)\n",
        "  if sum(X) > 0.99 and sum(X) < 1:\n",
        "    #print(\"\\n ** Count ** \")\n",
        "    #print(count)\n",
        "    #sum(coef)\n",
        "    #pen = 2000 - sum(list1 * coef[0] + list2 * coef[1] + # 400 = 혈당측정기에서 수집한 EGV의 최댓값이 400\n",
        "    #             list3 * coef[2] + list4 * coef[3] +\n",
        "    #             list5 * coef[4])\n",
        "    #RMSE(y_val_uni_origin,predict_result)\n",
        "    #result = mean_squared_error((y_val_uni_origin,(val_rnn_30_predict_result * X[0] + val_lstm_30_predict_result * X[1] +\n",
        "    #             val_slstm_30_predict_result * X[2] + val_bilstm_30_predict_result * X[3] +\n",
        "    #             val_gru_30_predict_result * X[4]))**0.5)\n",
        "   # ab = val_rnn_30_predict_result * X[0] + val_lstm_30_predict_result * X[1] +val_slstm_30_predict_result * X[2] + val_bilstm_30_predict_result * X[3] + val_gru_30_predict_result * X[4]\n",
        "   # print(\"\\n ** A ** \\n\")\n",
        "   # print(ab.shape)\n",
        "    result = 30 - np.sqrt(mean_squared_error(val_rnn_15_predict_result * X[0] + val_lstm_15_predict_result * X[1] +val_slstm_15_predict_result * X[2] + \n",
        "                                val_bilstm_15_predict_result * X[3] + val_gru_15_predict_result * X[4],y_val_uni_origin))\n",
        "    \n",
        "    #result = 10 - mean_squared_error(y_val_uni_origin,abc) / test_result \n",
        "    #result2=(test_result*5) - np.sqrt(result)\n",
        "    #test_result =  mean_squared_error(y_val_uni_origin,ex)\n",
        "    #test_result\n",
        "\n",
        "    #pen = RMSE(y_val_uni_origin,result)\n",
        "    #pen = 200 - np.sqrt(y_val_uni_origin,(val_rnn_15_predict_result * (X[0] / 10000) + val_lstm_15_predict_result * (X[1] / 10000) +\n",
        "    #             val_slstm_15_predict_result * (X[2] / 10000) + val_bilstm_15_predict_result * (X[3] / 10000) +\n",
        "    #             val_gru_15_predict_result * (X[4] / 10000)))\n",
        "    # np.sqrt(mean_squared_error(y_test,y_predict))\n",
        "    print(\"\\n ** B ** \\n\")\n",
        "    print(X)\n",
        "    #print()\n",
        "    print(\"\\n ** C ** \\n\")\n",
        "    print(result)\n",
        "  #return np.sum(X) + pen\n",
        "    #count += 1 \n",
        "  return -result\n",
        "    \n",
        "    "
      ],
      "execution_count": null,
      "outputs": []
    },
    {
      "cell_type": "code",
      "metadata": {
        "id": "t4UKBKFRGKqA"
      },
      "source": [
        "varbound2 = np.array([[0.05, 0.5]]*5)"
      ],
      "execution_count": null,
      "outputs": []
    },
    {
      "cell_type": "code",
      "metadata": {
        "id": "AYbYEZArPADa"
      },
      "source": [
        ""
      ],
      "execution_count": null,
      "outputs": []
    },
    {
      "cell_type": "code",
      "metadata": {
        "id": "4s4cD5C_KeTn"
      },
      "source": [
        "algorithm_param = {'max_num_iteration': 25000,\n",
        "                   'population_size':100,\n",
        "                   'mutation_probability':0.1,\n",
        "                   'elit_ratio': 0.01,\n",
        "                   'crossover_probability': 0.5,\n",
        "                   'parents_portion': 0.3,\n",
        "                   'crossover_type':'uniform',\n",
        "                   'selection_type': 'roulette',\n",
        "                   'max_iteration_without_improv':None}"
      ],
      "execution_count": null,
      "outputs": []
    },
    {
      "cell_type": "code",
      "metadata": {
        "id": "JYYsruwnVlEf"
      },
      "source": [
        "model1 = ga(function = evaluate2, dimension = 5, variable_type='real',variable_boundaries=varbound2,algorithm_parameters = algorithm_param)"
      ],
      "execution_count": null,
      "outputs": []
    },
    {
      "cell_type": "code",
      "metadata": {
        "id": "DqwmlQMfKh92"
      },
      "source": [
        "model1.run()"
      ],
      "execution_count": null,
      "outputs": []
    },
    {
      "cell_type": "code",
      "metadata": {
        "id": "8dnAmPcFGcPU"
      },
      "source": [
        "# RMSE \n",
        "optimized = val_rnn_15_predict_result * model1.output_dict['variable'][0] + val_lstm_15_predict_result *model1.output_dict['variable'][1] + val_slstm_15_predict_result * model1.output_dict['variable'][2] + val_bilstm_15_predict_result * model1.output_dict['variable'][3] + val_gru_15_predict_result * model1.output_dict['variable'][4]\n",
        "optimized_rmse_15 =  RMSE(y_val_uni_origin,optimized)\n",
        "optimized_rmse_15"
      ],
      "execution_count": null,
      "outputs": []
    },
    {
      "cell_type": "code",
      "metadata": {
        "id": "pP0ZbQD5GzQK"
      },
      "source": [
        "# 트레이닝셋\n",
        "plt.figure(figsize=(12,9))\n",
        "plt.plot(y_val_uni_origin,label='actual')\n",
        "plt.plot(optimized,label='prediction')\n",
        "plt.axhline(y=70,c='r',linestyle='--',linewidth=1)\n",
        "plt.axhline(y=180,c='r',linestyle='--',linewidth=1)\n",
        "plt.axhline(y=400,c='r',linestyle='--',linewidth=1)\n",
        "plt.text(len(y_val_uni_origin),185,'Hyperglycemic Threshold',family='Times New Roman',size=15)\n",
        "#plt.text(len(predict_result),75,'Hypoglycemic Threshold',family='Times New Roman',size=15)\n",
        "plt.text(len(y_val_uni_origin),75,'Hypoglycemic Threshold',family='Times New Roman',size=15)\n",
        "plt.text(len(y_val_uni_origin),405,'Too High ( Glucose value 400 + )',family='Times New Roman',size=15)\n",
        "plt.title('Optimized',family='Times New Roman')\n",
        "#plt.text(-100,-1,df['Timestamp'][0],family='Times New Roman',fontweight='bold',size=17)\n",
        "#plt.text(len(predict_result),405,'Too High ( Glucose value 400 + )',family='Times New Roman',size=15)\n",
        "\n",
        "plt.text(-50,-1,df['Timestamp'][0],family='Times New Roman',fontweight='bold',size=17)\n",
        "plt.text(len(y_val_uni_origin)-100,-1,df['Timestamp'][len(df['Timestamp'])-1],family='Times New Roman',fontweight='bold',size=17)\n",
        "\n",
        "plt.legend(loc='best')\n",
        "plt.show()"
      ],
      "execution_count": null,
      "outputs": []
    },
    {
      "cell_type": "code",
      "metadata": {
        "id": "WwPPQ8RMbRFn"
      },
      "source": [
        "# Make a new dataframe of your prediction values\n",
        "df_new = pd.DataFrame(df['Glucose'])\n",
        "df_new.columns = ['rawseq']\n",
        "\n",
        "# Retrieve index values\n",
        "new_index = df_new['rawseq'].tail(len(optimized)).index\n",
        "\n",
        "# Make a dataframe with your prediction values and your index\n",
        "new_series = pd.DataFrame(index = new_index, data = optimized)\n",
        "\n",
        "# Merge the dataframes\n",
        "df_new = pd.merge(df_new, new_series, how = 'left', left_index=True, right_index=True)\n",
        "df_new.columns = ['rawseq', 'optimized']\n",
        "\n",
        "# And plot it\n",
        "import matplotlib.pyplot as plt\n",
        "plt.figure(figsize=(15,8))\n",
        "\n",
        "plt.axhline(y=70,c='r',linestyle='--',linewidth=1)\n",
        "plt.axhline(y=180,c='r',linestyle='--',linewidth=1)\n",
        "\n",
        "plt.axhline(y=400,c='r',linestyle='--',linewidth=1)\n",
        "plt.text(len(raw_seq),185,'Hyperglycemic Threshold',family='Times New Roman',size=15)\n",
        "plt.text(len(raw_seq),75,'Hypoglycemic Threshold',family='Times New Roman',size=15)\n",
        "plt.text(len(raw_seq),405,'Too High ( Glucose value 400 + )',family='Times New Roman',size=15)\n",
        "plt.title('Optimized - 15min',family='Times New Roman')\n",
        "plt.plot(df_new['rawseq'],label='actual',linewidth=2)\n",
        "plt.plot(df_new['optimized'], label='predicted',linewidth=2)\n",
        "plt.legend(loc='best')\n",
        "plt.show()"
      ],
      "execution_count": null,
      "outputs": []
    },
    {
      "cell_type": "markdown",
      "metadata": {
        "id": "oRK7fN4XOxbm"
      },
      "source": [
        "#### GA_Residual"
      ]
    },
    {
      "cell_type": "code",
      "metadata": {
        "id": "dx5jtzDVOoDO"
      },
      "source": [
        "residuals = [y_val_uni_origin[i]-optimized[i] for i in range(len(optimized))]\n",
        "residuals = y_val_uni_origin - optimized.reshape(-1)\n",
        "probplot(residuals,dist=\"norm\",plot=plt)\n",
        "plt.title(\"15Min GA Normal Q-Q Plot\")"
      ],
      "execution_count": null,
      "outputs": []
    },
    {
      "cell_type": "code",
      "metadata": {
        "id": "K4gDBPUBO0Bb"
      },
      "source": [
        "probplot(residuals,dist=\"norm\",plot=plt)\n",
        "plt.title(\"15Min GA Normal Q-Q Plot\")"
      ],
      "execution_count": null,
      "outputs": []
    },
    {
      "cell_type": "code",
      "metadata": {
        "id": "nyOlVJIebHNm"
      },
      "source": [
        "residuals=DataFrame(residuals)"
      ],
      "execution_count": null,
      "outputs": []
    },
    {
      "cell_type": "code",
      "metadata": {
        "id": "kYKOU5TgO7j-"
      },
      "source": [
        "residuals.plot()"
      ],
      "execution_count": null,
      "outputs": []
    },
    {
      "cell_type": "code",
      "metadata": {
        "id": "g3CcvmlCO-SG"
      },
      "source": [
        "\n",
        "residuals.hist()"
      ],
      "execution_count": null,
      "outputs": []
    },
    {
      "cell_type": "code",
      "metadata": {
        "id": "NnODOuGRPA6I"
      },
      "source": [
        "residuals.plot(kind='kde')"
      ],
      "execution_count": null,
      "outputs": []
    },
    {
      "cell_type": "code",
      "metadata": {
        "id": "smLmAzWzPDLw"
      },
      "source": [
        "from statsmodels.graphics.gofplots import qqplot\n",
        "residuals=np.array(residuals)\n",
        "qqplot(residuals)"
      ],
      "execution_count": null,
      "outputs": []
    },
    {
      "cell_type": "markdown",
      "metadata": {
        "id": "uZQhhWpbq9rQ"
      },
      "source": [
        "## 30분"
      ]
    },
    {
      "cell_type": "code",
      "metadata": {
        "colab": {
          "background_save": true
        },
        "id": "UsFfqu92q9rQ"
      },
      "source": [
        "# SG필터 테스트 \n",
        "#import scipy.signal \n",
        "\n",
        "#yhat = scipy.signal.savgol_filter(raw_seq,15,5)\n",
        "#plt.plot(raw_seq)\n",
        "#plt.plot(yhat,color='red')\n",
        "#plt.show()"
      ],
      "execution_count": null,
      "outputs": []
    },
    {
      "cell_type": "code",
      "metadata": {
        "colab": {
          "background_save": true
        },
        "id": "quUbBPueq9rQ"
      },
      "source": [
        "#TRAIN_SPLIT=int(len(raw_seq)*0.7)\n",
        "#uni_past_history=6\n",
        "#uni_future_target=5\n",
        "#x_train_uni,y_train_uni = uni_data(yhat,0,TRAIN_SPLIT,\n",
        "#                                  uni_past_history,\n",
        "#                                  uni_future_target)\n",
        "#x_val_uni,y_val_uni=uni_data(yhat,TRAIN_SPLIT,None,\n",
        "#                            uni_past_history,\n",
        "#                            uni_future_target)\n",
        "\n"
      ],
      "execution_count": null,
      "outputs": []
    },
    {
      "cell_type": "code",
      "metadata": {
        "colab": {
          "background_save": true
        },
        "id": "10gpmxmcq9rQ"
      },
      "source": [
        "TRAIN_SPLIT=int(len(raw_seq)*0.7)\n",
        "uni_past_history=6\n",
        "uni_future_target=5\n",
        "x_train_uni,y_train_uni = uni_data(raw_seq,0,TRAIN_SPLIT,\n",
        "                                  uni_past_history,\n",
        "                                  uni_future_target)\n",
        "x_val_uni,y_val_uni=uni_data(raw_seq,TRAIN_SPLIT,None,\n",
        "                            uni_past_history,\n",
        "                            uni_future_target)"
      ],
      "execution_count": null,
      "outputs": []
    },
    {
      "cell_type": "code",
      "metadata": {
        "colab": {
          "background_save": true
        },
        "id": "WmgfO-jIq9rR"
      },
      "source": [
        "TRAIN_SPLIT=int(len(raw_seq)*0.7)\n",
        "uni_past_history=6\n",
        "uni_future_target=5\n",
        "x_train_uni_origin,y_train_uni_origin = uni_data(raw_seq,0,TRAIN_SPLIT,\n",
        "                                  uni_past_history,\n",
        "                                  uni_future_target)\n",
        "x_val_uni_origin,y_val_uni_origin=uni_data(raw_seq,TRAIN_SPLIT,None,\n",
        "                            uni_past_history,\n",
        "                            uni_future_target)\n",
        "\n"
      ],
      "execution_count": null,
      "outputs": []
    },
    {
      "cell_type": "code",
      "metadata": {
        "colab": {
          "background_save": true
        },
        "id": "67h1eX1sq9rR"
      },
      "source": [
        "y_val_uni.shape\n"
      ],
      "execution_count": null,
      "outputs": []
    },
    {
      "cell_type": "code",
      "metadata": {
        "colab": {
          "background_save": true
        },
        "id": "fi7klXlSq9rR"
      },
      "source": [
        "\n",
        "x_val_uni.shape"
      ],
      "execution_count": null,
      "outputs": []
    },
    {
      "cell_type": "code",
      "metadata": {
        "colab": {
          "background_save": true
        },
        "id": "f4JbYFrsq9rR"
      },
      "source": [
        "x_train_uni[0]"
      ],
      "execution_count": null,
      "outputs": []
    },
    {
      "cell_type": "code",
      "metadata": {
        "colab": {
          "background_save": true
        },
        "id": "o1CxTrp3q9rR"
      },
      "source": [
        "df['Glucose'].head(15)"
      ],
      "execution_count": null,
      "outputs": []
    },
    {
      "cell_type": "code",
      "metadata": {
        "colab": {
          "background_save": true
        },
        "id": "3Yj0FWjDq9rR"
      },
      "source": [
        "y_train_uni[0]"
      ],
      "execution_count": null,
      "outputs": []
    },
    {
      "cell_type": "markdown",
      "metadata": {
        "id": "VU2SD3lzq9rS"
      },
      "source": [
        "### RNN - 30분"
      ]
    },
    {
      "cell_type": "code",
      "metadata": {
        "colab": {
          "background_save": true
        },
        "id": "4XE23ewDq9rS"
      },
      "source": [
        "# 재현 가능한 결과를 만들기 위해 \n",
        "# 매번 반복해야 하는 작업 \n",
        "seed_num = 42\n",
        "random.seed(seed_num)\n",
        "np.random.seed(seed_num)\n",
        "tf.random.set_seed(seed_num)\n",
        "\n",
        "session_conf = tf.compat.v1.ConfigProto(intra_op_parallelism_threads=1,\n",
        "                             inter_op_parallelism_threads=1)\n",
        "sess=tf.compat.v1.Session(graph=tf.compat.v1.get_default_graph(),config=session_conf)\n",
        "K.set_session(sess)"
      ],
      "execution_count": null,
      "outputs": []
    },
    {
      "cell_type": "code",
      "metadata": {
        "colab": {
          "background_save": true
        },
        "id": "8umxi4iOq9rS"
      },
      "source": [
        "model = Sequential()\n",
        "model.add(SimpleRNN(50,activation='relu',input_shape=x_train_uni.shape[-2:],return_sequences=False))\n",
        "model.add(Dense(1))"
      ],
      "execution_count": null,
      "outputs": []
    },
    {
      "cell_type": "code",
      "metadata": {
        "colab": {
          "background_save": true
        },
        "id": "oU79ADHXq9rS"
      },
      "source": [
        "model.compile(optimizer='adam',loss='mse')"
      ],
      "execution_count": null,
      "outputs": []
    },
    {
      "cell_type": "code",
      "metadata": {
        "colab": {
          "background_save": true
        },
        "id": "EYivRg3Kq9rS"
      },
      "source": [
        "model.fit(x_train_uni,y_train_uni,epochs=300,verbose=0)"
      ],
      "execution_count": null,
      "outputs": []
    },
    {
      "cell_type": "code",
      "metadata": {
        "colab": {
          "background_save": true
        },
        "id": "lh8uKAFLdCtN"
      },
      "source": [
        "val_rnn_30_predict_result = model.predict(x_val_uni,verbose=0)"
      ],
      "execution_count": null,
      "outputs": []
    },
    {
      "cell_type": "code",
      "metadata": {
        "colab": {
          "background_save": true
        },
        "id": "SWljaM-Wq9rS"
      },
      "source": [
        "K.clear_session()"
      ],
      "execution_count": null,
      "outputs": []
    },
    {
      "cell_type": "code",
      "metadata": {
        "colab": {
          "background_save": true
        },
        "id": "c3aoOzueq9rS"
      },
      "source": [
        "predict_result = model.predict(x_val_uni,verbose=0)"
      ],
      "execution_count": null,
      "outputs": []
    },
    {
      "cell_type": "code",
      "metadata": {
        "colab": {
          "background_save": true
        },
        "id": "kp5NHixSq9rS"
      },
      "source": [
        "# 예측값 상한선 = 400 \n",
        "for i in range(len(predict_result)):\n",
        "    if predict_result[i] >= 400: \n",
        "        predict_result[i]=400\n",
        "# GA에 사용 \n",
        "val_rnn_30_predict_result = predict_result"
      ],
      "execution_count": null,
      "outputs": []
    },
    {
      "cell_type": "code",
      "metadata": {
        "colab": {
          "background_save": true
        },
        "id": "6uWYbDLyq9rS"
      },
      "source": [
        "# Val set RMSE \n",
        "print(' Vanila RNN (Simple RNN) - RMSE (15min) : ',RMSE(y_val_uni_origin,predict_result))\n",
        "val_rnn_30 = RMSE(y_val_uni_origin,predict_result)\n"
      ],
      "execution_count": null,
      "outputs": []
    },
    {
      "cell_type": "markdown",
      "metadata": {
        "id": "Zc-WepS8q9rT"
      },
      "source": [
        "#### 잔차"
      ]
    },
    {
      "cell_type": "code",
      "metadata": {
        "colab": {
          "background_save": true
        },
        "id": "Md7c-Sd3q9rT"
      },
      "source": [
        "residuals = [y_val_uni[i]-predict_result[i] for i in range(len(predict_result))]\n",
        "residuals = y_val_uni - predict_result.reshape(-1)\n",
        "probplot(residuals,dist=\"norm\",plot=plt)\n",
        "plt.title(\"Simple RNN Q-Q Plot\")"
      ],
      "execution_count": null,
      "outputs": []
    },
    {
      "cell_type": "markdown",
      "metadata": {
        "id": "GFQFJLHlq9rT"
      },
      "source": [
        "#### Validation"
      ]
    },
    {
      "cell_type": "code",
      "metadata": {
        "colab": {
          "background_save": true
        },
        "id": "YfM9NCNsq9rT"
      },
      "source": [
        "# 테스트셋\n",
        "plt.figure(figsize=(12,9))\n",
        "plt.plot(y_val_uni_origin,label='actual')\n",
        "plt.plot(predict_result,label='prediction')\n",
        "plt.axhline(y=70,c='r',linestyle='--',linewidth=1)\n",
        "plt.axhline(y=180,c='r',linestyle='--',linewidth=1)\n",
        "plt.axhline(y=400,c='r',linestyle='--',linewidth=1)\n",
        "plt.text(len(predict_result),75,'Hypoglycemic Threshold',family='Times New Roman',size=15)\n",
        "plt.text(len(predict_result),185,'Hyperglycemic Threshold',family='Times New Roman',size=15)\n",
        "#plt.text(len(predict_result),75,'Hypoglycemic Threshold',family='Times New Roman',size=15)\n",
        "plt.text(-50,-1,df['Timestamp'][TRAIN_SPLIT],family='Times New Roman',fontweight='bold',size=17)\n",
        "plt.text(len(df['Timestamp'])-TRAIN_SPLIT-10,-1,df['Timestamp'][len(df['Timestamp'])-1],family='Times New Roman',fontweight='bold',size=17)\n",
        "plt.text(len(predict_result),405,'Too High ( Glucose value 400 + )',family='Times New Roman',size=15)\n",
        "plt.title('Simple RNN - Validation set (30min)',family='Times New Roman')\n",
        "plt.legend(loc='best')\n",
        "\n",
        "plt.show()"
      ],
      "execution_count": null,
      "outputs": []
    },
    {
      "cell_type": "code",
      "metadata": {
        "colab": {
          "background_save": true
        },
        "id": "EugZU1aUq9rT"
      },
      "source": [
        "from pandas import DataFrame\n",
        "from statsmodels.graphics.gofplots import qqplot\n",
        "from scipy.stats import probplot\n",
        "\n",
        "#residuals=DataFrame(residuals)\n",
        "\n",
        "residuals = [y_val_uni[i]-predict_result[i] for i in range(len(predict_result))]\n",
        "residuals = y_val_uni - predict_result.reshape(-1)\n",
        "\n",
        "#residuals\n",
        "\n",
        "probplot(residuals,dist=\"norm\",plot=plt)\n",
        "plt.title(\"Simple RNN 30min Normal Q-Q Plot\")"
      ],
      "execution_count": null,
      "outputs": []
    },
    {
      "cell_type": "code",
      "metadata": {
        "colab": {
          "background_save": true
        },
        "id": "TwG-Wizxq9rT"
      },
      "source": [
        "# 트레이닝셋 rmse 구하는 부분 \n",
        "predict_result = model.predict(x_train_uni,verbose=0)\n",
        "for i in range(len(predict_result)):\n",
        "    if predict_result[i] >= 400: \n",
        "        predict_result[i]=400            \n",
        "print(' Training set / Vanila RNN (Simple RNN) - RMSE (15min) : ',RMSE(y_train_uni_origin,predict_result))\n",
        "train_rnn_30=RMSE(y_train_uni_origin,predict_result)"
      ],
      "execution_count": null,
      "outputs": []
    },
    {
      "cell_type": "markdown",
      "metadata": {
        "id": "-sXQLxXwq9rT"
      },
      "source": [
        "#### Train"
      ]
    },
    {
      "cell_type": "code",
      "metadata": {
        "colab": {
          "background_save": true
        },
        "id": "NvXr6iBFq9rU"
      },
      "source": [
        "# 트레이닝셋\n",
        "plt.figure(figsize=(12,9))\n",
        "plt.plot(y_train_uni_origin,label='actual')\n",
        "plt.plot(predict_result,label='prediction')\n",
        "plt.axhline(y=70,c='r',linestyle='--',linewidth=1)\n",
        "plt.axhline(y=180,c='r',linestyle='--',linewidth=1)\n",
        "plt.axhline(y=400,c='r',linestyle='--',linewidth=1)\n",
        "plt.text(len(predict_result),185,'Hyperglycemic Threshold',family='Times New Roman',size=15)\n",
        "#plt.text(len(predict_result),75,'Hypoglycemic Threshold',family='Times New Roman',size=15)\n",
        "plt.text(len(predict_result),75,'Hypoglycemic Threshold',family='Times New Roman',size=15)\n",
        "plt.text(len(predict_result),405,'Too High ( Glucose value 400 + )',family='Times New Roman',size=15)\n",
        "plt.title('Simple RNN - Training set (30min)',family='Times New Roman')\n",
        "#plt.text(-100,-1,df['Timestamp'][0],family='Times New Roman',fontweight='bold',size=17)\n",
        "#plt.text(len(predict_result),405,'Too High ( Glucose value 400 + )',family='Times New Roman',size=15)\n",
        "\n",
        "plt.text(-50,-1,df['Timestamp'][0],family='Times New Roman',fontweight='bold',size=17)\n",
        "plt.text(len(predict_result)-100,-1,df['Timestamp'][len(df['Timestamp'])-1],family='Times New Roman',fontweight='bold',size=17)\n",
        "\n",
        "plt.legend(loc='best')\n",
        "plt.show()"
      ],
      "execution_count": null,
      "outputs": []
    },
    {
      "cell_type": "markdown",
      "metadata": {
        "id": "6NJptJI8q9rU"
      },
      "source": [
        "### LSTM - 30분"
      ]
    },
    {
      "cell_type": "code",
      "metadata": {
        "colab": {
          "background_save": true
        },
        "id": "t_2lc0Neq9rU"
      },
      "source": [
        "# 재현 가능한 결과를 만들기 위해 \n",
        "# 매번 반복해야 하는 작업 \n",
        "seed_num = 42\n",
        "random.seed(seed_num)\n",
        "np.random.seed(seed_num)\n",
        "tf.random.set_seed(seed_num)\n",
        "\n",
        "session_conf = tf.compat.v1.ConfigProto(intra_op_parallelism_threads=1,\n",
        "                             inter_op_parallelism_threads=1)\n",
        "sess=tf.compat.v1.Session(graph=tf.compat.v1.get_default_graph(),config=session_conf)\n",
        "K.set_session(sess)"
      ],
      "execution_count": null,
      "outputs": []
    },
    {
      "cell_type": "code",
      "metadata": {
        "colab": {
          "background_save": true
        },
        "id": "pXzcSlYpq9rU"
      },
      "source": [
        "model = Sequential()\n",
        "model.add(LSTM(50,activation='relu',input_shape=x_train_uni.shape[-2:]))\n",
        "model.add(Dense(1))\n"
      ],
      "execution_count": null,
      "outputs": []
    },
    {
      "cell_type": "code",
      "metadata": {
        "colab": {
          "background_save": true
        },
        "id": "7fO-QCZJq9rU"
      },
      "source": [
        "model.compile(optimizer='adam',loss='mse')\n",
        "\n",
        "model.fit(x_train_uni,y_train_uni,epochs=300,verbose=0)\n",
        "val_lstm_30_predict_result = model.predict(x_val_uni,verbose=0)\n",
        "K.clear_session()"
      ],
      "execution_count": null,
      "outputs": []
    },
    {
      "cell_type": "code",
      "metadata": {
        "colab": {
          "background_save": true
        },
        "id": "pR8k8kZNq9rU"
      },
      "source": [
        "predict_result = model.predict(x_val_uni,verbose=0)\n",
        "\n",
        "# 예측값 상한선 = 400 \n",
        "for i in range(len(predict_result)):\n",
        "    if predict_result[i] >= 400: \n",
        "        predict_result[i]=400\n",
        "\n",
        "#predict_result\n",
        "\n",
        "print(' LSTM - RMSE (15min) : ',RMSE(y_val_uni_origin,predict_result))\n",
        "val_lstm_30=RMSE(y_val_uni_origin,predict_result)"
      ],
      "execution_count": null,
      "outputs": []
    },
    {
      "cell_type": "markdown",
      "metadata": {
        "id": "WbjQvUJMq9rU"
      },
      "source": [
        "#### 잔차"
      ]
    },
    {
      "cell_type": "code",
      "metadata": {
        "colab": {
          "background_save": true
        },
        "id": "KcL5hEUGq9rU"
      },
      "source": [
        "residuals = [y_val_uni[i]-predict_result[i] for i in range(len(predict_result))]\n",
        "residuals = y_val_uni - predict_result.reshape(-1)\n",
        "probplot(residuals,dist=\"norm\",plot=plt)\n",
        "plt.title(\"LSTM Q-Q Plot\")"
      ],
      "execution_count": null,
      "outputs": []
    },
    {
      "cell_type": "markdown",
      "metadata": {
        "id": "M5z8_dqfq9rV"
      },
      "source": [
        "#### Validation"
      ]
    },
    {
      "cell_type": "code",
      "metadata": {
        "colab": {
          "background_save": true
        },
        "id": "MiMOY9veq9rV"
      },
      "source": [
        "# 테스트셋\n",
        "plt.figure(figsize=(12,9))\n",
        "plt.plot(y_val_uni_origin,label='actual')\n",
        "plt.plot(predict_result,label='prediction')\n",
        "plt.axhline(y=70,c='r',linestyle='--',linewidth=1)\n",
        "plt.axhline(y=180,c='r',linestyle='--',linewidth=1)\n",
        "plt.axhline(y=400,c='r',linestyle='--',linewidth=1)\n",
        "plt.text(len(predict_result),75,'Hypoglycemic Threshold',family='Times New Roman',size=15)\n",
        "plt.text(len(predict_result),185,'Hyperglycemic Threshold',family='Times New Roman',size=15)\n",
        "#plt.text(len(predict_result),75,'Hypoglycemic Threshold',family='Times New Roman',size=15)\n",
        "plt.text(-50,-1,df['Timestamp'][TRAIN_SPLIT],family='Times New Roman',fontweight='bold',size=17)\n",
        "plt.text(len(df['Timestamp'])-TRAIN_SPLIT-10,-1,df['Timestamp'][len(df['Timestamp'])-1],family='Times New Roman',fontweight='bold',size=17)\n",
        "plt.text(len(predict_result),405,'Too High ( Glucose value 400 + )',family='Times New Roman',size=15)\n",
        "plt.title('LSTM - Validation set (30min)',family='Times New Roman')\n",
        "plt.legend(loc='best')\n",
        "\n",
        "plt.show()"
      ],
      "execution_count": null,
      "outputs": []
    },
    {
      "cell_type": "code",
      "metadata": {
        "colab": {
          "background_save": true
        },
        "id": "AguoibRXq9rV"
      },
      "source": [
        "# 트레이닝셋 RMSE 계산 \n",
        "predict_result = model.predict(x_train_uni,verbose=0)\n",
        "# 예측값 상한선 = 400 \n",
        "for i in range(len(predict_result)):\n",
        "    if predict_result[i] >= 400: \n",
        "        predict_result[i]=400\n",
        "print(' LSTM - RMSE (15min) Training set : ',RMSE(y_train_uni_origin,predict_result))\n",
        "train_lstm_30 =RMSE(y_train_uni_origin,predict_result)"
      ],
      "execution_count": null,
      "outputs": []
    },
    {
      "cell_type": "markdown",
      "metadata": {
        "id": "VSbECVABq9rV"
      },
      "source": [
        "#### Train"
      ]
    },
    {
      "cell_type": "code",
      "metadata": {
        "colab": {
          "background_save": true
        },
        "id": "uKMJVP-Pq9rV"
      },
      "source": [
        "# 트레이닝셋\n",
        "plt.figure(figsize=(12,9))\n",
        "plt.plot(y_train_uni_origin,label='actual')\n",
        "plt.plot(predict_result,label='prediction')\n",
        "plt.axhline(y=70,c='r',linestyle='--',linewidth=1)\n",
        "plt.axhline(y=180,c='r',linestyle='--',linewidth=1)\n",
        "plt.axhline(y=400,c='r',linestyle='--',linewidth=1)\n",
        "plt.text(len(predict_result),185,'Hyperglycemic Threshold',family='Times New Roman',size=15)\n",
        "#plt.text(len(predict_result),75,'Hypoglycemic Threshold',family='Times New Roman',size=15)\n",
        "plt.text(len(predict_result),75,'Hypoglycemic Threshold',family='Times New Roman',size=15)\n",
        "plt.text(len(predict_result),405,'Too High ( Glucose value 400 + )',family='Times New Roman',size=15)\n",
        "plt.title('LSTM - Training set (30min)',family='Times New Roman')\n",
        "#plt.text(-100,-1,df['Timestamp'][0],family='Times New Roman',fontweight='bold',size=17)\n",
        "#plt.text(len(predict_result),405,'Too High ( Glucose value 400 + )',family='Times New Roman',size=15)\n",
        "\n",
        "plt.text(-50,-1,df['Timestamp'][0],family='Times New Roman',fontweight='bold',size=17)\n",
        "plt.text(len(predict_result)-100,-1,df['Timestamp'][len(df['Timestamp'])-1],family='Times New Roman',fontweight='bold',size=17)\n",
        "\n",
        "plt.legend()\n",
        "plt.show()"
      ],
      "execution_count": null,
      "outputs": []
    },
    {
      "cell_type": "markdown",
      "metadata": {
        "id": "w3--JstRq9rV"
      },
      "source": [
        "### Stacked LSTM - 30분"
      ]
    },
    {
      "cell_type": "code",
      "metadata": {
        "colab": {
          "background_save": true
        },
        "id": "BKNu6SLgq9rV"
      },
      "source": [
        "# 재현 가능한 결과를 만들기 위해 \n",
        "# 매번 반복해야 하는 작업 \n",
        "seed_num = 42\n",
        "random.seed(seed_num)\n",
        "np.random.seed(seed_num)\n",
        "tf.random.set_seed(seed_num)\n",
        "\n",
        "session_conf = tf.compat.v1.ConfigProto(intra_op_parallelism_threads=1,\n",
        "                             inter_op_parallelism_threads=1)\n",
        "sess=tf.compat.v1.Session(graph=tf.compat.v1.get_default_graph(),config=session_conf)\n",
        "K.set_session(sess)"
      ],
      "execution_count": null,
      "outputs": []
    },
    {
      "cell_type": "code",
      "metadata": {
        "colab": {
          "background_save": true
        },
        "id": "HqTYzbVLq9rW"
      },
      "source": [
        "model = Sequential()\n",
        "#model.Flatten()\n",
        "model.add(LSTM(50,activation='relu',return_sequences=True,input_shape=x_train_uni.shape[-2:]))\n",
        "model.add(LSTM(50,activation='relu'))\n",
        "model.add(Dense(1))\n",
        "model.compile(optimizer='adam',loss='mse')"
      ],
      "execution_count": null,
      "outputs": []
    },
    {
      "cell_type": "code",
      "metadata": {
        "colab": {
          "background_save": true
        },
        "id": "Zo_cIj3Uq9rW"
      },
      "source": [
        "model.fit(x_train_uni,y_train_uni,epochs=300,verbose=0)"
      ],
      "execution_count": null,
      "outputs": []
    },
    {
      "cell_type": "code",
      "metadata": {
        "colab": {
          "background_save": true
        },
        "id": "17t3z7Hvq9rW"
      },
      "source": [
        "K.clear_session()"
      ],
      "execution_count": null,
      "outputs": []
    },
    {
      "cell_type": "code",
      "metadata": {
        "colab": {
          "background_save": true
        },
        "id": "B7EhMcW_dde-"
      },
      "source": [
        "val_slstm_30_predict_result = model.predict(x_val_uni,verbose=0)"
      ],
      "execution_count": null,
      "outputs": []
    },
    {
      "cell_type": "code",
      "metadata": {
        "colab": {
          "background_save": true
        },
        "id": "wWLzetbIq9rW"
      },
      "source": [
        "predict_result = model.predict(x_val_uni,verbose=0)\n",
        "\n",
        "\n",
        "for i in range(len(predict_result)):\n",
        "    if predict_result[i] >= 400: \n",
        "        predict_result[i]=400\n",
        "\n",
        "print(' Stacked LSTM - RMSE(15min) : ',RMSE(y_val_uni_origin,predict_result))\n",
        "val_stacklstm_30 =RMSE(y_val_uni_origin,predict_result)"
      ],
      "execution_count": null,
      "outputs": []
    },
    {
      "cell_type": "markdown",
      "metadata": {
        "id": "FkqUYp0Mq9rW"
      },
      "source": [
        "#### 잔차"
      ]
    },
    {
      "cell_type": "code",
      "metadata": {
        "colab": {
          "background_save": true
        },
        "id": "p0rZRKgkq9rW"
      },
      "source": [
        "residuals = [y_val_uni[i]-predict_result[i] for i in range(len(predict_result))]\n",
        "residuals = y_val_uni - predict_result.reshape(-1)\n",
        "probplot(residuals,dist=\"norm\",plot=plt)\n",
        "plt.title(\"Stacked LSTM Q-Q Plot\")"
      ],
      "execution_count": null,
      "outputs": []
    },
    {
      "cell_type": "markdown",
      "metadata": {
        "id": "Fmj-N--9q9rW"
      },
      "source": [
        "#### Validation"
      ]
    },
    {
      "cell_type": "code",
      "metadata": {
        "colab": {
          "background_save": true
        },
        "id": "iQcERYZ0q9rW"
      },
      "source": [
        "# 테스트셋\n",
        "plt.figure(figsize=(12,9))\n",
        "plt.plot(y_val_uni_origin,label='actual')\n",
        "plt.plot(predict_result,label='prediction')\n",
        "plt.axhline(y=70,c='r',linestyle='--',linewidth=1)\n",
        "plt.axhline(y=180,c='r',linestyle='--',linewidth=1)\n",
        "plt.axhline(y=400,c='r',linestyle='--',linewidth=1)\n",
        "plt.text(len(predict_result),75,'Hypoglycemic Threshold',family='Times New Roman',size=15)\n",
        "plt.text(len(predict_result),185,'Hyperglycemic Threshold',family='Times New Roman',size=15)\n",
        "#plt.text(len(predict_result),75,'Hypoglycemic Threshold',family='Times New Roman',size=15)\n",
        "plt.text(-50,-1,df['Timestamp'][TRAIN_SPLIT],family='Times New Roman',fontweight='bold',size=17)\n",
        "plt.text(len(df['Timestamp'])-TRAIN_SPLIT-10,-1,df['Timestamp'][len(df['Timestamp'])-1],family='Times New Roman',fontweight='bold',size=17)\n",
        "plt.text(len(predict_result),405,'Too High ( Glucose value 400 + )',family='Times New Roman',size=15)\n",
        "plt.title('Stacked LSTM - Validation set (30min)',family='Times New Roman')\n",
        "plt.legend(loc='best')\n",
        "\n",
        "plt.show()"
      ],
      "execution_count": null,
      "outputs": []
    },
    {
      "cell_type": "code",
      "metadata": {
        "colab": {
          "background_save": true
        },
        "id": "M24R0r9Nq9rX"
      },
      "source": [
        "# 트레이닝셋 RMSE 계산 \n",
        "predict_result = model.predict(x_train_uni,verbose=0)\n",
        "# 예측값 상한선 = 400 \n",
        "for i in range(len(predict_result)):\n",
        "    if predict_result[i] >= 400: \n",
        "        predict_result[i]=400\n",
        "print(' Training set / STACKED LSTM - RMSE (15min) Training set : ',RMSE(y_train_uni_origin,predict_result))\n",
        "train_stacklstm_30 = RMSE(y_train_uni_origin,predict_result)"
      ],
      "execution_count": null,
      "outputs": []
    },
    {
      "cell_type": "markdown",
      "metadata": {
        "id": "IVrndUlqq9rX"
      },
      "source": [
        "#### Train"
      ]
    },
    {
      "cell_type": "code",
      "metadata": {
        "colab": {
          "background_save": true
        },
        "id": "iiPSdLFSq9rX"
      },
      "source": [
        "# 트레이닝셋\n",
        "plt.figure(figsize=(12,9))\n",
        "plt.plot(y_train_uni_origin,label='actual')\n",
        "plt.plot(predict_result,label='prediction')\n",
        "plt.axhline(y=70,c='r',linestyle='--',linewidth=1)\n",
        "plt.axhline(y=180,c='r',linestyle='--',linewidth=1)\n",
        "plt.axhline(y=400,c='r',linestyle='--',linewidth=1)\n",
        "plt.text(len(predict_result),185,'Hyperglycemic Threshold',family='Times New Roman',size=15)\n",
        "#plt.text(len(predict_result),75,'Hypoglycemic Threshold',family='Times New Roman',size=15)\n",
        "plt.text(len(predict_result),75,'Hypoglycemic Threshold',family='Times New Roman',size=15)\n",
        "plt.text(len(predict_result),405,'Too High ( Glucose value 400 + )',family='Times New Roman',size=15)\n",
        "plt.title('Stacked LSTM - Training set',family='Times New Roman')\n",
        "#plt.text(-100,-1,df['Timestamp'][0],family='Times New Roman',fontweight='bold',size=17)\n",
        "#plt.text(len(predict_result),405,'Too High ( Glucose value 400 + )',family='Times New Roman',size=15)\n",
        "\n",
        "plt.text(-50,-1,df['Timestamp'][0],family='Times New Roman',fontweight='bold',size=17)\n",
        "plt.text(len(predict_result)-100,-1,df['Timestamp'][len(df['Timestamp'])-1],family='Times New Roman',fontweight='bold',size=17)\n",
        "\n",
        "plt.legend(loc='best')\n",
        "plt.show()"
      ],
      "execution_count": null,
      "outputs": []
    },
    {
      "cell_type": "markdown",
      "metadata": {
        "id": "kzOlqeSWq9rX"
      },
      "source": [
        "### Bidirectional LSTM - 30분"
      ]
    },
    {
      "cell_type": "code",
      "metadata": {
        "colab": {
          "background_save": true
        },
        "id": "QpjLzubgq9rX"
      },
      "source": [
        "# 재현 가능한 결과를 만들기 위해 \n",
        "# 매번 반복해야 하는 작업 \n",
        "seed_num = 42\n",
        "random.seed(seed_num)\n",
        "np.random.seed(seed_num)\n",
        "tf.random.set_seed(seed_num)\n",
        "\n",
        "session_conf = tf.compat.v1.ConfigProto(intra_op_parallelism_threads=1,\n",
        "                             inter_op_parallelism_threads=1)\n",
        "sess=tf.compat.v1.Session(graph=tf.compat.v1.get_default_graph(),config=session_conf)\n",
        "K.set_session(sess)"
      ],
      "execution_count": null,
      "outputs": []
    },
    {
      "cell_type": "code",
      "metadata": {
        "colab": {
          "background_save": true
        },
        "id": "yUcdAlmQq9rX"
      },
      "source": [
        "from keras.layers import Bidirectional\n",
        "model = Sequential()\n",
        "model.add(Bidirectional(LSTM(50,activation='relu'),input_shape=x_train_uni.shape[-2:]))\n",
        "model.add(Dense(1))\n",
        "model.compile(optimizer='adam',loss='mse',metrics=['accuracy'])"
      ],
      "execution_count": null,
      "outputs": []
    },
    {
      "cell_type": "code",
      "metadata": {
        "colab": {
          "background_save": true
        },
        "id": "NI7OxsSBq9rY"
      },
      "source": [
        "model.fit(x_train_uni,y_train_uni,epochs=300,verbose=0)"
      ],
      "execution_count": null,
      "outputs": []
    },
    {
      "cell_type": "code",
      "metadata": {
        "colab": {
          "background_save": true
        },
        "id": "o0AW-UEwdiS5"
      },
      "source": [
        "val_bilstm_30_predict_result = model.predict(x_val_uni,verbose=0)"
      ],
      "execution_count": null,
      "outputs": []
    },
    {
      "cell_type": "code",
      "metadata": {
        "colab": {
          "background_save": true
        },
        "id": "EGh2fe54q9rY"
      },
      "source": [
        "K.clear_session()"
      ],
      "execution_count": null,
      "outputs": []
    },
    {
      "cell_type": "code",
      "metadata": {
        "colab": {
          "background_save": true
        },
        "id": "V_LFxrflq9rY"
      },
      "source": [
        "predict_result = model.predict(x_val_uni,verbose=0)\n",
        "\n",
        "for i in range(len(predict_result)):\n",
        "    if predict_result[i] >= 400: \n",
        "        predict_result[i]=400\n",
        "\n",
        "print('Bidirectional LSTM - RMSE : ',RMSE(y_val_uni_origin,predict_result))\n",
        "val_bilstm_30 = RMSE(y_val_uni_origin,predict_result)"
      ],
      "execution_count": null,
      "outputs": []
    },
    {
      "cell_type": "markdown",
      "metadata": {
        "id": "GqeBGqC4q9rZ"
      },
      "source": [
        "#### 잔차"
      ]
    },
    {
      "cell_type": "code",
      "metadata": {
        "colab": {
          "background_save": true
        },
        "id": "I5FU9uxzq9rZ"
      },
      "source": [
        "residuals = [y_val_uni[i]-predict_result[i] for i in range(len(predict_result))]\n",
        "residuals = y_val_uni - predict_result.reshape(-1)\n",
        "probplot(residuals,dist=\"norm\",plot=plt)\n",
        "plt.title(\"Bidirectional LSTM Q-Q Plot\")"
      ],
      "execution_count": null,
      "outputs": []
    },
    {
      "cell_type": "markdown",
      "metadata": {
        "id": "nuDjasobq9rZ"
      },
      "source": [
        "#### Validation"
      ]
    },
    {
      "cell_type": "code",
      "metadata": {
        "colab": {
          "background_save": true
        },
        "id": "l6ShcMcuq9rZ",
        "scrolled": false
      },
      "source": [
        "# 테스트셋\n",
        "plt.figure(figsize=(12,9))\n",
        "plt.plot(y_val_uni_origin,label='actual')\n",
        "plt.plot(predict_result,label='prediction')\n",
        "plt.axhline(y=70,c='r',linestyle='--',linewidth=1)\n",
        "plt.axhline(y=180,c='r',linestyle='--',linewidth=1)\n",
        "plt.axhline(y=400,c='r',linestyle='--',linewidth=1)\n",
        "plt.text(len(predict_result),75,'Hypoglycemic Threshold',family='Times New Roman',size=15)\n",
        "plt.text(len(predict_result),185,'Hyperglycemic Threshold',family='Times New Roman',size=15)\n",
        "#plt.text(len(predict_result),75,'Hypoglycemic Threshold',family='Times New Roman',size=15)\n",
        "plt.text(-50,-1,df['Timestamp'][TRAIN_SPLIT],family='Times New Roman',fontweight='bold',size=17)\n",
        "plt.text(len(df['Timestamp'])-TRAIN_SPLIT-10,-1,df['Timestamp'][len(df['Timestamp'])-1],family='Times New Roman',fontweight='bold',size=17)\n",
        "plt.text(len(predict_result),405,'Too High ( Glucose value 400 + )',family='Times New Roman',size=15)\n",
        "plt.title('Bidirectional LSTM - Validation set (30min)',family='Times New Roman')\n",
        "plt.legend(loc='best')\n",
        "\n",
        "plt.show()"
      ],
      "execution_count": null,
      "outputs": []
    },
    {
      "cell_type": "code",
      "metadata": {
        "colab": {
          "background_save": true
        },
        "id": "2_zlgg_2q9rZ"
      },
      "source": [
        "# 트레이닝셋 RMSE 계산 \n",
        "predict_result = model.predict(x_train_uni,verbose=0)\n",
        "# 예측값 상한선 = 400 \n",
        "for i in range(len(predict_result)):\n",
        "    if predict_result[i] >= 400: \n",
        "        predict_result[i]=400\n",
        "print(' Training set / Bidirectional LSTM - RMSE (30min) Training set : ',RMSE(y_train_uni_origin,predict_result))\n",
        "train_bilstm_30 = RMSE(y_train_uni_origin,predict_result)"
      ],
      "execution_count": null,
      "outputs": []
    },
    {
      "cell_type": "markdown",
      "metadata": {
        "id": "H611j3-sq9rZ"
      },
      "source": [
        "#### Train"
      ]
    },
    {
      "cell_type": "code",
      "metadata": {
        "colab": {
          "background_save": true
        },
        "id": "nGMBEnycq9rZ"
      },
      "source": [
        "# 트레이닝셋\n",
        "plt.figure(figsize=(12,9))\n",
        "plt.plot(y_train_uni_origin,label='actual')\n",
        "plt.plot(predict_result,label='prediction')\n",
        "plt.axhline(y=70,c='r',linestyle='--',linewidth=1)\n",
        "plt.axhline(y=180,c='r',linestyle='--',linewidth=1)\n",
        "plt.axhline(y=400,c='r',linestyle='--',linewidth=1)\n",
        "plt.text(len(predict_result),185,'Hyperglycemic Threshold',family='Times New Roman',size=15)\n",
        "#plt.text(len(predict_result),75,'Hypoglycemic Threshold',family='Times New Roman',size=15)\n",
        "plt.text(len(predict_result),75,'Hypoglycemic Threshold',family='Times New Roman',size=15)\n",
        "plt.text(len(predict_result),405,'Too High ( Glucose value 400 + )',family='Times New Roman',size=15)\n",
        "plt.title('Stacked LSTM - Training set',family='Times New Roman')\n",
        "#plt.text(-100,-1,df['Timestamp'][0],family='Times New Roman',fontweight='bold',size=17)\n",
        "#plt.text(len(predict_result),405,'Too High ( Glucose value 400 + )',family='Times New Roman',size=15)\n",
        "\n",
        "plt.text(-50,-1,df['Timestamp'][0],family='Times New Roman',fontweight='bold',size=17)\n",
        "plt.text(len(predict_result)-100,-1,df['Timestamp'][len(df['Timestamp'])-1],family='Times New Roman',fontweight='bold',size=17)\n",
        "\n",
        "plt.legend(loc='best')\n",
        "plt.show()"
      ],
      "execution_count": null,
      "outputs": []
    },
    {
      "cell_type": "markdown",
      "metadata": {
        "id": "P9VloElCq9ra"
      },
      "source": [
        "### GRU - 30분"
      ]
    },
    {
      "cell_type": "code",
      "metadata": {
        "colab": {
          "background_save": true
        },
        "id": "VLTzRn2hq9ra"
      },
      "source": [
        "# 재현 가능한 결과를 만들기 위해 \n",
        "# 매번 반복해야 하는 작업 \n",
        "seed_num = 42\n",
        "random.seed(seed_num)\n",
        "np.random.seed(seed_num)\n",
        "tf.random.set_seed(seed_num)\n",
        "\n",
        "session_conf = tf.compat.v1.ConfigProto(intra_op_parallelism_threads=1,\n",
        "                             inter_op_parallelism_threads=1)\n",
        "sess=tf.compat.v1.Session(graph=tf.compat.v1.get_default_graph(),config=session_conf)\n",
        "K.set_session(sess)"
      ],
      "execution_count": null,
      "outputs": []
    },
    {
      "cell_type": "code",
      "metadata": {
        "colab": {
          "background_save": true
        },
        "id": "ioBgW8iWq9ra"
      },
      "source": [
        "from keras.layers import GRU\n",
        "model = Sequential()\n",
        "model.add(GRU(50,activation='relu',input_shape=x_train_uni.shape[-2:]))\n",
        "#model.add(GRU(50,activation=leaky_relu,input_shape=x_train_uni.shape[-2:]))\n",
        "model.add(Dense(1))\n",
        "model.compile(optimizer='adam',loss='mse',metrics=['accuracy'])"
      ],
      "execution_count": null,
      "outputs": []
    },
    {
      "cell_type": "code",
      "metadata": {
        "colab": {
          "background_save": true
        },
        "id": "lOFsW--6q9ra"
      },
      "source": [
        "model.summary()\n",
        "\n",
        "model.fit(x_train_uni,y_train_uni,epochs=300,verbose=0)\n",
        "\n",
        "K.clear_session()\n",
        "val_gru_30_predict_result = model.predict(x_val_uni,verbose=0)"
      ],
      "execution_count": null,
      "outputs": []
    },
    {
      "cell_type": "code",
      "metadata": {
        "colab": {
          "background_save": true
        },
        "id": "ZzcsJGD5q9ra"
      },
      "source": [
        "predict_result = model.predict(x_val_uni,verbose=0)\n",
        "\n",
        "for i in range(len(predict_result)):\n",
        "    if predict_result[i] >= 400: \n",
        "        predict_result[i]=400\n",
        "\n",
        "#predict_result\n",
        "\n",
        "#predict_result\n",
        "\n",
        "\n",
        "print('GRU - RMSE 15min : ',RMSE(y_val_uni,predict_result))\n",
        "val_gru_30 = RMSE(y_val_uni,predict_result)\n",
        "# 상한선 400일 때 RMSE - 38.30 \n",
        "# 상한선 400 X - 38.63"
      ],
      "execution_count": null,
      "outputs": []
    },
    {
      "cell_type": "markdown",
      "metadata": {
        "id": "tgBAMrOZq9ra"
      },
      "source": [
        "#### 잔차"
      ]
    },
    {
      "cell_type": "code",
      "metadata": {
        "colab": {
          "background_save": true
        },
        "id": "qzVp_7VLq9ra"
      },
      "source": [
        "residuals = [y_val_uni[i]-predict_result[i] for i in range(len(predict_result))]\n",
        "residuals = y_val_uni - predict_result.reshape(-1)\n",
        "probplot(residuals,dist=\"norm\",plot=plt)\n",
        "plt.title(\"GRU Q-Q Plot\")"
      ],
      "execution_count": null,
      "outputs": []
    },
    {
      "cell_type": "markdown",
      "metadata": {
        "id": "pUHhW3zjq9rb"
      },
      "source": [
        "#### Validation"
      ]
    },
    {
      "cell_type": "code",
      "metadata": {
        "colab": {
          "background_save": true
        },
        "id": "GCpflXCrq9rb"
      },
      "source": [
        "# 테스트셋\n",
        "plt.figure(figsize=(12,9))\n",
        "plt.plot(y_val_uni_origin,label='actual')\n",
        "plt.plot(predict_result,label='prediction')\n",
        "plt.axhline(y=70,c='r',linestyle='--',linewidth=1)\n",
        "plt.axhline(y=180,c='r',linestyle='--',linewidth=1)\n",
        "plt.axhline(y=400,c='r',linestyle='--',linewidth=1)\n",
        "plt.text(len(predict_result),75,'Hypoglycemic Threshold',family='Times New Roman',size=15)\n",
        "plt.text(len(predict_result),185,'Hyperglycemic Threshold',family='Times New Roman',size=15)\n",
        "#plt.text(len(predict_result),75,'Hypoglycemic Threshold',family='Times New Roman',size=15)\n",
        "plt.text(-50,-1,df['Timestamp'][TRAIN_SPLIT],family='Times New Roman',fontweight='bold',size=17)\n",
        "plt.text(len(df['Timestamp'])-TRAIN_SPLIT-10,-1,df['Timestamp'][len(df['Timestamp'])-1],family='Times New Roman',fontweight='bold',size=17)\n",
        "plt.text(len(predict_result),405,'Too High ( Glucose value 400 + )',family='Times New Roman',size=15)\n",
        "plt.title('GRU - Validation set',family='Times New Roman')\n",
        "plt.legend(loc='best')\n",
        "\n",
        "plt.show()"
      ],
      "execution_count": null,
      "outputs": []
    },
    {
      "cell_type": "code",
      "metadata": {
        "colab": {
          "background_save": true
        },
        "id": "fb6Evlglq9rb"
      },
      "source": [
        "# 트레이닝셋 RMSE 계산 \n",
        "predict_result = model.predict(x_train_uni,verbose=0)\n",
        "# 예측값 상한선 = 400 \n",
        "for i in range(len(predict_result)):\n",
        "    if predict_result[i] >= 400: \n",
        "        predict_result[i]=400\n",
        "print(' Training set / GRU - RMSE (15min) Training set : ',RMSE(y_train_uni_origin,predict_result))\n",
        "train_gru_30 =RMSE(y_train_uni_origin,predict_result)"
      ],
      "execution_count": null,
      "outputs": []
    },
    {
      "cell_type": "markdown",
      "metadata": {
        "id": "SC7T2BWsq9rb"
      },
      "source": [
        "#### Train"
      ]
    },
    {
      "cell_type": "markdown",
      "metadata": {
        "id": "ezMIntuVcnzA"
      },
      "source": [
        "### GA"
      ]
    },
    {
      "cell_type": "code",
      "metadata": {
        "colab": {
          "background_save": true
        },
        "id": "10OOG5MkcsYG"
      },
      "source": [
        "#ex = val_rnn_30_predict_result * 0.2 + val_lstm_30_predict_result * 0.2 + val_slstm_30_predict_result * 0.2 + val_bilstm_30_predict_result * 0.2 + val_gru_30_predict_result * 0.2"
      ],
      "execution_count": null,
      "outputs": []
    },
    {
      "cell_type": "code",
      "metadata": {
        "colab": {
          "background_save": true
        },
        "id": "n8j0Vmeqru2P"
      },
      "source": [
        "#ex2 = val_rnn_30_predict_result * 0.43578443     + val_lstm_30_predict_result *  0.07653674+ val_slstm_30_predict_result *  0.07391771 + val_bilstm_30_predict_result * 0.05667096+ val_gru_30_predict_result *0.34709233"
      ],
      "execution_count": null,
      "outputs": []
    },
    {
      "cell_type": "code",
      "metadata": {
        "colab": {
          "background_save": true
        },
        "id": "avAYjEn0drff"
      },
      "source": [
        "#test_result =  RMSE(y_val_uni_origin,ex2)\n",
        "#test_result"
      ],
      "execution_count": null,
      "outputs": []
    },
    {
      "cell_type": "code",
      "metadata": {
        "colab": {
          "background_save": true
        },
        "id": "lWMaq79389LD"
      },
      "source": [
        "#test_result =  mean_squared_error(y_val_uni_origin,ex)\n",
        "#test_result"
      ],
      "execution_count": null,
      "outputs": []
    },
    {
      "cell_type": "code",
      "metadata": {
        "colab": {
          "background_save": true
        },
        "id": "VJr-tiE1Atgh"
      },
      "source": [
        "#test_result * 2 - (1000 + test_result)"
      ],
      "execution_count": null,
      "outputs": []
    },
    {
      "cell_type": "code",
      "metadata": {
        "colab": {
          "background_save": true
        },
        "id": "I1pXOUMzAsJY"
      },
      "source": [
        "#result = (test_result*2) - (1000 + mean_squared_error(y_val_uni_origin,abc))"
      ],
      "execution_count": null,
      "outputs": []
    },
    {
      "cell_type": "code",
      "metadata": {
        "colab": {
          "background_save": true
        },
        "id": "NfeFuMIkrtvx"
      },
      "source": [
        "#mean_squared_error"
      ],
      "execution_count": null,
      "outputs": []
    },
    {
      "cell_type": "code",
      "metadata": {
        "colab": {
          "background_save": true
        },
        "id": "WDAsqunLihM8"
      },
      "source": [
        "val_rnn_30_predict_result = np.asarray(val_rnn_30_predict_result)\n",
        "val_lstm_30_predict_result = np.asarray(val_lstm_30_predict_result)\n",
        "val_slstm_30_predict_result = np.asarray(val_slstm_30_predict_result)\n",
        "val_bilstm_30_predict_result = np.asarray(val_bilstm_30_predict_result)\n",
        "val_gru_30_predict_result = np.asarray(val_gru_30_predict_result)"
      ],
      "execution_count": null,
      "outputs": []
    },
    {
      "cell_type": "code",
      "metadata": {
        "colab": {
          "background_save": true
        },
        "id": "e1YpOFMZlqt2"
      },
      "source": [
        "#def evaluate2(X):\n",
        "#  pen = 0 \n",
        "  #coef = [0,0,0,0,0]\n",
        "#  result =0\n",
        "  #result2 = 0\n",
        "  #print(X)\n",
        "#  if sum(X) > 0.99 and sum(X) < 1:\n",
        "#    print(\"\\n ** Count ** \")\n",
        "    #print(count)\n",
        "    #sum(coef)\n",
        "    #pen = 2000 - sum(list1 * coef[0] + list2 * coef[1] + # 400 = 혈당측정기에서 수집한 EGV의 최댓값이 400\n",
        "    #             list3 * coef[2] + list4 * coef[3] +\n",
        "    #             list5 * coef[4])\n",
        "    #RMSE(y_val_uni_origin,predict_result)\n",
        "    #result = mean_squared_error((y_val_uni_origin,(val_rnn_30_predict_result * X[0] + val_lstm_30_predict_result * X[1] +\n",
        "    #             val_slstm_30_predict_result * X[2] + val_bilstm_30_predict_result * X[3] +\n",
        "    #             val_gru_30_predict_result * X[4]))**0.5)\n",
        " #   abc = val_rnn_30_predict_result * X[0] + val_lstm_30_predict_result * X[1] +val_slstm_30_predict_result * X[2] + val_bilstm_30_predict_result * X[3] + val_gru_30_predict_result * X[4]\n",
        "  #  result = (test_result*2) - ((test_result/2) + mean_squared_error(y_val_uni_origin,abc))\n",
        "    #result = 10 - mean_squared_error(y_val_uni_origin,abc) / test_result \n",
        "    #result2=(test_result*5) - np.sqrt(result)\n",
        "    #test_result =  mean_squared_error(y_val_uni_origin,ex)\n",
        "    #test_result\n",
        "\n",
        "    #pen = RMSE(y_val_uni_origin,result)\n",
        "    #pen = 200 - np.sqrt(y_val_uni_origin,(val_rnn_15_predict_result * (X[0] / 10000) + val_lstm_15_predict_result * (X[1] / 10000) +\n",
        "    #             val_slstm_15_predict_result * (X[2] / 10000) + val_bilstm_15_predict_result * (X[3] / 10000) +\n",
        "    #             val_gru_15_predict_result * (X[4] / 10000)))\n",
        "    # np.sqrt(mean_squared_error(y_test,y_predict))\n",
        "   # print(\"\\n ** B ** \\n\")\n",
        "    #print(X)\n",
        "    #print()\n",
        "    #print(\"\\n ** C ** \\n\")\n",
        "    #print(result)\n",
        "  #return np.sum(X) + pen\n",
        "    #count += 1 \n",
        "  #return -result\n",
        "    \n",
        "    "
      ],
      "execution_count": null,
      "outputs": []
    },
    {
      "cell_type": "code",
      "metadata": {
        "colab": {
          "background_save": true
        },
        "id": "OsNbu8050A1S"
      },
      "source": [
        "def evaluate2(X):\n",
        "  pen = 0 \n",
        "  #coef = [0,0,0,0,0]\n",
        "  ab=0\n",
        "  result =0\n",
        "  #result2 = 0\n",
        "  #print(X)\n",
        "  if sum(X) > 0.99 and sum(X) < 1:\n",
        "    #print(\"\\n ** Count ** \")\n",
        "    #print(count)\n",
        "    #sum(coef)\n",
        "    #pen = 2000 - sum(list1 * coef[0] + list2 * coef[1] + # 400 = 혈당측정기에서 수집한 EGV의 최댓값이 400\n",
        "    #             list3 * coef[2] + list4 * coef[3] +\n",
        "    #             list5 * coef[4])\n",
        "    #RMSE(y_val_uni_origin,predict_result)\n",
        "    #result = mean_squared_error((y_val_uni_origin,(val_rnn_30_predict_result * X[0] + val_lstm_30_predict_result * X[1] +\n",
        "    #             val_slstm_30_predict_result * X[2] + val_bilstm_30_predict_result * X[3] +\n",
        "    #             val_gru_30_predict_result * X[4]))**0.5)\n",
        "   # ab = val_rnn_30_predict_result * X[0] + val_lstm_30_predict_result * X[1] +val_slstm_30_predict_result * X[2] + val_bilstm_30_predict_result * X[3] + val_gru_30_predict_result * X[4]\n",
        "   # print(\"\\n ** A ** \\n\")\n",
        "   # print(ab.shape)\n",
        "    result = 50 - np.sqrt(mean_squared_error(val_rnn_30_predict_result * X[0] + val_lstm_30_predict_result * X[1] +val_slstm_30_predict_result * X[2] + \n",
        "                                val_bilstm_30_predict_result * X[3] + val_gru_30_predict_result * X[4],y_val_uni_origin))\n",
        "    \n",
        "    #result = 10 - mean_squared_error(y_val_uni_origin,abc) / test_result \n",
        "    #result2=(test_result*5) - np.sqrt(result)\n",
        "    #test_result =  mean_squared_error(y_val_uni_origin,ex)\n",
        "    #test_result\n",
        "\n",
        "    #pen = RMSE(y_val_uni_origin,result)\n",
        "    #pen = 200 - np.sqrt(y_val_uni_origin,(val_rnn_15_predict_result * (X[0] / 10000) + val_lstm_15_predict_result * (X[1] / 10000) +\n",
        "    #             val_slstm_15_predict_result * (X[2] / 10000) + val_bilstm_15_predict_result * (X[3] / 10000) +\n",
        "    #             val_gru_15_predict_result * (X[4] / 10000)))\n",
        "    # np.sqrt(mean_squared_error(y_test,y_predict))\n",
        "    print(\"\\n ** B ** \\n\")\n",
        "    print(X)\n",
        "    #print()\n",
        "    print(\"\\n ** C ** \\n\")\n",
        "    print(result)\n",
        "  #return np.sum(X) + pen\n",
        "    #count += 1 \n",
        "  return -result\n",
        "    \n",
        "    "
      ],
      "execution_count": null,
      "outputs": []
    },
    {
      "cell_type": "code",
      "metadata": {
        "colab": {
          "background_save": true
        },
        "id": "KnymPfrU1bjR"
      },
      "source": [
        "#abc.shape"
      ],
      "execution_count": null,
      "outputs": []
    },
    {
      "cell_type": "code",
      "metadata": {
        "colab": {
          "background_save": true
        },
        "id": "tOkSWMD71fHW"
      },
      "source": [
        "#y_val_uni_origin.shape"
      ],
      "execution_count": null,
      "outputs": []
    },
    {
      "cell_type": "code",
      "metadata": {
        "colab": {
          "background_save": true
        },
        "id": "bWTH2Ujw1nGN"
      },
      "source": [
        "#val_rnn_30_predict_result.shape"
      ],
      "execution_count": null,
      "outputs": []
    },
    {
      "cell_type": "code",
      "metadata": {
        "colab": {
          "background_save": true
        },
        "id": "mclYTRSjoNar"
      },
      "source": [
        "#abc = val_rnn_30_predict_result * 0.2 + val_lstm_30_predict_result * 0.2 + val_slstm_30_predict_result * 0.2 + val_bilstm_30_predict_result * 0.2 +val_gru_30_predict_result * 0.2\n",
        "              "
      ],
      "execution_count": null,
      "outputs": []
    },
    {
      "cell_type": "code",
      "metadata": {
        "colab": {
          "background_save": true
        },
        "id": "GFn0ys5JoUK6"
      },
      "source": [
        "#get = mean_squared_error(y_val_uni_origin,abc)"
      ],
      "execution_count": null,
      "outputs": []
    },
    {
      "cell_type": "code",
      "metadata": {
        "colab": {
          "background_save": true
        },
        "id": "Wyx4hqlco6w_"
      },
      "source": [
        "#test_result*2 - mean_squared_error(y_val_uni_origin,abc)"
      ],
      "execution_count": null,
      "outputs": []
    },
    {
      "cell_type": "code",
      "metadata": {
        "colab": {
          "background_save": true
        },
        "id": "dZA749fCikUB"
      },
      "source": [
        "#varbound = np.array([[500,5000]]*5)"
      ],
      "execution_count": null,
      "outputs": []
    },
    {
      "cell_type": "code",
      "metadata": {
        "colab": {
          "background_save": true
        },
        "id": "pIi0eOKalijf"
      },
      "source": [
        "varbound2 = np.array([[0.05, 0.5]]*5)"
      ],
      "execution_count": null,
      "outputs": []
    },
    {
      "cell_type": "code",
      "metadata": {
        "colab": {
          "background_save": true
        },
        "id": "j7EVeelOinK4"
      },
      "source": [
        "algorithm_param = {'max_num_iteration': 25000,\n",
        "                   'population_size':100,\n",
        "                   'mutation_probability':0.1,\n",
        "                   'elit_ratio': 0.01,\n",
        "                   'crossover_probability': 0.5,\n",
        "                   'parents_portion': 0.3,\n",
        "                   'crossover_type':'uniform',\n",
        "                   'selection_type': 'roulette',\n",
        "                   'max_iteration_without_improv':None}"
      ],
      "execution_count": null,
      "outputs": []
    },
    {
      "cell_type": "code",
      "metadata": {
        "colab": {
          "background_save": true
        },
        "id": "v-nzbp-8iqYR"
      },
      "source": [
        "#model = ga(function = evaluate, dimension = 5, variable_type='int',variable_boundaries=varbound,algorithm_parameters = algorithm_param)"
      ],
      "execution_count": null,
      "outputs": []
    },
    {
      "cell_type": "code",
      "metadata": {
        "colab": {
          "background_save": true
        },
        "id": "jRwWOtlalpgA"
      },
      "source": [
        "model2 = ga(function = evaluate2, dimension = 5, variable_type='real',variable_boundaries=varbound2,algorithm_parameters = algorithm_param)"
      ],
      "execution_count": null,
      "outputs": []
    },
    {
      "cell_type": "code",
      "metadata": {
        "colab": {
          "background_save": true
        },
        "id": "CBY0tezDiudq"
      },
      "source": [
        "model2.run()"
      ],
      "execution_count": null,
      "outputs": []
    },
    {
      "cell_type": "code",
      "metadata": {
        "colab": {
          "background_save": true
        },
        "id": "nVDcQyPN1XOw"
      },
      "source": [
        "# RMSE \n",
        "optimized = val_rnn_30_predict_result * model2.output_dict['variable'][0] + val_lstm_30_predict_result *model2.output_dict['variable'][1] + val_slstm_30_predict_result * model2.output_dict['variable'][2] + val_bilstm_30_predict_result * model2.output_dict['variable'][3] + val_gru_30_predict_result * model2.output_dict['variable'][4]\n",
        "optimized_rmse_30 =  RMSE(y_val_uni_origin,optimized)\n",
        "optimized_rmse_30"
      ],
      "execution_count": null,
      "outputs": []
    },
    {
      "cell_type": "code",
      "metadata": {
        "colab": {
          "background_save": true
        },
        "id": "ZI3JnqN-JJNZ"
      },
      "source": [
        "# 트레이닝셋\n",
        "plt.figure(figsize=(12,9))\n",
        "plt.plot(y_val_uni_origin,label='actual')\n",
        "plt.plot(optimized,label='prediction')\n",
        "plt.axhline(y=70,c='r',linestyle='--',linewidth=1)\n",
        "plt.axhline(y=180,c='r',linestyle='--',linewidth=1)\n",
        "plt.axhline(y=400,c='r',linestyle='--',linewidth=1)\n",
        "plt.text(len(y_val_uni_origin),185,'Hyperglycemic Threshold',family='Times New Roman',size=15)\n",
        "#plt.text(len(predict_result),75,'Hypoglycemic Threshold',family='Times New Roman',size=15)\n",
        "plt.text(len(y_val_uni_origin),75,'Hypoglycemic Threshold',family='Times New Roman',size=15)\n",
        "plt.text(len(y_val_uni_origin),405,'Too High ( Glucose value 400 + )',family='Times New Roman',size=15)\n",
        "plt.title('Optimized',family='Times New Roman')\n",
        "#plt.text(-100,-1,df['Timestamp'][0],family='Times New Roman',fontweight='bold',size=17)\n",
        "#plt.text(len(predict_result),405,'Too High ( Glucose value 400 + )',family='Times New Roman',size=15)\n",
        "\n",
        "plt.text(-50,-1,df['Timestamp'][0],family='Times New Roman',fontweight='bold',size=17)\n",
        "plt.text(len(y_val_uni_origin)-100,-1,df['Timestamp'][len(df['Timestamp'])-1],family='Times New Roman',fontweight='bold',size=17)\n",
        "\n",
        "plt.legend(loc='best')\n",
        "plt.show()"
      ],
      "execution_count": null,
      "outputs": []
    },
    {
      "cell_type": "code",
      "metadata": {
        "id": "0lA2jY82oUrC"
      },
      "source": [
        "# Make a new dataframe of your prediction values\n",
        "df_new = pd.DataFrame(df['Glucose'])\n",
        "df_new.columns = ['rawseq']\n",
        "\n",
        "# Retrieve index values\n",
        "new_index = df_new['rawseq'].tail(len(optimized)).index\n",
        "\n",
        "# Make a dataframe with your prediction values and your index\n",
        "new_series = pd.DataFrame(index = new_index, data = optimized)\n",
        "\n",
        "# Merge the dataframes\n",
        "df_new = pd.merge(df_new, new_series, how = 'left', left_index=True, right_index=True)\n",
        "df_new.columns = ['rawseq', 'optimized']\n",
        "\n",
        "# And plot it\n",
        "import matplotlib.pyplot as plt\n",
        "plt.figure(figsize=(15,8))\n",
        "\n",
        "plt.axhline(y=70,c='r',linestyle='--',linewidth=1)\n",
        "plt.axhline(y=180,c='r',linestyle='--',linewidth=1)\n",
        "\n",
        "plt.axhline(y=400,c='r',linestyle='--',linewidth=1)\n",
        "plt.text(len(raw_seq),185,'Hyperglycemic Threshold',family='Times New Roman',size=15)\n",
        "plt.text(len(raw_seq),75,'Hypoglycemic Threshold',family='Times New Roman',size=15)\n",
        "plt.text(len(raw_seq),405,'Too High ( Glucose value 400 + )',family='Times New Roman',size=15)\n",
        "plt.title('Optimized - 30min',family='Times New Roman')\n",
        "plt.plot(df_new['rawseq'],label='actual',linewidth=2)\n",
        "plt.plot(df_new['optimized'], label='predicted',linewidth=2)\n",
        "plt.legend(loc='best')\n",
        "plt.show()"
      ],
      "execution_count": null,
      "outputs": []
    },
    {
      "cell_type": "markdown",
      "metadata": {
        "id": "qezbWf6jn7-3"
      },
      "source": [
        "#### GA_Residual"
      ]
    },
    {
      "cell_type": "code",
      "metadata": {
        "id": "XFpWceV7n-QI"
      },
      "source": [
        "residuals = [y_val_uni_origin[i]-optimized[i] for i in range(len(optimized))]\n",
        "residuals = y_val_uni_origin - optimized.reshape(-1)\n",
        "probplot(residuals,dist=\"norm\",plot=plt)\n",
        "plt.title(\"30Min GA Normal Q-Q Plot\")"
      ],
      "execution_count": null,
      "outputs": []
    },
    {
      "cell_type": "code",
      "metadata": {
        "id": "rchMY89koBBF"
      },
      "source": [
        "probplot(residuals,dist=\"norm\",plot=plt)\n",
        "plt.title(\"30Min GA Normal Q-Q Plot\")"
      ],
      "execution_count": null,
      "outputs": []
    },
    {
      "cell_type": "code",
      "metadata": {
        "id": "WDQ-PVHaoGEX"
      },
      "source": [
        "residuals=DataFrame(residuals)"
      ],
      "execution_count": null,
      "outputs": []
    },
    {
      "cell_type": "code",
      "metadata": {
        "id": "OkOMdSBJoH-7"
      },
      "source": [
        "residuals.plot()"
      ],
      "execution_count": null,
      "outputs": []
    },
    {
      "cell_type": "code",
      "metadata": {
        "id": "AFRTk8mZoKKV"
      },
      "source": [
        "\n",
        "residuals.hist()"
      ],
      "execution_count": null,
      "outputs": []
    },
    {
      "cell_type": "code",
      "metadata": {
        "id": "inbHpGZzoMTL"
      },
      "source": [
        "residuals.plot(kind='kde')"
      ],
      "execution_count": null,
      "outputs": []
    },
    {
      "cell_type": "code",
      "metadata": {
        "id": "GVpp0r-MoOVU"
      },
      "source": [
        "from statsmodels.graphics.gofplots import qqplot\n",
        "residuals=np.array(residuals)\n",
        "qqplot(residuals)"
      ],
      "execution_count": null,
      "outputs": []
    },
    {
      "cell_type": "code",
      "metadata": {
        "id": "eeUU1jzToQp8"
      },
      "source": [
        ""
      ],
      "execution_count": null,
      "outputs": []
    },
    {
      "cell_type": "code",
      "metadata": {
        "colab": {
          "background_save": true
        },
        "id": "KuPCmyHBnJwT"
      },
      "source": [
        "model2.output_dict"
      ],
      "execution_count": null,
      "outputs": []
    },
    {
      "cell_type": "code",
      "metadata": {
        "colab": {
          "background_save": true
        },
        "id": "wO4QiBCI0u_b"
      },
      "source": [
        "#model2.output_dict['variable'][0]\n"
      ],
      "execution_count": null,
      "outputs": []
    },
    {
      "cell_type": "code",
      "metadata": {
        "colab": {
          "background_save": true
        },
        "id": "SoBnCi95ewDs"
      },
      "source": [
        "\n",
        "    "
      ],
      "execution_count": null,
      "outputs": []
    },
    {
      "cell_type": "code",
      "metadata": {
        "colab": {
          "background_save": true
        },
        "id": "gUeab7lLq9rb"
      },
      "source": [
        "# 트레이닝셋\n",
        "plt.figure(figsize=(12,9))\n",
        "plt.plot(y_train_uni_origin,label='actual')\n",
        "plt.plot(predict_result,label='prediction')\n",
        "plt.axhline(y=70,c='r',linestyle='--',linewidth=1)\n",
        "plt.axhline(y=180,c='r',linestyle='--',linewidth=1)\n",
        "plt.axhline(y=400,c='r',linestyle='--',linewidth=1)\n",
        "plt.text(len(predict_result),185,'Hyperglycemic Threshold',family='Times New Roman',size=15)\n",
        "#plt.text(len(predict_result),75,'Hypoglycemic Threshold',family='Times New Roman',size=15)\n",
        "plt.text(len(predict_result),75,'Hypoglycemic Threshold',family='Times New Roman',size=15)\n",
        "plt.text(len(predict_result),405,'Too High ( Glucose value 400 + )',family='Times New Roman',size=15)\n",
        "plt.title('GRU - Training set',family='Times New Roman')\n",
        "#plt.text(-100,-1,df['Timestamp'][0],family='Times New Roman',fontweight='bold',size=17)\n",
        "#plt.text(len(predict_result),405,'Too High ( Glucose value 400 + )',family='Times New Roman',size=15)\n",
        "\n",
        "plt.text(-50,-1,df['Timestamp'][0],family='Times New Roman',fontweight='bold',size=17)\n",
        "plt.text(len(predict_result)-100,-1,df['Timestamp'][len(df['Timestamp'])-1],family='Times New Roman',fontweight='bold',size=17)\n",
        "\n",
        "plt.legend(loc='best')\n",
        "plt.show()"
      ],
      "execution_count": null,
      "outputs": []
    },
    {
      "cell_type": "markdown",
      "metadata": {
        "id": "kPFO9eZGq9rb"
      },
      "source": [
        "## 60분"
      ]
    },
    {
      "cell_type": "code",
      "metadata": {
        "colab": {
          "background_save": true
        },
        "id": "fnyPBvtzq9rc"
      },
      "source": [
        "# SG필터 테스트 \n",
        "#import scipy.signal \n",
        "\n",
        "#yhat = scipy.signal.savgol_filter(raw_seq,15,5)\n",
        "#plt.plot(raw_seq)\n",
        "#plt.plot(yhat,color='red')\n",
        "#plt.show()"
      ],
      "execution_count": null,
      "outputs": []
    },
    {
      "cell_type": "code",
      "metadata": {
        "colab": {
          "background_save": true
        },
        "id": "yRw_9JcVq9rc"
      },
      "source": [
        ""
      ],
      "execution_count": null,
      "outputs": []
    },
    {
      "cell_type": "code",
      "metadata": {
        "colab": {
          "background_save": true
        },
        "id": "e2KuFBb8q9rc"
      },
      "source": [
        "#TRAIN_SPLIT=int(len(raw_seq)*0.7)\n",
        "#uni_past_history=6\n",
        "#uni_future_target=11\n",
        "#x_train_uni,y_train_uni = uni_data(yhat,0,TRAIN_SPLIT,\n",
        "#                                  uni_past_history,\n",
        "#                                  uni_future_target)\n",
        "#x_val_uni,y_val_uni=uni_data(yhat,TRAIN_SPLIT,None,\n",
        "#                            uni_past_history,\n",
        "#                            uni_future_target)\n",
        "\n"
      ],
      "execution_count": null,
      "outputs": []
    },
    {
      "cell_type": "code",
      "metadata": {
        "colab": {
          "background_save": true
        },
        "id": "QocLUItlq9rc"
      },
      "source": [
        "TRAIN_SPLIT=int(len(raw_seq)*0.7)\n",
        "uni_past_history=6\n",
        "uni_future_target=11\n",
        "x_train_uni,y_train_uni = uni_data(raw_seq,0,TRAIN_SPLIT,\n",
        "                                  uni_past_history,\n",
        "                                  uni_future_target)\n",
        "x_val_uni,y_val_uni=uni_data(raw_seq,TRAIN_SPLIT,None,\n",
        "                            uni_past_history,\n",
        "                            uni_future_target)"
      ],
      "execution_count": null,
      "outputs": []
    },
    {
      "cell_type": "code",
      "metadata": {
        "colab": {
          "background_save": true
        },
        "id": "4-6uhXuNq9rc"
      },
      "source": [
        "TRAIN_SPLIT=int(len(raw_seq)*0.7)\n",
        "uni_past_history=6\n",
        "uni_future_target=11\n",
        "x_train_uni_origin,y_train_uni_origin = uni_data(raw_seq,0,TRAIN_SPLIT,\n",
        "                                  uni_past_history,\n",
        "                                  uni_future_target)\n",
        "x_val_uni_origin,y_val_uni_origin=uni_data(raw_seq,TRAIN_SPLIT,None,\n",
        "                            uni_past_history,\n",
        "                            uni_future_target)\n",
        "\n"
      ],
      "execution_count": null,
      "outputs": []
    },
    {
      "cell_type": "code",
      "metadata": {
        "colab": {
          "background_save": true
        },
        "id": "O9gzX47rq9rc"
      },
      "source": [
        "x_train_uni[0]"
      ],
      "execution_count": null,
      "outputs": []
    },
    {
      "cell_type": "code",
      "metadata": {
        "colab": {
          "background_save": true
        },
        "id": "rGb-bZSuq9rc"
      },
      "source": [
        "y_train_uni[0]"
      ],
      "execution_count": null,
      "outputs": []
    },
    {
      "cell_type": "code",
      "metadata": {
        "colab": {
          "background_save": true
        },
        "id": "mHf__ctyq9rc"
      },
      "source": [
        "df['Glucose'].head(20)"
      ],
      "execution_count": null,
      "outputs": []
    },
    {
      "cell_type": "markdown",
      "metadata": {
        "id": "wKcDZjIjq9rd"
      },
      "source": [
        "### RNN - 60분"
      ]
    },
    {
      "cell_type": "code",
      "metadata": {
        "colab": {
          "background_save": true
        },
        "id": "lG_OOyBDq9rd"
      },
      "source": [
        "# 재현 가능한 결과를 만들기 위해 \n",
        "# 매번 반복해야 하는 작업 \n",
        "seed_num = 42\n",
        "random.seed(seed_num)\n",
        "np.random.seed(seed_num)\n",
        "tf.random.set_seed(seed_num)\n",
        "\n",
        "session_conf = tf.compat.v1.ConfigProto(intra_op_parallelism_threads=1,\n",
        "                             inter_op_parallelism_threads=1)\n",
        "sess=tf.compat.v1.Session(graph=tf.compat.v1.get_default_graph(),config=session_conf)\n",
        "K.set_session(sess)"
      ],
      "execution_count": null,
      "outputs": []
    },
    {
      "cell_type": "code",
      "metadata": {
        "colab": {
          "background_save": true
        },
        "id": "HQ2m6Xncq9rd"
      },
      "source": [
        "model = Sequential()\n",
        "model.add(SimpleRNN(50,activation='relu',input_shape=x_train_uni.shape[-2:])) # recurrent_dropout=0.2\n",
        "model.add(Dense(1))\n",
        "\n",
        "model.compile(optimizer='adam',loss='mse')\n",
        "\n",
        "model.fit(x_train_uni,y_train_uni,epochs=300,verbose=0)\n",
        "K.clear_session()"
      ],
      "execution_count": null,
      "outputs": []
    },
    {
      "cell_type": "code",
      "metadata": {
        "colab": {
          "background_save": true
        },
        "id": "QpwzYk8tG_hZ"
      },
      "source": [
        "val_rnn_60_predict_result = model.predict(x_val_uni,verbose=0)"
      ],
      "execution_count": null,
      "outputs": []
    },
    {
      "cell_type": "code",
      "metadata": {
        "colab": {
          "background_save": true
        },
        "id": "RPY1Rdj8q9re"
      },
      "source": [
        "predict_result = model.predict(x_val_uni,verbose=0)\n",
        "\n",
        "# 예측값 상한선 = 400 \n",
        "for i in range(len(predict_result)):\n",
        "    if predict_result[i] >= 400: \n",
        "        predict_result[i]=400\n",
        "\n",
        "# Val set RMSE \n",
        "print(' Vanila RNN (Simple RNN) - RMSE (15min) : ',RMSE(y_val_uni_origin,predict_result))\n",
        "val_rnn_60 = RMSE(y_val_uni_origin,predict_result)\n"
      ],
      "execution_count": null,
      "outputs": []
    },
    {
      "cell_type": "markdown",
      "metadata": {
        "id": "__B-B9Jnq9re"
      },
      "source": [
        "#### 잔차"
      ]
    },
    {
      "cell_type": "code",
      "metadata": {
        "colab": {
          "background_save": true
        },
        "id": "Wgfn-O0mq9re"
      },
      "source": [
        "residuals = [y_val_uni[i]-predict_result[i] for i in range(len(predict_result))]\n",
        "residuals = y_val_uni - predict_result.reshape(-1)\n",
        "probplot(residuals,dist=\"norm\",plot=plt)\n",
        "plt.title(\"Simple RNN Q-Q Plot\")"
      ],
      "execution_count": null,
      "outputs": []
    },
    {
      "cell_type": "markdown",
      "metadata": {
        "id": "xaEbYtCKq9re"
      },
      "source": [
        "#### Validation"
      ]
    },
    {
      "cell_type": "code",
      "metadata": {
        "colab": {
          "background_save": true
        },
        "id": "hLqOpbFLq9rf"
      },
      "source": [
        "# 테스트셋\n",
        "plt.figure(figsize=(12,9))\n",
        "plt.plot(y_val_uni_origin,label='actual')\n",
        "plt.plot(predict_result,label='prediction')\n",
        "plt.axhline(y=70,c='r',linestyle='--',linewidth=1)\n",
        "plt.axhline(y=180,c='r',linestyle='--',linewidth=1)\n",
        "plt.axhline(y=400,c='r',linestyle='--',linewidth=1)\n",
        "plt.text(len(predict_result),75,'Hypoglycemic Threshold',family='Times New Roman',size=15)\n",
        "plt.text(len(predict_result),185,'Hyperglycemic Threshold',family='Times New Roman',size=15)\n",
        "#plt.text(len(predict_result),75,'Hypoglycemic Threshold',family='Times New Roman',size=15)\n",
        "plt.text(-50,-1,df['Timestamp'][TRAIN_SPLIT],family='Times New Roman',fontweight='bold',size=17)\n",
        "plt.text(len(df['Timestamp'])-TRAIN_SPLIT-10,-1,df['Timestamp'][len(df['Timestamp'])-1],family='Times New Roman',fontweight='bold',size=17)\n",
        "plt.text(len(predict_result),405,'Too High ( Glucose value 400 + )',family='Times New Roman',size=15)\n",
        "plt.title('Simple RNN - Validation set (60min)',family='Times New Roman')\n",
        "plt.legend(loc='best')\n",
        "\n",
        "plt.show()"
      ],
      "execution_count": null,
      "outputs": []
    },
    {
      "cell_type": "code",
      "metadata": {
        "colab": {
          "background_save": true
        },
        "id": "bIMe0l02q9rf"
      },
      "source": [
        "from pandas import DataFrame\n",
        "from statsmodels.graphics.gofplots import qqplot\n",
        "from scipy.stats import probplot\n",
        "\n",
        "#residuals=DataFrame(residuals)\n",
        "\n",
        "residuals = [y_val_uni[i]-predict_result[i] for i in range(len(predict_result))]\n",
        "residuals = y_val_uni - predict_result.reshape(-1)\n",
        "\n",
        "#residuals\n",
        "\n",
        "probplot(residuals,dist=\"norm\",plot=plt)\n",
        "plt.title(\"Simple RNN 60min Normal Q-Q Plot\")"
      ],
      "execution_count": null,
      "outputs": []
    },
    {
      "cell_type": "code",
      "metadata": {
        "colab": {
          "background_save": true
        },
        "id": "SU5yrN06q9rf"
      },
      "source": [
        "# 트레이닝셋 rmse 구하는 부분 \n",
        "predict_result = model.predict(x_train_uni,verbose=0)\n",
        "for i in range(len(predict_result)):\n",
        "    if predict_result[i] >= 400: \n",
        "        predict_result[i]=400            \n",
        "print(' Training set / Vanila RNN (Simple RNN) - RMSE (15min) : ',RMSE(y_train_uni_origin,predict_result))\n",
        "train_rnn_60=RMSE(y_train_uni_origin,predict_result)"
      ],
      "execution_count": null,
      "outputs": []
    },
    {
      "cell_type": "markdown",
      "metadata": {
        "id": "Xfozzjzqq9rf"
      },
      "source": [
        "#### Train"
      ]
    },
    {
      "cell_type": "code",
      "metadata": {
        "colab": {
          "background_save": true
        },
        "id": "FBk6ezv4q9rg"
      },
      "source": [
        "# 트레이닝셋\n",
        "plt.figure(figsize=(12,9))\n",
        "plt.plot(y_train_uni_origin,label='actual')\n",
        "plt.plot(predict_result,label='prediction')\n",
        "plt.axhline(y=70,c='r',linestyle='--',linewidth=1)\n",
        "plt.axhline(y=180,c='r',linestyle='--',linewidth=1)\n",
        "plt.axhline(y=400,c='r',linestyle='--',linewidth=1)\n",
        "plt.text(len(predict_result),185,'Hyperglycemic Threshold',family='Times New Roman',size=15)\n",
        "#plt.text(len(predict_result),75,'Hypoglycemic Threshold',family='Times New Roman',size=15)\n",
        "plt.text(len(predict_result),75,'Hypoglycemic Threshold',family='Times New Roman',size=15)\n",
        "plt.text(len(predict_result),405,'Too High ( Glucose value 400 + )',family='Times New Roman',size=15)\n",
        "plt.title('Simple RNN - Training set (60min)',family='Times New Roman')\n",
        "#plt.text(-100,-1,df['Timestamp'][0],family='Times New Roman',fontweight='bold',size=17)\n",
        "#plt.text(len(predict_result),405,'Too High ( Glucose value 400 + )',family='Times New Roman',size=15)\n",
        "\n",
        "plt.text(-50,-1,df['Timestamp'][0],family='Times New Roman',fontweight='bold',size=17)\n",
        "plt.text(len(predict_result)-100,-1,df['Timestamp'][len(df['Timestamp'])-1],family='Times New Roman',fontweight='bold',size=17)\n",
        "\n",
        "plt.legend(loc='best')\n",
        "plt.show()"
      ],
      "execution_count": null,
      "outputs": []
    },
    {
      "cell_type": "markdown",
      "metadata": {
        "id": "qv8qhIPQq9rg"
      },
      "source": [
        "### LSTM - 60분"
      ]
    },
    {
      "cell_type": "code",
      "metadata": {
        "colab": {
          "background_save": true
        },
        "id": "ukgN-pb7q9rg"
      },
      "source": [
        "# 재현 가능한 결과를 만들기 위해 \n",
        "# 매번 반복해야 하는 작업 \n",
        "seed_num = 42\n",
        "random.seed(seed_num)\n",
        "np.random.seed(seed_num)\n",
        "tf.random.set_seed(seed_num)\n",
        "\n",
        "session_conf = tf.compat.v1.ConfigProto(intra_op_parallelism_threads=1,\n",
        "                             inter_op_parallelism_threads=1)\n",
        "sess=tf.compat.v1.Session(graph=tf.compat.v1.get_default_graph(),config=session_conf)\n",
        "K.set_session(sess)"
      ],
      "execution_count": null,
      "outputs": []
    },
    {
      "cell_type": "code",
      "metadata": {
        "colab": {
          "background_save": true
        },
        "id": "FrSlQ6iAq9rg"
      },
      "source": [
        "model = Sequential()\n",
        "model.add(LSTM(50,activation='relu',input_shape=x_train_uni.shape[-2:]))  #recurrent_dropout=0.2, unit_forget_bias=False\n",
        "model.add(Dense(1))\n",
        "\n",
        "\n",
        "model.compile(optimizer='adam',loss='mse')\n",
        "\n",
        "model.fit(x_train_uni,y_train_uni,epochs=300,verbose=0)\n",
        "\n",
        "K.clear_session()\n",
        "val_lstm_60_predict_result = model.predict(x_val_uni,verbose=0)"
      ],
      "execution_count": null,
      "outputs": []
    },
    {
      "cell_type": "code",
      "metadata": {
        "colab": {
          "background_save": true
        },
        "id": "vcQElyN6q9rg"
      },
      "source": [
        "predict_result = model.predict(x_val_uni,verbose=0)\n",
        "\n",
        "# 예측값 상한선 = 400 \n",
        "for i in range(len(predict_result)):\n",
        "    if predict_result[i] >= 400: \n",
        "        predict_result[i]=400\n",
        "\n",
        "#predict_result\n",
        "\n",
        "print(' LSTM - RMSE (60min) : ',RMSE(y_val_uni_origin,predict_result))\n",
        "val_lstm_60=RMSE(y_val_uni_origin,predict_result)"
      ],
      "execution_count": null,
      "outputs": []
    },
    {
      "cell_type": "markdown",
      "metadata": {
        "id": "1_679PWOq9rh"
      },
      "source": [
        "#### 잔차"
      ]
    },
    {
      "cell_type": "code",
      "metadata": {
        "colab": {
          "background_save": true
        },
        "id": "ZLZl3fAyq9rh"
      },
      "source": [
        "residuals = [y_val_uni[i]-predict_result[i] for i in range(len(predict_result))]\n",
        "residuals = y_val_uni - predict_result.reshape(-1)\n",
        "probplot(residuals,dist=\"norm\",plot=plt)\n",
        "plt.title(\"LSTM Q-Q Plot\")"
      ],
      "execution_count": null,
      "outputs": []
    },
    {
      "cell_type": "markdown",
      "metadata": {
        "id": "M7dCdt61q9rh"
      },
      "source": [
        "#### Validation"
      ]
    },
    {
      "cell_type": "code",
      "metadata": {
        "colab": {
          "background_save": true
        },
        "id": "-1RdnVMRq9rh"
      },
      "source": [
        "# 테스트셋\n",
        "plt.figure(figsize=(12,9))\n",
        "plt.plot(y_val_uni_origin,label='actual')\n",
        "plt.plot(predict_result,label='prediction')\n",
        "plt.axhline(y=70,c='r',linestyle='--',linewidth=1)\n",
        "plt.axhline(y=180,c='r',linestyle='--',linewidth=1)\n",
        "plt.axhline(y=400,c='r',linestyle='--',linewidth=1)\n",
        "plt.text(len(predict_result),75,'Hypoglycemic Threshold',family='Times New Roman',size=15)\n",
        "plt.text(len(predict_result),185,'Hyperglycemic Threshold',family='Times New Roman',size=15)\n",
        "#plt.text(len(predict_result),75,'Hypoglycemic Threshold',family='Times New Roman',size=15)\n",
        "plt.text(-50,-1,df['Timestamp'][TRAIN_SPLIT],family='Times New Roman',fontweight='bold',size=17)\n",
        "plt.text(len(df['Timestamp'])-TRAIN_SPLIT-10,-1,df['Timestamp'][len(df['Timestamp'])-1],family='Times New Roman',fontweight='bold',size=17)\n",
        "plt.text(len(predict_result),405,'Too High ( Glucose value 400 + )',family='Times New Roman',size=15)\n",
        "plt.title('LSTM - Validation set (60min)',family='Times New Roman')\n",
        "plt.legend(loc='best')\n",
        "\n",
        "plt.show()"
      ],
      "execution_count": null,
      "outputs": []
    },
    {
      "cell_type": "code",
      "metadata": {
        "colab": {
          "background_save": true
        },
        "id": "Nmrz7W3Mq9ri"
      },
      "source": [
        "# 트레이닝셋 RMSE 계산 \n",
        "predict_result = model.predict(x_train_uni,verbose=0)\n",
        "# 예측값 상한선 = 400 \n",
        "for i in range(len(predict_result)):\n",
        "    if predict_result[i] >= 400: \n",
        "        predict_result[i]=400\n",
        "print(' LSTM - RMSE (60min) Training set : ',RMSE(y_train_uni_origin,predict_result))\n",
        "train_lstm_60 =RMSE(y_train_uni_origin,predict_result)"
      ],
      "execution_count": null,
      "outputs": []
    },
    {
      "cell_type": "markdown",
      "metadata": {
        "id": "mBzOwLBoq9ri"
      },
      "source": [
        "#### Train"
      ]
    },
    {
      "cell_type": "code",
      "metadata": {
        "colab": {
          "background_save": true
        },
        "id": "VZ0egxM4q9ri"
      },
      "source": [
        "# 트레이닝셋\n",
        "plt.figure(figsize=(12,9))\n",
        "plt.plot(y_train_uni_origin,label='actual')\n",
        "plt.plot(predict_result,label='prediction')\n",
        "plt.axhline(y=70,c='r',linestyle='--',linewidth=1)\n",
        "plt.axhline(y=180,c='r',linestyle='--',linewidth=1)\n",
        "plt.axhline(y=400,c='r',linestyle='--',linewidth=1)\n",
        "plt.text(len(predict_result),185,'Hyperglycemic Threshold',family='Times New Roman',size=15)\n",
        "#plt.text(len(predict_result),75,'Hypoglycemic Threshold',family='Times New Roman',size=15)\n",
        "plt.text(len(predict_result),75,'Hypoglycemic Threshold',family='Times New Roman',size=15)\n",
        "plt.text(len(predict_result),405,'Too High ( Glucose value 400 + )',family='Times New Roman',size=15)\n",
        "plt.title('LSTM - Training set (60min)',family='Times New Roman')\n",
        "#plt.text(-100,-1,df['Timestamp'][0],family='Times New Roman',fontweight='bold',size=17)\n",
        "#plt.text(len(predict_result),405,'Too High ( Glucose value 400 + )',family='Times New Roman',size=15)\n",
        "\n",
        "plt.text(-50,-1,df['Timestamp'][0],family='Times New Roman',fontweight='bold',size=17)\n",
        "plt.text(len(predict_result)-100,-1,df['Timestamp'][len(df['Timestamp'])-1],family='Times New Roman',fontweight='bold',size=17)\n",
        "\n",
        "plt.legend()\n",
        "plt.show()"
      ],
      "execution_count": null,
      "outputs": []
    },
    {
      "cell_type": "markdown",
      "metadata": {
        "id": "1UdXyL1uq9rk"
      },
      "source": [
        "### Stacked LSTM - 60분"
      ]
    },
    {
      "cell_type": "code",
      "metadata": {
        "colab": {
          "background_save": true
        },
        "id": "2Jw7WrYpq9rk"
      },
      "source": [
        "# 재현 가능한 결과를 만들기 위해 \n",
        "# 매번 반복해야 하는 작업 \n",
        "seed_num = 42\n",
        "random.seed(seed_num)\n",
        "np.random.seed(seed_num)\n",
        "tf.random.set_seed(seed_num)\n",
        "\n",
        "session_conf = tf.compat.v1.ConfigProto(intra_op_parallelism_threads=1,\n",
        "                             inter_op_parallelism_threads=1)\n",
        "sess=tf.compat.v1.Session(graph=tf.compat.v1.get_default_graph(),config=session_conf)\n",
        "K.set_session(sess)"
      ],
      "execution_count": null,
      "outputs": []
    },
    {
      "cell_type": "code",
      "metadata": {
        "colab": {
          "background_save": true
        },
        "id": "ASE4VD0Eq9rl"
      },
      "source": [
        "model = Sequential()\n",
        "model.add(LSTM(50,activation='relu',return_sequences=True,input_shape=x_train_uni.shape[-2:])) # recurrent_dropout=0.2\n",
        "model.add(LSTM(50,activation='relu'))\n",
        "model.add(Dense(1))\n",
        "model.compile(optimizer='adam',loss='mse')"
      ],
      "execution_count": null,
      "outputs": []
    },
    {
      "cell_type": "code",
      "metadata": {
        "colab": {
          "background_save": true
        },
        "id": "wIgTS_zsq9rl"
      },
      "source": [
        "model.fit(x_train_uni,y_train_uni,epochs=300,verbose=0)\n",
        "\n",
        "K.clear_session()"
      ],
      "execution_count": null,
      "outputs": []
    },
    {
      "cell_type": "code",
      "metadata": {
        "colab": {
          "background_save": true
        },
        "id": "cVXSRGZrHJEz"
      },
      "source": [
        "val_slstm_60_predict_result = model.predict(x_val_uni,verbose=0)"
      ],
      "execution_count": null,
      "outputs": []
    },
    {
      "cell_type": "code",
      "metadata": {
        "colab": {
          "background_save": true
        },
        "id": "AuGhsUfgq9rl"
      },
      "source": [
        "predict_result = model.predict(x_val_uni,verbose=0)\n",
        "\n",
        "\n",
        "for i in range(len(predict_result)):\n",
        "    if predict_result[i] >= 400: \n",
        "        predict_result[i]=400\n",
        "\n",
        "print(' Stacked LSTM - RMSE(15min) : ',RMSE(y_val_uni_origin,predict_result))\n",
        "val_stacklstm_60 =RMSE(y_val_uni_origin,predict_result)"
      ],
      "execution_count": null,
      "outputs": []
    },
    {
      "cell_type": "markdown",
      "metadata": {
        "id": "koNgg9-Rq9rl"
      },
      "source": [
        "#### 잔차"
      ]
    },
    {
      "cell_type": "code",
      "metadata": {
        "colab": {
          "background_save": true
        },
        "id": "DanYk_x5q9rl"
      },
      "source": [
        "residuals = [y_val_uni[i]-predict_result[i] for i in range(len(predict_result))]\n",
        "residuals = y_val_uni - predict_result.reshape(-1)\n",
        "probplot(residuals,dist=\"norm\",plot=plt)\n",
        "plt.title(\"Stacked LSTM Q-Q Plot\")"
      ],
      "execution_count": null,
      "outputs": []
    },
    {
      "cell_type": "markdown",
      "metadata": {
        "id": "oW3hDlRQq9rm"
      },
      "source": [
        "#### Validation"
      ]
    },
    {
      "cell_type": "code",
      "metadata": {
        "colab": {
          "background_save": true
        },
        "id": "9v2TyrVwq9rm"
      },
      "source": [
        "# 테스트셋\n",
        "plt.figure(figsize=(12,9))\n",
        "plt.plot(y_val_uni_origin,label='actual')\n",
        "plt.plot(predict_result,label='prediction')\n",
        "plt.axhline(y=70,c='r',linestyle='--',linewidth=1)\n",
        "plt.axhline(y=180,c='r',linestyle='--',linewidth=1)\n",
        "plt.axhline(y=400,c='r',linestyle='--',linewidth=1)\n",
        "plt.text(len(predict_result),75,'Hypoglycemic Threshold',family='Times New Roman',size=15)\n",
        "plt.text(len(predict_result),185,'Hyperglycemic Threshold',family='Times New Roman',size=15)\n",
        "#plt.text(len(predict_result),75,'Hypoglycemic Threshold',family='Times New Roman',size=15)\n",
        "plt.text(-50,-1,df['Timestamp'][TRAIN_SPLIT],family='Times New Roman',fontweight='bold',size=17)\n",
        "plt.text(len(df['Timestamp'])-TRAIN_SPLIT-10,-1,df['Timestamp'][len(df['Timestamp'])-1],family='Times New Roman',fontweight='bold',size=17)\n",
        "plt.text(len(predict_result),405,'Too High ( Glucose value 400 + )',family='Times New Roman',size=15)\n",
        "plt.title('Stacked LSTM - Validation set (60min)',family='Times New Roman')\n",
        "plt.legend(loc='best')\n",
        "\n",
        "plt.show()"
      ],
      "execution_count": null,
      "outputs": []
    },
    {
      "cell_type": "code",
      "metadata": {
        "colab": {
          "background_save": true
        },
        "id": "lhbun7w_q9rm"
      },
      "source": [
        "# 트레이닝셋 RMSE 계산 \n",
        "predict_result = model.predict(x_train_uni,verbose=0)\n",
        "# 예측값 상한선 = 400 \n",
        "for i in range(len(predict_result)):\n",
        "    if predict_result[i] >= 400: \n",
        "        predict_result[i]=400\n",
        "print(' Training set / STACKED LSTM - RMSE (60min) Training set : ',RMSE(y_train_uni_origin,predict_result))\n",
        "train_stacklstm_60 = RMSE(y_train_uni_origin,predict_result)"
      ],
      "execution_count": null,
      "outputs": []
    },
    {
      "cell_type": "markdown",
      "metadata": {
        "id": "d64-DrHVq9rm"
      },
      "source": [
        "#### Train"
      ]
    },
    {
      "cell_type": "code",
      "metadata": {
        "colab": {
          "background_save": true
        },
        "id": "on7A3apYq9rn"
      },
      "source": [
        "# 트레이닝셋\n",
        "plt.figure(figsize=(12,9))\n",
        "plt.plot(y_train_uni_origin,label='actual')\n",
        "plt.plot(predict_result,label='prediction')\n",
        "plt.axhline(y=70,c='r',linestyle='--',linewidth=1)\n",
        "plt.axhline(y=180,c='r',linestyle='--',linewidth=1)\n",
        "plt.axhline(y=400,c='r',linestyle='--',linewidth=1)\n",
        "plt.text(len(predict_result),185,'Hyperglycemic Threshold',family='Times New Roman',size=15)\n",
        "#plt.text(len(predict_result),75,'Hypoglycemic Threshold',family='Times New Roman',size=15)\n",
        "plt.text(len(predict_result),75,'Hypoglycemic Threshold',family='Times New Roman',size=15)\n",
        "plt.text(len(predict_result),405,'Too High ( Glucose value 400 + )',family='Times New Roman',size=15)\n",
        "plt.title('Stacked LSTM - Training set',family='Times New Roman')\n",
        "#plt.text(-100,-1,df['Timestamp'][0],family='Times New Roman',fontweight='bold',size=17)\n",
        "#plt.text(len(predict_result),405,'Too High ( Glucose value 400 + )',family='Times New Roman',size=15)\n",
        "\n",
        "plt.text(-50,-1,df['Timestamp'][0],family='Times New Roman',fontweight='bold',size=17)\n",
        "plt.text(len(predict_result)-100,-1,df['Timestamp'][len(df['Timestamp'])-1],family='Times New Roman',fontweight='bold',size=17)\n",
        "\n",
        "plt.legend(loc='best')\n",
        "plt.show()"
      ],
      "execution_count": null,
      "outputs": []
    },
    {
      "cell_type": "markdown",
      "metadata": {
        "id": "bvT0dDUiq9rn"
      },
      "source": [
        "### Bidirectional LSTM - 60분"
      ]
    },
    {
      "cell_type": "code",
      "metadata": {
        "colab": {
          "background_save": true
        },
        "id": "9jaSUQ7Hq9rn"
      },
      "source": [
        "# 재현 가능한 결과를 만들기 위해 \n",
        "# 매번 반복해야 하는 작업 \n",
        "seed_num = 42\n",
        "random.seed(seed_num)\n",
        "np.random.seed(seed_num)\n",
        "tf.random.set_seed(seed_num)\n",
        "\n",
        "session_conf = tf.compat.v1.ConfigProto(intra_op_parallelism_threads=1,\n",
        "                             inter_op_parallelism_threads=1)\n",
        "sess=tf.compat.v1.Session(graph=tf.compat.v1.get_default_graph(),config=session_conf)\n",
        "K.set_session(sess)"
      ],
      "execution_count": null,
      "outputs": []
    },
    {
      "cell_type": "code",
      "metadata": {
        "colab": {
          "background_save": true
        },
        "id": "BAUkyyWfq9rn"
      },
      "source": [
        "from keras.layers import Bidirectional\n",
        "from tensorflow.keras import layers\n",
        "model = Sequential()\n",
        "\n",
        "model.add(Bidirectional(LSTM(50,activation='relu',return_sequences=True),input_shape=x_train_uni.shape[-2:]))\n",
        "model.add(Bidirectional(layers.LSTM(50,activation='relu')))\n",
        "#model.add(Bidirectional(forward_layer,backward_layer=backward_layer,input_shape=x_train_uni.shape[-2:]))\n",
        "model.add(Dense(1))\n",
        "model.compile(optimizer='adam',loss='mse',metrics=['accuracy'])"
      ],
      "execution_count": null,
      "outputs": []
    },
    {
      "cell_type": "code",
      "metadata": {
        "colab": {
          "background_save": true
        },
        "id": "bhbL8BQgq9ro"
      },
      "source": [
        "model.fit(x_train_uni,y_train_uni,epochs=300,verbose=0)\n",
        "\n",
        "K.clear_session()\n",
        "val_bilstm_60_predict_result = model.predict(x_val_uni,verbose=0)"
      ],
      "execution_count": null,
      "outputs": []
    },
    {
      "cell_type": "code",
      "metadata": {
        "colab": {
          "background_save": true
        },
        "id": "RmhIlmov-yLL"
      },
      "source": [
        "predict_result.shape"
      ],
      "execution_count": null,
      "outputs": []
    },
    {
      "cell_type": "code",
      "metadata": {
        "colab": {
          "background_save": true
        },
        "id": "SRjHGzSQq9ro"
      },
      "source": [
        "predict_result = model.predict(x_val_uni,verbose=0)\n",
        "\n",
        "for i in range(len(predict_result)):\n",
        "    if predict_result[i] >= 400: \n",
        "        predict_result[i]=400\n",
        "\n",
        "print('Bidirectional LSTM - RMSE : ',RMSE(y_val_uni_origin,predict_result))\n",
        "val_bilstm_60 = RMSE(y_val_uni_origin,predict_result)"
      ],
      "execution_count": null,
      "outputs": []
    },
    {
      "cell_type": "markdown",
      "metadata": {
        "id": "v2Uss63Xq9rp"
      },
      "source": [
        "#### Validation"
      ]
    },
    {
      "cell_type": "code",
      "metadata": {
        "colab": {
          "background_save": true
        },
        "id": "Zt4-P5ASq9rp"
      },
      "source": [
        "# 테스트셋\n",
        "plt.figure(figsize=(12,9))\n",
        "plt.plot(y_val_uni_origin,label='actual')\n",
        "plt.plot(predict_result,label='prediction')\n",
        "plt.axhline(y=70,c='r',linestyle='--',linewidth=1)\n",
        "plt.axhline(y=180,c='r',linestyle='--',linewidth=1)\n",
        "plt.axhline(y=400,c='r',linestyle='--',linewidth=1)\n",
        "plt.text(len(predict_result),75,'Hypoglycemic Threshold',family='Times New Roman',size=15)\n",
        "plt.text(len(predict_result),185,'Hyperglycemic Threshold',family='Times New Roman',size=15)\n",
        "#plt.text(len(predict_result),75,'Hypoglycemic Threshold',family='Times New Roman',size=15)\n",
        "plt.text(-50,-1,df['Timestamp'][TRAIN_SPLIT],family='Times New Roman',fontweight='bold',size=17)\n",
        "plt.text(len(df['Timestamp'])-TRAIN_SPLIT-10,-1,df['Timestamp'][len(df['Timestamp'])-1],family='Times New Roman',fontweight='bold',size=17)\n",
        "plt.text(len(predict_result),405,'Too High ( Glucose value 400 + )',family='Times New Roman',size=15)\n",
        "plt.title('Bidirectional LSTM - Validation set (60min)',family='Times New Roman')\n",
        "plt.legend(loc='best')\n",
        "\n",
        "plt.show()"
      ],
      "execution_count": null,
      "outputs": []
    },
    {
      "cell_type": "markdown",
      "metadata": {
        "id": "HagAvHLwq9rq"
      },
      "source": [
        "#### 잔차"
      ]
    },
    {
      "cell_type": "code",
      "metadata": {
        "colab": {
          "background_save": true
        },
        "id": "aPIaOS4dq9rq"
      },
      "source": [
        "residuals = [y_val_uni[i]-predict_result[i] for i in range(len(predict_result))]\n",
        "residuals = y_val_uni - predict_result.reshape(-1)\n",
        "probplot(residuals,dist=\"norm\",plot=plt)\n",
        "plt.title(\"Bidirectional LSTM Q-Q Plot\")"
      ],
      "execution_count": null,
      "outputs": []
    },
    {
      "cell_type": "code",
      "metadata": {
        "colab": {
          "background_save": true
        },
        "id": "TqxO0gCiq9rq"
      },
      "source": [
        "# 트레이닝셋 RMSE 계산 \n",
        "predict_result = model.predict(x_train_uni,verbose=0)\n",
        "# 예측값 상한선 = 400 \n",
        "for i in range(len(predict_result)):\n",
        "    if predict_result[i] >= 400: \n",
        "        predict_result[i]=400\n",
        "print(' Training set / Bidirectional LSTM - RMSE (60min) Training set : ',RMSE(y_train_uni_origin,predict_result))\n",
        "train_bilstm_60 = RMSE(y_train_uni_origin,predict_result)"
      ],
      "execution_count": null,
      "outputs": []
    },
    {
      "cell_type": "markdown",
      "metadata": {
        "id": "to9q9pk9q9rq"
      },
      "source": [
        "#### Train"
      ]
    },
    {
      "cell_type": "code",
      "metadata": {
        "colab": {
          "background_save": true
        },
        "id": "KdhzjFPoq9rr"
      },
      "source": [
        "# 트레이닝셋\n",
        "plt.figure(figsize=(12,9))\n",
        "plt.plot(y_train_uni_origin,label='actual')\n",
        "plt.plot(predict_result,label='prediction')\n",
        "plt.axhline(y=70,c='r',linestyle='--',linewidth=1)\n",
        "plt.axhline(y=180,c='r',linestyle='--',linewidth=1)\n",
        "plt.axhline(y=400,c='r',linestyle='--',linewidth=1)\n",
        "plt.text(len(predict_result),185,'Hyperglycemic Threshold',family='Times New Roman',size=15)\n",
        "#plt.text(len(predict_result),75,'Hypoglycemic Threshold',family='Times New Roman',size=15)\n",
        "plt.text(len(predict_result),75,'Hypoglycemic Threshold',family='Times New Roman',size=15)\n",
        "plt.text(len(predict_result),405,'Too High ( Glucose value 400 + )',family='Times New Roman',size=15)\n",
        "plt.title('Stacked LSTM - Training set',family='Times New Roman')\n",
        "#plt.text(-100,-1,df['Timestamp'][0],family='Times New Roman',fontweight='bold',size=17)\n",
        "#plt.text(len(predict_result),405,'Too High ( Glucose value 400 + )',family='Times New Roman',size=15)\n",
        "\n",
        "plt.text(-50,-1,df['Timestamp'][0],family='Times New Roman',fontweight='bold',size=17)\n",
        "plt.text(len(predict_result)-100,-1,df['Timestamp'][len(df['Timestamp'])-1],family='Times New Roman',fontweight='bold',size=17)\n",
        "\n",
        "plt.legend(loc='best')\n",
        "plt.show()"
      ],
      "execution_count": null,
      "outputs": []
    },
    {
      "cell_type": "markdown",
      "metadata": {
        "id": "OOydYmttq9rr"
      },
      "source": [
        "### GRU - 60분"
      ]
    },
    {
      "cell_type": "code",
      "metadata": {
        "colab": {
          "background_save": true
        },
        "id": "XhxGrsfXq9rr"
      },
      "source": [
        "# 재현 가능한 결과를 만들기 위해 \n",
        "# 매번 반복해야 하는 작업 \n",
        "seed_num = 42\n",
        "random.seed(seed_num)\n",
        "np.random.seed(seed_num)\n",
        "tf.random.set_seed(seed_num)\n",
        "\n",
        "session_conf = tf.compat.v1.ConfigProto(intra_op_parallelism_threads=1,\n",
        "                             inter_op_parallelism_threads=1)\n",
        "sess=tf.compat.v1.Session(graph=tf.compat.v1.get_default_graph(),config=session_conf)\n",
        "K.set_session(sess)"
      ],
      "execution_count": null,
      "outputs": []
    },
    {
      "cell_type": "code",
      "metadata": {
        "colab": {
          "background_save": true
        },
        "id": "geBbi79Mq9rr"
      },
      "source": [
        "from keras.layers import GRU\n",
        "model = Sequential()\n",
        "model.add(GRU(50,activation='relu',input_shape=x_train_uni.shape[-2:]))\n",
        "model.add(Dense(1))\n",
        "model.compile(optimizer='adam',loss='mse',metrics=['accuracy'])"
      ],
      "execution_count": null,
      "outputs": []
    },
    {
      "cell_type": "code",
      "metadata": {
        "colab": {
          "background_save": true
        },
        "id": "yWtQ4RmEq9rr"
      },
      "source": [
        "model.summary()\n",
        "\n",
        "model.fit(x_train_uni,y_train_uni,epochs=300,verbose=0)\n",
        "\n",
        "K.clear_session()"
      ],
      "execution_count": null,
      "outputs": []
    },
    {
      "cell_type": "code",
      "metadata": {
        "colab": {
          "background_save": true
        },
        "id": "VC51WPqPq9rs"
      },
      "source": [
        "val_gru_60_predict_result = model.predict(x_val_uni,verbose=0)\n",
        "predict_result = model.predict(x_val_uni,verbose=0)\n",
        "\n",
        "for i in range(len(predict_result)):\n",
        "    if predict_result[i] >= 400: \n",
        "        predict_result[i]=400\n",
        "\n",
        "#predict_result\n",
        "\n",
        "#predict_result\n",
        "\n",
        "\n",
        "print('GRU - RMSE 60min : ',RMSE(y_val_uni_origin,predict_result))\n",
        "val_gru_60 = RMSE(y_val_uni_origin,predict_result)\n",
        "# 상한선 400일 때 RMSE - 38.30 \n",
        "# 상한선 400 X - 38.63"
      ],
      "execution_count": null,
      "outputs": []
    },
    {
      "cell_type": "markdown",
      "metadata": {
        "id": "CAwvwvFkq9rs"
      },
      "source": [
        "#### 잔차"
      ]
    },
    {
      "cell_type": "code",
      "metadata": {
        "colab": {
          "background_save": true
        },
        "id": "RfrO7fzqq9rs"
      },
      "source": [
        "residuals = [y_val_uni[i]-predict_result[i] for i in range(len(predict_result))]\n",
        "residuals = y_val_uni - predict_result.reshape(-1)\n",
        "probplot(residuals,dist=\"norm\",plot=plt)\n",
        "plt.title(\"GRU Q-Q Plot\")"
      ],
      "execution_count": null,
      "outputs": []
    },
    {
      "cell_type": "markdown",
      "metadata": {
        "id": "DVJ7-xclq9rs"
      },
      "source": [
        "#### Validation"
      ]
    },
    {
      "cell_type": "code",
      "metadata": {
        "colab": {
          "background_save": true
        },
        "id": "6W5a4bqBq9rs"
      },
      "source": [
        "# 테스트셋\n",
        "plt.figure(figsize=(12,9))\n",
        "plt.plot(y_val_uni_origin,label='actual')\n",
        "plt.plot(predict_result,label='prediction')\n",
        "plt.axhline(y=70,c='r',linestyle='--',linewidth=1)\n",
        "plt.axhline(y=180,c='r',linestyle='--',linewidth=1)\n",
        "plt.axhline(y=400,c='r',linestyle='--',linewidth=1)\n",
        "plt.text(len(predict_result),75,'Hypoglycemic Threshold',family='Times New Roman',size=15)\n",
        "plt.text(len(predict_result),185,'Hyperglycemic Threshold',family='Times New Roman',size=15)\n",
        "#plt.text(len(predict_result),75,'Hypoglycemic Threshold',family='Times New Roman',size=15)\n",
        "plt.text(-50,-1,df['Timestamp'][TRAIN_SPLIT],family='Times New Roman',fontweight='bold',size=17)\n",
        "plt.text(len(df['Timestamp'])-TRAIN_SPLIT-10,-1,df['Timestamp'][len(df['Timestamp'])-1],family='Times New Roman',fontweight='bold',size=17)\n",
        "plt.text(len(predict_result),405,'Too High ( Glucose value 400 + )',family='Times New Roman',size=15)\n",
        "plt.title('GRU - Validation set (60min)',family='Times New Roman')\n",
        "plt.legend(loc='best')\n",
        "\n",
        "plt.show()"
      ],
      "execution_count": null,
      "outputs": []
    },
    {
      "cell_type": "code",
      "metadata": {
        "colab": {
          "background_save": true
        },
        "id": "QdUBojBDq9rt"
      },
      "source": [
        "# 트레이닝셋 RMSE 계산 \n",
        "predict_result = model.predict(x_train_uni,verbose=0)\n",
        "# 예측값 상한선 = 400 \n",
        "for i in range(len(predict_result)):\n",
        "    if predict_result[i] >= 400: \n",
        "        predict_result[i]=400\n",
        "print(' Training set / GRU - RMSE (60min) Training set : ',RMSE(y_train_uni_origin,predict_result))\n",
        "train_gru_60 =RMSE(y_train_uni_origin,predict_result)"
      ],
      "execution_count": null,
      "outputs": []
    },
    {
      "cell_type": "markdown",
      "metadata": {
        "id": "3JV9hsNfq9rt"
      },
      "source": [
        "#### Train"
      ]
    },
    {
      "cell_type": "code",
      "metadata": {
        "colab": {
          "background_save": true
        },
        "id": "MDoYUVMQq9rt"
      },
      "source": [
        "# 트레이닝셋\n",
        "plt.figure(figsize=(12,9))\n",
        "plt.plot(y_train_uni_origin,label='actual')\n",
        "plt.plot(predict_result,label='prediction')\n",
        "plt.axhline(y=70,c='r',linestyle='--',linewidth=1)\n",
        "plt.axhline(y=180,c='r',linestyle='--',linewidth=1)\n",
        "plt.axhline(y=400,c='r',linestyle='--',linewidth=1)\n",
        "plt.text(len(predict_result),185,'Hyperglycemic Threshold',family='Times New Roman',size=15)\n",
        "#plt.text(len(predict_result),75,'Hypoglycemic Threshold',family='Times New Roman',size=15)\n",
        "plt.text(len(predict_result),75,'Hypoglycemic Threshold',family='Times New Roman',size=15)\n",
        "plt.text(len(predict_result),405,'Too High ( Glucose value 400 + )',family='Times New Roman',size=15)\n",
        "plt.title('GRU - Training set (60min)',family='Times New Roman')\n",
        "#plt.text(-100,-1,df['Timestamp'][0],family='Times New Roman',fontweight='bold',size=17)\n",
        "#plt.text(len(predict_result),405,'Too High ( Glucose value 400 + )',family='Times New Roman',size=15)\n",
        "\n",
        "plt.text(-50,-1,df['Timestamp'][0],family='Times New Roman',fontweight='bold',size=17)\n",
        "plt.text(len(predict_result)-100,-1,df['Timestamp'][len(df['Timestamp'])-1],family='Times New Roman',fontweight='bold',size=17)\n",
        "\n",
        "plt.legend(loc='best')\n",
        "plt.show()"
      ],
      "execution_count": null,
      "outputs": []
    },
    {
      "cell_type": "markdown",
      "metadata": {
        "id": "Y_8ua0_pHqRz"
      },
      "source": [
        "### GA"
      ]
    },
    {
      "cell_type": "code",
      "metadata": {
        "colab": {
          "background_save": true
        },
        "id": "JJ6yewwOH9Rx"
      },
      "source": [
        "val_rnn_60_predict_result = np.asarray(val_rnn_60_predict_result)\n",
        "val_lstm_60_predict_result = np.asarray(val_lstm_60_predict_result)\n",
        "val_slstm_60_predict_result = np.asarray(val_slstm_60_predict_result)\n",
        "val_bilstm_60_predict_result = np.asarray(val_bilstm_60_predict_result)\n",
        "val_gru_60_predict_result = np.asarray(val_gru_60_predict_result)"
      ],
      "execution_count": null,
      "outputs": []
    },
    {
      "cell_type": "code",
      "metadata": {
        "colab": {
          "background_save": true
        },
        "id": "5NAuPrwjH9WL"
      },
      "source": [
        ""
      ],
      "execution_count": null,
      "outputs": []
    },
    {
      "cell_type": "code",
      "metadata": {
        "colab": {
          "background_save": true
        },
        "id": "KaEbzEJYHtm8"
      },
      "source": [
        "def evaluate2(X):\n",
        "  pen = 0 \n",
        "  #coef = [0,0,0,0,0]\n",
        "  ab=0\n",
        "  result =0\n",
        "  #result2 = 0\n",
        "  #print(X)\n",
        "  if sum(X) > 0.99 and sum(X) < 1:\n",
        "    #print(\"\\n ** Count ** \")\n",
        "    #print(count)\n",
        "    #sum(coef)\n",
        "    #pen = 2000 - sum(list1 * coef[0] + list2 * coef[1] + # 400 = 혈당측정기에서 수집한 EGV의 최댓값이 400\n",
        "    #             list3 * coef[2] + list4 * coef[3] +\n",
        "    #             list5 * coef[4])\n",
        "    #RMSE(y_val_uni_origin,predict_result)\n",
        "    #result = mean_squared_error((y_val_uni_origin,(val_rnn_30_predict_result * X[0] + val_lstm_30_predict_result * X[1] +\n",
        "    #             val_slstm_30_predict_result * X[2] + val_bilstm_30_predict_result * X[3] +\n",
        "    #             val_gru_30_predict_result * X[4]))**0.5)\n",
        "   # ab = val_rnn_30_predict_result * X[0] + val_lstm_30_predict_result * X[1] +val_slstm_30_predict_result * X[2] + val_bilstm_30_predict_result * X[3] + val_gru_30_predict_result * X[4]\n",
        "   # print(\"\\n ** A ** \\n\")\n",
        "   # print(ab.shape)\n",
        "    result = 100 - np.sqrt(mean_squared_error(val_rnn_60_predict_result * X[0] + val_lstm_60_predict_result * X[1] +val_slstm_60_predict_result * X[2] + \n",
        "                                val_bilstm_60_predict_result * X[3] + val_gru_60_predict_result * X[4],y_val_uni_origin))\n",
        "    \n",
        "    #result = 10 - mean_squared_error(y_val_uni_origin,abc) / test_result \n",
        "    #result2=(test_result*5) - np.sqrt(result)\n",
        "    #test_result =  mean_squared_error(y_val_uni_origin,ex)\n",
        "    #test_result\n",
        "\n",
        "    #pen = RMSE(y_val_uni_origin,result)\n",
        "    #pen = 200 - np.sqrt(y_val_uni_origin,(val_rnn_15_predict_result * (X[0] / 10000) + val_lstm_15_predict_result * (X[1] / 10000) +\n",
        "    #             val_slstm_15_predict_result * (X[2] / 10000) + val_bilstm_15_predict_result * (X[3] / 10000) +\n",
        "    #             val_gru_15_predict_result * (X[4] / 10000)))\n",
        "    # np.sqrt(mean_squared_error(y_test,y_predict))\n",
        "    print(\"\\n ** B ** \\n\")\n",
        "    print(X)\n",
        "    #print()\n",
        "    print(\"\\n ** C ** \\n\")\n",
        "    print(result)\n",
        "  #return np.sum(X) + pen\n",
        "    #count += 1 \n",
        "  return -result\n",
        "    \n",
        "    "
      ],
      "execution_count": null,
      "outputs": []
    },
    {
      "cell_type": "code",
      "metadata": {
        "colab": {
          "background_save": true
        },
        "id": "Xv1bX4rgH3tU"
      },
      "source": [
        "varbound2 = np.array([[0.05, 0.5]]*5)"
      ],
      "execution_count": null,
      "outputs": []
    },
    {
      "cell_type": "code",
      "metadata": {
        "colab": {
          "background_save": true
        },
        "id": "mQFJSEV8H3tV"
      },
      "source": [
        "algorithm_param = {'max_num_iteration': 25000,\n",
        "                   'population_size':100,\n",
        "                   'mutation_probability':0.1,\n",
        "                   'elit_ratio': 0.01,\n",
        "                   'crossover_probability': 0.5,\n",
        "                   'parents_portion': 0.3,\n",
        "                   'crossover_type':'uniform',\n",
        "                   'selection_type': 'roulette',\n",
        "                   'max_iteration_without_improv':None}"
      ],
      "execution_count": null,
      "outputs": []
    },
    {
      "cell_type": "code",
      "metadata": {
        "colab": {
          "background_save": true
        },
        "id": "-PwFqBRtIHmN"
      },
      "source": [
        "model3 = ga(function = evaluate2, dimension = 5, variable_type='real',variable_boundaries=varbound2,algorithm_parameters = algorithm_param)"
      ],
      "execution_count": null,
      "outputs": []
    },
    {
      "cell_type": "code",
      "metadata": {
        "colab": {
          "background_save": true
        },
        "id": "tK6vEoKFIIPL"
      },
      "source": [
        "model3.run()"
      ],
      "execution_count": null,
      "outputs": []
    },
    {
      "cell_type": "code",
      "metadata": {
        "colab": {
          "background_save": true
        },
        "id": "COPssVoYIS9D"
      },
      "source": [
        "# RMSE \n",
        "optimized = val_rnn_60_predict_result * model3.output_dict['variable'][0] + val_lstm_60_predict_result *model3.output_dict['variable'][1] + val_slstm_60_predict_result * model3.output_dict['variable'][2] + val_bilstm_60_predict_result * model3.output_dict['variable'][3] + val_gru_60_predict_result * model3.output_dict['variable'][4]\n",
        "optimized_rmse_60 =  RMSE(y_val_uni_origin,optimized)\n",
        "optimized_rmse_60"
      ],
      "execution_count": null,
      "outputs": []
    },
    {
      "cell_type": "code",
      "metadata": {
        "colab": {
          "background_save": true
        },
        "id": "ZUTW2VZsJfa8"
      },
      "source": [
        "# 트레이닝셋\n",
        "plt.figure(figsize=(12,9))\n",
        "plt.plot(y_val_uni_origin,label='actual')\n",
        "plt.plot(optimized,label='prediction')\n",
        "plt.axhline(y=70,c='r',linestyle='--',linewidth=1)\n",
        "plt.axhline(y=180,c='r',linestyle='--',linewidth=1)\n",
        "plt.axhline(y=400,c='r',linestyle='--',linewidth=1)\n",
        "plt.text(len(y_val_uni_origin),185,'Hyperglycemic Threshold',family='Times New Roman',size=15)\n",
        "#plt.text(len(predict_result),75,'Hypoglycemic Threshold',family='Times New Roman',size=15)\n",
        "plt.text(len(y_val_uni_origin),75,'Hypoglycemic Threshold',family='Times New Roman',size=15)\n",
        "plt.text(len(y_val_uni_origin),405,'Too High ( Glucose value 400 + )',family='Times New Roman',size=15)\n",
        "plt.title('Optimized',family='Times New Roman')\n",
        "#plt.text(-100,-1,df['Timestamp'][0],family='Times New Roman',fontweight='bold',size=17)\n",
        "#plt.text(len(predict_result),405,'Too High ( Glucose value 400 + )',family='Times New Roman',size=15)\n",
        "\n",
        "plt.text(-50,-1,df['Timestamp'][0],family='Times New Roman',fontweight='bold',size=17)\n",
        "plt.text(len(y_val_uni_origin)-100,-1,df['Timestamp'][len(df['Timestamp'])-1],family='Times New Roman',fontweight='bold',size=17)\n",
        "\n",
        "plt.legend(loc='best')\n",
        "plt.show()"
      ],
      "execution_count": null,
      "outputs": []
    },
    {
      "cell_type": "markdown",
      "metadata": {
        "id": "68qcpKT5oZsh"
      },
      "source": [
        "#### GA_Residual"
      ]
    },
    {
      "cell_type": "code",
      "metadata": {
        "id": "XIG-Y0usobNM"
      },
      "source": [
        "# Make a new dataframe of your prediction values\n",
        "df_new = pd.DataFrame(df['Glucose'])\n",
        "df_new.columns = ['rawseq']\n",
        "\n",
        "# Retrieve index values\n",
        "new_index = df_new['rawseq'].tail(len(optimized)).index\n",
        "\n",
        "# Make a dataframe with your prediction values and your index\n",
        "new_series = pd.DataFrame(index = new_index, data = optimized)\n",
        "\n",
        "# Merge the dataframes\n",
        "df_new = pd.merge(df_new, new_series, how = 'left', left_index=True, right_index=True)\n",
        "df_new.columns = ['rawseq', 'optimized']\n",
        "\n",
        "# And plot it\n",
        "import matplotlib.pyplot as plt\n",
        "plt.figure(figsize=(15,8))\n",
        "\n",
        "plt.axhline(y=70,c='r',linestyle='--',linewidth=1)\n",
        "plt.axhline(y=180,c='r',linestyle='--',linewidth=1)\n",
        "\n",
        "plt.axhline(y=400,c='r',linestyle='--',linewidth=1)\n",
        "plt.text(len(raw_seq),185,'Hyperglycemic Threshold',family='Times New Roman',size=15)\n",
        "plt.text(len(raw_seq),75,'Hypoglycemic Threshold',family='Times New Roman',size=15)\n",
        "plt.text(len(raw_seq),405,'Too High ( Glucose value 400 + )',family='Times New Roman',size=15)\n",
        "plt.title('Optimized - 60min',family='Times New Roman')\n",
        "plt.plot(df_new['rawseq'],label='actual',linewidth=2)\n",
        "plt.plot(df_new['optimized'], label='predicted',linewidth=2)\n",
        "plt.legend(loc='best')\n",
        "plt.show()"
      ],
      "execution_count": null,
      "outputs": []
    },
    {
      "cell_type": "code",
      "metadata": {
        "id": "VOBkbAHzodxQ"
      },
      "source": [
        "residuals = [y_val_uni_origin[i]-optimized[i] for i in range(len(optimized))]\n",
        "residuals = y_val_uni_origin - optimized.reshape(-1)\n",
        "probplot(residuals,dist=\"norm\",plot=plt)\n",
        "plt.title(\"60Min GA Normal Q-Q Plot\")"
      ],
      "execution_count": null,
      "outputs": []
    },
    {
      "cell_type": "code",
      "metadata": {
        "id": "640ZK9ZqofVZ"
      },
      "source": [
        "probplot(residuals,dist=\"norm\",plot=plt)\n",
        "plt.title(\"60Min GA Normal Q-Q Plot\")"
      ],
      "execution_count": null,
      "outputs": []
    },
    {
      "cell_type": "code",
      "metadata": {
        "id": "VtOCZRiDoh0r"
      },
      "source": [
        "residuals=DataFrame(residuals)"
      ],
      "execution_count": null,
      "outputs": []
    },
    {
      "cell_type": "code",
      "metadata": {
        "id": "UEgowncuojuF"
      },
      "source": [
        "residuals.plot()"
      ],
      "execution_count": null,
      "outputs": []
    },
    {
      "cell_type": "code",
      "metadata": {
        "id": "WpLczoA1olvF"
      },
      "source": [
        "\n",
        "residuals.hist()"
      ],
      "execution_count": null,
      "outputs": []
    },
    {
      "cell_type": "code",
      "metadata": {
        "id": "Qwf9Hsmmonpe"
      },
      "source": [
        "residuals.plot(kind='kde')"
      ],
      "execution_count": null,
      "outputs": []
    },
    {
      "cell_type": "code",
      "metadata": {
        "id": "zUyvUaEwopC0"
      },
      "source": [
        "from statsmodels.graphics.gofplots import qqplot\n",
        "residuals=np.array(residuals)\n",
        "qqplot(residuals)"
      ],
      "execution_count": null,
      "outputs": []
    },
    {
      "cell_type": "markdown",
      "metadata": {
        "id": "H8Ve3n0Dq9rt"
      },
      "source": [
        "## 결과"
      ]
    },
    {
      "cell_type": "code",
      "metadata": {
        "colab": {
          "background_save": true
        },
        "id": "wyvpGxYgq9ru"
      },
      "source": [
        "train_15_result = [train_rnn_15,train_lstm_15,train_stacklstm_15,train_bilstm_15,train_gru_15]\n",
        "val_15_result =[val_rnn_15,val_lstm_15,val_stacklstm_15,val_bilstm_15,val_gru_15,optimized_rmse_15]\n",
        "train_30_result = [train_rnn_30,train_lstm_30,train_stacklstm_30,train_bilstm_30,train_gru_30]\n",
        "val_30_result =[val_rnn_30,val_lstm_30,val_stacklstm_30,val_bilstm_30,val_gru_30,optimized_rmse_30]\n",
        "train_60_result = [train_rnn_60,train_lstm_60,train_stacklstm_60,train_bilstm_60,train_gru_60]\n",
        "val_60_result =[val_rnn_60,val_lstm_60,val_stacklstm_60,val_bilstm_60,val_gru_60,optimized_rmse_60]\n"
      ],
      "execution_count": null,
      "outputs": []
    },
    {
      "cell_type": "code",
      "metadata": {
        "colab": {
          "background_save": true
        },
        "id": "yngdECHaq9ru"
      },
      "source": [
        "val_rnn_result = [val_rnn_15,val_rnn_30,val_rnn_60]\n",
        "val_lstm_result = [val_lstm_15,val_lstm_30,val_lstm_60]\n",
        "val_stacklstm_result = [val_stacklstm_15,val_stacklstm_30,val_stacklstm_60]\n",
        "val_bilstm_result = [val_bilstm_15,val_bilstm_30,val_bilstm_60]\n",
        "val_gru_result = [val_gru_15,val_gru_30,val_gru_60]\n",
        "val_optimized_result = [optimized_rmse_15,optimized_rmse_30,optimized_rmse_60]"
      ],
      "execution_count": null,
      "outputs": []
    },
    {
      "cell_type": "code",
      "metadata": {
        "colab": {
          "background_save": true
        },
        "id": "j96afBi_KOsh"
      },
      "source": [
        ""
      ],
      "execution_count": null,
      "outputs": []
    },
    {
      "cell_type": "code",
      "metadata": {
        "colab": {
          "background_save": true
        },
        "id": "T7NLRT-wq9ru"
      },
      "source": [
        "train_rnn_result = [train_rnn_15,train_rnn_30,train_rnn_60]\n",
        "train_lstm_result = [train_lstm_15,train_lstm_30,train_lstm_60]\n",
        "train_stacklstm_result = [train_stacklstm_15,train_stacklstm_30,train_stacklstm_60]\n",
        "train_bilstm_result = [train_bilstm_15,train_bilstm_30,train_bilstm_60]\n",
        "train_gru_result = [train_gru_15,train_gru_30,train_gru_60]"
      ],
      "execution_count": null,
      "outputs": []
    },
    {
      "cell_type": "code",
      "metadata": {
        "colab": {
          "background_save": true
        },
        "id": "f3AX6jvxq9ru"
      },
      "source": [
        "train_result_list =[train_rnn_result,train_lstm_result,train_stacklstm_result,train_bilstm_result,train_gru_result,]"
      ],
      "execution_count": null,
      "outputs": []
    },
    {
      "cell_type": "code",
      "metadata": {
        "colab": {
          "background_save": true
        },
        "id": "pp-QjlWIq9ru"
      },
      "source": [
        "val_result_list =[val_rnn_result,val_lstm_result,val_stacklstm_result,val_bilstm_result,val_gru_result,val_optimized_result]"
      ],
      "execution_count": null,
      "outputs": []
    },
    {
      "cell_type": "code",
      "metadata": {
        "colab": {
          "background_save": true
        },
        "id": "jKhrAPTiq9ru"
      },
      "source": [
        "val_result_list"
      ],
      "execution_count": null,
      "outputs": []
    },
    {
      "cell_type": "code",
      "metadata": {
        "colab": {
          "background_save": true
        },
        "id": "f5SU4ESjq9rv"
      },
      "source": [
        "val_df = pd.DataFrame(index=['RNN','LSTM','Stacked LSTM','Bidirectional LSTM','GRU','Optimized'], \n",
        "                      columns =['15 MIN','30 MIN','60 MIN'],data=val_result_list)\n",
        "val_df"
      ],
      "execution_count": null,
      "outputs": []
    },
    {
      "cell_type": "code",
      "metadata": {
        "colab": {
          "background_save": true
        },
        "id": "NyO53o9mq9rv"
      },
      "source": [
        "train_df = pd.DataFrame(index=['RNN','LSTM','Stacked LSTM','Bidirectional LSTM','GRU'], \n",
        "                      columns =['15 MIN','30 MIN','60 MIN'],data=train_result_list)\n",
        "train_df"
      ],
      "execution_count": null,
      "outputs": []
    },
    {
      "cell_type": "code",
      "metadata": {
        "colab": {
          "background_save": true
        },
        "id": "xOpmpgZDq9rv"
      },
      "source": [
        ""
      ],
      "execution_count": null,
      "outputs": []
    },
    {
      "cell_type": "markdown",
      "metadata": {
        "id": "QqLHHMabq9rv"
      },
      "source": [
        "## CNN LSTM"
      ]
    },
    {
      "cell_type": "code",
      "metadata": {
        "colab": {
          "background_save": true
        },
        "id": "rUevG7p-q9rv"
      },
      "source": [
        ""
      ],
      "execution_count": null,
      "outputs": []
    }
  ]
}